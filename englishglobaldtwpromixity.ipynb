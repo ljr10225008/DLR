{
 "cells": [
  {
   "cell_type": "code",
   "execution_count": 1,
   "metadata": {},
   "outputs": [
    {
     "name": "stderr",
     "output_type": "stream",
     "text": [
      "C:\\Users\\ljr\\anaconda3\\lib\\site-packages\\pandas\\core\\computation\\expressions.py:20: UserWarning: Pandas requires version '2.7.3' or newer of 'numexpr' (version '2.7.1' currently installed).\n",
      "  from pandas.core.computation.check import NUMEXPR_INSTALLED\n"
     ]
    }
   ],
   "source": [
    "import math\n",
    "import numpy as np\n",
    "import sklearn\n",
    "from sklearn.cluster import KMeans\n",
    "import matplotlib as mpl\n",
    "import matplotlib.pyplot as plt\n",
    "import librosa\n",
    "import librosa.display\n",
    "import os\n",
    "import re\n",
    "import seaborn as sns\n",
    "import pandas as pd\n",
    "import random\n",
    "from scipy import stats  #t-test\n",
    "from scipy.spatial.distance import euclidean\n",
    "from fastdtw import fastdtw\n",
    "from scipy.interpolate import interp1d\n",
    "from itertools import groupby"
   ]
  },
  {
   "cell_type": "code",
   "execution_count": 2,
   "metadata": {},
   "outputs": [],
   "source": [
    "pathturn11 = r\"C:\\LJR\\babylab\\English\\cut\\high\\5134\\turntaking\\block\\fa\\turn1\"\n",
    "filesturn11= os.listdir(pathturn11)\n",
    "pathturn12 = r\"C:\\LJR\\babylab\\English\\cut\\high\\5134\\turntaking\\block\\fa\\turn2\"\n",
    "filesturn12= os.listdir(pathturn12)\n",
    "pathturn13 = r\"C:\\LJR\\babylab\\English\\cut\\high\\5134\\turntaking\\block\\fa\\turn3\"\n",
    "filesturn13= os.listdir(pathturn13)\n",
    "pathturn14 = r\"C:\\LJR\\babylab\\English\\cut\\high\\5134\\turntaking\\block\\fa\\turn4\"\n",
    "filesturn14= os.listdir(pathturn14)\n",
    "pathturn15 = r\"C:\\LJR\\babylab\\English\\cut\\high\\5134\\turntaking\\block\\fa\\turn5\"\n",
    "filesturn15= os.listdir(pathturn15)\n",
    "pathturn16 = r\"C:\\LJR\\babylab\\English\\cut\\high\\5134\\turntaking\\block\\fa\\turn6\"\n",
    "filesturn16= os.listdir(pathturn16)\n",
    "pathturn17 = r\"C:\\LJR\\babylab\\English\\cut\\high\\5134\\turntaking\\block\\fa\\turn7\"\n",
    "filesturn17= os.listdir(pathturn17)\n",
    "pathturn18 = r\"C:\\LJR\\babylab\\English\\cut\\high\\5134\\turntaking\\block\\fa\\turn8\"\n",
    "filesturn18= os.listdir(pathturn18)\n",
    "pathturn19 = r\"C:\\LJR\\babylab\\English\\cut\\high\\5134\\turntaking\\block\\fa\\turn9\"\n",
    "filesturn19= os.listdir(pathturn19)\n",
    "pathturn110 = r\"C:\\LJR\\babylab\\English\\cut\\high\\5134\\turntaking\\block\\fa\\turn10\"\n",
    "filesturn110= os.listdir(pathturn110)\n",
    "\n",
    "pathturn11c = r\"C:\\LJR\\babylab\\English\\cut\\high\\5134\\turntaking\\block\\chi\\turn1\"\n",
    "filesturn11c= os.listdir(pathturn11c)\n",
    "pathturn12c = r\"C:\\LJR\\babylab\\English\\cut\\high\\5134\\turntaking\\block\\chi\\turn2\"\n",
    "filesturn12c= os.listdir(pathturn12c)\n",
    "pathturn13c = r\"C:\\LJR\\babylab\\English\\cut\\high\\5134\\turntaking\\block\\chi\\turn3\"\n",
    "filesturn13c= os.listdir(pathturn13c)\n",
    "pathturn14c = r\"C:\\LJR\\babylab\\English\\cut\\high\\5134\\turntaking\\block\\chi\\turn4\"\n",
    "filesturn14c= os.listdir(pathturn14c)\n",
    "pathturn15c = r\"C:\\LJR\\babylab\\English\\cut\\high\\5134\\turntaking\\block\\chi\\turn5\"\n",
    "filesturn15c= os.listdir(pathturn15c)\n",
    "pathturn16c = r\"C:\\LJR\\babylab\\English\\cut\\high\\5134\\turntaking\\block\\chi\\turn6\"\n",
    "filesturn16c= os.listdir(pathturn16c)\n",
    "pathturn17c = r\"C:\\LJR\\babylab\\English\\cut\\high\\5134\\turntaking\\block\\chi\\turn7\"\n",
    "filesturn17c= os.listdir(pathturn17c)\n",
    "pathturn18c = r\"C:\\LJR\\babylab\\English\\cut\\high\\5134\\turntaking\\block\\chi\\turn8\"\n",
    "filesturn18c= os.listdir(pathturn18c)\n",
    "pathturn19c = r\"C:\\LJR\\babylab\\English\\cut\\high\\5134\\turntaking\\block\\chi\\turn9\"\n",
    "filesturn19c= os.listdir(pathturn19c)\n",
    "pathturn110c = r\"C:\\LJR\\babylab\\English\\cut\\high\\5134\\turntaking\\block\\chi\\turn10\"\n",
    "filesturn110c= os.listdir(pathturn110c)"
   ]
  },
  {
   "cell_type": "code",
   "execution_count": 3,
   "metadata": {},
   "outputs": [],
   "source": [
    "pathturn111 = r\"C:\\LJR\\babylab\\English\\cut\\high\\5134\\turntaking\\block\\fa\\turn11\"\n",
    "filesturn111= os.listdir(pathturn111)\n",
    "pathturn112 = r\"C:\\LJR\\babylab\\English\\cut\\high\\5134\\turntaking\\block\\fa\\turn12\"\n",
    "filesturn112= os.listdir(pathturn112)\n",
    "pathturn113 = r\"C:\\LJR\\babylab\\English\\cut\\high\\5134\\turntaking\\block\\fa\\turn13\"\n",
    "filesturn113= os.listdir(pathturn113)\n",
    "pathturn114 = r\"C:\\LJR\\babylab\\English\\cut\\high\\5134\\turntaking\\block\\fa\\turn14\"\n",
    "filesturn114= os.listdir(pathturn114)\n",
    "pathturn115 = r\"C:\\LJR\\babylab\\English\\cut\\high\\5134\\turntaking\\block\\fa\\turn15\"\n",
    "filesturn115= os.listdir(pathturn115)\n",
    "pathturn116 = r\"C:\\LJR\\babylab\\English\\cut\\high\\5134\\turntaking\\block\\fa\\turn16\"\n",
    "filesturn116= os.listdir(pathturn116)\n",
    "pathturn117 = r\"C:\\LJR\\babylab\\English\\cut\\high\\5134\\turntaking\\block\\fa\\turn17\"\n",
    "filesturn117= os.listdir(pathturn117)\n",
    "pathturn118 = r\"C:\\LJR\\babylab\\English\\cut\\high\\5134\\turntaking\\block\\fa\\turn18\"\n",
    "filesturn118= os.listdir(pathturn118)\n",
    "pathturn119 = r\"C:\\LJR\\babylab\\English\\cut\\high\\5134\\turntaking\\block\\fa\\turn19\"\n",
    "filesturn119= os.listdir(pathturn119)\n",
    "pathturn120 = r\"C:\\LJR\\babylab\\English\\cut\\high\\5134\\turntaking\\block\\fa\\turn20\"\n",
    "filesturn120= os.listdir(pathturn120)\n",
    "pathturn121 = r\"C:\\LJR\\babylab\\English\\cut\\high\\5134\\turntaking\\block\\fa\\turn21\"\n",
    "filesturn121= os.listdir(pathturn121)\n",
    "pathturn122 = r\"C:\\LJR\\babylab\\English\\cut\\high\\5134\\turntaking\\block\\fa\\turn22\"\n",
    "filesturn122= os.listdir(pathturn122)\n",
    "pathturn123 = r\"C:\\LJR\\babylab\\English\\cut\\high\\5134\\turntaking\\block\\fa\\turn23\"\n",
    "filesturn123= os.listdir(pathturn123)\n",
    "pathturn124 = r\"C:\\LJR\\babylab\\English\\cut\\high\\5134\\turntaking\\block\\fa\\turn24\"\n",
    "filesturn124= os.listdir(pathturn124)\n",
    "\n",
    "\n",
    "pathturn111c = r\"C:\\LJR\\babylab\\English\\cut\\high\\5134\\turntaking\\block\\chi\\turn11\"\n",
    "filesturn111c= os.listdir(pathturn111c)\n",
    "pathturn112c = r\"C:\\LJR\\babylab\\English\\cut\\high\\5134\\turntaking\\block\\chi\\turn12\"\n",
    "filesturn112c= os.listdir(pathturn112c)\n",
    "pathturn113c = r\"C:\\LJR\\babylab\\English\\cut\\high\\5134\\turntaking\\block\\chi\\turn13\"\n",
    "filesturn113c= os.listdir(pathturn113c)\n",
    "pathturn114c = r\"C:\\LJR\\babylab\\English\\cut\\high\\5134\\turntaking\\block\\chi\\turn14\"\n",
    "filesturn114c= os.listdir(pathturn114c)\n",
    "pathturn115c = r\"C:\\LJR\\babylab\\English\\cut\\high\\5134\\turntaking\\block\\chi\\turn15\"\n",
    "filesturn115c= os.listdir(pathturn115c)\n",
    "pathturn116c = r\"C:\\LJR\\babylab\\English\\cut\\high\\5134\\turntaking\\block\\chi\\turn16\"\n",
    "filesturn116c= os.listdir(pathturn116c)\n",
    "pathturn117c = r\"C:\\LJR\\babylab\\English\\cut\\high\\5134\\turntaking\\block\\chi\\turn17\"\n",
    "filesturn117c= os.listdir(pathturn117c)\n",
    "pathturn118c = r\"C:\\LJR\\babylab\\English\\cut\\high\\5134\\turntaking\\block\\chi\\turn18\"\n",
    "filesturn118c= os.listdir(pathturn118c)\n",
    "pathturn119c = r\"C:\\LJR\\babylab\\English\\cut\\high\\5134\\turntaking\\block\\chi\\turn19\"\n",
    "filesturn119c= os.listdir(pathturn119c)\n",
    "pathturn120c = r\"C:\\LJR\\babylab\\English\\cut\\high\\5134\\turntaking\\block\\chi\\turn20\"\n",
    "filesturn120c= os.listdir(pathturn120c)\n",
    "pathturn121c = r\"C:\\LJR\\babylab\\English\\cut\\high\\5134\\turntaking\\block\\chi\\turn21\"\n",
    "filesturn121c= os.listdir(pathturn121c)\n",
    "pathturn122c = r\"C:\\LJR\\babylab\\English\\cut\\high\\5134\\turntaking\\block\\chi\\turn22\"\n",
    "filesturn122c= os.listdir(pathturn122c)\n",
    "pathturn123c = r\"C:\\LJR\\babylab\\English\\cut\\high\\5134\\turntaking\\block\\chi\\turn23\"\n",
    "filesturn123c= os.listdir(pathturn123c)\n",
    "pathturn124c = r\"C:\\LJR\\babylab\\English\\cut\\high\\5134\\turntaking\\block\\chi\\turn24\"\n",
    "filesturn124c= os.listdir(pathturn124c)"
   ]
  },
  {
   "cell_type": "code",
   "execution_count": 4,
   "metadata": {},
   "outputs": [],
   "source": [
    "pathturn21 = r\"C:\\LJR\\babylab\\English\\cut\\high\\6045\\turntaking\\block\\fa\\turn1\"\n",
    "filesturn21= os.listdir(pathturn21)\n",
    "pathturn22 = r\"C:\\LJR\\babylab\\English\\cut\\high\\6045\\turntaking\\block\\fa\\turn2\"\n",
    "filesturn22= os.listdir(pathturn22)\n",
    "pathturn23 = r\"C:\\LJR\\babylab\\English\\cut\\high\\6045\\turntaking\\block\\fa\\turn3\"\n",
    "filesturn23= os.listdir(pathturn23)\n",
    "pathturn24 = r\"C:\\LJR\\babylab\\English\\cut\\high\\6045\\turntaking\\block\\fa\\turn4\"\n",
    "filesturn24= os.listdir(pathturn24)\n",
    "pathturn25 = r\"C:\\LJR\\babylab\\English\\cut\\high\\6045\\turntaking\\block\\fa\\turn5\"\n",
    "filesturn25= os.listdir(pathturn25)\n",
    "\n",
    "pathturn21c = r\"C:\\LJR\\babylab\\English\\cut\\high\\6045\\turntaking\\block\\chi\\turn1\"\n",
    "filesturn21c= os.listdir(pathturn21c)\n",
    "pathturn22c = r\"C:\\LJR\\babylab\\English\\cut\\high\\6045\\turntaking\\block\\chi\\turn2\"\n",
    "filesturn22c= os.listdir(pathturn22c)\n",
    "pathturn23c = r\"C:\\LJR\\babylab\\English\\cut\\high\\6045\\turntaking\\block\\chi\\turn3\"\n",
    "filesturn23c= os.listdir(pathturn23c)\n",
    "pathturn24c = r\"C:\\LJR\\babylab\\English\\cut\\high\\6045\\turntaking\\block\\chi\\turn4\"\n",
    "filesturn24c= os.listdir(pathturn24c)\n",
    "pathturn25c = r\"C:\\LJR\\babylab\\English\\cut\\high\\6045\\turntaking\\block\\chi\\turn5\"\n",
    "filesturn25c= os.listdir(pathturn25c)"
   ]
  },
  {
   "cell_type": "code",
   "execution_count": 5,
   "metadata": {},
   "outputs": [],
   "source": [
    "pathturn31 = r\"C:\\LJR\\babylab\\English\\cut\\high\\8496\\turntaking\\block\\fa\\turn1\"\n",
    "filesturn31= os.listdir(pathturn31)\n",
    "pathturn32 = r\"C:\\LJR\\babylab\\English\\cut\\high\\8496\\turntaking\\block\\fa\\turn2\"\n",
    "filesturn32= os.listdir(pathturn32)\n",
    "\n",
    "pathturn31c = r\"C:\\LJR\\babylab\\English\\cut\\high\\8496\\turntaking\\block\\chi\\turn1\"\n",
    "filesturn31c= os.listdir(pathturn31c)\n",
    "pathturn32c = r\"C:\\LJR\\babylab\\English\\cut\\high\\8496\\turntaking\\block\\chi\\turn2\"\n",
    "filesturn32c= os.listdir(pathturn32c)"
   ]
  },
  {
   "cell_type": "code",
   "execution_count": 6,
   "metadata": {},
   "outputs": [],
   "source": [
    "pathturn41 = r\"C:\\LJR\\babylab\\English\\cut\\high\\8560\\turntaking\\block\\fa\\turn1\"\n",
    "filesturn41= os.listdir(pathturn41)\n",
    "pathturn42 = r\"C:\\LJR\\babylab\\English\\cut\\high\\8560\\turntaking\\block\\fa\\turn2\"\n",
    "filesturn42= os.listdir(pathturn42)\n",
    "pathturn43 = r\"C:\\LJR\\babylab\\English\\cut\\high\\8560\\turntaking\\block\\fa\\turn3\"\n",
    "filesturn43= os.listdir(pathturn43)\n",
    "pathturn44 = r\"C:\\LJR\\babylab\\English\\cut\\high\\8560\\turntaking\\block\\fa\\turn4\"\n",
    "filesturn44= os.listdir(pathturn44)\n",
    "pathturn45 = r\"C:\\LJR\\babylab\\English\\cut\\high\\8560\\turntaking\\block\\fa\\turn5\"\n",
    "filesturn45= os.listdir(pathturn45)\n",
    "pathturn46 = r\"C:\\LJR\\babylab\\English\\cut\\high\\8560\\turntaking\\block\\fa\\turn6\"\n",
    "filesturn46= os.listdir(pathturn46)\n",
    "pathturn47 = r\"C:\\LJR\\babylab\\English\\cut\\high\\8560\\turntaking\\block\\fa\\turn7\"\n",
    "filesturn47= os.listdir(pathturn47)\n",
    "pathturn48 = r\"C:\\LJR\\babylab\\English\\cut\\high\\8560\\turntaking\\block\\fa\\turn8\"\n",
    "filesturn48= os.listdir(pathturn48)\n",
    "\n",
    "pathturn41c = r\"C:\\LJR\\babylab\\English\\cut\\high\\8560\\turntaking\\block\\chi\\turn1\"\n",
    "filesturn41c= os.listdir(pathturn41c)\n",
    "pathturn42c = r\"C:\\LJR\\babylab\\English\\cut\\high\\8560\\turntaking\\block\\chi\\turn2\"\n",
    "filesturn42c= os.listdir(pathturn42c)\n",
    "pathturn43c = r\"C:\\LJR\\babylab\\English\\cut\\high\\8560\\turntaking\\block\\chi\\turn3\"\n",
    "filesturn43c= os.listdir(pathturn43c)\n",
    "pathturn44c = r\"C:\\LJR\\babylab\\English\\cut\\high\\8560\\turntaking\\block\\chi\\turn4\"\n",
    "filesturn44c= os.listdir(pathturn44c)\n",
    "pathturn45c = r\"C:\\LJR\\babylab\\English\\cut\\high\\8560\\turntaking\\block\\chi\\turn5\"\n",
    "filesturn45c= os.listdir(pathturn45c)\n",
    "pathturn46c = r\"C:\\LJR\\babylab\\English\\cut\\high\\8560\\turntaking\\block\\chi\\turn6\"\n",
    "filesturn46c= os.listdir(pathturn46c)\n",
    "pathturn47c = r\"C:\\LJR\\babylab\\English\\cut\\high\\8560\\turntaking\\block\\chi\\turn7\"\n",
    "filesturn47c= os.listdir(pathturn47c)\n",
    "pathturn48c = r\"C:\\LJR\\babylab\\English\\cut\\high\\8560\\turntaking\\block\\chi\\turn8\"\n",
    "filesturn48c= os.listdir(pathturn48c)"
   ]
  },
  {
   "cell_type": "code",
   "execution_count": 7,
   "metadata": {},
   "outputs": [],
   "source": [
    "pathturn51 = r\"C:\\LJR\\babylab\\English\\cut\\high\\9106\\turntaking\\block\\fa\\turn1\"\n",
    "filesturn51= os.listdir(pathturn51)\n",
    "pathturn52 = r\"C:\\LJR\\babylab\\English\\cut\\high\\9106\\turntaking\\block\\fa\\turn2\"\n",
    "filesturn52= os.listdir(pathturn52)\n",
    "pathturn53 = r\"C:\\LJR\\babylab\\English\\cut\\high\\9106\\turntaking\\block\\fa\\turn3\"\n",
    "filesturn53= os.listdir(pathturn53)\n",
    "\n",
    "pathturn51c = r\"C:\\LJR\\babylab\\English\\cut\\high\\9106\\turntaking\\block\\chi\\turn1\"\n",
    "filesturn51c= os.listdir(pathturn51c)\n",
    "pathturn52c = r\"C:\\LJR\\babylab\\English\\cut\\high\\9106\\turntaking\\block\\chi\\turn2\"\n",
    "filesturn52c= os.listdir(pathturn52c)\n",
    "pathturn53c = r\"C:\\LJR\\babylab\\English\\cut\\high\\9106\\turntaking\\block\\chi\\turn3\"\n",
    "filesturn53c= os.listdir(pathturn53c)"
   ]
  },
  {
   "cell_type": "code",
   "execution_count": 8,
   "metadata": {},
   "outputs": [],
   "source": [
    "pathturn61 = r\"C:\\LJR\\babylab\\English\\cut\\high\\9733\\turntaking\\block\\fa\\turn1\"\n",
    "filesturn61= os.listdir(pathturn61)\n",
    "pathturn62 = r\"C:\\LJR\\babylab\\English\\cut\\high\\9733\\turntaking\\block\\fa\\turn2\"\n",
    "filesturn62= os.listdir(pathturn62)\n",
    "pathturn63 = r\"C:\\LJR\\babylab\\English\\cut\\high\\9733\\turntaking\\block\\fa\\turn3\"\n",
    "filesturn63= os.listdir(pathturn63)\n",
    "pathturn64 = r\"C:\\LJR\\babylab\\English\\cut\\high\\9733\\turntaking\\block\\fa\\turn4\"\n",
    "filesturn64= os.listdir(pathturn64)\n",
    "pathturn65 = r\"C:\\LJR\\babylab\\English\\cut\\high\\9733\\turntaking\\block\\fa\\turn5\"\n",
    "filesturn65= os.listdir(pathturn65)\n",
    "\n",
    "pathturn61c = r\"C:\\LJR\\babylab\\English\\cut\\high\\9733\\turntaking\\block\\chi\\turn1\"\n",
    "filesturn61c= os.listdir(pathturn61c)\n",
    "pathturn62c = r\"C:\\LJR\\babylab\\English\\cut\\high\\9733\\turntaking\\block\\chi\\turn2\"\n",
    "filesturn62c= os.listdir(pathturn62c)\n",
    "pathturn63c = r\"C:\\LJR\\babylab\\English\\cut\\high\\9733\\turntaking\\block\\chi\\turn3\"\n",
    "filesturn63c= os.listdir(pathturn63c)\n",
    "pathturn64c = r\"C:\\LJR\\babylab\\English\\cut\\high\\9733\\turntaking\\block\\chi\\turn4\"\n",
    "filesturn64c= os.listdir(pathturn64c)\n",
    "pathturn65c = r\"C:\\LJR\\babylab\\English\\cut\\high\\9733\\turntaking\\block\\chi\\turn5\"\n",
    "filesturn65c= os.listdir(pathturn65c)"
   ]
  },
  {
   "cell_type": "code",
   "execution_count": 9,
   "metadata": {},
   "outputs": [],
   "source": [
    "def normalize(x, axis=0):\n",
    "    return sklearn.preprocessing.minmax_scale(x, axis=axis)"
   ]
  },
  {
   "cell_type": "code",
   "execution_count": 10,
   "metadata": {},
   "outputs": [],
   "source": [
    "def normalizea(x, maxa,mina,axis=0):\n",
    "    return [(float(i)-mina)/float(maxa-mina) for i in x]"
   ]
  },
  {
   "cell_type": "code",
   "execution_count": 11,
   "metadata": {},
   "outputs": [],
   "source": [
    "def normalizei(x, maxi,mini,axis=0):\n",
    "    return [(float(i)-mini)/float(maxi-mini) for i in x]"
   ]
  },
  {
   "cell_type": "code",
   "execution_count": 12,
   "metadata": {},
   "outputs": [],
   "source": [
    "def f0fitintera(path,files,maxa,mina):\n",
    "    x,sr1=librosa.load(path+\"\\\\\"+files,sr=None)\n",
    "    f0, voiced_flag, voiced_probs = librosa.pyin(x,sr=sr1,frame_length=512, fill_na=np.nan, n_thresholds=50, fmin=120, fmax=600)\n",
    "    times = librosa.times_like(f0,sr=sr1,hop_length=128)\n",
    "    duration=librosa.get_duration(y=x, sr=sr1)\n",
    "    #for k in range(len(f0)-1):\n",
    "        #if (k!=0):\n",
    "            #if (np.isnan(f0[k-1]))and(np.isnan(f0[k+1])):\n",
    "                #f0[k]=np.nan\n",
    "        #if (~np.isnan(f0[-1]))and(np.isnan(f0[-2])):\n",
    "            #f0[-1]=np.nan\n",
    "    #logf0=np.log(f0)\n",
    "    #logf0nomal=normalize(logf0)\n",
    "    logf0nomal=normalizea(f0,maxa,mina)\n",
    "    timesp=pd.DataFrame(times)\n",
    "    logf0nomalp=pd.DataFrame(logf0nomal)\n",
    "    indxnan = logf0nomalp.fillna(method='ffill').dropna().index\n",
    "    res_idx = logf0nomalp.loc[indxnan].fillna(method='bfill').dropna().index\n",
    "    f0out=logf0nomalp.loc[res_idx]\n",
    "    timesout = timesp.loc[res_idx]\n",
    "    timesout=timesout-timesout.min()\n",
    "    timesnumpy=timesout.to_numpy()\n",
    "    f0outnumpy=f0out.to_numpy()\n",
    "    logf0nomalnan = f0outnumpy[~np.isnan(f0outnumpy)]\n",
    "    timesnan = timesnumpy[~np.isnan(f0outnumpy)]\n",
    "    #xx = np.linspace(timesnumpy.min(), timesnumpy.max(), 50) \n",
    "    f = interp1d(timesnan, logf0nomalnan,kind='slinear',fill_value=\"extrapolate\")\n",
    "    ynew=f(timesnumpy)\n",
    "    #ynew=f(xx)\n",
    "    return ynew"
   ]
  },
  {
   "cell_type": "code",
   "execution_count": 13,
   "metadata": {},
   "outputs": [],
   "source": [
    "def f0fitinteri(path,files,maxi,mini):\n",
    "    x,sr1=librosa.load(path+\"\\\\\"+files,sr=None)\n",
    "    f0, voiced_flag, voiced_probs = librosa.pyin(x,sr=sr1,frame_length=512, fill_na=np.nan, n_thresholds=50, fmin=120, fmax=1000)\n",
    "    times = librosa.times_like(f0,sr=sr1,hop_length=128)\n",
    "    duration=librosa.get_duration(y=x, sr=sr1)\n",
    "    #for k in range(len(f0)-1):\n",
    "        #if (k!=0):\n",
    "            #if (np.isnan(f0[k-1]))and(np.isnan(f0[k+1])):\n",
    "                #f0[k]=np.nan\n",
    "        #if (~np.isnan(f0[-1]))and(np.isnan(f0[-2])):\n",
    "            #f0[-1]=np.nan\n",
    "    #logf0=np.log(f0)\n",
    "    #logf0nomal=normalize(logf0)\n",
    "    logf0nomal=normalizei(f0,maxi,mini)\n",
    "    timesp=pd.DataFrame(times)\n",
    "    logf0nomalp=pd.DataFrame(logf0nomal)\n",
    "    indxnan = logf0nomalp.fillna(method='ffill').dropna().index\n",
    "    res_idx = logf0nomalp.loc[indxnan].fillna(method='bfill').dropna().index\n",
    "    f0out=logf0nomalp.loc[res_idx]\n",
    "    timesout = timesp.loc[res_idx]\n",
    "    timesout=timesout-timesout.min()\n",
    "    timesnumpy=timesout.to_numpy()\n",
    "    f0outnumpy=f0out.to_numpy()\n",
    "    logf0nomalnan = f0outnumpy[~np.isnan(f0outnumpy)]\n",
    "    timesnan = timesnumpy[~np.isnan(f0outnumpy)]\n",
    "    #xx = np.linspace(timesnumpy.min(), timesnumpy.max(), 50)\n",
    "    f = interp1d(timesnan, logf0nomalnan,kind='slinear',fill_value=\"extrapolate\")\n",
    "    ynew=f(timesnumpy)\n",
    "    #ynew=f(xx)\n",
    "    return ynew"
   ]
  },
  {
   "cell_type": "code",
   "execution_count": 14,
   "metadata": {},
   "outputs": [],
   "source": [
    "def diffc(con,ind,patha,filesa,pathi,filesi,maxa,mina,maxi,mini):\n",
    "    dtwd=np.zeros((len(filesa)*len(filesi),3))\n",
    "    for i in range(len(filesa)):\n",
    "        ynewfa=f0fitintera(patha,filesa[i],maxa,mina)\n",
    "        for j in range(len(filesi)):\n",
    "            ynewchi=f0fitinteri(pathi,filesi[j],maxi,mini)\n",
    "            distance,path = fastdtw(ynewfa,ynewchi,dist=euclidean)\n",
    "            dtwd[i*len(filesi)+j,:]=np.c_[distance,con,ind]\n",
    "    return dtwd,len(filesa)*len(filesi)"
   ]
  },
  {
   "cell_type": "code",
   "execution_count": 15,
   "metadata": {},
   "outputs": [],
   "source": [
    "diffc11,xlabel11=diffc(0,1,pathturn11,filesturn11,pathturn11c,filesturn11c,597.82,120,999.61,120)\n",
    "diffc12,xlabel12=diffc(0,1,pathturn12,filesturn12,pathturn12c,filesturn12c,597.82,120,999.61,120)\n",
    "diffc13,xlabel13=diffc(0,1,pathturn13,filesturn13,pathturn13c,filesturn13c,597.82,120,999.61,120)\n",
    "diffc14,xlabel14=diffc(0,1,pathturn14,filesturn14,pathturn14c,filesturn14c,597.82,120,999.61,120)\n",
    "diffc15,xlabel15=diffc(0,1,pathturn15,filesturn15,pathturn15c,filesturn15c,597.82,120,999.61,120)\n",
    "diffc16,xlabel16=diffc(0,1,pathturn16,filesturn16,pathturn16c,filesturn16c,597.82,120,999.61,120)\n",
    "diffc17,xlabel17=diffc(0,1,pathturn17,filesturn17,pathturn17c,filesturn17c,597.82,120,999.61,120)\n",
    "diffc18,xlabel18=diffc(0,1,pathturn18,filesturn18,pathturn18c,filesturn18c,597.82,120,999.61,120)\n",
    "diffc19,xlabel19=diffc(0,1,pathturn19,filesturn19,pathturn19c,filesturn19c,597.82,120,999.61,120)\n",
    "diffc110,xlabel110=diffc(0,1,pathturn110,filesturn110,pathturn110c,filesturn110c,597.82,120,999.61,120)\n",
    "diffc111,xlabel111=diffc(0,1,pathturn111,filesturn111,pathturn111c,filesturn111c,597.82,120,999.61,120)\n",
    "diffc112,xlabel112=diffc(0,1,pathturn112,filesturn112,pathturn112c,filesturn112c,597.82,120,999.61,120)\n",
    "diffc113,xlabel113=diffc(0,1,pathturn113,filesturn113,pathturn113c,filesturn113c,597.82,120,999.61,120)\n",
    "diffc114,xlabel114=diffc(0,1,pathturn114,filesturn114,pathturn114c,filesturn114c,597.82,120,999.61,120)\n",
    "diffc115,xlabel115=diffc(0,1,pathturn115,filesturn115,pathturn115c,filesturn115c,597.82,120,999.61,120)\n",
    "diffc116,xlabel116=diffc(0,1,pathturn116,filesturn116,pathturn116c,filesturn116c,597.82,120,999.61,120)\n",
    "diffc117,xlabel117=diffc(0,1,pathturn117,filesturn117,pathturn117c,filesturn117c,597.82,120,999.61,120)\n",
    "diffc118,xlabel118=diffc(0,1,pathturn118,filesturn118,pathturn118c,filesturn118c,597.82,120,999.61,120)\n",
    "diffc119,xlabel119=diffc(0,1,pathturn119,filesturn119,pathturn119c,filesturn119c,597.82,120,999.61,120)\n",
    "diffc120,xlabel120=diffc(0,1,pathturn120,filesturn120,pathturn120c,filesturn120c,597.82,120,999.61,120)\n",
    "diffc121,xlabel121=diffc(0,1,pathturn121,filesturn121,pathturn121c,filesturn121c,597.82,120,999.61,120)\n",
    "diffc122,xlabel122=diffc(0,1,pathturn122,filesturn122,pathturn122c,filesturn122c,597.82,120,999.61,120)\n",
    "diffc123,xlabel123=diffc(0,1,pathturn123,filesturn123,pathturn123c,filesturn123c,597.82,120,999.61,120)\n",
    "diffc124,xlabel124=diffc(0,1,pathturn124,filesturn124,pathturn124c,filesturn124c,597.82,120,999.61,120)"
   ]
  },
  {
   "cell_type": "code",
   "execution_count": 16,
   "metadata": {},
   "outputs": [],
   "source": [
    "diffct11=np.r_[diffc11,diffc12,diffc13,diffc14,diffc15,diffc16,diffc17,diffc18,diffc19,diffc110]\n",
    "#diffct12=np.r_[diffc111,diffc112,diffc113,diffc114,diffc115,diffc116,diffc117,diffc118,diffc119,diffc120,diffc121,diffc122,diffc123,diffc124]\n",
    "diffct12=np.r_[diffc111,diffc112,diffc113,diffc114,diffc115,diffc116,diffc117,diffc118,diffc119,diffc120,diffc122,diffc123,diffc124]\n",
    "diffc1=np.r_[diffct11,diffct12]\n",
    "xlabelt11=np.r_[xlabel11,xlabel12,xlabel13,xlabel14,xlabel15,xlabel16,xlabel17,xlabel18,xlabel19,xlabel110]\n",
    "#xlabelt12=np.r_[xlabel111,xlabel112,xlabel113,xlabel114,xlabel115,xlabel116,xlabel117,xlabel118,xlabel119,xlabel120,xlabel121,xlabel122,xlabel123,xlabel124]\n",
    "xlabelt12=np.r_[xlabel111,xlabel112,xlabel113,xlabel114,xlabel115,xlabel116,xlabel117,xlabel118,xlabel119,xlabel120,xlabel122,xlabel123,xlabel124]\n",
    "xlabel1=np.r_[xlabelt11,xlabelt12]"
   ]
  },
  {
   "cell_type": "code",
   "execution_count": 17,
   "metadata": {},
   "outputs": [],
   "source": [
    "diffc21,xlabel21=diffc(0,2,pathturn21,filesturn21,pathturn21c,filesturn21c,597.82,120,999.61,120)\n",
    "diffc22,xlabel22=diffc(0,2,pathturn22,filesturn22,pathturn22c,filesturn22c,597.82,120,999.61,120)\n",
    "diffc23,xlabel23=diffc(0,2,pathturn23,filesturn23,pathturn23c,filesturn23c,597.82,120,999.61,120)\n",
    "diffc24,xlabel24=diffc(0,2,pathturn24,filesturn24,pathturn24c,filesturn24c,597.82,120,999.61,120)\n",
    "diffc25,xlabel25=diffc(0,2,pathturn25,filesturn25,pathturn25c,filesturn25c,597.82,120,999.61,120)"
   ]
  },
  {
   "cell_type": "code",
   "execution_count": 18,
   "metadata": {},
   "outputs": [],
   "source": [
    "diffc2=np.r_[diffc21,diffc22,diffc23,diffc24,diffc25]\n",
    "xlabel2=np.r_[xlabel21,xlabel22,xlabel23,xlabel24,xlabel25]"
   ]
  },
  {
   "cell_type": "code",
   "execution_count": 19,
   "metadata": {},
   "outputs": [],
   "source": [
    "diffc31,xlabel31=diffc(0,3,pathturn31,filesturn31,pathturn31c,filesturn31c,594.37,120,999.61,120)\n",
    "diffc32,xlabel32=diffc(0,3,pathturn32,filesturn32,pathturn32c,filesturn32c,594.37,120,999.61,120)"
   ]
  },
  {
   "cell_type": "code",
   "execution_count": 20,
   "metadata": {},
   "outputs": [],
   "source": [
    "diffc3=np.r_[diffc31,diffc32]\n",
    "xlabel3=np.r_[xlabel31,xlabel32]"
   ]
  },
  {
   "cell_type": "code",
   "execution_count": 21,
   "metadata": {},
   "outputs": [],
   "source": [
    "diffc41,xlabel41=diffc(0,4,pathturn41,filesturn41,pathturn41c,filesturn41c,597.82,120,999.61,120)\n",
    "diffc42,xlabel42=diffc(0,4,pathturn42,filesturn42,pathturn42c,filesturn42c,597.82,120,999.61,120)\n",
    "diffc43,xlabel43=diffc(0,4,pathturn43,filesturn43,pathturn43c,filesturn43c,597.82,120,999.61,120)\n",
    "diffc44,xlabel44=diffc(0,4,pathturn44,filesturn44,pathturn44c,filesturn44c,597.82,120,999.61,120)\n",
    "diffc45,xlabel45=diffc(0,4,pathturn45,filesturn45,pathturn45c,filesturn45c,597.82,120,999.61,120)\n",
    "diffc46,xlabel46=diffc(0,4,pathturn46,filesturn46,pathturn46c,filesturn46c,597.82,120,999.61,120)\n",
    "diffc47,xlabel47=diffc(0,4,pathturn47,filesturn47,pathturn47c,filesturn47c,597.82,120,999.61,120)\n",
    "diffc48,xlabel48=diffc(0,4,pathturn48,filesturn48,pathturn48c,filesturn48c,597.82,120,999.61,120)"
   ]
  },
  {
   "cell_type": "code",
   "execution_count": 22,
   "metadata": {},
   "outputs": [],
   "source": [
    "diffc4=np.r_[diffc41,diffc42,diffc43,diffc44,diffc45,diffc46,diffc47,diffc48]\n",
    "xlabel4=np.r_[xlabel41,xlabel42,xlabel43,xlabel44,xlabel45,xlabel46,xlabel47,xlabel48]"
   ]
  },
  {
   "cell_type": "code",
   "execution_count": 23,
   "metadata": {},
   "outputs": [],
   "source": [
    "diffc51,xlabel51=diffc(0,5,pathturn51,filesturn51,pathturn51c,filesturn51c,597.82,120,927.30,127.14)\n",
    "diffc52,xlabel52=diffc(0,5,pathturn52,filesturn52,pathturn52c,filesturn52c,597.82,120,927.30,127.14)\n",
    "diffc53,xlabel53=diffc(0,5,pathturn53,filesturn53,pathturn53c,filesturn53c,597.82,120,927.30,127.14)"
   ]
  },
  {
   "cell_type": "code",
   "execution_count": 24,
   "metadata": {},
   "outputs": [],
   "source": [
    "diffc5=np.r_[diffc51,diffc52,diffc53]\n",
    "xlabel5=np.r_[xlabel51,xlabel52,xlabel53]"
   ]
  },
  {
   "cell_type": "code",
   "execution_count": 25,
   "metadata": {},
   "outputs": [],
   "source": [
    "diffc61,xlabel61=diffc(0,6,pathturn61,filesturn61,pathturn61c,filesturn61c,590.95,122,999.61,120)\n",
    "diffc62,xlabel62=diffc(0,6,pathturn62,filesturn62,pathturn62c,filesturn62c,590.95,122,999.61,120)\n",
    "diffc63,xlabel63=diffc(0,6,pathturn63,filesturn63,pathturn63c,filesturn63c,590.95,122,999.61,120)\n",
    "diffc64,xlabel64=diffc(0,6,pathturn64,filesturn64,pathturn64c,filesturn64c,590.95,122,999.61,120)\n",
    "diffc65,xlabel65=diffc(0,6,pathturn65,filesturn65,pathturn65c,filesturn65c,590.95,122,999.61,120)"
   ]
  },
  {
   "cell_type": "code",
   "execution_count": 26,
   "metadata": {},
   "outputs": [],
   "source": [
    "diffc6=np.r_[diffc61,diffc62,diffc63,diffc64,diffc65]\n",
    "xlabel6=np.r_[xlabel61,xlabel62,xlabel63,xlabel64,xlabel65]"
   ]
  },
  {
   "cell_type": "code",
   "execution_count": 27,
   "metadata": {},
   "outputs": [],
   "source": [
    "dtwall=np.r_[diffc1,diffc2,diffc3,diffc4,diffc5,diffc6]\n",
    "xlabel=np.r_[xlabel1,xlabel2,xlabel3,xlabel4,xlabel5,xlabel6]"
   ]
  },
  {
   "cell_type": "code",
   "execution_count": 28,
   "metadata": {},
   "outputs": [],
   "source": [
    "pathturn1 = r\"C:\\LJR\\babylab\\English\\cut\\high\\5134\\turntaking\\facon\" #\n",
    "filesturn1= os.listdir(pathturn1)\n",
    "pathturn1o = r\"C:\\LJR\\babylab\\English\\cut\\high\\5134\\turntaking\\blockother\\fa\"\n",
    "filesturn1o= os.listdir(pathturn1o)\n",
    "pathturn1c = r\"C:\\LJR\\babylab\\English\\cut\\high\\5134\\turntaking\\chicon\"\n",
    "filesturn1c= os.listdir(pathturn1c)\n",
    "pathturn1co = r\"C:\\LJR\\babylab\\English\\cut\\high\\5134\\turntaking\\blockother\\chi\"\n",
    "filesturn1co= os.listdir(pathturn1co)\n",
    "\n",
    "pathturn2 = r\"C:\\LJR\\babylab\\English\\cut\\high\\6045\\turntaking\\facon\"#\n",
    "filesturn2= os.listdir(pathturn2)\n",
    "pathturn2o = r\"C:\\LJR\\babylab\\English\\cut\\high\\6045\\turntaking\\blockother\\fa\"\n",
    "filesturn2o= os.listdir(pathturn2o)\n",
    "pathturn2c = r\"C:\\LJR\\babylab\\English\\cut\\high\\6045\\turntaking\\chicon\"\n",
    "filesturn2c= os.listdir(pathturn2c)\n",
    "pathturn2co = r\"C:\\LJR\\babylab\\English\\cut\\high\\6045\\turntaking\\blockother\\chi\"\n",
    "filesturn2co= os.listdir(pathturn2co)\n",
    "\n",
    "pathturn3 = r\"C:\\LJR\\babylab\\English\\cut\\high\\8496\\turntaking\\facon\"#\n",
    "filesturn3= os.listdir(pathturn3)\n",
    "pathturn3o = r\"C:\\LJR\\babylab\\English\\cut\\high\\8496\\turntaking\\blockother\\fa\"\n",
    "filesturn3o= os.listdir(pathturn3o)\n",
    "pathturn3c = r\"C:\\LJR\\babylab\\English\\cut\\high\\8496\\turntaking\\chicon\"\n",
    "filesturn3c= os.listdir(pathturn3c)\n",
    "pathturn3co = r\"C:\\LJR\\babylab\\English\\cut\\high\\8496\\turntaking\\blockother\\chi\"\n",
    "filesturn3co= os.listdir(pathturn3co)\n",
    "\n",
    "pathturn4 = r\"C:\\LJR\\babylab\\English\\cut\\high\\8560\\turntaking\\facon\"#\n",
    "filesturn4= os.listdir(pathturn4)\n",
    "pathturn4o = r\"C:\\LJR\\babylab\\English\\cut\\high\\8560\\turntaking\\blockother\\fa\"\n",
    "filesturn4o= os.listdir(pathturn4o)\n",
    "pathturn4c = r\"C:\\LJR\\babylab\\English\\cut\\high\\8560\\turntaking\\chicon\"\n",
    "filesturn4c= os.listdir(pathturn4c)\n",
    "pathturn4co = r\"C:\\LJR\\babylab\\English\\cut\\high\\8560\\turntaking\\blockother\\chi\"\n",
    "filesturn4co= os.listdir(pathturn4co)\n",
    "\n",
    "pathturn5 = r\"C:\\LJR\\babylab\\English\\cut\\high\\9106\\turntaking\\facon\"#\n",
    "filesturn5= os.listdir(pathturn5)\n",
    "pathturn5o = r\"C:\\LJR\\babylab\\English\\cut\\high\\9106\\turntaking\\blockother\\fa\"\n",
    "filesturn5o= os.listdir(pathturn5o)\n",
    "pathturn5c = r\"C:\\LJR\\babylab\\English\\cut\\high\\9106\\turntaking\\chicon\"\n",
    "filesturn5c= os.listdir(pathturn5c)\n",
    "pathturn5co = r\"C:\\LJR\\babylab\\English\\cut\\high\\9106\\turntaking\\blockother\\chi\"\n",
    "filesturn5co= os.listdir(pathturn5co)\n",
    "\n",
    "pathturn6 = r\"C:\\LJR\\babylab\\English\\cut\\high\\9733\\turntaking\\facon\"#\n",
    "filesturn6= os.listdir(pathturn6)\n",
    "pathturn6o = r\"C:\\LJR\\babylab\\English\\cut\\high\\9733\\turntaking\\blockother\\fa\"\n",
    "filesturn6o= os.listdir(pathturn6o)\n",
    "pathturn6c = r\"C:\\LJR\\babylab\\English\\cut\\high\\9733\\turntaking\\chicon\"\n",
    "filesturn6c= os.listdir(pathturn6c)\n",
    "pathturn6co = r\"C:\\LJR\\babylab\\English\\cut\\high\\9733\\turntaking\\blockother\\chi\"\n",
    "filesturn6co= os.listdir(pathturn6co)"
   ]
  },
  {
   "cell_type": "code",
   "execution_count": 29,
   "metadata": {},
   "outputs": [],
   "source": [
    "files1=filesturn1\n",
    "files1c=filesturn1c\n",
    "\n",
    "files2=filesturn2\n",
    "files2c=filesturn2c\n",
    "\n",
    "files3=filesturn3\n",
    "files3c=filesturn3c\n",
    "\n",
    "files4=filesturn4\n",
    "files4c=filesturn4c\n",
    "\n",
    "files5=filesturn5\n",
    "files5c=filesturn5c\n",
    "\n",
    "files6=filesturn6\n",
    "files6c=filesturn6c"
   ]
  },
  {
   "cell_type": "code",
   "execution_count": 30,
   "metadata": {},
   "outputs": [],
   "source": [
    "filesc1=filesturn1o\n",
    "filesc1c=filesturn1co\n",
    "\n",
    "filesc2=filesturn2o\n",
    "filesc2c=filesturn2co\n",
    "\n",
    "filesc3=filesturn3o\n",
    "filesc3c=filesturn3co\n",
    "\n",
    "filesc4=filesturn4o\n",
    "filesc4c=filesturn4co\n",
    "\n",
    "filesc5=filesturn5o\n",
    "filesc5c=filesturn5co\n",
    "\n",
    "filesc6=filesturn6o\n",
    "filesc6c=filesturn6co"
   ]
  },
  {
   "cell_type": "code",
   "execution_count": 31,
   "metadata": {},
   "outputs": [],
   "source": [
    "files1.sort(key = lambda x:float(x[1:-4]))\n",
    "files1c.sort(key = lambda x:float(x[:-4]))\n",
    "\n",
    "files2.sort(key = lambda x:float(x[1:-4]))\n",
    "files2c.sort(key = lambda x:float(x[:-4]))\n",
    "\n",
    "files3.sort(key = lambda x:float(x[1:-4]))\n",
    "files3c.sort(key = lambda x:float(x[:-4]))\n",
    "\n",
    "files4.sort(key = lambda x:float(x[1:-4]))\n",
    "files4c.sort(key = lambda x:float(x[:-4]))\n",
    "\n",
    "files5.sort(key = lambda x:float(x[1:-4]))\n",
    "files5c.sort(key = lambda x:float(x[:-4]))\n",
    "\n",
    "files6.sort(key = lambda x:float(x[1:-4]))\n",
    "files6c.sort(key = lambda x:float(x[:-4]))"
   ]
  },
  {
   "cell_type": "code",
   "execution_count": 32,
   "metadata": {},
   "outputs": [],
   "source": [
    "filesc1.sort(key = lambda x:float(x[1:-4]))\n",
    "filesc1c.sort(key = lambda x:float(x[:-4]))\n",
    "\n",
    "filesc2.sort(key = lambda x:float(x[1:-4]))\n",
    "filesc2c.sort(key = lambda x:float(x[:-4]))\n",
    "\n",
    "filesc3.sort(key = lambda x:float(x[1:-4]))\n",
    "filesc3c.sort(key = lambda x:float(x[:-4]))\n",
    "\n",
    "filesc4.sort(key = lambda x:float(x[1:-4]))\n",
    "filesc4c.sort(key = lambda x:float(x[:-4]))\n",
    "\n",
    "filesc5.sort(key = lambda x:float(x[1:-4]))\n",
    "filesc5c.sort(key = lambda x:float(x[:-4]))\n",
    "\n",
    "filesc6.sort(key = lambda x:float(x[1:-4]))\n",
    "filesc6c.sort(key = lambda x:float(x[:-4]))"
   ]
  },
  {
   "cell_type": "code",
   "execution_count": 33,
   "metadata": {},
   "outputs": [],
   "source": [
    "def normalize(x, axis=0):\n",
    "    return sklearn.preprocessing.minmax_scale(x, axis=axis)"
   ]
  },
  {
   "cell_type": "code",
   "execution_count": 34,
   "metadata": {},
   "outputs": [],
   "source": [
    "def normalizea(x, maxa,mina,axis=0):\n",
    "    return [(float(i)-mina)/float(maxa-mina) for i in x]"
   ]
  },
  {
   "cell_type": "code",
   "execution_count": 35,
   "metadata": {},
   "outputs": [],
   "source": [
    "def normalizei(x, maxi,mini,axis=0):\n",
    "    return [(float(i)-mini)/float(maxi-mini) for i in x]"
   ]
  },
  {
   "cell_type": "code",
   "execution_count": 36,
   "metadata": {},
   "outputs": [],
   "source": [
    "def findclose(files, filesi):\n",
    "    timei=np.zeros(len(filesi))\n",
    "    filesout=[]\n",
    "    for i in range(len(filesi)):\n",
    "        timei[i]=float(re.search(\"(\\d+\\.\\d+)\",filesi[i]).group(0))\n",
    "    #print(timei)\n",
    "    for i in range(len(files)):\n",
    "        starttime=float(re.search(\"(\\d+\\.\\d+)\",files[i]).group(0))\n",
    "        diff=np.abs(timei-starttime)\n",
    "        indd=np.where(diff==np.min(diff))\n",
    "        if len(indd[0])>1:\n",
    "            inddt=indd[0]\n",
    "            indd0=int(inddt[0])\n",
    "        else:\n",
    "            indd0=int(indd[0])\n",
    "        filesout.append(filesi[indd0])\n",
    "    return filesout"
   ]
  },
  {
   "cell_type": "code",
   "execution_count": 37,
   "metadata": {},
   "outputs": [],
   "source": [
    "filesout1=findclose(files1,files1c)\n",
    "filesout2=findclose(files2,files2c)\n",
    "filesout3=findclose(files3,files3c)\n",
    "filesout4=findclose(files4,files4c)\n",
    "filesout5=findclose(files5,files5c)\n",
    "filesout6=findclose(files6,files6c)"
   ]
  },
  {
   "cell_type": "code",
   "execution_count": 38,
   "metadata": {},
   "outputs": [],
   "source": [
    "filesouto1=findclose(filesc1,filesc1c)\n",
    "filesouto2=findclose(filesc2,filesc2c)\n",
    "filesouto3=findclose(filesc3,filesc3c)\n",
    "filesouto4=findclose(filesc4,filesc4c)\n",
    "filesouto5=findclose(filesc5,filesc5c)\n",
    "filesouto6=findclose(filesc6,filesc6c)"
   ]
  },
  {
   "cell_type": "code",
   "execution_count": 39,
   "metadata": {},
   "outputs": [],
   "source": [
    "def f0fitintera(path,files,maxa,mina):\n",
    "    x,sr1=librosa.load(path+\"\\\\\"+files,sr=None)\n",
    "    f0, voiced_flag, voiced_probs = librosa.pyin(x,sr=sr1,frame_length=512, fill_na=np.nan, n_thresholds=50, fmin=120, fmax=600)\n",
    "    times = librosa.times_like(f0,sr=sr1,hop_length=128)\n",
    "    duration=librosa.get_duration(y=x, sr=sr1)\n",
    "    #for k in range(len(f0)-1):\n",
    "        #if (k!=0):\n",
    "            #if (np.isnan(f0[k-1]))and(np.isnan(f0[k+1])):\n",
    "                #f0[k]=np.nan\n",
    "        #if (~np.isnan(f0[-1]))and(np.isnan(f0[-2])):\n",
    "            #f0[-1]=np.nan\n",
    "    #logf0=np.log(f0)\n",
    "    #logf0nomal=normalize(logf0)\n",
    "    logf0nomal=normalizea(f0,maxa,mina)\n",
    "    timesp=pd.DataFrame(times)\n",
    "    logf0nomalp=pd.DataFrame(logf0nomal)\n",
    "    indxnan = logf0nomalp.fillna(method='ffill').dropna().index\n",
    "    res_idx = logf0nomalp.loc[indxnan].fillna(method='bfill').dropna().index\n",
    "    f0out=logf0nomalp.loc[res_idx]\n",
    "    timesout = timesp.loc[res_idx]\n",
    "    timesout=timesout-timesout.min()\n",
    "    timesnumpy=timesout.to_numpy()\n",
    "    f0outnumpy=f0out.to_numpy()\n",
    "    logf0nomalnan = f0outnumpy[~np.isnan(f0outnumpy)]\n",
    "    timesnan = timesnumpy[~np.isnan(f0outnumpy)]\n",
    "    #xx = np.linspace(timesnumpy.min(), timesnumpy.max(), 50) \n",
    "    f = interp1d(timesnan, logf0nomalnan,kind='slinear',fill_value=\"extrapolate\")\n",
    "    ynew=f(timesnumpy)\n",
    "    #ynew=f(xx)\n",
    "    return ynew"
   ]
  },
  {
   "cell_type": "code",
   "execution_count": 40,
   "metadata": {},
   "outputs": [],
   "source": [
    "def f0fitinteri(path,files,maxi,mini):\n",
    "    x,sr1=librosa.load(path+\"\\\\\"+files,sr=None)\n",
    "    f0, voiced_flag, voiced_probs = librosa.pyin(x,sr=sr1,frame_length=512, fill_na=np.nan, n_thresholds=50, fmin=120, fmax=1000)\n",
    "    times = librosa.times_like(f0,sr=sr1,hop_length=128)\n",
    "    duration=librosa.get_duration(y=x, sr=sr1)\n",
    "    #for k in range(len(f0)-1):\n",
    "        #if (k!=0):\n",
    "            #if (np.isnan(f0[k-1]))and(np.isnan(f0[k+1])):\n",
    "                #f0[k]=np.nan\n",
    "        #if (~np.isnan(f0[-1]))and(np.isnan(f0[-2])):\n",
    "            #f0[-1]=np.nan\n",
    "    #logf0=np.log(f0)\n",
    "    #logf0nomal=normalize(logf0)\n",
    "    logf0nomal=normalizei(f0,maxi,mini)\n",
    "    timesp=pd.DataFrame(times)\n",
    "    logf0nomalp=pd.DataFrame(logf0nomal)\n",
    "    indxnan = logf0nomalp.fillna(method='ffill').dropna().index\n",
    "    res_idx = logf0nomalp.loc[indxnan].fillna(method='bfill').dropna().index\n",
    "    f0out=logf0nomalp.loc[res_idx]\n",
    "    timesout = timesp.loc[res_idx]\n",
    "    timesout=timesout-timesout.min()\n",
    "    timesnumpy=timesout.to_numpy()\n",
    "    f0outnumpy=f0out.to_numpy()\n",
    "    logf0nomalnan = f0outnumpy[~np.isnan(f0outnumpy)]\n",
    "    timesnan = timesnumpy[~np.isnan(f0outnumpy)]\n",
    "    #xx = np.linspace(timesnumpy.min(), timesnumpy.max(), 50)\n",
    "    f = interp1d(timesnan, logf0nomalnan,kind='slinear',fill_value=\"extrapolate\")\n",
    "    ynew=f(timesnumpy)\n",
    "    #ynew=f(xx)\n",
    "    return ynew"
   ]
  },
  {
   "cell_type": "code",
   "execution_count": 41,
   "metadata": {},
   "outputs": [],
   "source": [
    "def ynewc(pathin,filesin,maxa,mina):\n",
    "    cellm=np.empty((len(filesin),1),dtype=object)\n",
    "    for i in range(len(filesin)):\n",
    "        cellm[i,0]=f0fitintera(pathin,filesin[i],maxa,mina)\n",
    "    print(i)\n",
    "    return cellm"
   ]
  },
  {
   "cell_type": "code",
   "execution_count": 42,
   "metadata": {},
   "outputs": [
    {
     "name": "stdout",
     "output_type": "stream",
     "text": [
      "163\n",
      "125\n",
      "92\n",
      "124\n",
      "215\n",
      "30\n"
     ]
    }
   ],
   "source": [
    "cellm1o=ynewc(pathturn1o,filesc1,597.82,120)\n",
    "cellm2o=ynewc(pathturn2o,filesc2,597.82,120)\n",
    "cellm3o=ynewc(pathturn3o,filesc3,594.37,120)\n",
    "cellm4o=ynewc(pathturn4o,filesc4,597.82,120)\n",
    "cellm5o=ynewc(pathturn5o,filesc5,597.82,120)\n",
    "cellm6o=ynewc(pathturn6o,filesc6,590.95,122)\n"
   ]
  },
  {
   "cell_type": "code",
   "execution_count": 43,
   "metadata": {},
   "outputs": [],
   "source": [
    "def ynewci(pathin,filesin,maxa,mina):\n",
    "    cellm=np.empty((len(filesin),1),dtype=object)\n",
    "    for i in range(len(filesin)):\n",
    "        cellm[i,0]=f0fitinteri(pathin,filesin[i],maxa,mina)\n",
    "    print(i)\n",
    "    return cellm"
   ]
  },
  {
   "cell_type": "code",
   "execution_count": 44,
   "metadata": {},
   "outputs": [
    {
     "name": "stdout",
     "output_type": "stream",
     "text": [
      "163\n",
      "125\n",
      "92\n",
      "124\n",
      "215\n",
      "30\n"
     ]
    }
   ],
   "source": [
    "cellc1o=ynewci(pathturn1co,filesouto1,999.61,120)\n",
    "cellc2o=ynewci(pathturn2co,filesouto2,999.61,120)\n",
    "cellc3o=ynewci(pathturn3co,filesouto3,999.61,120)\n",
    "cellc4o=ynewci(pathturn4co,filesouto4,999.61,120)\n",
    "cellc5o=ynewci(pathturn5co,filesouto5,927.30,127.14)\n",
    "cellc6o=ynewci(pathturn6co,filesouto6,999.61,120)"
   ]
  },
  {
   "cell_type": "code",
   "execution_count": 45,
   "metadata": {},
   "outputs": [
    {
     "name": "stdout",
     "output_type": "stream",
     "text": [
      "40\n"
     ]
    }
   ],
   "source": [
    "print(len(cellc1o[0,0]))"
   ]
  },
  {
   "cell_type": "code",
   "execution_count": 46,
   "metadata": {},
   "outputs": [],
   "source": [
    "def dtwc(con,ind,cellin,cellinc):\n",
    "    dtwd=np.zeros((len(cellin)*len(cellinc),3))\n",
    "    for i in range(len(cellin)):\n",
    "        for j in range(len(cellinc)):\n",
    "            distance,path = fastdtw(cellin[i,0],cellinc[j,0],dist=euclidean)\n",
    "            dtwd[i*len(cellinc)+j,:]=np.c_[distance,con,ind]\n",
    "    print(i)\n",
    "    return dtwd"
   ]
  },
  {
   "cell_type": "code",
   "execution_count": 47,
   "metadata": {},
   "outputs": [
    {
     "name": "stdout",
     "output_type": "stream",
     "text": [
      "163\n",
      "125\n"
     ]
    }
   ],
   "source": [
    "dtwdc1o= dtwc(1,1,cellm1o,cellc1o)\n",
    "dtwdc2o= dtwc(1,2,cellm2o,cellc2o)\n"
   ]
  },
  {
   "cell_type": "code",
   "execution_count": 48,
   "metadata": {},
   "outputs": [
    {
     "name": "stdout",
     "output_type": "stream",
     "text": [
      "92\n",
      "124\n",
      "215\n",
      "30\n"
     ]
    }
   ],
   "source": [
    "dtwdc3o= dtwc(1,3,cellm3o,cellc3o)\n",
    "dtwdc4o= dtwc(1,4,cellm4o,cellc4o)\n",
    "dtwdc5o= dtwc(1,5,cellm5o,cellc5o)\n",
    "dtwdc6o= dtwc(1,6,cellm6o,cellc6o)"
   ]
  },
  {
   "cell_type": "code",
   "execution_count": 49,
   "metadata": {},
   "outputs": [],
   "source": [
    "dtwallo=np.r_[dtwdc1o,dtwdc2o,dtwdc3o,dtwdc4o,dtwdc5o,dtwdc6o]"
   ]
  },
  {
   "cell_type": "code",
   "execution_count": 50,
   "metadata": {},
   "outputs": [],
   "source": [
    "dataall=np.r_[dtwall,dtwallo]\n",
    "dataallp=pd.DataFrame(dataall)\n",
    "dataallp.columns=['DV','IV','type']"
   ]
  },
  {
   "cell_type": "code",
   "execution_count": 51,
   "metadata": {},
   "outputs": [
    {
     "data": {
      "text/html": [
       "<div>\n",
       "<style scoped>\n",
       "    .dataframe tbody tr th:only-of-type {\n",
       "        vertical-align: middle;\n",
       "    }\n",
       "\n",
       "    .dataframe tbody tr th {\n",
       "        vertical-align: top;\n",
       "    }\n",
       "\n",
       "    .dataframe thead th {\n",
       "        text-align: right;\n",
       "    }\n",
       "</style>\n",
       "<table border=\"1\" class=\"dataframe\">\n",
       "  <thead>\n",
       "    <tr style=\"text-align: right;\">\n",
       "      <th></th>\n",
       "      <th>DV</th>\n",
       "      <th>IV</th>\n",
       "      <th>type</th>\n",
       "    </tr>\n",
       "  </thead>\n",
       "  <tbody>\n",
       "    <tr>\n",
       "      <th>0</th>\n",
       "      <td>3.656789</td>\n",
       "      <td>0.0</td>\n",
       "      <td>1.0</td>\n",
       "    </tr>\n",
       "    <tr>\n",
       "      <th>1</th>\n",
       "      <td>6.315031</td>\n",
       "      <td>0.0</td>\n",
       "      <td>1.0</td>\n",
       "    </tr>\n",
       "    <tr>\n",
       "      <th>2</th>\n",
       "      <td>1.541711</td>\n",
       "      <td>0.0</td>\n",
       "      <td>1.0</td>\n",
       "    </tr>\n",
       "    <tr>\n",
       "      <th>3</th>\n",
       "      <td>7.794711</td>\n",
       "      <td>0.0</td>\n",
       "      <td>1.0</td>\n",
       "    </tr>\n",
       "    <tr>\n",
       "      <th>4</th>\n",
       "      <td>4.344737</td>\n",
       "      <td>0.0</td>\n",
       "      <td>1.0</td>\n",
       "    </tr>\n",
       "  </tbody>\n",
       "</table>\n",
       "</div>"
      ],
      "text/plain": [
       "         DV   IV  type\n",
       "0  3.656789  0.0   1.0\n",
       "1  6.315031  0.0   1.0\n",
       "2  1.541711  0.0   1.0\n",
       "3  7.794711  0.0   1.0\n",
       "4  4.344737  0.0   1.0"
      ]
     },
     "execution_count": 51,
     "metadata": {},
     "output_type": "execute_result"
    }
   ],
   "source": [
    "dataallp[:5]"
   ]
  },
  {
   "cell_type": "code",
   "execution_count": 52,
   "metadata": {},
   "outputs": [
    {
     "name": "stdout",
     "output_type": "stream",
     "text": [
      "15.184455495918073 20.181613860151433\n"
     ]
    }
   ],
   "source": [
    "print(np.mean(dtwall[:,0]),np.mean(dtwallo[:,0]))"
   ]
  },
  {
   "cell_type": "code",
   "execution_count": 54,
   "metadata": {},
   "outputs": [],
   "source": [
    "import statsmodels.formula.api as smf\n",
    "import statsmodels.api as sm"
   ]
  },
  {
   "cell_type": "code",
   "execution_count": 55,
   "metadata": {},
   "outputs": [
    {
     "name": "stdout",
     "output_type": "stream",
     "text": [
      "          Mixed Linear Model Regression Results\n",
      "==========================================================\n",
      "Model:            MixedLM Dependent Variable: DV          \n",
      "No. Observations: 115752  Method:             REML        \n",
      "No. Groups:       6       Scale:              636.8095    \n",
      "Min. group size:  1021    Log-Likelihood:     -537935.4343\n",
      "Max. group size:  46690   Converged:          Yes         \n",
      "Mean group size:  19292.0                                 \n",
      "-----------------------------------------------------------\n",
      "             Coef.   Std.Err.    z    P>|z|  [0.025  0.975]\n",
      "-----------------------------------------------------------\n",
      "Intercept    15.259     2.431  6.277  0.000  10.495  20.023\n",
      "IV            5.565     0.772  7.205  0.000   4.051   7.079\n",
      "Group Var    31.869     0.764                              \n",
      "==========================================================\n",
      "\n"
     ]
    }
   ],
   "source": [
    "med=smf.mixedlm(\"DV~IV\",dataallp,groups=dataallp['type'])\n",
    "medf = med.fit(method=['powell'])\n",
    "print(medf.summary())"
   ]
  },
  {
   "cell_type": "code",
   "execution_count": 56,
   "metadata": {},
   "outputs": [
    {
     "name": "stdout",
     "output_type": "stream",
     "text": [
      "          Mixed Linear Model Regression Results\n",
      "==========================================================\n",
      "Model:            MixedLM Dependent Variable: DV          \n",
      "No. Observations: 115752  Method:             REML        \n",
      "No. Groups:       6       Scale:              636.5473    \n",
      "Min. group size:  1021    Log-Likelihood:     -537915.7087\n",
      "Max. group size:  46690   Converged:          Yes         \n",
      "Mean group size:  19292.0                                 \n",
      "----------------------------------------------------------\n",
      "                 Coef.  Std.Err.   z   P>|z| [0.025 0.975]\n",
      "----------------------------------------------------------\n",
      "Intercept        16.071    2.383 6.743 0.000 11.400 20.742\n",
      "IV                4.631    3.044 1.521 0.128 -1.335 10.596\n",
      "Group Var        26.332    0.951                          \n",
      "Group x IV Cov  -20.404    1.030                          \n",
      "IV Var           47.667    1.463                          \n",
      "==========================================================\n",
      "\n"
     ]
    }
   ],
   "source": [
    "med=smf.mixedlm(\"DV~IV\",dataallp,groups=dataallp['type'],re_formula=\"~IV\")\n",
    "medf = med.fit(method=['powell'])\n",
    "print(medf.summary())"
   ]
  },
  {
   "cell_type": "code",
   "execution_count": 57,
   "metadata": {},
   "outputs": [
    {
     "name": "stdout",
     "output_type": "stream",
     "text": [
      "p_value of sdtwc1= 1.736972798926489e-10\n"
     ]
    }
   ],
   "source": [
    "sdtwc1=stats.ttest_ind(dtwall[:,0],dtwallo[:,0])\n",
    "print('p_value of sdtwc1=',sdtwc1[1])"
   ]
  },
  {
   "cell_type": "code",
   "execution_count": 58,
   "metadata": {},
   "outputs": [
    {
     "data": {
      "image/png": "[encoded data removed]",
      "text/plain": [
       "<Figure size 432x288 with 1 Axes>"
      ]
     },
     "metadata": {
      "needs_background": "light"
     },
     "output_type": "display_data"
    }
   ],
   "source": [
    "xxx=[None]*(len(dtwall)+len(dtwallo))\n",
    "for i in range(len(dtwall)):\n",
    "    xxx[i]=\"I-C\"\n",
    "for i in range(len(dtwall),len(dtwall)+len(dtwallo)):\n",
    "    xxx[i]=\"Psuedo\"\n",
    "compare_dtwtc=np.r_[dtwall[:,0],dtwallo[:,0]]\n",
    "compare_mdtwtc=np.r_[dtwall[:,1],dtwallo[:,1]]\n",
    "ax = sns.boxplot(x=xxx, y=compare_dtwtc, linewidth=1.5,whis=1.5)\n",
    "plt.ylim(-2,100)\n",
    "plt.xlabel('I-C True turns/Psuedo Turns', fontsize=12)\n",
    "plt.ylabel('dtw',fontsize=12)\n",
    "#plt.title('Vocal exchange/Non-vocal exchange')\n",
    "plt.show()"
   ]
  }
 ],
 "metadata": {
  "kernelspec": {
   "display_name": "Python 3",
   "language": "python",
   "name": "python3"
  },
  "language_info": {
   "codemirror_mode": {
    "name": "ipython",
    "version": 3
   },
   "file_extension": ".py",
   "mimetype": "text/x-python",
   "name": "python",
   "nbconvert_exporter": "python",
   "pygments_lexer": "ipython3",
   "version": "3.8.5"
  }
 },
 "nbformat": 4,
 "nbformat_minor": 4
}
