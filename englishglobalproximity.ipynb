{
 "cells": [
  {
   "cell_type": "code",
   "execution_count": 1,
   "metadata": {},
   "outputs": [
    {
     "name": "stderr",
     "output_type": "stream",
     "text": [
      "C:\\Users\\ljr\\anaconda3\\lib\\site-packages\\pandas\\core\\computation\\expressions.py:20: UserWarning: Pandas requires version '2.7.3' or newer of 'numexpr' (version '2.7.1' currently installed).\n",
      "  from pandas.core.computation.check import NUMEXPR_INSTALLED\n"
     ]
    }
   ],
   "source": [
    "import math\n",
    "import numpy as np\n",
    "import sklearn\n",
    "from sklearn.cluster import KMeans\n",
    "import matplotlib as mpl\n",
    "import matplotlib.pyplot as plt\n",
    "import librosa\n",
    "import librosa.display\n",
    "import os\n",
    "import re\n",
    "import seaborn as sns\n",
    "import pandas as pd\n",
    "import random\n",
    "from scipy import stats  #t-test\n",
    "from scipy.spatial.distance import euclidean\n",
    "from fastdtw import fastdtw\n",
    "from scipy.interpolate import interp1d\n",
    "from itertools import groupby"
   ]
  },
  {
   "cell_type": "code",
   "execution_count": 2,
   "metadata": {},
   "outputs": [],
   "source": [
    "pathturn11 = r\"C:\\LJR\\babylab\\English\\cut\\high\\5134\\turntaking\\block\\fa\\turn1\"\n",
    "filesturn11= os.listdir(pathturn11)\n",
    "pathturn12 = r\"C:\\LJR\\babylab\\English\\cut\\high\\5134\\turntaking\\block\\fa\\turn2\"\n",
    "filesturn12= os.listdir(pathturn12)\n",
    "pathturn13 = r\"C:\\LJR\\babylab\\English\\cut\\high\\5134\\turntaking\\block\\fa\\turn3\"\n",
    "filesturn13= os.listdir(pathturn13)\n",
    "pathturn14 = r\"C:\\LJR\\babylab\\English\\cut\\high\\5134\\turntaking\\block\\fa\\turn4\"\n",
    "filesturn14= os.listdir(pathturn14)\n",
    "pathturn15 = r\"C:\\LJR\\babylab\\English\\cut\\high\\5134\\turntaking\\block\\fa\\turn5\"\n",
    "filesturn15= os.listdir(pathturn15)\n",
    "pathturn16 = r\"C:\\LJR\\babylab\\English\\cut\\high\\5134\\turntaking\\block\\fa\\turn6\"\n",
    "filesturn16= os.listdir(pathturn16)\n",
    "pathturn17 = r\"C:\\LJR\\babylab\\English\\cut\\high\\5134\\turntaking\\block\\fa\\turn7\"\n",
    "filesturn17= os.listdir(pathturn17)\n",
    "pathturn18 = r\"C:\\LJR\\babylab\\English\\cut\\high\\5134\\turntaking\\block\\fa\\turn8\"\n",
    "filesturn18= os.listdir(pathturn18)\n",
    "pathturn19 = r\"C:\\LJR\\babylab\\English\\cut\\high\\5134\\turntaking\\block\\fa\\turn9\"\n",
    "filesturn19= os.listdir(pathturn19)\n",
    "pathturn110 = r\"C:\\LJR\\babylab\\English\\cut\\high\\5134\\turntaking\\block\\fa\\turn10\"\n",
    "filesturn110= os.listdir(pathturn110)\n",
    "\n",
    "pathturn11c = r\"C:\\LJR\\babylab\\English\\cut\\high\\5134\\turntaking\\block\\chi\\turn1\"\n",
    "filesturn11c= os.listdir(pathturn11c)\n",
    "pathturn12c = r\"C:\\LJR\\babylab\\English\\cut\\high\\5134\\turntaking\\block\\chi\\turn2\"\n",
    "filesturn12c= os.listdir(pathturn12c)\n",
    "pathturn13c = r\"C:\\LJR\\babylab\\English\\cut\\high\\5134\\turntaking\\block\\chi\\turn3\"\n",
    "filesturn13c= os.listdir(pathturn13c)\n",
    "pathturn14c = r\"C:\\LJR\\babylab\\English\\cut\\high\\5134\\turntaking\\block\\chi\\turn4\"\n",
    "filesturn14c= os.listdir(pathturn14c)\n",
    "pathturn15c = r\"C:\\LJR\\babylab\\English\\cut\\high\\5134\\turntaking\\block\\chi\\turn5\"\n",
    "filesturn15c= os.listdir(pathturn15c)\n",
    "pathturn16c = r\"C:\\LJR\\babylab\\English\\cut\\high\\5134\\turntaking\\block\\chi\\turn6\"\n",
    "filesturn16c= os.listdir(pathturn16c)\n",
    "pathturn17c = r\"C:\\LJR\\babylab\\English\\cut\\high\\5134\\turntaking\\block\\chi\\turn7\"\n",
    "filesturn17c= os.listdir(pathturn17c)\n",
    "pathturn18c = r\"C:\\LJR\\babylab\\English\\cut\\high\\5134\\turntaking\\block\\chi\\turn8\"\n",
    "filesturn18c= os.listdir(pathturn18c)\n",
    "pathturn19c = r\"C:\\LJR\\babylab\\English\\cut\\high\\5134\\turntaking\\block\\chi\\turn9\"\n",
    "filesturn19c= os.listdir(pathturn19c)\n",
    "pathturn110c = r\"C:\\LJR\\babylab\\English\\cut\\high\\5134\\turntaking\\block\\chi\\turn10\"\n",
    "filesturn110c= os.listdir(pathturn110c)"
   ]
  },
  {
   "cell_type": "code",
   "execution_count": 3,
   "metadata": {},
   "outputs": [],
   "source": [
    "pathturn111 = r\"C:\\LJR\\babylab\\English\\cut\\high\\5134\\turntaking\\block\\fa\\turn11\"\n",
    "filesturn111= os.listdir(pathturn111)\n",
    "pathturn112 = r\"C:\\LJR\\babylab\\English\\cut\\high\\5134\\turntaking\\block\\fa\\turn12\"\n",
    "filesturn112= os.listdir(pathturn112)\n",
    "pathturn113 = r\"C:\\LJR\\babylab\\English\\cut\\high\\5134\\turntaking\\block\\fa\\turn13\"\n",
    "filesturn113= os.listdir(pathturn113)\n",
    "pathturn114 = r\"C:\\LJR\\babylab\\English\\cut\\high\\5134\\turntaking\\block\\fa\\turn14\"\n",
    "filesturn114= os.listdir(pathturn114)\n",
    "pathturn115 = r\"C:\\LJR\\babylab\\English\\cut\\high\\5134\\turntaking\\block\\fa\\turn15\"\n",
    "filesturn115= os.listdir(pathturn115)\n",
    "pathturn116 = r\"C:\\LJR\\babylab\\English\\cut\\high\\5134\\turntaking\\block\\fa\\turn16\"\n",
    "filesturn116= os.listdir(pathturn116)\n",
    "pathturn117 = r\"C:\\LJR\\babylab\\English\\cut\\high\\5134\\turntaking\\block\\fa\\turn17\"\n",
    "filesturn117= os.listdir(pathturn117)\n",
    "pathturn118 = r\"C:\\LJR\\babylab\\English\\cut\\high\\5134\\turntaking\\block\\fa\\turn18\"\n",
    "filesturn118= os.listdir(pathturn118)\n",
    "pathturn119 = r\"C:\\LJR\\babylab\\English\\cut\\high\\5134\\turntaking\\block\\fa\\turn19\"\n",
    "filesturn119= os.listdir(pathturn119)\n",
    "pathturn120 = r\"C:\\LJR\\babylab\\English\\cut\\high\\5134\\turntaking\\block\\fa\\turn20\"\n",
    "filesturn120= os.listdir(pathturn120)\n",
    "pathturn121 = r\"C:\\LJR\\babylab\\English\\cut\\high\\5134\\turntaking\\block\\fa\\turn21\"\n",
    "filesturn121= os.listdir(pathturn121)\n",
    "pathturn122 = r\"C:\\LJR\\babylab\\English\\cut\\high\\5134\\turntaking\\block\\fa\\turn22\"\n",
    "filesturn122= os.listdir(pathturn122)\n",
    "pathturn123 = r\"C:\\LJR\\babylab\\English\\cut\\high\\5134\\turntaking\\block\\fa\\turn23\"\n",
    "filesturn123= os.listdir(pathturn123)\n",
    "pathturn124 = r\"C:\\LJR\\babylab\\English\\cut\\high\\5134\\turntaking\\block\\fa\\turn24\"\n",
    "filesturn124= os.listdir(pathturn124)\n",
    "\n",
    "\n",
    "pathturn111c = r\"C:\\LJR\\babylab\\English\\cut\\high\\5134\\turntaking\\block\\chi\\turn11\"\n",
    "filesturn111c= os.listdir(pathturn111c)\n",
    "pathturn112c = r\"C:\\LJR\\babylab\\English\\cut\\high\\5134\\turntaking\\block\\chi\\turn12\"\n",
    "filesturn112c= os.listdir(pathturn112c)\n",
    "pathturn113c = r\"C:\\LJR\\babylab\\English\\cut\\high\\5134\\turntaking\\block\\chi\\turn13\"\n",
    "filesturn113c= os.listdir(pathturn113c)\n",
    "pathturn114c = r\"C:\\LJR\\babylab\\English\\cut\\high\\5134\\turntaking\\block\\chi\\turn14\"\n",
    "filesturn114c= os.listdir(pathturn114c)\n",
    "pathturn115c = r\"C:\\LJR\\babylab\\English\\cut\\high\\5134\\turntaking\\block\\chi\\turn15\"\n",
    "filesturn115c= os.listdir(pathturn115c)\n",
    "pathturn116c = r\"C:\\LJR\\babylab\\English\\cut\\high\\5134\\turntaking\\block\\chi\\turn16\"\n",
    "filesturn116c= os.listdir(pathturn116c)\n",
    "pathturn117c = r\"C:\\LJR\\babylab\\English\\cut\\high\\5134\\turntaking\\block\\chi\\turn17\"\n",
    "filesturn117c= os.listdir(pathturn117c)\n",
    "pathturn118c = r\"C:\\LJR\\babylab\\English\\cut\\high\\5134\\turntaking\\block\\chi\\turn18\"\n",
    "filesturn118c= os.listdir(pathturn118c)\n",
    "pathturn119c = r\"C:\\LJR\\babylab\\English\\cut\\high\\5134\\turntaking\\block\\chi\\turn19\"\n",
    "filesturn119c= os.listdir(pathturn119c)\n",
    "pathturn120c = r\"C:\\LJR\\babylab\\English\\cut\\high\\5134\\turntaking\\block\\chi\\turn20\"\n",
    "filesturn120c= os.listdir(pathturn120c)\n",
    "pathturn121c = r\"C:\\LJR\\babylab\\English\\cut\\high\\5134\\turntaking\\block\\chi\\turn21\"\n",
    "filesturn121c= os.listdir(pathturn121c)\n",
    "pathturn122c = r\"C:\\LJR\\babylab\\English\\cut\\high\\5134\\turntaking\\block\\chi\\turn22\"\n",
    "filesturn122c= os.listdir(pathturn122c)\n",
    "pathturn123c = r\"C:\\LJR\\babylab\\English\\cut\\high\\5134\\turntaking\\block\\chi\\turn23\"\n",
    "filesturn123c= os.listdir(pathturn123c)\n",
    "pathturn124c = r\"C:\\LJR\\babylab\\English\\cut\\high\\5134\\turntaking\\block\\chi\\turn24\"\n",
    "filesturn124c= os.listdir(pathturn124c)"
   ]
  },
  {
   "cell_type": "code",
   "execution_count": 4,
   "metadata": {},
   "outputs": [],
   "source": [
    "pathturn21 = r\"C:\\LJR\\babylab\\English\\cut\\high\\6045\\turntaking\\block\\fa\\turn1\"\n",
    "filesturn21= os.listdir(pathturn21)\n",
    "pathturn22 = r\"C:\\LJR\\babylab\\English\\cut\\high\\6045\\turntaking\\block\\fa\\turn2\"\n",
    "filesturn22= os.listdir(pathturn22)\n",
    "pathturn23 = r\"C:\\LJR\\babylab\\English\\cut\\high\\6045\\turntaking\\block\\fa\\turn3\"\n",
    "filesturn23= os.listdir(pathturn23)\n",
    "pathturn24 = r\"C:\\LJR\\babylab\\English\\cut\\high\\6045\\turntaking\\block\\fa\\turn4\"\n",
    "filesturn24= os.listdir(pathturn24)\n",
    "pathturn25 = r\"C:\\LJR\\babylab\\English\\cut\\high\\6045\\turntaking\\block\\fa\\turn5\"\n",
    "filesturn25= os.listdir(pathturn25)\n",
    "\n",
    "pathturn21c = r\"C:\\LJR\\babylab\\English\\cut\\high\\6045\\turntaking\\block\\chi\\turn1\"\n",
    "filesturn21c= os.listdir(pathturn21c)\n",
    "pathturn22c = r\"C:\\LJR\\babylab\\English\\cut\\high\\6045\\turntaking\\block\\chi\\turn2\"\n",
    "filesturn22c= os.listdir(pathturn22c)\n",
    "pathturn23c = r\"C:\\LJR\\babylab\\English\\cut\\high\\6045\\turntaking\\block\\chi\\turn3\"\n",
    "filesturn23c= os.listdir(pathturn23c)\n",
    "pathturn24c = r\"C:\\LJR\\babylab\\English\\cut\\high\\6045\\turntaking\\block\\chi\\turn4\"\n",
    "filesturn24c= os.listdir(pathturn24c)\n",
    "pathturn25c = r\"C:\\LJR\\babylab\\English\\cut\\high\\6045\\turntaking\\block\\chi\\turn5\"\n",
    "filesturn25c= os.listdir(pathturn25c)"
   ]
  },
  {
   "cell_type": "code",
   "execution_count": 5,
   "metadata": {},
   "outputs": [],
   "source": [
    "pathturn31 = r\"C:\\LJR\\babylab\\English\\cut\\high\\8496\\turntaking\\block\\fa\\turn1\"\n",
    "filesturn31= os.listdir(pathturn31)\n",
    "pathturn32 = r\"C:\\LJR\\babylab\\English\\cut\\high\\8496\\turntaking\\block\\fa\\turn2\"\n",
    "filesturn32= os.listdir(pathturn32)\n",
    "\n",
    "pathturn31c = r\"C:\\LJR\\babylab\\English\\cut\\high\\8496\\turntaking\\block\\chi\\turn1\"\n",
    "filesturn31c= os.listdir(pathturn31c)\n",
    "pathturn32c = r\"C:\\LJR\\babylab\\English\\cut\\high\\8496\\turntaking\\block\\chi\\turn2\"\n",
    "filesturn32c= os.listdir(pathturn32c)"
   ]
  },
  {
   "cell_type": "code",
   "execution_count": 6,
   "metadata": {},
   "outputs": [],
   "source": [
    "pathturn41 = r\"C:\\LJR\\babylab\\English\\cut\\high\\8560\\turntaking\\block\\fa\\turn1\"\n",
    "filesturn41= os.listdir(pathturn41)\n",
    "pathturn42 = r\"C:\\LJR\\babylab\\English\\cut\\high\\8560\\turntaking\\block\\fa\\turn2\"\n",
    "filesturn42= os.listdir(pathturn42)\n",
    "pathturn43 = r\"C:\\LJR\\babylab\\English\\cut\\high\\8560\\turntaking\\block\\fa\\turn3\"\n",
    "filesturn43= os.listdir(pathturn43)\n",
    "pathturn44 = r\"C:\\LJR\\babylab\\English\\cut\\high\\8560\\turntaking\\block\\fa\\turn4\"\n",
    "filesturn44= os.listdir(pathturn44)\n",
    "pathturn45 = r\"C:\\LJR\\babylab\\English\\cut\\high\\8560\\turntaking\\block\\fa\\turn5\"\n",
    "filesturn45= os.listdir(pathturn45)\n",
    "pathturn46 = r\"C:\\LJR\\babylab\\English\\cut\\high\\8560\\turntaking\\block\\fa\\turn6\"\n",
    "filesturn46= os.listdir(pathturn46)\n",
    "pathturn47 = r\"C:\\LJR\\babylab\\English\\cut\\high\\8560\\turntaking\\block\\fa\\turn7\"\n",
    "filesturn47= os.listdir(pathturn47)\n",
    "pathturn48 = r\"C:\\LJR\\babylab\\English\\cut\\high\\8560\\turntaking\\block\\fa\\turn8\"\n",
    "filesturn48= os.listdir(pathturn48)\n",
    "\n",
    "pathturn41c = r\"C:\\LJR\\babylab\\English\\cut\\high\\8560\\turntaking\\block\\chi\\turn1\"\n",
    "filesturn41c= os.listdir(pathturn41c)\n",
    "pathturn42c = r\"C:\\LJR\\babylab\\English\\cut\\high\\8560\\turntaking\\block\\chi\\turn2\"\n",
    "filesturn42c= os.listdir(pathturn42c)\n",
    "pathturn43c = r\"C:\\LJR\\babylab\\English\\cut\\high\\8560\\turntaking\\block\\chi\\turn3\"\n",
    "filesturn43c= os.listdir(pathturn43c)\n",
    "pathturn44c = r\"C:\\LJR\\babylab\\English\\cut\\high\\8560\\turntaking\\block\\chi\\turn4\"\n",
    "filesturn44c= os.listdir(pathturn44c)\n",
    "pathturn45c = r\"C:\\LJR\\babylab\\English\\cut\\high\\8560\\turntaking\\block\\chi\\turn5\"\n",
    "filesturn45c= os.listdir(pathturn45c)\n",
    "pathturn46c = r\"C:\\LJR\\babylab\\English\\cut\\high\\8560\\turntaking\\block\\chi\\turn6\"\n",
    "filesturn46c= os.listdir(pathturn46c)\n",
    "pathturn47c = r\"C:\\LJR\\babylab\\English\\cut\\high\\8560\\turntaking\\block\\chi\\turn7\"\n",
    "filesturn47c= os.listdir(pathturn47c)\n",
    "pathturn48c = r\"C:\\LJR\\babylab\\English\\cut\\high\\8560\\turntaking\\block\\chi\\turn8\"\n",
    "filesturn48c= os.listdir(pathturn48c)"
   ]
  },
  {
   "cell_type": "code",
   "execution_count": 7,
   "metadata": {},
   "outputs": [],
   "source": [
    "pathturn51 = r\"C:\\LJR\\babylab\\English\\cut\\high\\9106\\turntaking\\block\\fa\\turn1\"\n",
    "filesturn51= os.listdir(pathturn51)\n",
    "pathturn52 = r\"C:\\LJR\\babylab\\English\\cut\\high\\9106\\turntaking\\block\\fa\\turn2\"\n",
    "filesturn52= os.listdir(pathturn52)\n",
    "pathturn53 = r\"C:\\LJR\\babylab\\English\\cut\\high\\9106\\turntaking\\block\\fa\\turn3\"\n",
    "filesturn53= os.listdir(pathturn53)\n",
    "\n",
    "pathturn51c = r\"C:\\LJR\\babylab\\English\\cut\\high\\9106\\turntaking\\block\\chi\\turn1\"\n",
    "filesturn51c= os.listdir(pathturn51c)\n",
    "pathturn52c = r\"C:\\LJR\\babylab\\English\\cut\\high\\9106\\turntaking\\block\\chi\\turn2\"\n",
    "filesturn52c= os.listdir(pathturn52c)\n",
    "pathturn53c = r\"C:\\LJR\\babylab\\English\\cut\\high\\9106\\turntaking\\block\\chi\\turn3\"\n",
    "filesturn53c= os.listdir(pathturn53c)"
   ]
  },
  {
   "cell_type": "code",
   "execution_count": 8,
   "metadata": {},
   "outputs": [],
   "source": [
    "pathturn61 = r\"C:\\LJR\\babylab\\English\\cut\\high\\9733\\turntaking\\block\\fa\\turn1\"\n",
    "filesturn61= os.listdir(pathturn61)\n",
    "pathturn62 = r\"C:\\LJR\\babylab\\English\\cut\\high\\9733\\turntaking\\block\\fa\\turn2\"\n",
    "filesturn62= os.listdir(pathturn62)\n",
    "pathturn63 = r\"C:\\LJR\\babylab\\English\\cut\\high\\9733\\turntaking\\block\\fa\\turn3\"\n",
    "filesturn63= os.listdir(pathturn63)\n",
    "pathturn64 = r\"C:\\LJR\\babylab\\English\\cut\\high\\9733\\turntaking\\block\\fa\\turn4\"\n",
    "filesturn64= os.listdir(pathturn64)\n",
    "pathturn65 = r\"C:\\LJR\\babylab\\English\\cut\\high\\9733\\turntaking\\block\\fa\\turn5\"\n",
    "filesturn65= os.listdir(pathturn65)\n",
    "\n",
    "pathturn61c = r\"C:\\LJR\\babylab\\English\\cut\\high\\9733\\turntaking\\block\\chi\\turn1\"\n",
    "filesturn61c= os.listdir(pathturn61c)\n",
    "pathturn62c = r\"C:\\LJR\\babylab\\English\\cut\\high\\9733\\turntaking\\block\\chi\\turn2\"\n",
    "filesturn62c= os.listdir(pathturn62c)\n",
    "pathturn63c = r\"C:\\LJR\\babylab\\English\\cut\\high\\9733\\turntaking\\block\\chi\\turn3\"\n",
    "filesturn63c= os.listdir(pathturn63c)\n",
    "pathturn64c = r\"C:\\LJR\\babylab\\English\\cut\\high\\9733\\turntaking\\block\\chi\\turn4\"\n",
    "filesturn64c= os.listdir(pathturn64c)\n",
    "pathturn65c = r\"C:\\LJR\\babylab\\English\\cut\\high\\9733\\turntaking\\block\\chi\\turn5\"\n",
    "filesturn65c= os.listdir(pathturn65c)"
   ]
  },
  {
   "cell_type": "code",
   "execution_count": 9,
   "metadata": {},
   "outputs": [],
   "source": [
    "import sklearn\n",
    "def normalize(x, axis=0):\n",
    "    return sklearn.preprocessing.minmax_scale(x, axis=axis)"
   ]
  },
  {
   "cell_type": "code",
   "execution_count": 10,
   "metadata": {},
   "outputs": [],
   "source": [
    "def featurec(path,files):\n",
    "    t=np.zeros((len(files),10))\n",
    "    for i in range(len(files)):\n",
    "        x,sr1=librosa.load(path+\"\\\\\"+files[i],sr=None)\n",
    "        duration=librosa.get_duration(y=x, sr=sr1)\n",
    "        emphasized_signal = np.append(x[0], x[1:] -0.97 * x[:-1])\n",
    "        mfccss = librosa.feature.mfcc(y=emphasized_signal, sr=sr1)\n",
    "        mfccs = normalize(mfccss , axis=1)\n",
    "        mfccs=mfccs.T\n",
    "        mfccsm=np.mean(mfccs)\n",
    "        f0, voiced_flag, voiced_probs = librosa.pyin(x,sr=sr1,frame_length=512, fill_na=np.nan, n_thresholds=50, fmin=120, fmax=600)\n",
    "        rf0= np.nanmax(f0)-np.nanmin(f0)\n",
    "        if np.isnan(rf0):\n",
    "            print(path+\"\\\\\"+files[i])\n",
    "        maxf0 = np.nanmax(f0)\n",
    "        minf0 = np.nanmin(f0)\n",
    "        mmf0=np.nanmean(f0)\n",
    "        rms = librosa.feature.rms(y=x,frame_length=512, hop_length=128)\n",
    "        mrms=np.nanmean(rms)\n",
    "        zerocrossr = librosa.feature.zero_crossing_rate(y=x,frame_length=512, hop_length=128)\n",
    "        mzerocrossr=np.nanmean(zerocrossr)\n",
    "        starttime=re.search(\"(\\d+\\.\\d+)\",files[i]).group(0)\n",
    "        label=0\n",
    "        feature=np.c_[float(starttime),duration,mfccsm,rf0,maxf0,minf0,mmf0,mrms,mzerocrossr,label]\n",
    "        t[i,:]=feature\n",
    "    return t"
   ]
  },
  {
   "cell_type": "code",
   "execution_count": 11,
   "metadata": {},
   "outputs": [],
   "source": [
    "def featureci(path,files):\n",
    "    t=np.zeros((len(files),10))\n",
    "    for i in range(len(files)):\n",
    "        x,sr1=librosa.load(path+\"\\\\\"+files[i],sr=None)\n",
    "        duration=librosa.get_duration(y=x, sr=sr1)\n",
    "        emphasized_signal = np.append(x[0], x[1:] -0.97 * x[:-1])\n",
    "        mfccss = librosa.feature.mfcc(y=emphasized_signal, sr=sr1)\n",
    "        mfccs = normalize(mfccss , axis=1)\n",
    "        mfccs=mfccs.T\n",
    "        mfccsm=np.mean(mfccs)\n",
    "        f0, voiced_flag, voiced_probs = librosa.pyin(x,sr=sr1,frame_length=512, fill_na=np.nan, n_thresholds=50, fmin=120, fmax=1000)\n",
    "        rf0= np.nanmax(f0)-np.nanmin(f0)\n",
    "        if np.isnan(rf0):\n",
    "            print(path+\"\\\\\"+files[i])\n",
    "        maxf0 = np.nanmax(f0)\n",
    "        minf0 = np.nanmin(f0)\n",
    "        mmf0=np.nanmean(f0)\n",
    "        rms = librosa.feature.rms(y=x,frame_length=512, hop_length=128)\n",
    "        mrms=np.nanmean(rms)\n",
    "        zerocrossr = librosa.feature.zero_crossing_rate(y=x,frame_length=512, hop_length=128)\n",
    "        mzerocrossr=np.nanmean(zerocrossr)\n",
    "        starttime=re.search(\"(\\d+\\.\\d+)\",files[i]).group(0)\n",
    "        label=1\n",
    "        feature=np.c_[float(starttime),duration,mfccsm,rf0,maxf0,minf0,mmf0,mrms,mzerocrossr,label]\n",
    "        t[i,:]=feature\n",
    "    return t"
   ]
  },
  {
   "cell_type": "code",
   "execution_count": 12,
   "metadata": {},
   "outputs": [],
   "source": [
    "def diffc(pathturn,filesturn,pathturnc,filesturnc,conin,idin):\n",
    "    data=featurec(pathturn,filesturn)\n",
    "    datai=featureci(pathturnc,filesturnc)\n",
    "    datamean=np.zeros((len(data[:,6]),len(datai[:,6])))\n",
    "    datamax=np.zeros((len(data[:,4]),len(datai[:,4])))\n",
    "    datamin=np.zeros((len(data[:,5]),len(datai[:,5])))\n",
    "    datarange=np.zeros((len(data[:,3]),len(datai[:,3])))\n",
    "    for i in range(len(data[:,6])):\n",
    "        datamean[i,:]=np.abs(datai[:,6]-data[i,6])\n",
    "        datamax[i,:]=np.abs(datai[:,4]-data[i,4])\n",
    "        datamin[i,:]=np.abs(datai[:,5]-data[i,5])\n",
    "        datarange[i,:]=np.abs(datai[:,3]-data[i,3])\n",
    "    datameano=datamean.reshape(len(data[:,6])*len(datai[:,6]),1)\n",
    "    datamaxo=datamax.reshape(len(data[:,4])*len(datai[:,4]),1)\n",
    "    datamino=datamin.reshape(len(data[:,5])*len(datai[:,5]),1)\n",
    "    datarangeo=datarange.reshape(len(data[:,3])*len(datai[:,3]),1)\n",
    "    ind=np.zeros(len(data[:,6])*len(datai[:,6]))+idin\n",
    "    con=np.zeros(len(data[:,6])*len(datai[:,6]))+conin\n",
    "    dataoutme=np.c_[datameano,con,ind]\n",
    "    dataoutma=np.c_[datamaxo,con,ind]\n",
    "    dataoutmi=np.c_[datamino,con,ind]\n",
    "    dataoutr=np.c_[datarangeo,con,ind]\n",
    "    return dataoutme, dataoutma, dataoutmi,dataoutr"
   ]
  },
  {
   "cell_type": "code",
   "execution_count": 13,
   "metadata": {},
   "outputs": [],
   "source": [
    "diffc11,xlabel11,t11,tc11=diffc(pathturn11,filesturn11,pathturn11c,filesturn11c,0,1)\n",
    "diffc12,xlabel12,t12,tc12=diffc(pathturn12,filesturn12,pathturn12c,filesturn12c,0,1)\n",
    "diffc13,xlabel13,t13,tc13=diffc(pathturn13,filesturn13,pathturn13c,filesturn13c,0,1)\n",
    "diffc14,xlabel14,t14,tc14=diffc(pathturn14,filesturn14,pathturn14c,filesturn14c,0,1)\n",
    "diffc15,xlabel15,t15,tc15=diffc(pathturn15,filesturn15,pathturn15c,filesturn15c,0,1)\n",
    "diffc16,xlabel16,t16,tc16=diffc(pathturn16,filesturn16,pathturn16c,filesturn16c,0,1)\n",
    "diffc17,xlabel17,t17,tc17=diffc(pathturn17,filesturn17,pathturn17c,filesturn17c,0,1)\n",
    "diffc18,xlabel18,t18,tc18=diffc(pathturn18,filesturn18,pathturn18c,filesturn18c,0,1)\n",
    "diffc19,xlabel19,t19,tc19=diffc(pathturn19,filesturn19,pathturn19c,filesturn19c,0,1)\n",
    "diffc110,xlabel110,t110,tc110=diffc(pathturn110,filesturn110,pathturn110c,filesturn110c,0,1)\n",
    "diffc111,xlabel111,t111,tc111=diffc(pathturn111,filesturn111,pathturn111c,filesturn111c,0,1)\n",
    "diffc112,xlabel112,t112,tc112=diffc(pathturn112,filesturn112,pathturn112c,filesturn112c,0,1)\n",
    "diffc113,xlabel113,t113,tc113=diffc(pathturn113,filesturn113,pathturn113c,filesturn113c,0,1)\n",
    "diffc114,xlabel114,t114,tc114=diffc(pathturn114,filesturn114,pathturn114c,filesturn114c,0,1)\n",
    "diffc115,xlabel115,t115,tc115=diffc(pathturn115,filesturn115,pathturn115c,filesturn115c,0,1)\n",
    "diffc116,xlabel116,t116,tc116=diffc(pathturn116,filesturn116,pathturn116c,filesturn116c,0,1)\n",
    "diffc117,xlabel117,t117,tc117=diffc(pathturn117,filesturn117,pathturn117c,filesturn117c,0,1)\n",
    "diffc118,xlabel118,t118,tc118=diffc(pathturn118,filesturn118,pathturn118c,filesturn118c,0,1)\n",
    "diffc119,xlabel119,t119,tc119=diffc(pathturn119,filesturn119,pathturn119c,filesturn119c,0,1)\n",
    "diffc120,xlabel120,t120,tc120=diffc(pathturn120,filesturn120,pathturn120c,filesturn120c,0,1)\n",
    "diffc121,xlabel121,t121,tc121=diffc(pathturn121,filesturn121,pathturn121c,filesturn121c,0,1)\n",
    "diffc122,xlabel122,t122,tc122=diffc(pathturn122,filesturn122,pathturn122c,filesturn122c,0,1)\n",
    "diffc123,xlabel123,t123,tc123=diffc(pathturn123,filesturn123,pathturn123c,filesturn123c,0,1)\n",
    "diffc124,xlabel124,t124,tc124=diffc(pathturn124,filesturn124,pathturn124c,filesturn124c,0,1)"
   ]
  },
  {
   "cell_type": "code",
   "execution_count": 14,
   "metadata": {},
   "outputs": [],
   "source": [
    "diffct11=np.r_[diffc11,diffc12,diffc13,diffc14,diffc15,diffc16,diffc17,diffc18,diffc19,diffc110]\n",
    "#diffct12=np.r_[diffc111,diffc112,diffc113,diffc114,diffc115,diffc116,diffc117,diffc118,diffc119,diffc120,diffc121,diffc122,diffc123,diffc124]\n",
    "diffct12=np.r_[diffc111,diffc112,diffc113,diffc114,diffc115,diffc116,diffc117,diffc118,diffc119,diffc120,diffc122,diffc123,diffc124]\n",
    "diffc1=np.r_[diffct11,diffct12]\n",
    "xlabelt11=np.r_[xlabel11,xlabel12,xlabel13,xlabel14,xlabel15,xlabel16,xlabel17,xlabel18,xlabel19,xlabel110]\n",
    "#xlabelt12=np.r_[xlabel111,xlabel112,xlabel113,xlabel114,xlabel115,xlabel116,xlabel117,xlabel118,xlabel119,xlabel120,xlabel121,xlabel122,xlabel123,xlabel124]\n",
    "xlabelt12=np.r_[xlabel111,xlabel112,xlabel113,xlabel114,xlabel115,xlabel116,xlabel117,xlabel118,xlabel119,xlabel120,xlabel122,xlabel123,xlabel124]\n",
    "xlabel1=np.r_[xlabelt11,xlabelt12]\n",
    "tt11=np.r_[t11,t12,t13,t14,t15,t16,t17,t18,t19,t110]\n",
    "#tt12=np.r_[t111,t112,t113,t114,t115,t116,t117,t118,t119,t120,t121,t122,t123,t124]\n",
    "tt12=np.r_[t111,t112,t113,t114,t115,t116,t117,t118,t119,t120,t122,t123,t124]\n",
    "t1=np.r_[tt11,tt12]\n",
    "ttc11=np.r_[tc11,tc12,tc13,tc14,tc15,tc16,tc17,tc18,tc19,tc110]\n",
    "#ttc12=np.r_[tc111,tc112,tc113,tc114,tc115,tc116,tc117,tc118,tc119,tc120,tc121,tc122,tc123,tc124]\n",
    "ttc12=np.r_[tc111,tc112,tc113,tc114,tc115,tc116,tc117,tc118,tc119,tc120,tc122,tc123,tc124]\n",
    "tc1=np.r_[ttc11,ttc12]"
   ]
  },
  {
   "cell_type": "code",
   "execution_count": 15,
   "metadata": {},
   "outputs": [],
   "source": [
    "diffc21,xlabel21,t21,tc21=diffc(pathturn21,filesturn21,pathturn21c,filesturn21c,0,2)\n",
    "diffc22,xlabel22,t22,tc22=diffc(pathturn22,filesturn22,pathturn22c,filesturn22c,0,2)\n",
    "diffc23,xlabel23,t23,tc23=diffc(pathturn23,filesturn23,pathturn23c,filesturn23c,0,2)\n",
    "diffc24,xlabel24,t24,tc24=diffc(pathturn24,filesturn24,pathturn24c,filesturn24c,0,2)\n",
    "diffc25,xlabel25,t25,tc25=diffc(pathturn25,filesturn25,pathturn25c,filesturn25c,0,2)"
   ]
  },
  {
   "cell_type": "code",
   "execution_count": 16,
   "metadata": {},
   "outputs": [],
   "source": [
    "diffc2=np.r_[diffc21,diffc22,diffc23,diffc24,diffc25]\n",
    "xlabel2=np.r_[xlabel21,xlabel22,xlabel23,xlabel24,xlabel25]\n",
    "t2=np.r_[t21,t22,t23,t24,t25]\n",
    "tc2=np.r_[tc21,tc22,tc23,tc24,tc25]"
   ]
  },
  {
   "cell_type": "code",
   "execution_count": 17,
   "metadata": {},
   "outputs": [],
   "source": [
    "diffc31,xlabel31,t31,tc31=diffc(pathturn31,filesturn31,pathturn31c,filesturn31c,0,3)\n",
    "diffc32,xlabel32,t32,tc32=diffc(pathturn32,filesturn32,pathturn32c,filesturn32c,0,3)"
   ]
  },
  {
   "cell_type": "code",
   "execution_count": 18,
   "metadata": {},
   "outputs": [],
   "source": [
    "diffc3=np.r_[diffc31,diffc32]\n",
    "xlabel3=np.r_[xlabel31,xlabel32]\n",
    "t3=np.r_[t31,t32]\n",
    "tc3=np.r_[tc31,tc32]"
   ]
  },
  {
   "cell_type": "code",
   "execution_count": 19,
   "metadata": {},
   "outputs": [],
   "source": [
    "diffc41,xlabel41,t41,tc41=diffc(pathturn41,filesturn41,pathturn41c,filesturn41c,0,4)\n",
    "diffc42,xlabel42,t42,tc42=diffc(pathturn42,filesturn42,pathturn42c,filesturn42c,0,4)\n",
    "diffc43,xlabel43,t43,tc43=diffc(pathturn43,filesturn43,pathturn43c,filesturn43c,0,4)\n",
    "diffc44,xlabel44,t44,tc44=diffc(pathturn44,filesturn44,pathturn44c,filesturn44c,0,4)\n",
    "diffc45,xlabel45,t45,tc45=diffc(pathturn45,filesturn45,pathturn45c,filesturn45c,0,4)\n",
    "diffc46,xlabel46,t46,tc46=diffc(pathturn46,filesturn46,pathturn46c,filesturn46c,0,4)\n",
    "diffc47,xlabel47,t47,tc47=diffc(pathturn47,filesturn47,pathturn47c,filesturn47c,0,4)\n",
    "diffc48,xlabel48,t48,tc48=diffc(pathturn48,filesturn48,pathturn48c,filesturn48c,0,4)"
   ]
  },
  {
   "cell_type": "code",
   "execution_count": 20,
   "metadata": {},
   "outputs": [],
   "source": [
    "diffc4=np.r_[diffc41,diffc42,diffc43,diffc44,diffc45,diffc46,diffc47,diffc48]\n",
    "xlabel4=np.r_[xlabel41,xlabel42,xlabel43,xlabel44,xlabel45,xlabel46,xlabel47,xlabel48]\n",
    "t4=np.r_[t41,t42,t43,t44,t45,t46,t47,t48]\n",
    "tc4=np.r_[tc41,tc42,tc43,tc44,tc45,tc46,tc47,tc48]"
   ]
  },
  {
   "cell_type": "code",
   "execution_count": 21,
   "metadata": {},
   "outputs": [],
   "source": [
    "diffc51,xlabel51,t51,t51c=diffc(pathturn51,filesturn51,pathturn51c,filesturn51c,0,5)\n",
    "diffc52,xlabel52,t52,t52c=diffc(pathturn52,filesturn52,pathturn52c,filesturn52c,0,5)\n",
    "diffc53,xlabel53,t53,t53c=diffc(pathturn53,filesturn53,pathturn53c,filesturn53c,0,5)"
   ]
  },
  {
   "cell_type": "code",
   "execution_count": 22,
   "metadata": {},
   "outputs": [],
   "source": [
    "diffc5=np.r_[diffc51,diffc52,diffc53]\n",
    "xlabel5=np.r_[xlabel51,xlabel52,xlabel53]\n",
    "t5=np.r_[t51,t52,t53]\n",
    "tc5=np.r_[t51c,t52c,t53c]"
   ]
  },
  {
   "cell_type": "code",
   "execution_count": 23,
   "metadata": {},
   "outputs": [],
   "source": [
    "diffc61,xlabel61,t61,tc61=diffc(pathturn61,filesturn61,pathturn61c,filesturn61c,0,6)\n",
    "diffc62,xlabel62,t62,tc62=diffc(pathturn62,filesturn62,pathturn62c,filesturn62c,0,6)\n",
    "diffc63,xlabel63,t63,tc63=diffc(pathturn63,filesturn63,pathturn63c,filesturn63c,0,6)\n",
    "diffc64,xlabel64,t64,tc64=diffc(pathturn64,filesturn64,pathturn64c,filesturn64c,0,6)\n",
    "diffc65,xlabel65,t65,tc65=diffc(pathturn65,filesturn65,pathturn65c,filesturn65c,0,6)"
   ]
  },
  {
   "cell_type": "code",
   "execution_count": 24,
   "metadata": {},
   "outputs": [],
   "source": [
    "diffc6=np.r_[diffc61,diffc62,diffc63,diffc64,diffc65]\n",
    "xlabel6=np.r_[xlabel61,xlabel62,xlabel63,xlabel64,xlabel65]\n",
    "t6=np.r_[t61,t62,t63,t64,t65]\n",
    "tc6=np.r_[tc61,tc62,tc63,tc64,tc65]"
   ]
  },
  {
   "cell_type": "code",
   "execution_count": 25,
   "metadata": {},
   "outputs": [],
   "source": [
    "datames=np.r_[diffc1,diffc2,diffc3,diffc4,diffc5,diffc6]\n",
    "datamas=np.r_[xlabel1,xlabel2,xlabel3,xlabel4,xlabel5,xlabel6]\n",
    "datamis=np.r_[t1,t2,t3,t4,t5,t6]\n",
    "datamrs=np.r_[tc1,tc2,tc3,tc4,tc5,tc6]"
   ]
  },
  {
   "cell_type": "code",
   "execution_count": 13,
   "metadata": {},
   "outputs": [],
   "source": [
    "pathturn1 = r\"C:\\LJR\\babylab\\English\\cut\\high\\5134\\turntaking\\facon\" #\n",
    "filesturn1= os.listdir(pathturn1)\n",
    "pathturn1o = r\"C:\\LJR\\babylab\\English\\cut\\high\\5134\\turntaking\\blockother\\fa\"\n",
    "filesturn1o= os.listdir(pathturn1o)\n",
    "pathturn1c = r\"C:\\LJR\\babylab\\English\\cut\\high\\5134\\turntaking\\chicon\"\n",
    "filesturn1c= os.listdir(pathturn1c)\n",
    "pathturn1co = r\"C:\\LJR\\babylab\\English\\cut\\high\\5134\\turntaking\\blockother\\chi\"\n",
    "filesturn1co= os.listdir(pathturn1co)\n",
    "\n",
    "pathturn2 = r\"C:\\LJR\\babylab\\English\\cut\\high\\6045\\turntaking\\facon\"#\n",
    "filesturn2= os.listdir(pathturn2)\n",
    "pathturn2o = r\"C:\\LJR\\babylab\\English\\cut\\high\\6045\\turntaking\\blockother\\fa\"\n",
    "filesturn2o= os.listdir(pathturn2o)\n",
    "pathturn2c = r\"C:\\LJR\\babylab\\English\\cut\\high\\6045\\turntaking\\chicon\"\n",
    "filesturn2c= os.listdir(pathturn2c)\n",
    "pathturn2co = r\"C:\\LJR\\babylab\\English\\cut\\high\\6045\\turntaking\\blockother\\chi\"\n",
    "filesturn2co= os.listdir(pathturn2co)\n",
    "\n",
    "pathturn3 = r\"C:\\LJR\\babylab\\English\\cut\\high\\8496\\turntaking\\facon\"#\n",
    "filesturn3= os.listdir(pathturn3)\n",
    "pathturn3o = r\"C:\\LJR\\babylab\\English\\cut\\high\\8496\\turntaking\\blockother\\fa\"\n",
    "filesturn3o= os.listdir(pathturn3o)\n",
    "pathturn3c = r\"C:\\LJR\\babylab\\English\\cut\\high\\8496\\turntaking\\chicon\"\n",
    "filesturn3c= os.listdir(pathturn3c)\n",
    "pathturn3co = r\"C:\\LJR\\babylab\\English\\cut\\high\\8496\\turntaking\\blockother\\chi\"\n",
    "filesturn3co= os.listdir(pathturn3co)\n",
    "\n",
    "pathturn4 = r\"C:\\LJR\\babylab\\English\\cut\\high\\8560\\turntaking\\facon\"#\n",
    "filesturn4= os.listdir(pathturn4)\n",
    "pathturn4o = r\"C:\\LJR\\babylab\\English\\cut\\high\\8560\\turntaking\\blockother\\fa\"\n",
    "filesturn4o= os.listdir(pathturn4o)\n",
    "pathturn4c = r\"C:\\LJR\\babylab\\English\\cut\\high\\8560\\turntaking\\chicon\"\n",
    "filesturn4c= os.listdir(pathturn4c)\n",
    "pathturn4co = r\"C:\\LJR\\babylab\\English\\cut\\high\\8560\\turntaking\\blockother\\chi\"\n",
    "filesturn4co= os.listdir(pathturn4co)\n",
    "\n",
    "pathturn5 = r\"C:\\LJR\\babylab\\English\\cut\\high\\9106\\turntaking\\facon\"#\n",
    "filesturn5= os.listdir(pathturn5)\n",
    "pathturn5o = r\"C:\\LJR\\babylab\\English\\cut\\high\\9106\\turntaking\\blockother\\fa\"\n",
    "filesturn5o= os.listdir(pathturn5o)\n",
    "pathturn5c = r\"C:\\LJR\\babylab\\English\\cut\\high\\9106\\turntaking\\chicon\"\n",
    "filesturn5c= os.listdir(pathturn5c)\n",
    "pathturn5co = r\"C:\\LJR\\babylab\\English\\cut\\high\\9106\\turntaking\\blockother\\chi\"\n",
    "filesturn5co= os.listdir(pathturn5co)\n",
    "\n",
    "pathturn6 = r\"C:\\LJR\\babylab\\English\\cut\\high\\9733\\turntaking\\facon\"#\n",
    "filesturn6= os.listdir(pathturn6)\n",
    "pathturn6o = r\"C:\\LJR\\babylab\\English\\cut\\high\\9733\\turntaking\\blockother\\fa\"\n",
    "filesturn6o= os.listdir(pathturn6o)\n",
    "pathturn6c = r\"C:\\LJR\\babylab\\English\\cut\\high\\9733\\turntaking\\chicon\"\n",
    "filesturn6c= os.listdir(pathturn6c)\n",
    "pathturn6co = r\"C:\\LJR\\babylab\\English\\cut\\high\\9733\\turntaking\\blockother\\chi\"\n",
    "filesturn6co= os.listdir(pathturn6co)"
   ]
  },
  {
   "cell_type": "code",
   "execution_count": 14,
   "metadata": {},
   "outputs": [],
   "source": [
    "files1=filesturn1\n",
    "files1c=filesturn1c\n",
    "\n",
    "files2=filesturn2\n",
    "files2c=filesturn2c\n",
    "\n",
    "files3=filesturn3\n",
    "files3c=filesturn3c\n",
    "\n",
    "files4=filesturn4\n",
    "files4c=filesturn4c\n",
    "\n",
    "files5=filesturn5\n",
    "files5c=filesturn5c\n",
    "\n",
    "files6=filesturn6\n",
    "files6c=filesturn6c"
   ]
  },
  {
   "cell_type": "code",
   "execution_count": 15,
   "metadata": {},
   "outputs": [],
   "source": [
    "filesc1=filesturn1o\n",
    "filesc1c=filesturn1co\n",
    "\n",
    "filesc2=filesturn2o\n",
    "filesc2c=filesturn2co\n",
    "\n",
    "filesc3=filesturn3o\n",
    "filesc3c=filesturn3co\n",
    "\n",
    "filesc4=filesturn4o\n",
    "filesc4c=filesturn4co\n",
    "\n",
    "filesc5=filesturn5o\n",
    "filesc5c=filesturn5co\n",
    "\n",
    "filesc6=filesturn6o\n",
    "filesc6c=filesturn6co"
   ]
  },
  {
   "cell_type": "code",
   "execution_count": 16,
   "metadata": {},
   "outputs": [],
   "source": [
    "files1.sort(key = lambda x:float(x[1:-4]))\n",
    "files1c.sort(key = lambda x:float(x[:-4]))\n",
    "\n",
    "files2.sort(key = lambda x:float(x[1:-4]))\n",
    "files2c.sort(key = lambda x:float(x[:-4]))\n",
    "\n",
    "files3.sort(key = lambda x:float(x[1:-4]))\n",
    "files3c.sort(key = lambda x:float(x[:-4]))\n",
    "\n",
    "files4.sort(key = lambda x:float(x[1:-4]))\n",
    "files4c.sort(key = lambda x:float(x[:-4]))\n",
    "\n",
    "files5.sort(key = lambda x:float(x[1:-4]))\n",
    "files5c.sort(key = lambda x:float(x[:-4]))\n",
    "\n",
    "files6.sort(key = lambda x:float(x[1:-4]))\n",
    "files6c.sort(key = lambda x:float(x[:-4]))"
   ]
  },
  {
   "cell_type": "code",
   "execution_count": 17,
   "metadata": {},
   "outputs": [],
   "source": [
    "filesc1.sort(key = lambda x:float(x[1:-4]))\n",
    "filesc1c.sort(key = lambda x:float(x[:-4]))\n",
    "\n",
    "filesc2.sort(key = lambda x:float(x[1:-4]))\n",
    "filesc2c.sort(key = lambda x:float(x[:-4]))\n",
    "\n",
    "filesc3.sort(key = lambda x:float(x[1:-4]))\n",
    "filesc3c.sort(key = lambda x:float(x[:-4]))\n",
    "\n",
    "filesc4.sort(key = lambda x:float(x[1:-4]))\n",
    "filesc4c.sort(key = lambda x:float(x[:-4]))\n",
    "\n",
    "filesc5.sort(key = lambda x:float(x[1:-4]))\n",
    "filesc5c.sort(key = lambda x:float(x[:-4]))\n",
    "\n",
    "filesc6.sort(key = lambda x:float(x[1:-4]))\n",
    "filesc6c.sort(key = lambda x:float(x[:-4]))\n"
   ]
  },
  {
   "cell_type": "code",
   "execution_count": 18,
   "metadata": {},
   "outputs": [],
   "source": [
    "def pitchasimple(path,files):\n",
    "    yseries=np.zeros((len(files),4))\n",
    "    for i in range(len(files)):\n",
    "        x,sr1=librosa.load(path+\"\\\\\"+files[i],sr=None)\n",
    "        f0, voiced_flag, voiced_probs = librosa.pyin(x,sr=sr1,frame_length=512, fill_na=np.nan, n_thresholds=50, fmin=120, fmax=600)\n",
    "        yseries[i,0]=np.nanmean(f0)\n",
    "        yseries[i,1]=np.nanmax(f0)\n",
    "        yseries[i,2]=np.nanmin(f0)\n",
    "        yseries[i,3]=np.nanmax(f0)-np.nanmin(f0)\n",
    "    return yseries"
   ]
  },
  {
   "cell_type": "code",
   "execution_count": 19,
   "metadata": {},
   "outputs": [],
   "source": [
    "def pitchisimple(path,files):\n",
    "    yseries=np.zeros((len(files),4))\n",
    "    for i in range(len(files)):\n",
    "        x,sr1=librosa.load(path+\"\\\\\"+files[i],sr=None)\n",
    "        f0, voiced_flag, voiced_probs = librosa.pyin(x,sr=sr1,frame_length=512, fill_na=np.nan, n_thresholds=50, fmin=120, fmax=1000)\n",
    "        yseries[i,0]=np.nanmean(f0)\n",
    "        yseries[i,1]=np.nanmax(f0)\n",
    "        yseries[i,2]=np.nanmin(f0)\n",
    "        yseries[i,3]=np.nanmax(f0)-np.nanmin(f0)\n",
    "    return yseries"
   ]
  },
  {
   "cell_type": "code",
   "execution_count": 20,
   "metadata": {},
   "outputs": [],
   "source": [
    "yout1c=pitchasimple(pathturn1o,filesc1)\n",
    "yout2c=pitchasimple(pathturn2o,filesc2)\n",
    "yout3c=pitchasimple(pathturn3o,filesc3)\n",
    "yout4c=pitchasimple(pathturn4o,filesc4)\n",
    "yout5c=pitchasimple(pathturn5o,filesc5)\n",
    "yout6c=pitchasimple(pathturn6o,filesc6)"
   ]
  },
  {
   "cell_type": "code",
   "execution_count": 21,
   "metadata": {},
   "outputs": [],
   "source": [
    "youti1c=pitchisimple(pathturn1co,filesc1c)\n",
    "youti2c=pitchisimple(pathturn2co,filesc2c)\n",
    "youti3c=pitchisimple(pathturn3co,filesc3c)\n",
    "youti4c=pitchisimple(pathturn4co,filesc4c)\n",
    "youti5c=pitchisimple(pathturn5co,filesc5c)\n",
    "youti6c=pitchisimple(pathturn6co,filesc6c)"
   ]
  },
  {
   "cell_type": "code",
   "execution_count": 22,
   "metadata": {},
   "outputs": [],
   "source": [
    "yallo=np.r_[yout1c,yout2c,yout3c,yout4c,yout5c,yout6c]\n",
    "yiallo=np.r_[youti1c,youti2c,youti3c,youti4c,youti5c,youti6c]"
   ]
  },
  {
   "cell_type": "code",
   "execution_count": 25,
   "metadata": {},
   "outputs": [],
   "source": [
    "motherp=pd.DataFrame(yallo)\n",
    "motherp.columns=['mean','max','min','range']\n",
    "infantp=pd.DataFrame(yiallo)\n",
    "infantp.columns=['mean','max','min','range']"
   ]
  },
  {
   "cell_type": "code",
   "execution_count": 26,
   "metadata": {},
   "outputs": [],
   "source": [
    "motherp.to_csv(r'C:\\LJR\\paper\\tseltalvsenglish\\dataplot\\English\\all\\motherothere.csv')\n",
    "infantp.to_csv(r'C:\\LJR\\paper\\tseltalvsenglish\\dataplot\\English\\all\\infantothere.csv')"
   ]
  },
  {
   "cell_type": "code",
   "execution_count": 35,
   "metadata": {},
   "outputs": [],
   "source": [
    "youtcopy1c=yout1c.copy()\n",
    "youticopy1c=youti1c.copy()\n",
    "\n",
    "youtcopy2c=yout2c.copy()\n",
    "youticopy2c=youti2c.copy()\n",
    "\n",
    "youtcopy3c=yout3c.copy()\n",
    "youticopy3c=youti3c.copy()\n",
    "\n",
    "youtcopy4c=yout4c.copy()\n",
    "youticopy4c=youti4c.copy()\n",
    "\n",
    "youtcopy5c=yout5c.copy()\n",
    "youticopy5c=youti5c.copy()\n",
    "\n",
    "youtcopy6c=yout6c.copy()\n",
    "youticopy6c=youti6c.copy()"
   ]
  },
  {
   "cell_type": "code",
   "execution_count": 36,
   "metadata": {},
   "outputs": [],
   "source": [
    "def diffsub(data,datai,conin,idin):\n",
    "    datamean=np.zeros((len(data[:,0]),len(datai[:,0])))\n",
    "    datamax=np.zeros((len(data[:,0]),len(datai[:,0])))\n",
    "    datamin=np.zeros((len(data[:,0]),len(datai[:,0])))\n",
    "    datarange=np.zeros((len(data[:,0]),len(datai[:,0])))\n",
    "    for i in range(len(data[:,0])):\n",
    "        datamean[i,:]=np.abs(datai[:,0]-data[i,0])\n",
    "        datamax[i,:]=np.abs(datai[:,1]-data[i,1])\n",
    "        datamin[i,:]=np.abs(datai[:,2]-data[i,2])\n",
    "        datarange[i,:]=np.abs(datai[:,3]-data[i,3])\n",
    "    datameano=datamean.reshape(len(data[:,0])*len(datai[:,0]),1)\n",
    "    datamaxo=datamax.reshape(len(data[:,0])*len(datai[:,0]),1)\n",
    "    datamino=datamin.reshape(len(data[:,0])*len(datai[:,0]),1)\n",
    "    datarangeo=datarange.reshape(len(data[:,0])*len(datai[:,0]),1)\n",
    "    ind=np.zeros(len(data[:,0])*len(datai[:,0]))+idin\n",
    "    con=np.zeros(len(data[:,0])*len(datai[:,0]))+conin\n",
    "    dataoutme=np.c_[datameano,con,ind]\n",
    "    dataoutma=np.c_[datamaxo,con,ind]\n",
    "    dataoutmi=np.c_[datamino,con,ind]\n",
    "    dataoutr=np.c_[datarangeo,con,ind]\n",
    "    return dataoutme, dataoutma, dataoutmi,dataoutr"
   ]
  },
  {
   "cell_type": "code",
   "execution_count": 37,
   "metadata": {},
   "outputs": [],
   "source": [
    "outme1o,outma1o,outmi1o,outr1o=diffsub(yout1c,youti1c,1,1)\n",
    "outme2o,outma2o,outmi2o,outr2o=diffsub(yout2c,youti2c,1,2)\n",
    "outme3o,outma3o,outmi3o,outr3o=diffsub(yout3c,youti3c,1,3)\n",
    "outme4o,outma4o,outmi4o,outr4o=diffsub(yout4c,youti4c,1,4)\n",
    "outme5o,outma5o,outmi5o,outr5o=diffsub(yout5c,youti5c,1,5)\n",
    "outme6o,outma6o,outmi6o,outr6o=diffsub(yout6c,youti6c,1,6)"
   ]
  },
  {
   "cell_type": "code",
   "execution_count": 38,
   "metadata": {},
   "outputs": [],
   "source": [
    "datameo=np.r_[outme1o,outme2o,outme3o,outme4o,outme5o,outme6o]\n",
    "datamao=np.r_[outma1o,outma2o,outma3o,outma4o,outma5o,outma6o]\n",
    "datamio=np.r_[outmi1o,outmi2o,outmi3o,outmi4o,outmi5o,outmi6o]\n",
    "dataro=np.r_[outr1o,outr2o,outr3o,outr4o,outr5o,outr6o]"
   ]
  },
  {
   "cell_type": "code",
   "execution_count": 39,
   "metadata": {},
   "outputs": [],
   "source": [
    "datame=np.r_[datames,datameo]\n",
    "datama=np.r_[datamas,datamao]\n",
    "datami=np.r_[datamis,datamio]\n",
    "datar=np.r_[datamrs,dataro]"
   ]
  },
  {
   "cell_type": "code",
   "execution_count": 40,
   "metadata": {},
   "outputs": [
    {
     "name": "stdout",
     "output_type": "stream",
     "text": [
      "[92.09556777  0.          2.3241506 ] [142.53503659   1.           3.11164486]\n",
      "[120.81567132   0.           2.3241506 ] [164.66393643   1.           3.11164486]\n",
      "[85.45268124  0.          2.3241506 ] [128.59790625   1.           3.11164486]\n",
      "[89.62373839  0.          2.3241506 ] [102.53987428   1.           3.11164486]\n"
     ]
    }
   ],
   "source": [
    "print(np.mean(datames,axis=0),np.mean(datameo,axis=0))\n",
    "print(np.mean(datamas,axis=0),np.mean(datamao,axis=0))\n",
    "print(np.mean(datamis,axis=0),np.mean(datamio,axis=0))\n",
    "print(np.mean(datamrs,axis=0),np.mean(dataro,axis=0))"
   ]
  },
  {
   "cell_type": "code",
   "execution_count": 41,
   "metadata": {},
   "outputs": [
    {
     "name": "stdout",
     "output_type": "stream",
     "text": [
      "Ttest_indResult(statistic=-15.010529956333546, pvalue=7.606251518327435e-51)\n",
      "Ttest_indResult(statistic=-10.011665904354073, pvalue=1.4082139628594498e-23)\n",
      "Ttest_indResult(statistic=-14.506742632086015, pvalue=1.300872198170637e-47)\n",
      "Ttest_indResult(statistic=-4.2472466759343055, pvalue=2.1671033303752405e-05)\n"
     ]
    }
   ],
   "source": [
    "print(stats.ttest_ind(datames[:,0],datameo[:,0]))\n",
    "print(stats.ttest_ind(datamas[:,0],datamao[:,0]))\n",
    "print(stats.ttest_ind(datamis[:,0],datamio[:,0]))\n",
    "print(stats.ttest_ind(datamrs[:,0],dataro[:,0]))"
   ]
  },
  {
   "cell_type": "code",
   "execution_count": 60,
   "metadata": {},
   "outputs": [],
   "source": [
    "#datamep.to_csv(r'C:\\LJR\\paper\\tseltalvsenglish\\dataplot\\English\\all\\allme.csv')\n",
    "#datamap.to_csv(r'C:\\LJR\\paper\\tseltalvsenglish\\dataplot\\English\\all\\allma.csv')\n",
    "#datamip.to_csv(r'C:\\LJR\\paper\\tseltalvsenglish\\dataplot\\English\\all\\allmi.csv')\n",
    "#datarp.to_csv(r'C:\\LJR\\paper\\tseltalvsenglish\\dataplot\\English\\all\\allr.csv')"
   ]
  },
  {
   "cell_type": "code",
   "execution_count": 48,
   "metadata": {},
   "outputs": [
    {
     "data": {
      "image/png": "[encoded data removed]",
      "text/plain": [
       "<Figure size 432x288 with 1 Axes>"
      ]
     },
     "metadata": {
      "needs_background": "light"
     },
     "output_type": "display_data"
    }
   ],
   "source": [
    "xxx=np.empty([len(datame[:,0])],dtype = str) \n",
    "xxx[0:len(datames[:,0])]='C'\n",
    "xxx[len(datames[:,0]):]='N'\n",
    "    \n",
    "compare_durationrow=datame[:,0]\n",
    "#my_pal = {'g','grey'}\n",
    "my_pal = 'Greens'\n",
    "ax = sns.boxplot(x=xxx, y=compare_durationrow, linewidth=1.5,whis=1.5,palette=my_pal)"
   ]
  },
  {
   "cell_type": "code",
   "execution_count": 50,
   "metadata": {},
   "outputs": [
    {
     "data": {
      "image/png": "[encoded data removed]",
      "text/plain": [
       "<Figure size 432x288 with 1 Axes>"
      ]
     },
     "metadata": {
      "needs_background": "light"
     },
     "output_type": "display_data"
    }
   ],
   "source": [
    "xxx=np.empty([len(datama[:,0])],dtype = str) \n",
    "xxx[0:len(datamas[:,0])]='C'\n",
    "xxx[len(datamas[:,0]):]='N'\n",
    "    \n",
    "compare_durationrow=datama[:,0]\n",
    "my_pal = 'Greens'\n",
    "ax = sns.boxplot(x=xxx, y=compare_durationrow, linewidth=1.5,whis=1.5,palette=my_pal)"
   ]
  },
  {
   "cell_type": "code",
   "execution_count": 51,
   "metadata": {},
   "outputs": [
    {
     "data": {
      "image/png": "[encoded data removed]",
      "text/plain": [
       "<Figure size 432x288 with 1 Axes>"
      ]
     },
     "metadata": {
      "needs_background": "light"
     },
     "output_type": "display_data"
    }
   ],
   "source": [
    "xxx=np.empty([len(datami)],dtype = str) \n",
    "xxx[0:len(datamis[:,0])]='C'\n",
    "xxx[len(datamis[:,0]):]='N'\n",
    "    \n",
    "compare_durationrow=datami[:,0]\n",
    "my_pal = 'Greens'\n",
    "ax = sns.boxplot(x=xxx, y=compare_durationrow, linewidth=1.5,whis=1.5,palette=my_pal)"
   ]
  },
  {
   "cell_type": "code",
   "execution_count": 53,
   "metadata": {},
   "outputs": [
    {
     "data": {
      "image/png": "[encoded data removed]",
      "text/plain": [
       "<Figure size 432x288 with 1 Axes>"
      ]
     },
     "metadata": {
      "needs_background": "light"
     },
     "output_type": "display_data"
    }
   ],
   "source": [
    "xxx=np.empty([len(datar)],dtype = str) \n",
    "xxx[0:len(datamrs[:,0])]='C'\n",
    "xxx[len(datamrs[:,0]):]='N'\n",
    "    \n",
    "compare_durationrow=datar[:,0]\n",
    "my_pal = 'Greens'\n",
    "ax = sns.boxplot(x=xxx, y=compare_durationrow, linewidth=1.5,whis=1.5,palette=my_pal)\n"
   ]
  },
  {
   "cell_type": "code",
   "execution_count": 54,
   "metadata": {},
   "outputs": [],
   "source": [
    "datamep=pd.DataFrame(datame)\n",
    "datamep.columns=['DV','IV','type']\n",
    "datamap=pd.DataFrame(datama)\n",
    "datamap.columns=['DV','IV','type']\n",
    "datamip=pd.DataFrame(datami)\n",
    "datamip.columns=['DV','IV','type']\n",
    "datarp=pd.DataFrame(datar)\n",
    "datarp.columns=['DV','IV','type']"
   ]
  },
  {
   "cell_type": "code",
   "execution_count": 55,
   "metadata": {},
   "outputs": [],
   "source": [
    "import statsmodels.formula.api as smf\n",
    "med=smf.mixedlm(\"DV~IV\",datamep,groups=datamep['type'])\n",
    "medf = med.fit(method=['powell'])\n",
    "\n",
    "mad=smf.mixedlm(\"DV~IV\",datamap,groups=datamap['type'])\n",
    "madf = mad.fit(method=['powell'])\n",
    "\n",
    "mid=smf.mixedlm(\"DV~IV\",datamip,groups=datamip['type'])\n",
    "midf = mid.fit(method=['powell'])\n",
    "\n",
    "rd=smf.mixedlm(\"DV~IV\",datarp,groups=datarp['type'])\n",
    "rdf = rd.fit(method=['powell'])"
   ]
  },
  {
   "cell_type": "code",
   "execution_count": 56,
   "metadata": {},
   "outputs": [
    {
     "name": "stdout",
     "output_type": "stream",
     "text": [
      "          Mixed Linear Model Regression Results\n",
      "==========================================================\n",
      "Model:            MixedLM Dependent Variable: DV          \n",
      "No. Observations: 65830   Method:             REML        \n",
      "No. Groups:       6       Scale:              11603.4050  \n",
      "Min. group size:  4786    Log-Likelihood:     -401474.8787\n",
      "Max. group size:  16059   Converged:          Yes         \n",
      "Mean group size:  10971.7                                 \n",
      "----------------------------------------------------------\n",
      "               Coef.  Std.Err.   z    P>|z| [0.025  0.975]\n",
      "----------------------------------------------------------\n",
      "Intercept      99.351   11.412  8.706 0.000 76.984 121.719\n",
      "IV             37.668    3.320 11.347 0.000 31.162  44.174\n",
      "Group Var     716.125    4.368                            \n",
      "==========================================================\n",
      "\n",
      "11.347216346051031\n",
      "          Mixed Linear Model Regression Results\n",
      "==========================================================\n",
      "Model:            MixedLM Dependent Variable: DV          \n",
      "No. Observations: 65830   Method:             REML        \n",
      "No. Groups:       6       Scale:              19996.4539  \n",
      "Min. group size:  4786    Log-Likelihood:     -419387.7065\n",
      "Max. group size:  16059   Converged:          Yes         \n",
      "Mean group size:  10971.7                                 \n",
      "----------------------------------------------------------\n",
      "               Coef.  Std.Err.   z   P>|z|  [0.025  0.975]\n",
      "----------------------------------------------------------\n",
      "Intercept     126.079   12.902 9.772 0.000 100.792 151.365\n",
      "IV             32.012    4.358 7.346 0.000  23.471  40.554\n",
      "Group Var     886.164    4.043                            \n",
      "==========================================================\n",
      "\n",
      "7.346079870474143\n",
      "          Mixed Linear Model Regression Results\n",
      "==========================================================\n",
      "Model:            MixedLM Dependent Variable: DV          \n",
      "No. Observations: 65830   Method:             REML        \n",
      "No. Groups:       6       Scale:              9161.1816   \n",
      "Min. group size:  4786    Log-Likelihood:     -393695.4812\n",
      "Max. group size:  16059   Converged:          Yes         \n",
      "Mean group size:  10971.7                                 \n",
      "----------------------------------------------------------\n",
      "               Coef.  Std.Err.   z    P>|z| [0.025  0.975]\n",
      "----------------------------------------------------------\n",
      "Intercept      93.891    8.396 11.183 0.000 77.435 110.346\n",
      "IV             31.781    2.950 10.775 0.000 26.000  37.562\n",
      "Group Var     371.386    2.443                            \n",
      "==========================================================\n",
      "\n",
      "10.774670208713399\n",
      "          Mixed Linear Model Regression Results\n",
      "==========================================================\n",
      "Model:            MixedLM Dependent Variable: DV          \n",
      "No. Observations: 65830   Method:             REML        \n",
      "No. Groups:       6       Scale:              9709.9072   \n",
      "Min. group size:  4786    Log-Likelihood:     -395608.5356\n",
      "Max. group size:  16059   Converged:          Yes         \n",
      "Mean group size:  10971.7                                 \n",
      "----------------------------------------------------------\n",
      "               Coef.  Std.Err.   z    P>|z| [0.025  0.975]\n",
      "----------------------------------------------------------\n",
      "Intercept      90.425    6.600 13.701 0.000 77.490 103.360\n",
      "IV             10.497    3.037  3.457 0.001  4.546  16.449\n",
      "Group Var     206.687    1.401                            \n",
      "==========================================================\n",
      "\n",
      "3.4569810635335214\n"
     ]
    }
   ],
   "source": [
    "print(medf.summary())\n",
    "print(medf.tvalues['IV'])\n",
    "print(madf.summary())\n",
    "print(madf.tvalues['IV'])\n",
    "print(midf.summary())\n",
    "print(midf.tvalues['IV'])\n",
    "print(rdf.summary())\n",
    "print(rdf.tvalues['IV'])"
   ]
  },
  {
   "cell_type": "code",
   "execution_count": 57,
   "metadata": {},
   "outputs": [
    {
     "name": "stderr",
     "output_type": "stream",
     "text": [
      "C:\\Users\\ljr\\anaconda3\\lib\\site-packages\\statsmodels\\regression\\mixed_linear_model.py:2262: ConvergenceWarning: The Hessian matrix at the estimated parameter values is not positive definite.\n",
      "  warnings.warn(msg, ConvergenceWarning)\n"
     ]
    }
   ],
   "source": [
    "med=smf.mixedlm(\"DV~IV\",datamep,groups=datamep['type'],re_formula=\"~IV\")\n",
    "medf = med.fit(method=['powell'])\n",
    "\n",
    "mad=smf.mixedlm(\"DV~IV\",datamap,groups=datamap['type'],re_formula=\"~IV\")\n",
    "madf = mad.fit(method=['powell'])\n",
    "\n",
    "mid=smf.mixedlm(\"DV~IV\",datamip,groups=datamip['type'],re_formula=\"~IV\")\n",
    "midf = mid.fit(method=['powell'])\n",
    "\n",
    "rd=smf.mixedlm(\"DV~IV\",datarp,groups=datarp['type'],re_formula=\"~IV\")\n",
    "rdf = rd.fit(method=['cg'])"
   ]
  },
  {
   "cell_type": "code",
   "execution_count": 58,
   "metadata": {},
   "outputs": [
    {
     "name": "stdout",
     "output_type": "stream",
     "text": [
      "           Mixed Linear Model Regression Results\n",
      "===========================================================\n",
      "Model:             MixedLM Dependent Variable: DV          \n",
      "No. Observations:  65830   Method:             REML        \n",
      "No. Groups:        6       Scale:              11590.8004  \n",
      "Min. group size:   4786    Log-Likelihood:     -401440.3654\n",
      "Max. group size:   16059   Converged:          Yes         \n",
      "Mean group size:   10971.7                                 \n",
      "-----------------------------------------------------------\n",
      "                Coef.   Std.Err.   z    P>|z| [0.025 0.975]\n",
      "-----------------------------------------------------------\n",
      "Intercept        87.619    4.476 19.576 0.000 78.846 96.391\n",
      "IV               49.381   12.549  3.935 0.000 24.786 73.977\n",
      "Group Var       123.634                                    \n",
      "Group x IV Cov -235.611    2.246                           \n",
      "IV Var          946.073    4.904                           \n",
      "===========================================================\n",
      "\n",
      "           Mixed Linear Model Regression Results\n",
      "===========================================================\n",
      "Model:             MixedLM Dependent Variable: DV          \n",
      "No. Observations:  65830   Method:             REML        \n",
      "No. Groups:        6       Scale:              19981.6913  \n",
      "Min. group size:   4786    Log-Likelihood:     -419366.9894\n",
      "Max. group size:   16059   Converged:          Yes         \n",
      "Mean group size:   10971.7                                 \n",
      "-----------------------------------------------------------\n",
      "                Coef.   Std.Err.   z   P>|z| [0.025  0.975]\n",
      "-----------------------------------------------------------\n",
      "Intercept       112.674   12.053 9.348 0.000 89.051 136.296\n",
      "IV               45.410   17.095 2.656 0.008 11.905  78.916\n",
      "Group Var       621.216    3.858                           \n",
      "Group x IV Cov -614.237    4.497                           \n",
      "IV Var         1500.911    7.584                           \n",
      "===========================================================\n",
      "\n",
      "           Mixed Linear Model Regression Results\n",
      "===========================================================\n",
      "Model:             MixedLM Dependent Variable: DV          \n",
      "No. Observations:  65830   Method:             REML        \n",
      "No. Groups:        6       Scale:              9151.5581   \n",
      "Min. group size:   4786    Log-Likelihood:     -393662.0588\n",
      "Max. group size:   16059   Converged:          Yes         \n",
      "Mean group size:   10971.7                                 \n",
      "-----------------------------------------------------------\n",
      "                Coef.   Std.Err.   z    P>|z| [0.025 0.975]\n",
      "-----------------------------------------------------------\n",
      "Intercept        80.806    6.591 12.261 0.000 67.889 93.724\n",
      "IV               44.854   11.914  3.765 0.000 21.503 68.205\n",
      "Group Var       194.802                                    \n",
      "Group x IV Cov -354.775                                    \n",
      "IV Var          784.784    3.219                           \n",
      "===========================================================\n",
      "\n",
      "           Mixed Linear Model Regression Results\n",
      "===========================================================\n",
      "Model:             MixedLM Dependent Variable: DV          \n",
      "No. Observations:  65830   Method:             REML        \n",
      "No. Groups:        6       Scale:              9709.0602   \n",
      "Min. group size:   4786    Log-Likelihood:     -395607.4530\n",
      "Max. group size:   16059   Converged:          Yes         \n",
      "Mean group size:   10971.7                                 \n",
      "-----------------------------------------------------------\n",
      "                Coef.   Std.Err.   z   P>|z| [0.025  0.975]\n",
      "-----------------------------------------------------------\n",
      "Intercept        87.053    9.239 9.422 0.000 68.945 105.161\n",
      "IV               13.874    6.088 2.279 0.023  1.942  25.807\n",
      "Group Var       406.669    3.240                           \n",
      "Group x IV Cov -164.553    2.012                           \n",
      "IV Var          116.095    1.444                           \n",
      "===========================================================\n",
      "\n"
     ]
    }
   ],
   "source": [
    "print(medf.summary())\n",
    "print(madf.summary())\n",
    "print(midf.summary())\n",
    "print(rdf.summary())"
   ]
  },
  {
   "cell_type": "code",
   "execution_count": 59,
   "metadata": {},
   "outputs": [
    {
     "ename": "NameError",
     "evalue": "name 'yout1' is not defined",
     "output_type": "error",
     "traceback": [
      "\u001b[1;31m---------------------------------------------------------------------------\u001b[0m",
      "\u001b[1;31mNameError\u001b[0m                                 Traceback (most recent call last)",
      "\u001b[1;32m<ipython-input-59-7fddaa346288>\u001b[0m in \u001b[0;36m<module>\u001b[1;34m\u001b[0m\n\u001b[1;32m----> 1\u001b[1;33m \u001b[0myall\u001b[0m\u001b[1;33m=\u001b[0m\u001b[0mnp\u001b[0m\u001b[1;33m.\u001b[0m\u001b[0mr_\u001b[0m\u001b[1;33m[\u001b[0m\u001b[0myout1\u001b[0m\u001b[1;33m,\u001b[0m\u001b[0myout2\u001b[0m\u001b[1;33m,\u001b[0m\u001b[0myout3\u001b[0m\u001b[1;33m,\u001b[0m\u001b[0myout4\u001b[0m\u001b[1;33m,\u001b[0m\u001b[0myout5\u001b[0m\u001b[1;33m,\u001b[0m\u001b[0myout6\u001b[0m\u001b[1;33m]\u001b[0m\u001b[1;33m\u001b[0m\u001b[1;33m\u001b[0m\u001b[0m\n\u001b[0m\u001b[0;32m      2\u001b[0m \u001b[0myiall\u001b[0m\u001b[1;33m=\u001b[0m\u001b[0mnp\u001b[0m\u001b[1;33m.\u001b[0m\u001b[0mr_\u001b[0m\u001b[1;33m[\u001b[0m\u001b[0myouti1\u001b[0m\u001b[1;33m,\u001b[0m\u001b[0myouti2\u001b[0m\u001b[1;33m,\u001b[0m\u001b[0myouti3\u001b[0m\u001b[1;33m,\u001b[0m\u001b[0myouti4\u001b[0m\u001b[1;33m,\u001b[0m\u001b[0myouti5\u001b[0m\u001b[1;33m,\u001b[0m\u001b[0myouti6\u001b[0m\u001b[1;33m]\u001b[0m\u001b[1;33m\u001b[0m\u001b[1;33m\u001b[0m\u001b[0m\n\u001b[0;32m      3\u001b[0m \u001b[0myallo\u001b[0m\u001b[1;33m=\u001b[0m\u001b[0mnp\u001b[0m\u001b[1;33m.\u001b[0m\u001b[0mr_\u001b[0m\u001b[1;33m[\u001b[0m\u001b[0myout1c\u001b[0m\u001b[1;33m,\u001b[0m\u001b[0myout2c\u001b[0m\u001b[1;33m,\u001b[0m\u001b[0myout3c\u001b[0m\u001b[1;33m,\u001b[0m\u001b[0myout4c\u001b[0m\u001b[1;33m,\u001b[0m\u001b[0myout5c\u001b[0m\u001b[1;33m,\u001b[0m\u001b[0myout6c\u001b[0m\u001b[1;33m]\u001b[0m\u001b[1;33m\u001b[0m\u001b[1;33m\u001b[0m\u001b[0m\n\u001b[0;32m      4\u001b[0m \u001b[0myiallo\u001b[0m\u001b[1;33m=\u001b[0m\u001b[0mnp\u001b[0m\u001b[1;33m.\u001b[0m\u001b[0mr_\u001b[0m\u001b[1;33m[\u001b[0m\u001b[0myouti1c\u001b[0m\u001b[1;33m,\u001b[0m\u001b[0myouti2c\u001b[0m\u001b[1;33m,\u001b[0m\u001b[0myouti3c\u001b[0m\u001b[1;33m,\u001b[0m\u001b[0myouti4c\u001b[0m\u001b[1;33m,\u001b[0m\u001b[0myouti5c\u001b[0m\u001b[1;33m,\u001b[0m\u001b[0myouti6c\u001b[0m\u001b[1;33m]\u001b[0m\u001b[1;33m\u001b[0m\u001b[1;33m\u001b[0m\u001b[0m\n",
      "\u001b[1;31mNameError\u001b[0m: name 'yout1' is not defined"
     ]
    }
   ],
   "source": [
    "yall=np.r_[yout1,yout2,yout3,yout4,yout5,yout6]\n",
    "yiall=np.r_[youti1,youti2,youti3,youti4,youti5,youti6]\n",
    "yallo=np.r_[yout1c,yout2c,yout3c,yout4c,yout5c,yout6c]\n",
    "yiallo=np.r_[youti1c,youti2c,youti3c,youti4c,youti5c,youti6c]"
   ]
  },
  {
   "cell_type": "code",
   "execution_count": null,
   "metadata": {},
   "outputs": [],
   "source": [
    "plt.scatter(yall[:,0],yall[:,3],color='b')\n",
    "plt.scatter(yiall[:,0],yiall[:,3],color='r')\n",
    "plt.xlim(0,1000)\n",
    "plt.ylim(-30,900)\n",
    "plt.show()\n",
    "plt.scatter(yallo[:,0],yallo[:,3],color='y')\n",
    "plt.scatter(yiallo[:,0],yiallo[:,3],color='k')\n",
    "plt.xlim(0,1000)\n",
    "plt.ylim(-30,900)\n",
    "plt.show()"
   ]
  },
  {
   "cell_type": "code",
   "execution_count": null,
   "metadata": {},
   "outputs": [],
   "source": [
    "disall,pathall=fastdtw(yall[:,0],yiall[:,0],dist=euclidean)\n",
    "disallo,pathallo=fastdtw(yallo[:,0],yiallo[:,0],dist=euclidean)\n",
    "print(disall/(len(yall)+len(yiall)),disallo/(len(yallo)+len(yiallo)))"
   ]
  },
  {
   "cell_type": "code",
   "execution_count": null,
   "metadata": {},
   "outputs": [],
   "source": [
    "disall,pathall=fastdtw(yall[:,1],yiall[:,1],dist=euclidean)\n",
    "disallo,pathallo=fastdtw(yallo[:,1],yiallo[:,1],dist=euclidean)\n",
    "print(disall/(len(yall)+len(yiall)),disallo/(len(yallo)+len(yiallo)))"
   ]
  },
  {
   "cell_type": "code",
   "execution_count": null,
   "metadata": {},
   "outputs": [],
   "source": [
    "disall,pathall=fastdtw(yall[:,2],yiall[:,2],dist=euclidean)\n",
    "disallo,pathallo=fastdtw(yallo[:,2],yiallo[:,2],dist=euclidean)\n",
    "print(disall/(len(yall)+len(yiall)),disallo/(len(yallo)+len(yiallo)))"
   ]
  },
  {
   "cell_type": "code",
   "execution_count": null,
   "metadata": {},
   "outputs": [],
   "source": [
    "disall,pathall=fastdtw(yall[:,3],yiall[:,3],dist=euclidean)\n",
    "disallo,pathallo=fastdtw(yallo[:,3],yiallo[:,3],dist=euclidean)\n",
    "print(disall/(len(yall)+len(yiall)),disallo/(len(yallo)+len(yiallo)))"
   ]
  },
  {
   "cell_type": "code",
   "execution_count": null,
   "metadata": {},
   "outputs": [],
   "source": []
  }
 ],
 "metadata": {
  "kernelspec": {
   "display_name": "Python 3",
   "language": "python",
   "name": "python3"
  },
  "language_info": {
   "codemirror_mode": {
    "name": "ipython",
    "version": 3
   },
   "file_extension": ".py",
   "mimetype": "text/x-python",
   "name": "python",
   "nbconvert_exporter": "python",
   "pygments_lexer": "ipython3",
   "version": "3.8.5"
  }
 },
 "nbformat": 4,
 "nbformat_minor": 4
}
