{
 "cells": [
  {
   "cell_type": "code",
   "execution_count": 9,
   "metadata": {},
   "outputs": [],
   "source": [
    "import librosa\n",
    "import matplotlib.pyplot as plt\n",
    "import librosa.display \n",
    "import numpy as np\n",
    "import sox\n",
    "import os\n",
    "import soundfile as sf\n",
    "from itertools import groupby\n",
    "import pandas as pd"
   ]
  },
  {
   "cell_type": "code",
   "execution_count": 19,
   "metadata": {},
   "outputs": [],
   "source": [
    "path_parent=r\"F:\\DLR\\matchedspeakersound\\new_0730\\text\\12m\"\n",
    "folders_parent=os.listdir(path_parent)\n",
    "folders_parent.sort()"
   ]
  },
  {
   "cell_type": "code",
   "execution_count": 20,
   "metadata": {},
   "outputs": [],
   "source": [
    "def outputall(path,paths,folder):\n",
    "    i=0 \n",
    "    with open(path+'\\\\'+folder+'\\\\'+'diarization_output.rttm', 'r', encoding='utf-8') as f: \n",
    "        lines = f.readlines()\n",
    "        line_n=len(lines)\n",
    "        startp=np.zeros((line_n,1))\n",
    "        duration=np.zeros((line_n,1))\n",
    "        who=[np.nan]*line_n\n",
    "    with open(path+'\\\\'+folder+'\\\\'+'diarization_output.rttm', 'r', encoding='utf-8') as f:\n",
    "        for line in f:\n",
    "            line=line.split(' ')\n",
    "            startp[i]=line[3] #start of an utterance\n",
    "            duration[i]=line[4] #duration of an utterance\n",
    "            who[i]=line[7] #who is the speaker of an utterance\n",
    "            i=i+1\n",
    "    endtime=startp+duration # calculate the endtime of an utterance\n",
    "    startend=np.c_[startp,endtime]\n",
    "    for i in range(len(startend)): # Line labeled as 'SPEECH' is confused, remove them\n",
    "        if who[i]=='SPEECH':\n",
    "            startend[i,:]=np.nan\n",
    "    startendclear=startend[~np.isnan(startend).all(axis=1), :]\n",
    "    whoclear=[]\n",
    "    for i in range(len(startend)):\n",
    "        if who[i]!='SPEECH':\n",
    "            whoclear.append(who[i])\n",
    "            \n",
    "    blocktime=np.c_[np.arange(6)*300+.001,np.arange(6)*300+300.001]\n",
    "    \n",
    "    count_t=np.zeros(len(blocktime))\n",
    "    count_ttt=np.zeros(len(blocktime))\n",
    "    for i in range(len(blocktime)):\n",
    "        count=0\n",
    "        for j in range(len(whoclear)):\n",
    "            if whoclear[j]=='KCHI':\n",
    "                if startendclear[j,0]>blocktime[i,0] and startendclear[j,1]<blocktime[i,1]:\n",
    "                    count=count+1\n",
    "        if count>20:\n",
    "            count_ttt[i]=count\n",
    "            count_t[i]=1\n",
    "\n",
    "    highmoment=blocktime[np.where(count_t==1)[0]]\n",
    "    \n",
    "    count_ts=np.zeros(len(highmoment))\n",
    "    count_tt=np.zeros(len(highmoment))\n",
    "    \n",
    "    for i in range(len(highmoment)):\n",
    "        counts=0\n",
    "        for j in range(len(whoclear)-1):\n",
    "            if startendclear[j,0]>highmoment[i,0] and startendclear[j,1]<highmoment[i,1]:\n",
    "                if whoclear[j]=='KCHI':\n",
    "                    if whoclear[j+1]!='KCHI':\n",
    "                        counts+=1\n",
    "                if whoclear[j]!='KCHI':\n",
    "                    if whoclear[j+1]=='KCHI':\n",
    "                        counts+=1\n",
    "        if counts>40:\n",
    "            count_tt[i]=counts\n",
    "            count_ts[i]=1\n",
    "\n",
    "    highswitch=highmoment[np.where(count_ts==1)[0]]\n",
    "        \n",
    "    output=highmoment\n",
    "    outputs=highswitch\n",
    "    allsp=pd.DataFrame(output)\n",
    "    allsps=pd.DataFrame(outputs)\n",
    "    allsp.columns=['starthm','endhm']\n",
    "    allsps.columns=['starths','endhs']\n",
    "    allsp.to_csv(paths+'\\\\'+folder+'\\\\'+'highmoment.csv')\n",
    "    allsps.to_csv(paths+'\\\\'+folder+'\\\\'+'highswitch.csv')\n",
    "\n",
    "    allss=np.c_[startendclear,whoclear]\n",
    "    allssp=pd.DataFrame(allss)\n",
    "    allssp.columns=['Starttime','Endtime','Speaker']\n",
    "    allssp.to_csv(paths+'\\\\'+folder+'\\\\'+'VTC.csv')"
   ]
  },
  {
   "cell_type": "code",
   "execution_count": 21,
   "metadata": {},
   "outputs": [],
   "source": [
    "for ii in range(len(folders_parent)):\n",
    "    path=path_parent+'\\\\'+folders_parent[ii] #path to the ALICE folder\n",
    "    paths=path #save the outputs in the same folder or you could create new folders\n",
    "    folders=os.listdir(path)\n",
    "    folders.sort()\n",
    "    for i in range(len(folders)):\n",
    "        outputall(path,paths,folders[i])"
   ]
  },
  {
   "cell_type": "code",
   "execution_count": null,
   "metadata": {},
   "outputs": [],
   "source": []
  }
 ],
 "metadata": {
  "kernelspec": {
   "display_name": "Python 3",
   "language": "python",
   "name": "python3"
  },
  "language_info": {
   "codemirror_mode": {
    "name": "ipython",
    "version": 3
   },
   "file_extension": ".py",
   "mimetype": "text/x-python",
   "name": "python",
   "nbconvert_exporter": "python",
   "pygments_lexer": "ipython3",
   "version": "3.8.5"
  }
 },
 "nbformat": 4,
 "nbformat_minor": 4
}
