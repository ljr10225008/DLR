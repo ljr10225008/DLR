{
 "cells": [
  {
   "cell_type": "code",
   "execution_count": 1,
   "metadata": {},
   "outputs": [
    {
     "name": "stderr",
     "output_type": "stream",
     "text": [
      "C:\\Users\\ljr\\anaconda3\\lib\\site-packages\\pandas\\core\\computation\\expressions.py:20: UserWarning: Pandas requires version '2.7.3' or newer of 'numexpr' (version '2.7.1' currently installed).\n",
      "  from pandas.core.computation.check import NUMEXPR_INSTALLED\n"
     ]
    }
   ],
   "source": [
    "import math\n",
    "import numpy as np\n",
    "import sklearn\n",
    "from sklearn.cluster import KMeans\n",
    "import matplotlib as mpl\n",
    "import matplotlib.pyplot as plt\n",
    "import librosa\n",
    "import librosa.display\n",
    "import os\n",
    "import re\n",
    "import seaborn as sns\n",
    "import pandas as pd\n",
    "import random\n",
    "from scipy import stats  #t-test\n",
    "from scipy.spatial.distance import euclidean\n",
    "from fastdtw import fastdtw\n",
    "from scipy.interpolate import interp1d\n",
    "import statsmodels.api as sm\n",
    "from statsmodels.stats import multitest\n",
    "\n",
    "import statsmodels.formula.api as smf\n",
    "import statsmodels.api as sm"
   ]
  },
  {
   "cell_type": "code",
   "execution_count": 2,
   "metadata": {},
   "outputs": [],
   "source": [
    "pathfasfa1 = r\"C:\\LJR\\babylab\\marisa\\datamanual\\cut\\0643\\turntaking\\fasfa\"\n",
    "filesfasfa1= os.listdir(pathfasfa1)\n",
    "pathfasfa2 = r\"C:\\LJR\\babylab\\marisa\\datamanual\\cut\\2109\\turntaking\\fasfa\"\n",
    "filesfasfa2= os.listdir(pathfasfa2)\n",
    "pathfasfa3 = r\"C:\\LJR\\babylab\\marisa\\datamanual\\cut\\2625\\turntaking\\fasfa\"\n",
    "filesfasfa3= os.listdir(pathfasfa3)\n",
    "pathfasfa4 = r\"C:\\LJR\\babylab\\marisa\\datamanual\\cut\\3026\\turntaking\\fasfa\"\n",
    "filesfasfa4= os.listdir(pathfasfa4)\n",
    "pathfasfa5 = r\"C:\\LJR\\babylab\\marisa\\datamanual\\cut\\6216\\turntaking\\fasfa\"\n",
    "filesfasfa5= os.listdir(pathfasfa5)\n",
    "pathfasfa6 = r\"C:\\LJR\\babylab\\marisa\\datamanual\\cut\\7176\\turntaking\\fasfa\"\n",
    "filesfasfa6= os.listdir(pathfasfa6)\n",
    "pathfasfa7 = r\"C:\\LJR\\babylab\\marisa\\datamanual\\cut\\7220\\turntaking\\fasfa\"\n",
    "filesfasfa7= os.listdir(pathfasfa7)\n",
    "pathfasfa8 = r\"C:\\LJR\\babylab\\marisa\\datamanual\\cut\\7326\\turntaking\\fasfa\"\n",
    "filesfasfa8= os.listdir(pathfasfa8)\n",
    "pathfasfa9 = r\"C:\\LJR\\babylab\\marisa\\datamanual\\cut\\8787\\turntaking\\fasfa\"\n",
    "filesfasfa9= os.listdir(pathfasfa9)\n",
    "\n",
    "pathfaschi1 = r\"C:\\LJR\\babylab\\marisa\\datamanual\\cut\\0643\\turntaking\\faschi\"\n",
    "filesfaschi1= os.listdir(pathfaschi1)\n",
    "pathfaschi2 = r\"C:\\LJR\\babylab\\marisa\\datamanual\\cut\\2109\\turntaking\\faschi\"\n",
    "filesfaschi2= os.listdir(pathfaschi2)\n",
    "pathfaschi3 = r\"C:\\LJR\\babylab\\marisa\\datamanual\\cut\\2625\\turntaking\\faschi\"\n",
    "filesfaschi3= os.listdir(pathfaschi3)\n",
    "pathfaschi4 = r\"C:\\LJR\\babylab\\marisa\\datamanual\\cut\\3026\\turntaking\\faschi\"\n",
    "filesfaschi4= os.listdir(pathfaschi4)\n",
    "pathfaschi5 = r\"C:\\LJR\\babylab\\marisa\\datamanual\\cut\\6216\\turntaking\\faschi\"\n",
    "filesfaschi5= os.listdir(pathfaschi5)\n",
    "pathfaschi6 = r\"C:\\LJR\\babylab\\marisa\\datamanual\\cut\\7176\\turntaking\\faschi\"\n",
    "filesfaschi6= os.listdir(pathfaschi6)\n",
    "pathfaschi7 = r\"C:\\LJR\\babylab\\marisa\\datamanual\\cut\\7220\\turntaking\\faschi\"\n",
    "filesfaschi7= os.listdir(pathfaschi7)\n",
    "pathfaschi8 = r\"C:\\LJR\\babylab\\marisa\\datamanual\\cut\\7326\\turntaking\\faschi\"\n",
    "filesfaschi8= os.listdir(pathfaschi8)\n",
    "pathfaschi9 = r\"C:\\LJR\\babylab\\marisa\\datamanual\\cut\\8787\\turntaking\\faschi\"\n",
    "filesfaschi9= os.listdir(pathfaschi9)"
   ]
  },
  {
   "cell_type": "code",
   "execution_count": 3,
   "metadata": {},
   "outputs": [],
   "source": [
    "pathfaother1 = r\"C:\\LJR\\babylab\\marisa\\datamanual\\cut\\0643\\turntaking\\faother\"\n",
    "filesfaother1= os.listdir(pathfaother1)\n",
    "pathfaother2 = r\"C:\\LJR\\babylab\\marisa\\datamanual\\cut\\2109\\turntaking\\faother\"\n",
    "filesfaother2= os.listdir(pathfaother2)\n",
    "pathfaother3 = r\"C:\\LJR\\babylab\\marisa\\datamanual\\cut\\2625\\turntaking\\faother\"\n",
    "filesfaother3= os.listdir(pathfaother3)\n",
    "pathfaother4 = r\"C:\\LJR\\babylab\\marisa\\datamanual\\cut\\3026\\turntaking\\faother\"\n",
    "filesfaother4= os.listdir(pathfaother4)\n",
    "pathfaother5 = r\"C:\\LJR\\babylab\\marisa\\datamanual\\cut\\6216\\turntaking\\faother\"\n",
    "filesfaother5= os.listdir(pathfaother5)\n",
    "pathfaother6 = r\"C:\\LJR\\babylab\\marisa\\datamanual\\cut\\7176\\turntaking\\faother\"\n",
    "filesfaother6= os.listdir(pathfaother6)\n",
    "pathfaother7 = r\"C:\\LJR\\babylab\\marisa\\datamanual\\cut\\7220\\turntaking\\faother\"\n",
    "filesfaother7= os.listdir(pathfaother7)\n",
    "pathfaother8 = r\"C:\\LJR\\babylab\\marisa\\datamanual\\cut\\7326\\turntaking\\faother\"\n",
    "filesfaother8= os.listdir(pathfaother8)\n",
    "pathfaother9 = r\"C:\\LJR\\babylab\\marisa\\datamanual\\cut\\8787\\turntaking\\faother\"\n",
    "filesfaother9= os.listdir(pathfaother9)\n",
    "\n",
    "pathchiother1 = r\"C:\\LJR\\babylab\\marisa\\datamanual\\cut\\0643\\turntaking\\chiother\"\n",
    "fileschiother1= os.listdir(pathchiother1)\n",
    "pathchiother2 = r\"C:\\LJR\\babylab\\marisa\\datamanual\\cut\\2109\\turntaking\\chiother\"\n",
    "fileschiother2= os.listdir(pathchiother2)\n",
    "pathchiother3 = r\"C:\\LJR\\babylab\\marisa\\datamanual\\cut\\2625\\turntaking\\chiother\"\n",
    "fileschiother3= os.listdir(pathchiother3)\n",
    "pathchiother4 = r\"C:\\LJR\\babylab\\marisa\\datamanual\\cut\\3026\\turntaking\\chiother\"\n",
    "fileschiother4= os.listdir(pathchiother4)\n",
    "pathchiother5 = r\"C:\\LJR\\babylab\\marisa\\datamanual\\cut\\6216\\turntaking\\chiother\"\n",
    "fileschiother5= os.listdir(pathchiother5)\n",
    "pathchiother6 = r\"C:\\LJR\\babylab\\marisa\\datamanual\\cut\\7176\\turntaking\\chiother\"\n",
    "fileschiother6= os.listdir(pathchiother6)\n",
    "pathchiother7 = r\"C:\\LJR\\babylab\\marisa\\datamanual\\cut\\7220\\turntaking\\chiother\"\n",
    "fileschiother7= os.listdir(pathchiother7)\n",
    "pathchiother8 = r\"C:\\LJR\\babylab\\marisa\\datamanual\\cut\\7326\\turntaking\\chiother\"\n",
    "fileschiother8= os.listdir(pathchiother8)\n",
    "pathchiother9 = r\"C:\\LJR\\babylab\\marisa\\datamanual\\cut\\8787\\turntaking\\chiother\"\n",
    "fileschiother9= os.listdir(pathchiother9)"
   ]
  },
  {
   "cell_type": "code",
   "execution_count": 4,
   "metadata": {},
   "outputs": [],
   "source": [
    "pathchisfa1 = r\"C:\\LJR\\babylab\\marisa\\datamanual\\cut\\0643\\turntaking\\chisfa\"\n",
    "fileschisfa1= os.listdir(pathchisfa1)\n",
    "pathchisfa2 = r\"C:\\LJR\\babylab\\marisa\\datamanual\\cut\\2109\\turntaking\\chisfa\"\n",
    "fileschisfa2= os.listdir(pathchisfa2)\n",
    "pathchisfa3 = r\"C:\\LJR\\babylab\\marisa\\datamanual\\cut\\2625\\turntaking\\chisfa\"\n",
    "fileschisfa3= os.listdir(pathchisfa3)\n",
    "pathchisfa4 = r\"C:\\LJR\\babylab\\marisa\\datamanual\\cut\\3026\\turntaking\\chisfa\"\n",
    "fileschisfa4= os.listdir(pathchisfa4)\n",
    "pathchisfa5 = r\"C:\\LJR\\babylab\\marisa\\datamanual\\cut\\6216\\turntaking\\chisfa\"\n",
    "fileschisfa5= os.listdir(pathchisfa5)\n",
    "pathchisfa6 = r\"C:\\LJR\\babylab\\marisa\\datamanual\\cut\\7176\\turntaking\\chisfa\"\n",
    "fileschisfa6= os.listdir(pathchisfa6)\n",
    "pathchisfa7 = r\"C:\\LJR\\babylab\\marisa\\datamanual\\cut\\7220\\turntaking\\chisfa\"\n",
    "fileschisfa7= os.listdir(pathchisfa7)\n",
    "pathchisfa8 = r\"C:\\LJR\\babylab\\marisa\\datamanual\\cut\\7326\\turntaking\\chisfa\"\n",
    "fileschisfa8= os.listdir(pathchisfa8)\n",
    "pathchisfa9 = r\"C:\\LJR\\babylab\\marisa\\datamanual\\cut\\8787\\turntaking\\chisfa\"\n",
    "fileschisfa9= os.listdir(pathchisfa9)\n",
    "\n",
    "pathchischi1 = r\"C:\\LJR\\babylab\\marisa\\datamanual\\cut\\0643\\turntaking\\chischi\"\n",
    "fileschischi1= os.listdir(pathchischi1)\n",
    "pathchischi2 = r\"C:\\LJR\\babylab\\marisa\\datamanual\\cut\\2109\\turntaking\\chischi\"\n",
    "fileschischi2= os.listdir(pathchischi2)\n",
    "pathchischi3= r\"C:\\LJR\\babylab\\marisa\\datamanual\\cut\\2625\\turntaking\\chischi\"\n",
    "fileschischi3= os.listdir(pathchischi3)\n",
    "pathchischi4 = r\"C:\\LJR\\babylab\\marisa\\datamanual\\cut\\3026\\turntaking\\chischi\"\n",
    "fileschischi4= os.listdir(pathchischi4)\n",
    "pathchischi5 = r\"C:\\LJR\\babylab\\marisa\\datamanual\\cut\\6216\\turntaking\\chischi\"\n",
    "fileschischi5= os.listdir(pathchischi5)\n",
    "pathchischi6 = r\"C:\\LJR\\babylab\\marisa\\datamanual\\cut\\7176\\turntaking\\chischi\"\n",
    "fileschischi6= os.listdir(pathchischi6)\n",
    "pathchischi7 = r\"C:\\LJR\\babylab\\marisa\\datamanual\\cut\\7220\\turntaking\\chischi\"\n",
    "fileschischi7= os.listdir(pathchischi7)\n",
    "pathchischi8 = r\"C:\\LJR\\babylab\\marisa\\datamanual\\cut\\7326\\turntaking\\chischi\"\n",
    "fileschischi8= os.listdir(pathchischi8)\n",
    "pathchischi9 = r\"C:\\LJR\\babylab\\marisa\\datamanual\\cut\\8787\\turntaking\\chischi\"\n",
    "fileschischi9= os.listdir(pathchischi9)\n"
   ]
  },
  {
   "cell_type": "code",
   "execution_count": 5,
   "metadata": {},
   "outputs": [],
   "source": [
    "filesfasfa1.sort(key = lambda x:float(x[1:-4]))\n",
    "filesfasfa2.sort(key = lambda x:float(x[1:-4]))\n",
    "filesfasfa3.sort(key = lambda x:float(x[1:-4]))\n",
    "filesfasfa4.sort(key = lambda x:float(x[1:-4]))\n",
    "filesfasfa5.sort(key = lambda x:float(x[1:-4]))\n",
    "filesfasfa6.sort(key = lambda x:float(x[1:-4]))\n",
    "filesfasfa7.sort(key = lambda x:float(x[1:-4]))\n",
    "filesfasfa8.sort(key = lambda x:float(x[1:-4]))\n",
    "filesfasfa9.sort(key = lambda x:float(x[1:-4]))"
   ]
  },
  {
   "cell_type": "code",
   "execution_count": 6,
   "metadata": {},
   "outputs": [],
   "source": [
    "filesfaschi1.sort(key = lambda x:float(x[:-4]))\n",
    "filesfaschi2.sort(key = lambda x:float(x[:-4]))\n",
    "filesfaschi3.sort(key = lambda x:float(x[:-4]))\n",
    "filesfaschi4.sort(key = lambda x:float(x[:-4]))\n",
    "filesfaschi5.sort(key = lambda x:float(x[:-4]))\n",
    "filesfaschi6.sort(key = lambda x:float(x[:-4]))\n",
    "filesfaschi7.sort(key = lambda x:float(x[:-4]))\n",
    "filesfaschi8.sort(key = lambda x:float(x[:-4]))\n",
    "filesfaschi9.sort(key = lambda x:float(x[:-4]))"
   ]
  },
  {
   "cell_type": "code",
   "execution_count": 7,
   "metadata": {},
   "outputs": [],
   "source": [
    "def maxpitch(path,files):\n",
    "    maxminpitchs=np.zeros((len(files),2))\n",
    "    for i in range(len(files)):\n",
    "        x,sr1=librosa.load(path+\"\\\\\"+files[i],sr=None)\n",
    "        f0, voiced_flag, voiced_probs = librosa.pyin(x,sr=sr1,frame_length=512, fill_na=np.nan, n_thresholds=50, fmin=120, fmax=600)\n",
    "        maxminpitchs[i,0]=np.nanmax(f0)\n",
    "        maxminpitchs[i,1]=np.nanmin(f0)\n",
    "    maxminpitch=np.r_[np.max(maxminpitchs),np.min(maxminpitchs)]\n",
    "    return maxminpitch"
   ]
  },
  {
   "cell_type": "code",
   "execution_count": 8,
   "metadata": {},
   "outputs": [],
   "source": [
    "def maxpitchi(path,files):\n",
    "    maxminpitchs=np.zeros((len(files),2))\n",
    "    for i in range(len(files)):\n",
    "        x,sr1=librosa.load(path+\"\\\\\"+files[i],sr=None)\n",
    "        f0, voiced_flag, voiced_probs = librosa.pyin(x,sr=sr1,frame_length=512, fill_na=np.nan, n_thresholds=50, fmin=120, fmax=1000)\n",
    "        maxminpitchs[i,0]=np.nanmax(f0)\n",
    "        maxminpitchs[i,1]=np.nanmin(f0)\n",
    "    maxminpitch=np.r_[np.max(maxminpitchs),np.min(maxminpitchs)]\n",
    "    return maxminpitch"
   ]
  },
  {
   "cell_type": "code",
   "execution_count": 9,
   "metadata": {},
   "outputs": [],
   "source": [
    "def normalize(x, axis=0):\n",
    "    return sklearn.preprocessing.minmax_scale(x, axis=axis)"
   ]
  },
  {
   "cell_type": "code",
   "execution_count": 10,
   "metadata": {},
   "outputs": [],
   "source": [
    "def normalizea(x,maxa,mina, axis=0):\n",
    "    return [(float(i)-mina)/float(maxa-mina) for i in x]"
   ]
  },
  {
   "cell_type": "code",
   "execution_count": 11,
   "metadata": {},
   "outputs": [],
   "source": [
    "def normalizei(x,maxi,mini, axis=0):\n",
    "    return [(float(i)-mini)/float(maxi-mini) for i in x]"
   ]
  },
  {
   "cell_type": "code",
   "execution_count": 12,
   "metadata": {},
   "outputs": [],
   "source": [
    "def f0fitintera(path,files,maxa,mina):\n",
    "    x,sr1=librosa.load(path+\"\\\\\"+files,sr=None)\n",
    "    f0, voiced_flag, voiced_probs = librosa.pyin(x,sr=sr1,frame_length=512, fill_na=np.nan, n_thresholds=50, fmin=120, fmax=600)\n",
    "    times = librosa.times_like(f0,sr=sr1,hop_length=128)\n",
    "    duration=librosa.get_duration(y=x, sr=sr1)\n",
    "    #for k in range(len(f0)-1):\n",
    "        #if (k!=0):\n",
    "            #if (np.isnan(f0[k-1]))and(np.isnan(f0[k+1])):\n",
    "                #f0[k]=np.nan\n",
    "        #if (~np.isnan(f0[-1]))and(np.isnan(f0[-2])):\n",
    "            #f0[-1]=np.nan\n",
    "    #logf0=np.log(f0)\n",
    "    #logf0nomal=normalize(logf0)\n",
    "    logf0nomal=normalizea(f0,maxa,mina)\n",
    "    timesp=pd.DataFrame(times)\n",
    "    logf0nomalp=pd.DataFrame(logf0nomal)\n",
    "    indxnan = logf0nomalp.fillna(method='ffill').dropna().index\n",
    "    res_idx = logf0nomalp.loc[indxnan].fillna(method='bfill').dropna().index\n",
    "    f0out=logf0nomalp.loc[res_idx]\n",
    "    timesout = timesp.loc[res_idx]\n",
    "    timesout=timesout-timesout.min()\n",
    "    timesnumpy=timesout.to_numpy()\n",
    "    f0outnumpy=f0out.to_numpy()\n",
    "    logf0nomalnan = f0outnumpy[~np.isnan(f0outnumpy)]\n",
    "    timesnan = timesnumpy[~np.isnan(f0outnumpy)]\n",
    "    #xx = np.linspace(timesnumpy.min(), timesnumpy.max(), 50) \n",
    "    f = interp1d(timesnan, logf0nomalnan,kind='slinear',fill_value=\"extrapolate\")\n",
    "    ynew=f(timesnumpy)\n",
    "    #ynew=f(xx)\n",
    "    return ynew"
   ]
  },
  {
   "cell_type": "code",
   "execution_count": 13,
   "metadata": {},
   "outputs": [],
   "source": [
    "def f0fitinteri(path,files,maxi,mini):\n",
    "    x,sr1=librosa.load(path+\"\\\\\"+files,sr=None)\n",
    "    f0, voiced_flag, voiced_probs = librosa.pyin(x,sr=sr1,frame_length=512, fill_na=np.nan, n_thresholds=50, fmin=120, fmax=1000)\n",
    "    times = librosa.times_like(f0,sr=sr1,hop_length=128)\n",
    "    duration=librosa.get_duration(y=x, sr=sr1)\n",
    "    #for k in range(len(f0)-1):\n",
    "        #if (k!=0):\n",
    "            #if (np.isnan(f0[k-1]))and(np.isnan(f0[k+1])):\n",
    "                #f0[k]=np.nan\n",
    "        #if (~np.isnan(f0[-1]))and(np.isnan(f0[-2])):\n",
    "            #f0[-1]=np.nan\n",
    "    #logf0=np.log(f0)\n",
    "    #logf0nomal=normalize(logf0)\n",
    "    logf0nomal=normalizei(f0,maxi,mini)\n",
    "    timesp=pd.DataFrame(times)\n",
    "    logf0nomalp=pd.DataFrame(logf0nomal)\n",
    "    indxnan = logf0nomalp.fillna(method='ffill').dropna().index\n",
    "    res_idx = logf0nomalp.loc[indxnan].fillna(method='bfill').dropna().index\n",
    "    f0out=logf0nomalp.loc[res_idx]\n",
    "    timesout = timesp.loc[res_idx]\n",
    "    timesout=timesout-timesout.min()\n",
    "    timesnumpy=timesout.to_numpy()\n",
    "    f0outnumpy=f0out.to_numpy()\n",
    "    logf0nomalnan = f0outnumpy[~np.isnan(f0outnumpy)]\n",
    "    timesnan = timesnumpy[~np.isnan(f0outnumpy)]\n",
    "    #xx = np.linspace(timesnumpy.min(), timesnumpy.max(), 50)\n",
    "    f = interp1d(timesnan, logf0nomalnan,kind='slinear',fill_value=\"extrapolate\")\n",
    "    ynew=f(timesnumpy)\n",
    "    #ynew=f(xx)\n",
    "    return ynew"
   ]
  },
  {
   "cell_type": "code",
   "execution_count": 14,
   "metadata": {},
   "outputs": [],
   "source": [
    "def dtwdcalculatefas(patha,filesa,pathi,filesi,maxa,mina,maxi,mini):\n",
    "    dtwd=np.zeros((len(filesa),2))\n",
    "    for i in range(len(filesa)):\n",
    "        ynewfa=f0fitintera(patha,filesa[i],maxa,mina)\n",
    "        ynewchi=f0fitinteri(pathi,filesi[i],maxi,mini)\n",
    "        distance,path = fastdtw(ynewfa,ynewchi,dist=euclidean)\n",
    "        meandistance = distance/(len(ynewchi))\n",
    "        dtwd[i,:]=np.c_[distance,meandistance]\n",
    "    return dtwd"
   ]
  },
  {
   "cell_type": "code",
   "execution_count": 15,
   "metadata": {},
   "outputs": [],
   "source": [
    "dtwd1= dtwdcalculatefas(pathfasfa1,filesfasfa1,pathfaschi1,filesfaschi1,590,120,999.6,120)\n",
    "dtwd2= dtwdcalculatefas(pathfasfa2,filesfasfa2,pathfaschi2,filesfaschi2,597.8,120,999.6,120)\n",
    "#dtwd3= dtwdcalculatefas(pathfasfa3,filesfasfa3,pathfaschi3,filesfaschi3,557.8,120,999.6,120)\n",
    "#dtwd4= dtwdcalculatefas(pathfasfa4,filesfasfa4,pathfaschi4,filesfaschi4,551.38,120,971.2,120)\n",
    "#dtwd5= dtwdcalculatefas(pathfasfa5,filesfasfa5,pathfaschi5,filesfaschi5,597.82,120,999.6,120)\n",
    "dtwd6= dtwdcalculatefas(pathfasfa6,filesfasfa6,pathfaschi6,filesfaschi6,590.94,122.1,999.6,120)\n",
    "dtwd7= dtwdcalculatefas(pathfasfa7,filesfasfa7,pathfaschi7,filesfaschi7,597.82,120,999.6,120)\n",
    "dtwd8= dtwdcalculatefas(pathfasfa8,filesfasfa8,pathfaschi8,filesfaschi8,597.82,120,999.6,120)\n",
    "dtwd9= dtwdcalculatefas(pathfasfa9,filesfasfa9,pathfaschi9,filesfaschi9,597.82,120,999.6,120)"
   ]
  },
  {
   "cell_type": "code",
   "execution_count": 16,
   "metadata": {},
   "outputs": [],
   "source": [
    "def randomid (filesr,filest):\n",
    "    idrr1=[random.randint(0,len(filesr)-1) for _ in range (len(filest))]\n",
    "    idrr2=[random.randint(0,len(filesr)-1) for _ in range (len(filest))]\n",
    "    idrr3=[random.randint(0,len(filesr)-1) for _ in range (len(filest))]\n",
    "    idrr4=[random.randint(0,len(filesr)-1) for _ in range (len(filest))]\n",
    "    idrr5=[random.randint(0,len(filesr)-1) for _ in range (len(filest))]\n",
    "    idr=np.c_[idrr1,idrr2,idrr3,idrr4,idrr5]\n",
    "    return idr"
   ]
  },
  {
   "cell_type": "code",
   "execution_count": 17,
   "metadata": {},
   "outputs": [],
   "source": [
    "idrfaschi1=randomid(fileschiother1,filesfaschi1)\n",
    "idrfaschi2=randomid(fileschiother2,filesfaschi2)\n",
    "#idrfaschi3=randomid(fileschiother3,filesfaschi3)\n",
    "#idrfaschi4=randomid(fileschiother4,filesfaschi4)\n",
    "#idrfaschi5=randomid(fileschiother5,filesfaschi5)\n",
    "idrfaschi6=randomid(fileschiother6,filesfaschi6)\n",
    "idrfaschi7=randomid(fileschiother7,filesfaschi7)\n",
    "idrfaschi8=randomid(fileschiother8,filesfaschi8)\n",
    "idrfaschi9=randomid(fileschiother9,filesfaschi9)"
   ]
  },
  {
   "cell_type": "code",
   "execution_count": 18,
   "metadata": {},
   "outputs": [],
   "source": [
    "def rfiler(filesr,idr):\n",
    "    filesrr1=np.array(filesr)[idr[:,0]]\n",
    "    filesrr2=np.array(filesr)[idr[:,1]]\n",
    "    filesrr3=np.array(filesr)[idr[:,2]]\n",
    "    filesrr4=np.array(filesr)[idr[:,3]]\n",
    "    filesrr5=np.array(filesr)[idr[:,4]]\n",
    "    filesrr=np.c_[filesrr1,filesrr2,filesrr3,filesrr4,filesrr5]\n",
    "    return filesrr"
   ]
  },
  {
   "cell_type": "code",
   "execution_count": 19,
   "metadata": {},
   "outputs": [],
   "source": [
    "filesrrfaschi1=rfiler(fileschiother1,idrfaschi1)\n",
    "filesrrfaschi2=rfiler(fileschiother2,idrfaschi2)\n",
    "#filesrrfaschi3=rfiler(fileschiother3,idrfaschi3)\n",
    "#filesrrfaschi4=rfiler(fileschiother4,idrfaschi4)\n",
    "#filesrrfaschi5=rfiler(fileschiother5,idrfaschi5)\n",
    "filesrrfaschi6=rfiler(fileschiother6,idrfaschi6)\n",
    "filesrrfaschi7=rfiler(fileschiother7,idrfaschi7)\n",
    "filesrrfaschi8=rfiler(fileschiother8,idrfaschi8)\n",
    "filesrrfaschi9=rfiler(fileschiother9,idrfaschi9)"
   ]
  },
  {
   "cell_type": "code",
   "execution_count": 20,
   "metadata": {},
   "outputs": [],
   "source": [
    "r1fa=dtwdcalculatefas(pathfasfa1,filesfasfa1,pathchiother1,filesrrfaschi1[:,0],590,120,999.6,120)\n",
    "r2fa=dtwdcalculatefas(pathfasfa2,filesfasfa2,pathchiother2,filesrrfaschi2[:,0],597.8,120,999.6,120)\n",
    "r6fa=dtwdcalculatefas(pathfasfa6,filesfasfa6,pathchiother6,filesrrfaschi6[:,0],590.94,122.1,999.6,120)\n",
    "r7fa=dtwdcalculatefas(pathfasfa7,filesfasfa7,pathchiother7,filesrrfaschi7[:,0],597.82,120,999.6,120)\n",
    "r8fa=dtwdcalculatefas(pathfasfa8,filesfasfa8,pathchiother8,filesrrfaschi8[:,0],597.82,120,999.6,120)\n",
    "r9fa=dtwdcalculatefas(pathfasfa9,filesfasfa9,pathchiother9,filesrrfaschi9[:,0],597.82,120,999.6,120)"
   ]
  },
  {
   "cell_type": "code",
   "execution_count": 21,
   "metadata": {},
   "outputs": [],
   "source": [
    "fileschisfa1.sort(key = lambda x:float(x[1:-4]))\n",
    "fileschisfa2.sort(key = lambda x:float(x[1:-4]))\n",
    "#fileschisfa3.sort(key = lambda x:float(x[1:-4]))\n",
    "#fileschisfa4.sort(key = lambda x:float(x[1:-4]))\n",
    "#fileschisfa5.sort(key = lambda x:float(x[1:-4]))\n",
    "fileschisfa6.sort(key = lambda x:float(x[1:-4]))\n",
    "fileschisfa7.sort(key = lambda x:float(x[1:-4]))\n",
    "fileschisfa8.sort(key = lambda x:float(x[1:-4]))\n",
    "fileschisfa9.sort(key = lambda x:float(x[1:-4]))"
   ]
  },
  {
   "cell_type": "code",
   "execution_count": 22,
   "metadata": {},
   "outputs": [],
   "source": [
    "fileschischi1.sort(key = lambda x:float(x[:-4]))\n",
    "fileschischi2.sort(key = lambda x:float(x[:-4]))\n",
    "#fileschischi3.sort(key = lambda x:float(x[:-4]))\n",
    "#fileschischi4.sort(key = lambda x:float(x[:-4]))\n",
    "#fileschischi5.sort(key = lambda x:float(x[:-4]))\n",
    "fileschischi6.sort(key = lambda x:float(x[:-4]))\n",
    "fileschischi7.sort(key = lambda x:float(x[:-4]))\n",
    "fileschischi8.sort(key = lambda x:float(x[:-4]))\n",
    "fileschischi9.sort(key = lambda x:float(x[:-4]))"
   ]
  },
  {
   "cell_type": "code",
   "execution_count": 23,
   "metadata": {},
   "outputs": [],
   "source": [
    "idrchisfa1=randomid(filesfaother1,fileschisfa1)\n",
    "idrchisfa2=randomid(filesfaother2,fileschisfa2)\n",
    "#idrchisfa3=randomid(filesfaother3,fileschisfa3)\n",
    "#idrchisfa4=randomid(filesfaother4,fileschisfa4)\n",
    "#idrchisfa5=randomid(filesfaother5,fileschisfa5)\n",
    "idrchisfa6=randomid(filesfaother6,fileschisfa6)\n",
    "idrchisfa7=randomid(filesfaother7,fileschisfa7)\n",
    "idrchisfa8=randomid(filesfaother8,fileschisfa8)\n",
    "idrchisfa9=randomid(filesfaother9,fileschisfa9)"
   ]
  },
  {
   "cell_type": "code",
   "execution_count": 24,
   "metadata": {},
   "outputs": [],
   "source": [
    "filesrrchisfa1=rfiler(filesfaother1,idrchisfa1)\n",
    "filesrrchisfa2=rfiler(filesfaother2,idrchisfa2)\n",
    "#filesrrchisfa3=rfiler(filesfaother3,idrchisfa3)\n",
    "#filesrrchisfa4=rfiler(filesfaother4,idrchisfa4)\n",
    "#filesrrchisfa5=rfiler(filesfaother5,idrchisfa5)\n",
    "filesrrchisfa6=rfiler(filesfaother6,idrchisfa6)\n",
    "filesrrchisfa7=rfiler(filesfaother7,idrchisfa7)\n",
    "filesrrchisfa8=rfiler(filesfaother8,idrchisfa8)\n",
    "filesrrchisfa9=rfiler(filesfaother9,idrchisfa9)"
   ]
  },
  {
   "cell_type": "code",
   "execution_count": 25,
   "metadata": {},
   "outputs": [],
   "source": [
    "def dtwdcalculatechis(patha,filesa,pathi,filesi,maxa,mina,maxi,mini):\n",
    "    dtwd=np.zeros((len(filesa),2))\n",
    "    for i in range(len(filesa)):\n",
    "        ynewfa=f0fitintera(patha,filesa[i],maxa,mina)\n",
    "        ynewchi=f0fitinteri(pathi,filesi[i],maxi,mini)\n",
    "        distance,path = fastdtw(ynewfa,ynewchi,dist=euclidean)\n",
    "        meandistance = distance/(len(ynewfa))\n",
    "        dtwd[i,:]=np.c_[distance,meandistance]\n",
    "    return dtwd"
   ]
  },
  {
   "cell_type": "code",
   "execution_count": 26,
   "metadata": {},
   "outputs": [],
   "source": [
    "dtwdc1= dtwdcalculatechis(pathchisfa1,fileschisfa1,pathchischi1,fileschischi1,590,120,999.6,120)\n",
    "dtwdc2= dtwdcalculatechis(pathchisfa2,fileschisfa2,pathchischi2,fileschischi2,597.8,120,999.6,120)\n",
    "#dtwdc3= dtwdcalculatechis(pathchisfa3,fileschisfa3,pathchischi3,fileschischi3,557.8,120,999.6,120)\n",
    "#dtwdc4= dtwdcalculatechis(pathchisfa4,fileschisfa4,pathchischi4,fileschischi4,551.38,120,971.2,120)\n",
    "#dtwdc5= dtwdcalculatechis(pathchisfa5,fileschisfa5,pathchischi5,fileschischi5,597.82,120,999.6,120)\n",
    "dtwdc6= dtwdcalculatechis(pathchisfa6,fileschisfa6,pathchischi6,fileschischi6,590.94,122.1,999.6,120)\n",
    "dtwdc7= dtwdcalculatechis(pathchisfa7,fileschisfa7,pathchischi7,fileschischi7,597.82,120,999.6,120)\n",
    "dtwdc8= dtwdcalculatechis(pathchisfa8,fileschisfa8,pathchischi8,fileschischi8,597.82,120,999.6,120)\n",
    "dtwdc9= dtwdcalculatechis(pathchisfa9,fileschisfa9,pathchischi9,fileschischi9,597.82,120,999.6,120)"
   ]
  },
  {
   "cell_type": "code",
   "execution_count": 27,
   "metadata": {},
   "outputs": [],
   "source": [
    "r1fac=dtwdcalculatechis(pathfaother1,filesrrchisfa1[:,0],pathchischi1,fileschischi1,590,120,999.6,120)\n",
    "r2fac=dtwdcalculatechis(pathfaother2,filesrrchisfa2[:,0],pathchischi2,fileschischi2,597.8,120,999.6,120)\n"
   ]
  },
  {
   "cell_type": "code",
   "execution_count": 28,
   "metadata": {},
   "outputs": [],
   "source": [
    "r6fac=dtwdcalculatechis(pathfaother6,filesrrchisfa6[:,0],pathchischi6,fileschischi6,590.94,122.1,999.6,120)\n",
    "r7fac=dtwdcalculatechis(pathfaother7,filesrrchisfa7[:,0],pathchischi7,fileschischi7,597.82,120,999.6,120)\n",
    "r8fac=dtwdcalculatechis(pathfaother8,filesrrchisfa8[:,0],pathchischi8,fileschischi8,597.82,120,999.6,120)\n",
    "r9fac=dtwdcalculatechis(pathfaother9,filesrrchisfa9[:,0],pathchischi9,fileschischi9,597.82,120,999.6,120)"
   ]
  },
  {
   "cell_type": "code",
   "execution_count": 29,
   "metadata": {},
   "outputs": [],
   "source": [
    "def ind(con,ind,dtwin):\n",
    "    cons=np.zeros(len(dtwin))+con\n",
    "    inds=np.zeros(len(dtwin))+ind\n",
    "    dtwout=np.c_[dtwin[:,0],cons,inds]\n",
    "    return dtwout"
   ]
  },
  {
   "cell_type": "code",
   "execution_count": 30,
   "metadata": {},
   "outputs": [],
   "source": [
    "dataallfa=np.r_[ind(0,1,dtwd1),ind(0,2,dtwd2),ind(0,6,dtwd6),ind(0,7,dtwd7),ind(0,8,dtwd8),ind(0,9,dtwd9)]\n",
    "dataallfar=np.r_[ind(1,1,r1fa),ind(1,2,r2fa),ind(1,6,r6fa),ind(1,7,r7fa),ind(1,8,r8fa),ind(1,9,r9fa)]"
   ]
  },
  {
   "cell_type": "code",
   "execution_count": 31,
   "metadata": {},
   "outputs": [],
   "source": [
    "dataall=np.r_[dataallfa,dataallfar]\n",
    "dataallp=pd.DataFrame(dataall)\n",
    "dataallp.columns=['DV','IV','type']"
   ]
  },
  {
   "cell_type": "code",
   "execution_count": 32,
   "metadata": {},
   "outputs": [
    {
     "name": "stdout",
     "output_type": "stream",
     "text": [
      "         Mixed Linear Model Regression Results\n",
      "=======================================================\n",
      "Model:            MixedLM Dependent Variable: DV       \n",
      "No. Observations: 220     Method:             REML     \n",
      "No. Groups:       6       Scale:              252.2550 \n",
      "Min. group size:  20      Log-Likelihood:     -922.4197\n",
      "Max. group size:  80      Converged:          Yes      \n",
      "Mean group size:  36.7                                 \n",
      "-------------------------------------------------------\n",
      "              Coef.  Std.Err.   z   P>|z| [0.025 0.975]\n",
      "-------------------------------------------------------\n",
      "Intercept     14.610    3.672 3.978 0.000  7.413 21.808\n",
      "IV             4.288    2.142 2.002 0.045  0.091  8.485\n",
      "Group Var     65.495    3.056                          \n",
      "=======================================================\n",
      "\n"
     ]
    }
   ],
   "source": [
    "med=smf.mixedlm(\"DV~IV\",dataallp,groups=dataallp['type'])\n",
    "medf = med.fit(method=['powell'])\n",
    "print(medf.summary())"
   ]
  },
  {
   "cell_type": "code",
   "execution_count": 43,
   "metadata": {},
   "outputs": [
    {
     "name": "stdout",
     "output_type": "stream",
     "text": [
      "         Mixed Linear Model Regression Results\n",
      "========================================================\n",
      "Model:             MixedLM Dependent Variable: DV       \n",
      "No. Observations:  220     Method:             REML     \n",
      "No. Groups:        6       Scale:              253.1878 \n",
      "Min. group size:   20      Log-Likelihood:     -922.3568\n",
      "Max. group size:   80      Converged:          No       \n",
      "Mean group size:   36.7                                 \n",
      "--------------------------------------------------------\n",
      "               Coef.  Std.Err.   z   P>|z| [0.025 0.975]\n",
      "--------------------------------------------------------\n",
      "Intercept      13.966    2.809 4.973 0.000  8.461 19.470\n",
      "IV              5.302    3.120 1.699 0.089 -0.813 11.417\n",
      "Group Var      26.204    1.996                          \n",
      "Group x IV Cov 17.114    1.849                          \n",
      "IV Var         14.199    1.110                          \n",
      "========================================================\n",
      "\n"
     ]
    },
    {
     "name": "stderr",
     "output_type": "stream",
     "text": [
      "C:\\Users\\ljr\\anaconda3\\lib\\site-packages\\statsmodels\\base\\model.py:607: ConvergenceWarning: Maximum Likelihood optimization failed to converge. Check mle_retvals\n",
      "  warnings.warn(\"Maximum Likelihood optimization failed to \"\n",
      "C:\\Users\\ljr\\anaconda3\\lib\\site-packages\\statsmodels\\regression\\mixed_linear_model.py:2207: ConvergenceWarning: MixedLM optimization failed, trying a different optimizer may help.\n",
      "  warnings.warn(msg, ConvergenceWarning)\n",
      "C:\\Users\\ljr\\anaconda3\\lib\\site-packages\\statsmodels\\regression\\mixed_linear_model.py:2219: ConvergenceWarning: Gradient optimization failed, |grad| = 4.751362\n",
      "  warnings.warn(msg, ConvergenceWarning)\n",
      "C:\\Users\\ljr\\anaconda3\\lib\\site-packages\\statsmodels\\regression\\mixed_linear_model.py:2262: ConvergenceWarning: The Hessian matrix at the estimated parameter values is not positive definite.\n",
      "  warnings.warn(msg, ConvergenceWarning)\n"
     ]
    }
   ],
   "source": [
    "med=smf.mixedlm(\"DV~IV\",dataallp,groups=dataallp['type'],re_formula=\"~IV\")\n",
    "medf = med.fit(method=['cg'])\n",
    "print(medf.summary())"
   ]
  },
  {
   "cell_type": "code",
   "execution_count": 33,
   "metadata": {},
   "outputs": [],
   "source": [
    "dataallfac=np.r_[ind(0,1,dtwdc1),ind(0,2,dtwdc2),ind(0,6,dtwdc6),ind(0,7,dtwdc7),ind(0,8,dtwdc8),ind(0,9,dtwdc9)]\n",
    "dataallfarc=np.r_[ind(1,1,r1fac),ind(1,2,r2fac),ind(1,6,r6fac),ind(1,7,r7fac),ind(1,8,r8fac),ind(1,9,r9fac)]"
   ]
  },
  {
   "cell_type": "code",
   "execution_count": 34,
   "metadata": {},
   "outputs": [],
   "source": [
    "dataallc=np.r_[dataallfac,dataallfarc]\n",
    "dataallpc=pd.DataFrame(dataallc)\n",
    "dataallpc.columns=['DV','IV','type']"
   ]
  },
  {
   "cell_type": "code",
   "execution_count": 35,
   "metadata": {},
   "outputs": [
    {
     "name": "stdout",
     "output_type": "stream",
     "text": [
      "         Mixed Linear Model Regression Results\n",
      "========================================================\n",
      "Model:            MixedLM Dependent Variable: DV        \n",
      "No. Observations: 262     Method:             REML      \n",
      "No. Groups:       6       Scale:              442.0281  \n",
      "Min. group size:  18      Log-Likelihood:     -1168.9491\n",
      "Max. group size:  112     Converged:          Yes       \n",
      "Mean group size:  43.7                                  \n",
      "---------------------------------------------------------\n",
      "           Coef.   Std.Err.    z    P>|z|  [0.025  0.975]\n",
      "---------------------------------------------------------\n",
      "Intercept  16.898     3.090  5.469  0.000  10.842  22.953\n",
      "IV          1.047     2.598  0.403  0.687  -4.045   6.138\n",
      "Group Var  33.667     1.293                              \n",
      "========================================================\n",
      "\n"
     ]
    }
   ],
   "source": [
    "medc=smf.mixedlm(\"DV~IV\",dataallpc,groups=dataallpc['type'])\n",
    "medfc = medc.fit(method=['powell'])\n",
    "print(medfc.summary())"
   ]
  },
  {
   "cell_type": "code",
   "execution_count": 36,
   "metadata": {},
   "outputs": [
    {
     "name": "stdout",
     "output_type": "stream",
     "text": [
      "          Mixed Linear Model Regression Results\n",
      "=========================================================\n",
      "Model:             MixedLM Dependent Variable: DV        \n",
      "No. Observations:  262     Method:             REML      \n",
      "No. Groups:        6       Scale:              429.4534  \n",
      "Min. group size:   18      Log-Likelihood:     -1166.8583\n",
      "Max. group size:   112     Converged:          Yes       \n",
      "Mean group size:   43.7                                  \n",
      "---------------------------------------------------------\n",
      "                Coef.  Std.Err.   z   P>|z| [0.025 0.975]\n",
      "---------------------------------------------------------\n",
      "Intercept       16.839    4.597 3.663 0.000  7.829 25.849\n",
      "IV               0.606    4.495 0.135 0.893 -8.203  9.416\n",
      "Group Var       99.792    4.118                          \n",
      "Group x IV Cov -76.969    3.738                          \n",
      "IV Var          67.903    3.893                          \n",
      "=========================================================\n",
      "\n"
     ]
    }
   ],
   "source": [
    "medc=smf.mixedlm(\"DV~IV\",dataallpc,groups=dataallpc['type'],re_formula=\"~IV\")\n",
    "medfc = medc.fit(method=['powell'])\n",
    "print(medfc.summary())"
   ]
  },
  {
   "cell_type": "code",
   "execution_count": 37,
   "metadata": {},
   "outputs": [],
   "source": [
    "dtwt=np.r_[dtwd1,dtwd2,dtwd6,dtwd7,dtwd8,dtwd9]\n",
    "dtwr1=np.r_[r1fa,r2fa,r6fa,r7fa,r8fa,r9fa]"
   ]
  },
  {
   "cell_type": "code",
   "execution_count": 38,
   "metadata": {},
   "outputs": [
    {
     "data": {
      "image/png": "[encoded data removed]",
      "text/plain": [
       "<Figure size 432x288 with 1 Axes>"
      ]
     },
     "metadata": {
      "needs_background": "light"
     },
     "output_type": "display_data"
    }
   ],
   "source": [
    "xxx=[None]*(len(dtwt)+len(dtwr1))\n",
    "for i in range(len(dtwt)):\n",
    "    xxx[i]=\"M-I\"\n",
    "for i in range(len(dtwt),len(dtwt)+len(dtwr1)):\n",
    "    xxx[i]=\"Psuedo\"\n",
    "compare_dtwt=np.r_[dtwt[:,0],dtwr1[:,0]]      \n",
    "ax = sns.boxplot(x=xxx, y=compare_dtwt, linewidth=1.5,whis=1.5)\n",
    "plt.xlabel('M-I True turns/Psuedo Turns', fontsize=12)\n",
    "plt.ylabel('dtw',fontsize=12)\n",
    "plt.ylim(-2,100)\n",
    "#plt.title('Vocal exchange/Non-vocal exchange')\n",
    "plt.show()"
   ]
  },
  {
   "cell_type": "code",
   "execution_count": 39,
   "metadata": {},
   "outputs": [],
   "source": [
    "dtwtc=np.r_[dtwdc1,dtwdc2,dtwdc6,dtwdc7,dtwdc8,dtwdc9]\n",
    "dtwr1c=np.r_[r1fac,r2fac,r6fac,r7fac,r8fac,r9fac]"
   ]
  },
  {
   "cell_type": "code",
   "execution_count": 40,
   "metadata": {},
   "outputs": [
    {
     "data": {
      "image/png": "[encoded data removed]",
      "text/plain": [
       "<Figure size 432x288 with 1 Axes>"
      ]
     },
     "metadata": {
      "needs_background": "light"
     },
     "output_type": "display_data"
    }
   ],
   "source": [
    "xxx=[None]*(len(dtwtc)+len(dtwr1c))\n",
    "for i in range(len(dtwtc)):\n",
    "    xxx[i]=\"I-M\"\n",
    "for i in range(len(dtwtc),len(dtwtc)+len(dtwr1c)):\n",
    "    xxx[i]=\"Psuedo\"\n",
    "compare_dtwtc=np.r_[dtwtc[:,0],dtwr1c[:,0]]\n",
    "ax = sns.boxplot(x=xxx, y=compare_dtwtc, linewidth=1.5,whis=1.5)\n",
    "plt.ylim(-2,100)\n",
    "plt.xlabel('I-M True turns/Psuedo Turns', fontsize=12)\n",
    "plt.ylabel('dtw',fontsize=12)\n",
    "#plt.title('Vocal exchange/Non-vocal exchange')\n",
    "plt.show()"
   ]
  }
 ],
 "metadata": {
  "kernelspec": {
   "display_name": "Python 3",
   "language": "python",
   "name": "python3"
  },
  "language_info": {
   "codemirror_mode": {
    "name": "ipython",
    "version": 3
   },
   "file_extension": ".py",
   "mimetype": "text/x-python",
   "name": "python",
   "nbconvert_exporter": "python",
   "pygments_lexer": "ipython3",
   "version": "3.8.5"
  }
 },
 "nbformat": 4,
 "nbformat_minor": 4
}
