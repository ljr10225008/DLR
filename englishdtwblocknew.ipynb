{
 "cells": [
  {
   "cell_type": "code",
   "execution_count": 1,
   "metadata": {},
   "outputs": [
    {
     "name": "stderr",
     "output_type": "stream",
     "text": [
      "C:\\Users\\ljr\\anaconda3\\lib\\site-packages\\pandas\\core\\computation\\expressions.py:20: UserWarning: Pandas requires version '2.7.3' or newer of 'numexpr' (version '2.7.1' currently installed).\n",
      "  from pandas.core.computation.check import NUMEXPR_INSTALLED\n"
     ]
    }
   ],
   "source": [
    "import math\n",
    "import numpy as np\n",
    "import sklearn\n",
    "from sklearn.cluster import KMeans\n",
    "import matplotlib as mpl\n",
    "import matplotlib.pyplot as plt\n",
    "import librosa\n",
    "import librosa.display\n",
    "import os\n",
    "import re\n",
    "import seaborn as sns\n",
    "import pandas as pd\n",
    "import random\n",
    "from scipy import stats  #t-test\n",
    "import semopy\n",
    "import pandas as pd\n",
    "from semopy import Model\n",
    "import scipy.stats as stats \n",
    "from itertools import groupby\n",
    "from scipy.spatial.distance import euclidean\n",
    "from fastdtw import fastdtw\n",
    "from scipy.interpolate import interp1d\n",
    "import statsmodels.formula.api as smf\n",
    "import statsmodels.api as sm"
   ]
  },
  {
   "cell_type": "code",
   "execution_count": 2,
   "metadata": {},
   "outputs": [],
   "source": [
    "plt.rc('font',family='Times New Roman')"
   ]
  },
  {
   "cell_type": "code",
   "execution_count": 3,
   "metadata": {},
   "outputs": [],
   "source": [
    "pathturn11 = r\"C:\\LJR\\babylab\\English\\cut\\high\\5134\\turntaking\\block\\fanew\\turn1\"\n",
    "filesturn11= os.listdir(pathturn11)\n",
    "pathturn12 = r\"C:\\LJR\\babylab\\English\\cut\\high\\5134\\turntaking\\block\\fanew\\turn2\"\n",
    "filesturn12= os.listdir(pathturn12)\n",
    "pathturn13 = r\"C:\\LJR\\babylab\\English\\cut\\high\\5134\\turntaking\\block\\fanew\\turn3\"\n",
    "filesturn13= os.listdir(pathturn13)\n",
    "pathturn14 = r\"C:\\LJR\\babylab\\English\\cut\\high\\5134\\turntaking\\block\\fanew\\turn4\"\n",
    "filesturn14= os.listdir(pathturn14)\n",
    "#pathturn15 = r\"C:\\LJR\\babylab\\English\\cut\\high\\5134\\turntaking\\block\\fanew\\turn5\"\n",
    "#filesturn15= os.listdir(pathturn15)\n",
    "pathturn16 = r\"C:\\LJR\\babylab\\English\\cut\\high\\5134\\turntaking\\block\\fanew\\turn6\"\n",
    "filesturn16= os.listdir(pathturn16)\n",
    "pathturn17 = r\"C:\\LJR\\babylab\\English\\cut\\high\\5134\\turntaking\\block\\fanew\\turn7\"\n",
    "filesturn17= os.listdir(pathturn17)\n",
    "pathturn18 = r\"C:\\LJR\\babylab\\English\\cut\\high\\5134\\turntaking\\block\\fanew\\turn8\"\n",
    "filesturn18= os.listdir(pathturn18)\n",
    "pathturn19 = r\"C:\\LJR\\babylab\\English\\cut\\high\\5134\\turntaking\\block\\fanew\\turn9\"\n",
    "filesturn19= os.listdir(pathturn19)\n",
    "pathturn110 = r\"C:\\LJR\\babylab\\English\\cut\\high\\5134\\turntaking\\block\\fanew\\turn10\"\n",
    "filesturn110= os.listdir(pathturn110)\n",
    "\n",
    "pathturn11c = r\"C:\\LJR\\babylab\\English\\cut\\high\\5134\\turntaking\\block\\chinew\\turn1\"\n",
    "filesturn11c= os.listdir(pathturn11c)\n",
    "pathturn12c = r\"C:\\LJR\\babylab\\English\\cut\\high\\5134\\turntaking\\block\\chinew\\turn2\"\n",
    "filesturn12c= os.listdir(pathturn12c)\n",
    "pathturn13c = r\"C:\\LJR\\babylab\\English\\cut\\high\\5134\\turntaking\\block\\chinew\\turn3\"\n",
    "filesturn13c= os.listdir(pathturn13c)\n",
    "pathturn14c = r\"C:\\LJR\\babylab\\English\\cut\\high\\5134\\turntaking\\block\\chinew\\turn4\"\n",
    "filesturn14c= os.listdir(pathturn14c)\n",
    "#pathturn15c = r\"C:\\LJR\\babylab\\English\\cut\\high\\5134\\turntaking\\block\\chinew\\turn5\"\n",
    "#filesturn15c= os.listdir(pathturn15c)\n",
    "pathturn16c = r\"C:\\LJR\\babylab\\English\\cut\\high\\5134\\turntaking\\block\\chinew\\turn6\"\n",
    "filesturn16c= os.listdir(pathturn16c)\n",
    "pathturn17c = r\"C:\\LJR\\babylab\\English\\cut\\high\\5134\\turntaking\\block\\chinew\\turn7\"\n",
    "filesturn17c= os.listdir(pathturn17c)\n",
    "pathturn18c = r\"C:\\LJR\\babylab\\English\\cut\\high\\5134\\turntaking\\block\\chinew\\turn8\"\n",
    "filesturn18c= os.listdir(pathturn18c)\n",
    "pathturn19c = r\"C:\\LJR\\babylab\\English\\cut\\high\\5134\\turntaking\\block\\chinew\\turn9\"\n",
    "filesturn19c= os.listdir(pathturn19c)\n",
    "pathturn110c = r\"C:\\LJR\\babylab\\English\\cut\\high\\5134\\turntaking\\block\\chinew\\turn10\"\n",
    "filesturn110c= os.listdir(pathturn110c)"
   ]
  },
  {
   "cell_type": "code",
   "execution_count": 4,
   "metadata": {},
   "outputs": [],
   "source": [
    "pathturn111 = r\"C:\\LJR\\babylab\\English\\cut\\high\\5134\\turntaking\\block\\fanew\\turn11\"\n",
    "filesturn111= os.listdir(pathturn111)\n",
    "pathturn112 = r\"C:\\LJR\\babylab\\English\\cut\\high\\5134\\turntaking\\block\\fanew\\turn12\"\n",
    "filesturn112= os.listdir(pathturn112)\n",
    "pathturn113 = r\"C:\\LJR\\babylab\\English\\cut\\high\\5134\\turntaking\\block\\fanew\\turn13\"\n",
    "filesturn113= os.listdir(pathturn113)\n",
    "pathturn114 = r\"C:\\LJR\\babylab\\English\\cut\\high\\5134\\turntaking\\block\\fanew\\turn14\"\n",
    "filesturn114= os.listdir(pathturn114)\n",
    "pathturn115 = r\"C:\\LJR\\babylab\\English\\cut\\high\\5134\\turntaking\\block\\fanew\\turn15\"\n",
    "filesturn115= os.listdir(pathturn115)\n",
    "pathturn116 = r\"C:\\LJR\\babylab\\English\\cut\\high\\5134\\turntaking\\block\\fanew\\turn16\"\n",
    "filesturn116= os.listdir(pathturn116)\n",
    "pathturn117 = r\"C:\\LJR\\babylab\\English\\cut\\high\\5134\\turntaking\\block\\fanew\\turn17\"\n",
    "filesturn117= os.listdir(pathturn117)\n",
    "pathturn118 = r\"C:\\LJR\\babylab\\English\\cut\\high\\5134\\turntaking\\block\\fanew\\turn18\"\n",
    "filesturn118= os.listdir(pathturn118)\n",
    "pathturn119 = r\"C:\\LJR\\babylab\\English\\cut\\high\\5134\\turntaking\\block\\fanew\\turn19\"\n",
    "filesturn119= os.listdir(pathturn119)\n",
    "pathturn120 = r\"C:\\LJR\\babylab\\English\\cut\\high\\5134\\turntaking\\block\\fanew\\turn20\"\n",
    "filesturn120= os.listdir(pathturn120)\n",
    "pathturn121 = r\"C:\\LJR\\babylab\\English\\cut\\high\\5134\\turntaking\\block\\fanew\\turn21\"\n",
    "filesturn121= os.listdir(pathturn121)\n",
    "pathturn122 = r\"C:\\LJR\\babylab\\English\\cut\\high\\5134\\turntaking\\block\\fanew\\turn22\"\n",
    "filesturn122= os.listdir(pathturn122)\n",
    "pathturn123 = r\"C:\\LJR\\babylab\\English\\cut\\high\\5134\\turntaking\\block\\fanew\\turn23\"\n",
    "filesturn123= os.listdir(pathturn123)\n",
    "pathturn124 = r\"C:\\LJR\\babylab\\English\\cut\\high\\5134\\turntaking\\block\\fanew\\turn24\"\n",
    "filesturn124= os.listdir(pathturn124)\n",
    "\n",
    "\n",
    "pathturn111c = r\"C:\\LJR\\babylab\\English\\cut\\high\\5134\\turntaking\\block\\chinew\\turn11\"\n",
    "filesturn111c= os.listdir(pathturn111c)\n",
    "pathturn112c = r\"C:\\LJR\\babylab\\English\\cut\\high\\5134\\turntaking\\block\\chinew\\turn12\"\n",
    "filesturn112c= os.listdir(pathturn112c)\n",
    "pathturn113c = r\"C:\\LJR\\babylab\\English\\cut\\high\\5134\\turntaking\\block\\chinew\\turn13\"\n",
    "filesturn113c= os.listdir(pathturn113c)\n",
    "pathturn114c = r\"C:\\LJR\\babylab\\English\\cut\\high\\5134\\turntaking\\block\\chinew\\turn14\"\n",
    "filesturn114c= os.listdir(pathturn114c)\n",
    "pathturn115c = r\"C:\\LJR\\babylab\\English\\cut\\high\\5134\\turntaking\\block\\chinew\\turn15\"\n",
    "filesturn115c= os.listdir(pathturn115c)\n",
    "pathturn116c = r\"C:\\LJR\\babylab\\English\\cut\\high\\5134\\turntaking\\block\\chinew\\turn16\"\n",
    "filesturn116c= os.listdir(pathturn116c)\n",
    "pathturn117c = r\"C:\\LJR\\babylab\\English\\cut\\high\\5134\\turntaking\\block\\chinew\\turn17\"\n",
    "filesturn117c= os.listdir(pathturn117c)\n",
    "pathturn118c = r\"C:\\LJR\\babylab\\English\\cut\\high\\5134\\turntaking\\block\\chinew\\turn18\"\n",
    "filesturn118c= os.listdir(pathturn118c)\n",
    "pathturn119c = r\"C:\\LJR\\babylab\\English\\cut\\high\\5134\\turntaking\\block\\chinew\\turn19\"\n",
    "filesturn119c= os.listdir(pathturn119c)\n",
    "pathturn120c = r\"C:\\LJR\\babylab\\English\\cut\\high\\5134\\turntaking\\block\\chinew\\turn20\"\n",
    "filesturn120c= os.listdir(pathturn120c)\n",
    "pathturn121c = r\"C:\\LJR\\babylab\\English\\cut\\high\\5134\\turntaking\\block\\chinew\\turn21\"\n",
    "filesturn121c= os.listdir(pathturn121c)\n",
    "pathturn122c = r\"C:\\LJR\\babylab\\English\\cut\\high\\5134\\turntaking\\block\\chinew\\turn22\"\n",
    "filesturn122c= os.listdir(pathturn122c)\n",
    "pathturn123c = r\"C:\\LJR\\babylab\\English\\cut\\high\\5134\\turntaking\\block\\chinew\\turn23\"\n",
    "filesturn123c= os.listdir(pathturn123c)\n",
    "pathturn124c = r\"C:\\LJR\\babylab\\English\\cut\\high\\5134\\turntaking\\block\\chinew\\turn24\"\n",
    "filesturn124c= os.listdir(pathturn124c)"
   ]
  },
  {
   "cell_type": "code",
   "execution_count": 5,
   "metadata": {},
   "outputs": [],
   "source": [
    "pathturn21 = r\"C:\\LJR\\babylab\\English\\cut\\high\\6045\\turntaking\\block\\fanew\\turn1\"\n",
    "filesturn21= os.listdir(pathturn21)\n",
    "pathturn22 = r\"C:\\LJR\\babylab\\English\\cut\\high\\6045\\turntaking\\block\\fanew\\turn2\"\n",
    "filesturn22= os.listdir(pathturn22)\n",
    "pathturn23 = r\"C:\\LJR\\babylab\\English\\cut\\high\\6045\\turntaking\\block\\fanew\\turn3\"\n",
    "filesturn23= os.listdir(pathturn23)\n",
    "pathturn24 = r\"C:\\LJR\\babylab\\English\\cut\\high\\6045\\turntaking\\block\\fanew\\turn4\"\n",
    "filesturn24= os.listdir(pathturn24)\n",
    "pathturn25 = r\"C:\\LJR\\babylab\\English\\cut\\high\\6045\\turntaking\\block\\fanew\\turn5\"\n",
    "filesturn25= os.listdir(pathturn25)\n",
    "\n",
    "pathturn21c = r\"C:\\LJR\\babylab\\English\\cut\\high\\6045\\turntaking\\block\\chinew\\turn1\"\n",
    "filesturn21c= os.listdir(pathturn21c)\n",
    "pathturn22c = r\"C:\\LJR\\babylab\\English\\cut\\high\\6045\\turntaking\\block\\chinew\\turn2\"\n",
    "filesturn22c= os.listdir(pathturn22c)\n",
    "pathturn23c = r\"C:\\LJR\\babylab\\English\\cut\\high\\6045\\turntaking\\block\\chinew\\turn3\"\n",
    "filesturn23c= os.listdir(pathturn23c)\n",
    "pathturn24c = r\"C:\\LJR\\babylab\\English\\cut\\high\\6045\\turntaking\\block\\chinew\\turn4\"\n",
    "filesturn24c= os.listdir(pathturn24c)\n",
    "pathturn25c = r\"C:\\LJR\\babylab\\English\\cut\\high\\6045\\turntaking\\block\\chinew\\turn5\"\n",
    "filesturn25c= os.listdir(pathturn25c)"
   ]
  },
  {
   "cell_type": "code",
   "execution_count": 6,
   "metadata": {},
   "outputs": [],
   "source": [
    "pathturn31 = r\"C:\\LJR\\babylab\\English\\cut\\high\\8496\\turntaking\\block\\fanew\\turn1\"\n",
    "filesturn31= os.listdir(pathturn31)\n",
    "pathturn32 = r\"C:\\LJR\\babylab\\English\\cut\\high\\8496\\turntaking\\block\\fanew\\turn2\"\n",
    "filesturn32= os.listdir(pathturn32)\n",
    "\n",
    "pathturn31c = r\"C:\\LJR\\babylab\\English\\cut\\high\\8496\\turntaking\\block\\chinew\\turn1\"\n",
    "filesturn31c= os.listdir(pathturn31c)\n",
    "pathturn32c = r\"C:\\LJR\\babylab\\English\\cut\\high\\8496\\turntaking\\block\\chinew\\turn2\"\n",
    "filesturn32c= os.listdir(pathturn32c)"
   ]
  },
  {
   "cell_type": "code",
   "execution_count": 7,
   "metadata": {},
   "outputs": [],
   "source": [
    "pathturn41 = r\"C:\\LJR\\babylab\\English\\cut\\high\\8560\\turntaking\\block\\fanew\\turn1\"\n",
    "filesturn41= os.listdir(pathturn41)\n",
    "pathturn42 = r\"C:\\LJR\\babylab\\English\\cut\\high\\8560\\turntaking\\block\\fanew\\turn2\"\n",
    "filesturn42= os.listdir(pathturn42)\n",
    "pathturn43 = r\"C:\\LJR\\babylab\\English\\cut\\high\\8560\\turntaking\\block\\fanew\\turn3\"\n",
    "filesturn43= os.listdir(pathturn43)\n",
    "pathturn44 = r\"C:\\LJR\\babylab\\English\\cut\\high\\8560\\turntaking\\block\\fanew\\turn4\"\n",
    "filesturn44= os.listdir(pathturn44)\n",
    "pathturn45 = r\"C:\\LJR\\babylab\\English\\cut\\high\\8560\\turntaking\\block\\fanew\\turn5\"\n",
    "filesturn45= os.listdir(pathturn45)\n",
    "pathturn46 = r\"C:\\LJR\\babylab\\English\\cut\\high\\8560\\turntaking\\block\\fanew\\turn6\"\n",
    "filesturn46= os.listdir(pathturn46)\n",
    "pathturn47 = r\"C:\\LJR\\babylab\\English\\cut\\high\\8560\\turntaking\\block\\fanew\\turn7\"\n",
    "filesturn47= os.listdir(pathturn47)\n",
    "pathturn48 = r\"C:\\LJR\\babylab\\English\\cut\\high\\8560\\turntaking\\block\\fanew\\turn8\"\n",
    "filesturn48= os.listdir(pathturn48)\n",
    "\n",
    "pathturn41c = r\"C:\\LJR\\babylab\\English\\cut\\high\\8560\\turntaking\\block\\chinew\\turn1\"\n",
    "filesturn41c= os.listdir(pathturn41c)\n",
    "pathturn42c = r\"C:\\LJR\\babylab\\English\\cut\\high\\8560\\turntaking\\block\\chinew\\turn2\"\n",
    "filesturn42c= os.listdir(pathturn42c)\n",
    "pathturn43c = r\"C:\\LJR\\babylab\\English\\cut\\high\\8560\\turntaking\\block\\chinew\\turn3\"\n",
    "filesturn43c= os.listdir(pathturn43c)\n",
    "pathturn44c = r\"C:\\LJR\\babylab\\English\\cut\\high\\8560\\turntaking\\block\\chinew\\turn4\"\n",
    "filesturn44c= os.listdir(pathturn44c)\n",
    "pathturn45c = r\"C:\\LJR\\babylab\\English\\cut\\high\\8560\\turntaking\\block\\chinew\\turn5\"\n",
    "filesturn45c= os.listdir(pathturn45c)\n",
    "pathturn46c = r\"C:\\LJR\\babylab\\English\\cut\\high\\8560\\turntaking\\block\\chinew\\turn6\"\n",
    "filesturn46c= os.listdir(pathturn46c)\n",
    "pathturn47c = r\"C:\\LJR\\babylab\\English\\cut\\high\\8560\\turntaking\\block\\chinew\\turn7\"\n",
    "filesturn47c= os.listdir(pathturn47c)\n",
    "pathturn48c = r\"C:\\LJR\\babylab\\English\\cut\\high\\8560\\turntaking\\block\\chinew\\turn8\"\n",
    "filesturn48c= os.listdir(pathturn48c)"
   ]
  },
  {
   "cell_type": "code",
   "execution_count": 8,
   "metadata": {},
   "outputs": [],
   "source": [
    "pathturn51 = r\"C:\\LJR\\babylab\\English\\cut\\high\\9106\\turntaking\\block\\fanew\\turn1\"\n",
    "filesturn51= os.listdir(pathturn51)\n",
    "pathturn52 = r\"C:\\LJR\\babylab\\English\\cut\\high\\9106\\turntaking\\block\\fanew\\turn2\"\n",
    "filesturn52= os.listdir(pathturn52)\n",
    "pathturn53 = r\"C:\\LJR\\babylab\\English\\cut\\high\\9106\\turntaking\\block\\fanew\\turn3\"\n",
    "filesturn53= os.listdir(pathturn53)\n",
    "\n",
    "pathturn51c = r\"C:\\LJR\\babylab\\English\\cut\\high\\9106\\turntaking\\block\\chinew\\turn1\"\n",
    "filesturn51c= os.listdir(pathturn51c)\n",
    "pathturn52c = r\"C:\\LJR\\babylab\\English\\cut\\high\\9106\\turntaking\\block\\chinew\\turn2\"\n",
    "filesturn52c= os.listdir(pathturn52c)\n",
    "pathturn53c = r\"C:\\LJR\\babylab\\English\\cut\\high\\9106\\turntaking\\block\\chinew\\turn3\"\n",
    "filesturn53c= os.listdir(pathturn53c)"
   ]
  },
  {
   "cell_type": "code",
   "execution_count": 9,
   "metadata": {},
   "outputs": [],
   "source": [
    "pathturn61 = r\"C:\\LJR\\babylab\\English\\cut\\high\\9733\\turntaking\\block\\fanew\\turn1\"\n",
    "filesturn61= os.listdir(pathturn61)\n",
    "pathturn62 = r\"C:\\LJR\\babylab\\English\\cut\\high\\9733\\turntaking\\block\\fanew\\turn2\"\n",
    "filesturn62= os.listdir(pathturn62)\n",
    "pathturn63 = r\"C:\\LJR\\babylab\\English\\cut\\high\\9733\\turntaking\\block\\fanew\\turn3\"\n",
    "filesturn63= os.listdir(pathturn63)\n",
    "pathturn64 = r\"C:\\LJR\\babylab\\English\\cut\\high\\9733\\turntaking\\block\\fanew\\turn4\"\n",
    "filesturn64= os.listdir(pathturn64)\n",
    "pathturn65 = r\"C:\\LJR\\babylab\\English\\cut\\high\\9733\\turntaking\\block\\fanew\\turn5\"\n",
    "filesturn65= os.listdir(pathturn65)\n",
    "\n",
    "pathturn61c = r\"C:\\LJR\\babylab\\English\\cut\\high\\9733\\turntaking\\block\\chinew\\turn1\"\n",
    "filesturn61c= os.listdir(pathturn61c)\n",
    "pathturn62c = r\"C:\\LJR\\babylab\\English\\cut\\high\\9733\\turntaking\\block\\chinew\\turn2\"\n",
    "filesturn62c= os.listdir(pathturn62c)\n",
    "pathturn63c = r\"C:\\LJR\\babylab\\English\\cut\\high\\9733\\turntaking\\block\\chinew\\turn3\"\n",
    "filesturn63c= os.listdir(pathturn63c)\n",
    "pathturn64c = r\"C:\\LJR\\babylab\\English\\cut\\high\\9733\\turntaking\\block\\chinew\\turn4\"\n",
    "filesturn64c= os.listdir(pathturn64c)\n",
    "pathturn65c = r\"C:\\LJR\\babylab\\English\\cut\\high\\9733\\turntaking\\block\\chinew\\turn5\"\n",
    "filesturn65c= os.listdir(pathturn65c)"
   ]
  },
  {
   "cell_type": "code",
   "execution_count": 10,
   "metadata": {},
   "outputs": [],
   "source": [
    "def normalize(x, axis=0):\n",
    "    return sklearn.preprocessing.minmax_scale(x, axis=axis)"
   ]
  },
  {
   "cell_type": "code",
   "execution_count": 11,
   "metadata": {},
   "outputs": [],
   "source": [
    "def normalizea(x, maxa,mina,axis=0):\n",
    "    return [(float(i)-mina)/float(maxa-mina) for i in x]"
   ]
  },
  {
   "cell_type": "code",
   "execution_count": 12,
   "metadata": {},
   "outputs": [],
   "source": [
    "def normalizei(x, maxi,mini,axis=0):\n",
    "    return [(float(i)-mini)/float(maxi-mini) for i in x]"
   ]
  },
  {
   "cell_type": "code",
   "execution_count": 13,
   "metadata": {},
   "outputs": [],
   "source": [
    "def f0fitintera(path,files,maxa,mina):\n",
    "    t1=[]\n",
    "    for i in range(len(files)):\n",
    "        x,sr1=librosa.load(path+\"\\\\\"+files[i],sr=None)\n",
    "        f0, voiced_flag, voiced_probs = librosa.pyin(x,sr=sr1,frame_length=512, fill_na=np.nan, n_thresholds=50, fmin=120, fmax=600)\n",
    "        times = librosa.times_like(f0,sr=sr1,hop_length=128)\n",
    "        duration=librosa.get_duration(y=x, sr=sr1)\n",
    "        logf0nomal=normalizea(f0,maxa,mina)\n",
    "        timesp=pd.DataFrame(times)\n",
    "        logf0nomalp=pd.DataFrame(logf0nomal)\n",
    "        indxnan = logf0nomalp.fillna(method='ffill').dropna().index\n",
    "        res_idx = logf0nomalp.loc[indxnan].fillna(method='bfill').dropna().index\n",
    "        f0out=logf0nomalp.loc[res_idx]\n",
    "        timesout = timesp.loc[res_idx]\n",
    "        timesout=timesout-timesout.min()\n",
    "        timesnumpy=timesout.to_numpy()\n",
    "        f0outnumpy=f0out.to_numpy()\n",
    "        logf0nomalnan = f0outnumpy[~np.isnan(f0outnumpy)]\n",
    "        timesnan = timesnumpy[~np.isnan(f0outnumpy)]\n",
    "        f = interp1d(timesnan, logf0nomalnan,kind='slinear',fill_value=\"extrapolate\")\n",
    "        ynew=f(timesnumpy)\n",
    "        starttime=re.search(\"(\\d+\\.\\d+)\",files[i]).group(0)\n",
    "        label=0\n",
    "        t=(starttime,ynew,label)\n",
    "        t1.append(t)\n",
    "    return t1"
   ]
  },
  {
   "cell_type": "code",
   "execution_count": 14,
   "metadata": {},
   "outputs": [],
   "source": [
    "def f0fitinteri(path,files,maxi,mini):\n",
    "    t1=[]\n",
    "    for i in range(len(files)):\n",
    "        x,sr1=librosa.load(path+\"\\\\\"+files[i],sr=None)\n",
    "        f0, voiced_flag, voiced_probs = librosa.pyin(x,sr=sr1,frame_length=512, fill_na=np.nan, n_thresholds=50, fmin=120, fmax=1000)\n",
    "        times = librosa.times_like(f0,sr=sr1,hop_length=128)\n",
    "        duration=librosa.get_duration(y=x, sr=sr1)\n",
    "        logf0nomal=normalizei(f0,maxi,mini)\n",
    "        timesp=pd.DataFrame(times)\n",
    "        logf0nomalp=pd.DataFrame(logf0nomal)\n",
    "        indxnan = logf0nomalp.fillna(method='ffill').dropna().index\n",
    "        res_idx = logf0nomalp.loc[indxnan].fillna(method='bfill').dropna().index\n",
    "        f0out=logf0nomalp.loc[res_idx]\n",
    "        timesout = timesp.loc[res_idx]\n",
    "        timesout=timesout-timesout.min()\n",
    "        timesnumpy=timesout.to_numpy()\n",
    "        f0outnumpy=f0out.to_numpy()\n",
    "        logf0nomalnan = f0outnumpy[~np.isnan(f0outnumpy)]\n",
    "        timesnan = timesnumpy[~np.isnan(f0outnumpy)]\n",
    "        f = interp1d(timesnan, logf0nomalnan,kind='slinear',fill_value=\"extrapolate\")\n",
    "        ynew=f(timesnumpy)\n",
    "        starttime=re.search(\"(\\d+\\.\\d+)\",files[i]).group(0)\n",
    "        label=1\n",
    "        t=(starttime,ynew,label)\n",
    "        t1.append(t)\n",
    "    return t1"
   ]
  },
  {
   "cell_type": "code",
   "execution_count": 15,
   "metadata": {},
   "outputs": [],
   "source": [
    "def diffc(pathturn,filesturn,pathturnc,filesturnc,maxa,mina,maxi,mini):\n",
    "    t=f0fitintera(pathturn,filesturn,maxa,mina)\n",
    "    tc=f0fitinteri(pathturnc,filesturnc,maxi,mini)\n",
    "    alltest=t+tc\n",
    "    alltest.sort(key = lambda x: x[0])\n",
    "    #print(alltest)\n",
    "    labelss=np.zeros((len(alltest),1))\n",
    "    for i in range(len(alltest)):\n",
    "        labelss[i]=alltest[i][2]\n",
    "    \n",
    "    groupsdtw = [(k1, sum(1 for _ in g1)) for k1, g1 in groupby(labelss)]\n",
    "    groupndtw=np.zeros((len(groupsdtw),1))\n",
    "    for i in range(len(groupsdtw)):\n",
    "        groupndtw[i]=groupsdtw[i][1]\n",
    "    inddtw=np.zeros((len(groupndtw),2))\n",
    "    for i in range(len(groupndtw)):\n",
    "        if i!=len(groupndtw):\n",
    "            inddtw[i,:]=np.c_[sum(groupndtw[0:i]),sum(groupndtw[0:i+1])]\n",
    "    diff=np.zeros((len(inddtw)-1,1))\n",
    "    for i in range(len(inddtw)-1):\n",
    "        ynewff=alltest[int(inddtw[i,0]):int(inddtw[i,1])]\n",
    "        ynewss=alltest[int(inddtw[i+1,0]):int(inddtw[i+1,1])]\n",
    "        dtwjjc=0\n",
    "        jj=0\n",
    "        for j1 in range(len(ynewff)):\n",
    "            for j2 in range(len(ynewss)):\n",
    "                dtwjj,path = fastdtw(ynewff[j1][1],ynewss[j2][1],dist=euclidean)\n",
    "                dtwjjc=dtwjjc+dtwjj\n",
    "                jj=jj+1\n",
    "        diff[i]=dtwjjc/jj\n",
    "        \n",
    "    xlabel=(np.arange(len(diff))+1)\n",
    "    return diff,xlabel"
   ]
  },
  {
   "cell_type": "code",
   "execution_count": 16,
   "metadata": {},
   "outputs": [],
   "source": [
    "diffc11,xlabel11=diffc(pathturn11,filesturn11,pathturn11c,filesturn11c,597.82,120,999.61,120)\n",
    "diffc12,xlabel12=diffc(pathturn12,filesturn12,pathturn12c,filesturn12c,597.82,120,999.61,120)\n",
    "diffc13,xlabel13=diffc(pathturn13,filesturn13,pathturn13c,filesturn13c,597.82,120,999.61,120)\n",
    "diffc14,xlabel14=diffc(pathturn14,filesturn14,pathturn14c,filesturn14c,597.82,120,999.61,120)\n",
    "#diffc15,xlabel15=diffc(pathturn15,filesturn15,pathturn15c,filesturn15c,597.82,120,999.61,120)\n",
    "diffc16,xlabel16=diffc(pathturn16,filesturn16,pathturn16c,filesturn16c,597.82,120,999.61,120)\n",
    "diffc17,xlabel17=diffc(pathturn17,filesturn17,pathturn17c,filesturn17c,597.82,120,999.61,120)\n",
    "diffc18,xlabel18=diffc(pathturn18,filesturn18,pathturn18c,filesturn18c,597.82,120,999.61,120)\n",
    "diffc19,xlabel19=diffc(pathturn19,filesturn19,pathturn19c,filesturn19c,597.82,120,999.61,120)\n",
    "diffc110,xlabel110=diffc(pathturn110,filesturn110,pathturn110c,filesturn110c,597.82,120,999.61,120)\n",
    "diffc111,xlabel111=diffc(pathturn111,filesturn111,pathturn111c,filesturn111c,597.82,120,999.61,120)\n",
    "diffc112,xlabel112=diffc(pathturn112,filesturn112,pathturn112c,filesturn112c,597.82,120,999.61,120)\n",
    "diffc113,xlabel113=diffc(pathturn113,filesturn113,pathturn113c,filesturn113c,597.82,120,999.61,120)\n",
    "diffc114,xlabel114=diffc(pathturn114,filesturn114,pathturn114c,filesturn114c,597.82,120,999.61,120)\n",
    "diffc115,xlabel115=diffc(pathturn115,filesturn115,pathturn115c,filesturn115c,597.82,120,999.61,120)\n",
    "diffc116,xlabel116=diffc(pathturn116,filesturn116,pathturn116c,filesturn116c,597.82,120,999.61,120)\n",
    "diffc117,xlabel117=diffc(pathturn117,filesturn117,pathturn117c,filesturn117c,597.82,120,999.61,120)\n",
    "diffc118,xlabel118=diffc(pathturn118,filesturn118,pathturn118c,filesturn118c,597.82,120,999.61,120)\n",
    "diffc119,xlabel119=diffc(pathturn119,filesturn119,pathturn119c,filesturn119c,597.82,120,999.61,120)\n",
    "diffc120,xlabel120=diffc(pathturn120,filesturn120,pathturn120c,filesturn120c,597.82,120,999.61,120)\n",
    "diffc121,xlabel121=diffc(pathturn121,filesturn121,pathturn121c,filesturn121c,597.82,120,999.61,120)\n",
    "diffc122,xlabel122=diffc(pathturn122,filesturn122,pathturn122c,filesturn122c,597.82,120,999.61,120)\n",
    "diffc123,xlabel123=diffc(pathturn123,filesturn123,pathturn123c,filesturn123c,597.82,120,999.61,120)\n",
    "diffc124,xlabel124=diffc(pathturn124,filesturn124,pathturn124c,filesturn124c,597.82,120,999.61,120)"
   ]
  },
  {
   "cell_type": "code",
   "execution_count": 65,
   "metadata": {},
   "outputs": [],
   "source": [
    "diffct11=np.r_[diffc11,diffc12,diffc13,diffc14,diffc16,diffc17,diffc18,diffc19,diffc110]\n",
    "#diffct12=np.r_[diffc111,diffc112,diffc113,diffc114,diffc115,diffc116,diffc117,diffc118,diffc119,diffc120,diffc121,diffc122,diffc123,diffc124]\n",
    "diffct12=np.r_[diffc111,diffc112,diffc113,diffc114,diffc115,diffc116,diffc117,diffc118,diffc119,diffc120,diffc122,diffc123,diffc124]\n",
    "diffc1=np.r_[diffct11,diffct12]\n",
    "xlabelt11=np.r_[xlabel11,xlabel12,xlabel13,xlabel14,xlabel16,xlabel17,xlabel18,xlabel19,xlabel110]\n",
    "#xlabelt12=np.r_[xlabel111,xlabel112,xlabel113,xlabel114,xlabel115,xlabel116,xlabel117,xlabel118,xlabel119,xlabel120,xlabel121,xlabel122,xlabel123,xlabel124]\n",
    "xlabelt12=np.r_[xlabel111,xlabel112,xlabel113,xlabel114,xlabel115,xlabel116,xlabel117,xlabel118,xlabel119,xlabel120,xlabel122,xlabel123,xlabel124]\n",
    "xlabel1=np.r_[xlabelt11,xlabelt12]"
   ]
  },
  {
   "cell_type": "code",
   "execution_count": 66,
   "metadata": {},
   "outputs": [
    {
     "name": "stdout",
     "output_type": "stream",
     "text": [
      "[ 1  2  3  4  5  6  7  8  9 10 11 12 13 14 15 16]\n"
     ]
    }
   ],
   "source": [
    "print(xlabel115)"
   ]
  },
  {
   "cell_type": "code",
   "execution_count": 18,
   "metadata": {},
   "outputs": [],
   "source": [
    "diffc21,xlabel21=diffc(pathturn21,filesturn21,pathturn21c,filesturn21c,597.82,120,999.61,120)\n",
    "diffc22,xlabel22=diffc(pathturn22,filesturn22,pathturn22c,filesturn22c,597.82,120,999.61,120)\n",
    "diffc23,xlabel23=diffc(pathturn23,filesturn23,pathturn23c,filesturn23c,597.82,120,999.61,120)\n",
    "diffc24,xlabel24=diffc(pathturn24,filesturn24,pathturn24c,filesturn24c,597.82,120,999.61,120)\n",
    "diffc25,xlabel25=diffc(pathturn25,filesturn25,pathturn25c,filesturn25c,597.82,120,999.61,120)"
   ]
  },
  {
   "cell_type": "code",
   "execution_count": 19,
   "metadata": {},
   "outputs": [],
   "source": [
    "diffc2=np.r_[diffc21,diffc22,diffc23,diffc24,diffc25]\n",
    "xlabel2=np.r_[xlabel21,xlabel22,xlabel23,xlabel24,xlabel25]"
   ]
  },
  {
   "cell_type": "code",
   "execution_count": 20,
   "metadata": {},
   "outputs": [],
   "source": [
    "diffc31,xlabel31=diffc(pathturn31,filesturn31,pathturn31c,filesturn31c,594.37,120,999.61,120)\n",
    "diffc32,xlabel32=diffc(pathturn32,filesturn32,pathturn32c,filesturn32c,594.37,120,999.61,120)"
   ]
  },
  {
   "cell_type": "code",
   "execution_count": 21,
   "metadata": {},
   "outputs": [],
   "source": [
    "diffc3=np.r_[diffc31,diffc32]\n",
    "xlabel3=np.r_[xlabel31,xlabel32]"
   ]
  },
  {
   "cell_type": "code",
   "execution_count": 22,
   "metadata": {},
   "outputs": [],
   "source": [
    "diffc41,xlabel41=diffc(pathturn41,filesturn41,pathturn41c,filesturn41c,597.82,120,999.61,120)\n",
    "diffc42,xlabel42=diffc(pathturn42,filesturn42,pathturn42c,filesturn42c,597.82,120,999.61,120)\n",
    "diffc43,xlabel43=diffc(pathturn43,filesturn43,pathturn43c,filesturn43c,597.82,120,999.61,120)\n",
    "diffc44,xlabel44=diffc(pathturn44,filesturn44,pathturn44c,filesturn44c,597.82,120,999.61,120)\n",
    "diffc45,xlabel45=diffc(pathturn45,filesturn45,pathturn45c,filesturn45c,597.82,120,999.61,120)\n",
    "diffc46,xlabel46=diffc(pathturn46,filesturn46,pathturn46c,filesturn46c,597.82,120,999.61,120)\n",
    "diffc47,xlabel47=diffc(pathturn47,filesturn47,pathturn47c,filesturn47c,597.82,120,999.61,120)\n",
    "diffc48,xlabel48=diffc(pathturn48,filesturn48,pathturn48c,filesturn48c,597.82,120,999.61,120)"
   ]
  },
  {
   "cell_type": "code",
   "execution_count": 23,
   "metadata": {},
   "outputs": [],
   "source": [
    "diffc4=np.r_[diffc41,diffc42,diffc43,diffc44,diffc45,diffc46,diffc47,diffc48]\n",
    "xlabel4=np.r_[xlabel41,xlabel42,xlabel43,xlabel44,xlabel45,xlabel46,xlabel47,xlabel48]"
   ]
  },
  {
   "cell_type": "code",
   "execution_count": 24,
   "metadata": {},
   "outputs": [],
   "source": [
    "diffc51,xlabel51=diffc(pathturn51,filesturn51,pathturn51c,filesturn51c,597.82,120,927.30,127.14)\n",
    "diffc52,xlabel52=diffc(pathturn52,filesturn52,pathturn52c,filesturn52c,597.82,120,927.30,127.14)\n",
    "diffc53,xlabel53=diffc(pathturn53,filesturn53,pathturn53c,filesturn53c,597.82,120,927.30,127.14)"
   ]
  },
  {
   "cell_type": "code",
   "execution_count": 25,
   "metadata": {},
   "outputs": [],
   "source": [
    "diffc5=np.r_[diffc51,diffc52,diffc53]\n",
    "xlabel5=np.r_[xlabel51,xlabel52,xlabel53]"
   ]
  },
  {
   "cell_type": "code",
   "execution_count": 26,
   "metadata": {},
   "outputs": [],
   "source": [
    "diffc61,xlabel61=diffc(pathturn61,filesturn61,pathturn61c,filesturn61c,590.95,122,999.61,120)\n",
    "diffc62,xlabel62=diffc(pathturn62,filesturn62,pathturn62c,filesturn62c,590.95,122,999.61,120)\n",
    "diffc63,xlabel63=diffc(pathturn63,filesturn63,pathturn63c,filesturn63c,590.95,122,999.61,120)\n",
    "diffc64,xlabel64=diffc(pathturn64,filesturn64,pathturn64c,filesturn64c,590.95,122,999.61,120)\n",
    "diffc65,xlabel65=diffc(pathturn65,filesturn65,pathturn65c,filesturn65c,590.95,122,999.61,120)"
   ]
  },
  {
   "cell_type": "code",
   "execution_count": 27,
   "metadata": {},
   "outputs": [],
   "source": [
    "diffc6=np.r_[diffc61,diffc62,diffc63,diffc64,diffc65]\n",
    "xlabel6=np.r_[xlabel61,xlabel62,xlabel63,xlabel64,xlabel65]"
   ]
  },
  {
   "cell_type": "code",
   "execution_count": 28,
   "metadata": {},
   "outputs": [],
   "source": [
    "diff=np.r_[-diffc1,-diffc2,-diffc3,-diffc4,-diffc5,-diffc6]\n",
    "xlabel=np.r_[xlabel1,xlabel2,xlabel3,xlabel4,xlabel5,xlabel6]"
   ]
  },
  {
   "cell_type": "code",
   "execution_count": 29,
   "metadata": {},
   "outputs": [],
   "source": [
    "def ind(datain,labelin,ind):\n",
    "    inds=np.zeros(len(datain))+ind\n",
    "    dataout=np.c_[datain,labelin,inds]\n",
    "    return dataout"
   ]
  },
  {
   "cell_type": "code",
   "execution_count": 67,
   "metadata": {},
   "outputs": [],
   "source": [
    "dataall=np.r_[ind(-diffc1,xlabel1,1),ind(-diffc2,xlabel2,2),ind(-diffc3,xlabel3,3),ind(-diffc4,xlabel4,4),ind(-diffc5,xlabel5,5),ind(-diffc6,xlabel6,6)]"
   ]
  },
  {
   "cell_type": "code",
   "execution_count": 68,
   "metadata": {},
   "outputs": [],
   "source": [
    "def remove16(datain):\n",
    "    labelstart=np.where(datain[:,1]==1)[0]\n",
    "    labelend=np.zeros((len(labelstart)))\n",
    "    labelend[:len(labelstart)-1]=labelstart[1:len(labelstart)]-1\n",
    "    labelend[-1]=len(datain[:,1])-1\n",
    "    print(labelend)\n",
    "    endindex=datain[labelend.astype(int),1]\n",
    "    print(endindex)\n",
    "    startr=labelstart[np.where(endindex.astype(int)==16)[0]].astype(int)\n",
    "    print(startr)\n",
    "    endr=labelend[np.where(endindex.astype(int)==16)[0]].astype(int)\n",
    "    print(endr)\n",
    "    dataformer=datain[:startr[0]]\n",
    "    datalatter=datain[endr[0]+1:]\n",
    "    dataout=np.r_[dataformer,datalatter]\n",
    "    #print(len(datain),len(dataout),dataout[:,1])\n",
    "    return dataout"
   ]
  },
  {
   "cell_type": "code",
   "execution_count": 69,
   "metadata": {},
   "outputs": [],
   "source": [
    "def startend(datain):\n",
    "    labelstart=np.where(datain[:,1]==1)[0]\n",
    "    labelend=np.zeros((len(labelstart)))\n",
    "    labelend[:len(labelstart)-1]=labelstart[1:len(labelstart)]-1\n",
    "    labelend[-1]=len(datain[:,1])-1\n",
    "    return labelstart,labelend.astype(int)"
   ]
  },
  {
   "cell_type": "code",
   "execution_count": 72,
   "metadata": {},
   "outputs": [
    {
     "name": "stdout",
     "output_type": "stream",
     "text": [
      "[  1.   3.   6.   9.  13.  15.  17.  21.  28.  30.  34.  42.  44.  60.\n",
      "  66.  68.  71.  80.  91. 103. 105. 107. 109. 112. 115. 120. 122. 131.\n",
      " 133. 139. 142. 150. 152. 164. 170. 175. 177. 179. 184. 188. 194. 198.\n",
      " 200. 203. 205.]\n",
      "[ 2.  2.  3.  3.  4.  2.  2.  4.  7.  2.  4.  8.  2. 16.  6.  2.  3.  9.\n",
      " 11. 12.  2.  2.  2.  3.  3.  5.  2.  9.  2.  6.  3.  8.  2. 12.  6.  5.\n",
      "  2.  2.  5.  4.  6.  4.  2.  3.  2.]\n",
      "[45]\n",
      "[60]\n"
     ]
    }
   ],
   "source": [
    "dataallre=remove16(dataall)"
   ]
  },
  {
   "cell_type": "code",
   "execution_count": 73,
   "metadata": {},
   "outputs": [],
   "source": [
    "dataallpre=pd.DataFrame(dataallre)\n",
    "dataallpre.columns=['DV','IV','type']"
   ]
  },
  {
   "cell_type": "code",
   "execution_count": 74,
   "metadata": {},
   "outputs": [],
   "source": [
    "dataallp=pd.DataFrame(dataall)\n",
    "dataallp.columns=['DV','IV','type']"
   ]
  },
  {
   "cell_type": "code",
   "execution_count": null,
   "metadata": {},
   "outputs": [],
   "source": [
    "#dataallp.to_csv(r'C:\\LJR\\babylab\\marisa\\datamanual\\cut\\blockdata\\Englishblock12dtw.csv')"
   ]
  },
  {
   "cell_type": "code",
   "execution_count": 75,
   "metadata": {},
   "outputs": [
    {
     "data": {
      "text/plain": [
       "<matplotlib.collections.PathCollection at 0x2a06d0799a0>"
      ]
     },
     "execution_count": 75,
     "metadata": {},
     "output_type": "execute_result"
    },
    {
     "data": {
      "image/png": "[encoded data removed]",
      "text/plain": [
       "<Figure size 432x288 with 1 Axes>"
      ]
     },
     "metadata": {
      "needs_background": "light"
     },
     "output_type": "display_data"
    }
   ],
   "source": [
    "plt.scatter(dataallp['IV'],dataallp['DV'])"
   ]
  },
  {
   "cell_type": "code",
   "execution_count": 76,
   "metadata": {},
   "outputs": [
    {
     "data": {
      "text/plain": [
       "<matplotlib.collections.PathCollection at 0x2a06d138e20>"
      ]
     },
     "execution_count": 76,
     "metadata": {},
     "output_type": "execute_result"
    },
    {
     "data": {
      "image/png": "[encoded data removed]",
      "text/plain": [
       "<Figure size 432x288 with 1 Axes>"
      ]
     },
     "metadata": {
      "needs_background": "light"
     },
     "output_type": "display_data"
    }
   ],
   "source": [
    "plt.scatter(dataallpre['IV'],dataallpre['DV'])"
   ]
  },
  {
   "cell_type": "code",
   "execution_count": 77,
   "metadata": {},
   "outputs": [
    {
     "name": "stdout",
     "output_type": "stream",
     "text": [
      "         Mixed Linear Model Regression Results\n",
      "=======================================================\n",
      "Model:            MixedLM Dependent Variable: DV       \n",
      "No. Observations: 206     Method:             REML     \n",
      "No. Groups:       6       Scale:              244.5864 \n",
      "Min. group size:  11      Log-Likelihood:     -857.4640\n",
      "Max. group size:  108     Converged:          Yes      \n",
      "Mean group size:  34.3                                 \n",
      "-------------------------------------------------------\n",
      "           Coef.  Std.Err.   z    P>|z|  [0.025  0.975]\n",
      "-------------------------------------------------------\n",
      "Intercept -14.078    1.928 -7.300 0.000 -17.858 -10.298\n",
      "IV         -0.369    0.352 -1.050 0.294  -1.059   0.320\n",
      "Group Var   2.514    0.353                             \n",
      "=======================================================\n",
      "\n"
     ]
    }
   ],
   "source": [
    "med=smf.mixedlm(\"DV~IV\",dataallp,groups=dataallp['type'])\n",
    "medf = med.fit(method=['powell'])\n",
    "print(medf.summary())"
   ]
  },
  {
   "cell_type": "code",
   "execution_count": 78,
   "metadata": {},
   "outputs": [
    {
     "name": "stdout",
     "output_type": "stream",
     "text": [
      "         Mixed Linear Model Regression Results\n",
      "=======================================================\n",
      "Model:            MixedLM Dependent Variable: DV       \n",
      "No. Observations: 190     Method:             REML     \n",
      "No. Groups:       6       Scale:              251.0914 \n",
      "Min. group size:  11      Log-Likelihood:     -792.4229\n",
      "Max. group size:  92      Converged:          Yes      \n",
      "Mean group size:  31.7                                 \n",
      "-------------------------------------------------------\n",
      "            Coef.  Std.Err.   z    P>|z|  [0.025 0.975]\n",
      "-------------------------------------------------------\n",
      "Intercept  -11.786    1.999 -5.896 0.000 -15.703 -7.868\n",
      "IV          -1.103    0.436 -2.532 0.011  -1.957 -0.249\n",
      "Group Var    0.070    0.244                            \n",
      "=======================================================\n",
      "\n"
     ]
    }
   ],
   "source": [
    "med=smf.mixedlm(\"DV~IV\",dataallpre,groups=dataallpre['type'])\n",
    "medf = med.fit(method=['powell'])\n",
    "print(medf.summary())"
   ]
  },
  {
   "cell_type": "code",
   "execution_count": 81,
   "metadata": {},
   "outputs": [
    {
     "name": "stdout",
     "output_type": "stream",
     "text": [
      "           Mixed Linear Model Regression Results\n",
      "===========================================================\n",
      "Model:              MixedLM  Dependent Variable:  DV       \n",
      "No. Observations:   206      Method:              REML     \n",
      "No. Groups:         6        Scale:               239.5697 \n",
      "Min. group size:    11       Log-Likelihood:      -856.2370\n",
      "Max. group size:    108      Converged:           Yes      \n",
      "Mean group size:    34.3                                   \n",
      "-----------------------------------------------------------\n",
      "                Coef.  Std.Err.   z    P>|z|  [0.025 0.975]\n",
      "-----------------------------------------------------------\n",
      "Intercept      -13.292    2.781 -4.780 0.000 -18.742 -7.842\n",
      "IV              -0.713    0.841 -0.848 0.397  -2.361  0.936\n",
      "Group Var        0.001                                     \n",
      "Group x IV Cov  -0.004    0.316                            \n",
      "IV Var           0.513    0.081                            \n",
      "===========================================================\n",
      "\n"
     ]
    },
    {
     "name": "stderr",
     "output_type": "stream",
     "text": [
      "C:\\Users\\ljr\\anaconda3\\lib\\site-packages\\statsmodels\\regression\\mixed_linear_model.py:2238: ConvergenceWarning: The MLE may be on the boundary of the parameter space.\n",
      "  warnings.warn(msg, ConvergenceWarning)\n",
      "C:\\Users\\ljr\\anaconda3\\lib\\site-packages\\statsmodels\\regression\\mixed_linear_model.py:2262: ConvergenceWarning: The Hessian matrix at the estimated parameter values is not positive definite.\n",
      "  warnings.warn(msg, ConvergenceWarning)\n"
     ]
    }
   ],
   "source": [
    "med=smf.mixedlm(\"DV~IV\",dataallp,groups=dataallp['type'],re_formula=\"~IV\")\n",
    "medf = med.fit(method=['powell'])\n",
    "print(medf.summary())"
   ]
  },
  {
   "cell_type": "code",
   "execution_count": 84,
   "metadata": {},
   "outputs": [
    {
     "name": "stdout",
     "output_type": "stream",
     "text": [
      "cofft of dtw= PearsonRResult(statistic=-0.06970205655549053, pvalue=0.3194753501269101)\n",
      "cofft of dtwre= PearsonRResult(statistic=-0.1816376959436282, pvalue=0.012138927130516106)\n"
     ]
    }
   ],
   "source": [
    "print('cofft of dtw=',stats.pearsonr(dataallp['IV'],dataallp['DV']))\n",
    "print('cofft of dtwre=',stats.pearsonr(dataallpre['IV'],dataallpre['DV']))"
   ]
  },
  {
   "cell_type": "code",
   "execution_count": 85,
   "metadata": {},
   "outputs": [
    {
     "data": {
      "text/plain": [
       "Text(0, 0.5, 'DTW_pitch pattern')"
      ]
     },
     "execution_count": 85,
     "metadata": {},
     "output_type": "execute_result"
    },
    {
     "data": {
      "image/png": "[encoded data removed]",
      "text/plain": [
       "<Figure size 432x288 with 1 Axes>"
      ]
     },
     "metadata": {
      "needs_background": "light"
     },
     "output_type": "display_data"
    }
   ],
   "source": [
    "plt.scatter(xlabel,diff, color='blue')\n",
    "#plt.scatter(xlabel121,diffc121, color='red')\n",
    "plt.scatter(xlabel53,diffc53, color='yellow')\n",
    "plt.xlabel('Turns', fontsize=12)\n",
    "plt.ylabel('DTW_pitch pattern',fontsize=12)"
   ]
  },
  {
   "cell_type": "code",
   "execution_count": 86,
   "metadata": {},
   "outputs": [],
   "source": [
    "dtwall=np.c_[xlabel,-diff]\n",
    "dtwallp=pd.DataFrame(dtwall)\n",
    "dtwallp.columns=['Turns','DTW']"
   ]
  },
  {
   "cell_type": "code",
   "execution_count": 87,
   "metadata": {},
   "outputs": [
    {
     "data": {
      "text/plain": [
       "[<matplotlib.lines.Line2D at 0x2a06d50d6d0>]"
      ]
     },
     "execution_count": 87,
     "metadata": {},
     "output_type": "execute_result"
    },
    {
     "data": {
      "image/png": "[encoded data removed]",
      "text/plain": [
       "<Figure size 432x288 with 1 Axes>"
      ]
     },
     "metadata": {
      "needs_background": "light"
     },
     "output_type": "display_data"
    }
   ],
   "source": [
    "plt.rc('font',family='Times New Roman')\n",
    "fig, ax=plt.subplots()\n",
    "ax.spines['right'].set_visible(False)\n",
    "ax.spines['top'].set_visible(False)\n",
    "p1=plt.scatter(xlabel1,-diffc1,color=\"navy\")\n",
    "p2=plt.scatter(xlabel2,-diffc2,color=\"royalblue\")\n",
    "p3=plt.scatter(xlabel3,-diffc3,color=\"paleturquoise\")\n",
    "p4=plt.scatter(xlabel4,-diffc4,color=\"aqua\")\n",
    "p5=plt.scatter(xlabel5,-diffc5,color=\"blue\")\n",
    "p6=plt.scatter(xlabel6,-diffc6,color=\"lightcyan\")\n",
    "#plt.legend(handles=[p1,p2,p3,p4,p5,p6,p7,p8,p9],labels=['No.1','No.4','No.9','No.10','No.8','No.2','No.7','No.6','No.5'],loc='best')\n",
    "plt.xticks(fontsize=14)\n",
    "plt.yticks(fontsize=14)\n",
    "plt.xlim(-1, 17)\n",
    "plt.ylim(-80,0)\n",
    "linear_model=np.polyfit(xlabel,diff.ravel(),1)\n",
    "linear_model_fn=np.poly1d(linear_model)\n",
    "plt.plot(xlabel,linear_model_fn(xlabel),color=\"k\")"
   ]
  }
 ],
 "metadata": {
  "kernelspec": {
   "display_name": "Python 3",
   "language": "python",
   "name": "python3"
  },
  "language_info": {
   "codemirror_mode": {
    "name": "ipython",
    "version": 3
   },
   "file_extension": ".py",
   "mimetype": "text/x-python",
   "name": "python",
   "nbconvert_exporter": "python",
   "pygments_lexer": "ipython3",
   "version": "3.8.5"
  }
 },
 "nbformat": 4,
 "nbformat_minor": 4
}
