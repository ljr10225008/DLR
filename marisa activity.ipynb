{
 "cells": [
  {
   "cell_type": "code",
   "execution_count": 1,
   "metadata": {},
   "outputs": [
    {
     "name": "stderr",
     "output_type": "stream",
     "text": [
      "C:\\Users\\ljr\\AppData\\Roaming\\Python\\Python38\\site-packages\\pandas\\core\\computation\\expressions.py:20: UserWarning: Pandas requires version '2.7.3' or newer of 'numexpr' (version '2.7.1' currently installed).\n",
      "  from pandas.core.computation.check import NUMEXPR_INSTALLED\n",
      "C:\\Users\\ljr\\anaconda3\\lib\\site-packages\\statsmodels\\tsa\\base\\tsa_model.py:7: FutureWarning: pandas.Int64Index is deprecated and will be removed from pandas in a future version. Use pandas.Index with the appropriate dtype instead.\n",
      "  from pandas import (to_datetime, Int64Index, DatetimeIndex, Period,\n",
      "C:\\Users\\ljr\\anaconda3\\lib\\site-packages\\statsmodels\\tsa\\base\\tsa_model.py:7: FutureWarning: pandas.Float64Index is deprecated and will be removed from pandas in a future version. Use pandas.Index with the appropriate dtype instead.\n",
      "  from pandas import (to_datetime, Int64Index, DatetimeIndex, Period,\n"
     ]
    }
   ],
   "source": [
    "import math\n",
    "import numpy as np\n",
    "import sklearn\n",
    "from sklearn.cluster import KMeans\n",
    "import matplotlib as mpl\n",
    "import matplotlib.pyplot as plt\n",
    "import librosa\n",
    "import librosa.display\n",
    "import os\n",
    "import re\n",
    "import seaborn as sns\n",
    "import pandas as pd\n",
    "import random\n",
    "from scipy import stats  #t-test\n",
    "from scipy.spatial.distance import euclidean\n",
    "from fastdtw import fastdtw\n",
    "from scipy.interpolate import interp1d\n",
    "from itertools import groupby\n",
    "import statsmodels.formula.api as smf\n",
    "import statsmodels.api as sm"
   ]
  },
  {
   "cell_type": "code",
   "execution_count": 2,
   "metadata": {},
   "outputs": [],
   "source": [
    "pathturn1 = r\"C:\\LJR\\babylab\\marisa\\datamanual\\cut\\0643\\turntaking\\facon\" #2m\n",
    "filesturn1= os.listdir(pathturn1)\n",
    "pathturn1o = r\"C:\\LJR\\babylab\\marisa\\datamanual\\cut\\0643\\turntaking\\blockother\\fa\"\n",
    "filesturn1o= os.listdir(pathturn1o)\n",
    "pathturn1c = r\"C:\\LJR\\babylab\\marisa\\datamanual\\cut\\0643\\turntaking\\chicon\"\n",
    "filesturn1c= os.listdir(pathturn1c)\n",
    "pathturn1co = r\"C:\\LJR\\babylab\\marisa\\datamanual\\cut\\0643\\turntaking\\blockother\\chi\"\n",
    "filesturn1co= os.listdir(pathturn1co)\n",
    "\n",
    "pathturn2 = r\"C:\\LJR\\babylab\\marisa\\datamanual\\cut\\2109\\turntaking\\facon\"#7m\n",
    "filesturn2= os.listdir(pathturn2)\n",
    "pathturn2o = r\"C:\\LJR\\babylab\\marisa\\datamanual\\cut\\2109\\turntaking\\blockother\\fa\"\n",
    "filesturn2o= os.listdir(pathturn2o)\n",
    "pathturn2c = r\"C:\\LJR\\babylab\\marisa\\datamanual\\cut\\2109\\turntaking\\chicon\"\n",
    "filesturn2c= os.listdir(pathturn2c)\n",
    "pathturn2co = r\"C:\\LJR\\babylab\\marisa\\datamanual\\cut\\2109\\turntaking\\blockother\\chi\"\n",
    "filesturn2co= os.listdir(pathturn2co)\n",
    "\n",
    "pathturn3 = r\"C:\\LJR\\babylab\\marisa\\datamanual\\cut\\2625\\turntaking\\facon\"#32m\n",
    "filesturn3= os.listdir(pathturn3)\n",
    "pathturn3o = r\"C:\\LJR\\babylab\\marisa\\datamanual\\cut\\2625\\turntaking\\blockother\\fa\"\n",
    "filesturn3o= os.listdir(pathturn3o)\n",
    "pathturn3c = r\"C:\\LJR\\babylab\\marisa\\datamanual\\cut\\2625\\turntaking\\chicon\"\n",
    "filesturn3c= os.listdir(pathturn3c)\n",
    "pathturn3co = r\"C:\\LJR\\babylab\\marisa\\datamanual\\cut\\2625\\turntaking\\blockother\\chi\"\n",
    "filesturn3co= os.listdir(pathturn3co)\n",
    "\n",
    "pathturn4 = r\"C:\\LJR\\babylab\\marisa\\datamanual\\cut\\3026\\turntaking\\facon\"#36m\n",
    "filesturn4= os.listdir(pathturn4)\n",
    "pathturn4o = r\"C:\\LJR\\babylab\\marisa\\datamanual\\cut\\3026\\turntaking\\blockother\\fa\"\n",
    "filesturn4o= os.listdir(pathturn4o)\n",
    "pathturn4c = r\"C:\\LJR\\babylab\\marisa\\datamanual\\cut\\3026\\turntaking\\chicon\"\n",
    "filesturn4c= os.listdir(pathturn4c)\n",
    "pathturn4co = r\"C:\\LJR\\babylab\\marisa\\datamanual\\cut\\3026\\turntaking\\blockother\\chi\"\n",
    "filesturn4co= os.listdir(pathturn4co)\n",
    "\n",
    "pathturn5 = r\"C:\\LJR\\babylab\\marisa\\datamanual\\cut\\6216\\turntaking\\facon\"#27m\n",
    "filesturn5= os.listdir(pathturn5)\n",
    "pathturn5o = r\"C:\\LJR\\babylab\\marisa\\datamanual\\cut\\6216\\turntaking\\blockother\\fa\"\n",
    "filesturn5o= os.listdir(pathturn5o)\n",
    "pathturn5c = r\"C:\\LJR\\babylab\\marisa\\datamanual\\cut\\6216\\turntaking\\chicon\"\n",
    "filesturn5c= os.listdir(pathturn5c)\n",
    "pathturn5co = r\"C:\\LJR\\babylab\\marisa\\datamanual\\cut\\6216\\turntaking\\blockother\\chi\"\n",
    "filesturn5co= os.listdir(pathturn5co)\n",
    "\n",
    "pathturn6 = r\"C:\\LJR\\babylab\\marisa\\datamanual\\cut\\7176\\turntaking\\facon\"#4m\n",
    "filesturn6= os.listdir(pathturn6)\n",
    "pathturn6o = r\"C:\\LJR\\babylab\\marisa\\datamanual\\cut\\7176\\turntaking\\blockother\\fa\"\n",
    "filesturn6o= os.listdir(pathturn6o)\n",
    "pathturn6c = r\"C:\\LJR\\babylab\\marisa\\datamanual\\cut\\7176\\turntaking\\chicon\"\n",
    "filesturn6c= os.listdir(pathturn6c)\n",
    "pathturn6co = r\"C:\\LJR\\babylab\\marisa\\datamanual\\cut\\7176\\turntaking\\blockother\\chi\"\n",
    "filesturn6co= os.listdir(pathturn6co)\n",
    "\n",
    "pathturn7 = r\"C:\\LJR\\babylab\\marisa\\datamanual\\cut\\7220\\turntaking\\facon\"#22m\n",
    "filesturn7= os.listdir(pathturn7)\n",
    "pathturn7o = r\"C:\\LJR\\babylab\\marisa\\datamanual\\cut\\7220\\turntaking\\blockother\\fa\"\n",
    "filesturn7o= os.listdir(pathturn7o)\n",
    "pathturn7c = r\"C:\\LJR\\babylab\\marisa\\datamanual\\cut\\7220\\turntaking\\chicon\"\n",
    "filesturn7c= os.listdir(pathturn7c)\n",
    "pathturn7co = r\"C:\\LJR\\babylab\\marisa\\datamanual\\cut\\7220\\turntaking\\blockother\\chi\"\n",
    "filesturn7co= os.listdir(pathturn7co)\n",
    "\n",
    "pathturn8 = r\"C:\\LJR\\babylab\\marisa\\datamanual\\cut\\7326\\turntaking\\facon\"#14m\n",
    "filesturn8= os.listdir(pathturn8)\n",
    "pathturn8o = r\"C:\\LJR\\babylab\\marisa\\datamanual\\cut\\7326\\turntaking\\blockother\\fa\"\n",
    "filesturn8o= os.listdir(pathturn8o)\n",
    "pathturn8c = r\"C:\\LJR\\babylab\\marisa\\datamanual\\cut\\7326\\turntaking\\chicon\"\n",
    "filesturn8c= os.listdir(pathturn8c)\n",
    "pathturn8co = r\"C:\\LJR\\babylab\\marisa\\datamanual\\cut\\7326\\turntaking\\blockother\\chi\"\n",
    "filesturn8co= os.listdir(pathturn8co)\n",
    "\n",
    "pathturn9 = r\"C:\\LJR\\babylab\\marisa\\datamanual\\cut\\8787\\turntaking\\facon\"#11m\n",
    "filesturn9= os.listdir(pathturn9)\n",
    "pathturn9o = r\"C:\\LJR\\babylab\\marisa\\datamanual\\cut\\8787\\turntaking\\blockother\\fa\"\n",
    "filesturn9o= os.listdir(pathturn9o)\n",
    "pathturn9c = r\"C:\\LJR\\babylab\\marisa\\datamanual\\cut\\8787\\turntaking\\chicon\"\n",
    "filesturn9c= os.listdir(pathturn9c)\n",
    "pathturn9co = r\"C:\\LJR\\babylab\\marisa\\datamanual\\cut\\8787\\turntaking\\blockother\\chi\"\n",
    "filesturn9co= os.listdir(pathturn9co)"
   ]
  },
  {
   "cell_type": "code",
   "execution_count": 3,
   "metadata": {},
   "outputs": [],
   "source": [
    "files1=filesturn1\n",
    "files1c=filesturn1c\n",
    "\n",
    "files2=filesturn2\n",
    "files2c=filesturn2c\n",
    "\n",
    "files3=filesturn3\n",
    "files3c=filesturn3c\n",
    "\n",
    "files4=filesturn4\n",
    "files4c=filesturn4c\n",
    "\n",
    "files5=filesturn5\n",
    "files5c=filesturn5c\n",
    "\n",
    "files6=filesturn6\n",
    "files6c=filesturn6c\n",
    "\n",
    "files7=filesturn7\n",
    "files7c=filesturn7c\n",
    "\n",
    "files8=filesturn8\n",
    "files8c=filesturn8c\n",
    "\n",
    "files9=filesturn9\n",
    "files9c=filesturn9c"
   ]
  },
  {
   "cell_type": "code",
   "execution_count": 4,
   "metadata": {},
   "outputs": [],
   "source": [
    "filesc1=filesturn1o\n",
    "filesc1c=filesturn1co\n",
    "\n",
    "filesc2=filesturn2o\n",
    "filesc2c=filesturn2co\n",
    "\n",
    "filesc3=filesturn3o\n",
    "filesc3c=filesturn3co\n",
    "\n",
    "filesc4=filesturn4o\n",
    "filesc4c=filesturn4co\n",
    "\n",
    "filesc5=filesturn5o\n",
    "filesc5c=filesturn5co\n",
    "\n",
    "filesc6=filesturn6o\n",
    "filesc6c=filesturn6co\n",
    "\n",
    "filesc7=filesturn7o\n",
    "filesc7c=filesturn7co\n",
    "\n",
    "filesc8=filesturn8o\n",
    "filesc8c=filesturn8co\n",
    "\n",
    "filesc9=filesturn9o\n",
    "filesc9c=filesturn9co\n"
   ]
  },
  {
   "cell_type": "code",
   "execution_count": 5,
   "metadata": {},
   "outputs": [],
   "source": [
    "files1.sort(key = lambda x:float(x[1:-4]))\n",
    "files1c.sort(key = lambda x:float(x[:-4]))\n",
    "\n",
    "files2.sort(key = lambda x:float(x[1:-4]))\n",
    "files2c.sort(key = lambda x:float(x[:-4]))\n",
    "\n",
    "files3.sort(key = lambda x:float(x[1:-4]))\n",
    "files3c.sort(key = lambda x:float(x[:-4]))\n",
    "\n",
    "files4.sort(key = lambda x:float(x[1:-4]))\n",
    "files4c.sort(key = lambda x:float(x[:-4]))\n",
    "\n",
    "files5.sort(key = lambda x:float(x[1:-4]))\n",
    "files5c.sort(key = lambda x:float(x[:-4]))\n",
    "\n",
    "files6.sort(key = lambda x:float(x[1:-4]))\n",
    "files6c.sort(key = lambda x:float(x[:-4]))\n",
    "\n",
    "files7.sort(key = lambda x:float(x[1:-4]))\n",
    "files7c.sort(key = lambda x:float(x[:-4]))\n",
    "\n",
    "files8.sort(key = lambda x:float(x[1:-4]))\n",
    "files8c.sort(key = lambda x:float(x[:-4]))\n",
    "\n",
    "files9.sort(key = lambda x:float(x[1:-4]))\n",
    "files9c.sort(key = lambda x:float(x[:-4]))"
   ]
  },
  {
   "cell_type": "code",
   "execution_count": 6,
   "metadata": {},
   "outputs": [],
   "source": [
    "filesc1.sort(key = lambda x:float(x[1:-4]))\n",
    "filesc1c.sort(key = lambda x:float(x[:-4]))\n",
    "\n",
    "filesc2.sort(key = lambda x:float(x[1:-4]))\n",
    "filesc2c.sort(key = lambda x:float(x[:-4]))\n",
    "\n",
    "filesc3.sort(key = lambda x:float(x[1:-4]))\n",
    "filesc3c.sort(key = lambda x:float(x[:-4]))\n",
    "\n",
    "filesc4.sort(key = lambda x:float(x[1:-4]))\n",
    "filesc4c.sort(key = lambda x:float(x[:-4]))\n",
    "\n",
    "filesc5.sort(key = lambda x:float(x[1:-4]))\n",
    "filesc5c.sort(key = lambda x:float(x[:-4]))\n",
    "\n",
    "filesc6.sort(key = lambda x:float(x[1:-4]))\n",
    "filesc6c.sort(key = lambda x:float(x[:-4]))\n",
    "\n",
    "filesc7.sort(key = lambda x:float(x[1:-4]))\n",
    "filesc7c.sort(key = lambda x:float(x[:-4]))\n",
    "\n",
    "filesc8.sort(key = lambda x:float(x[1:-4]))\n",
    "filesc8c.sort(key = lambda x:float(x[:-4]))\n",
    "\n",
    "filesc9.sort(key = lambda x:float(x[1:-4]))\n",
    "filesc9c.sort(key = lambda x:float(x[:-4]))"
   ]
  },
  {
   "cell_type": "code",
   "execution_count": 7,
   "metadata": {},
   "outputs": [],
   "source": [
    "def normalize(x, axis=0):\n",
    "    return sklearn.preprocessing.minmax_scale(x, axis=axis)"
   ]
  },
  {
   "cell_type": "code",
   "execution_count": 8,
   "metadata": {},
   "outputs": [],
   "source": [
    "def normalizea(x, maxa,mina,axis=0):\n",
    "    return [(float(i)-mina)/float(maxa-mina) for i in x]"
   ]
  },
  {
   "cell_type": "code",
   "execution_count": 9,
   "metadata": {},
   "outputs": [],
   "source": [
    "def normalizei(x, maxi,mini,axis=0):\n",
    "    return [(float(i)-mini)/float(maxi-mini) for i in x]"
   ]
  },
  {
   "cell_type": "code",
   "execution_count": 10,
   "metadata": {},
   "outputs": [],
   "source": [
    "def dataclean(data):\n",
    "    meandata=np.mean(data)\n",
    "    stddata=np.std(data)\n",
    "    high=meandata+3*stddata\n",
    "    low=meandata-3*stddata\n",
    "    indl=np.where((data<=low))\n",
    "    indl0=indl[0]\n",
    "    data[indl0]=meandata-3*stddata\n",
    "    indh=np.where((data>=high))\n",
    "    indh0=indh[0]\n",
    "    data[indh0]=meandata+3*stddata\n",
    "    return data"
   ]
  },
  {
   "cell_type": "code",
   "execution_count": 11,
   "metadata": {},
   "outputs": [],
   "source": [
    "def pitchasimple(path,files):\n",
    "    yseries=np.zeros((len(files),4))\n",
    "    for i in range(len(files)):\n",
    "        x,sr1=librosa.load(path+\"\\\\\"+files[i],sr=None)\n",
    "        f0, voiced_flag, voiced_probs = librosa.pyin(x,sr=sr1,frame_length=512, fill_na=np.nan, n_thresholds=50, fmin=120, fmax=600)\n",
    "        yseries[i,0]=np.nanmean(f0)\n",
    "        yseries[i,1]=np.nanmax(f0)\n",
    "        yseries[i,2]=np.nanmin(f0)\n",
    "        yseries[i,3]=np.nanmax(f0)-np.nanmin(f0)\n",
    "    return yseries"
   ]
  },
  {
   "cell_type": "code",
   "execution_count": 12,
   "metadata": {},
   "outputs": [],
   "source": [
    "def pitchisimple(path,files):\n",
    "    yseries=np.zeros((len(files),4))\n",
    "    for i in range(len(files)):\n",
    "        x,sr1=librosa.load(path+\"\\\\\"+files[i],sr=None)\n",
    "        f0, voiced_flag, voiced_probs = librosa.pyin(x,sr=sr1,frame_length=512, fill_na=np.nan, n_thresholds=50, fmin=120, fmax=1000)\n",
    "        yseries[i,0]=np.nanmean(f0)\n",
    "        yseries[i,1]=np.nanmax(f0)\n",
    "        yseries[i,2]=np.nanmin(f0)\n",
    "        yseries[i,3]=np.nanmax(f0)-np.nanmin(f0)\n",
    "    return yseries"
   ]
  },
  {
   "cell_type": "code",
   "execution_count": 13,
   "metadata": {},
   "outputs": [],
   "source": [
    "def pitcha(path,files):\n",
    "    timemax=np.zeros((len(files),1))\n",
    "    for i in range(len(files)):\n",
    "        timemaxt=re.search(\"(\\d+\\.\\d+)\",files[i]).group(0)\n",
    "        timemaxa=int(float(timemaxt))\n",
    "        timemax[i]=timemaxa\n",
    "    maxl=int(np.max(timemax))\n",
    "    meanraw=np.zeros((len(files),1))\n",
    "    maxraw=np.zeros((len(files),1))\n",
    "    minraw=np.zeros((len(files),1))\n",
    "    rangeraw=np.zeros((len(files),1))\n",
    "    yseries=np.zeros((39600,4))-20\n",
    "    for i in range(len(files)):\n",
    "        x,sr1=librosa.load(path+\"\\\\\"+files[i],sr=None)\n",
    "        f0, voiced_flag, voiced_probs = librosa.pyin(x,sr=sr1,frame_length=512, fill_na=np.nan, n_thresholds=50, fmin=120, fmax=600)\n",
    "        meanraw[i,0]=np.nanmean(f0)\n",
    "        maxraw[i,0]=np.nanmax(f0)\n",
    "        minraw[i,0]=np.nanmin(f0)\n",
    "        rangeraw[i,0]=np.nanmax(f0)-np.nanmin(f0)\n",
    "    #meanc=dataclean(meanraw)\n",
    "    #maxc=dataclean(maxraw)\n",
    "    #minc=dataclean(minraw)\n",
    "    #rangec=dataclean(rangeraw)\n",
    "    meanc=meanraw\n",
    "    maxc=maxraw\n",
    "    minc=minraw\n",
    "    rangec=rangeraw\n",
    "    #meann=normalize(meanc)\n",
    "    #maxn=normalize(maxc)\n",
    "    #minn=normalize(minc)\n",
    "    #rangen=normalize(rangec)\n",
    "    meann=meanc\n",
    "    maxn=maxc\n",
    "    minn=minc\n",
    "    rangen=rangec\n",
    "    for i in range(len(files)):\n",
    "        starttime=re.search(\"(\\d+\\.\\d+)\",files[i]).group(0)\n",
    "        start=int(float(starttime))\n",
    "        meanr=meann[i]\n",
    "        yseries[start,0]=meanr\n",
    "        maxr=maxn[i]\n",
    "        yseries[start,1]=maxr\n",
    "        minr=minn[i]\n",
    "        yseries[start,2]=minr\n",
    "        ranger=rangen[i]\n",
    "        yseries[start,3]=ranger\n",
    "    return yseries"
   ]
  },
  {
   "cell_type": "code",
   "execution_count": 14,
   "metadata": {},
   "outputs": [],
   "source": [
    "def pitchi(path,files):\n",
    "    timemax=np.zeros((len(files),1))\n",
    "    for i in range(len(files)):\n",
    "        timemaxt=re.search(\"(\\d+\\.\\d+)\",files[i]).group(0)\n",
    "        timemaxa=int(float(timemaxt))\n",
    "        timemax[i]=timemaxa\n",
    "    maxl=int(np.max(timemax))\n",
    "    meanraw=np.zeros((len(files),1))\n",
    "    maxraw=np.zeros((len(files),1))\n",
    "    minraw=np.zeros((len(files),1))\n",
    "    rangeraw=np.zeros((len(files),1))\n",
    "    yseries=np.zeros((39600,4))-40\n",
    "    for i in range(len(files)):\n",
    "        x,sr1=librosa.load(path+\"\\\\\"+files[i],sr=None)\n",
    "        f0, voiced_flag, voiced_probs = librosa.pyin(x,sr=sr1,frame_length=512, fill_na=np.nan, n_thresholds=50, fmin=120, fmax=1000)\n",
    "        meanraw[i,0]=np.nanmean(f0)\n",
    "        maxraw[i,0]=np.nanmax(f0)\n",
    "        minraw[i,0]=np.nanmin(f0)\n",
    "        rangeraw[i,0]=np.nanmax(f0)-np.nanmin(f0)\n",
    "    #meanc=dataclean(meanraw)\n",
    "    #maxc=dataclean(maxraw)\n",
    "    #minc=dataclean(minraw)\n",
    "    #rangec=dataclean(rangeraw)\n",
    "    meanc=meanraw\n",
    "    maxc=maxraw\n",
    "    minc=minraw\n",
    "    rangec=rangeraw\n",
    "    #meann=normalize(meanc)\n",
    "    #maxn=normalize(maxc)\n",
    "    #minn=normalize(minc)\n",
    "    #rangen=normalize(rangec)\n",
    "    meann=meanc\n",
    "    maxn=maxc\n",
    "    minn=minc\n",
    "    rangen=rangec\n",
    "    for i in range(len(files)):\n",
    "        starttime=re.search(\"(\\d+\\.\\d+)\",files[i]).group(0)\n",
    "        start=int(float(starttime))\n",
    "        meanr=meann[i]\n",
    "        yseries[start,0]=meanr\n",
    "        maxr=maxn[i]\n",
    "        yseries[start,1]=maxr\n",
    "        minr=minn[i]\n",
    "        yseries[start,2]=minr\n",
    "        ranger=rangen[i]\n",
    "        yseries[start,3]=ranger\n",
    "    return yseries"
   ]
  },
  {
   "cell_type": "code",
   "execution_count": 15,
   "metadata": {},
   "outputs": [],
   "source": [
    "yout1=pitchasimple(pathturn1,files1)"
   ]
  },
  {
   "cell_type": "code",
   "execution_count": 15,
   "metadata": {},
   "outputs": [],
   "source": [
    "yout1=pitchasimple(pathturn1,files1)\n",
    "yout2=pitchasimple(pathturn2,files2)\n",
    "yout3=pitchasimple(pathturn3,files3)\n",
    "yout4=pitchasimple(pathturn4,files4)\n",
    "yout5=pitchasimple(pathturn5,files5)\n",
    "yout6=pitchasimple(pathturn6,files6)\n",
    "yout7=pitchasimple(pathturn7,files7)\n",
    "yout8=pitchasimple(pathturn8,files8)\n",
    "yout9=pitchasimple(pathturn9,files9)"
   ]
  },
  {
   "cell_type": "code",
   "execution_count": 16,
   "metadata": {},
   "outputs": [],
   "source": [
    "youti1=pitchisimple(pathturn1c,files1c)\n",
    "youti2=pitchisimple(pathturn2c,files2c)\n",
    "youti3=pitchisimple(pathturn3c,files3c)\n",
    "youti4=pitchisimple(pathturn4c,files4c)\n",
    "youti5=pitchisimple(pathturn5c,files5c)\n",
    "youti6=pitchisimple(pathturn6c,files6c)\n",
    "youti7=pitchisimple(pathturn7c,files7c)\n",
    "youti8=pitchisimple(pathturn8c,files8c)\n",
    "youti9=pitchisimple(pathturn9c,files9c)"
   ]
  },
  {
   "cell_type": "code",
   "execution_count": 17,
   "metadata": {},
   "outputs": [],
   "source": [
    "yout1c=pitchasimple(pathturn1o,filesc1)\n",
    "yout2c=pitchasimple(pathturn2o,filesc2)\n",
    "yout3c=pitchasimple(pathturn3o,filesc3)\n",
    "yout4c=pitchasimple(pathturn4o,filesc4)\n",
    "yout5c=pitchasimple(pathturn5o,filesc5)\n",
    "yout6c=pitchasimple(pathturn6o,filesc6)\n",
    "yout7c=pitchasimple(pathturn7o,filesc7)\n",
    "yout8c=pitchasimple(pathturn8o,filesc8)\n",
    "yout9c=pitchasimple(pathturn9o,filesc9)"
   ]
  },
  {
   "cell_type": "code",
   "execution_count": 18,
   "metadata": {},
   "outputs": [],
   "source": [
    "youti1c=pitchisimple(pathturn1co,filesc1c)\n",
    "youti2c=pitchisimple(pathturn2co,filesc2c)\n",
    "youti3c=pitchisimple(pathturn3co,filesc3c)\n",
    "youti4c=pitchisimple(pathturn4co,filesc4c)\n",
    "youti5c=pitchisimple(pathturn5co,filesc5c)\n",
    "youti6c=pitchisimple(pathturn6co,filesc6c)\n",
    "youti7c=pitchisimple(pathturn7co,filesc7c)\n",
    "youti8c=pitchisimple(pathturn8co,filesc8c)\n",
    "youti9c=pitchisimple(pathturn9co,filesc9c)"
   ]
  },
  {
   "cell_type": "code",
   "execution_count": 19,
   "metadata": {},
   "outputs": [],
   "source": [
    "youtcopy1=yout1.copy()\n",
    "youticopy1=youti1.copy()\n",
    "\n",
    "youtcopy2=yout2.copy()\n",
    "youticopy2=youti2.copy()\n",
    "\n",
    "youtcopy3=yout3.copy()\n",
    "youticopy3=youti3.copy()\n",
    "\n",
    "youtcopy4=yout4.copy()\n",
    "youticopy4=youti4.copy()\n",
    "\n",
    "youtcopy5=yout5.copy()\n",
    "youticopy5=youti5.copy()\n",
    "\n",
    "youtcopy6=yout6.copy()\n",
    "youticopy6=youti6.copy()\n",
    "\n",
    "youtcopy7=yout7.copy()\n",
    "youticopy7=youti7.copy()\n",
    "\n",
    "youtcopy8=yout8.copy()\n",
    "youticopy8=youti8.copy()\n",
    "\n",
    "youtcopy9=yout9.copy()\n",
    "youticopy9=youti9.copy()"
   ]
  },
  {
   "cell_type": "code",
   "execution_count": 20,
   "metadata": {},
   "outputs": [],
   "source": [
    "youtcopy1c=yout1c.copy()\n",
    "youticopy1c=youti1c.copy()\n",
    "\n",
    "youtcopy2c=yout2c.copy()\n",
    "youticopy2c=youti2c.copy()\n",
    "\n",
    "youtcopy3c=yout3c.copy()\n",
    "youticopy3c=youti3c.copy()\n",
    "\n",
    "youtcopy4c=yout4c.copy()\n",
    "youticopy4c=youti4c.copy()\n",
    "\n",
    "youtcopy5c=yout5c.copy()\n",
    "youticopy5c=youti5c.copy()\n",
    "\n",
    "youtcopy6c=yout6c.copy()\n",
    "youticopy6c=youti6c.copy()\n",
    "\n",
    "youtcopy7c=yout7c.copy()\n",
    "youticopy7c=youti7c.copy()\n",
    "\n",
    "youtcopy8c=yout8c.copy()\n",
    "youticopy8c=youti8c.copy()\n",
    "\n",
    "youtcopy9c=yout9c.copy()\n",
    "youticopy9c=youti9c.copy()"
   ]
  },
  {
   "cell_type": "code",
   "execution_count": 21,
   "metadata": {},
   "outputs": [],
   "source": [
    "yall=np.r_[yout1,yout2,yout6,yout7,yout8,yout9]\n",
    "yiall=np.r_[youti1,youti2,youti6,youti7,youti8,youti9]\n",
    "yallo=np.r_[yout1c,yout2c,yout6c,yout7c,yout8c,yout9c]\n",
    "yiallo=np.r_[youti1c,youti2c,youti6c,youti7c,youti8c,youti9c]"
   ]
  },
  {
   "cell_type": "code",
   "execution_count": 23,
   "metadata": {},
   "outputs": [
    {
     "data": {
      "image/png": "[encoded data removed]",
      "text/plain": [
       "<Figure size 432x288 with 1 Axes>"
      ]
     },
     "metadata": {
      "needs_background": "light"
     },
     "output_type": "display_data"
    },
    {
     "data": {
      "image/png": "[encoded data removed]",
      "text/plain": [
       "<Figure size 432x288 with 1 Axes>"
      ]
     },
     "metadata": {
      "needs_background": "light"
     },
     "output_type": "display_data"
    }
   ],
   "source": [
    "plt.scatter(yall[:,0],yall[:,3],color='b')\n",
    "plt.scatter(yiall[:,0],yiall[:,3],color='r')\n",
    "plt.xlim(0,1000)\n",
    "plt.ylim(-30,900)\n",
    "plt.show()\n",
    "plt.scatter(yallo[:,0],yallo[:,3],color='y')\n",
    "plt.scatter(yiallo[:,0],yiallo[:,3],color='k')\n",
    "plt.xlim(0,1000)\n",
    "plt.ylim(-30,900)\n",
    "plt.show()"
   ]
  },
  {
   "cell_type": "code",
   "execution_count": 24,
   "metadata": {},
   "outputs": [],
   "source": [
    "def diffsub(data,datai,conin,idin):\n",
    "    datamean=np.zeros((len(data[:,0]),len(datai[:,0])))\n",
    "    datamax=np.zeros((len(data[:,0]),len(datai[:,0])))\n",
    "    datamin=np.zeros((len(data[:,0]),len(datai[:,0])))\n",
    "    datarange=np.zeros((len(data[:,0]),len(datai[:,0])))\n",
    "    for i in range(len(data[:,0])):\n",
    "        datamean[i,:]=np.abs(datai[:,0]-data[i,0])\n",
    "        datamax[i,:]=np.abs(datai[:,1]-data[i,1])\n",
    "        datamin[i,:]=np.abs(datai[:,2]-data[i,2])\n",
    "        datarange[i,:]=np.abs(datai[:,3]-data[i,3])\n",
    "    datameano=datamean.reshape(len(data[:,0])*len(datai[:,0]),1)\n",
    "    datamaxo=datamax.reshape(len(data[:,0])*len(datai[:,0]),1)\n",
    "    datamino=datamin.reshape(len(data[:,0])*len(datai[:,0]),1)\n",
    "    datarangeo=datarange.reshape(len(data[:,0])*len(datai[:,0]),1)\n",
    "    ind=np.zeros(len(data[:,0])*len(datai[:,0]))+idin\n",
    "    con=np.zeros(len(data[:,0])*len(datai[:,0]))+conin\n",
    "    dataoutme=np.c_[datameano,con,ind]\n",
    "    dataoutma=np.c_[datamaxo,con,ind]\n",
    "    dataoutmi=np.c_[datamino,con,ind]\n",
    "    dataoutr=np.c_[datarangeo,con,ind]\n",
    "    return dataoutme, dataoutma, dataoutmi,dataoutr"
   ]
  },
  {
   "cell_type": "code",
   "execution_count": 25,
   "metadata": {},
   "outputs": [],
   "source": [
    "outme1,outma1,outmi1,outr1=diffsub(yout1,youti1,0,1)\n",
    "outme2,outma2,outmi2,outr2=diffsub(yout2,youti2,0,2)\n",
    "outme3,outma3,outmi3,outr3=diffsub(yout3,youti3,0,3)\n",
    "outme4,outma4,outmi4,outr4=diffsub(yout4,youti4,0,4)\n",
    "outme5,outma5,outmi5,outr5=diffsub(yout5,youti5,0,5)\n",
    "outme6,outma6,outmi6,outr6=diffsub(yout6,youti6,0,6)\n",
    "outme7,outma7,outmi7,outr7=diffsub(yout7,youti7,0,7)\n",
    "outme8,outma8,outmi8,outr8=diffsub(yout8,youti8,0,8)\n",
    "outme9,outma9,outmi9,outr9=diffsub(yout9,youti9,0,9)"
   ]
  },
  {
   "cell_type": "code",
   "execution_count": 26,
   "metadata": {},
   "outputs": [],
   "source": [
    "outme1o,outma1o,outmi1o,outr1o=diffsub(yout1c,youti1c,1,1)\n",
    "outme2o,outma2o,outmi2o,outr2o=diffsub(yout2c,youti2c,1,2)\n",
    "outme3o,outma3o,outmi3o,outr3o=diffsub(yout3c,youti3c,1,3)\n",
    "outme4o,outma4o,outmi4o,outr4o=diffsub(yout4c,youti4c,1,4)\n",
    "outme5o,outma5o,outmi5o,outr5o=diffsub(yout5c,youti5c,1,5)\n",
    "outme6o,outma6o,outmi6o,outr6o=diffsub(yout6c,youti6c,1,6)\n",
    "outme7o,outma7o,outmi7o,outr7o=diffsub(yout7c,youti7c,1,7)\n",
    "outme8o,outma8o,outmi8o,outr8o=diffsub(yout8c,youti8c,1,8)\n",
    "outme9o,outma9o,outmi9o,outr9o=diffsub(yout9c,youti9c,1,9)"
   ]
  },
  {
   "cell_type": "code",
   "execution_count": 27,
   "metadata": {},
   "outputs": [],
   "source": [
    "datame=np.r_[outme1,outme2,outme6,outme7,outme8,outme9,outme1o,outme2o,outme6o,outme7o,outme8o,outme9o]\n",
    "datama=np.r_[outma1,outma2,outma6,outma7,outma8,outma9,outma1o,outma2o,outma6o,outma7o,outma8o,outma9o]\n",
    "datami=np.r_[outmi1,outmi2,outmi6,outmi7,outmi8,outmi9,outmi1o,outmi2o,outmi6o,outmi7o,outmi8o,outmi9o]\n",
    "datar=np.r_[outr1,outr2,outr6,outr7,outr8,outr9,outr1o,outr2o,outr6o,outr7o,outr8o,outr9o]"
   ]
  },
  {
   "cell_type": "code",
   "execution_count": 34,
   "metadata": {},
   "outputs": [],
   "source": [
    "datame=np.r_[outme1,outme2,outme6,outme7,outme8,outme9]\n",
    "datama=np.r_[outma1,outma2,outma6,outma7,outma8,outma9]\n",
    "datami=np.r_[outmi1,outmi2,outmi6,outmi7,outmi8,outmi9]\n",
    "datar=np.r_[outr1,outr2,outr6,outr7,outr8,outr9]\n",
    "\n",
    "datameo=np.r_[outme1o,outme2o,outme6o,outme7o,outme8o,outme9o]\n",
    "datamao=np.r_[outma1o,outma2o,outma6o,outma7o,outma8o,outma9o]\n",
    "datamio=np.r_[outmi1o,outmi2o,outmi6o,outmi7o,outmi8o,outmi9o]\n",
    "dataro=np.r_[outr1o,outr2o,outr6o,outr7o,outr8o,outr9o]"
   ]
  },
  {
   "cell_type": "code",
   "execution_count": 36,
   "metadata": {},
   "outputs": [],
   "source": [
    "np.savetxt(r'C:\\LJR\\paper\\pictures\\meanm.txt',datames)\n",
    "np.savetxt(r'C:\\LJR\\paper\\pictures\\maxm.txt',datamas)\n",
    "np.savetxt(r'C:\\LJR\\paper\\pictures\\minm.txt',datamis)\n",
    "np.savetxt(r'C:\\LJR\\paper\\pictures\\rangem.txt',datars)"
   ]
  },
  {
   "cell_type": "code",
   "execution_count": 37,
   "metadata": {},
   "outputs": [],
   "source": [
    "np.savetxt(r'C:\\LJR\\paper\\pictures\\meanmo.txt',datameo)\n",
    "np.savetxt(r'C:\\LJR\\paper\\pictures\\maxmo.txt',datamao)\n",
    "np.savetxt(r'C:\\LJR\\paper\\pictures\\minmo.txt',datamio)\n",
    "np.savetxt(r'C:\\LJR\\paper\\pictures\\rangemo.txt',dataro)"
   ]
  },
  {
   "cell_type": "code",
   "execution_count": 42,
   "metadata": {},
   "outputs": [
    {
     "name": "stdout",
     "output_type": "stream",
     "text": [
      "[149.42177484   0.           7.13635177] [151.84898537   1.           6.1716239 ]\n",
      "[192.21965342   0.           7.13635177] [194.1762713   1.          6.1716239]\n",
      "[119.83890708   0.           7.13635177] [125.83226331   1.           6.1716239 ]\n",
      "[111.19826628   0.           7.13635177] [121.87696201   1.           6.1716239 ]\n"
     ]
    }
   ],
   "source": [
    "print(np.mean(datame,axis=0),np.mean(datameo,axis=0))\n",
    "print(np.mean(datama,axis=0),np.mean(datamao,axis=0))\n",
    "print(np.mean(datami,axis=0),np.mean(datamio,axis=0))\n",
    "print(np.mean(datar,axis=0),np.mean(dataro,axis=0))"
   ]
  },
  {
   "cell_type": "code",
   "execution_count": 28,
   "metadata": {},
   "outputs": [],
   "source": [
    "datamep=pd.DataFrame(datame)\n",
    "datamep.columns=['DV','IV','type']\n",
    "datamap=pd.DataFrame(datama)\n",
    "datamap.columns=['DV','IV','type']\n",
    "datamip=pd.DataFrame(datami)\n",
    "datamip.columns=['DV','IV','type']\n",
    "datarp=pd.DataFrame(datar)\n",
    "datarp.columns=['DV','IV','type']"
   ]
  },
  {
   "cell_type": "code",
   "execution_count": 43,
   "metadata": {},
   "outputs": [],
   "source": [
    "med=smf.mixedlm(\"DV~IV\",datamep,groups=datamep['type'])\n",
    "medf = med.fit(method=['powell'])\n",
    "\n",
    "mad=smf.mixedlm(\"DV~IV\",datamap,groups=datamap['type'])\n",
    "madf = mad.fit(method=['powell'])\n",
    "\n",
    "mid=smf.mixedlm(\"DV~IV\",datamip,groups=datamip['type'])\n",
    "midf = mid.fit(method=['powell'])\n",
    "\n",
    "rd=smf.mixedlm(\"DV~IV\",datarp,groups=datarp['type'])\n",
    "rdf = rd.fit(method=['powell'])"
   ]
  },
  {
   "cell_type": "code",
   "execution_count": 44,
   "metadata": {},
   "outputs": [
    {
     "name": "stdout",
     "output_type": "stream",
     "text": [
      "           Mixed Linear Model Regression Results\n",
      "===========================================================\n",
      "Model:            MixedLM Dependent Variable: DV           \n",
      "No. Observations: 184710  Method:             REML         \n",
      "No. Groups:       6       Scale:              10612.5749   \n",
      "Min. group size:  18510   Log-Likelihood:     -1118222.7361\n",
      "Max. group size:  46001   Converged:          Yes          \n",
      "Mean group size:  30785.0                                  \n",
      "-----------------------------------------------------------\n",
      "              Coef.   Std.Err.   z    P>|z|  [0.025  0.975]\n",
      "-----------------------------------------------------------\n",
      "Intercept     141.167   13.550 10.418 0.000 114.609 167.725\n",
      "IV              8.119    0.935  8.685 0.000   6.287   9.951\n",
      "Group Var    1096.791    6.771                             \n",
      "===========================================================\n",
      "\n",
      "           Mixed Linear Model Regression Results\n",
      "===========================================================\n",
      "Model:            MixedLM Dependent Variable: DV           \n",
      "No. Observations: 184710  Method:             REML         \n",
      "No. Groups:       6       Scale:              24367.5311   \n",
      "Min. group size:  18510   Log-Likelihood:     -1194987.6207\n",
      "Max. group size:  46001   Converged:          Yes          \n",
      "Mean group size:  30785.0                                  \n",
      "-----------------------------------------------------------\n",
      "              Coef.   Std.Err.   z    P>|z|  [0.025  0.975]\n",
      "-----------------------------------------------------------\n",
      "Intercept     171.006   17.291  9.890 0.000 137.117 204.896\n",
      "IV             17.822    1.416 12.582 0.000  15.046  20.599\n",
      "Group Var    1782.719    6.721                             \n",
      "===========================================================\n",
      "\n",
      "           Mixed Linear Model Regression Results\n",
      "===========================================================\n",
      "Model:            MixedLM Dependent Variable: DV           \n",
      "No. Observations: 184710  Method:             REML         \n",
      "No. Groups:       6       Scale:              7286.4333    \n",
      "Min. group size:  18510   Log-Likelihood:     -1083495.0981\n",
      "Max. group size:  46001   Converged:          Yes          \n",
      "Mean group size:  30785.0                                  \n",
      "-----------------------------------------------------------\n",
      "               Coef.  Std.Err.   z    P>|z|  [0.025  0.975]\n",
      "-----------------------------------------------------------\n",
      "Intercept     121.535   10.823 11.229 0.000 100.321 142.748\n",
      "IV              4.305    0.775  5.557 0.000   2.787   5.823\n",
      "Group Var     699.515    5.296                             \n",
      "===========================================================\n",
      "\n",
      "           Mixed Linear Model Regression Results\n",
      "===========================================================\n",
      "Model:            MixedLM Dependent Variable: DV           \n",
      "No. Observations: 184710  Method:             REML         \n",
      "No. Groups:       6       Scale:              14513.8085   \n",
      "Min. group size:  18510   Log-Likelihood:     -1147131.9361\n",
      "Max. group size:  46001   Converged:          Yes          \n",
      "Mean group size:  30785.0                                  \n",
      "------------------------------------------------------------\n",
      "            Coef.   Std.Err.    z     P>|z|  [0.025   0.975]\n",
      "------------------------------------------------------------\n",
      "Intercept  103.762     8.356  12.418  0.000  87.386  120.139\n",
      "IV          14.618     1.093  13.372  0.000  12.475   16.760\n",
      "Group Var  412.258     2.356                                \n",
      "===========================================================\n",
      "\n"
     ]
    }
   ],
   "source": [
    "print(medf.summary())\n",
    "print(madf.summary())\n",
    "print(midf.summary())\n",
    "print(rdf.summary())"
   ]
  },
  {
   "cell_type": "code",
   "execution_count": null,
   "metadata": {},
   "outputs": [],
   "source": [
    "disall,pathall=fastdtw(yall[:,0],yiall[:,0],dist=euclidean)\n",
    "disallo,pathallo=fastdtw(yallo[:,0],yiallo[:,0],dist=euclidean)\n",
    "print(disall/(len(yall)+len(yiall)),disallo/(len(yallo)+len(yiallo)))"
   ]
  },
  {
   "cell_type": "code",
   "execution_count": null,
   "metadata": {},
   "outputs": [],
   "source": [
    "disall,pathall=fastdtw(yall[:,1],yiall[:,1],dist=euclidean)\n",
    "disallo,pathallo=fastdtw(yallo[:,1],yiallo[:,1],dist=euclidean)\n",
    "print(disall/(len(yall)+len(yiall)),disallo/(len(yallo)+len(yiallo)))"
   ]
  },
  {
   "cell_type": "code",
   "execution_count": null,
   "metadata": {},
   "outputs": [],
   "source": [
    "disall,pathall=fastdtw(yall[:,2],yiall[:,2],dist=euclidean)\n",
    "disallo,pathallo=fastdtw(yallo[:,2],yiallo[:,2],dist=euclidean)\n",
    "print(disall/(len(yall)+len(yiall)),disallo/(len(yallo)+len(yiallo)))"
   ]
  },
  {
   "cell_type": "code",
   "execution_count": null,
   "metadata": {},
   "outputs": [],
   "source": [
    "disall,pathall=fastdtw(yall[:,3],yiall[:,3],dist=euclidean)\n",
    "disallo,pathallo=fastdtw(yallo[:,3],yiallo[:,3],dist=euclidean)\n",
    "print(disall/(len(yall)+len(yiall)),disallo/(len(yallo)+len(yiallo)))"
   ]
  },
  {
   "cell_type": "code",
   "execution_count": null,
   "metadata": {},
   "outputs": [],
   "source": [
    "len(yall)"
   ]
  },
  {
   "cell_type": "code",
   "execution_count": null,
   "metadata": {},
   "outputs": [],
   "source": [
    "print(stats.pearsonr(yall[:,1],yiall[:,1]))\n",
    "print(stats.pearsonr(yallc[:,1],yiallc[:,1]))"
   ]
  },
  {
   "cell_type": "code",
   "execution_count": null,
   "metadata": {},
   "outputs": [],
   "source": [
    "print(stats.pearsonr(yall[:,2],yiall[:,2]))\n",
    "print(stats.pearsonr(yallc[:,2],yiallc[:,2]))"
   ]
  },
  {
   "cell_type": "code",
   "execution_count": null,
   "metadata": {},
   "outputs": [],
   "source": [
    "print(stats.pearsonr(yall[:,3],yiall[:,3]))\n",
    "print(stats.pearsonr(yallc[:,3],yiallc[:,3]))"
   ]
  },
  {
   "cell_type": "code",
   "execution_count": null,
   "metadata": {},
   "outputs": [],
   "source": [
    "plt.scatter(yall[:,1],yiall[:,1])"
   ]
  },
  {
   "cell_type": "code",
   "execution_count": null,
   "metadata": {},
   "outputs": [],
   "source": [
    "def aligncon(y,yi,featurenum):\n",
    "    yalltest=np.zeros((39600,1))-20\n",
    "    y1mean=y[:,featurenum]\n",
    "    y1imean=yi[:,featurenum]\n",
    "    yalltest[np.where(y1mean!=-20),0]=y1mean[np.where(y1mean!=-20)].ravel()\n",
    "    yalltest[np.where(y1imean!=-40),0]=y1imean[np.where(y1imean!=-40)].ravel()\n",
    "    indtest=np.where(yalltest!=-20)\n",
    "    indtest0=indtest[0]\n",
    "    con=1\n",
    "    constarttime=[]\n",
    "    conendtime=[]\n",
    "    constarttime.append(indtest0[0])\n",
    "    for i in range(len(indtest0)-1):\n",
    "        difh=indtest0[i+1]-indtest0[i]\n",
    "        if difh>=3600:\n",
    "            con=con+1\n",
    "            conendtime.append(indtest0[i])\n",
    "            constarttime.append(indtest0[i+1])\n",
    "    conendtime.append(indtest0[-1])\n",
    "    aligncon=[]\n",
    "    alignp=[]\n",
    "    for i in range(con):\n",
    "        y1meant=y1mean[constarttime[i]-1:conendtime[i]+2]\n",
    "        print(constarttime[i],conendtime[i])\n",
    "        y1ttt=y1meant[np.where(y1meant!=-20)]\n",
    "        y1imeant=y1imean[constarttime[i]-1:conendtime[i]+2]\n",
    "        y1ittt=y1imeant[np.where(y1imeant!=-40)]\n",
    "        print(len(y1ttt),len(y1ittt))\n",
    "        if len(y1ttt)>2:\n",
    "            corr=stats.pearsonr(y1ttt,y1ittt)\n",
    "            print(corr)\n",
    "            aligncon.append(corr[0])\n",
    "            alignp.append(corr[1])\n",
    "    return aligncon,alignp"
   ]
  },
  {
   "cell_type": "code",
   "execution_count": null,
   "metadata": {},
   "outputs": [],
   "source": [
    "align1,alignp1=aligncon(yout1,youti1,0)\n",
    "align2,alignp2=aligncon(yout2,youti2,0)\n",
    "align3,alignp3=aligncon(yout3,youti3,0)\n",
    "align4,alignp4=aligncon(yout4,youti4,0)\n",
    "align5,alignp5=aligncon(yout5,youti5,0)\n",
    "align6,alignp6=aligncon(yout6,youti6,0)\n",
    "align7,alignp7=aligncon(yout7,youti7,0)\n",
    "align8,alignp8=aligncon(yout8,youti8,0)\n",
    "align9,alignp9=aligncon(yout9,youti9,0)"
   ]
  },
  {
   "cell_type": "code",
   "execution_count": null,
   "metadata": {},
   "outputs": [],
   "source": [
    "ytest=yout2[29308:31723,0]\n",
    "print(ytest[np.where(yout2[29308:31723,0]!=-20)])\n",
    "ytest=youti2[29308:31723,0]\n",
    "print(ytest[np.where(youti2[29308:31723,0]!=-40)])"
   ]
  }
 ],
 "metadata": {
  "kernelspec": {
   "display_name": "Python 3",
   "language": "python",
   "name": "python3"
  },
  "language_info": {
   "codemirror_mode": {
    "name": "ipython",
    "version": 3
   },
   "file_extension": ".py",
   "mimetype": "text/x-python",
   "name": "python",
   "nbconvert_exporter": "python",
   "pygments_lexer": "ipython3",
   "version": "3.8.5"
  }
 },
 "nbformat": 4,
 "nbformat_minor": 4
}
