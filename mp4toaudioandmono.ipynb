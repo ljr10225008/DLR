{
 "cells": [
  {
   "cell_type": "code",
   "execution_count": 1,
   "metadata": {},
   "outputs": [
    {
     "name": "stderr",
     "output_type": "stream",
     "text": [
      "C:\\Users\\ljr\\anaconda3\\lib\\site-packages\\pandas\\core\\computation\\expressions.py:20: UserWarning: Pandas requires version '2.7.3' or newer of 'numexpr' (version '2.7.1' currently installed).\n",
      "  from pandas.core.computation.check import NUMEXPR_INSTALLED\n"
     ]
    }
   ],
   "source": [
    "import librosa\n",
    "import matplotlib.pyplot as plt\n",
    "import librosa.display \n",
    "import numpy as np\n",
    "import sox\n",
    "import os\n",
    "import soundfile as sf\n",
    "from itertools import groupby\n",
    "import pandas as pd\n",
    "import scipy\n",
    "from pydub import AudioSegment"
   ]
  },
  {
   "cell_type": "code",
   "execution_count": 2,
   "metadata": {},
   "outputs": [
    {
     "data": {
      "text/plain": [
       "<_io.BufferedRandom name='F:\\\\hanako\\\\Alice_final.wav'>"
      ]
     },
     "execution_count": 2,
     "metadata": {},
     "output_type": "execute_result"
    }
   ],
   "source": [
    "# convert video to audio\n",
    "pathv=r'F:\\hanako' # path to your video\n",
    "name_video='Alice_final.mp4'\n",
    "name_audio=name_video.split('.')[0]+'.wav'\n",
    "nameout=pathv+\"\\\\\"+name_audio\n",
    "stream=AudioSegment.from_file(pathv+\"\\\\\"+name_video,\"mp4\") \n",
    "stream.export(nameout, format=\"wav\")"
   ]
  },
  {
   "cell_type": "code",
   "execution_count": 3,
   "metadata": {},
   "outputs": [
    {
     "name": "stdout",
     "output_type": "stream",
     "text": [
      "2\n"
     ]
    }
   ],
   "source": [
    "from pydub import AudioSegment  \n",
    "wav= AudioSegment.from_file(file=nameout, format=\"wav\")  \n",
    "print(wav.channels) "
   ]
  },
  {
   "cell_type": "code",
   "execution_count": 5,
   "metadata": {},
   "outputs": [],
   "source": [
    "xt, srt = librosa.load(nameout,sr=None)\n",
    "datat = librosa.resample(xt, srt, 16000)\n",
    "#y_mono = librosa.to_mono(xt)\n",
    "y_mono = librosa.to_mono(datat)\n",
    "a=pathv+\"\\\\\"+'testm.wav'\n",
    "sf.write(a, y_mono, 16000, format='wav')"
   ]
  }
 ],
 "metadata": {
  "kernelspec": {
   "display_name": "Python 3",
   "language": "python",
   "name": "python3"
  },
  "language_info": {
   "codemirror_mode": {
    "name": "ipython",
    "version": 3
   },
   "file_extension": ".py",
   "mimetype": "text/x-python",
   "name": "python",
   "nbconvert_exporter": "python",
   "pygments_lexer": "ipython3",
   "version": "3.8.5"
  }
 },
 "nbformat": 4,
 "nbformat_minor": 4
}
