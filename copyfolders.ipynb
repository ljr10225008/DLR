{
 "cells": [
  {
   "cell_type": "code",
   "execution_count": 4,
   "metadata": {},
   "outputs": [],
   "source": [
    "import shutil\n",
    "import os\n",
    "import numpy as np"
   ]
  },
  {
   "cell_type": "code",
   "execution_count": 16,
   "metadata": {},
   "outputs": [],
   "source": [
    "pathpp=r'F:\\DLR\\processedbydate\\0730_ELAN\\18m'\n",
    "ppnames=sorted(os.listdir(pathpp))"
   ]
  },
  {
   "cell_type": "code",
   "execution_count": 17,
   "metadata": {},
   "outputs": [
    {
     "name": "stdout",
     "output_type": "stream",
     "text": [
      "['809', '810', '812', '813', '814', '815', '819', '820']\n"
     ]
    }
   ],
   "source": [
    "print(ppnames)"
   ]
  },
  {
   "cell_type": "code",
   "execution_count": 18,
   "metadata": {},
   "outputs": [],
   "source": [
    "for j in range(len(ppnames)):\n",
    "    folderpp=ppnames[j]\n",
    "    parent_d = r'F:\\DLR\\processedbydate\\0730_ELAN\\18m'\n",
    "    parent_dir = parent_d+'\\\\'+folderpp+'\\\\'+'text' \n",
    "    pathf=r'F:\\DLR\\processedbydate\\20240703_processed\\18m'\n",
    "    pathfolder=pathf+'\\\\'+folderpp\n",
    "    foldername=os.listdir(pathfolder)\n",
    "    audiop=r'F:\\DLR\\processedbydate\\0730_ELAN\\18m'\n",
    "    audiopath=audiop+'\\\\'+folderpp\n",
    "    audioname=os.listdir(audiopath)\n",
    "    for i in range(len(audioname)-1):\n",
    "        if audioname[i].split('.')[0]!='text':\n",
    "            directory=audioname[i].split('.')[0]\n",
    "            path = os.path.join(parent_dir, directory) \n",
    "            folder = os.path.exists(path)\n",
    "            if not folder:\n",
    "                os.mkdir(path) \n",
    "            ind=np.where(foldername==directory)[0]\n",
    "            pathold=pathfolder+'\\\\'+directory\n",
    "            new_path = shutil.copytree(pathold, path, dirs_exist_ok=True)"
   ]
  },
  {
   "cell_type": "code",
   "execution_count": null,
   "metadata": {},
   "outputs": [],
   "source": []
  }
 ],
 "metadata": {
  "kernelspec": {
   "display_name": "Python 3",
   "language": "python",
   "name": "python3"
  },
  "language_info": {
   "codemirror_mode": {
    "name": "ipython",
    "version": 3
   },
   "file_extension": ".py",
   "mimetype": "text/x-python",
   "name": "python",
   "nbconvert_exporter": "python",
   "pygments_lexer": "ipython3",
   "version": "3.8.5"
  }
 },
 "nbformat": 4,
 "nbformat_minor": 4
}
