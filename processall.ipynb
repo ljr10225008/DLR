{
 "cells": [
  {
   "cell_type": "code",
   "execution_count": 9,
   "metadata": {},
   "outputs": [],
   "source": [
    "import librosa\n",
    "import matplotlib.pyplot as plt\n",
    "import librosa.display \n",
    "import numpy as np\n",
    "import sox\n",
    "import os\n",
    "import soundfile as sf\n",
    "from itertools import groupby\n",
    "import pandas as pd"
   ]
  },
  {
   "cell_type": "code",
   "execution_count": 10,
   "metadata": {},
   "outputs": [],
   "source": [
    "path=r\"F:\\DLR\\ALICE\\6mALICEplus\" #path to the ALICE folder\n",
    "paths=r\"F:\\DLR\\matchedspeakersound\\6mplus\\6mspeaker\" #save the outputs in the same folder or you could create new folders"
   ]
  },
  {
   "cell_type": "code",
   "execution_count": 11,
   "metadata": {},
   "outputs": [],
   "source": [
    "folders=os.listdir(path)\n",
    "folders.sort()"
   ]
  },
  {
   "cell_type": "code",
   "execution_count": 12,
   "metadata": {},
   "outputs": [],
   "source": [
    "def newfolder(pathin):\n",
    "    folder = os.path.exists(pathin)\n",
    "    if not folder:\n",
    "        os.makedirs(pathin)"
   ]
  },
  {
   "cell_type": "code",
   "execution_count": 13,
   "metadata": {},
   "outputs": [],
   "source": [
    "for i in range(len(folders)):\n",
    "    pathtem=paths+'\\\\'+folders[i]\n",
    "    newfolder(pathtem)"
   ]
  },
  {
   "cell_type": "code",
   "execution_count": 14,
   "metadata": {},
   "outputs": [],
   "source": [
    "def outputall(path,paths,folder,folderin):\n",
    "    i=0 \n",
    "    with open(path+'\\\\'+folder+'\\\\'+'diarization_output.rttm', 'r', encoding='utf-8') as f: \n",
    "        lines = f.readlines()\n",
    "        line_n=len(lines)\n",
    "        startp=np.zeros((line_n,1))\n",
    "        duration=np.zeros((line_n,1))\n",
    "        who=[np.nan]*line_n\n",
    "    with open(path+'\\\\'+folder+'\\\\'+'diarization_output.rttm', 'r', encoding='utf-8') as f:\n",
    "        for line in f:\n",
    "            line=line.split(' ')\n",
    "            startp[i]=line[3] #start of an utterance\n",
    "            duration[i]=line[4] #duration of an utterance\n",
    "            who[i]=line[7] #who is the speaker of an utterance\n",
    "            i=i+1\n",
    "    endtime=startp+duration # calculate the endtime of an utterance\n",
    "    startend=np.c_[startp,endtime]\n",
    "    for i in range(len(startend)): # Line labeled as 'SPEECH' is confused, remove them\n",
    "        if who[i]=='SPEECH':\n",
    "            startend[i,:]=np.nan\n",
    "    startendclear=startend[~np.isnan(startend).all(axis=1), :]\n",
    "    whoclear=[]\n",
    "    for i in range(len(startend)):\n",
    "        if who[i]!='SPEECH':\n",
    "            whoclear.append(who[i])\n",
    "    conlabel=np.zeros((len(startendclear))) #initial the conversation block No.\n",
    "    label=1\n",
    "    for i in range(len(startendclear)):\n",
    "        if i!=0:\n",
    "            diff=startendclear[i,0]-startendclear[i-1,1] #latter startime-former endtime\n",
    "            if (diff>=-3)&(diff<=3):\n",
    "                conlabel[i]=label\n",
    "            else:\n",
    "                label=label+1\n",
    "                conlabel[i]=label\n",
    "        conlabel[0]=1\n",
    "    temp=np.c_[startendclear,conlabel]\n",
    "    groups = [(k, sum(1 for _ in g)) for k, g in groupby(temp[:,-1])] #If the conversation includes more than 2 (>=2) utterance, label as 1,2,3,..., or is 0\n",
    "    multilabel=np.zeros((len(startendclear)))\n",
    "    groupsn=np.zeros((len(groups),1))\n",
    "    conchild=np.zeros((len(startendclear)))\n",
    "    labelm=1\n",
    "    for i in range(len(groups)):\n",
    "        groupsn[i]=groups[i][1]\n",
    "    for i in range(len(groupsn)):\n",
    "        if groupsn[i]>=2:\n",
    "            multilabel[int(np.sum(groupsn[:i])):int(np.sum(groupsn[:i+1]))]=labelm\n",
    "            whot=whoclear[int(np.sum(groupsn[:i])):int(np.sum(groupsn[:i+1]))]\n",
    "            if ('KCHI'in whot) or ('CHI'in whot): # if the conversation contains children's speech, it will be labeled as 1, or is 0\n",
    "                conchild[int(np.sum(groupsn[:i])):int(np.sum(groupsn[:i+1]))]=1\n",
    "            labelm=labelm+1\n",
    "    #alls=np.c_[startendclear,whoclear,multilabel,conchild]\n",
    "    alls=np.c_[startendclear,whoclear]\n",
    "    allsp=pd.DataFrame(alls)\n",
    "    allsp.columns=['Starttime','Endtime','Speaker']\n",
    "    allsp.to_csv(paths+'\\\\'+folderin+'\\\\'+folder+'VTC.csv')"
   ]
  },
  {
   "cell_type": "code",
   "execution_count": 15,
   "metadata": {},
   "outputs": [],
   "source": [
    "pathsave=r'F:\\DLR\\matchedspeakersound\\6mplus\\6mspeaker' #path to save the output csv"
   ]
  },
  {
   "cell_type": "code",
   "execution_count": 16,
   "metadata": {},
   "outputs": [],
   "source": [
    "for i in range(len(folders)):\n",
    "    pathpath=path+\"\\\\\"+folders[i]\n",
    "    folderin=os.listdir(pathpath)\n",
    "    for j in range(len(folderin)):\n",
    "        outputall(pathpath,pathsave,folderin[j],folders[i])"
   ]
  }
 ],
 "metadata": {
  "kernelspec": {
   "display_name": "Python 3",
   "language": "python",
   "name": "python3"
  },
  "language_info": {
   "codemirror_mode": {
    "name": "ipython",
    "version": 3
   },
   "file_extension": ".py",
   "mimetype": "text/x-python",
   "name": "python",
   "nbconvert_exporter": "python",
   "pygments_lexer": "ipython3",
   "version": "3.8.5"
  }
 },
 "nbformat": 4,
 "nbformat_minor": 4
}
