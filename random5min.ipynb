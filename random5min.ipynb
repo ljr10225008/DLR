{
 "cells": [
  {
   "cell_type": "code",
   "execution_count": 313,
   "metadata": {},
   "outputs": [],
   "source": [
    "import librosa\n",
    "import matplotlib.pyplot as plt\n",
    "import librosa.display \n",
    "import numpy as np\n",
    "import sox\n",
    "import os\n",
    "import soundfile as sf\n",
    "from itertools import groupby\n",
    "import pandas as pd\n",
    "import random"
   ]
  },
  {
   "cell_type": "code",
   "execution_count": 314,
   "metadata": {},
   "outputs": [],
   "source": [
    "path=r\"F:\\DLR\\matchedspeakersound\\new_0730\\speaker\\18m\\820\" # path to the speaker files for each child\n",
    "paths=r\"F:\\DLR\\random0730text\\18m\\820\" # path to save the outputs"
   ]
  },
  {
   "cell_type": "code",
   "execution_count": 315,
   "metadata": {},
   "outputs": [],
   "source": [
    "speaker=os.listdir(path) # read the speaker folders\n",
    "speaker.sort()"
   ]
  },
  {
   "cell_type": "code",
   "execution_count": 316,
   "metadata": {},
   "outputs": [],
   "source": [
    "if len(speaker)>=24: # if the length longer than 12 hours, choose day1 or day2\n",
    "    day_random=random.randint(1,2)\n",
    "    timepause=int(len(speaker)/6) # time stamp for choose the 30min clips\n",
    "else:\n",
    "    day_random=1 # or else only use the data of day1\n",
    "    timepause=int(len(speaker)/3)"
   ]
  },
  {
   "cell_type": "code",
   "execution_count": 317,
   "metadata": {},
   "outputs": [],
   "source": [
    "if day_random==1: # decide the time stamps based on the random day number\n",
    "    timedayindex=[0,timepause,timepause*2,timepause*3]\n",
    "else:\n",
    "    timedayindex=[timepause*3,timepause*4,timepause*5,timepause*6]"
   ]
  },
  {
   "cell_type": "code",
   "execution_count": 318,
   "metadata": {},
   "outputs": [
    {
     "name": "stdout",
     "output_type": "stream",
     "text": [
      "5 257\n",
      "5 365\n",
      "5 365\n",
      "365 257\n"
     ]
    }
   ],
   "source": [
    "#random morning #choose two files both have kchi>30\n",
    "kchi1=0 \n",
    "kchi2=0\n",
    "iii=0\n",
    "while kchi1<30 or kchi2<30:\n",
    "    iii=iii+1\n",
    "    randommorning=random.sample(range(timedayindex[0],timedayindex[1]),2)\n",
    "    fileindex1=int(randommorning[0])\n",
    "    fileread1= pd.read_csv(path+'\\\\'+speaker[fileindex1])\n",
    "    speaker1=fileread1['Speaker']\n",
    "    fileindex2=int(randommorning[1])\n",
    "    fileread2= pd.read_csv(path+'\\\\'+speaker[fileindex2])\n",
    "    speaker2=fileread2['Speaker']\n",
    "    indkchi1=np.where(speaker1=='KCHI')\n",
    "    kchi1=len(indkchi1[0])\n",
    "    indkchi2=np.where(speaker2=='KCHI')\n",
    "    kchi2=len(indkchi2[0])\n",
    "    print(kchi1,kchi2)\n",
    "    if kchi1>30 and kchi2>30:\n",
    "        break\n",
    "    #elif iii>1000:\n",
    "        #break"
   ]
  },
  {
   "cell_type": "code",
   "execution_count": 319,
   "metadata": {},
   "outputs": [
    {
     "name": "stdout",
     "output_type": "stream",
     "text": [
      "3 183\n",
      "2 183\n",
      "2 215\n",
      "3 183\n",
      "183 2\n",
      "3 2\n",
      "3 183\n",
      "3 183\n",
      "215 2\n",
      "3 215\n",
      "183 3\n",
      "2 215\n",
      "2 183\n",
      "2 215\n",
      "183 2\n",
      "183 2\n",
      "215 183\n"
     ]
    }
   ],
   "source": [
    "#random noon\n",
    "kchi1=0\n",
    "kchi2=0\n",
    "while kchi1<30 or kchi2<30:\n",
    "    randomnoon=random.sample(range(timedayindex[1]+1,timedayindex[2]),2)\n",
    "    fileindex1=int(randomnoon[0])\n",
    "    fileread1= pd.read_csv(path+'\\\\'+speaker[fileindex1])\n",
    "    speaker1=fileread1['Speaker']\n",
    "    fileindex2=int(randomnoon[1])\n",
    "    fileread2= pd.read_csv(path+'\\\\'+speaker[fileindex2])\n",
    "    speaker2=fileread2['Speaker']\n",
    "    indkchi1=np.where(speaker1=='KCHI')\n",
    "    kchi1=len(indkchi1[0])\n",
    "    indkchi2=np.where(speaker2=='KCHI')\n",
    "    kchi2=len(indkchi2[0])\n",
    "    print(kchi1,kchi2)\n",
    "    if kchi1>=30 and kchi2>=30:\n",
    "        break"
   ]
  },
  {
   "cell_type": "code",
   "execution_count": 320,
   "metadata": {},
   "outputs": [
    {
     "name": "stdout",
     "output_type": "stream",
     "text": [
      "234 197\n"
     ]
    }
   ],
   "source": [
    "# random afternoon\n",
    "kchi1=0\n",
    "kchi2=0\n",
    "while kchi1<30 or kchi2<30:\n",
    "    randomafternoon=random.sample(range(timedayindex[2]+1,timedayindex[3]),2)\n",
    "    fileindex1=int(randomafternoon[0])\n",
    "    fileread1= pd.read_csv(path+'\\\\'+speaker[fileindex1])\n",
    "    speaker1=fileread1['Speaker']\n",
    "    fileindex2=int(randomafternoon[1])\n",
    "    fileread2= pd.read_csv(path+'\\\\'+speaker[fileindex2])\n",
    "    speaker2=fileread2['Speaker']\n",
    "    indkchi1=np.where(speaker1=='KCHI')\n",
    "    kchi1=len(indkchi1[0])\n",
    "    indkchi2=np.where(speaker2=='KCHI')\n",
    "    kchi2=len(indkchi2[0])\n",
    "    print(kchi1,kchi2)\n",
    "    if kchi1>=30 and kchi2>=30:\n",
    "        break"
   ]
  },
  {
   "cell_type": "code",
   "execution_count": 321,
   "metadata": {},
   "outputs": [],
   "source": [
    "#randommorning=random.sample(range(timedayindex[0],timedayindex[1]),2)\n",
    "#randomnoon=random.sample(range(timedayindex[1]+1,timedayindex[2]),2)\n",
    "#randomafternoon=random.sample(range(timedayindex[2]+1,timedayindex[3]),2)"
   ]
  },
  {
   "cell_type": "code",
   "execution_count": 322,
   "metadata": {},
   "outputs": [],
   "source": [
    "#print(randommorning,randomnoon,randomafternoon)"
   ]
  },
  {
   "cell_type": "code",
   "execution_count": 323,
   "metadata": {},
   "outputs": [],
   "source": [
    "def fivemin(path,pathout,speakerin,randomin): # output the random selected files information\n",
    "    fem=0\n",
    "    i=0\n",
    "    while fem<10:\n",
    "        if i>=10:\n",
    "            break\n",
    "        morningstart=random.randint(0,1500)\n",
    "        morningend=morningstart+300\n",
    "        fileindex=int(randomin)\n",
    "        fileread= pd.read_csv(path+'\\\\'+speakerin[fileindex])\n",
    "        starttime=fileread['Starttime'].astype(float)\n",
    "        endtime=fileread['Endtime'].astype(float)\n",
    "        speaker=fileread['Speaker']\n",
    "        indstart=np.where(abs(starttime-morningstart)==np.min(abs(starttime-morningstart)))\n",
    "        indstart0=int(indstart[0])\n",
    "        indend=np.where(abs(endtime-morningend)==np.min(abs(endtime-morningend)))\n",
    "        indend0=int(indend[0])\n",
    "        speakertem=speaker[indstart0:indend0]\n",
    "        indfem=np.where(speakertem=='FEM')\n",
    "        fem=len(indfem[0])\n",
    "        \n",
    "        if fem>=10:\n",
    "            print(morningstart,morningend,fem)\n",
    "            output=np.c_[float(morningstart),float(morningend)]\n",
    "            #output=np.c_[float(morningstart),float(morningend),float(morningstart-120),float(morningend+120)]\n",
    "            allsp=pd.DataFrame(output)\n",
    "            #allsp.columns=['Starttime','Endtime','Starttime5','Endtime5']\n",
    "            allsp.columns=['Starttime','Endtime']\n",
    "            namesave=speakerin[fileindex].split('.')[0]+'.csv'\n",
    "            print(namesave)\n",
    "            allsp.to_csv(pathout+'\\\\'+namesave)\n",
    "            break\n",
    "        i=i+1"
   ]
  },
  {
   "cell_type": "code",
   "execution_count": 324,
   "metadata": {},
   "outputs": [
    {
     "name": "stdout",
     "output_type": "stream",
     "text": [
      "106 406 40\n",
      "0044-20190328-17_50_27-AudioVTC.csv\n",
      "72 372 44\n",
      "0044-20190328-18_20_28-AudioVTC.csv\n",
      "819 1119 36\n",
      "0044-20190328-21_20_36-AudioVTC.csv\n",
      "830 1130 46\n",
      "0044-20190328-20_50_35-AudioVTC.csv\n",
      "565 865 55\n",
      "0044-20190329-00_15_33-AudioVTC.csv\n",
      "1386 1686 106\n",
      "0044-20190329-01_15_36-AudioVTC.csv\n"
     ]
    }
   ],
   "source": [
    "fivemin(path,paths,speaker,randommorning[0])\n",
    "fivemin(path,paths,speaker,randommorning[1])\n",
    "fivemin(path,paths,speaker,randomnoon[0])\n",
    "fivemin(path,paths,speaker,randomnoon[1])\n",
    "fivemin(path,paths,speaker,randomafternoon[0])\n",
    "fivemin(path,paths,speaker,randomafternoon[1])"
   ]
  }
 ],
 "metadata": {
  "kernelspec": {
   "display_name": "Python 3",
   "language": "python",
   "name": "python3"
  },
  "language_info": {
   "codemirror_mode": {
    "name": "ipython",
    "version": 3
   },
   "file_extension": ".py",
   "mimetype": "text/x-python",
   "name": "python",
   "nbconvert_exporter": "python",
   "pygments_lexer": "ipython3",
   "version": "3.8.5"
  }
 },
 "nbformat": 4,
 "nbformat_minor": 4
}
