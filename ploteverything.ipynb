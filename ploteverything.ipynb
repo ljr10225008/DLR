{
 "cells": [
  {
   "cell_type": "code",
   "execution_count": 56,
   "metadata": {},
   "outputs": [],
   "source": [
    "import math\n",
    "import numpy as np\n",
    "import sklearn\n",
    "from sklearn.cluster import KMeans\n",
    "import matplotlib as mpl\n",
    "import matplotlib.pyplot as plt\n",
    "import librosa\n",
    "import librosa.display\n",
    "import os\n",
    "import re\n",
    "import seaborn as sns\n",
    "import pandas as pd\n",
    "import random\n",
    "from scipy import stats  #t-test\n",
    "import semopy\n",
    "import pandas as pd\n",
    "from semopy import Model\n",
    "import statsmodels.formula.api as smf\n",
    "import statsmodels.api as sm\n",
    "from scipy import stats"
   ]
  },
  {
   "cell_type": "code",
   "execution_count": 57,
   "metadata": {},
   "outputs": [],
   "source": [
    "tallme= pd.read_csv(r'C:\\LJR\\paper\\tseltalvsenglish\\dataplot\\Tseltal\\all\\allme.csv')\n",
    "tallmi= pd.read_csv(r'C:\\LJR\\paper\\tseltalvsenglish\\dataplot\\Tseltal\\all\\allmi.csv')\n",
    "tallma= pd.read_csv(r'C:\\LJR\\paper\\tseltalvsenglish\\dataplot\\Tseltal\\all\\allma.csv')\n",
    "tallr= pd.read_csv(r'C:\\LJR\\paper\\tseltalvsenglish\\dataplot\\Tseltal\\all\\allr.csv')"
   ]
  },
  {
   "cell_type": "code",
   "execution_count": 58,
   "metadata": {},
   "outputs": [],
   "source": [
    "eallme= pd.read_csv(r'C:\\LJR\\paper\\tseltalvsenglish\\dataplot\\English\\all\\allme.csv')\n",
    "eallmi= pd.read_csv(r'C:\\LJR\\paper\\tseltalvsenglish\\dataplot\\English\\all\\allmi.csv')\n",
    "eallma= pd.read_csv(r'C:\\LJR\\paper\\tseltalvsenglish\\dataplot\\English\\all\\allma.csv')\n",
    "eallr= pd.read_csv(r'C:\\LJR\\paper\\tseltalvsenglish\\dataplot\\English\\all\\allr.csv')"
   ]
  },
  {
   "cell_type": "code",
   "execution_count": 59,
   "metadata": {},
   "outputs": [],
   "source": [
    "tconme= pd.read_csv(r'C:\\LJR\\paper\\tseltalvsenglish\\dataplot\\Tseltal\\conversation\\conme.csv')\n",
    "tconmi= pd.read_csv(r'C:\\LJR\\paper\\tseltalvsenglish\\dataplot\\Tseltal\\conversation\\conmi.csv')\n",
    "tconma= pd.read_csv(r'C:\\LJR\\paper\\tseltalvsenglish\\dataplot\\Tseltal\\conversation\\conma.csv')\n",
    "tconr= pd.read_csv(r'C:\\LJR\\paper\\tseltalvsenglish\\dataplot\\Tseltal\\conversation\\conr.csv')"
   ]
  },
  {
   "cell_type": "code",
   "execution_count": 60,
   "metadata": {},
   "outputs": [],
   "source": [
    "econme= pd.read_csv(r'C:\\LJR\\paper\\tseltalvsenglish\\dataplot\\English\\conversation\\conme.csv')\n",
    "econmi= pd.read_csv(r'C:\\LJR\\paper\\tseltalvsenglish\\dataplot\\English\\conversation\\conmi.csv')\n",
    "econma= pd.read_csv(r'C:\\LJR\\paper\\tseltalvsenglish\\dataplot\\English\\conversation\\conma.csv')\n",
    "econr= pd.read_csv(r'C:\\LJR\\paper\\tseltalvsenglish\\dataplot\\English\\conversation\\conr.csv')"
   ]
  },
  {
   "cell_type": "code",
   "execution_count": 61,
   "metadata": {},
   "outputs": [],
   "source": [
    "tmsme= pd.read_csv(r'C:\\LJR\\paper\\tseltalvsenglish\\dataplot\\Tseltal\\turn\\msme.csv')\n",
    "tmsmi= pd.read_csv(r'C:\\LJR\\paper\\tseltalvsenglish\\dataplot\\Tseltal\\turn\\msmi.csv')\n",
    "tmsma= pd.read_csv(r'C:\\LJR\\paper\\tseltalvsenglish\\dataplot\\Tseltal\\turn\\msma.csv')\n",
    "tmsr= pd.read_csv(r'C:\\LJR\\paper\\tseltalvsenglish\\dataplot\\Tseltal\\turn\\msr.csv')"
   ]
  },
  {
   "cell_type": "code",
   "execution_count": 62,
   "metadata": {},
   "outputs": [],
   "source": [
    "tcsme= pd.read_csv(r'C:\\LJR\\paper\\tseltalvsenglish\\dataplot\\Tseltal\\turn\\csme.csv')\n",
    "tcsmi= pd.read_csv(r'C:\\LJR\\paper\\tseltalvsenglish\\dataplot\\Tseltal\\turn\\csmi.csv')\n",
    "tcsma= pd.read_csv(r'C:\\LJR\\paper\\tseltalvsenglish\\dataplot\\Tseltal\\turn\\csma.csv')\n",
    "tcsr= pd.read_csv(r'C:\\LJR\\paper\\tseltalvsenglish\\dataplot\\Tseltal\\turn\\csr.csv')"
   ]
  },
  {
   "cell_type": "code",
   "execution_count": 63,
   "metadata": {},
   "outputs": [],
   "source": [
    "emsme= pd.read_csv(r'C:\\LJR\\paper\\tseltalvsenglish\\dataplot\\English\\turn\\msme.csv')\n",
    "emsmi= pd.read_csv(r'C:\\LJR\\paper\\tseltalvsenglish\\dataplot\\English\\turn\\msmi.csv')\n",
    "emsma= pd.read_csv(r'C:\\LJR\\paper\\tseltalvsenglish\\dataplot\\English\\turn\\msma.csv')\n",
    "emsr= pd.read_csv(r'C:\\LJR\\paper\\tseltalvsenglish\\dataplot\\English\\turn\\msr.csv')"
   ]
  },
  {
   "cell_type": "code",
   "execution_count": 64,
   "metadata": {},
   "outputs": [],
   "source": [
    "ecsme= pd.read_csv(r'C:\\LJR\\paper\\tseltalvsenglish\\dataplot\\English\\turn\\csme.csv')\n",
    "ecsmi= pd.read_csv(r'C:\\LJR\\paper\\tseltalvsenglish\\dataplot\\English\\turn\\csmi.csv')\n",
    "ecsma= pd.read_csv(r'C:\\LJR\\paper\\tseltalvsenglish\\dataplot\\English\\turn\\csma.csv')\n",
    "ecsr= pd.read_csv(r'C:\\LJR\\paper\\tseltalvsenglish\\dataplot\\English\\turn\\csr.csv')"
   ]
  },
  {
   "cell_type": "code",
   "execution_count": 65,
   "metadata": {},
   "outputs": [],
   "source": [
    "tmstdme= pd.read_csv(r'C:\\LJR\\paper\\tseltalvsenglish\\dataplot\\Tseltal\\conversation\\mmestd.csv')\n",
    "tmstdmi= pd.read_csv(r'C:\\LJR\\paper\\tseltalvsenglish\\dataplot\\Tseltal\\conversation\\mmistd.csv')\n",
    "tmstdma= pd.read_csv(r'C:\\LJR\\paper\\tseltalvsenglish\\dataplot\\Tseltal\\conversation\\mmastd.csv')\n",
    "tmstdr= pd.read_csv(r'C:\\LJR\\paper\\tseltalvsenglish\\dataplot\\Tseltal\\conversation\\mrstd.csv')"
   ]
  },
  {
   "cell_type": "code",
   "execution_count": 66,
   "metadata": {},
   "outputs": [],
   "source": [
    "tcstdme= pd.read_csv(r'C:\\LJR\\paper\\tseltalvsenglish\\dataplot\\Tseltal\\conversation\\cmestd.csv')\n",
    "tcstdmi= pd.read_csv(r'C:\\LJR\\paper\\tseltalvsenglish\\dataplot\\Tseltal\\conversation\\cmistd.csv')\n",
    "tcstdma= pd.read_csv(r'C:\\LJR\\paper\\tseltalvsenglish\\dataplot\\Tseltal\\conversation\\cmastd.csv')\n",
    "tcstdr= pd.read_csv(r'C:\\LJR\\paper\\tseltalvsenglish\\dataplot\\Tseltal\\conversation\\crstd.csv')"
   ]
  },
  {
   "cell_type": "code",
   "execution_count": 67,
   "metadata": {},
   "outputs": [],
   "source": [
    "emstdme= pd.read_csv(r'C:\\LJR\\paper\\tseltalvsenglish\\dataplot\\English\\conversation\\mmestd.csv')\n",
    "emstdmi= pd.read_csv(r'C:\\LJR\\paper\\tseltalvsenglish\\dataplot\\English\\conversation\\mmistd.csv')\n",
    "emstdma= pd.read_csv(r'C:\\LJR\\paper\\tseltalvsenglish\\dataplot\\English\\conversation\\mmastd.csv')\n",
    "emstdr= pd.read_csv(r'C:\\LJR\\paper\\tseltalvsenglish\\dataplot\\English\\conversation\\mrstd.csv')"
   ]
  },
  {
   "cell_type": "code",
   "execution_count": 68,
   "metadata": {},
   "outputs": [],
   "source": [
    "ecstdme= pd.read_csv(r'C:\\LJR\\paper\\tseltalvsenglish\\dataplot\\English\\conversation\\cmestd.csv')\n",
    "ecstdmi= pd.read_csv(r'C:\\LJR\\paper\\tseltalvsenglish\\dataplot\\English\\conversation\\cmistd.csv')\n",
    "ecstdma= pd.read_csv(r'C:\\LJR\\paper\\tseltalvsenglish\\dataplot\\English\\conversation\\cmastd.csv')\n",
    "ecstdr= pd.read_csv(r'C:\\LJR\\paper\\tseltalvsenglish\\dataplot\\English\\conversation\\crstd.csv')"
   ]
  },
  {
   "cell_type": "code",
   "execution_count": 69,
   "metadata": {},
   "outputs": [],
   "source": [
    "tmmeanme= pd.read_csv(r'C:\\LJR\\paper\\tseltalvsenglish\\dataplot\\Tseltal\\conversation\\mmemean.csv')\n",
    "tmmeanmi= pd.read_csv(r'C:\\LJR\\paper\\tseltalvsenglish\\dataplot\\Tseltal\\conversation\\mmimean.csv')\n",
    "tmmeanma= pd.read_csv(r'C:\\LJR\\paper\\tseltalvsenglish\\dataplot\\Tseltal\\conversation\\mmamean.csv')\n",
    "tmmeanr= pd.read_csv(r'C:\\LJR\\paper\\tseltalvsenglish\\dataplot\\Tseltal\\conversation\\mrmean.csv')"
   ]
  },
  {
   "cell_type": "code",
   "execution_count": 70,
   "metadata": {},
   "outputs": [],
   "source": [
    "tcmeanme= pd.read_csv(r'C:\\LJR\\paper\\tseltalvsenglish\\dataplot\\Tseltal\\conversation\\cmemean.csv')\n",
    "tcmeanmi= pd.read_csv(r'C:\\LJR\\paper\\tseltalvsenglish\\dataplot\\Tseltal\\conversation\\cmimean.csv')\n",
    "tcmeanma= pd.read_csv(r'C:\\LJR\\paper\\tseltalvsenglish\\dataplot\\Tseltal\\conversation\\cmamean.csv')\n",
    "tcmeanr= pd.read_csv(r'C:\\LJR\\paper\\tseltalvsenglish\\dataplot\\Tseltal\\conversation\\crmean.csv')"
   ]
  },
  {
   "cell_type": "code",
   "execution_count": 71,
   "metadata": {},
   "outputs": [],
   "source": [
    "emmeanme= pd.read_csv(r'C:\\LJR\\paper\\tseltalvsenglish\\dataplot\\English\\conversation\\mmemean.csv')\n",
    "emmeanmi= pd.read_csv(r'C:\\LJR\\paper\\tseltalvsenglish\\dataplot\\English\\conversation\\mmimean.csv')\n",
    "emmeanma= pd.read_csv(r'C:\\LJR\\paper\\tseltalvsenglish\\dataplot\\English\\conversation\\mmamean.csv')\n",
    "emmeanr= pd.read_csv(r'C:\\LJR\\paper\\tseltalvsenglish\\dataplot\\English\\conversation\\mrmean.csv')"
   ]
  },
  {
   "cell_type": "code",
   "execution_count": 72,
   "metadata": {},
   "outputs": [],
   "source": [
    "ecmeanme= pd.read_csv(r'C:\\LJR\\paper\\tseltalvsenglish\\dataplot\\English\\conversation\\cmemean.csv')\n",
    "ecmeanmi= pd.read_csv(r'C:\\LJR\\paper\\tseltalvsenglish\\dataplot\\English\\conversation\\cmimean.csv')\n",
    "ecmeanma= pd.read_csv(r'C:\\LJR\\paper\\tseltalvsenglish\\dataplot\\English\\conversation\\cmamean.csv')\n",
    "ecmeanr= pd.read_csv(r'C:\\LJR\\paper\\tseltalvsenglish\\dataplot\\English\\conversation\\crmean.csv')"
   ]
  },
  {
   "cell_type": "code",
   "execution_count": 73,
   "metadata": {},
   "outputs": [],
   "source": [
    "ememc= pd.read_csv(r'C:\\LJR\\paper\\tseltalvsenglish\\dataplot\\English\\conversation\\Pitchmean.csv')\n",
    "emamc= pd.read_csv(r'C:\\LJR\\paper\\tseltalvsenglish\\dataplot\\English\\conversation\\Pitchmax.csv')\n",
    "emimc= pd.read_csv(r'C:\\LJR\\paper\\tseltalvsenglish\\dataplot\\English\\conversation\\Pitchmin.csv')\n",
    "ermc= pd.read_csv(r'C:\\LJR\\paper\\tseltalvsenglish\\dataplot\\English\\conversation\\Pitchrange.csv')"
   ]
  },
  {
   "cell_type": "code",
   "execution_count": 74,
   "metadata": {},
   "outputs": [],
   "source": [
    "tmemc= pd.read_csv(r'C:\\LJR\\paper\\tseltalvsenglish\\dataplot\\Tseltal\\conversation\\Pitchmean.csv')\n",
    "tmamc= pd.read_csv(r'C:\\LJR\\paper\\tseltalvsenglish\\dataplot\\Tseltal\\conversation\\Pitchmax.csv')\n",
    "tmimc= pd.read_csv(r'C:\\LJR\\paper\\tseltalvsenglish\\dataplot\\Tseltal\\conversation\\Pitchmin.csv')\n",
    "trmc= pd.read_csv(r'C:\\LJR\\paper\\tseltalvsenglish\\dataplot\\Tseltal\\conversation\\Pitchrange.csv')"
   ]
  },
  {
   "cell_type": "code",
   "execution_count": 75,
   "metadata": {},
   "outputs": [],
   "source": [
    "motherothersallt=pd.read_csv(r'C:\\LJR\\paper\\tseltalvsenglish\\dataplot\\Tseltal\\all\\motherothert.csv')\n",
    "motherothersalle=pd.read_csv(r'C:\\LJR\\paper\\tseltalvsenglish\\dataplot\\English\\all\\motherothere.csv')\n",
    "infantothersallt=pd.read_csv(r'C:\\LJR\\paper\\tseltalvsenglish\\dataplot\\Tseltal\\all\\infantothert.csv')\n",
    "infantothersalle=pd.read_csv(r'C:\\LJR\\paper\\tseltalvsenglish\\dataplot\\English\\all\\infantothere.csv')"
   ]
  },
  {
   "cell_type": "code",
   "execution_count": 76,
   "metadata": {},
   "outputs": [],
   "source": [
    "momeant=motherothersallt['mean']\n",
    "momaxt=motherothersallt['max']\n",
    "momint=motherothersallt['min']\n",
    "moranget=motherothersallt['range']\n",
    "\n",
    "comeant=infantothersallt['mean']\n",
    "comaxt=infantothersallt['max']\n",
    "comint=infantothersallt['min']\n",
    "coranget=infantothersallt['range']"
   ]
  },
  {
   "cell_type": "code",
   "execution_count": 77,
   "metadata": {},
   "outputs": [],
   "source": [
    "momeane=motherothersalle['mean']\n",
    "momaxe=motherothersalle['max']\n",
    "momine=motherothersalle['min']\n",
    "morangee=motherothersalle['range']\n",
    "\n",
    "comeane=infantothersalle['mean']\n",
    "comaxe=infantothersalle['max']\n",
    "comine=infantothersalle['min']\n",
    "corangee=infantothersalle['range']"
   ]
  },
  {
   "cell_type": "code",
   "execution_count": 78,
   "metadata": {},
   "outputs": [],
   "source": [
    "tmmeanmed=np.array(tmmeanme['MEAN'])\n",
    "tmmeanmad=np.array(tmmeanma['MEAN'])\n",
    "tmmeanmid=np.array(tmmeanmi['MEAN'])\n",
    "tmmeanrd=np.array(tmmeanr['MEAN'])"
   ]
  },
  {
   "cell_type": "code",
   "execution_count": 79,
   "metadata": {},
   "outputs": [],
   "source": [
    "emmeanmed=np.array(emmeanme['MEAN'])\n",
    "emmeanmad=np.array(emmeanma['MEAN'])\n",
    "emmeanmid=np.array(emmeanmi['MEAN'])\n",
    "emmeanrd=np.array(emmeanr['MEAN'])"
   ]
  },
  {
   "cell_type": "code",
   "execution_count": 80,
   "metadata": {},
   "outputs": [],
   "source": [
    "tcmeanmed=np.array(tcmeanme['MEAN'])\n",
    "tcmeanmad=np.array(tcmeanma['MEAN'])\n",
    "tcmeanmid=np.array(tcmeanmi['MEAN'])\n",
    "tcmeanrd=np.array(tcmeanr['MEAN'])"
   ]
  },
  {
   "cell_type": "code",
   "execution_count": 81,
   "metadata": {},
   "outputs": [],
   "source": [
    "ecmeanmed=np.array(ecmeanme['MEAN'])\n",
    "ecmeanmad=np.array(ecmeanma['MEAN'])\n",
    "ecmeanmid=np.array(ecmeanmi['MEAN'])\n",
    "ecmeanrd=np.array(ecmeanr['MEAN'])"
   ]
  },
  {
   "cell_type": "code",
   "execution_count": 82,
   "metadata": {},
   "outputs": [
    {
     "name": "stdout",
     "output_type": "stream",
     "text": [
      "meanmeanmet= 137.55243539640045\n",
      "meanmeanmee= 157.85078208650842\n",
      "meanmeanmat= 164.86090864447957\n",
      "meanmeanmae= 157.85078208650842\n",
      "meanmeanmit= 115.52272946825578\n",
      "meanmeanmie= 130.28844459459148\n",
      "meanmeanranget= 98.67635835244761\n",
      "meanmeanrangee= 124.48662444005949\n"
     ]
    }
   ],
   "source": [
    "print('meanmeanmet=',np.mean(tmmeanme))\n",
    "print('meanmeanmee=',np.mean(emmeanme))\n",
    "print('meanmeanmat=',np.mean(tmmeanma))\n",
    "print('meanmeanmae=',np.mean(emmeanme))\n",
    "\n",
    "print('meanmeanmit=',np.mean(tmmeanmi))\n",
    "print('meanmeanmie=',np.mean(emmeanmi))\n",
    "print('meanmeanranget=',np.mean(tmmeanrd))\n",
    "print('meanmeanrangee=',np.mean(emmeanrd))"
   ]
  },
  {
   "cell_type": "code",
   "execution_count": 83,
   "metadata": {},
   "outputs": [
    {
     "name": "stdout",
     "output_type": "stream",
     "text": [
      "cmeanmeanmet= 201.28766803257395\n",
      "cmeanmeanmee= 199.59879207584018\n",
      "cmeanmeanmat= 244.55289950474966\n",
      "cmeanmeanmae= 199.59879207584018\n",
      "cmeanmeanmit= 166.0325058347437\n",
      "cmeanmeanmie= 165.96866599093556\n",
      "cmeanmeanranget= 157.04078734001197\n",
      "cmeanmeanrangee= 146.28085991988078\n"
     ]
    }
   ],
   "source": [
    "print('cmeanmeanmet=',np.mean(tcmeanme))\n",
    "print('cmeanmeanmee=',np.mean(ecmeanme))\n",
    "print('cmeanmeanmat=',np.mean(tcmeanma))\n",
    "print('cmeanmeanmae=',np.mean(ecmeanme))\n",
    "\n",
    "print('cmeanmeanmit=',np.mean(tcmeanmi))\n",
    "print('cmeanmeanmie=',np.mean(ecmeanmi))\n",
    "print('cmeanmeanranget=',np.mean(tcmeanrd))\n",
    "print('cmeanmeanrangee=',np.mean(ecmeanrd))"
   ]
  },
  {
   "cell_type": "code",
   "execution_count": 84,
   "metadata": {},
   "outputs": [
    {
     "name": "stdout",
     "output_type": "stream",
     "text": [
      "mep= 0.0012233962323670519\n",
      "map= 0.0013055490473538158\n",
      "mip= 0.013273086403371864\n",
      "rangefp= 0.07604740273548924\n"
     ]
    }
   ],
   "source": [
    "t_stat, p_value = stats.ttest_ind(tmmeanmed,emmeanmed)\n",
    "print('mep=',p_value)\n",
    "t_stat, p_value = stats.ttest_ind(tmmeanmad,emmeanmad)\n",
    "print('map=',p_value)\n",
    "t_stat, p_value = stats.ttest_ind(tmmeanmid,emmeanmid)\n",
    "print('mip=',p_value)\n",
    "\n",
    "t_stat, p_value = stats.ttest_ind(tmmeanrd,emmeanrd)\n",
    "print('rangefp=',p_value)"
   ]
  },
  {
   "cell_type": "code",
   "execution_count": 85,
   "metadata": {},
   "outputs": [
    {
     "name": "stdout",
     "output_type": "stream",
     "text": [
      "mep= 0.8095741246678257\n",
      "map= 0.3171249349283577\n",
      "mip= 0.5115349099103825\n",
      "rangefp= 0.10107851035484539\n"
     ]
    }
   ],
   "source": [
    "t_stat, p_value = stats.ttest_ind(tmmeanmed,momeant)\n",
    "print('mep=',p_value)\n",
    "t_stat, p_value = stats.ttest_ind(tmmeanmad,momaxt)\n",
    "print('map=',p_value)\n",
    "t_stat, p_value = stats.ttest_ind(tmmeanmid,momint)\n",
    "print('mip=',p_value)\n",
    "t_stat, p_value = stats.ttest_ind(tmmeanrd,moranget)\n",
    "print('rangefp=',p_value)"
   ]
  },
  {
   "cell_type": "code",
   "execution_count": 86,
   "metadata": {},
   "outputs": [
    {
     "name": "stdout",
     "output_type": "stream",
     "text": [
      "251.60487079280094 254.08804856076733\n",
      "306.22181728895913 322.169515171387\n",
      "207.54545893651152 201.460221222982\n",
      "98.67635835244761 120.70929394840496\n"
     ]
    }
   ],
   "source": [
    "print(np.mean(tmmeanmed),np.mean(momeant))\n",
    "print(np.mean(tmmeanmad),np.mean(momaxt))\n",
    "print(np.mean(tmmeanmid),np.mean(momint))\n",
    "print(np.mean(tmmeanrd),np.mean(moranget))"
   ]
  },
  {
   "cell_type": "code",
   "execution_count": 87,
   "metadata": {},
   "outputs": [
    {
     "name": "stdout",
     "output_type": "stream",
     "text": [
      "235.04134489195104 241.0878459060561\n",
      "285.36534129376867 292.08084328094185\n",
      "196.3891854335516 191.591612725596\n",
      "65.50697857427252 93.73914470918112\n"
     ]
    }
   ],
   "source": [
    "print(np.median(tmmeanmed),np.median(momeant))\n",
    "print(np.median(tmmeanmad),np.median(momaxt))\n",
    "print(np.median(tmmeanmid),np.median(momint))\n",
    "print(np.median(tmmeanrd),np.median(moranget))"
   ]
  },
  {
   "cell_type": "code",
   "execution_count": 88,
   "metadata": {},
   "outputs": [
    {
     "name": "stdout",
     "output_type": "stream",
     "text": [
      "379.0753360651479 388.81604041013975\n",
      "465.6057990094993 484.4289550013725\n",
      "308.56501166948743 307.5370009172212\n",
      "157.04078734001197 176.8919540841514\n"
     ]
    }
   ],
   "source": [
    "print(np.mean(tcmeanmed),np.mean(comeant))\n",
    "print(np.mean(tcmeanmad),np.mean(comaxt))\n",
    "print(np.mean(tcmeanmid),np.mean(comint))\n",
    "print(np.mean(tcmeanrd),np.mean(coranget))"
   ]
  },
  {
   "cell_type": "code",
   "execution_count": 89,
   "metadata": {},
   "outputs": [
    {
     "name": "stdout",
     "output_type": "stream",
     "text": [
      "380.1290562844396 374.9621778584848\n",
      "446.63282399098216 437.62679450794406\n",
      "304.48776527311486 304.1327275888949\n",
      "129.7869400275352 134.09471183881357\n"
     ]
    }
   ],
   "source": [
    "print(np.median(tcmeanmed),np.median(comeant))\n",
    "print(np.median(tcmeanmad),np.median(comaxt))\n",
    "print(np.median(tcmeanmid),np.median(comint))\n",
    "print(np.median(tcmeanrd),np.median(coranget))"
   ]
  },
  {
   "cell_type": "code",
   "execution_count": 90,
   "metadata": {},
   "outputs": [
    {
     "name": "stdout",
     "output_type": "stream",
     "text": [
      "mep= 0.5202839452718698\n",
      "map= 0.4547143579174142\n",
      "mip= 0.9377422501783366\n",
      "rangefp= 0.36039802658189135\n"
     ]
    }
   ],
   "source": [
    "t_stat, p_value = stats.ttest_ind(tcmeanmed,comeant)\n",
    "print('mep=',p_value)\n",
    "t_stat, p_value = stats.ttest_ind(tcmeanmad,comaxt)\n",
    "print('map=',p_value)\n",
    "t_stat, p_value = stats.ttest_ind(tcmeanmid,comint)\n",
    "print('mip=',p_value)\n",
    "t_stat, p_value = stats.ttest_ind(tcmeanrd,coranget)\n",
    "print('rangefp=',p_value)"
   ]
  },
  {
   "cell_type": "code",
   "execution_count": 91,
   "metadata": {},
   "outputs": [
    {
     "name": "stdout",
     "output_type": "stream",
     "text": [
      "294.20156417301683 272.1081579001742\n",
      "363.56351362924244 344.46559078585705\n",
      "239.076889189183 217.9430824400135\n",
      "124.48662444005949 126.52250834584356\n"
     ]
    }
   ],
   "source": [
    "print(np.mean(emmeanmed),np.mean(momeane))\n",
    "print(np.mean(emmeanmad),np.mean(momaxe))\n",
    "print(np.mean(emmeanmid),np.mean(momine))\n",
    "print(np.mean(emmeanrd),np.mean(morangee))"
   ]
  },
  {
   "cell_type": "code",
   "execution_count": 92,
   "metadata": {},
   "outputs": [
    {
     "name": "stdout",
     "output_type": "stream",
     "text": [
      "290.66328176284685 263.53057454696864\n",
      "354.47606629637323 331.65909119226626\n",
      "237.9407573422229 209.53730096424113\n",
      "109.33550890557095 109.7757641343017\n"
     ]
    }
   ],
   "source": [
    "print(np.median(emmeanmed),np.median(momeane))\n",
    "print(np.median(emmeanmad),np.median(momaxe))\n",
    "print(np.median(emmeanmid),np.median(momine))\n",
    "print(np.median(emmeanrd),np.median(morangee))"
   ]
  },
  {
   "cell_type": "code",
   "execution_count": 93,
   "metadata": {},
   "outputs": [
    {
     "name": "stdout",
     "output_type": "stream",
     "text": [
      "377.6975841516803 387.49902287106966\n",
      "456.71819190175194 452.12214951745534\n",
      "310.4373319818711 325.52379220802055\n",
      "146.28085991988078 126.59835730943476\n"
     ]
    }
   ],
   "source": [
    "print(np.mean(ecmeanmed),np.mean(comeane))\n",
    "print(np.mean(ecmeanmad),np.mean(comaxe))\n",
    "print(np.mean(ecmeanmid),np.mean(comine))\n",
    "print(np.mean(ecmeanrd),np.mean(corangee))"
   ]
  },
  {
   "cell_type": "code",
   "execution_count": 94,
   "metadata": {},
   "outputs": [
    {
     "name": "stdout",
     "output_type": "stream",
     "text": [
      "360.4294398849215 372.0769397514781\n",
      "434.43296755542053 420.2849334748249\n",
      "305.2352194962565 320.36156500080824\n",
      "124.19447851263651 92.16919416639269\n"
     ]
    }
   ],
   "source": [
    "print(np.median(ecmeanmed),np.median(comeane))\n",
    "print(np.median(ecmeanmad),np.median(comaxe))\n",
    "print(np.median(ecmeanmid),np.median(comine))\n",
    "print(np.median(ecmeanrd),np.median(corangee))"
   ]
  },
  {
   "cell_type": "code",
   "execution_count": 95,
   "metadata": {},
   "outputs": [
    {
     "name": "stdout",
     "output_type": "stream",
     "text": [
      "mep= 0.05854191505843986\n",
      "map= 0.2549873367304289\n",
      "mip= 0.040746877102048315\n",
      "rangefp= 0.8824290070728409\n"
     ]
    }
   ],
   "source": [
    "t_stat, p_value = stats.ttest_ind(emmeanmed,momeane)\n",
    "print('mep=',p_value)\n",
    "t_stat, p_value = stats.ttest_ind(emmeanmad,momaxe)\n",
    "print('map=',p_value)\n",
    "t_stat, p_value = stats.ttest_ind(emmeanmid,momine)\n",
    "print('mip=',p_value)\n",
    "t_stat, p_value = stats.ttest_ind(emmeanrd,morangee)\n",
    "print('rangefp=',p_value)"
   ]
  },
  {
   "cell_type": "code",
   "execution_count": 96,
   "metadata": {},
   "outputs": [
    {
     "name": "stdout",
     "output_type": "stream",
     "text": [
      "mep= 0.5583750037296371\n",
      "map= 0.8476203354591979\n",
      "mip= 0.2946173328309393\n",
      "rangefp= 0.27813636450083723\n"
     ]
    }
   ],
   "source": [
    "t_stat, p_value = stats.ttest_ind(ecmeanmed,comeane)\n",
    "print('mep=',p_value)\n",
    "t_stat, p_value = stats.ttest_ind(ecmeanmad,comaxe)\n",
    "print('map=',p_value)\n",
    "t_stat, p_value = stats.ttest_ind(ecmeanmid,comine)\n",
    "print('mip=',p_value)\n",
    "t_stat, p_value = stats.ttest_ind(ecmeanrd,corangee)\n",
    "print('rangefp=',p_value)"
   ]
  },
  {
   "cell_type": "code",
   "execution_count": 97,
   "metadata": {},
   "outputs": [
    {
     "data": {
      "image/png": "[encoded data removed]",
      "text/plain": [
       "<Figure size 432x288 with 1 Axes>"
      ]
     },
     "metadata": {
      "needs_background": "light"
     },
     "output_type": "display_data"
    }
   ],
   "source": [
    "fig, ax=plt.subplots()\n",
    "ax.spines['right'].set_visible(False)\n",
    "ax.spines['top'].set_visible(False)\n",
    "plt.rc('font',family='Times New Roman')\n",
    "plt.xticks(fontsize=14)\n",
    "plt.yticks(fontsize=14)\n",
    "xxx=np.empty([len(momeane)+len(emmeanmed)+len(ecmeanmed)+len(comeane)],dtype = str) \n",
    "xxx[0:len(momeane)]='m'\n",
    "xxx[len(momeane):len(momeane)+len(emmeanmed)]='M'\n",
    "xxx[len(momeane)+len(emmeanmed):len(momeane)+len(emmeanmed)+len(ecmeanmed)]='I'\n",
    "xxx[len(momeane)+len(emmeanmed)+len(ecmeanmed):]='i' \n",
    "compare_durationrow=np.r_[momeane,emmeanmed,ecmeanmed,comeane]\n",
    "\n",
    "my_pal = {'m': 'grey', 'M': 'red', 'I': 'lightcoral', 'i': 'grey'}   \n",
    "ax = sns.boxplot(x=xxx, y=compare_durationrow, linewidth=1.5,whis=1.5,palette=my_pal)\n",
    "plt.ylim(0,800)\n",
    "filesaveallmec=r'C:\\LJR\\paper\\tseltalvsenglish\\figures\\mcallcomparemeoe.png'\n",
    "fig.savefig(filesaveallmec, bbox_inches='tight', pad_inches=0)"
   ]
  },
  {
   "cell_type": "code",
   "execution_count": 98,
   "metadata": {},
   "outputs": [
    {
     "data": {
      "image/png": "[encoded data removed]",
      "text/plain": [
       "<Figure size 432x288 with 1 Axes>"
      ]
     },
     "metadata": {
      "needs_background": "light"
     },
     "output_type": "display_data"
    }
   ],
   "source": [
    "fig, ax=plt.subplots()\n",
    "ax.spines['right'].set_visible(False)\n",
    "ax.spines['top'].set_visible(False)\n",
    "plt.rc('font',family='Times New Roman')\n",
    "plt.xticks(fontsize=14)\n",
    "plt.yticks(fontsize=14)\n",
    "xxx=np.empty([len(momaxe)+len(emmeanmad)+len(ecmeanmad)+len(comaxe)],dtype = str) \n",
    "xxx[0:len(momaxe)]='m'\n",
    "xxx[len(momaxe):len(momaxe)+len(emmeanmad)]='M'\n",
    "xxx[len(momaxe)+len(emmeanmad):len(momaxe)+len(emmeanmad)+len(ecmeanmad)]='I'\n",
    "xxx[len(momaxe)+len(emmeanmad)+len(ecmeanmad):]='i' \n",
    "compare_durationrow=np.r_[momaxe,emmeanmad,ecmeanmad,comaxe]\n",
    "\n",
    "my_pal = {'m': 'grey', 'M': 'red', 'I': 'lightcoral', 'i': 'grey'}   \n",
    "ax = sns.boxplot(x=xxx, y=compare_durationrow, linewidth=1.5,whis=1.5,palette=my_pal)\n",
    "plt.ylim(0,800)\n",
    "filesaveallmec=r'C:\\LJR\\paper\\tseltalvsenglish\\figures\\mcallcomparemaoe.png'\n",
    "fig.savefig(filesaveallmec, bbox_inches='tight', pad_inches=0)"
   ]
  },
  {
   "cell_type": "code",
   "execution_count": 99,
   "metadata": {},
   "outputs": [
    {
     "data": {
      "image/png": "[encoded data removed]",
      "text/plain": [
       "<Figure size 432x288 with 1 Axes>"
      ]
     },
     "metadata": {
      "needs_background": "light"
     },
     "output_type": "display_data"
    }
   ],
   "source": [
    "fig, ax=plt.subplots()\n",
    "ax.spines['right'].set_visible(False)\n",
    "ax.spines['top'].set_visible(False)\n",
    "plt.rc('font',family='Times New Roman')\n",
    "plt.xticks(fontsize=14)\n",
    "plt.yticks(fontsize=14)\n",
    "xxx=np.empty([len(momine)+len(emmeanmid)+len(ecmeanmid)+len(comine)],dtype = str) \n",
    "xxx[0:len(momine)]='m'\n",
    "xxx[len(momine):len(momine)+len(emmeanmid)]='M'\n",
    "xxx[len(momine)+len(emmeanmid):len(momine)+len(emmeanmid)+len(ecmeanmid)]='I'\n",
    "xxx[len(momine)+len(emmeanmid)+len(ecmeanmid):]='i' \n",
    "compare_durationrow=np.r_[momine,emmeanmid,ecmeanmid,comine]\n",
    "\n",
    "my_pal = {'m': 'grey', 'M': 'red', 'I': 'lightcoral', 'i': 'grey'}   \n",
    "ax = sns.boxplot(x=xxx, y=compare_durationrow, linewidth=1.5,whis=1.5,palette=my_pal)\n",
    "plt.ylim(0,800)\n",
    "filesaveallmec=r'C:\\LJR\\paper\\tseltalvsenglish\\figures\\mcallcomparemioe.png'\n",
    "fig.savefig(filesaveallmec, bbox_inches='tight', pad_inches=0)"
   ]
  },
  {
   "cell_type": "code",
   "execution_count": 100,
   "metadata": {},
   "outputs": [
    {
     "data": {
      "image/png": "[encoded data removed]",
      "text/plain": [
       "<Figure size 432x288 with 1 Axes>"
      ]
     },
     "metadata": {
      "needs_background": "light"
     },
     "output_type": "display_data"
    }
   ],
   "source": [
    "fig, ax=plt.subplots()\n",
    "ax.spines['right'].set_visible(False)\n",
    "ax.spines['top'].set_visible(False)\n",
    "plt.rc('font',family='Times New Roman')\n",
    "plt.xticks(fontsize=14)\n",
    "plt.yticks(fontsize=14)\n",
    "xxx=np.empty([len(morangee)+len(emmeanrd)+len(ecmeanrd)+len(corangee)],dtype = str) \n",
    "xxx[0:len(morangee)]='m'\n",
    "xxx[len(morangee):len(morangee)+len(emmeanrd)]='M'\n",
    "xxx[len(morangee)+len(emmeanrd):len(morangee)+len(emmeanrd)+len(ecmeanrd)]='I'\n",
    "xxx[len(morangee)+len(emmeanrd)+len(ecmeanrd):]='i' \n",
    "compare_durationrow=np.r_[morangee,emmeanrd,ecmeanrd,corangee]\n",
    "\n",
    "my_pal = {'m': 'grey', 'M': 'red', 'I': 'lightcoral', 'i': 'grey'}   \n",
    "ax = sns.boxplot(x=xxx, y=compare_durationrow, linewidth=1.5,whis=1.5,palette=my_pal)\n",
    "plt.ylim(0,800)\n",
    "filesaveallmec=r'C:\\LJR\\paper\\tseltalvsenglish\\figures\\mcallcompareroe.png'\n",
    "fig.savefig(filesaveallmec, bbox_inches='tight', pad_inches=0)"
   ]
  },
  {
   "cell_type": "code",
   "execution_count": 101,
   "metadata": {},
   "outputs": [
    {
     "data": {
      "image/png": "[encoded data removed]",
      "text/plain": [
       "<Figure size 432x288 with 1 Axes>"
      ]
     },
     "metadata": {
      "needs_background": "light"
     },
     "output_type": "display_data"
    }
   ],
   "source": [
    "fig, ax=plt.subplots()\n",
    "ax.spines['right'].set_visible(False)\n",
    "ax.spines['top'].set_visible(False)\n",
    "plt.rc('font',family='Times New Roman')\n",
    "plt.xticks(fontsize=14)\n",
    "plt.yticks(fontsize=14)\n",
    "xxx=np.empty([len(momeane)+len(emmeanmed)+len(tmmeanmed)+len(momeant)],dtype = str) \n",
    "xxx[0:len(momeane)]='e'\n",
    "xxx[len(momeane):len(momeane)+len(emmeanmed)]='E'\n",
    "xxx[len(momeane)+len(emmeanmed):len(momeane)+len(emmeanmed)+len(tmmeanmed)]='T'\n",
    "xxx[len(momeane)+len(emmeanmed)+len(tmmeanmed):]='t' \n",
    "compare_durationrow=np.r_[momeane,emmeanmed,tmmeanmed,momeant]\n",
    "\n",
    "my_pal = {'e': 'grey', 'E': 'red', 'T': 'yellow', 't': 'grey'}   \n",
    "ax = sns.boxplot(x=xxx, y=compare_durationrow, linewidth=1.5,whis=1.5,palette=my_pal)\n",
    "filesaveallmec=r'C:\\LJR\\paper\\tseltalvsenglish\\figures\\allcomparemeo.png'\n",
    "fig.savefig(filesaveallmec, bbox_inches='tight', pad_inches=0)"
   ]
  },
  {
   "cell_type": "code",
   "execution_count": 102,
   "metadata": {},
   "outputs": [
    {
     "data": {
      "image/png": "[encoded data removed]",
      "text/plain": [
       "<Figure size 432x288 with 1 Axes>"
      ]
     },
     "metadata": {
      "needs_background": "light"
     },
     "output_type": "display_data"
    }
   ],
   "source": [
    "fig, ax=plt.subplots()\n",
    "ax.spines['right'].set_visible(False)\n",
    "ax.spines['top'].set_visible(False)\n",
    "plt.rc('font',family='Times New Roman')\n",
    "plt.xticks(fontsize=14)\n",
    "plt.yticks(fontsize=14)\n",
    "xxx=np.empty([len(comeane)+len(ecmeanmed)+len(tcmeanmed)+len(comeant)],dtype = str) \n",
    "xxx[0:len(comeane)]='e'\n",
    "xxx[len(comeane):len(comeane)+len(ecmeanmed)]='E'\n",
    "xxx[len(comeane)+len(ecmeanmed):len(comeane)+len(ecmeanmed)+len(tcmeanmed)]='T'\n",
    "xxx[len(comeane)+len(ecmeanmed)+len(tcmeanmed):]='t' \n",
    "compare_durationrow=np.r_[comeane,ecmeanmed,tcmeanmed,comeant]\n",
    "\n",
    "my_pal = {'e': 'grey', 'E': 'red', 'T': 'yellow', 't': 'grey'}   \n",
    "ax = sns.boxplot(x=xxx, y=compare_durationrow, linewidth=1.5,whis=1.5,palette=my_pal)\n",
    "filesaveallmec=r'C:\\LJR\\paper\\tseltalvsenglish\\figures\\callcomparemeo.png'\n",
    "fig.savefig(filesaveallmec, bbox_inches='tight', pad_inches=0)"
   ]
  },
  {
   "cell_type": "code",
   "execution_count": 103,
   "metadata": {},
   "outputs": [
    {
     "data": {
      "image/png": "[encoded data removed]",
      "text/plain": [
       "<Figure size 432x288 with 1 Axes>"
      ]
     },
     "metadata": {
      "needs_background": "light"
     },
     "output_type": "display_data"
    }
   ],
   "source": [
    "fig, ax=plt.subplots()\n",
    "ax.spines['right'].set_visible(False)\n",
    "ax.spines['top'].set_visible(False)\n",
    "plt.rc('font',family='Times New Roman')\n",
    "plt.xticks(fontsize=14)\n",
    "plt.yticks(fontsize=14)\n",
    "xxx=np.empty([len(momaxe)+len(emmeanmad)+len(tmmeanmad)+len(momaxt)],dtype = str) \n",
    "xxx[0:len(momaxe)]='e'\n",
    "xxx[len(momaxe):len(momaxe)+len(emmeanmad)]='E'\n",
    "xxx[len(momaxe)+len(emmeanmad):len(momaxe)+len(emmeanmad)+len(tmmeanmad)]='T'\n",
    "xxx[len(momaxe)+len(emmeanmad)+len(tmmeanmad):]='t' \n",
    "compare_durationrow=np.r_[momaxe,emmeanmad,tmmeanmad,momaxt]\n",
    "\n",
    "my_pal = {'e': 'grey', 'E': 'red', 'T': 'yellow', 't': 'grey'}   \n",
    "ax = sns.boxplot(x=xxx, y=compare_durationrow, linewidth=1.5,whis=1.5,palette=my_pal)\n",
    "filesaveallmec=r'C:\\LJR\\paper\\tseltalvsenglish\\figures\\allcomparemao.png'\n",
    "fig.savefig(filesaveallmec, bbox_inches='tight', pad_inches=0)"
   ]
  },
  {
   "cell_type": "code",
   "execution_count": 104,
   "metadata": {},
   "outputs": [
    {
     "data": {
      "image/png": "[encoded data removed]",
      "text/plain": [
       "<Figure size 432x288 with 1 Axes>"
      ]
     },
     "metadata": {
      "needs_background": "light"
     },
     "output_type": "display_data"
    }
   ],
   "source": [
    "fig, ax=plt.subplots()\n",
    "ax.spines['right'].set_visible(False)\n",
    "ax.spines['top'].set_visible(False)\n",
    "plt.rc('font',family='Times New Roman')\n",
    "plt.xticks(fontsize=14)\n",
    "plt.yticks(fontsize=14)\n",
    "xxx=np.empty([len(comaxe)+len(ecmeanmad)+len(tcmeanmad)+len(comaxt)],dtype = str) \n",
    "xxx[0:len(comaxe)]='e'\n",
    "xxx[len(comaxe):len(comaxe)+len(ecmeanmad)]='E'\n",
    "xxx[len(comaxe)+len(ecmeanmad):len(comaxe)+len(ecmeanmad)+len(tcmeanmad)]='T'\n",
    "xxx[len(comaxe)+len(ecmeanmad)+len(tcmeanmad):]='t' \n",
    "compare_durationrow=np.r_[comaxe,ecmeanmad,tcmeanmad,comaxt]\n",
    "\n",
    "my_pal = {'e': 'grey', 'E': 'red', 'T': 'yellow', 't': 'grey'}   \n",
    "ax = sns.boxplot(x=xxx, y=compare_durationrow, linewidth=1.5,whis=1.5,palette=my_pal)\n",
    "filesaveallmec=r'C:\\LJR\\paper\\tseltalvsenglish\\figures\\callcomparemao.png'\n",
    "fig.savefig(filesaveallmec, bbox_inches='tight', pad_inches=0)"
   ]
  },
  {
   "cell_type": "code",
   "execution_count": 105,
   "metadata": {},
   "outputs": [
    {
     "data": {
      "image/png": "[encoded data removed]",
      "text/plain": [
       "<Figure size 432x288 with 1 Axes>"
      ]
     },
     "metadata": {
      "needs_background": "light"
     },
     "output_type": "display_data"
    }
   ],
   "source": [
    "fig, ax=plt.subplots()\n",
    "ax.spines['right'].set_visible(False)\n",
    "ax.spines['top'].set_visible(False)\n",
    "plt.rc('font',family='Times New Roman')\n",
    "plt.xticks(fontsize=14)\n",
    "plt.yticks(fontsize=14)\n",
    "xxx=np.empty([len(momine)+len(emmeanmid)+len(tmmeanmid)+len(momint)],dtype = str) \n",
    "xxx[0:len(momine)]='e'\n",
    "xxx[len(momine):len(momine)+len(emmeanmid)]='E'\n",
    "xxx[len(momine)+len(emmeanmid):len(momine)+len(emmeanmid)+len(tmmeanmid)]='T'\n",
    "xxx[len(momine)+len(emmeanmid)+len(tmmeanmid):]='t' \n",
    "compare_durationrow=np.r_[momine,emmeanmid,tmmeanmid,momint]\n",
    "\n",
    "my_pal = {'e': 'grey', 'E': 'red', 'T': 'yellow', 't': 'grey'}   \n",
    "ax = sns.boxplot(x=xxx, y=compare_durationrow, linewidth=1.5,whis=1.5,palette=my_pal)\n",
    "filesaveallmec=r'C:\\LJR\\paper\\tseltalvsenglish\\figures\\allcomparemio.png'\n",
    "fig.savefig(filesaveallmec, bbox_inches='tight', pad_inches=0)"
   ]
  },
  {
   "cell_type": "code",
   "execution_count": 106,
   "metadata": {},
   "outputs": [
    {
     "data": {
      "image/png": "[encoded data removed]",
      "text/plain": [
       "<Figure size 432x288 with 1 Axes>"
      ]
     },
     "metadata": {
      "needs_background": "light"
     },
     "output_type": "display_data"
    }
   ],
   "source": [
    "fig, ax=plt.subplots()\n",
    "ax.spines['right'].set_visible(False)\n",
    "ax.spines['top'].set_visible(False)\n",
    "plt.rc('font',family='Times New Roman')\n",
    "plt.xticks(fontsize=14)\n",
    "plt.yticks(fontsize=14)\n",
    "xxx=np.empty([len(comine)+len(ecmeanmid)+len(tcmeanmid)+len(comint)],dtype = str) \n",
    "xxx[0:len(comine)]='e'\n",
    "xxx[len(comine):len(comine)+len(ecmeanmid)]='E'\n",
    "xxx[len(comine)+len(ecmeanmid):len(comine)+len(ecmeanmid)+len(tcmeanmid)]='T'\n",
    "xxx[len(comine)+len(ecmeanmid)+len(tcmeanmid):]='t' \n",
    "compare_durationrow=np.r_[comine,ecmeanmid,tcmeanmid,comint]\n",
    "\n",
    "my_pal = {'e': 'grey', 'E': 'red', 'T': 'yellow', 't': 'grey'}   \n",
    "ax = sns.boxplot(x=xxx, y=compare_durationrow, linewidth=1.5,whis=1.5,palette=my_pal)\n",
    "filesaveallmec=r'C:\\LJR\\paper\\tseltalvsenglish\\figures\\callcomparemio.png'\n",
    "fig.savefig(filesaveallmec, bbox_inches='tight', pad_inches=0)"
   ]
  },
  {
   "cell_type": "code",
   "execution_count": 107,
   "metadata": {},
   "outputs": [
    {
     "data": {
      "image/png": "[encoded data removed]",
      "text/plain": [
       "<Figure size 432x288 with 1 Axes>"
      ]
     },
     "metadata": {
      "needs_background": "light"
     },
     "output_type": "display_data"
    }
   ],
   "source": [
    "fig, ax=plt.subplots()\n",
    "ax.spines['right'].set_visible(False)\n",
    "ax.spines['top'].set_visible(False)\n",
    "plt.rc('font',family='Times New Roman')\n",
    "plt.xticks(fontsize=14)\n",
    "plt.yticks(fontsize=14)\n",
    "xxx=np.empty([len(morangee)+len(emmeanrd)+len(tmmeanrd)+len(moranget)],dtype = str) \n",
    "xxx[0:len(morangee)]='e'\n",
    "xxx[len(morangee):len(morangee)+len(emmeanrd)]='E'\n",
    "xxx[len(morangee)+len(emmeanrd):len(morangee)+len(emmeanrd)+len(tmmeanrd)]='T'\n",
    "xxx[len(morangee)+len(emmeanrd)+len(tmmeanrd):]='t' \n",
    "compare_durationrow=np.r_[morangee,emmeanrd,tmmeanrd,moranget]\n",
    "\n",
    "my_pal = {'e': 'grey', 'E': 'red', 'T': 'yellow', 't': 'grey'}   \n",
    "ax = sns.boxplot(x=xxx, y=compare_durationrow, linewidth=1.5,whis=1.5,palette=my_pal)\n",
    "filesaveallmec=r'C:\\LJR\\paper\\tseltalvsenglish\\figures\\allcomparerangeo.png'\n",
    "fig.savefig(filesaveallmec, bbox_inches='tight', pad_inches=0)"
   ]
  },
  {
   "cell_type": "code",
   "execution_count": 108,
   "metadata": {},
   "outputs": [
    {
     "data": {
      "image/png": "[encoded data removed]",
      "text/plain": [
       "<Figure size 432x288 with 1 Axes>"
      ]
     },
     "metadata": {
      "needs_background": "light"
     },
     "output_type": "display_data"
    }
   ],
   "source": [
    "fig, ax=plt.subplots()\n",
    "ax.spines['right'].set_visible(False)\n",
    "ax.spines['top'].set_visible(False)\n",
    "plt.rc('font',family='Times New Roman')\n",
    "plt.xticks(fontsize=14)\n",
    "plt.yticks(fontsize=14)\n",
    "xxx=np.empty([len(corangee)+len(ecmeanrd)+len(tcmeanrd)+len(coranget)],dtype = str) \n",
    "xxx[0:len(corangee)]='e'\n",
    "xxx[len(corangee):len(corangee)+len(ecmeanrd)]='E'\n",
    "xxx[len(corangee)+len(ecmeanrd):len(corangee)+len(ecmeanrd)+len(tcmeanrd)]='T'\n",
    "xxx[len(corangee)+len(ecmeanrd)+len(tcmeanrd):]='t' \n",
    "compare_durationrow=np.r_[corangee,ecmeanrd,tcmeanrd,coranget]\n",
    "\n",
    "my_pal = {'e': 'grey', 'E': 'red', 'T': 'yellow', 't': 'grey'}   \n",
    "ax = sns.boxplot(x=xxx, y=compare_durationrow, linewidth=1.5,whis=1.5,palette=my_pal)\n",
    "filesaveallmec=r'C:\\LJR\\paper\\tseltalvsenglish\\figures\\callcomparerangeo.png'\n",
    "fig.savefig(filesaveallmec, bbox_inches='tight', pad_inches=0)"
   ]
  },
  {
   "cell_type": "code",
   "execution_count": 109,
   "metadata": {},
   "outputs": [
    {
     "data": {
      "image/png": "[encoded data removed]",
      "text/plain": [
       "<Figure size 432x288 with 1 Axes>"
      ]
     },
     "metadata": {
      "needs_background": "light"
     },
     "output_type": "display_data"
    }
   ],
   "source": [
    "fig, ax=plt.subplots()\n",
    "ax.spines['right'].set_visible(False)\n",
    "ax.spines['top'].set_visible(False)\n",
    "plt.rc('font',family='Times New Roman')\n",
    "plt.xticks(fontsize=14)\n",
    "plt.yticks(fontsize=14)\n",
    "xxx=np.empty([len(emmeanmed)+len(tmmeanmed)+len(ecmeanmed)+len(tcmeanmed)],dtype = str) \n",
    "xxx[0:len(emmeanmed)]='E'\n",
    "xxx[len(emmeanmed):len(emmeanmed)+len(tmmeanmed)]='T'\n",
    "xxx[len(emmeanmed)+len(tmmeanmed):len(emmeanmed)+len(tmmeanmed)+len(ecmeanmed)]='e'\n",
    "xxx[len(emmeanmed)+len(tmmeanmed)+len(ecmeanmed):]='t' \n",
    "compare_durationrow=np.r_[emmeanmed,tmmeanmed,ecmeanmed,tcmeanmed]\n",
    "\n",
    "my_pal = {'r','yellow','gold','darkred'}    \n",
    "ax = sns.boxplot(x=xxx, y=compare_durationrow, linewidth=1.5,whis=1.5,palette=my_pal)\n",
    "filesaveallmec=r'C:\\LJR\\paper\\tseltalvsenglish\\figures\\allcompareme.png'\n",
    "fig.savefig(filesaveallmec, bbox_inches='tight', pad_inches=0)"
   ]
  },
  {
   "cell_type": "code",
   "execution_count": 110,
   "metadata": {},
   "outputs": [
    {
     "data": {
      "image/png": "[encoded data removed]",
      "text/plain": [
       "<Figure size 432x288 with 1 Axes>"
      ]
     },
     "metadata": {
      "needs_background": "light"
     },
     "output_type": "display_data"
    }
   ],
   "source": [
    "fig, ax=plt.subplots()\n",
    "ax.spines['right'].set_visible(False)\n",
    "ax.spines['top'].set_visible(False)\n",
    "plt.rc('font',family='Times New Roman')\n",
    "plt.xticks(fontsize=14)\n",
    "plt.yticks(fontsize=14)\n",
    "xxx=np.empty([len(emmeanmad)+len(tmmeanmad)+len(ecmeanmad)+len(tcmeanmad)],dtype = str) \n",
    "xxx[0:len(emmeanmad)]='E'\n",
    "xxx[len(emmeanmad):len(emmeanmad)+len(tmmeanmad)]='T'\n",
    "xxx[len(emmeanmad)+len(tmmeanmad):len(emmeanmad)+len(tmmeanmad)+len(ecmeanmad)]='e'\n",
    "xxx[len(emmeanmad)+len(tmmeanmad)+len(ecmeanmad):]='t' \n",
    "compare_durationrow=np.r_[emmeanmad,tmmeanmad,ecmeanmad,tcmeanmad]\n",
    "#plt.ylim(0,900)\n",
    "my_pal = {'r','yellow','gold','darkred'}    \n",
    "ax = sns.boxplot(x=xxx, y=compare_durationrow, linewidth=1.5,whis=1.5,palette=my_pal)\n",
    "filesaveallmac=r'C:\\LJR\\paper\\tseltalvsenglish\\figures\\allcomparema.jpg'\n",
    "fig.savefig(filesaveallmac, bbox_inches='tight', pad_inches=0)"
   ]
  },
  {
   "cell_type": "code",
   "execution_count": 111,
   "metadata": {},
   "outputs": [
    {
     "data": {
      "image/png": "[encoded data removed]",
      "text/plain": [
       "<Figure size 432x288 with 1 Axes>"
      ]
     },
     "metadata": {
      "needs_background": "light"
     },
     "output_type": "display_data"
    }
   ],
   "source": [
    "fig, ax=plt.subplots()\n",
    "ax.spines['right'].set_visible(False)\n",
    "ax.spines['top'].set_visible(False)\n",
    "plt.rc('font',family='Times New Roman')\n",
    "plt.xticks(fontsize=14)\n",
    "plt.yticks(fontsize=14)\n",
    "xxx=np.empty([len(emmeanmid)+len(tmmeanmid)+len(ecmeanmid)+len(tcmeanmid)],dtype = str) \n",
    "xxx[0:len(emmeanmid)]='E'\n",
    "xxx[len(emmeanmid):len(emmeanmid)+len(tmmeanmid)]='T'\n",
    "xxx[len(emmeanmid)+len(tmmeanmid):len(emmeanmid)+len(tmmeanmid)+len(ecmeanmid)]='e'\n",
    "xxx[len(emmeanmid)+len(tmmeanmid)+len(ecmeanmid):]='t' \n",
    "compare_durationrow=np.r_[emmeanmid,tmmeanmid,ecmeanmid,tcmeanmid]\n",
    "\n",
    "my_pal = {'r','yellow','gold','darkred'}    \n",
    "ax = sns.boxplot(x=xxx, y=compare_durationrow, linewidth=1.5,whis=1.5,palette=my_pal)\n",
    "#plt.ylim(0,900)\n",
    "filesaveallmic=r'C:\\LJR\\paper\\tseltalvsenglish\\figures\\allcomparemi.jpg'\n",
    "fig.savefig(filesaveallmic, bbox_inches='tight', pad_inches=0)"
   ]
  },
  {
   "cell_type": "code",
   "execution_count": 112,
   "metadata": {},
   "outputs": [
    {
     "data": {
      "image/png": "[encoded data removed]",
      "text/plain": [
       "<Figure size 432x288 with 1 Axes>"
      ]
     },
     "metadata": {
      "needs_background": "light"
     },
     "output_type": "display_data"
    }
   ],
   "source": [
    "fig, ax=plt.subplots()\n",
    "ax.spines['right'].set_visible(False)\n",
    "ax.spines['top'].set_visible(False)\n",
    "plt.rc('font',family='Times New Roman')\n",
    "plt.xticks(fontsize=14)\n",
    "plt.yticks(fontsize=14)\n",
    "xxx=np.empty([len(emmeanrd)+len(tmmeanrd)+len(ecmeanrd)+len(tcmeanrd)],dtype = str) \n",
    "xxx[0:len(emmeanrd)]='E'\n",
    "xxx[len(emmeanrd):len(emmeanrd)+len(tmmeanrd)]='T'\n",
    "xxx[len(emmeanrd)+len(tmmeanrd):len(emmeanrd)+len(tmmeanrd)+len(ecmeanrd)]='e'\n",
    "xxx[len(emmeanrd)+len(tmmeanrd)+len(ecmeanrd):]='t' \n",
    "compare_durationrow=np.r_[emmeanrd,tmmeanrd,ecmeanrd,tcmeanrd]\n",
    "\n",
    "my_pal = {'r','yellow','gold','darkred'}    \n",
    "ax = sns.boxplot(x=xxx, y=compare_durationrow, linewidth=1.5,whis=1.5,palette=my_pal)\n",
    "#plt.ylim(0,900)\n",
    "filesaveallrc=r'C:\\LJR\\paper\\tseltalvsenglish\\figures\\allcomparer.jpg'\n",
    "fig.savefig(filesaveallrc, bbox_inches='tight', pad_inches=0)"
   ]
  },
  {
   "cell_type": "code",
   "execution_count": 113,
   "metadata": {},
   "outputs": [
    {
     "name": "stdout",
     "output_type": "stream",
     "text": [
      "mep= 0.9182399061382764\n",
      "map= 0.7092685996371377\n",
      "mip= 0.8718873856047207\n",
      "rangefp= 0.6119870545950168\n"
     ]
    }
   ],
   "source": [
    "t_stat, p_value = stats.ttest_ind(tcmeanmed,ecmeanmed)\n",
    "print('mep=',p_value)\n",
    "t_stat, p_value = stats.ttest_ind(tcmeanmad,ecmeanmad)\n",
    "print('map=',p_value)\n",
    "t_stat, p_value = stats.ttest_ind(tcmeanmid,ecmeanmid)\n",
    "print('mip=',p_value)\n",
    "\n",
    "t_stat, p_value = stats.ttest_ind(tcmeanrd,ecmeanrd)\n",
    "print('rangefp=',p_value)"
   ]
  },
  {
   "cell_type": "code",
   "execution_count": 114,
   "metadata": {},
   "outputs": [],
   "source": [
    "tmed=smf.mixedlm(\"DV~IV\",tallme,groups=tallme['type'])\n",
    "tmedf = tmed.fit(method=['powell'])\n",
    "\n",
    "tmad=smf.mixedlm(\"DV~IV\",tallma,groups=tallma['type'])\n",
    "tmadf = tmad.fit(method=['powell'])\n",
    "\n",
    "tmid=smf.mixedlm(\"DV~IV\",tallmi,groups=tallmi['type'])\n",
    "tmidf = tmid.fit(method=['powell'])\n",
    "\n",
    "trd=smf.mixedlm(\"DV~IV\",tallr,groups=tallr['type'])\n",
    "trdf = trd.fit(method=['powell'])"
   ]
  },
  {
   "cell_type": "code",
   "execution_count": 115,
   "metadata": {},
   "outputs": [],
   "source": [
    "emed=smf.mixedlm(\"DV~IV\",eallme,groups=eallme['type'])\n",
    "emedf = emed.fit(method=['powell'])\n",
    "\n",
    "emad=smf.mixedlm(\"DV~IV\",eallma,groups=eallma['type'])\n",
    "emadf = emad.fit(method=['powell'])\n",
    "\n",
    "emid=smf.mixedlm(\"DV~IV\",eallmi,groups=eallmi['type'])\n",
    "emidf = emid.fit(method=['powell'])\n",
    "\n",
    "erd=smf.mixedlm(\"DV~IV\",eallr,groups=eallr['type'])\n",
    "erdf = erd.fit(method=['powell'])"
   ]
  },
  {
   "cell_type": "code",
   "execution_count": 116,
   "metadata": {
    "scrolled": true
   },
   "outputs": [
    {
     "name": "stdout",
     "output_type": "stream",
     "text": [
      "           Mixed Linear Model Regression Results\n",
      "===========================================================\n",
      "Model:            MixedLM Dependent Variable: DV           \n",
      "No. Observations: 169860  Method:             REML         \n",
      "No. Groups:       6       Scale:              11113.4578   \n",
      "Min. group size:  18036   Log-Likelihood:     -1032238.3710\n",
      "Max. group size:  45704   Converged:          Yes          \n",
      "Mean group size:  28310.0                                  \n",
      "------------------------------------------------------------\n",
      "            Coef.    Std.Err.    z    P>|z|  [0.025   0.975]\n",
      "------------------------------------------------------------\n",
      "Intercept   126.064    14.300  8.816  0.000  98.036  154.092\n",
      "IV           24.506     3.663  6.691  0.000  17.327   31.685\n",
      "Group Var  1146.924     6.825                               \n",
      "===========================================================\n",
      "\n",
      "6.690520376403216\n",
      "           Mixed Linear Model Regression Results\n",
      "===========================================================\n",
      "Model:            MixedLM Dependent Variable: DV           \n",
      "No. Observations: 169860  Method:             REML         \n",
      "No. Groups:       6       Scale:              27516.6032   \n",
      "Min. group size:  18036   Log-Likelihood:     -1109237.1118\n",
      "Max. group size:  45704   Converged:          Yes          \n",
      "Mean group size:  28310.0                                  \n",
      "-----------------------------------------------------------\n",
      "               Coef.   Std.Err.   z   P>|z|  [0.025  0.975]\n",
      "-----------------------------------------------------------\n",
      "Intercept      154.070   19.856 7.759 0.000 115.153 192.988\n",
      "IV              40.726    5.764 7.066 0.000  29.430  52.022\n",
      "Group Var     2167.379    8.410                            \n",
      "===========================================================\n",
      "\n",
      "7.066195382342092\n",
      "          Mixed Linear Model Regression Results\n",
      "==========================================================\n",
      "Model:            MixedLM Dependent Variable: DV          \n",
      "No. Observations: 169860  Method:             REML        \n",
      "No. Groups:       6       Scale:              7445.8549   \n",
      "Min. group size:  18036   Log-Likelihood:     -998224.2862\n",
      "Max. group size:  45704   Converged:          Yes         \n",
      "Mean group size:  28310.0                                 \n",
      "-----------------------------------------------------------\n",
      "            Coef.   Std.Err.    z    P>|z|  [0.025   0.975]\n",
      "-----------------------------------------------------------\n",
      "Intercept  105.622    11.532  9.159  0.000  83.019  128.224\n",
      "IV          20.771     2.998  6.928  0.000  14.895   26.648\n",
      "Group Var  744.276     5.617                               \n",
      "==========================================================\n",
      "\n",
      "6.928162752157842\n",
      "           Mixed Linear Model Regression Results\n",
      "===========================================================\n",
      "Model:            MixedLM Dependent Variable: DV           \n",
      "No. Observations: 169860  Method:             REML         \n",
      "No. Groups:       6       Scale:              17076.4347   \n",
      "Min. group size:  18036   Log-Likelihood:     -1068716.2379\n",
      "Max. group size:  45704   Converged:          Yes          \n",
      "Mean group size:  28310.0                                  \n",
      "------------------------------------------------------------\n",
      "             Coef.   Std.Err.    z    P>|z|  [0.025   0.975]\n",
      "------------------------------------------------------------\n",
      "Intercept   105.243    10.855  9.696  0.000  83.969  126.518\n",
      "IV           18.640     4.540  4.105  0.000   9.741   27.539\n",
      "Group Var   583.914     3.156                               \n",
      "===========================================================\n",
      "\n",
      "4.105452682452933\n"
     ]
    }
   ],
   "source": [
    "print(tmedf.summary())\n",
    "print(tmedf.tvalues['IV'])\n",
    "print(tmadf.summary())\n",
    "print(tmadf.tvalues['IV'])\n",
    "print(tmidf.summary())\n",
    "print(tmidf.tvalues['IV'])\n",
    "print(trdf.summary())\n",
    "print(trdf.tvalues['IV'])"
   ]
  },
  {
   "cell_type": "code",
   "execution_count": 117,
   "metadata": {
    "scrolled": true
   },
   "outputs": [
    {
     "name": "stdout",
     "output_type": "stream",
     "text": [
      "          Mixed Linear Model Regression Results\n",
      "==========================================================\n",
      "Model:            MixedLM Dependent Variable: DV          \n",
      "No. Observations: 65830   Method:             REML        \n",
      "No. Groups:       6       Scale:              11603.4050  \n",
      "Min. group size:  4786    Log-Likelihood:     -401474.8787\n",
      "Max. group size:  16059   Converged:          Yes         \n",
      "Mean group size:  10971.7                                 \n",
      "----------------------------------------------------------\n",
      "               Coef.  Std.Err.   z    P>|z| [0.025  0.975]\n",
      "----------------------------------------------------------\n",
      "Intercept      99.351   11.412  8.706 0.000 76.984 121.719\n",
      "IV             37.668    3.320 11.347 0.000 31.162  44.174\n",
      "Group Var     716.125    4.368                            \n",
      "==========================================================\n",
      "\n",
      "11.347216346051031\n",
      "          Mixed Linear Model Regression Results\n",
      "==========================================================\n",
      "Model:            MixedLM Dependent Variable: DV          \n",
      "No. Observations: 65830   Method:             REML        \n",
      "No. Groups:       6       Scale:              19996.4539  \n",
      "Min. group size:  4786    Log-Likelihood:     -419387.7065\n",
      "Max. group size:  16059   Converged:          Yes         \n",
      "Mean group size:  10971.7                                 \n",
      "----------------------------------------------------------\n",
      "               Coef.  Std.Err.   z   P>|z|  [0.025  0.975]\n",
      "----------------------------------------------------------\n",
      "Intercept     126.079   12.902 9.772 0.000 100.792 151.365\n",
      "IV             32.012    4.358 7.346 0.000  23.471  40.554\n",
      "Group Var     886.164    4.043                            \n",
      "==========================================================\n",
      "\n",
      "7.346079870474141\n",
      "          Mixed Linear Model Regression Results\n",
      "==========================================================\n",
      "Model:            MixedLM Dependent Variable: DV          \n",
      "No. Observations: 65830   Method:             REML        \n",
      "No. Groups:       6       Scale:              9161.1816   \n",
      "Min. group size:  4786    Log-Likelihood:     -393695.4812\n",
      "Max. group size:  16059   Converged:          Yes         \n",
      "Mean group size:  10971.7                                 \n",
      "----------------------------------------------------------\n",
      "               Coef.  Std.Err.   z    P>|z| [0.025  0.975]\n",
      "----------------------------------------------------------\n",
      "Intercept      93.891    8.396 11.183 0.000 77.435 110.346\n",
      "IV             31.781    2.950 10.775 0.000 26.000  37.562\n",
      "Group Var     371.386    2.443                            \n",
      "==========================================================\n",
      "\n",
      "10.774670208712843\n",
      "          Mixed Linear Model Regression Results\n",
      "==========================================================\n",
      "Model:            MixedLM Dependent Variable: DV          \n",
      "No. Observations: 65830   Method:             REML        \n",
      "No. Groups:       6       Scale:              9709.9072   \n",
      "Min. group size:  4786    Log-Likelihood:     -395608.5356\n",
      "Max. group size:  16059   Converged:          Yes         \n",
      "Mean group size:  10971.7                                 \n",
      "----------------------------------------------------------\n",
      "               Coef.  Std.Err.   z    P>|z| [0.025  0.975]\n",
      "----------------------------------------------------------\n",
      "Intercept      90.425    6.600 13.701 0.000 77.490 103.360\n",
      "IV             10.497    3.037  3.457 0.001  4.546  16.449\n",
      "Group Var     206.687    1.401                            \n",
      "==========================================================\n",
      "\n",
      "3.4569810635335236\n"
     ]
    }
   ],
   "source": [
    "print(emedf.summary())\n",
    "print(emedf.tvalues['IV'])\n",
    "print(emadf.summary())\n",
    "print(emadf.tvalues['IV'])\n",
    "print(emidf.summary())\n",
    "print(emidf.tvalues['IV'])\n",
    "print(erdf.summary())\n",
    "print(erdf.tvalues['IV'])"
   ]
  },
  {
   "cell_type": "code",
   "execution_count": 118,
   "metadata": {},
   "outputs": [
    {
     "data": {
      "text/plain": [
       "(array([-200.,    0.,  200.,  400.,  600.,  800., 1000.]),\n",
       " [Text(0, -200.0, '−200'),\n",
       "  Text(0, 0.0, '0'),\n",
       "  Text(0, 200.0, '200'),\n",
       "  Text(0, 400.0, '400'),\n",
       "  Text(0, 600.0, '600'),\n",
       "  Text(0, 800.0, '800'),\n",
       "  Text(0, 1000.0, '1000')])"
      ]
     },
     "execution_count": 118,
     "metadata": {},
     "output_type": "execute_result"
    },
    {
     "data": {
      "image/png": "[encoded data removed]",
      "text/plain": [
       "<Figure size 432x288 with 1 Axes>"
      ]
     },
     "metadata": {
      "needs_background": "light"
     },
     "output_type": "display_data"
    }
   ],
   "source": [
    "lenin=len(np.where(tallme['IV']==0)[0])\n",
    "xxx=np.empty([len(tallme['DV'])],dtype = str) \n",
    "xxx[0:lenin]='C'\n",
    "xxx[lenin:]='N'\n",
    "    \n",
    "compare_durationrow=tallme['DV']\n",
    "#my_pal = {'g','grey'}\n",
    "my_pal = 'Greens'\n",
    "ax = sns.boxplot(x=xxx, y=compare_durationrow, linewidth=1.5,whis=1.5,palette=my_pal)\n",
    "plt.xticks(fontsize=14)\n",
    "plt.yticks(fontsize=14)"
   ]
  },
  {
   "cell_type": "code",
   "execution_count": 119,
   "metadata": {},
   "outputs": [
    {
     "data": {
      "text/plain": [
       "(array([-200.,    0.,  200.,  400.,  600.,  800., 1000.]),\n",
       " [Text(0, -200.0, '−200'),\n",
       "  Text(0, 0.0, '0'),\n",
       "  Text(0, 200.0, '200'),\n",
       "  Text(0, 400.0, '400'),\n",
       "  Text(0, 600.0, '600'),\n",
       "  Text(0, 800.0, '800'),\n",
       "  Text(0, 1000.0, '1000')])"
      ]
     },
     "execution_count": 119,
     "metadata": {},
     "output_type": "execute_result"
    },
    {
     "data": {
      "image/png": "[encoded data removed]",
      "text/plain": [
       "<Figure size 432x288 with 1 Axes>"
      ]
     },
     "metadata": {
      "needs_background": "light"
     },
     "output_type": "display_data"
    }
   ],
   "source": [
    "lenin=len(np.where(tallma['IV']==0)[0])\n",
    "xxx=np.empty([len(tallma['DV'])],dtype = str) \n",
    "xxx[0:lenin]='C'\n",
    "xxx[lenin:]='N'\n",
    "    \n",
    "compare_durationrow=tallma['DV']\n",
    "#my_pal = {'g','grey'}\n",
    "my_pal = 'Greens'\n",
    "ax = sns.boxplot(x=xxx, y=compare_durationrow, linewidth=1.5,whis=1.5,palette=my_pal)\n",
    "plt.xticks(fontsize=14)\n",
    "plt.yticks(fontsize=14)"
   ]
  },
  {
   "cell_type": "code",
   "execution_count": 120,
   "metadata": {},
   "outputs": [
    {
     "data": {
      "text/plain": [
       "(array([-100.,    0.,  100.,  200.,  300.,  400.,  500.,  600.,  700.,\n",
       "         800.,  900.]),\n",
       " [Text(0, -100.0, '−100'),\n",
       "  Text(0, 0.0, '0'),\n",
       "  Text(0, 100.0, '100'),\n",
       "  Text(0, 200.0, '200'),\n",
       "  Text(0, 300.0, '300'),\n",
       "  Text(0, 400.0, '400'),\n",
       "  Text(0, 500.0, '500'),\n",
       "  Text(0, 600.0, '600'),\n",
       "  Text(0, 700.0, '700'),\n",
       "  Text(0, 800.0, '800'),\n",
       "  Text(0, 900.0, '900')])"
      ]
     },
     "execution_count": 120,
     "metadata": {},
     "output_type": "execute_result"
    },
    {
     "data": {
      "image/png": "[encoded data removed]",
      "text/plain": [
       "<Figure size 432x288 with 1 Axes>"
      ]
     },
     "metadata": {
      "needs_background": "light"
     },
     "output_type": "display_data"
    }
   ],
   "source": [
    "lenin=len(np.where(tallmi['IV']==0)[0])\n",
    "xxx=np.empty([len(tallmi['DV'])],dtype = str) \n",
    "xxx[0:lenin]='C'\n",
    "xxx[lenin:]='N'\n",
    "    \n",
    "compare_durationrow=tallmi['DV']\n",
    "#my_pal = {'g','grey'}\n",
    "my_pal = 'Greens'\n",
    "ax = sns.boxplot(x=xxx, y=compare_durationrow, linewidth=1.5,whis=1.5,palette=my_pal)\n",
    "plt.xticks(fontsize=14)\n",
    "plt.yticks(fontsize=14)"
   ]
  },
  {
   "cell_type": "code",
   "execution_count": 121,
   "metadata": {},
   "outputs": [
    {
     "data": {
      "text/plain": [
       "(array([-200.,    0.,  200.,  400.,  600.,  800., 1000.]),\n",
       " [Text(0, -200.0, '−200'),\n",
       "  Text(0, 0.0, '0'),\n",
       "  Text(0, 200.0, '200'),\n",
       "  Text(0, 400.0, '400'),\n",
       "  Text(0, 600.0, '600'),\n",
       "  Text(0, 800.0, '800'),\n",
       "  Text(0, 1000.0, '1000')])"
      ]
     },
     "execution_count": 121,
     "metadata": {},
     "output_type": "execute_result"
    },
    {
     "data": {
      "image/png": "[encoded data removed]",
      "text/plain": [
       "<Figure size 432x288 with 1 Axes>"
      ]
     },
     "metadata": {
      "needs_background": "light"
     },
     "output_type": "display_data"
    }
   ],
   "source": [
    "lenin=len(np.where(tallr['IV']==0)[0])\n",
    "xxx=np.empty([len(tallr['DV'])],dtype = str) \n",
    "xxx[0:lenin]='C'\n",
    "xxx[lenin:]='N'\n",
    "    \n",
    "compare_durationrow=tallr['DV']\n",
    "#my_pal = {'g','grey'}\n",
    "my_pal = 'Greens'\n",
    "ax = sns.boxplot(x=xxx, y=compare_durationrow, linewidth=1.5,whis=1.5,palette=my_pal)\n",
    "plt.xticks(fontsize=14)\n",
    "plt.yticks(fontsize=14)"
   ]
  },
  {
   "cell_type": "code",
   "execution_count": 122,
   "metadata": {},
   "outputs": [
    {
     "data": {
      "text/plain": [
       "(array([-200.,    0.,  200.,  400.,  600.,  800., 1000.]),\n",
       " [Text(0, -200.0, '−200'),\n",
       "  Text(0, 0.0, '0'),\n",
       "  Text(0, 200.0, '200'),\n",
       "  Text(0, 400.0, '400'),\n",
       "  Text(0, 600.0, '600'),\n",
       "  Text(0, 800.0, '800'),\n",
       "  Text(0, 1000.0, '1000')])"
      ]
     },
     "execution_count": 122,
     "metadata": {},
     "output_type": "execute_result"
    },
    {
     "data": {
      "image/png": "[encoded data removed]",
      "text/plain": [
       "<Figure size 432x288 with 1 Axes>"
      ]
     },
     "metadata": {
      "needs_background": "light"
     },
     "output_type": "display_data"
    }
   ],
   "source": [
    "lenin=len(np.where(eallme['IV']==0)[0])\n",
    "xxx=np.empty([len(eallme['DV'])],dtype = str) \n",
    "xxx[0:lenin]='C'\n",
    "xxx[lenin:]='N'\n",
    "    \n",
    "compare_durationrow=eallme['DV']\n",
    "#my_pal = {'g','grey'}\n",
    "my_pal = 'Greens'\n",
    "ax = sns.boxplot(x=xxx, y=compare_durationrow, linewidth=1.5,whis=1.5,palette=my_pal)\n",
    "plt.xticks(fontsize=14)\n",
    "plt.yticks(fontsize=14)"
   ]
  },
  {
   "cell_type": "code",
   "execution_count": 123,
   "metadata": {},
   "outputs": [
    {
     "data": {
      "text/plain": [
       "(array([-200.,    0.,  200.,  400.,  600.,  800., 1000.]),\n",
       " [Text(0, -200.0, '−200'),\n",
       "  Text(0, 0.0, '0'),\n",
       "  Text(0, 200.0, '200'),\n",
       "  Text(0, 400.0, '400'),\n",
       "  Text(0, 600.0, '600'),\n",
       "  Text(0, 800.0, '800'),\n",
       "  Text(0, 1000.0, '1000')])"
      ]
     },
     "execution_count": 123,
     "metadata": {},
     "output_type": "execute_result"
    },
    {
     "data": {
      "image/png": "[encoded data removed]",
      "text/plain": [
       "<Figure size 432x288 with 1 Axes>"
      ]
     },
     "metadata": {
      "needs_background": "light"
     },
     "output_type": "display_data"
    }
   ],
   "source": [
    "lenin=len(np.where(eallma['IV']==0)[0])\n",
    "xxx=np.empty([len(eallma['DV'])],dtype = str) \n",
    "xxx[0:lenin]='C'\n",
    "xxx[lenin:]='N'\n",
    "    \n",
    "compare_durationrow=eallma['DV']\n",
    "#my_pal = {'g','grey'}\n",
    "my_pal = 'Greens'\n",
    "ax = sns.boxplot(x=xxx, y=compare_durationrow, linewidth=1.5,whis=1.5,palette=my_pal)\n",
    "plt.xticks(fontsize=14)\n",
    "plt.yticks(fontsize=14)"
   ]
  },
  {
   "cell_type": "code",
   "execution_count": 124,
   "metadata": {},
   "outputs": [
    {
     "data": {
      "text/plain": [
       "(array([-200.,    0.,  200.,  400.,  600.,  800., 1000.]),\n",
       " [Text(0, -200.0, '−200'),\n",
       "  Text(0, 0.0, '0'),\n",
       "  Text(0, 200.0, '200'),\n",
       "  Text(0, 400.0, '400'),\n",
       "  Text(0, 600.0, '600'),\n",
       "  Text(0, 800.0, '800'),\n",
       "  Text(0, 1000.0, '1000')])"
      ]
     },
     "execution_count": 124,
     "metadata": {},
     "output_type": "execute_result"
    },
    {
     "data": {
      "image/png": "[encoded data removed]",
      "text/plain": [
       "<Figure size 432x288 with 1 Axes>"
      ]
     },
     "metadata": {
      "needs_background": "light"
     },
     "output_type": "display_data"
    }
   ],
   "source": [
    "lenin=len(np.where(eallmi['IV']==0)[0])\n",
    "xxx=np.empty([len(eallmi['DV'])],dtype = str) \n",
    "xxx[0:lenin]='C'\n",
    "xxx[lenin:]='N'\n",
    "    \n",
    "compare_durationrow=eallmi['DV']\n",
    "#my_pal = {'g','grey'}\n",
    "my_pal = 'Greens'\n",
    "ax = sns.boxplot(x=xxx, y=compare_durationrow, linewidth=1.5,whis=1.5,palette=my_pal)\n",
    "plt.xticks(fontsize=14)\n",
    "plt.yticks(fontsize=14)"
   ]
  },
  {
   "cell_type": "code",
   "execution_count": 125,
   "metadata": {},
   "outputs": [
    {
     "data": {
      "text/plain": [
       "(array([-100.,    0.,  100.,  200.,  300.,  400.,  500.,  600.,  700.,\n",
       "         800.]),\n",
       " [Text(0, -100.0, '−100'),\n",
       "  Text(0, 0.0, '0'),\n",
       "  Text(0, 100.0, '100'),\n",
       "  Text(0, 200.0, '200'),\n",
       "  Text(0, 300.0, '300'),\n",
       "  Text(0, 400.0, '400'),\n",
       "  Text(0, 500.0, '500'),\n",
       "  Text(0, 600.0, '600'),\n",
       "  Text(0, 700.0, '700'),\n",
       "  Text(0, 800.0, '800')])"
      ]
     },
     "execution_count": 125,
     "metadata": {},
     "output_type": "execute_result"
    },
    {
     "data": {
      "image/png": "[encoded data removed]",
      "text/plain": [
       "<Figure size 432x288 with 1 Axes>"
      ]
     },
     "metadata": {
      "needs_background": "light"
     },
     "output_type": "display_data"
    }
   ],
   "source": [
    "fig, ax=plt.subplots()\n",
    "ax.spines['right'].set_visible(False)\n",
    "ax.spines['top'].set_visible(False)\n",
    "plt.rc('font',family='Times New Roman')\n",
    "plt.xticks(fontsize=14)\n",
    "plt.yticks(fontsize=14)\n",
    "my_pal = 'Greens'\n",
    "lenin=len(np.where(eallr['IV']==0)[0])\n",
    "xxx=np.empty([len(eallr['DV'])],dtype = str) \n",
    "xxx[0:lenin]='C'\n",
    "xxx[lenin:]='N'\n",
    "    \n",
    "compare_durationrow=eallr['DV']\n",
    "\n",
    "ax = sns.boxplot(x=xxx, y=compare_durationrow, linewidth=1.5,whis=1.5,palette=my_pal)\n",
    "plt.xticks(fontsize=14)\n",
    "plt.yticks(fontsize=14)"
   ]
  },
  {
   "cell_type": "code",
   "execution_count": 126,
   "metadata": {},
   "outputs": [],
   "source": [
    "tmsmed=smf.mixedlm(\"DV~IV\",tmsme,groups=tmsme['type'])\n",
    "tmsmedf = tmsmed.fit(method=['powell'])\n",
    "tmsmad=smf.mixedlm(\"DV~IV\",tmsma,groups=tmsma['type'])\n",
    "tmsmadf = tmsmad.fit(method=['powell'])\n",
    "tmsmid=smf.mixedlm(\"DV~IV\",tmsmi,groups=tmsmi['type'])\n",
    "tmsmidf = tmsmid.fit(method=['powell'])\n",
    "tmsrd=smf.mixedlm(\"DV~IV\",tmsr,groups=tmsr['type'])\n",
    "tmsrdf = tmsrd.fit(method=['powell'])"
   ]
  },
  {
   "cell_type": "code",
   "execution_count": 127,
   "metadata": {},
   "outputs": [],
   "source": [
    "tcsmed=smf.mixedlm(\"DV~IV\",tcsme,groups=tcsme['type'])\n",
    "tcsmedf = tcsmed.fit(method=['powell'])\n",
    "tcsmad=smf.mixedlm(\"DV~IV\",tcsma,groups=tcsma['type'])\n",
    "tcsmadf = tcsmad.fit(method=['powell'])\n",
    "tcsmid=smf.mixedlm(\"DV~IV\",tcsmi,groups=tcsmi['type'])\n",
    "tcsmidf = tcsmid.fit(method=['powell'])\n",
    "tcsrd=smf.mixedlm(\"DV~IV\",tcsr,groups=tcsr['type'])\n",
    "tcsrdf = tcsrd.fit(method=['powell'])"
   ]
  },
  {
   "cell_type": "code",
   "execution_count": 128,
   "metadata": {},
   "outputs": [],
   "source": [
    "def remove_outliers(df, columns):\n",
    "    for column in columns:\n",
    "        Q1 = df[column].quantile(0.25)\n",
    "        Q3 = df[column].quantile(0.75)\n",
    "        IQR = Q3 - Q1\n",
    "        lower_bound = Q1 - 1.5 * IQR\n",
    "        upper_bound = Q3 + 1.5 * IQR\n",
    "\n",
    "        # Filter out outliers\n",
    "        df = df[(df[column] >= lower_bound) & (df[column] <= upper_bound)]\n",
    "    \n",
    "    return df\n",
    "\n",
    "# Columns to check for outliers\n",
    "columns_to_check = ['DV', 'IV']\n",
    "\n"
   ]
  },
  {
   "cell_type": "code",
   "execution_count": 129,
   "metadata": {},
   "outputs": [],
   "source": [
    "\n",
    "# Remove outliers from 'DV' and 'IV'\n",
    "tmsmecut = remove_outliers(tmsme, columns_to_check)\n",
    "tmsmacut = remove_outliers(tmsma, columns_to_check)\n",
    "tmsmicut = remove_outliers(tmsmi, columns_to_check)\n",
    "tmsrcut = remove_outliers(tmsr, columns_to_check)"
   ]
  },
  {
   "cell_type": "code",
   "execution_count": 130,
   "metadata": {},
   "outputs": [],
   "source": [
    "tcsmecut = remove_outliers(tcsme, columns_to_check)\n",
    "tcsmacut = remove_outliers(tcsma, columns_to_check)\n",
    "tcsmicut = remove_outliers(tcsmi, columns_to_check)\n",
    "tcsrcut = remove_outliers(tcsr, columns_to_check)"
   ]
  },
  {
   "cell_type": "code",
   "execution_count": 131,
   "metadata": {},
   "outputs": [],
   "source": [
    "emsmecut = remove_outliers(emsme, columns_to_check)\n",
    "emsmacut = remove_outliers(emsma, columns_to_check)\n",
    "emsmicut = remove_outliers(emsmi, columns_to_check)\n",
    "emsrcut = remove_outliers(emsr, columns_to_check)"
   ]
  },
  {
   "cell_type": "code",
   "execution_count": 132,
   "metadata": {},
   "outputs": [],
   "source": [
    "ecsmecut = remove_outliers(ecsme, columns_to_check)\n",
    "ecsmacut = remove_outliers(ecsma, columns_to_check)\n",
    "ecsmicut = remove_outliers(ecsmi, columns_to_check)\n",
    "ecsrcut = remove_outliers(ecsr, columns_to_check)"
   ]
  },
  {
   "cell_type": "code",
   "execution_count": 133,
   "metadata": {},
   "outputs": [],
   "source": [
    "tmsmecutd=smf.mixedlm(\"DV~IV\",tmsmecut,groups=tmsmecut['type'])\n",
    "tmsmecutdf = tmsmecutd.fit(method=['powell'])\n",
    "tmsmacutd=smf.mixedlm(\"DV~IV\",tmsmacut,groups=tmsmacut['type'])\n",
    "tmsmacutdf = tmsmacutd.fit(method=['powell'])\n",
    "tmsmicutd=smf.mixedlm(\"DV~IV\",tmsmicut,groups=tmsmicut['type'])\n",
    "tmsmicutdf = tmsmicutd.fit(method=['powell'])\n",
    "tmsrcutd=smf.mixedlm(\"DV~IV\",tmsrcut,groups=tmsrcut['type'])\n",
    "tmsrcutdf = tmsrcutd.fit(method=['powell'])"
   ]
  },
  {
   "cell_type": "code",
   "execution_count": 134,
   "metadata": {},
   "outputs": [],
   "source": [
    "emsmecutd=smf.mixedlm(\"DV~IV\",emsmecut,groups=emsmecut['type'])\n",
    "emsmecutdf = emsmecutd.fit(method=['powell'])\n",
    "emsmacutd=smf.mixedlm(\"DV~IV\",emsmacut,groups=emsmacut['type'])\n",
    "emsmacutdf = emsmacutd.fit(method=['powell'])\n",
    "emsmicutd=smf.mixedlm(\"DV~IV\",emsmicut,groups=emsmicut['type'])\n",
    "emsmicutdf = emsmicutd.fit(method=['powell'])\n",
    "emsrcutd=smf.mixedlm(\"DV~IV\",emsrcut,groups=emsrcut['type'])\n",
    "emsrcutdf = emsrcutd.fit(method=['powell'])"
   ]
  },
  {
   "cell_type": "code",
   "execution_count": 135,
   "metadata": {},
   "outputs": [],
   "source": [
    "tcsmecutd=smf.mixedlm(\"DV~IV\",tcsmecut,groups=tcsmecut['type'])\n",
    "tcsmecutdf = tcsmecutd.fit(method=['powell'])\n",
    "tcsmacutd=smf.mixedlm(\"DV~IV\",tcsmacut,groups=tcsmacut['type'])\n",
    "tcsmacutdf = tcsmacutd.fit(method=['powell'])\n",
    "tcsmicutd=smf.mixedlm(\"DV~IV\",tcsmicut,groups=tcsmicut['type'])\n",
    "tcsmicutdf = tcsmicutd.fit(method=['powell'])\n",
    "tcsrcutd=smf.mixedlm(\"DV~IV\",tcsrcut,groups=tcsrcut['type'])\n",
    "tcsrcutdf = tcsrcutd.fit(method=['powell'])"
   ]
  },
  {
   "cell_type": "code",
   "execution_count": 136,
   "metadata": {},
   "outputs": [],
   "source": [
    "ecsmecutd=smf.mixedlm(\"DV~IV\",ecsmecut,groups=ecsmecut['type'])\n",
    "ecsmecutdf = ecsmecutd.fit(method=['powell'])\n",
    "ecsmacutd=smf.mixedlm(\"DV~IV\",ecsmacut,groups=ecsmacut['type'])\n",
    "ecsmacutdf = ecsmacutd.fit(method=['powell'])\n",
    "ecsmicutd=smf.mixedlm(\"DV~IV\",ecsmicut,groups=ecsmicut['type'])\n",
    "ecsmicutdf = ecsmicutd.fit(method=['powell'])\n",
    "ecsrcutd=smf.mixedlm(\"DV~IV\",ecsrcut,groups=ecsrcut['type'])\n",
    "ecsrcutdf = ecsrcutd.fit(method=['powell'])"
   ]
  },
  {
   "cell_type": "code",
   "execution_count": 137,
   "metadata": {
    "scrolled": true
   },
   "outputs": [
    {
     "name": "stdout",
     "output_type": "stream",
     "text": [
      "         Mixed Linear Model Regression Results\n",
      "=======================================================\n",
      "Model:            MixedLM Dependent Variable: DV       \n",
      "No. Observations: 101     Method:             REML     \n",
      "No. Groups:       6       Scale:              3179.6047\n",
      "Min. group size:  7       Log-Likelihood:     -551.9079\n",
      "Max. group size:  40      Converged:          Yes      \n",
      "Mean group size:  16.8                                 \n",
      "-------------------------------------------------------\n",
      "            Coef.  Std.Err.   z   P>|z|  [0.025  0.975]\n",
      "-------------------------------------------------------\n",
      "Intercept  335.333   39.354 8.521 0.000 258.200 412.467\n",
      "IV           0.106    0.149 0.710 0.478  -0.186   0.397\n",
      "Group Var  880.784   13.129                            \n",
      "=======================================================\n",
      "\n",
      "0.7096052457353408\n",
      "         Mixed Linear Model Regression Results\n",
      "=======================================================\n",
      "Model:            MixedLM Dependent Variable: DV       \n",
      "No. Observations: 96      Method:             REML     \n",
      "No. Groups:       6       Scale:              6720.0327\n",
      "Min. group size:  5       Log-Likelihood:     -559.9493\n",
      "Max. group size:  37      Converged:          Yes      \n",
      "Mean group size:  16.0                                 \n",
      "-------------------------------------------------------\n",
      "           Coef.   Std.Err.   z   P>|z|  [0.025  0.975]\n",
      "-------------------------------------------------------\n",
      "Intercept  387.856   42.328 9.163 0.000 304.896 470.817\n",
      "IV           0.087    0.127 0.681 0.496  -0.163   0.336\n",
      "Group Var 1635.624   17.747                            \n",
      "=======================================================\n",
      "\n",
      "0.68103324428412\n",
      "         Mixed Linear Model Regression Results\n",
      "=======================================================\n",
      "Model:            MixedLM Dependent Variable: DV       \n",
      "No. Observations: 103     Method:             REML     \n",
      "No. Groups:       6       Scale:              4930.8930\n",
      "Min. group size:  7       Log-Likelihood:     -583.0264\n",
      "Max. group size:  40      Converged:          Yes      \n",
      "Mean group size:  17.2                                 \n",
      "-------------------------------------------------------\n",
      "            Coef.  Std.Err.   z   P>|z|  [0.025  0.975]\n",
      "-------------------------------------------------------\n",
      "Intercept  253.140   47.767 5.299 0.000 159.518 346.762\n",
      "IV           0.205    0.237 0.865 0.387  -0.259   0.669\n",
      "Group Var  481.978    8.005                            \n",
      "=======================================================\n",
      "\n",
      "0.8653719789629639\n",
      "         Mixed Linear Model Regression Results\n",
      "=======================================================\n",
      "Model:            MixedLM Dependent Variable: DV       \n",
      "No. Observations: 91      Method:             REML     \n",
      "No. Groups:       6       Scale:              5199.4259\n",
      "Min. group size:  5       Log-Likelihood:     -516.2448\n",
      "Max. group size:  37      Converged:          Yes      \n",
      "Mean group size:  15.2                                 \n",
      "-------------------------------------------------------\n",
      "            Coef.  Std.Err.   z    P>|z| [0.025  0.975]\n",
      "-------------------------------------------------------\n",
      "Intercept  119.869   14.915  8.037 0.000 90.635 149.102\n",
      "IV          -0.109    0.150 -0.728 0.467 -0.404   0.185\n",
      "Group Var  142.918    4.662                            \n",
      "=======================================================\n",
      "\n",
      "-0.727696152043528\n"
     ]
    }
   ],
   "source": [
    "print(tmsmecutdf.summary())\n",
    "print(tmsmecutdf.tvalues['IV'])\n",
    "print(tmsmacutdf.summary())\n",
    "print(tmsmacutdf.tvalues['IV'])\n",
    "print(tmsmicutdf.summary())\n",
    "print(tmsmicutdf.tvalues['IV'])\n",
    "print(tmsrcutdf.summary())\n",
    "print(tmsrcutdf.tvalues['IV'])"
   ]
  },
  {
   "cell_type": "code",
   "execution_count": 138,
   "metadata": {
    "scrolled": true
   },
   "outputs": [
    {
     "name": "stdout",
     "output_type": "stream",
     "text": [
      "         Mixed Linear Model Regression Results\n",
      "=======================================================\n",
      "Model:            MixedLM Dependent Variable: DV       \n",
      "No. Observations: 79      Method:             REML     \n",
      "No. Groups:       6       Scale:              1769.6462\n",
      "Min. group size:  3       Log-Likelihood:     -408.7615\n",
      "Max. group size:  44      Converged:          Yes      \n",
      "Mean group size:  13.2                                 \n",
      "-------------------------------------------------------\n",
      "           Coef.  Std.Err.   z    P>|z|  [0.025  0.975]\n",
      "-------------------------------------------------------\n",
      "Intercept 321.794   32.018 10.050 0.000 259.039 384.549\n",
      "IV          0.102    0.105  0.975 0.329  -0.103   0.307\n",
      "Group Var 605.966   14.335                             \n",
      "=======================================================\n",
      "\n",
      "0.9753398064230356\n",
      "         Mixed Linear Model Regression Results\n",
      "========================================================\n",
      "Model:             MixedLM Dependent Variable: DV       \n",
      "No. Observations:  83      Method:             REML     \n",
      "No. Groups:        6       Scale:              4991.6574\n",
      "Min. group size:   3       Log-Likelihood:     -471.2862\n",
      "Max. group size:   48      Converged:          Yes      \n",
      "Mean group size:   13.8                                 \n",
      "--------------------------------------------------------\n",
      "           Coef.   Std.Err.   z    P>|z|  [0.025  0.975]\n",
      "--------------------------------------------------------\n",
      "Intercept  401.824   36.094 11.133 0.000 331.081 472.568\n",
      "IV           0.014    0.095  0.145 0.885  -0.173   0.200\n",
      "Group Var 1075.163   17.757                             \n",
      "========================================================\n",
      "\n",
      "0.14501789933894027\n",
      "         Mixed Linear Model Regression Results\n",
      "=======================================================\n",
      "Model:            MixedLM Dependent Variable: DV       \n",
      "No. Observations: 83      Method:             REML     \n",
      "No. Groups:       6       Scale:              1816.7059\n",
      "Min. group size:  3       Log-Likelihood:     -428.6648\n",
      "Max. group size:  46      Converged:          Yes      \n",
      "Mean group size:  13.8                                 \n",
      "-------------------------------------------------------\n",
      "           Coef.  Std.Err.   z    P>|z|  [0.025  0.975]\n",
      "-------------------------------------------------------\n",
      "Intercept 252.942   24.766 10.213 0.000 204.401 301.483\n",
      "IV          0.196    0.102  1.930 0.054  -0.003   0.395\n",
      "Group Var 160.587    6.447                             \n",
      "=======================================================\n",
      "\n",
      "1.9301675950076709\n",
      "         Mixed Linear Model Regression Results\n",
      "=======================================================\n",
      "Model:            MixedLM Dependent Variable: DV       \n",
      "No. Observations: 80      Method:             REML     \n",
      "No. Groups:       6       Scale:              3993.2228\n",
      "Min. group size:  4       Log-Likelihood:     -444.2847\n",
      "Max. group size:  45      Converged:          Yes      \n",
      "Mean group size:  13.3                                 \n",
      "-------------------------------------------------------\n",
      "             Coef.  Std.Err.   z   P>|z| [0.025  0.975]\n",
      "-------------------------------------------------------\n",
      "Intercept    86.935   17.147 5.070 0.000 53.328 120.543\n",
      "IV            0.161    0.131 1.226 0.220 -0.096   0.418\n",
      "Group Var   465.718    9.632                           \n",
      "=======================================================\n",
      "\n",
      "1.2255398836624274\n"
     ]
    }
   ],
   "source": [
    "print(emsmecutdf.summary())\n",
    "print(emsmecutdf.tvalues['IV'])\n",
    "print(emsmacutdf.summary())\n",
    "print(emsmacutdf.tvalues['IV'])\n",
    "print(emsmicutdf.summary())\n",
    "print(emsmicutdf.tvalues['IV'])\n",
    "print(emsrcutdf.summary())\n",
    "print(emsrcutdf.tvalues['IV'])"
   ]
  },
  {
   "cell_type": "code",
   "execution_count": 139,
   "metadata": {
    "scrolled": true
   },
   "outputs": [
    {
     "name": "stdout",
     "output_type": "stream",
     "text": [
      "         Mixed Linear Model Regression Results\n",
      "=======================================================\n",
      "Model:            MixedLM Dependent Variable: DV       \n",
      "No. Observations: 118     Method:             REML     \n",
      "No. Groups:       6       Scale:              1174.9748\n",
      "Min. group size:  7       Log-Likelihood:     -588.7057\n",
      "Max. group size:  56      Converged:          Yes      \n",
      "Mean group size:  19.7                                 \n",
      "-------------------------------------------------------\n",
      "           Coef.  Std.Err.   z    P>|z|  [0.025  0.975]\n",
      "-------------------------------------------------------\n",
      "Intercept 234.020   20.644 11.336 0.000 193.559 274.482\n",
      "IV          0.011    0.047  0.235 0.814  -0.082   0.104\n",
      "Group Var 542.015   11.419                             \n",
      "=======================================================\n",
      "\n",
      "0.2347490858514092\n",
      "         Mixed Linear Model Regression Results\n",
      "=======================================================\n",
      "Model:            MixedLM Dependent Variable: DV       \n",
      "No. Observations: 110     Method:             REML     \n",
      "No. Groups:       6       Scale:              3098.9486\n",
      "Min. group size:  7       Log-Likelihood:     -599.9256\n",
      "Max. group size:  53      Converged:          Yes      \n",
      "Mean group size:  18.3                                 \n",
      "-------------------------------------------------------\n",
      "           Coef.  Std.Err.   z    P>|z|  [0.025  0.975]\n",
      "-------------------------------------------------------\n",
      "Intercept 302.549   29.465 10.268 0.000 244.799 360.300\n",
      "IV         -0.034    0.062 -0.556 0.578  -0.156   0.087\n",
      "Group Var 656.070    9.416                             \n",
      "=======================================================\n",
      "\n",
      "-0.5561104951729162\n",
      "         Mixed Linear Model Regression Results\n",
      "=======================================================\n",
      "Model:            MixedLM Dependent Variable: DV       \n",
      "No. Observations: 113     Method:             REML     \n",
      "No. Groups:       6       Scale:              677.7923 \n",
      "Min. group size:  5       Log-Likelihood:     -532.8069\n",
      "Max. group size:  54      Converged:          Yes      \n",
      "Mean group size:  18.8                                 \n",
      "-------------------------------------------------------\n",
      "           Coef.  Std.Err.   z    P>|z|  [0.025  0.975]\n",
      "-------------------------------------------------------\n",
      "Intercept 203.168   16.242 12.509 0.000 171.334 235.003\n",
      "IV         -0.021    0.046 -0.462 0.644  -0.111   0.069\n",
      "Group Var 288.681    8.398                             \n",
      "=======================================================\n",
      "\n",
      "-0.4623442144365819\n",
      "         Mixed Linear Model Regression Results\n",
      "=======================================================\n",
      "Model:            MixedLM Dependent Variable: DV       \n",
      "No. Observations: 113     Method:             REML     \n",
      "No. Groups:       6       Scale:              2248.2920\n",
      "Min. group size:  8       Log-Likelihood:     -596.7308\n",
      "Max. group size:  52      Converged:          Yes      \n",
      "Mean group size:  18.8                                 \n",
      "-------------------------------------------------------\n",
      "            Coef.  Std.Err.   z    P>|z| [0.025  0.975]\n",
      "-------------------------------------------------------\n",
      "Intercept   84.800   10.228  8.291 0.000 64.753 104.847\n",
      "IV          -0.017    0.057 -0.302 0.762 -0.128   0.094\n",
      "Group Var  154.693    3.586                            \n",
      "=======================================================\n",
      "\n",
      "-0.30246714344136455\n"
     ]
    }
   ],
   "source": [
    "print(tcsmecutdf.summary())\n",
    "print(tcsmecutdf.tvalues['IV'])\n",
    "print(tcsmacutdf.summary())\n",
    "print(tcsmacutdf.tvalues['IV'])\n",
    "print(tcsmicutdf.summary())\n",
    "print(tcsmicutdf.tvalues['IV'])\n",
    "print(tcsrcutdf.summary())\n",
    "print(tcsrcutdf.tvalues['IV'])"
   ]
  },
  {
   "cell_type": "code",
   "execution_count": 140,
   "metadata": {
    "scrolled": true
   },
   "outputs": [
    {
     "name": "stdout",
     "output_type": "stream",
     "text": [
      "         Mixed Linear Model Regression Results\n",
      "=======================================================\n",
      "Model:            MixedLM Dependent Variable: DV       \n",
      "No. Observations: 102     Method:             REML     \n",
      "No. Groups:       6       Scale:              2241.9637\n",
      "Min. group size:  6       Log-Likelihood:     -539.0989\n",
      "Max. group size:  52      Converged:          Yes      \n",
      "Mean group size:  17.0                                 \n",
      "-------------------------------------------------------\n",
      "            Coef.  Std.Err.   z   P>|z|  [0.025  0.975]\n",
      "-------------------------------------------------------\n",
      "Intercept  242.603   34.570 7.018 0.000 174.847 310.359\n",
      "IV           0.149    0.089 1.680 0.093  -0.025   0.323\n",
      "Group Var  392.131    7.393                            \n",
      "=======================================================\n",
      "\n",
      "1.6798124204312133\n",
      "         Mixed Linear Model Regression Results\n",
      "=======================================================\n",
      "Model:            MixedLM Dependent Variable: DV       \n",
      "No. Observations: 110     Method:             REML     \n",
      "No. Groups:       6       Scale:              8530.6099\n",
      "Min. group size:  7       Log-Likelihood:     -653.7738\n",
      "Max. group size:  53      Converged:          Yes      \n",
      "Mean group size:  18.3                                 \n",
      "-------------------------------------------------------\n",
      "           Coef.   Std.Err.   z   P>|z|  [0.025  0.975]\n",
      "-------------------------------------------------------\n",
      "Intercept  287.080   40.013 7.175 0.000 208.656 365.504\n",
      "IV           0.184    0.084 2.191 0.028   0.019   0.348\n",
      "Group Var 1021.378   10.910                            \n",
      "=======================================================\n",
      "\n",
      "2.191059292886316\n",
      "         Mixed Linear Model Regression Results\n",
      "=======================================================\n",
      "Model:            MixedLM Dependent Variable: DV       \n",
      "No. Observations: 104     Method:             REML     \n",
      "No. Groups:       6       Scale:              2295.7109\n",
      "Min. group size:  6       Log-Likelihood:     -550.3924\n",
      "Max. group size:  51      Converged:          Yes      \n",
      "Mean group size:  17.3                                 \n",
      "-------------------------------------------------------\n",
      "            Coef.  Std.Err.   z   P>|z|  [0.025  0.975]\n",
      "-------------------------------------------------------\n",
      "Intercept  176.190   34.856 5.055 0.000 107.873 244.506\n",
      "IV           0.222    0.108 2.060 0.039   0.011   0.433\n",
      "Group Var  321.447    5.851                            \n",
      "=======================================================\n",
      "\n",
      "2.060250491690495\n",
      "         Mixed Linear Model Regression Results\n",
      "=======================================================\n",
      "Model:            MixedLM Dependent Variable: DV       \n",
      "No. Observations: 106     Method:             REML     \n",
      "No. Groups:       6       Scale:              5895.9047\n",
      "Min. group size:  7       Log-Likelihood:     -609.2429\n",
      "Max. group size:  51      Converged:          Yes      \n",
      "Mean group size:  17.7                                 \n",
      "-------------------------------------------------------\n",
      "             Coef.  Std.Err.   z   P>|z| [0.025  0.975]\n",
      "-------------------------------------------------------\n",
      "Intercept    79.161   14.873 5.322 0.000 50.011 108.312\n",
      "IV            0.271    0.086 3.134 0.002  0.101   0.440\n",
      "Group Var   218.058    5.491                           \n",
      "=======================================================\n",
      "\n",
      "3.134193745781518\n"
     ]
    }
   ],
   "source": [
    "print(ecsmecutdf.summary())\n",
    "print(ecsmecutdf.tvalues['IV'])\n",
    "print(ecsmacutdf.summary())\n",
    "print(ecsmacutdf.tvalues['IV'])\n",
    "print(ecsmicutdf.summary())\n",
    "print(ecsmicutdf.tvalues['IV'])\n",
    "print(ecsrcutdf.summary())\n",
    "print(ecsrcutdf.tvalues['IV'])"
   ]
  },
  {
   "cell_type": "code",
   "execution_count": 141,
   "metadata": {
    "scrolled": true
   },
   "outputs": [
    {
     "name": "stdout",
     "output_type": "stream",
     "text": [
      "         Mixed Linear Model Regression Results\n",
      "=======================================================\n",
      "Model:            MixedLM Dependent Variable: DV       \n",
      "No. Observations: 110     Method:             REML     \n",
      "No. Groups:       6       Scale:              6186.8297\n",
      "Min. group size:  10      Log-Likelihood:     -637.2485\n",
      "Max. group size:  40      Converged:          Yes      \n",
      "Mean group size:  18.3                                 \n",
      "-------------------------------------------------------\n",
      "           Coef.   Std.Err.   z   P>|z|  [0.025  0.975]\n",
      "-------------------------------------------------------\n",
      "Intercept  316.048   37.921 8.334 0.000 241.724 390.372\n",
      "IV           0.199    0.129 1.542 0.123  -0.054   0.453\n",
      "Group Var 1367.026   15.702                            \n",
      "=======================================================\n",
      "\n",
      "1.5420546309404668\n",
      "         Mixed Linear Model Regression Results\n",
      "========================================================\n",
      "Model:            MixedLM Dependent Variable: DV        \n",
      "No. Observations: 110     Method:             REML      \n",
      "No. Groups:       6       Scale:              14430.1417\n",
      "Min. group size:  10      Log-Likelihood:     -682.5795 \n",
      "Max. group size:  40      Converged:          Yes       \n",
      "Mean group size:  18.3                                  \n",
      "--------------------------------------------------------\n",
      "            Coef.   Std.Err.   z   P>|z|  [0.025  0.975]\n",
      "--------------------------------------------------------\n",
      "Intercept   329.552   47.246 6.975 0.000 236.952 422.152\n",
      "IV            0.340    0.128 2.651 0.008   0.089   0.592\n",
      "Group Var  2034.214   16.372                            \n",
      "========================================================\n",
      "\n",
      "2.6510149457894374\n",
      "         Mixed Linear Model Regression Results\n",
      "=======================================================\n",
      "Model:            MixedLM Dependent Variable: DV       \n",
      "No. Observations: 110     Method:             REML     \n",
      "No. Groups:       6       Scale:              5248.1730\n",
      "Min. group size:  10      Log-Likelihood:     -627.5841\n",
      "Max. group size:  40      Converged:          Yes      \n",
      "Mean group size:  18.3                                 \n",
      "-------------------------------------------------------\n",
      "           Coef.  Std.Err.   z    P>|z|  [0.025  0.975]\n",
      "-------------------------------------------------------\n",
      "Intercept 295.924   27.889 10.611 0.000 241.264 350.585\n",
      "IV          0.007    0.115  0.063 0.950  -0.219   0.233\n",
      "Group Var 732.380   10.374                             \n",
      "=======================================================\n",
      "\n",
      "0.06274527271296038\n",
      "         Mixed Linear Model Regression Results\n",
      "========================================================\n",
      "Model:            MixedLM Dependent Variable: DV        \n",
      "No. Observations: 110     Method:             REML      \n",
      "No. Groups:       6       Scale:              12635.2361\n",
      "Min. group size:  10      Log-Likelihood:     -674.2257 \n",
      "Max. group size:  40      Converged:          Yes       \n",
      "Mean group size:  18.3                                  \n",
      "--------------------------------------------------------\n",
      "              Coef.  Std.Err.   z   P>|z| [0.025  0.975]\n",
      "--------------------------------------------------------\n",
      "Intercept    117.990   21.258 5.550 0.000 76.326 159.654\n",
      "IV             0.213    0.122 1.740 0.082 -0.027   0.452\n",
      "Group Var    817.759   10.313                           \n",
      "========================================================\n",
      "\n",
      "1.7404181715517844\n"
     ]
    }
   ],
   "source": [
    "print(tmsmedf.summary())\n",
    "print(tmsmedf.tvalues['IV'])\n",
    "print(tmsmadf.summary())\n",
    "print(tmsmadf.tvalues['IV'])\n",
    "print(tmsmidf.summary())\n",
    "print(tmsmidf.tvalues['IV'])\n",
    "print(tmsrdf.summary())\n",
    "print(tmsrdf.tvalues['IV'])"
   ]
  },
  {
   "cell_type": "code",
   "execution_count": 143,
   "metadata": {},
   "outputs": [
    {
     "name": "stderr",
     "output_type": "stream",
     "text": [
      "C:\\Users\\ljr\\anaconda3\\lib\\site-packages\\statsmodels\\regression\\mixed_linear_model.py:2238: ConvergenceWarning: The MLE may be on the boundary of the parameter space.\n",
      "  warnings.warn(msg, ConvergenceWarning)\n",
      "C:\\Users\\ljr\\anaconda3\\lib\\site-packages\\statsmodels\\regression\\mixed_linear_model.py:2262: ConvergenceWarning: The Hessian matrix at the estimated parameter values is not positive definite.\n",
      "  warnings.warn(msg, ConvergenceWarning)\n"
     ]
    }
   ],
   "source": [
    "emsmed=smf.mixedlm(\"DV~IV\",emsme,groups=emsme['type'])\n",
    "emsmedf = emsmed.fit(method=['powell'])\n",
    "emsmad=smf.mixedlm(\"DV~IV\",emsma,groups=emsma['type'])\n",
    "emsmadf = emsmad.fit(method=['powell'])\n",
    "emsmid=smf.mixedlm(\"DV~IV\",emsmi,groups=emsmi['type'])\n",
    "emsmidf = emsmid.fit(method=['powell'])\n",
    "emsrd=smf.mixedlm(\"DV~IV\",emsr,groups=emsr['type'])\n",
    "emsrdf = emsrd.fit(method=['powell'])"
   ]
  },
  {
   "cell_type": "code",
   "execution_count": 144,
   "metadata": {},
   "outputs": [],
   "source": [
    "ecsmed=smf.mixedlm(\"DV~IV\",ecsme,groups=ecsme['type'])\n",
    "ecsmedf = ecsmed.fit(method=['powell'])\n",
    "ecsmad=smf.mixedlm(\"DV~IV\",ecsma,groups=ecsma['type'])\n",
    "ecsmadf = ecsmad.fit(method=['powell'])\n",
    "ecsmid=smf.mixedlm(\"DV~IV\",ecsmi,groups=ecsmi['type'])\n",
    "ecsmidf = ecsmid.fit(method=['powell'])\n",
    "ecsrd=smf.mixedlm(\"DV~IV\",ecsr,groups=ecsr['type'])\n",
    "ecsrdf = ecsrd.fit(method=['powell'])"
   ]
  },
  {
   "cell_type": "code",
   "execution_count": 145,
   "metadata": {
    "scrolled": true
   },
   "outputs": [
    {
     "name": "stdout",
     "output_type": "stream",
     "text": [
      "         Mixed Linear Model Regression Results\n",
      "=======================================================\n",
      "Model:            MixedLM Dependent Variable: DV       \n",
      "No. Observations: 90      Method:             REML     \n",
      "No. Groups:       6       Scale:              4597.0065\n",
      "Min. group size:  4       Log-Likelihood:     -507.6027\n",
      "Max. group size:  51      Converged:          Yes      \n",
      "Mean group size:  15.0                                 \n",
      "-------------------------------------------------------\n",
      "           Coef.   Std.Err.   z   P>|z|  [0.025  0.975]\n",
      "-------------------------------------------------------\n",
      "Intercept  326.653   38.931 8.391 0.000 250.351 402.956\n",
      "IV           0.095    0.124 0.762 0.446  -0.149   0.338\n",
      "Group Var 1179.936   19.440                            \n",
      "=======================================================\n",
      "\n",
      "0.7623425829266903\n",
      "         Mixed Linear Model Regression Results\n",
      "========================================================\n",
      "Model:            MixedLM Dependent Variable: DV        \n",
      "No. Observations: 90      Method:             REML      \n",
      "No. Groups:       6       Scale:              10196.8112\n",
      "Min. group size:  4       Log-Likelihood:     -542.9181 \n",
      "Max. group size:  51      Converged:          Yes       \n",
      "Mean group size:  15.0                                  \n",
      "--------------------------------------------------------\n",
      "            Coef.   Std.Err.   z   P>|z|  [0.025  0.975]\n",
      "--------------------------------------------------------\n",
      "Intercept   343.521   46.522 7.384 0.000 252.339 434.703\n",
      "IV            0.204    0.119 1.714 0.087  -0.029   0.437\n",
      "Group Var  2344.430   26.771                            \n",
      "========================================================\n",
      "\n",
      "1.7135087547800953\n",
      "         Mixed Linear Model Regression Results\n",
      "=======================================================\n",
      "Model:            MixedLM Dependent Variable: DV       \n",
      "No. Observations: 90      Method:             REML     \n",
      "No. Groups:       6       Scale:              3413.9324\n",
      "Min. group size:  4       Log-Likelihood:     -491.3818\n",
      "Max. group size:  51      Converged:          Yes      \n",
      "Mean group size:  15.0                                 \n",
      "-------------------------------------------------------\n",
      "           Coef.  Std.Err.   z    P>|z|  [0.025  0.975]\n",
      "-------------------------------------------------------\n",
      "Intercept 290.323   24.975 11.625 0.000 241.374 339.273\n",
      "IV          0.040    0.107  0.372 0.710  -0.170   0.250\n",
      "Group Var   0.000                                      \n",
      "=======================================================\n",
      "\n",
      "0.371811552744655\n",
      "         Mixed Linear Model Regression Results\n",
      "=======================================================\n",
      "Model:            MixedLM Dependent Variable: DV       \n",
      "No. Observations: 90      Method:             REML     \n",
      "No. Groups:       6       Scale:              7165.5314\n",
      "Min. group size:  4       Log-Likelihood:     -526.1052\n",
      "Max. group size:  51      Converged:          Yes      \n",
      "Mean group size:  15.0                                 \n",
      "-------------------------------------------------------\n",
      "             Coef.  Std.Err.   z   P>|z| [0.025  0.975]\n",
      "-------------------------------------------------------\n",
      "Intercept    86.685   20.152 4.302 0.000 47.188 126.181\n",
      "IV            0.317    0.120 2.641 0.008  0.082   0.553\n",
      "Group Var   761.328   14.441                           \n",
      "=======================================================\n",
      "\n",
      "2.6406261644804347\n"
     ]
    }
   ],
   "source": [
    "print(emsmedf.summary())\n",
    "print(emsmedf.tvalues['IV'])\n",
    "print(emsmadf.summary())\n",
    "print(emsmadf.tvalues['IV'])\n",
    "print(emsmidf.summary())\n",
    "print(emsmidf.tvalues['IV'])\n",
    "print(emsrdf.summary())\n",
    "print(emsrdf.tvalues['IV'])"
   ]
  },
  {
   "cell_type": "code",
   "execution_count": 146,
   "metadata": {
    "scrolled": true
   },
   "outputs": [
    {
     "name": "stdout",
     "output_type": "stream",
     "text": [
      "         Mixed Linear Model Regression Results\n",
      "=======================================================\n",
      "Model:            MixedLM Dependent Variable: DV       \n",
      "No. Observations: 118     Method:             REML     \n",
      "No. Groups:       6       Scale:              3190.6960\n",
      "Min. group size:  7       Log-Likelihood:     -645.3770\n",
      "Max. group size:  54      Converged:          Yes      \n",
      "Mean group size:  19.7                                 \n",
      "-------------------------------------------------------\n",
      "            Coef.  Std.Err.   z   P>|z|  [0.025  0.975]\n",
      "-------------------------------------------------------\n",
      "Intercept  248.226   25.307 9.809 0.000 198.625 297.826\n",
      "IV           0.137    0.057 2.415 0.016   0.026   0.248\n",
      "Group Var  692.166    9.711                            \n",
      "=======================================================\n",
      "\n",
      "2.415451640027539\n",
      "         Mixed Linear Model Regression Results\n",
      "========================================================\n",
      "Model:             MixedLM Dependent Variable: DV       \n",
      "No. Observations:  118     Method:             REML     \n",
      "No. Groups:        6       Scale:              8271.5908\n",
      "Min. group size:   7       Log-Likelihood:     -700.4178\n",
      "Max. group size:   54      Converged:          Yes      \n",
      "Mean group size:   19.7                                 \n",
      "--------------------------------------------------------\n",
      "           Coef.   Std.Err.   z    P>|z|  [0.025  0.975]\n",
      "--------------------------------------------------------\n",
      "Intercept  316.740   30.181 10.495 0.000 257.585 375.894\n",
      "IV           0.109    0.052  2.081 0.037   0.006   0.211\n",
      "Group Var 1147.819   11.341                             \n",
      "========================================================\n",
      "\n",
      "2.080994474513402\n",
      "         Mixed Linear Model Regression Results\n",
      "=======================================================\n",
      "Model:            MixedLM Dependent Variable: DV       \n",
      "No. Observations: 118     Method:             REML     \n",
      "No. Groups:       6       Scale:              3584.6909\n",
      "Min. group size:  7       Log-Likelihood:     -651.7120\n",
      "Max. group size:  54      Converged:          Yes      \n",
      "Mean group size:  19.7                                 \n",
      "-------------------------------------------------------\n",
      "            Coef.  Std.Err.   z   P>|z|  [0.025  0.975]\n",
      "-------------------------------------------------------\n",
      "Intercept  192.946   25.611 7.534 0.000 142.750 243.142\n",
      "IV           0.189    0.070 2.708 0.007   0.052   0.325\n",
      "Group Var  669.458    9.139                            \n",
      "=======================================================\n",
      "\n",
      "2.707592480691359\n",
      "         Mixed Linear Model Regression Results\n",
      "=======================================================\n",
      "Model:            MixedLM Dependent Variable: DV       \n",
      "No. Observations: 118     Method:             REML     \n",
      "No. Groups:       6       Scale:              7621.6011\n",
      "Min. group size:  7       Log-Likelihood:     -694.7340\n",
      "Max. group size:  54      Converged:          Yes      \n",
      "Mean group size:  19.7                                 \n",
      "-------------------------------------------------------\n",
      "             Coef.  Std.Err.   z   P>|z| [0.025  0.975]\n",
      "-------------------------------------------------------\n",
      "Intercept    93.721   17.271 5.426 0.000 59.869 127.572\n",
      "IV            0.155    0.059 2.635 0.008  0.040   0.270\n",
      "Group Var   619.572    8.110                           \n",
      "=======================================================\n",
      "\n",
      "2.6350257398358092\n"
     ]
    }
   ],
   "source": [
    "print(ecsmedf.summary())\n",
    "print(ecsmedf.tvalues['IV'])\n",
    "print(ecsmadf.summary())\n",
    "print(ecsmadf.tvalues['IV'])\n",
    "print(ecsmidf.summary())\n",
    "print(ecsmidf.tvalues['IV'])\n",
    "print(ecsrdf.summary())\n",
    "print(ecsrdf.tvalues['IV'])"
   ]
  },
  {
   "cell_type": "code",
   "execution_count": 147,
   "metadata": {
    "scrolled": true
   },
   "outputs": [
    {
     "data": {
      "image/png": "[encoded data removed]",
      "text/plain": [
       "<Figure size 432x288 with 1 Axes>"
      ]
     },
     "metadata": {
      "needs_background": "light"
     },
     "output_type": "display_data"
    },
    {
     "data": {
      "image/png": "[encoded data removed]",
      "text/plain": [
       "<Figure size 432x288 with 1 Axes>"
      ]
     },
     "metadata": {
      "needs_background": "light"
     },
     "output_type": "display_data"
    },
    {
     "data": {
      "image/png": "[encoded data removed]",
      "text/plain": [
       "<Figure size 432x288 with 1 Axes>"
      ]
     },
     "metadata": {
      "needs_background": "light"
     },
     "output_type": "display_data"
    },
    {
     "data": {
      "image/png": "[encoded data removed]",
      "text/plain": [
       "<Figure size 432x288 with 1 Axes>"
      ]
     },
     "metadata": {
      "needs_background": "light"
     },
     "output_type": "display_data"
    }
   ],
   "source": [
    "fig, ax=plt.subplots()\n",
    "ax.spines['right'].set_visible(False)\n",
    "ax.spines['top'].set_visible(False)\n",
    "plt.rc('font',family='Times New Roman')\n",
    "plt.scatter(tmsme['IV'],tmsme['DV'])\n",
    "linear_model=np.polyfit(tmsme['IV'],tmsme['DV'],1)\n",
    "linear_model_fn=np.poly1d(linear_model)\n",
    "plt.plot(tmsme['IV'],linear_model_fn(tmsme['IV']),color=\"k\")\n",
    "plt.xticks(fontsize=14)\n",
    "plt.yticks(fontsize=14)\n",
    "ax.set(xlim=(0, 650))\n",
    "ax.set(ylim=(0, 1100))\n",
    "\n",
    "plt.show()\n",
    "filesavemsme=r'C:\\LJR\\paper\\tseltalvsenglish\\figures\\msme.jpg'\n",
    "fig.savefig(filesavemsme, bbox_inches='tight', pad_inches=0)\n",
    "\n",
    "fig, ax=plt.subplots()\n",
    "ax.spines['right'].set_visible(False)\n",
    "ax.spines['top'].set_visible(False)\n",
    "plt.rc('font',family='Times New Roman')\n",
    "plt.scatter(tmsma['IV'],tmsma['DV'])\n",
    "linear_model=np.polyfit(tmsma['IV'],tmsma['DV'],1)\n",
    "linear_model_fn=np.poly1d(linear_model)\n",
    "plt.plot(tmsma['IV'],linear_model_fn(tmsma['IV']),color=\"k\")\n",
    "plt.xticks(fontsize=14)\n",
    "plt.yticks(fontsize=14)\n",
    "ax.set(xlim=(0, 650))\n",
    "ax.set(ylim=(0, 1100))\n",
    "plt.show()\n",
    "filesavemsma=r'C:\\LJR\\paper\\tseltalvsenglish\\figures\\msma.jpg'\n",
    "fig.savefig(filesavemsma, bbox_inches='tight', pad_inches=0)\n",
    "\n",
    "fig, ax=plt.subplots()\n",
    "ax.spines['right'].set_visible(False)\n",
    "ax.spines['top'].set_visible(False)\n",
    "plt.rc('font',family='Times New Roman')\n",
    "plt.scatter(tmsmi['IV'],tmsmi['DV'])\n",
    "linear_model=np.polyfit(tmsmi['IV'],tmsmi['DV'],1)\n",
    "linear_model_fn=np.poly1d(linear_model)\n",
    "plt.plot(tmsmi['IV'],linear_model_fn(tmsmi['IV']),color=\"k\")\n",
    "plt.xticks(fontsize=14)\n",
    "plt.yticks(fontsize=14)\n",
    "ax.set(xlim=(0, 650))\n",
    "ax.set(ylim=(0, 1100))\n",
    "\n",
    "plt.show()\n",
    "filesavemsmi=r'C:\\LJR\\paper\\tseltalvsenglish\\figures\\msmi.jpg'\n",
    "fig.savefig(filesavemsmi, bbox_inches='tight', pad_inches=0)\n",
    "\n",
    "fig, ax=plt.subplots()\n",
    "ax.spines['right'].set_visible(False)\n",
    "ax.spines['top'].set_visible(False)\n",
    "plt.rc('font',family='Times New Roman')\n",
    "plt.scatter(tmsr['IV'],tmsr['DV'])\n",
    "linear_model=np.polyfit(tmsr['IV'],tmsr['DV'],1)\n",
    "linear_model_fn=np.poly1d(linear_model)\n",
    "plt.plot(tmsr['IV'],linear_model_fn(tmsr['IV']),color=\"k\")\n",
    "plt.xticks(fontsize=14)\n",
    "plt.yticks(fontsize=14)\n",
    "ax.set(xlim=(0, 650))\n",
    "ax.set(ylim=(0, 1100))\n",
    "plt.show()\n",
    "filesavemsr=r'C:\\LJR\\paper\\tseltalvsenglish\\figures\\msr.jpg'\n",
    "fig.savefig(filesavemsr, bbox_inches='tight', pad_inches=0)"
   ]
  },
  {
   "cell_type": "code",
   "execution_count": 148,
   "metadata": {
    "scrolled": true
   },
   "outputs": [
    {
     "data": {
      "image/png": "[encoded data removed]",
      "text/plain": [
       "<Figure size 432x288 with 1 Axes>"
      ]
     },
     "metadata": {
      "needs_background": "light"
     },
     "output_type": "display_data"
    },
    {
     "data": {
      "image/png": "[encoded data removed]",
      "text/plain": [
       "<Figure size 432x288 with 1 Axes>"
      ]
     },
     "metadata": {
      "needs_background": "light"
     },
     "output_type": "display_data"
    },
    {
     "data": {
      "image/png": "[encoded data removed]",
      "text/plain": [
       "<Figure size 432x288 with 1 Axes>"
      ]
     },
     "metadata": {
      "needs_background": "light"
     },
     "output_type": "display_data"
    },
    {
     "data": {
      "image/png": "[encoded data removed]",
      "text/plain": [
       "<Figure size 432x288 with 1 Axes>"
      ]
     },
     "metadata": {
      "needs_background": "light"
     },
     "output_type": "display_data"
    }
   ],
   "source": [
    "fig, ax=plt.subplots()\n",
    "ax.spines['right'].set_visible(False)\n",
    "ax.spines['top'].set_visible(False)\n",
    "plt.rc('font',family='Times New Roman')\n",
    "plt.scatter(tcsme['IV'],tcsme['DV'])\n",
    "linear_model=np.polyfit(tcsme['IV'],tcsme['DV'],1)\n",
    "linear_model_fn=np.poly1d(linear_model)\n",
    "plt.plot(tcsme['IV'],linear_model_fn(tcsme['IV']),color=\"k\")\n",
    "plt.xticks(fontsize=14)\n",
    "plt.yticks(fontsize=14)\n",
    "ax.set(ylim=(0, 610))\n",
    "ax.set(xlim=(0, 1100))\n",
    "plt.show()\n",
    "filesavecsme=r'C:\\LJR\\paper\\tseltalvsenglish\\figures\\csme.jpg'\n",
    "fig.savefig(filesavecsme, bbox_inches='tight', pad_inches=0)\n",
    "\n",
    "fig, ax=plt.subplots()\n",
    "ax.spines['right'].set_visible(False)\n",
    "ax.spines['top'].set_visible(False)\n",
    "plt.rc('font',family='Times New Roman')\n",
    "plt.scatter(tcsma['IV'],tcsma['DV'])\n",
    "linear_model=np.polyfit(tcsma['IV'],tcsma['DV'],1)\n",
    "linear_model_fn=np.poly1d(linear_model)\n",
    "plt.plot(tcsma['IV'],linear_model_fn(tcsma['IV']),color=\"k\")\n",
    "plt.xticks(fontsize=14)\n",
    "plt.yticks(fontsize=14)\n",
    "ax.set(ylim=(0, 610))\n",
    "ax.set(xlim=(0, 1100))\n",
    "plt.show()\n",
    "filesavecsma=r'C:\\LJR\\paper\\tseltalvsenglish\\figures\\csma.jpg'\n",
    "fig.savefig(filesavecsma, bbox_inches='tight', pad_inches=0)\n",
    "\n",
    "fig, ax=plt.subplots()\n",
    "ax.spines['right'].set_visible(False)\n",
    "ax.spines['top'].set_visible(False)\n",
    "plt.rc('font',family='Times New Roman')\n",
    "plt.scatter(tcsmi['IV'],tcsmi['DV'])\n",
    "linear_model=np.polyfit(tcsmi['IV'],tcsmi['DV'],1)\n",
    "linear_model_fn=np.poly1d(linear_model)\n",
    "plt.plot(tcsmi['IV'],linear_model_fn(tcsmi['IV']),color=\"k\")\n",
    "plt.xticks(fontsize=14)\n",
    "plt.yticks(fontsize=14)\n",
    "ax.set(ylim=(0, 610))\n",
    "ax.set(xlim=(0, 1100))\n",
    "plt.show()\n",
    "filesavecsmi=r'C:\\LJR\\paper\\tseltalvsenglish\\figures\\csmi.jpg'\n",
    "fig.savefig(filesavecsmi, bbox_inches='tight', pad_inches=0)\n",
    "\n",
    "fig, ax=plt.subplots()\n",
    "ax.spines['right'].set_visible(False)\n",
    "ax.spines['top'].set_visible(False)\n",
    "plt.rc('font',family='Times New Roman')\n",
    "plt.scatter(tcsr['IV'],tcsr['DV'])\n",
    "linear_model=np.polyfit(tcsr['IV'],tcsr['DV'],1)\n",
    "linear_model_fn=np.poly1d(linear_model)\n",
    "plt.plot(tcsr['IV'],linear_model_fn(tcsr['IV']),color=\"k\")\n",
    "plt.xticks(fontsize=14)\n",
    "plt.yticks(fontsize=14)\n",
    "ax.set(ylim=(0, 610))\n",
    "ax.set(xlim=(0, 1100))\n",
    "plt.show()\n",
    "filesavecsr=r'C:\\LJR\\paper\\tseltalvsenglish\\figures\\csr.jpg'\n",
    "fig.savefig(filesavecsr, bbox_inches='tight', pad_inches=0)"
   ]
  },
  {
   "cell_type": "code",
   "execution_count": 149,
   "metadata": {
    "scrolled": true
   },
   "outputs": [
    {
     "data": {
      "image/png": "[encoded data removed]",
      "text/plain": [
       "<Figure size 432x288 with 1 Axes>"
      ]
     },
     "metadata": {
      "needs_background": "light"
     },
     "output_type": "display_data"
    },
    {
     "data": {
      "image/png": "[encoded data removed]",
      "text/plain": [
       "<Figure size 432x288 with 1 Axes>"
      ]
     },
     "metadata": {
      "needs_background": "light"
     },
     "output_type": "display_data"
    },
    {
     "data": {
      "image/png": "[encoded data removed]",
      "text/plain": [
       "<Figure size 432x288 with 1 Axes>"
      ]
     },
     "metadata": {
      "needs_background": "light"
     },
     "output_type": "display_data"
    },
    {
     "data": {
      "image/png": "[encoded data removed]",
      "text/plain": [
       "<Figure size 432x288 with 1 Axes>"
      ]
     },
     "metadata": {
      "needs_background": "light"
     },
     "output_type": "display_data"
    }
   ],
   "source": [
    "fig, ax=plt.subplots()\n",
    "ax.spines['right'].set_visible(False)\n",
    "ax.spines['top'].set_visible(False)\n",
    "plt.rc('font',family='Times New Roman')\n",
    "plt.scatter(emsme['IV'],emsme['DV'])\n",
    "linear_model=np.polyfit(emsme['IV'],emsme['DV'],1)\n",
    "linear_model_fn=np.poly1d(linear_model)\n",
    "plt.plot(emsme['IV'],linear_model_fn(emsme['IV']),color=\"k\")\n",
    "plt.xticks(fontsize=14)\n",
    "plt.yticks(fontsize=14)\n",
    "ax.set(xlim=(0, 650))\n",
    "ax.set(ylim=(0, 1100))\n",
    "plt.show()\n",
    "filesaveemsme=r'C:\\LJR\\paper\\tseltalvsenglish\\figures\\emsme.jpg'\n",
    "fig.savefig(filesaveemsme, bbox_inches='tight', pad_inches=0)\n",
    "\n",
    "fig, ax=plt.subplots()\n",
    "ax.spines['right'].set_visible(False)\n",
    "ax.spines['top'].set_visible(False)\n",
    "plt.rc('font',family='Times New Roman')\n",
    "plt.scatter(emsma['IV'],emsma['DV'])\n",
    "linear_model=np.polyfit(emsma['IV'],emsma['DV'],1)\n",
    "linear_model_fn=np.poly1d(linear_model)\n",
    "plt.plot(emsma['IV'],linear_model_fn(emsma['IV']),color=\"k\")\n",
    "plt.xticks(fontsize=14)\n",
    "plt.yticks(fontsize=14)\n",
    "ax.set(xlim=(0, 650))\n",
    "ax.set(ylim=(0, 1100))\n",
    "plt.show()\n",
    "filesaveemsma=r'C:\\LJR\\paper\\tseltalvsenglish\\figures\\emsma.jpg'\n",
    "fig.savefig(filesaveemsma, bbox_inches='tight', pad_inches=0)\n",
    "\n",
    "fig, ax=plt.subplots()\n",
    "ax.spines['right'].set_visible(False)\n",
    "ax.spines['top'].set_visible(False)\n",
    "plt.rc('font',family='Times New Roman')\n",
    "plt.scatter(emsmi['IV'],emsmi['DV'])\n",
    "linear_model=np.polyfit(emsmi['IV'],emsmi['DV'],1)\n",
    "linear_model_fn=np.poly1d(linear_model)\n",
    "plt.plot(emsmi['IV'],linear_model_fn(emsmi['IV']),color=\"k\")\n",
    "plt.xticks(fontsize=14)\n",
    "plt.yticks(fontsize=14)\n",
    "ax.set(xlim=(0, 650))\n",
    "ax.set(ylim=(0, 1100))\n",
    "plt.show()\n",
    "filesaveemsmi=r'C:\\LJR\\paper\\tseltalvsenglish\\figures\\emsmi.jpg'\n",
    "fig.savefig(filesaveemsmi, bbox_inches='tight', pad_inches=0)\n",
    "\n",
    "fig, ax=plt.subplots()\n",
    "ax.spines['right'].set_visible(False)\n",
    "ax.spines['top'].set_visible(False)\n",
    "plt.rc('font',family='Times New Roman')\n",
    "plt.scatter(emsr['IV'],emsr['DV'])\n",
    "linear_model=np.polyfit(emsr['IV'],emsr['DV'],1)\n",
    "linear_model_fn=np.poly1d(linear_model)\n",
    "plt.plot(emsr['IV'],linear_model_fn(emsr['IV']),color=\"k\")\n",
    "plt.xticks(fontsize=14)\n",
    "plt.yticks(fontsize=14)\n",
    "ax.set(xlim=(0, 650))\n",
    "ax.set(ylim=(0, 1100))\n",
    "plt.show()\n",
    "filesaveemsr=r'C:\\LJR\\paper\\tseltalvsenglish\\figures\\emsr.jpg'\n",
    "fig.savefig(filesaveemsr, bbox_inches='tight', pad_inches=0)"
   ]
  },
  {
   "cell_type": "code",
   "execution_count": 150,
   "metadata": {
    "scrolled": true
   },
   "outputs": [
    {
     "data": {
      "image/png": "[encoded data removed]",
      "text/plain": [
       "<Figure size 432x288 with 1 Axes>"
      ]
     },
     "metadata": {
      "needs_background": "light"
     },
     "output_type": "display_data"
    },
    {
     "data": {
      "image/png": "[encoded data removed]",
      "text/plain": [
       "<Figure size 432x288 with 1 Axes>"
      ]
     },
     "metadata": {
      "needs_background": "light"
     },
     "output_type": "display_data"
    },
    {
     "data": {
      "image/png": "[encoded data removed]",
      "text/plain": [
       "<Figure size 432x288 with 1 Axes>"
      ]
     },
     "metadata": {
      "needs_background": "light"
     },
     "output_type": "display_data"
    },
    {
     "data": {
      "image/png": "[encoded data removed]",
      "text/plain": [
       "<Figure size 432x288 with 1 Axes>"
      ]
     },
     "metadata": {
      "needs_background": "light"
     },
     "output_type": "display_data"
    }
   ],
   "source": [
    "fig, ax=plt.subplots()\n",
    "ax.spines['right'].set_visible(False)\n",
    "ax.spines['top'].set_visible(False)\n",
    "plt.rc('font',family='Times New Roman')\n",
    "plt.scatter(ecsme['IV'],ecsme['DV'])\n",
    "linear_model=np.polyfit(ecsme['IV'],ecsme['DV'],1)\n",
    "linear_model_fn=np.poly1d(linear_model)\n",
    "plt.plot(ecsme['IV'],linear_model_fn(ecsme['IV']),color=\"k\")\n",
    "plt.xticks(fontsize=14)\n",
    "plt.yticks(fontsize=14)\n",
    "ax.set(ylim=(0, 610))\n",
    "ax.set(xlim=(0, 1100))\n",
    "plt.show()\n",
    "filesaveecsme=r'C:\\LJR\\paper\\tseltalvsenglish\\figures\\ecsme.jpg'\n",
    "fig.savefig(filesaveecsme, bbox_inches='tight', pad_inches=0)\n",
    "\n",
    "fig, ax=plt.subplots()\n",
    "ax.spines['right'].set_visible(False)\n",
    "ax.spines['top'].set_visible(False)\n",
    "plt.rc('font',family='Times New Roman')\n",
    "plt.scatter(ecsma['IV'],ecsma['DV'])\n",
    "linear_model=np.polyfit(ecsma['IV'],ecsma['DV'],1)\n",
    "linear_model_fn=np.poly1d(linear_model)\n",
    "plt.plot(ecsma['IV'],linear_model_fn(ecsma['IV']),color=\"k\")\n",
    "plt.xticks(fontsize=14)\n",
    "plt.yticks(fontsize=14)\n",
    "ax.set(ylim=(0, 610))\n",
    "ax.set(xlim=(0, 1100))\n",
    "plt.show()\n",
    "filesaveecsma=r'C:\\LJR\\paper\\tseltalvsenglish\\figures\\ecsma.jpg'\n",
    "fig.savefig(filesaveecsma, bbox_inches='tight', pad_inches=0)\n",
    "\n",
    "fig, ax=plt.subplots()\n",
    "ax.spines['right'].set_visible(False)\n",
    "ax.spines['top'].set_visible(False)\n",
    "plt.rc('font',family='Times New Roman')\n",
    "plt.scatter(ecsmi['IV'],ecsmi['DV'])\n",
    "linear_model=np.polyfit(ecsmi['IV'],ecsmi['DV'],1)\n",
    "linear_model_fn=np.poly1d(linear_model)\n",
    "plt.plot(ecsmi['IV'],linear_model_fn(ecsmi['IV']),color=\"k\")\n",
    "plt.xticks(fontsize=14)\n",
    "plt.yticks(fontsize=14)\n",
    "ax.set(ylim=(0, 610))\n",
    "ax.set(xlim=(0, 1100))\n",
    "plt.show()\n",
    "filesaveecsmi=r'C:\\LJR\\paper\\tseltalvsenglish\\figures\\ecsmi.jpg'\n",
    "fig.savefig(filesaveecsmi, bbox_inches='tight', pad_inches=0)\n",
    "\n",
    "fig, ax=plt.subplots()\n",
    "ax.spines['right'].set_visible(False)\n",
    "ax.spines['top'].set_visible(False)\n",
    "plt.rc('font',family='Times New Roman')\n",
    "plt.scatter(ecsr['IV'],ecsr['DV'])\n",
    "linear_model=np.polyfit(ecsr['IV'],ecsr['DV'],1)\n",
    "linear_model_fn=np.poly1d(linear_model)\n",
    "plt.plot(ecsr['IV'],linear_model_fn(ecsr['IV']),color=\"k\")\n",
    "plt.xticks(fontsize=14)\n",
    "plt.yticks(fontsize=14)\n",
    "ax.set(ylim=(0, 610))\n",
    "ax.set(xlim=(0, 1100))\n",
    "plt.show()\n",
    "filesaveecsr=r'C:\\LJR\\paper\\tseltalvsenglish\\figures\\ecsr.jpg'\n",
    "fig.savefig(filesaveecsr, bbox_inches='tight', pad_inches=0)"
   ]
  },
  {
   "cell_type": "code",
   "execution_count": 151,
   "metadata": {},
   "outputs": [
    {
     "name": "stdout",
     "output_type": "stream",
     "text": [
      "mmeanstdmet= 16.783147726762095\n",
      "mmeanstdmee= 21.784198800827035\n",
      "mmeanstdmat= 30.22394514676519\n",
      "mmeanstdmae= 33.934248023881565\n",
      "mmeanstdmit= 16.813309539742196\n",
      "mmeanstdmie= 20.78631347495379\n",
      "mmeanstdrt= 26.977648474722486\n",
      "mmeanstdre= 33.46580317893213\n"
     ]
    }
   ],
   "source": [
    "print('mmeanstdmet=',np.mean(tmstdme['STD']))\n",
    "print('mmeanstdmee=',np.mean(emstdme['STD']))\n",
    "print('mmeanstdmat=',np.mean(tmstdma['STD']))\n",
    "print('mmeanstdmae=',np.mean(emstdma['STD']))\n",
    "print('mmeanstdmit=',np.mean(tmstdmi['STD']))\n",
    "print('mmeanstdmie=',np.mean(emstdmi['STD']))\n",
    "print('mmeanstdrt=',np.mean(tmstdr['STD']))\n",
    "print('mmeanstdre=',np.mean(emstdr['STD']))"
   ]
  },
  {
   "cell_type": "code",
   "execution_count": 152,
   "metadata": {},
   "outputs": [
    {
     "name": "stdout",
     "output_type": "stream",
     "text": [
      "cmeanstdmet= 31.77839220870423\n",
      "cmeanstdmee= 28.241820074217603\n",
      "cmeanstdmat= 60.590322721522945\n",
      "cmeanstdmae= 43.23141497737102\n",
      "cmeanstdmit= 36.09014504822456\n",
      "cmeanstdmie= 23.3025333852078\n",
      "cmeanstdrt= 60.93742003394325\n",
      "cmeanstdre= 36.26783855350695\n"
     ]
    }
   ],
   "source": [
    "print('cmeanstdmet=',np.mean(tcstdme['STD']))\n",
    "print('cmeanstdmee=',np.mean(ecstdme['STD']))\n",
    "print('cmeanstdmat=',np.mean(tcstdma['STD']))\n",
    "print('cmeanstdmae=',np.mean(ecstdma['STD']))\n",
    "print('cmeanstdmit=',np.mean(tcstdmi['STD']))\n",
    "print('cmeanstdmie=',np.mean(ecstdmi['STD']))\n",
    "print('cmeanstdrt=',np.mean(tcstdr['STD']))\n",
    "print('cmeanstdre=',np.mean(ecstdr['STD']))"
   ]
  },
  {
   "cell_type": "code",
   "execution_count": 153,
   "metadata": {},
   "outputs": [],
   "source": [
    "tconmed=np.array(tconme['DV'])\n",
    "tconmad=np.array(tconma['DV'])\n",
    "tconmid=np.array(tconmi['DV'])\n",
    "tconrd=np.array(tconr['DV'])"
   ]
  },
  {
   "cell_type": "code",
   "execution_count": 154,
   "metadata": {},
   "outputs": [],
   "source": [
    "econmed=np.array(econme['DV'])\n",
    "econmad=np.array(econma['DV'])\n",
    "econmid=np.array(econmi['DV'])\n",
    "econrd=np.array(econr['DV'])"
   ]
  },
  {
   "cell_type": "code",
   "execution_count": 155,
   "metadata": {},
   "outputs": [],
   "source": [
    "tconmef=tconmed[np.where(np.array(tconme['IV'])<=1)[0]]\n",
    "tconmaf=tconmad[np.where(np.array(tconma['IV'])<=1)[0]]\n",
    "tconmif=tconmid[np.where(np.array(tconmi['IV'])<=1)[0]]\n",
    "tconrf=tconrd[np.where(np.array(tconr['IV'])<=1)[0]]"
   ]
  },
  {
   "cell_type": "code",
   "execution_count": 156,
   "metadata": {},
   "outputs": [],
   "source": [
    "econmef=econmed[np.where(np.array(econme['IV'])<=1)[0]]\n",
    "econmaf=econmad[np.where(np.array(econma['IV'])<=1)[0]]\n",
    "econmif=econmid[np.where(np.array(econmi['IV'])<=1)[0]]\n",
    "econrf=econrd[np.where(np.array(econr['IV'])<=1)[0]]"
   ]
  },
  {
   "cell_type": "code",
   "execution_count": 157,
   "metadata": {},
   "outputs": [
    {
     "name": "stdout",
     "output_type": "stream",
     "text": [
      "mep= 0.002124945323637507\n",
      "map= 0.02094072127468529\n",
      "mip= 0.0004168722787590326\n",
      "rangefp= 0.026902906424089535\n"
     ]
    }
   ],
   "source": [
    "t_stat, p_value = stats.ttest_ind(tconmef,econmef)\n",
    "print('mep=',p_value)\n",
    "t_stat, p_value = stats.ttest_ind(tconmaf,econmaf)\n",
    "print('map=',p_value)\n",
    "t_stat, p_value = stats.ttest_ind(tconmif,econmif)\n",
    "print('mip=',p_value)\n",
    "t_stat, p_value = stats.ttest_ind(tconrf,econrf)\n",
    "print('rangefp=',p_value)"
   ]
  },
  {
   "cell_type": "code",
   "execution_count": 158,
   "metadata": {},
   "outputs": [
    {
     "data": {
      "image/png": "[encoded data removed]",
      "text/plain": [
       "<Figure size 432x288 with 1 Axes>"
      ]
     },
     "metadata": {
      "needs_background": "light"
     },
     "output_type": "display_data"
    }
   ],
   "source": [
    "fig, ax=plt.subplots()\n",
    "ax.spines['right'].set_visible(False)\n",
    "ax.spines['top'].set_visible(False)\n",
    "plt.rc('font',family='Times New Roman')\n",
    "plt.xticks(fontsize=14)\n",
    "plt.yticks(fontsize=14)\n",
    "xxx=np.empty([len(econmef)+len(tconmef)],dtype = str) \n",
    "xxx[0:len(econmef)]='E'\n",
    "xxx[len(econmef):]='T'\n",
    "    \n",
    "compare_durationrow=np.r_[econmef,tconmef]\n",
    "my_pal = {'r','yellow'}\n",
    "ax = sns.boxplot(x=xxx, y=compare_durationrow, linewidth=1.5,whis=1.5,palette=my_pal)\n",
    "plt.ylim(-770,0)\n",
    "filesavefme=r'C:\\LJR\\paper\\tseltalvsenglish\\figures\\fme.jpg'\n",
    "fig.savefig(filesavefme, bbox_inches='tight', pad_inches=0)"
   ]
  },
  {
   "cell_type": "code",
   "execution_count": 159,
   "metadata": {},
   "outputs": [
    {
     "data": {
      "image/png": "[encoded data removed]",
      "text/plain": [
       "<Figure size 432x288 with 1 Axes>"
      ]
     },
     "metadata": {
      "needs_background": "light"
     },
     "output_type": "display_data"
    }
   ],
   "source": [
    "fig, ax=plt.subplots()\n",
    "ax.spines['right'].set_visible(False)\n",
    "ax.spines['top'].set_visible(False)\n",
    "plt.rc('font',family='Times New Roman')\n",
    "plt.xticks(fontsize=14)\n",
    "plt.yticks(fontsize=14)\n",
    "xxx=np.empty([len(econmaf)+len(tconmaf)],dtype = str) \n",
    "xxx[0:len(econmaf)]='E'\n",
    "xxx[len(econmaf):]='T'\n",
    "    \n",
    "compare_durationrow=np.r_[econmaf,tconmaf]\n",
    "my_pal = {'r','yellow'}\n",
    "ax = sns.boxplot(x=xxx, y=compare_durationrow, linewidth=1.5,whis=1.5,palette=my_pal)\n",
    "plt.ylim(-770,0)\n",
    "filesavefma=r'C:\\LJR\\paper\\tseltalvsenglish\\figures\\fma.jpg'\n",
    "fig.savefig(filesavefma, bbox_inches='tight', pad_inches=0)"
   ]
  },
  {
   "cell_type": "code",
   "execution_count": 160,
   "metadata": {},
   "outputs": [
    {
     "data": {
      "image/png": "[encoded data removed]",
      "text/plain": [
       "<Figure size 432x288 with 1 Axes>"
      ]
     },
     "metadata": {
      "needs_background": "light"
     },
     "output_type": "display_data"
    }
   ],
   "source": [
    "fig, ax=plt.subplots()\n",
    "ax.spines['right'].set_visible(False)\n",
    "ax.spines['top'].set_visible(False)\n",
    "plt.rc('font',family='Times New Roman')\n",
    "plt.xticks(fontsize=14)\n",
    "plt.yticks(fontsize=14)\n",
    "xxx=np.empty([len(econmif)+len(tconmif)],dtype = str) \n",
    "xxx[0:len(econmif)]='E'\n",
    "xxx[len(econmif):]='T'\n",
    "    \n",
    "compare_durationrow=np.r_[econmif,tconmif]\n",
    "my_pal = {'r','yellow'}\n",
    "ax = sns.boxplot(x=xxx, y=compare_durationrow, linewidth=1.5,whis=1.5,palette=my_pal)\n",
    "plt.ylim(-770,0)\n",
    "filesavefmi=r'C:\\LJR\\paper\\tseltalvsenglish\\figures\\fmi.jpg'\n",
    "fig.savefig(filesavefmi, bbox_inches='tight', pad_inches=0)"
   ]
  },
  {
   "cell_type": "code",
   "execution_count": 161,
   "metadata": {},
   "outputs": [
    {
     "data": {
      "image/png": "[encoded data removed]",
      "text/plain": [
       "<Figure size 432x288 with 1 Axes>"
      ]
     },
     "metadata": {
      "needs_background": "light"
     },
     "output_type": "display_data"
    }
   ],
   "source": [
    "fig, ax=plt.subplots()\n",
    "ax.spines['right'].set_visible(False)\n",
    "ax.spines['top'].set_visible(False)\n",
    "plt.rc('font',family='Times New Roman')\n",
    "plt.xticks(fontsize=14)\n",
    "plt.yticks(fontsize=14)\n",
    "xxx=np.empty([len(econrf)+len(tconrf)],dtype = str) \n",
    "xxx[0:len(econrf)]='E'\n",
    "xxx[len(econrf):]='T'\n",
    "    \n",
    "compare_durationrow=np.r_[econrf,tconrf]\n",
    "my_pal = {'r','yellow'}\n",
    "ax = sns.boxplot(x=xxx, y=compare_durationrow, linewidth=1.5,whis=1.5,palette=my_pal)\n",
    "plt.ylim(-770,0)\n",
    "filesavefr=r'C:\\LJR\\paper\\tseltalvsenglish\\figures\\fr.jpg'\n",
    "fig.savefig(filesavefr, bbox_inches='tight', pad_inches=0)"
   ]
  },
  {
   "cell_type": "code",
   "execution_count": 162,
   "metadata": {},
   "outputs": [
    {
     "name": "stdout",
     "output_type": "stream",
     "text": [
      "mep= 2.263443485466488e-09\n",
      "map= 4.0685730076661265e-06\n",
      "mip= 1.2936556906945826e-05\n",
      "rangefp= 0.005727494279263186\n"
     ]
    }
   ],
   "source": [
    "t_stat, p_value = stats.ttest_ind(tconme['DV'],econme['DV'])\n",
    "print('mep=',p_value)\n",
    "t_stat, p_value = stats.ttest_ind(tconma['DV'],econma['DV'])\n",
    "print('map=',p_value)\n",
    "t_stat, p_value = stats.ttest_ind(tconmi['DV'],econmi['DV'])\n",
    "print('mip=',p_value)\n",
    "t_stat, p_value = stats.ttest_ind(tconr['DV'],econr['DV'])\n",
    "print('rangefp=',p_value)"
   ]
  },
  {
   "cell_type": "code",
   "execution_count": 163,
   "metadata": {},
   "outputs": [
    {
     "data": {
      "image/png": "[encoded data removed]",
      "text/plain": [
       "<Figure size 432x288 with 1 Axes>"
      ]
     },
     "metadata": {
      "needs_background": "light"
     },
     "output_type": "display_data"
    }
   ],
   "source": [
    "fig, ax=plt.subplots()\n",
    "ax.spines['right'].set_visible(False)\n",
    "ax.spines['top'].set_visible(False)\n",
    "plt.rc('font',family='Times New Roman')\n",
    "plt.xticks(fontsize=14)\n",
    "plt.yticks(fontsize=14)\n",
    "xxx=np.empty([len(econme['DV'])+len(tconme['DV'])],dtype = str) \n",
    "xxx[0:len(econme['DV'])]='E'\n",
    "xxx[len(econme['DV']):]='T'\n",
    "    \n",
    "compare_durationrow=np.r_[econme['DV'],tconme['DV']]\n",
    "my_pal = {'r','yellow'}\n",
    "ax = sns.boxplot(x=xxx, y=compare_durationrow, linewidth=1.5,whis=1.5,palette=my_pal)\n",
    "plt.ylim(-750,0)\n",
    "filesaveallme=r'C:\\LJR\\paper\\tseltalvsenglish\\figures\\allme.jpg'\n",
    "fig.savefig(filesaveallme, bbox_inches='tight', pad_inches=0)"
   ]
  },
  {
   "cell_type": "code",
   "execution_count": 164,
   "metadata": {},
   "outputs": [
    {
     "data": {
      "image/png": "[encoded data removed]",
      "text/plain": [
       "<Figure size 432x288 with 1 Axes>"
      ]
     },
     "metadata": {
      "needs_background": "light"
     },
     "output_type": "display_data"
    }
   ],
   "source": [
    "fig, ax=plt.subplots()\n",
    "ax.spines['right'].set_visible(False)\n",
    "ax.spines['top'].set_visible(False)\n",
    "plt.rc('font',family='Times New Roman')\n",
    "plt.xticks(fontsize=14)\n",
    "plt.yticks(fontsize=14)\n",
    "xxx=np.empty([len(econma['DV'])+len(tconma['DV'])],dtype = str) \n",
    "xxx[0:len(econma['DV'])]='E'\n",
    "xxx[len(econma['DV']):]='T'\n",
    "    \n",
    "compare_durationrow=np.r_[econma['DV'],tconma['DV']]\n",
    "my_pal = {'r','yellow'}\n",
    "ax = sns.boxplot(x=xxx, y=compare_durationrow, linewidth=1.5,whis=1.5,palette=my_pal)\n",
    "plt.ylim(-750,0)\n",
    "filesaveallma=r'C:\\LJR\\paper\\tseltalvsenglish\\figures\\allma.jpg'\n",
    "fig.savefig(filesaveallma, bbox_inches='tight', pad_inches=0)"
   ]
  },
  {
   "cell_type": "code",
   "execution_count": 165,
   "metadata": {},
   "outputs": [
    {
     "data": {
      "image/png": "[encoded data removed]",
      "text/plain": [
       "<Figure size 432x288 with 1 Axes>"
      ]
     },
     "metadata": {
      "needs_background": "light"
     },
     "output_type": "display_data"
    }
   ],
   "source": [
    "fig, ax=plt.subplots()\n",
    "ax.spines['right'].set_visible(False)\n",
    "ax.spines['top'].set_visible(False)\n",
    "plt.rc('font',family='Times New Roman')\n",
    "plt.xticks(fontsize=14)\n",
    "plt.yticks(fontsize=14)\n",
    "xxx=np.empty([len(econmi['DV'])+len(tconmi['DV'])],dtype = str) \n",
    "xxx[0:len(econmi['DV'])]='E'\n",
    "xxx[len(econmi['DV']):]='T'\n",
    "    \n",
    "compare_durationrow=np.r_[econmi['DV'],tconmi['DV']]\n",
    "my_pal = {'r','yellow'}\n",
    "ax = sns.boxplot(x=xxx, y=compare_durationrow, linewidth=1.5,whis=1.5,palette=my_pal)\n",
    "plt.ylim(-750,0)\n",
    "filesaveallmi=r'C:\\LJR\\paper\\tseltalvsenglish\\figures\\allmi.jpg'\n",
    "fig.savefig(filesaveallmi, bbox_inches='tight', pad_inches=0)"
   ]
  },
  {
   "cell_type": "code",
   "execution_count": 166,
   "metadata": {},
   "outputs": [
    {
     "data": {
      "image/png": "[encoded data removed]",
      "text/plain": [
       "<Figure size 432x288 with 1 Axes>"
      ]
     },
     "metadata": {
      "needs_background": "light"
     },
     "output_type": "display_data"
    }
   ],
   "source": [
    "fig, ax=plt.subplots()\n",
    "ax.spines['right'].set_visible(False)\n",
    "ax.spines['top'].set_visible(False)\n",
    "plt.rc('font',family='Times New Roman')\n",
    "plt.xticks(fontsize=14)\n",
    "plt.yticks(fontsize=14)\n",
    "xxx=np.empty([len(econr['DV'])+len(tconr['DV'])],dtype = str) \n",
    "xxx[0:len(econr['DV'])]='E'\n",
    "xxx[len(econr['DV']):]='T'\n",
    "    \n",
    "compare_durationrow=np.r_[econr['DV'],tconr['DV']]\n",
    "my_pal = {'r','yellow'}\n",
    "ax = sns.boxplot(x=xxx, y=compare_durationrow, linewidth=1.5,whis=1.5,palette=my_pal)\n",
    "plt.ylim(-750,0)\n",
    "filesaveallr=r'C:\\LJR\\paper\\tseltalvsenglish\\figures\\allr.jpg'\n",
    "fig.savefig(filesaveallr, bbox_inches='tight', pad_inches=0)"
   ]
  },
  {
   "cell_type": "code",
   "execution_count": 167,
   "metadata": {},
   "outputs": [],
   "source": [
    "from sklearn.metrics import mean_squared_error, mean_absolute_error\n",
    "from scipy.optimize import curve_fit"
   ]
  },
  {
   "cell_type": "code",
   "execution_count": 168,
   "metadata": {},
   "outputs": [],
   "source": [
    "def calculate_bic(y_true, y_pred, n, k):\n",
    "    mse = mean_squared_error(y_true, y_pred)\n",
    "    bic = n * np.log(mse) + k * np.log(n)\n",
    "    return bic"
   ]
  },
  {
   "cell_type": "code",
   "execution_count": 169,
   "metadata": {},
   "outputs": [],
   "source": [
    "def outputfit(functionsin,xin,yin):\n",
    "    r2_values=[]\n",
    "    fit_results=[]\n",
    "    iii=2\n",
    "    for func in functionsin:\n",
    "        popt, _ = curve_fit(func, xin, yin)\n",
    "        fit_results.append(popt)\n",
    "        y_fit = func(xin, *popt)\n",
    "        r2_values.append(calculate_bic(yin, y_fit, len(yin), iii))\n",
    "        iii=iii+1\n",
    "    return r2_values,fit_results"
   ]
  },
  {
   "cell_type": "code",
   "execution_count": 170,
   "metadata": {},
   "outputs": [],
   "source": [
    "# Define different types of functions to fit\n",
    "def linear_func(x, a, b):\n",
    "    return a * x + b\n",
    "\n",
    "def quadratic_func(x, a, b, c):\n",
    "    return a * x**2 + b * x + c\n",
    "\n",
    "def cubic_func(x, a, b, c, d):\n",
    "    return a * x**3 + b * x**2 + c * x + d\n",
    "\n",
    "def four_func(x, a, b, c, d,e):\n",
    "    return a * x**4 + b * x**3 + c * x**2 + d*x+e\n",
    "\n",
    "def five_func(x, a, b,c,d,e,f):\n",
    "    return a * x**5 + b * x**4 + c * x**3 + d*x**2+e*x+f\n",
    "\n",
    "#def six_func(x, a, b,c,d,e,f,g):\n",
    "    #return a * x**6 + b * x**5 + c * x**4 + d*x**3+e*x**2+f*x+g\n",
    "\n",
    "#def seven_func(x, a, b,c,d,e,f,g,h):\n",
    "    #return a * x**7 + b * x**6 + c * x**5 + d*x**4+e*x**3+f*x**2+g*x+h\n",
    "#def sigmoid_func(x, L, k, x0):\n",
    "    #return a * x**3 + b * x**2 + c * x + d\n",
    "\n",
    "#def gaussian_func(x, a, x0, sigma):\n",
    "    #return return a * x**3 + b * x**2 + c * x + d"
   ]
  },
  {
   "cell_type": "code",
   "execution_count": 171,
   "metadata": {},
   "outputs": [],
   "source": [
    "functions = [linear_func, quadratic_func, cubic_func, four_func,\n",
    "             five_func]"
   ]
  },
  {
   "cell_type": "code",
   "execution_count": 172,
   "metadata": {},
   "outputs": [
    {
     "name": "stdout",
     "output_type": "stream",
     "text": [
      "[1610.699497356246, 1615.628360848865, 1619.4335207326512, 1624.519307100112, 1628.3908459407028]\n"
     ]
    }
   ],
   "source": [
    "fit_resultsme = []\n",
    "r2_valuesme = []\n",
    "r2_valuesmer = []\n",
    "xin=tconme['IV']\n",
    "yin=tconme['DV']\n",
    "iii=2\n",
    "for func in functions:\n",
    "    popt, _ = curve_fit(func, xin, yin)\n",
    "    fit_resultsme.append(popt)\n",
    "    y_fit = func(xin, *popt)\n",
    "    #r2_valuesme.append(1 - np.sum((yin - y_fit)**2) / np.sum((yin - np.mean(yin))**2))\n",
    "    #r2_valuesmer.append(np.sqrt(mean_squared_error(yin, y_fit)))\n",
    "    r2_valuesme.append(calculate_bic(yin, y_fit, len(yin), iii))\n",
    "    #r2_valuesme.append(mean_absolute_error(yin, y_fit))\n",
    "    iii=iii+1\n",
    "print(r2_valuesme)\n",
    "#print(r2_valuesmer,r2_valuesme,(np.array(r2_valuesmer)+np.array(r2_valuesme))/2) #linear quadratic cubic exponential logaridatic power sigmoid guassion"
   ]
  },
  {
   "cell_type": "code",
   "execution_count": 173,
   "metadata": {},
   "outputs": [
    {
     "data": {
      "image/png": "[encoded data removed]",
      "text/plain": [
       "<Figure size 432x288 with 1 Axes>"
      ]
     },
     "metadata": {
      "needs_background": "light"
     },
     "output_type": "display_data"
    }
   ],
   "source": [
    "fig, ax=plt.subplots()\n",
    "ax.spines['right'].set_visible(False)\n",
    "ax.spines['top'].set_visible(False)\n",
    "plt.rc('font',family='Times New Roman')\n",
    "plt.xticks(fontsize=14)\n",
    "plt.yticks(fontsize=14)\n",
    "plt.scatter(xin, yin, label='Data')\n",
    "xplotin=np.arange(12)+1\n",
    "for i, func in enumerate(functions):\n",
    "    if i==0:\n",
    "        label = func.__name__ + f' (R-squared={r2_valuesme[i]:.2f})'\n",
    "        plt.plot(xplotin, func(xplotin, *fit_resultsme[i]), label=label)\n",
    "plt.ylim(-750,10)\n",
    "#plt.xlabel('number of turns')\n",
    "#plt.ylabel('similarity of mean pitch')\n",
    "#plt.legend()\n",
    "plt.show()\n",
    "filesaveconmet=r'C:\\LJR\\paper\\tseltalvsenglish\\figures\\conmet.jpg'\n",
    "fig.savefig(filesaveconmet, bbox_inches='tight', pad_inches=0)"
   ]
  },
  {
   "cell_type": "code",
   "execution_count": 174,
   "metadata": {},
   "outputs": [
    {
     "name": "stdout",
     "output_type": "stream",
     "text": [
      "[1835.3067212788594, 1840.344533643169, 1845.5533539252385, 1850.2665940547672, 1855.0184170843474]\n"
     ]
    }
   ],
   "source": [
    "fit_resultsma = []\n",
    "r2_valuesma = []\n",
    "r2_valuesmar = []\n",
    "xin=tconma['IV']\n",
    "yin=tconma['DV']\n",
    "iii=2\n",
    "for func in functions:\n",
    "    popt, _ = curve_fit(func, xin, yin)\n",
    "    fit_resultsma.append(popt)\n",
    "    y_fit = func(xin, *popt)\n",
    "    r2_valuesma.append(calculate_bic(yin, y_fit, len(yin), iii))\n",
    "    #r2_valuesma.append(1 - np.sum((yin - y_fit)**2) / np.sum((yin - np.mean(yin))**2))\n",
    "    #r2_valuesmar.append(np.sqrt(mean_squared_error(yin, y_fit)))\n",
    "    #r2_valuesma.append(mean_absolute_error(yin, y_fit))\n",
    "    iii=iii+1\n",
    "print(r2_valuesma)\n",
    "#print(r2_valuesmar,r2_valuesma,(np.array(r2_valuesmar)+np.array(r2_valuesma))/2) #linear quadratic cubic exponential logaridatic power sigmoid guassion"
   ]
  },
  {
   "cell_type": "code",
   "execution_count": 175,
   "metadata": {},
   "outputs": [
    {
     "data": {
      "image/png": "[encoded data removed]",
      "text/plain": [
       "<Figure size 432x288 with 1 Axes>"
      ]
     },
     "metadata": {
      "needs_background": "light"
     },
     "output_type": "display_data"
    }
   ],
   "source": [
    "fig, ax=plt.subplots()\n",
    "ax.spines['right'].set_visible(False)\n",
    "ax.spines['top'].set_visible(False)\n",
    "plt.rc('font',family='Times New Roman')\n",
    "plt.xticks(fontsize=14)\n",
    "plt.yticks(fontsize=14)\n",
    "plt.scatter(xin, yin, label='Data')\n",
    "xplotin=np.arange(12)+1\n",
    "for i, func in enumerate(functions):\n",
    "    if i==0:\n",
    "        label = func.__name__ + f' (R-squared={r2_valuesma[i]:.2f})'\n",
    "        plt.plot(xplotin, func(xplotin, *fit_resultsma[i]), label=label)\n",
    "\n",
    "plt.ylim(-750,10)\n",
    "#plt.xlabel('number of turns')\n",
    "#plt.ylabel('similarity of max pitch')\n",
    "#plt.legend()\n",
    "plt.show()\n",
    "filesaveconmat=r'C:\\LJR\\paper\\tseltalvsenglish\\figures\\conmat.jpg'\n",
    "fig.savefig(filesaveconmat, bbox_inches='tight', pad_inches=0)"
   ]
  },
  {
   "cell_type": "code",
   "execution_count": 176,
   "metadata": {},
   "outputs": [
    {
     "name": "stdout",
     "output_type": "stream",
     "text": [
      "[1571.0349405257004, 1571.1599026663575, 1576.0603117050193, 1581.2252912457168, 1585.4432078762593]\n"
     ]
    }
   ],
   "source": [
    "fit_resultsmi = []\n",
    "r2_valuesmi = []\n",
    "r2_valuesmir = []\n",
    "xin=tconmi['IV']\n",
    "yin=tconmi['DV']\n",
    "iii=2\n",
    "for func in functions:\n",
    "    popt, _ = curve_fit(func, xin, yin)\n",
    "    fit_resultsmi.append(popt)\n",
    "    y_fit = func(xin, *popt)\n",
    "    r2_valuesmi.append(calculate_bic(yin, y_fit, len(yin), iii))\n",
    "    #r2_valuesmi.append(1 - np.sum((yin - y_fit)**2) / np.sum((yin - np.mean(yin))**2))\n",
    "    #r2_valuesmir.append(np.sqrt(mean_squared_error(yin, y_fit)))\n",
    "    #r2_valuesmi.append(mean_absolute_error(yin, y_fit))\n",
    "    iii=iii+1\n",
    "print(r2_valuesmi)\n",
    "#print(r2_valuesmir,r2_valuesmi,(np.array(r2_valuesmir)+np.array(r2_valuesmi))/2) #linear quadratic cubic exponential logaridatic power sigmoid guassion"
   ]
  },
  {
   "cell_type": "code",
   "execution_count": 177,
   "metadata": {},
   "outputs": [
    {
     "data": {
      "image/png": "[encoded data removed]",
      "text/plain": [
       "<Figure size 432x288 with 1 Axes>"
      ]
     },
     "metadata": {
      "needs_background": "light"
     },
     "output_type": "display_data"
    }
   ],
   "source": [
    "fig, ax=plt.subplots()\n",
    "ax.spines['right'].set_visible(False)\n",
    "ax.spines['top'].set_visible(False)\n",
    "plt.rc('font',family='Times New Roman')\n",
    "plt.xticks(fontsize=14)\n",
    "plt.yticks(fontsize=14)\n",
    "plt.scatter(xin, yin, label='Data')\n",
    "xplotin=np.arange(12)+1\n",
    "for i, func in enumerate(functions):\n",
    "    if i==0:\n",
    "        label = func.__name__ + f' (R-squared={r2_valuesmi[i]:.2f})'\n",
    "        plt.plot(xplotin, func(xplotin, *fit_resultsmi[i]), label=label)\n",
    "\n",
    "plt.ylim(-750,10)\n",
    "#plt.xlabel('number of turns')\n",
    "#plt.ylabel('similarity of min pitch')\n",
    "#plt.legend()\n",
    "plt.show()\n",
    "filesaveconmit=r'C:\\LJR\\paper\\tseltalvsenglish\\figures\\conmit.jpg'\n",
    "fig.savefig(filesaveconmit, bbox_inches='tight', pad_inches=0)"
   ]
  },
  {
   "cell_type": "code",
   "execution_count": 178,
   "metadata": {},
   "outputs": [
    {
     "name": "stdout",
     "output_type": "stream",
     "text": [
      "[1773.7217409439986, 1776.5373503764442, 1781.0903607548178, 1786.2592139629505, 1791.3189319852693]\n"
     ]
    }
   ],
   "source": [
    "fit_resultsr = []\n",
    "r2_valuesr = []\n",
    "r2_valuesrr = []\n",
    "xin=tconr['IV']\n",
    "yin=tconr['DV']\n",
    "iii=2\n",
    "for func in functions:\n",
    "    popt, _ = curve_fit(func, xin, yin)\n",
    "    fit_resultsr.append(popt)\n",
    "    y_fit = func(xin, *popt)\n",
    "    r2_valuesr.append(calculate_bic(yin, y_fit, len(yin), iii))\n",
    "    #r2_valuesr.append(1 - np.sum((yin - y_fit)**2) / np.sum((yin - np.mean(yin))**2))\n",
    "    #r2_valuesrr.append(np.sqrt(mean_squared_error(yin, y_fit)))\n",
    "    #r2_valuesr.append(mean_absolute_error(yin, y_fit))\n",
    "    iii=iii+1\n",
    "print(r2_valuesr)\n",
    "#print(r2_valuesrr,r2_valuesr,(np.array(r2_valuesrr)+np.array(r2_valuesr))/2) #linear quadratic cubic exponential logaridatic power sigmoid guassion"
   ]
  },
  {
   "cell_type": "code",
   "execution_count": 179,
   "metadata": {},
   "outputs": [
    {
     "data": {
      "image/png": "[encoded data removed]",
      "text/plain": [
       "<Figure size 432x288 with 1 Axes>"
      ]
     },
     "metadata": {
      "needs_background": "light"
     },
     "output_type": "display_data"
    }
   ],
   "source": [
    "fig, ax=plt.subplots()\n",
    "ax.spines['right'].set_visible(False)\n",
    "ax.spines['top'].set_visible(False)\n",
    "plt.rc('font',family='Times New Roman')\n",
    "plt.xticks(fontsize=14)\n",
    "plt.yticks(fontsize=14)\n",
    "plt.scatter(xin, yin, label='Data')\n",
    "xplotin=np.arange(12)+1\n",
    "for i, func in enumerate(functions):\n",
    "    if i==0:\n",
    "        label = func.__name__ + f' (R-squared={r2_valuesr[i]:.2f})'\n",
    "        plt.plot(xplotin, func(xplotin, *fit_resultsr[i]), label=label)\n",
    "\n",
    "plt.ylim(-750,10)\n",
    "#plt.xlabel('number of turns')\n",
    "#plt.ylabel('similarity of min pitch')\n",
    "#plt.legend()\n",
    "plt.show()\n",
    "filesaveconrt=r'C:\\LJR\\paper\\tseltalvsenglish\\figures\\conrt.jpg'\n",
    "fig.savefig(filesaveconrt, bbox_inches='tight', pad_inches=0)"
   ]
  },
  {
   "cell_type": "code",
   "execution_count": 180,
   "metadata": {},
   "outputs": [
    {
     "name": "stdout",
     "output_type": "stream",
     "text": [
      "[1628.9884870191313, 1628.6762592191224, 1632.7914836189473, 1637.7672384777907, 1642.9927017729349]\n"
     ]
    }
   ],
   "source": [
    "fit_resultsme = []\n",
    "r2_valuesme = []\n",
    "r2_valuesmer = []\n",
    "xin=econme['IV']\n",
    "yin=econme['DV']\n",
    "iii=2\n",
    "for func in functions:\n",
    "    popt, _ = curve_fit(func, xin, yin)\n",
    "    fit_resultsme.append(popt)\n",
    "    y_fit = func(xin, *popt)\n",
    "    #r2_valuesme.append(1 - np.sum((yin - y_fit)**2) / np.sum((yin - np.mean(yin))**2))\n",
    "    #r2_valuesmer.append(np.sqrt(mean_squared_error(yin, y_fit)))\n",
    "    r2_valuesme.append(calculate_bic(yin, y_fit, len(yin), iii))\n",
    "    #r2_valuesme.append(mean_absolute_error(yin, y_fit))\n",
    "    iii=iii+1\n",
    "print(r2_valuesme)\n",
    "#print(r2_valuesmer,r2_valuesme,(np.array(r2_valuesmer)+np.array(r2_valuesme))/2) #linear quadratic cubic exponential logaridatic power sigmoid guassion"
   ]
  },
  {
   "cell_type": "code",
   "execution_count": 181,
   "metadata": {},
   "outputs": [
    {
     "data": {
      "image/png": "[encoded data removed]",
      "text/plain": [
       "<Figure size 432x288 with 1 Axes>"
      ]
     },
     "metadata": {
      "needs_background": "light"
     },
     "output_type": "display_data"
    }
   ],
   "source": [
    "fig, ax=plt.subplots()\n",
    "ax.spines['right'].set_visible(False)\n",
    "ax.spines['top'].set_visible(False)\n",
    "plt.rc('font',family='Times New Roman')\n",
    "plt.xticks(fontsize=14)\n",
    "plt.yticks(fontsize=14)\n",
    "plt.scatter(xin, yin, label='Data')\n",
    "xplotin=np.arange(12)+1\n",
    "for i, func in enumerate(functions):\n",
    "    if i==1:\n",
    "        label = func.__name__ + f' (R-squared={r2_valuesme[i]:.2f})'\n",
    "        plt.plot(xplotin, func(xplotin, *fit_resultsme[i]), label=label)\n",
    "plt.ylim(-750,10)\n",
    "#plt.xlabel('number of turns')\n",
    "#plt.ylabel('similarity of mean pitch')\n",
    "#plt.legend()\n",
    "plt.show()\n",
    "filesaveconmee=r'C:\\LJR\\paper\\tseltalvsenglish\\figures\\conmee.jpg'\n",
    "fig.savefig(filesaveconmee, bbox_inches='tight', pad_inches=0)"
   ]
  },
  {
   "cell_type": "code",
   "execution_count": 182,
   "metadata": {},
   "outputs": [
    {
     "name": "stdout",
     "output_type": "stream",
     "text": [
      "[1784.6144213266136, 1783.8866624204243, 1788.9826732602528, 1793.6943709219877, 1798.6103943562957]\n"
     ]
    }
   ],
   "source": [
    "fit_resultsma = []\n",
    "r2_valuesma = []\n",
    "r2_valuesmar = []\n",
    "xin=econma['IV']\n",
    "yin=econma['DV']\n",
    "iii=2\n",
    "for func in functions:\n",
    "    popt, _ = curve_fit(func, xin, yin)\n",
    "    fit_resultsma.append(popt)\n",
    "    y_fit = func(xin, *popt)\n",
    "    r2_valuesma.append(calculate_bic(yin, y_fit, len(yin), iii))\n",
    "    #r2_valuesma.append(1 - np.sum((yin - y_fit)**2) / np.sum((yin - np.mean(yin))**2))\n",
    "    #r2_valuesmar.append(np.sqrt(mean_squared_error(yin, y_fit)))\n",
    "    #r2_valuesma.append(mean_absolute_error(yin, y_fit))\n",
    "    iii=iii+1\n",
    "print(r2_valuesma)\n",
    "#print(r2_valuesmar,r2_valuesma,(np.array(r2_valuesmar)+np.array(r2_valuesma))/2) #linear quadratic cubic exponential logaridatic power sigmoid guassion"
   ]
  },
  {
   "cell_type": "code",
   "execution_count": 183,
   "metadata": {},
   "outputs": [
    {
     "data": {
      "image/png": "[encoded data removed]",
      "text/plain": [
       "<Figure size 432x288 with 1 Axes>"
      ]
     },
     "metadata": {
      "needs_background": "light"
     },
     "output_type": "display_data"
    }
   ],
   "source": [
    "fig, ax=plt.subplots()\n",
    "ax.spines['right'].set_visible(False)\n",
    "ax.spines['top'].set_visible(False)\n",
    "plt.rc('font',family='Times New Roman')\n",
    "plt.xticks(fontsize=14)\n",
    "plt.yticks(fontsize=14)\n",
    "plt.scatter(xin, yin, label='Data')\n",
    "xplotin=np.arange(12)+1\n",
    "for i, func in enumerate(functions):\n",
    "    if i==1:\n",
    "        label = func.__name__ + f' (R-squared={r2_valuesma[i]:.2f})'\n",
    "        plt.plot(xplotin, func(xplotin, *fit_resultsma[i]), label=label)\n",
    "\n",
    "plt.ylim(-750,10)\n",
    "#plt.xlabel('number of turns')\n",
    "#plt.ylabel('similarity of max pitch')\n",
    "#plt.legend()\n",
    "plt.show()\n",
    "filesaveconmae=r'C:\\LJR\\paper\\tseltalvsenglish\\figures\\conmae.jpg'\n",
    "fig.savefig(filesaveconmae, bbox_inches='tight', pad_inches=0)"
   ]
  },
  {
   "cell_type": "code",
   "execution_count": 184,
   "metadata": {},
   "outputs": [
    {
     "name": "stdout",
     "output_type": "stream",
     "text": [
      "[1576.2632642138942, 1581.068851371289, 1585.1537345123386, 1589.777785565753, 1595.0192553720622]\n"
     ]
    }
   ],
   "source": [
    "fit_resultsmi = []\n",
    "r2_valuesmi = []\n",
    "r2_valuesmir = []\n",
    "xin=econmi['IV']\n",
    "yin=econmi['DV']\n",
    "iii=2\n",
    "for func in functions:\n",
    "    popt, _ = curve_fit(func, xin, yin)\n",
    "    fit_resultsmi.append(popt)\n",
    "    y_fit = func(xin, *popt)\n",
    "    r2_valuesmi.append(calculate_bic(yin, y_fit, len(yin), iii))\n",
    "    #r2_valuesmi.append(1 - np.sum((yin - y_fit)**2) / np.sum((yin - np.mean(yin))**2))\n",
    "    #r2_valuesmir.append(np.sqrt(mean_squared_error(yin, y_fit)))\n",
    "    #r2_valuesmi.append(mean_absolute_error(yin, y_fit))\n",
    "    iii=iii+1\n",
    "print(r2_valuesmi)\n",
    "#print(r2_valuesmir,r2_valuesmi,(np.array(r2_valuesmir)+np.array(r2_valuesmi))/2) #linear quadratic cubic exponential logaridatic power sigmoid guassion"
   ]
  },
  {
   "cell_type": "code",
   "execution_count": 185,
   "metadata": {},
   "outputs": [
    {
     "data": {
      "image/png": "[encoded data removed]",
      "text/plain": [
       "<Figure size 432x288 with 1 Axes>"
      ]
     },
     "metadata": {
      "needs_background": "light"
     },
     "output_type": "display_data"
    }
   ],
   "source": [
    "fig, ax=plt.subplots()\n",
    "ax.spines['right'].set_visible(False)\n",
    "ax.spines['top'].set_visible(False)\n",
    "plt.rc('font',family='Times New Roman')\n",
    "plt.xticks(fontsize=14)\n",
    "plt.yticks(fontsize=14)\n",
    "plt.scatter(xin, yin, label='Data')\n",
    "xplotin=np.arange(12)+1\n",
    "for i, func in enumerate(functions):\n",
    "    if i==0:\n",
    "        label = func.__name__ + f' (R-squared={r2_valuesmi[i]:.2f})'\n",
    "        plt.plot(xplotin, func(xplotin, *fit_resultsmi[i]), label=label)\n",
    "\n",
    "plt.ylim(-750,10)\n",
    "#plt.xlabel('number of turns')\n",
    "#plt.ylabel('similarity of min pitch')\n",
    "#plt.legend()\n",
    "plt.show()\n",
    "filesaveconmie=r'C:\\LJR\\paper\\tseltalvsenglish\\figures\\conmie.jpg'\n",
    "fig.savefig(filesaveconmie, bbox_inches='tight', pad_inches=0)"
   ]
  },
  {
   "cell_type": "code",
   "execution_count": 186,
   "metadata": {},
   "outputs": [
    {
     "name": "stdout",
     "output_type": "stream",
     "text": [
      "[1657.3885911688094, 1660.799615075931, 1665.5148012035147, 1669.8521758577815, 1674.4038127270155]\n"
     ]
    }
   ],
   "source": [
    "fit_resultsr = []\n",
    "r2_valuesr = []\n",
    "r2_valuesrr = []\n",
    "xin=econr['IV']\n",
    "yin=econr['DV']\n",
    "iii=2\n",
    "for func in functions:\n",
    "    popt, _ = curve_fit(func, xin, yin)\n",
    "    fit_resultsr.append(popt)\n",
    "    y_fit = func(xin, *popt)\n",
    "    r2_valuesr.append(calculate_bic(yin, y_fit, len(yin), iii))\n",
    "    #r2_valuesr.append(1 - np.sum((yin - y_fit)**2) / np.sum((yin - np.mean(yin))**2))\n",
    "    #r2_valuesrr.append(np.sqrt(mean_squared_error(yin, y_fit)))\n",
    "    #r2_valuesr.append(mean_absolute_error(yin, y_fit))\n",
    "    iii=iii+1\n",
    "print(r2_valuesr)\n",
    "#print(r2_valuesrr,r2_valuesr,(np.array(r2_valuesrr)+np.array(r2_valuesr))/2) #linear quadratic cubic exponential logaridatic power sigmoid guassion"
   ]
  },
  {
   "cell_type": "code",
   "execution_count": 187,
   "metadata": {},
   "outputs": [
    {
     "data": {
      "image/png": "[encoded data removed]",
      "text/plain": [
       "<Figure size 432x288 with 1 Axes>"
      ]
     },
     "metadata": {
      "needs_background": "light"
     },
     "output_type": "display_data"
    }
   ],
   "source": [
    "fig, ax=plt.subplots()\n",
    "ax.spines['right'].set_visible(False)\n",
    "ax.spines['top'].set_visible(False)\n",
    "plt.rc('font',family='Times New Roman')\n",
    "plt.xticks(fontsize=14)\n",
    "plt.yticks(fontsize=14)\n",
    "plt.scatter(xin, yin, label='Data')\n",
    "xplotin=np.arange(12)+1\n",
    "for i, func in enumerate(functions):\n",
    "    if i==0:\n",
    "        label = func.__name__ + f' (R-squared={r2_valuesr[i]:.2f})'\n",
    "        plt.plot(xplotin, func(xplotin, *fit_resultsr[i]), label=label)\n",
    "\n",
    "plt.ylim(-750,10)\n",
    "#plt.xlabel('number of turns')\n",
    "#plt.ylabel('similarity of min pitch')\n",
    "#plt.legend()\n",
    "plt.show()\n",
    "filesaveconre=r'C:\\LJR\\paper\\tseltalvsenglish\\figures\\conre.jpg'\n",
    "fig.savefig(filesaveconre, bbox_inches='tight', pad_inches=0)"
   ]
  },
  {
   "cell_type": "code",
   "execution_count": 188,
   "metadata": {},
   "outputs": [
    {
     "name": "stderr",
     "output_type": "stream",
     "text": [
      "C:\\Users\\ljr\\anaconda3\\lib\\site-packages\\statsmodels\\regression\\mixed_linear_model.py:2238: ConvergenceWarning: The MLE may be on the boundary of the parameter space.\n",
      "  warnings.warn(msg, ConvergenceWarning)\n"
     ]
    }
   ],
   "source": [
    "mmecond=smf.mixedlm(\"DV~IV\",tconme,groups=tconme['type'])\n",
    "mmecondf = mmecond.fit(method=['powell'])\n",
    "mmacond=smf.mixedlm(\"DV~IV\",tconma,groups=tconma['type'])\n",
    "mmacondf = mmacond.fit(method=['powell'])\n",
    "mmicond=smf.mixedlm(\"DV~IV\",tconmi,groups=tconmi['type'])\n",
    "mmicondf = mmicond.fit(method=['powell'])\n",
    "mmrcond=smf.mixedlm(\"DV~IV\",tconr,groups=tconr['type'])\n",
    "mmrcondf = mmrcond.fit(method=['powell'])\n"
   ]
  },
  {
   "cell_type": "code",
   "execution_count": 189,
   "metadata": {
    "scrolled": true
   },
   "outputs": [
    {
     "name": "stdout",
     "output_type": "stream",
     "text": [
      "           Mixed Linear Model Regression Results\n",
      "===========================================================\n",
      "Model:             MixedLM  Dependent Variable:  DV        \n",
      "No. Observations:  189      Method:              REML      \n",
      "No. Groups:        6        Scale:               4023.4265 \n",
      "Min. group size:   5        Log-Likelihood:      -1051.4403\n",
      "Max. group size:   76       Converged:           Yes       \n",
      "Mean group size:   31.5                                    \n",
      "-----------------------------------------------------------\n",
      "           Coef.   Std.Err.    z    P>|z|  [0.025   0.975] \n",
      "-----------------------------------------------------------\n",
      "Intercept -145.014   13.822 -10.492 0.000 -172.104 -117.924\n",
      "IV           6.873    1.999   3.438 0.001    2.955   10.792\n",
      "Group Var  693.563    8.340                                \n",
      "===========================================================\n",
      "\n",
      "3.438066377543499\n",
      "          Mixed Linear Model Regression Results\n",
      "==========================================================\n",
      "Model:              MixedLM Dependent Variable: DV        \n",
      "No. Observations:   189     Method:             REML      \n",
      "No. Groups:         6       Scale:              13278.2855\n",
      "Min. group size:    5       Log-Likelihood:     -1163.1401\n",
      "Max. group size:    76      Converged:          Yes       \n",
      "Mean group size:    31.5                                  \n",
      "----------------------------------------------------------\n",
      "           Coef.   Std.Err.   z    P>|z|  [0.025   0.975] \n",
      "----------------------------------------------------------\n",
      "Intercept -177.456   25.410 -6.984 0.000 -227.259 -127.653\n",
      "IV           9.490    3.632  2.613 0.009    2.372   16.607\n",
      "Group Var 2364.172   15.486                               \n",
      "==========================================================\n",
      "\n",
      "2.6131023168183742\n",
      "           Mixed Linear Model Regression Results\n",
      "===========================================================\n",
      "Model:             MixedLM  Dependent Variable:  DV        \n",
      "No. Observations:  189      Method:              REML      \n",
      "No. Groups:        6        Scale:               3895.2936 \n",
      "Min. group size:   5        Log-Likelihood:      -1044.4572\n",
      "Max. group size:   76       Converged:           Yes       \n",
      "Mean group size:   31.5                                    \n",
      "-----------------------------------------------------------\n",
      "           Coef.   Std.Err.    z    P>|z|  [0.025   0.975] \n",
      "-----------------------------------------------------------\n",
      "Intercept -127.461    8.010 -15.912 0.000 -143.161 -111.762\n",
      "IV           5.682    1.920   2.959 0.003    1.918    9.446\n",
      "Group Var    0.000    0.981                                \n",
      "===========================================================\n",
      "\n",
      "2.958554353001792\n",
      "          Mixed Linear Model Regression Results\n",
      "=========================================================\n",
      "Model:             MixedLM Dependent Variable: DV        \n",
      "No. Observations:  189     Method:             REML      \n",
      "No. Groups:        6       Scale:              11182.8001\n",
      "Min. group size:   5       Log-Likelihood:     -1144.3606\n",
      "Max. group size:   76      Converged:          Yes       \n",
      "Mean group size:   31.5                                  \n",
      "---------------------------------------------------------\n",
      "           Coef.   Std.Err.   z    P>|z|  [0.025   0.975]\n",
      "---------------------------------------------------------\n",
      "Intercept -120.544   16.491 -7.310 0.000 -152.867 -88.222\n",
      "IV           5.234    3.295  1.589 0.112   -1.224  11.691\n",
      "Group Var  303.049    4.820                              \n",
      "=========================================================\n",
      "\n",
      "1.5885140810943348\n"
     ]
    }
   ],
   "source": [
    "print(mmecondf.summary())\n",
    "print(mmecondf.tvalues['IV'])\n",
    "print(mmacondf.summary())\n",
    "print(mmacondf.tvalues['IV'])\n",
    "print(mmicondf.summary())\n",
    "print(mmicondf.tvalues['IV'])\n",
    "print(mmrcondf.summary())\n",
    "print(mmrcondf.tvalues['IV'])"
   ]
  },
  {
   "cell_type": "code",
   "execution_count": 190,
   "metadata": {},
   "outputs": [
    {
     "name": "stderr",
     "output_type": "stream",
     "text": [
      "C:\\Users\\ljr\\anaconda3\\lib\\site-packages\\statsmodels\\regression\\mixed_linear_model.py:2238: ConvergenceWarning: The MLE may be on the boundary of the parameter space.\n",
      "  warnings.warn(msg, ConvergenceWarning)\n",
      "C:\\Users\\ljr\\anaconda3\\lib\\site-packages\\statsmodels\\regression\\mixed_linear_model.py:2238: ConvergenceWarning: The MLE may be on the boundary of the parameter space.\n",
      "  warnings.warn(msg, ConvergenceWarning)\n",
      "C:\\Users\\ljr\\anaconda3\\lib\\site-packages\\statsmodels\\regression\\mixed_linear_model.py:2262: ConvergenceWarning: The Hessian matrix at the estimated parameter values is not positive definite.\n",
      "  warnings.warn(msg, ConvergenceWarning)\n"
     ]
    }
   ],
   "source": [
    "emecond=smf.mixedlm(\"DV~IV\",econme,groups=econme['type'])\n",
    "emecondf = emecond.fit(method=['powell'])\n",
    "emacond=smf.mixedlm(\"DV~IV\",econma,groups=econma['type'])\n",
    "emacondf = emacond.fit(method=['powell'])\n",
    "emicond=smf.mixedlm(\"DV~IV\",econmi,groups=econmi['type'])\n",
    "emicondf = emicond.fit(method=['powell'])\n",
    "emrcond=smf.mixedlm(\"DV~IV\",econr,groups=econr['type'])\n",
    "emrcondf = emrcond.fit(method=['powell'])"
   ]
  },
  {
   "cell_type": "code",
   "execution_count": 191,
   "metadata": {
    "scrolled": true
   },
   "outputs": [
    {
     "name": "stdout",
     "output_type": "stream",
     "text": [
      "         Mixed Linear Model Regression Results\n",
      "========================================================\n",
      "Model:            MixedLM Dependent Variable: DV        \n",
      "No. Observations: 190     Method:             REML      \n",
      "No. Groups:       6       Scale:              5059.2518 \n",
      "Min. group size:  11      Log-Likelihood:     -1074.7016\n",
      "Max. group size:  92      Converged:          Yes       \n",
      "Mean group size:  31.7                                  \n",
      "--------------------------------------------------------\n",
      "           Coef.  Std.Err.   z    P>|z|  [0.025   0.975]\n",
      "--------------------------------------------------------\n",
      "Intercept -98.078   14.791 -6.631 0.000 -127.069 -69.088\n",
      "IV          3.519    1.958  1.798 0.072   -0.317   7.356\n",
      "Group Var   0.000    5.839                              \n",
      "========================================================\n",
      "\n",
      "1.7977833690286473\n",
      "          Mixed Linear Model Regression Results\n",
      "=========================================================\n",
      "Model:             MixedLM Dependent Variable: DV        \n",
      "No. Observations:  190     Method:             REML      \n",
      "No. Groups:        6       Scale:              11476.5116\n",
      "Min. group size:   11      Log-Likelihood:     -1151.6954\n",
      "Max. group size:   92      Converged:          Yes       \n",
      "Mean group size:   31.7                                  \n",
      "---------------------------------------------------------\n",
      "           Coef.   Std.Err.   z    P>|z|  [0.025   0.975]\n",
      "---------------------------------------------------------\n",
      "Intercept -119.960   12.664 -9.472 0.000 -144.782 -95.138\n",
      "IV           2.626    2.944  0.892 0.372   -3.144   8.396\n",
      "Group Var    0.000                                       \n",
      "=========================================================\n",
      "\n",
      "0.8919915359210406\n",
      "         Mixed Linear Model Regression Results\n",
      "========================================================\n",
      "Model:            MixedLM Dependent Variable: DV        \n",
      "No. Observations: 190     Method:             REML      \n",
      "No. Groups:       6       Scale:              3760.3389 \n",
      "Min. group size:  11      Log-Likelihood:     -1048.2148\n",
      "Max. group size:  92      Converged:          Yes       \n",
      "Mean group size:  31.7                                  \n",
      "--------------------------------------------------------\n",
      "           Coef.  Std.Err.   z    P>|z|  [0.025   0.975]\n",
      "--------------------------------------------------------\n",
      "Intercept -87.383    9.326 -9.369 0.000 -105.662 -69.104\n",
      "IV          2.511    1.716  1.463 0.143   -0.852   5.875\n",
      "Group Var 122.185    3.530                              \n",
      "========================================================\n",
      "\n",
      "1.4634178381957974\n",
      "         Mixed Linear Model Regression Results\n",
      "========================================================\n",
      "Model:            MixedLM Dependent Variable: DV        \n",
      "No. Observations: 190     Method:             REML      \n",
      "No. Groups:       6       Scale:              5762.0253 \n",
      "Min. group size:  11      Log-Likelihood:     -1088.1175\n",
      "Max. group size:  92      Converged:          Yes       \n",
      "Mean group size:  31.7                                  \n",
      "--------------------------------------------------------\n",
      "            Coef.  Std.Err.   z    P>|z|  [0.025  0.975]\n",
      "--------------------------------------------------------\n",
      "Intercept  -75.039   10.920 -6.872 0.000 -96.441 -53.637\n",
      "IV          -1.877    2.121 -0.885 0.376  -6.033   2.280\n",
      "Group Var  149.522    2.853                             \n",
      "========================================================\n",
      "\n",
      "-0.8849926197034637\n"
     ]
    }
   ],
   "source": [
    "print(emecondf.summary())\n",
    "print(emecondf.tvalues['IV'])\n",
    "print(emacondf.summary())\n",
    "print(emacondf.tvalues['IV'])\n",
    "print(emicondf.summary())\n",
    "print(emicondf.tvalues['IV'])\n",
    "print(emrcondf.summary())\n",
    "print(emrcondf.tvalues['IV'])"
   ]
  },
  {
   "cell_type": "code",
   "execution_count": 192,
   "metadata": {},
   "outputs": [],
   "source": [
    "from scipy.stats import norm"
   ]
  },
  {
   "cell_type": "code",
   "execution_count": 193,
   "metadata": {},
   "outputs": [
    {
     "name": "stdout",
     "output_type": "stream",
     "text": [
      "Name of objective: MLW\n",
      "Optimization method: SLSQP\n",
      "Optimization successful.\n",
      "Optimization terminated successfully\n",
      "Objective value: 0.083\n",
      "Number of iterations: 3\n",
      "Params: 0.463 -0.776 2511.339         lval  op         rval     Estimate  Est. Std    Std. Err    z-value  \\\n",
      "0  Diff_mean   ~  Mother_mean     0.462847  0.375685    0.058838   7.866526   \n",
      "1  Diff_mean   ~  Infant_mean    -0.775802 -0.705089    0.052547 -14.763978   \n",
      "2  Diff_mean  ~~    Diff_mean  2511.338958  0.424927  258.338676   9.721111   \n",
      "\n",
      "        p-value  \n",
      "0  3.552714e-15  \n",
      "1  0.000000e+00  \n",
      "2  0.000000e+00  \n"
     ]
    }
   ],
   "source": [
    "modmeanm = \"\"\"Diff_mean~Mother_mean+Infant_mean\n",
    "      \"\"\"\n",
    "modelmeanm = Model(modmeanm)\n",
    "resmeanm = modelmeanm.fit(tmemc)\n",
    "insmeanm = modelmeanm.inspect(std_est=True)\n",
    "print(resmeanm,insmeanm)"
   ]
  },
  {
   "cell_type": "code",
   "execution_count": 194,
   "metadata": {},
   "outputs": [
    {
     "name": "stdout",
     "output_type": "stream",
     "text": [
      "[0.37568482] [0.07888626] [0.]\n"
     ]
    }
   ],
   "source": [
    "coefmmean=np.array(insmeanm.loc[insmeanm['rval']=='Mother_mean','Est. Std'])\n",
    "coefimean=np.array(insmeanm.loc[insmeanm['rval']=='Infant_mean','Est. Std'])\n",
    "\n",
    "errmmean=np.array(insmeanm.loc[insmeanm['rval']=='Mother_mean','Std. Err'])\n",
    "errimean=np.array(insmeanm.loc[insmeanm['rval']=='Infant_mean','Std. Err'])\n",
    "\n",
    "diff_coefmean=coefmmean-coefimean\n",
    "diff_errmean=(errmmean**2+errimean**2)**0.5\n",
    "\n",
    "zmean=diff_coefmean/diff_errmean\n",
    "pmean=2*(1-norm.cdf(abs(zmean)))\n",
    "print(coefmmean,diff_errmean,pmean)"
   ]
  },
  {
   "cell_type": "code",
   "execution_count": 195,
   "metadata": {},
   "outputs": [
    {
     "name": "stdout",
     "output_type": "stream",
     "text": [
      "Name of objective: MLW\n",
      "Optimization method: SLSQP\n",
      "Optimization successful.\n",
      "Optimization terminated successfully\n",
      "Objective value: 0.302\n",
      "Number of iterations: 3\n",
      "Params: 0.592 -0.811 8055.997        lval  op        rval     Estimate  Est. Std    Std. Err    z-value  \\\n",
      "0  Diff_max   ~  Mother_max     0.592221  0.375622    0.072488   8.169945   \n",
      "1  Diff_max   ~  Infant_max    -0.810872 -0.760027    0.049052 -16.530921   \n",
      "2  Diff_max  ~~    Diff_max  8055.997061  0.386053  828.711556   9.721111   \n",
      "\n",
      "        p-value  \n",
      "0  2.220446e-16  \n",
      "1  0.000000e+00  \n",
      "2  0.000000e+00  \n"
     ]
    }
   ],
   "source": [
    "modmaxm = \"\"\"Diff_max~Mother_max+Infant_max\n",
    "      \"\"\"\n",
    "modelmaxm = Model(modmaxm)\n",
    "resmaxm = modelmaxm.fit(tmamc)\n",
    "insmaxm = modelmaxm.inspect(std_est=True)\n",
    "print(resmaxm,insmaxm)"
   ]
  },
  {
   "cell_type": "code",
   "execution_count": 196,
   "metadata": {},
   "outputs": [
    {
     "name": "stdout",
     "output_type": "stream",
     "text": [
      "[0.37562231] [0.]\n"
     ]
    }
   ],
   "source": [
    "coefmmax=np.array(insmaxm.loc[insmaxm['rval']=='Mother_max','Est. Std'])\n",
    "coefimax=np.array(insmaxm.loc[insmaxm['rval']=='Infant_max','Est. Std'])\n",
    "\n",
    "errmmax=np.array(insmaxm.loc[insmaxm['rval']=='Mother_max','Std. Err'])\n",
    "errimax=np.array(insmaxm.loc[insmaxm['rval']=='Infant_max','Std. Err'])\n",
    "\n",
    "diff_coefmax=coefmmax-coefimax\n",
    "diff_errmax=(errmmax**2+errimax**2)**0.5\n",
    "\n",
    "zmax=diff_coefmax/diff_errmax\n",
    "pmax=2*(1-norm.cdf(abs(zmax)))\n",
    "print(coefmmax,pmax)"
   ]
  },
  {
   "cell_type": "code",
   "execution_count": 197,
   "metadata": {},
   "outputs": [
    {
     "name": "stdout",
     "output_type": "stream",
     "text": [
      "Name of objective: MLW\n",
      "Optimization method: SLSQP\n",
      "Optimization successful.\n",
      "Optimization terminated successfully\n",
      "Objective value: 0.012\n",
      "Number of iterations: 3\n",
      "Params: 0.012 -0.629 2017.244        lval  op        rval     Estimate  Est. Std    Std. Err    z-value  \\\n",
      "0  Diff_min   ~  Mother_min     0.011648  0.011681    0.053692   0.216937   \n",
      "1  Diff_min   ~  Infant_min    -0.629475 -0.676556    0.050100 -12.564384   \n",
      "2  Diff_min  ~~    Diff_min  2017.244354  0.543560  207.511708   9.721111   \n",
      "\n",
      "    p-value  \n",
      "0  0.828257  \n",
      "1  0.000000  \n",
      "2  0.000000  \n"
     ]
    }
   ],
   "source": [
    "modminm = \"\"\"Diff_min~Mother_min+Infant_min\n",
    "      \"\"\"\n",
    "modelminm = Model(modminm)\n",
    "resminm = modelminm.fit(tmimc)\n",
    "insminm = modelminm.inspect(std_est=True)\n",
    "print(resminm,insminm)"
   ]
  },
  {
   "cell_type": "code",
   "execution_count": 198,
   "metadata": {},
   "outputs": [
    {
     "name": "stdout",
     "output_type": "stream",
     "text": [
      "[0.01168145] [9.37193734] [0.]\n"
     ]
    }
   ],
   "source": [
    "coefmmin=np.array(insminm.loc[insminm['rval']=='Mother_min','Est. Std'])\n",
    "coefimin=np.array(insminm.loc[insminm['rval']=='Infant_min','Est. Std'])\n",
    "\n",
    "errmmin=np.array(insminm.loc[insminm['rval']=='Mother_min','Std. Err'])\n",
    "errimin=np.array(insminm.loc[insminm['rval']=='Infant_min','Std. Err'])\n",
    "\n",
    "diff_coefmin=coefmmin-coefimin\n",
    "diff_errmin=(errmmin**2+errimin**2)**0.5\n",
    "\n",
    "zmin=diff_coefmin/diff_errmin\n",
    "pmin=2*(1-norm.cdf(abs(zmin)))\n",
    "print(coefmmin,zmin,pmin)"
   ]
  },
  {
   "cell_type": "code",
   "execution_count": 199,
   "metadata": {},
   "outputs": [
    {
     "name": "stdout",
     "output_type": "stream",
     "text": [
      "Name of objective: MLW\n",
      "Optimization method: SLSQP\n",
      "Optimization successful.\n",
      "Optimization terminated successfully\n",
      "Objective value: 0.039\n",
      "Number of iterations: 3\n",
      "Params: -0.122 -0.650 5714.532      lval  op      rval     Estimate  Est. Std    Std. Err    z-value  \\\n",
      "0  Diff_r   ~  Mother_r    -0.122295 -0.088452    0.067548  -1.810482   \n",
      "1  Diff_r   ~  Infant_r    -0.649609 -0.729330    0.043515 -14.928260   \n",
      "2  Diff_r  ~~    Diff_r  5714.532315  0.443628  587.847653   9.721111   \n",
      "\n",
      "    p-value  \n",
      "0  0.070221  \n",
      "1  0.000000  \n",
      "2  0.000000  \n"
     ]
    }
   ],
   "source": [
    "modrm = \"\"\"Diff_r~Mother_r+Infant_r\n",
    "      \"\"\"\n",
    "modelrm = Model(modrm)\n",
    "resrm = modelrm.fit(trmc)\n",
    "insrm = modelrm.inspect(std_est=True)\n",
    "print(resrm,insrm)"
   ]
  },
  {
   "cell_type": "code",
   "execution_count": 200,
   "metadata": {},
   "outputs": [
    {
     "name": "stdout",
     "output_type": "stream",
     "text": [
      "[1.55431223e-15]\n"
     ]
    }
   ],
   "source": [
    "coefmr=np.array(insrm.loc[insrm['rval']=='Mother_r','Est. Std'])\n",
    "coefir=np.array(insrm.loc[insrm['rval']=='Infant_r','Est. Std'])\n",
    "\n",
    "errmr=np.array(insrm.loc[insrm['rval']=='Mother_r','Std. Err'])\n",
    "errir=np.array(insrm.loc[insrm['rval']=='Infant_r','Std. Err'])\n",
    "\n",
    "diff_coefr=coefmr-coefir\n",
    "diff_errr=(errmr**2+errir**2)**0.5\n",
    "\n",
    "zr=diff_coefr/diff_errr\n",
    "pr=2*(1-norm.cdf(abs(zr)))\n",
    "print(pr)"
   ]
  },
  {
   "cell_type": "code",
   "execution_count": 201,
   "metadata": {},
   "outputs": [
    {
     "name": "stdout",
     "output_type": "stream",
     "text": [
      "Name of objective: MLW\n",
      "Optimization method: SLSQP\n",
      "Optimization successful.\n",
      "Optimization terminated successfully\n",
      "Objective value: 0.002\n",
      "Number of iterations: 3\n",
      "Params: 0.496 -0.587 2546.137         lval  op         rval     Estimate  Est. Std    Std. Err    z-value  \\\n",
      "0  Diff_mean   ~  Mother_mean     0.496279  0.401182    0.065660   7.558307   \n",
      "1  Diff_mean   ~  Infant_mean    -0.586542 -0.646673    0.048143 -12.183389   \n",
      "2  Diff_mean  ~~    Diff_mean  2546.136767  0.516937  261.228120   9.746794   \n",
      "\n",
      "        p-value  \n",
      "0  4.085621e-14  \n",
      "1  0.000000e+00  \n",
      "2  0.000000e+00  \n"
     ]
    }
   ],
   "source": [
    "modmeanm = \"\"\"Diff_mean~Mother_mean+Infant_mean\n",
    "      \"\"\"\n",
    "modelmeanm = Model(modmeanm)\n",
    "resmeanm = modelmeanm.fit(ememc)\n",
    "insmeanm = modelmeanm.inspect(std_est=True)\n",
    "print(resmeanm,insmeanm)"
   ]
  },
  {
   "cell_type": "code",
   "execution_count": 202,
   "metadata": {},
   "outputs": [
    {
     "name": "stdout",
     "output_type": "stream",
     "text": [
      "[0.40118157] [0.08141843] [0.]\n"
     ]
    }
   ],
   "source": [
    "coefmmean=np.array(insmeanm.loc[insmeanm['rval']=='Mother_mean','Est. Std'])\n",
    "coefimean=np.array(insmeanm.loc[insmeanm['rval']=='Infant_mean','Est. Std'])\n",
    "\n",
    "errmmean=np.array(insmeanm.loc[insmeanm['rval']=='Mother_mean','Std. Err'])\n",
    "errimean=np.array(insmeanm.loc[insmeanm['rval']=='Infant_mean','Std. Err'])\n",
    "\n",
    "diff_coefmean=coefmmean-coefimean\n",
    "diff_errmean=(errmmean**2+errimean**2)**0.5\n",
    "\n",
    "zmean=diff_coefmean/diff_errmean\n",
    "pmean=2*(1-norm.cdf(abs(zmean)))\n",
    "print(coefmmean,diff_errmean,pmean)"
   ]
  },
  {
   "cell_type": "code",
   "execution_count": 203,
   "metadata": {},
   "outputs": [
    {
     "name": "stdout",
     "output_type": "stream",
     "text": [
      "Name of objective: MLW\n",
      "Optimization method: SLSQP\n",
      "Optimization successful.\n",
      "Optimization terminated successfully\n",
      "Objective value: 0.005\n",
      "Number of iterations: 3\n",
      "Params: 0.240 -0.594 5701.873        lval  op        rval     Estimate  Est. Std    Std. Err    z-value  \\\n",
      "0  Diff_max   ~  Mother_max     0.240351  0.201171    0.064047   3.752739   \n",
      "1  Diff_max   ~  Infant_max    -0.593554 -0.697123    0.045642 -13.004442   \n",
      "2  Diff_max  ~~    Diff_max  5701.873301  0.526521  584.999857   9.746794   \n",
      "\n",
      "    p-value  \n",
      "0  0.000175  \n",
      "1  0.000000  \n",
      "2  0.000000  \n"
     ]
    }
   ],
   "source": [
    "modmaxm = \"\"\"Diff_max~Mother_max+Infant_max\n",
    "      \"\"\"\n",
    "modelmaxm = Model(modmaxm)\n",
    "resmaxm = modelmaxm.fit(emamc)\n",
    "insmaxm = modelmaxm.inspect(std_est=True)\n",
    "print(resmaxm,insmaxm)"
   ]
  },
  {
   "cell_type": "code",
   "execution_count": 204,
   "metadata": {},
   "outputs": [
    {
     "name": "stdout",
     "output_type": "stream",
     "text": [
      "[0.20117142] [0.]\n"
     ]
    }
   ],
   "source": [
    "coefmmax=np.array(insmaxm.loc[insmaxm['rval']=='Mother_max','Est. Std'])\n",
    "coefimax=np.array(insmaxm.loc[insmaxm['rval']=='Infant_max','Est. Std'])\n",
    "\n",
    "errmmax=np.array(insmaxm.loc[insmaxm['rval']=='Mother_max','Std. Err'])\n",
    "errimax=np.array(insmaxm.loc[insmaxm['rval']=='Infant_max','Std. Err'])\n",
    "\n",
    "diff_coefmax=coefmmax-coefimax\n",
    "diff_errmax=(errmmax**2+errimax**2)**0.5\n",
    "\n",
    "zmax=diff_coefmax/diff_errmax\n",
    "pmax=2*(1-norm.cdf(abs(zmax)))\n",
    "print(coefmmax,pmax)"
   ]
  },
  {
   "cell_type": "code",
   "execution_count": 205,
   "metadata": {},
   "outputs": [
    {
     "name": "stdout",
     "output_type": "stream",
     "text": [
      "Name of objective: MLW\n",
      "Optimization method: SLSQP\n",
      "Optimization successful.\n",
      "Optimization terminated successfully\n",
      "Objective value: 0.048\n",
      "Number of iterations: 3\n",
      "Params: 0.422 -0.446 1920.919        lval  op        rval     Estimate  Est. Std    Std. Err   z-value  \\\n",
      "0  Diff_min   ~  Mother_min     0.421766  0.439841    0.054345  7.760823   \n",
      "1  Diff_min   ~  Infant_min    -0.446434 -0.501649    0.050436 -8.851406   \n",
      "2  Diff_min  ~~    Diff_min  1920.918636  0.603020  197.082094  9.746794   \n",
      "\n",
      "        p-value  \n",
      "0  8.437695e-15  \n",
      "1  0.000000e+00  \n",
      "2  0.000000e+00  \n"
     ]
    }
   ],
   "source": [
    "modminm = \"\"\"Diff_min~Mother_min+Infant_min\n",
    "      \"\"\"\n",
    "modelminm = Model(modminm)\n",
    "resminm = modelminm.fit(emimc)\n",
    "insminm = modelminm.inspect(std_est=True)\n",
    "print(resminm,insminm)"
   ]
  },
  {
   "cell_type": "code",
   "execution_count": 206,
   "metadata": {},
   "outputs": [
    {
     "name": "stdout",
     "output_type": "stream",
     "text": [
      "[0.43984102] [12.69820234] [0.]\n"
     ]
    }
   ],
   "source": [
    "coefmmin=np.array(insminm.loc[insminm['rval']=='Mother_min','Est. Std'])\n",
    "coefimin=np.array(insminm.loc[insminm['rval']=='Infant_min','Est. Std'])\n",
    "\n",
    "errmmin=np.array(insminm.loc[insminm['rval']=='Mother_min','Std. Err'])\n",
    "errimin=np.array(insminm.loc[insminm['rval']=='Infant_min','Std. Err'])\n",
    "\n",
    "diff_coefmin=coefmmin-coefimin\n",
    "diff_errmin=(errmmin**2+errimin**2)**0.5\n",
    "\n",
    "zmin=diff_coefmin/diff_errmin\n",
    "pmin=2*(1-norm.cdf(abs(zmin)))\n",
    "print(coefmmin,zmin,pmin)"
   ]
  },
  {
   "cell_type": "code",
   "execution_count": 207,
   "metadata": {},
   "outputs": [
    {
     "name": "stdout",
     "output_type": "stream",
     "text": [
      "Name of objective: MLW\n",
      "Optimization method: SLSQP\n",
      "Optimization successful.\n",
      "Optimization terminated successfully\n",
      "Objective value: 0.026\n",
      "Number of iterations: 3\n",
      "Params: -0.199 -0.411 2922.151      lval  op      rval     Estimate  Est. Std    Std. Err    z-value  p-value\n",
      "0  Diff_r   ~  Mother_r    -0.199074 -0.208602    0.053537  -3.718471   0.0002\n",
      "1  Diff_r   ~  Infant_r    -0.411230 -0.578211    0.039898 -10.307029   0.0000\n",
      "2  Diff_r  ~~    Diff_r  2922.150614  0.570126  299.806327   9.746794   0.0000\n"
     ]
    }
   ],
   "source": [
    "modrm = \"\"\"Diff_r~Mother_r+Infant_r\n",
    "      \"\"\"\n",
    "modelrm = Model(modrm)\n",
    "resrm = modelrm.fit(ermc)\n",
    "insrm = modelrm.inspect(std_est=True)\n",
    "print(resrm,insrm)"
   ]
  },
  {
   "cell_type": "code",
   "execution_count": 208,
   "metadata": {},
   "outputs": [
    {
     "name": "stdout",
     "output_type": "stream",
     "text": [
      "[3.09990875e-08]\n"
     ]
    }
   ],
   "source": [
    "coefmr=np.array(insrm.loc[insrm['rval']=='Mother_r','Est. Std'])\n",
    "coefir=np.array(insrm.loc[insrm['rval']=='Infant_r','Est. Std'])\n",
    "\n",
    "errmr=np.array(insrm.loc[insrm['rval']=='Mother_r','Std. Err'])\n",
    "errir=np.array(insrm.loc[insrm['rval']=='Infant_r','Std. Err'])\n",
    "\n",
    "diff_coefr=coefmr-coefir\n",
    "diff_errr=(errmr**2+errir**2)**0.5\n",
    "\n",
    "zr=diff_coefr/diff_errr\n",
    "pr=2*(1-norm.cdf(abs(zr)))\n",
    "print(pr)"
   ]
  },
  {
   "cell_type": "code",
   "execution_count": 209,
   "metadata": {
    "scrolled": true
   },
   "outputs": [
    {
     "data": {
      "image/png": "[encoded data removed]",
      "text/plain": [
       "<Figure size 432x288 with 1 Axes>"
      ]
     },
     "metadata": {
      "needs_background": "light"
     },
     "output_type": "display_data"
    },
    {
     "data": {
      "image/png": "[encoded data removed]",
      "text/plain": [
       "<Figure size 432x288 with 1 Axes>"
      ]
     },
     "metadata": {
      "needs_background": "light"
     },
     "output_type": "display_data"
    },
    {
     "data": {
      "image/png": "[encoded data removed]",
      "text/plain": [
       "<Figure size 432x288 with 1 Axes>"
      ]
     },
     "metadata": {
      "needs_background": "light"
     },
     "output_type": "display_data"
    },
    {
     "data": {
      "image/png": "[encoded data removed]",
      "text/plain": [
       "<Figure size 432x288 with 1 Axes>"
      ]
     },
     "metadata": {
      "needs_background": "light"
     },
     "output_type": "display_data"
    }
   ],
   "source": [
    "fig, ax=plt.subplots()\n",
    "ax.spines['right'].set_visible(False)\n",
    "ax.spines['top'].set_visible(False)\n",
    "plt.rc('font',family='Times New Roman')\n",
    "plt.scatter(tmsmecut['IV'],tmsmecut['DV'])\n",
    "linear_model=np.polyfit(tmsmecut['IV'],tmsmecut['DV'],1)\n",
    "linear_model_fn=np.poly1d(linear_model)\n",
    "plt.plot(tmsmecut['IV'],linear_model_fn(tmsmecut['IV']),color=\"k\")\n",
    "plt.xticks(fontsize=14)\n",
    "plt.yticks(fontsize=14)\n",
    "ax.set(xlim=(0, 610))\n",
    "ax.set(ylim=(0, 800))\n",
    "\n",
    "plt.show()\n",
    "#filesavemsme=r'C:\\LJR\\paper\\tseltalvsenglish\\figures\\msme.jpg'\n",
    "#fig.savefig(filesavemsme, bbox_inches='tight', pad_inches=0)\n",
    "\n",
    "fig, ax=plt.subplots()\n",
    "ax.spines['right'].set_visible(False)\n",
    "ax.spines['top'].set_visible(False)\n",
    "plt.rc('font',family='Times New Roman')\n",
    "plt.scatter(tmsmacut['IV'],tmsmacut['DV'])\n",
    "linear_model=np.polyfit(tmsmacut['IV'],tmsmacut['DV'],1)\n",
    "linear_model_fn=np.poly1d(linear_model)\n",
    "plt.plot(tmsmacut['IV'],linear_model_fn(tmsmacut['IV']),color=\"k\")\n",
    "plt.xticks(fontsize=14)\n",
    "plt.yticks(fontsize=14)\n",
    "ax.set(xlim=(0, 610))\n",
    "ax.set(ylim=(0, 800))\n",
    "plt.show()\n",
    "#filesavemsma=r'C:\\LJR\\paper\\tseltalvsenglish\\figures\\msma.jpg'\n",
    "#fig.savefig(filesavemsma, bbox_inches='tight', pad_inches=0)\n",
    "\n",
    "fig, ax=plt.subplots()\n",
    "ax.spines['right'].set_visible(False)\n",
    "ax.spines['top'].set_visible(False)\n",
    "plt.rc('font',family='Times New Roman')\n",
    "plt.scatter(tmsmicut['IV'],tmsmicut['DV'])\n",
    "linear_model=np.polyfit(tmsmicut['IV'],tmsmicut['DV'],1)\n",
    "linear_model_fn=np.poly1d(linear_model)\n",
    "plt.plot(tmsmicut['IV'],linear_model_fn(tmsmicut['IV']),color=\"k\")\n",
    "plt.xticks(fontsize=14)\n",
    "plt.yticks(fontsize=14)\n",
    "ax.set(xlim=(0, 610))\n",
    "ax.set(ylim=(0, 800))\n",
    "\n",
    "plt.show()\n",
    "#filesavemsmi=r'C:\\LJR\\paper\\tseltalvsenglish\\figures\\msmi.jpg'\n",
    "#fig.savefig(filesavemsmi, bbox_inches='tight', pad_inches=0)\n",
    "\n",
    "fig, ax=plt.subplots()\n",
    "ax.spines['right'].set_visible(False)\n",
    "ax.spines['top'].set_visible(False)\n",
    "plt.rc('font',family='Times New Roman')\n",
    "plt.scatter(tmsrcut['IV'],tmsrcut['DV'])\n",
    "linear_model=np.polyfit(tmsrcut['IV'],tmsrcut['DV'],1)\n",
    "linear_model_fn=np.poly1d(linear_model)\n",
    "plt.plot(tmsrcut['IV'],linear_model_fn(tmsrcut['IV']),color=\"k\")\n",
    "plt.xticks(fontsize=14)\n",
    "plt.yticks(fontsize=14)\n",
    "ax.set(xlim=(0, 610))\n",
    "ax.set(ylim=(0, 800))\n",
    "plt.show()\n",
    "#filesavemsr=r'C:\\LJR\\paper\\tseltalvsenglish\\figures\\msr.jpg'\n",
    "#fig.savefig(filesavemsr, bbox_inches='tight', pad_inches=0)"
   ]
  },
  {
   "cell_type": "code",
   "execution_count": 210,
   "metadata": {
    "scrolled": true
   },
   "outputs": [
    {
     "data": {
      "image/png": "[encoded data removed]",
      "text/plain": [
       "<Figure size 432x288 with 1 Axes>"
      ]
     },
     "metadata": {
      "needs_background": "light"
     },
     "output_type": "display_data"
    },
    {
     "data": {
      "image/png": "[encoded data removed]",
      "text/plain": [
       "<Figure size 432x288 with 1 Axes>"
      ]
     },
     "metadata": {
      "needs_background": "light"
     },
     "output_type": "display_data"
    },
    {
     "data": {
      "image/png": "[encoded data removed]",
      "text/plain": [
       "<Figure size 432x288 with 1 Axes>"
      ]
     },
     "metadata": {
      "needs_background": "light"
     },
     "output_type": "display_data"
    },
    {
     "data": {
      "image/png": "[encoded data removed]",
      "text/plain": [
       "<Figure size 432x288 with 1 Axes>"
      ]
     },
     "metadata": {
      "needs_background": "light"
     },
     "output_type": "display_data"
    }
   ],
   "source": [
    "fig, ax=plt.subplots()\n",
    "ax.spines['right'].set_visible(False)\n",
    "ax.spines['top'].set_visible(False)\n",
    "plt.rc('font',family='Times New Roman')\n",
    "plt.scatter(tcsmecut['IV'],tcsmecut['DV'])\n",
    "linear_model=np.polyfit(tcsmecut['IV'],tcsmecut['DV'],1)\n",
    "linear_model_fn=np.poly1d(linear_model)\n",
    "plt.plot(tcsmecut['IV'],linear_model_fn(tcsmecut['IV']),color=\"k\")\n",
    "plt.xticks(fontsize=14)\n",
    "plt.yticks(fontsize=14)\n",
    "ax.set(xlim=(0, 800))\n",
    "ax.set(ylim=(0, 610))\n",
    "\n",
    "plt.show()\n",
    "#filesavemsme=r'C:\\LJR\\paper\\tseltalvsenglish\\figures\\msme.jpg'\n",
    "#fig.savefig(filesavemsme, bbox_inches='tight', pad_inches=0)\n",
    "\n",
    "fig, ax=plt.subplots()\n",
    "ax.spines['right'].set_visible(False)\n",
    "ax.spines['top'].set_visible(False)\n",
    "plt.rc('font',family='Times New Roman')\n",
    "plt.scatter(tcsmacut['IV'],tcsmacut['DV'])\n",
    "linear_model=np.polyfit(tcsmacut['IV'],tcsmacut['DV'],1)\n",
    "linear_model_fn=np.poly1d(linear_model)\n",
    "plt.plot(tcsmacut['IV'],linear_model_fn(tcsmacut['IV']),color=\"k\")\n",
    "plt.xticks(fontsize=14)\n",
    "plt.yticks(fontsize=14)\n",
    "ax.set(xlim=(0, 800))\n",
    "ax.set(ylim=(0, 610))\n",
    "plt.show()\n",
    "#filesavemsma=r'C:\\LJR\\paper\\tseltalvsenglish\\figures\\msma.jpg'\n",
    "#fig.savefig(filesavemsma, bbox_inches='tight', pad_inches=0)\n",
    "\n",
    "fig, ax=plt.subplots()\n",
    "ax.spines['right'].set_visible(False)\n",
    "ax.spines['top'].set_visible(False)\n",
    "plt.rc('font',family='Times New Roman')\n",
    "plt.scatter(tcsmicut['IV'],tcsmicut['DV'])\n",
    "linear_model=np.polyfit(tcsmicut['IV'],tcsmicut['DV'],1)\n",
    "linear_model_fn=np.poly1d(linear_model)\n",
    "plt.plot(tcsmicut['IV'],linear_model_fn(tcsmicut['IV']),color=\"k\")\n",
    "plt.xticks(fontsize=14)\n",
    "plt.yticks(fontsize=14)\n",
    "ax.set(xlim=(0, 800))\n",
    "ax.set(ylim=(0, 610))\n",
    "\n",
    "plt.show()\n",
    "#filesavemsmi=r'C:\\LJR\\paper\\tseltalvsenglish\\figures\\msmi.jpg'\n",
    "#fig.savefig(filesavemsmi, bbox_inches='tight', pad_inches=0)\n",
    "\n",
    "fig, ax=plt.subplots()\n",
    "ax.spines['right'].set_visible(False)\n",
    "ax.spines['top'].set_visible(False)\n",
    "plt.rc('font',family='Times New Roman')\n",
    "plt.scatter(tcsrcut['IV'],tcsrcut['DV'])\n",
    "linear_model=np.polyfit(tcsrcut['IV'],tcsrcut['DV'],1)\n",
    "linear_model_fn=np.poly1d(linear_model)\n",
    "plt.plot(tcsrcut['IV'],linear_model_fn(tcsrcut['IV']),color=\"k\")\n",
    "plt.xticks(fontsize=14)\n",
    "plt.yticks(fontsize=14)\n",
    "ax.set(xlim=(0, 800))\n",
    "ax.set(ylim=(0, 610))\n",
    "plt.show()\n",
    "#filesavemsr=r'C:\\LJR\\paper\\tseltalvsenglish\\figures\\msr.jpg'\n",
    "#fig.savefig(filesavemsr, bbox_inches='tight', pad_inches=0)"
   ]
  },
  {
   "cell_type": "code",
   "execution_count": 211,
   "metadata": {
    "scrolled": true
   },
   "outputs": [
    {
     "data": {
      "image/png": "[encoded data removed]",
      "text/plain": [
       "<Figure size 432x288 with 1 Axes>"
      ]
     },
     "metadata": {
      "needs_background": "light"
     },
     "output_type": "display_data"
    },
    {
     "data": {
      "image/png": "[encoded data removed]",
      "text/plain": [
       "<Figure size 432x288 with 1 Axes>"
      ]
     },
     "metadata": {
      "needs_background": "light"
     },
     "output_type": "display_data"
    },
    {
     "data": {
      "image/png": "[encoded data removed]",
      "text/plain": [
       "<Figure size 432x288 with 1 Axes>"
      ]
     },
     "metadata": {
      "needs_background": "light"
     },
     "output_type": "display_data"
    },
    {
     "data": {
      "image/png": "[encoded data removed]",
      "text/plain": [
       "<Figure size 432x288 with 1 Axes>"
      ]
     },
     "metadata": {
      "needs_background": "light"
     },
     "output_type": "display_data"
    }
   ],
   "source": [
    "fig, ax=plt.subplots()\n",
    "ax.spines['right'].set_visible(False)\n",
    "ax.spines['top'].set_visible(False)\n",
    "plt.rc('font',family='Times New Roman')\n",
    "plt.scatter(emsmecut['IV'],emsmecut['DV'])\n",
    "linear_model=np.polyfit(emsmecut['IV'],emsmecut['DV'],1)\n",
    "linear_model_fn=np.poly1d(linear_model)\n",
    "plt.plot(emsmecut['IV'],linear_model_fn(emsmecut['IV']),color=\"k\")\n",
    "plt.xticks(fontsize=14)\n",
    "plt.yticks(fontsize=14)\n",
    "ax.set(xlim=(0, 610))\n",
    "ax.set(ylim=(0, 800))\n",
    "\n",
    "plt.show()\n",
    "#filesavemsme=r'C:\\LJR\\paper\\tseltalvsenglish\\figures\\msme.jpg'\n",
    "#fig.savefig(filesavemsme, bbox_inches='tight', pad_inches=0)\n",
    "\n",
    "fig, ax=plt.subplots()\n",
    "ax.spines['right'].set_visible(False)\n",
    "ax.spines['top'].set_visible(False)\n",
    "plt.rc('font',family='Times New Roman')\n",
    "plt.scatter(emsmacut['IV'],emsmacut['DV'])\n",
    "linear_model=np.polyfit(emsmacut['IV'],emsmacut['DV'],1)\n",
    "linear_model_fn=np.poly1d(linear_model)\n",
    "plt.plot(emsmacut['IV'],linear_model_fn(emsmacut['IV']),color=\"k\")\n",
    "plt.xticks(fontsize=14)\n",
    "plt.yticks(fontsize=14)\n",
    "ax.set(xlim=(0, 610))\n",
    "ax.set(ylim=(0, 800))\n",
    "plt.show()\n",
    "#filesavemsma=r'C:\\LJR\\paper\\tseltalvsenglish\\figures\\msma.jpg'\n",
    "#fig.savefig(filesavemsma, bbox_inches='tight', pad_inches=0)\n",
    "\n",
    "fig, ax=plt.subplots()\n",
    "ax.spines['right'].set_visible(False)\n",
    "ax.spines['top'].set_visible(False)\n",
    "plt.rc('font',family='Times New Roman')\n",
    "plt.scatter(emsmicut['IV'],emsmicut['DV'])\n",
    "linear_model=np.polyfit(emsmicut['IV'],emsmicut['DV'],1)\n",
    "linear_model_fn=np.poly1d(linear_model)\n",
    "plt.plot(emsmicut['IV'],linear_model_fn(emsmicut['IV']),color=\"k\")\n",
    "plt.xticks(fontsize=14)\n",
    "plt.yticks(fontsize=14)\n",
    "ax.set(xlim=(0, 610))\n",
    "ax.set(ylim=(0, 800))\n",
    "\n",
    "plt.show()\n",
    "#filesavemsmi=r'C:\\LJR\\paper\\tseltalvsenglish\\figures\\msmi.jpg'\n",
    "#fig.savefig(filesavemsmi, bbox_inches='tight', pad_inches=0)\n",
    "\n",
    "fig, ax=plt.subplots()\n",
    "ax.spines['right'].set_visible(False)\n",
    "ax.spines['top'].set_visible(False)\n",
    "plt.rc('font',family='Times New Roman')\n",
    "plt.scatter(emsrcut['IV'],emsrcut['DV'])\n",
    "linear_model=np.polyfit(emsrcut['IV'],emsrcut['DV'],1)\n",
    "linear_model_fn=np.poly1d(linear_model)\n",
    "plt.plot(emsrcut['IV'],linear_model_fn(emsrcut['IV']),color=\"k\")\n",
    "plt.xticks(fontsize=14)\n",
    "plt.yticks(fontsize=14)\n",
    "ax.set(xlim=(0, 610))\n",
    "ax.set(ylim=(0, 800))\n",
    "plt.show()\n",
    "#filesavemsr=r'C:\\LJR\\paper\\tseltalvsenglish\\figures\\msr.jpg'\n",
    "#fig.savefig(filesavemsr, bbox_inches='tight', pad_inches=0)"
   ]
  },
  {
   "cell_type": "code",
   "execution_count": 212,
   "metadata": {},
   "outputs": [
    {
     "data": {
      "image/png": "[encoded data removed]",
      "text/plain": [
       "<Figure size 432x288 with 1 Axes>"
      ]
     },
     "metadata": {
      "needs_background": "light"
     },
     "output_type": "display_data"
    },
    {
     "data": {
      "image/png": "[encoded data removed]",
      "text/plain": [
       "<Figure size 432x288 with 1 Axes>"
      ]
     },
     "metadata": {
      "needs_background": "light"
     },
     "output_type": "display_data"
    },
    {
     "data": {
      "image/png": "[encoded data removed]",
      "text/plain": [
       "<Figure size 432x288 with 1 Axes>"
      ]
     },
     "metadata": {
      "needs_background": "light"
     },
     "output_type": "display_data"
    },
    {
     "data": {
      "image/png": "[encoded data removed]",
      "text/plain": [
       "<Figure size 432x288 with 1 Axes>"
      ]
     },
     "metadata": {
      "needs_background": "light"
     },
     "output_type": "display_data"
    }
   ],
   "source": [
    "fig, ax=plt.subplots()\n",
    "ax.spines['right'].set_visible(False)\n",
    "ax.spines['top'].set_visible(False)\n",
    "plt.rc('font',family='Times New Roman')\n",
    "plt.scatter(ecsmecut['IV'],ecsmecut['DV'])\n",
    "linear_model=np.polyfit(ecsmecut['IV'],ecsmecut['DV'],1)\n",
    "linear_model_fn=np.poly1d(linear_model)\n",
    "plt.plot(ecsmecut['IV'],linear_model_fn(ecsmecut['IV']),color=\"k\")\n",
    "plt.xticks(fontsize=14)\n",
    "plt.yticks(fontsize=14)\n",
    "ax.set(xlim=(0, 800))\n",
    "ax.set(ylim=(0, 610))\n",
    "\n",
    "plt.show()\n",
    "#filesavemsme=r'C:\\LJR\\paper\\tseltalvsenglish\\figures\\msme.jpg'\n",
    "#fig.savefig(filesavemsme, bbox_inches='tight', pad_inches=0)\n",
    "\n",
    "fig, ax=plt.subplots()\n",
    "ax.spines['right'].set_visible(False)\n",
    "ax.spines['top'].set_visible(False)\n",
    "plt.rc('font',family='Times New Roman')\n",
    "plt.scatter(ecsmacut['IV'],ecsmacut['DV'])\n",
    "linear_model=np.polyfit(ecsmacut['IV'],ecsmacut['DV'],1)\n",
    "linear_model_fn=np.poly1d(linear_model)\n",
    "plt.plot(ecsmacut['IV'],linear_model_fn(ecsmacut['IV']),color=\"k\")\n",
    "plt.xticks(fontsize=14)\n",
    "plt.yticks(fontsize=14)\n",
    "ax.set(xlim=(0, 800))\n",
    "ax.set(ylim=(0, 610))\n",
    "plt.show()\n",
    "#filesavemsma=r'C:\\LJR\\paper\\tseltalvsenglish\\figures\\msma.jpg'\n",
    "#fig.savefig(filesavemsma, bbox_inches='tight', pad_inches=0)\n",
    "\n",
    "fig, ax=plt.subplots()\n",
    "ax.spines['right'].set_visible(False)\n",
    "ax.spines['top'].set_visible(False)\n",
    "plt.rc('font',family='Times New Roman')\n",
    "plt.scatter(ecsmicut['IV'],ecsmicut['DV'])\n",
    "linear_model=np.polyfit(ecsmicut['IV'],ecsmicut['DV'],1)\n",
    "linear_model_fn=np.poly1d(linear_model)\n",
    "plt.plot(ecsmicut['IV'],linear_model_fn(ecsmicut['IV']),color=\"k\")\n",
    "plt.xticks(fontsize=14)\n",
    "plt.yticks(fontsize=14)\n",
    "ax.set(xlim=(0, 800))\n",
    "ax.set(ylim=(0, 610))\n",
    "\n",
    "plt.show()\n",
    "#filesavemsmi=r'C:\\LJR\\paper\\tseltalvsenglish\\figures\\msmi.jpg'\n",
    "#fig.savefig(filesavemsmi, bbox_inches='tight', pad_inches=0)\n",
    "\n",
    "fig, ax=plt.subplots()\n",
    "ax.spines['right'].set_visible(False)\n",
    "ax.spines['top'].set_visible(False)\n",
    "plt.rc('font',family='Times New Roman')\n",
    "plt.scatter(ecsrcut['IV'],ecsrcut['DV'])\n",
    "linear_model=np.polyfit(ecsrcut['IV'],ecsrcut['DV'],1)\n",
    "linear_model_fn=np.poly1d(linear_model)\n",
    "plt.plot(ecsrcut['IV'],linear_model_fn(ecsrcut['IV']),color=\"k\")\n",
    "plt.xticks(fontsize=14)\n",
    "plt.yticks(fontsize=14)\n",
    "ax.set(xlim=(0, 800))\n",
    "ax.set(ylim=(0, 610))\n",
    "plt.show()\n",
    "#filesavemsr=r'C:\\LJR\\paper\\tseltalvsenglish\\figures\\msr.jpg'\n",
    "#fig.savefig(filesavemsr, bbox_inches='tight', pad_inches=0)"
   ]
  }
 ],
 "metadata": {
  "kernelspec": {
   "display_name": "Python 3",
   "language": "python",
   "name": "python3"
  },
  "language_info": {
   "codemirror_mode": {
    "name": "ipython",
    "version": 3
   },
   "file_extension": ".py",
   "mimetype": "text/x-python",
   "name": "python",
   "nbconvert_exporter": "python",
   "pygments_lexer": "ipython3",
   "version": "3.8.5"
  }
 },
 "nbformat": 4,
 "nbformat_minor": 4
}
