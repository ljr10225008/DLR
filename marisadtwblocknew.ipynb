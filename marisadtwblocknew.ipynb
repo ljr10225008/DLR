{
 "cells": [
  {
   "cell_type": "code",
   "execution_count": 1,
   "metadata": {},
   "outputs": [
    {
     "name": "stderr",
     "output_type": "stream",
     "text": [
      "C:\\Users\\ljr\\anaconda3\\lib\\site-packages\\pandas\\core\\computation\\expressions.py:20: UserWarning: Pandas requires version '2.7.3' or newer of 'numexpr' (version '2.7.1' currently installed).\n",
      "  from pandas.core.computation.check import NUMEXPR_INSTALLED\n"
     ]
    }
   ],
   "source": [
    "import math\n",
    "import numpy as np\n",
    "import sklearn\n",
    "from sklearn.cluster import KMeans\n",
    "import matplotlib as mpl\n",
    "import matplotlib.pyplot as plt\n",
    "import librosa\n",
    "import librosa.display\n",
    "import os\n",
    "import re\n",
    "import seaborn as sns\n",
    "import pandas as pd\n",
    "import random\n",
    "from scipy import stats  #t-test\n",
    "import semopy\n",
    "import pandas as pd\n",
    "from semopy import Model\n",
    "import scipy.stats as stats \n",
    "from itertools import groupby\n",
    "from scipy.spatial.distance import euclidean\n",
    "from fastdtw import fastdtw\n",
    "from scipy.interpolate import interp1d\n",
    "import statsmodels.formula.api as smf\n",
    "import statsmodels.api as sm"
   ]
  },
  {
   "cell_type": "code",
   "execution_count": 2,
   "metadata": {},
   "outputs": [],
   "source": [
    "plt.rc('font',family='Times New Roman')"
   ]
  },
  {
   "cell_type": "code",
   "execution_count": 3,
   "metadata": {},
   "outputs": [],
   "source": [
    "pathturn11 = r\"C:\\LJR\\babylab\\marisa\\datamanual\\cut\\0643\\turntaking\\block\\fanew\\turn1\"\n",
    "filesturn11= os.listdir(pathturn11)\n",
    "pathturn12 = r\"C:\\LJR\\babylab\\marisa\\datamanual\\cut\\0643\\turntaking\\block\\fanew\\turn2\"\n",
    "filesturn12= os.listdir(pathturn12)\n",
    "pathturn13 = r\"C:\\LJR\\babylab\\marisa\\datamanual\\cut\\0643\\turntaking\\block\\fanew\\turn3\"\n",
    "filesturn13= os.listdir(pathturn13)\n",
    "pathturn14 = r\"C:\\LJR\\babylab\\marisa\\datamanual\\cut\\0643\\turntaking\\block\\fanew\\turn4\"\n",
    "filesturn14= os.listdir(pathturn14)\n",
    "pathturn15 = r\"C:\\LJR\\babylab\\marisa\\datamanual\\cut\\0643\\turntaking\\block\\fanew\\turn5\"\n",
    "filesturn15= os.listdir(pathturn15)\n",
    "\n",
    "pathturn11c = r\"C:\\LJR\\babylab\\marisa\\datamanual\\cut\\0643\\turntaking\\block\\chinew\\turn1\"\n",
    "filesturn11c= os.listdir(pathturn11c)\n",
    "pathturn12c = r\"C:\\LJR\\babylab\\marisa\\datamanual\\cut\\0643\\turntaking\\block\\chinew\\turn2\"\n",
    "filesturn12c= os.listdir(pathturn12c)\n",
    "pathturn13c = r\"C:\\LJR\\babylab\\marisa\\datamanual\\cut\\0643\\turntaking\\block\\chinew\\turn3\"\n",
    "filesturn13c= os.listdir(pathturn13c)\n",
    "pathturn14c = r\"C:\\LJR\\babylab\\marisa\\datamanual\\cut\\0643\\turntaking\\block\\chinew\\turn4\"\n",
    "filesturn14c= os.listdir(pathturn14c)\n",
    "pathturn15c = r\"C:\\LJR\\babylab\\marisa\\datamanual\\cut\\0643\\turntaking\\block\\chinew\\turn5\"\n",
    "filesturn15c= os.listdir(pathturn15c)"
   ]
  },
  {
   "cell_type": "code",
   "execution_count": 4,
   "metadata": {},
   "outputs": [],
   "source": [
    "pathturn21 = r\"C:\\LJR\\babylab\\marisa\\datamanual\\cut\\2109\\turntaking\\block\\fanew\\turn1\"\n",
    "filesturn21= os.listdir(pathturn21)\n",
    "pathturn22 = r\"C:\\LJR\\babylab\\marisa\\datamanual\\cut\\2109\\turntaking\\block\\fanew\\turn2\"\n",
    "filesturn22= os.listdir(pathturn22)\n",
    "#pathturn23 = r\"C:\\LJR\\babylab\\marisa\\datamanual\\cut\\2109\\turntaking\\block\\fanew\\turn3\"\n",
    "#filesturn23= os.listdir(pathturn23)\n",
    "pathturn24 = r\"C:\\LJR\\babylab\\marisa\\datamanual\\cut\\2109\\turntaking\\block\\fanew\\turn4\"\n",
    "filesturn24= os.listdir(pathturn24)\n",
    "pathturn25 = r\"C:\\LJR\\babylab\\marisa\\datamanual\\cut\\2109\\turntaking\\block\\fanew\\turn5\"\n",
    "filesturn25= os.listdir(pathturn25)\n",
    "pathturn26 = r\"C:\\LJR\\babylab\\marisa\\datamanual\\cut\\2109\\turntaking\\block\\fanew\\turn6\"\n",
    "filesturn26= os.listdir(pathturn26)\n",
    "\n",
    "pathturn21c = r\"C:\\LJR\\babylab\\marisa\\datamanual\\cut\\2109\\turntaking\\block\\chinew\\turn1\"\n",
    "filesturn21c= os.listdir(pathturn21c)\n",
    "pathturn22c = r\"C:\\LJR\\babylab\\marisa\\datamanual\\cut\\2109\\turntaking\\block\\chinew\\turn2\"\n",
    "filesturn22c= os.listdir(pathturn22c)\n",
    "#pathturn23c = r\"C:\\LJR\\babylab\\marisa\\datamanual\\cut\\2109\\turntaking\\block\\chinew\\turn3\"\n",
    "#filesturn23c= os.listdir(pathturn23c)\n",
    "pathturn24c = r\"C:\\LJR\\babylab\\marisa\\datamanual\\cut\\2109\\turntaking\\block\\chinew\\turn4\"\n",
    "filesturn24c= os.listdir(pathturn24c)\n",
    "pathturn25c = r\"C:\\LJR\\babylab\\marisa\\datamanual\\cut\\2109\\turntaking\\block\\chinew\\turn5\"\n",
    "filesturn25c= os.listdir(pathturn25c)\n",
    "pathturn26c = r\"C:\\LJR\\babylab\\marisa\\datamanual\\cut\\2109\\turntaking\\block\\chinew\\turn6\"\n",
    "filesturn26c= os.listdir(pathturn26c)"
   ]
  },
  {
   "cell_type": "code",
   "execution_count": 5,
   "metadata": {},
   "outputs": [],
   "source": [
    "#print(len(filesturn21),len(filesturn22),len(filesturn23),len(filesturn24),len(filesturn25),len(filesturn26))"
   ]
  },
  {
   "cell_type": "code",
   "execution_count": 6,
   "metadata": {},
   "outputs": [],
   "source": [
    "pathturn61 = r\"C:\\LJR\\babylab\\marisa\\datamanual\\cut\\7176\\turntaking\\block\\fanew\\turn1\"\n",
    "filesturn61= os.listdir(pathturn61)\n",
    "pathturn62 = r\"C:\\LJR\\babylab\\marisa\\datamanual\\cut\\7176\\turntaking\\block\\fanew\\turn2\"\n",
    "filesturn62= os.listdir(pathturn62)\n",
    "pathturn63 = r\"C:\\LJR\\babylab\\marisa\\datamanual\\cut\\7176\\turntaking\\block\\fanew\\turn3\"\n",
    "filesturn63= os.listdir(pathturn63)\n",
    "pathturn64 = r\"C:\\LJR\\babylab\\marisa\\datamanual\\cut\\7176\\turntaking\\block\\fanew\\turn4\"\n",
    "filesturn64= os.listdir(pathturn64)\n",
    "pathturn65 = r\"C:\\LJR\\babylab\\marisa\\datamanual\\cut\\7176\\turntaking\\block\\fanew\\turn5\"\n",
    "filesturn65= os.listdir(pathturn65)\n",
    "pathturn66 = r\"C:\\LJR\\babylab\\marisa\\datamanual\\cut\\7176\\turntaking\\block\\fanew\\turn6\"\n",
    "filesturn66= os.listdir(pathturn66)\n",
    "pathturn67 = r\"C:\\LJR\\babylab\\marisa\\datamanual\\cut\\7176\\turntaking\\block\\fanew\\turn7\"\n",
    "filesturn67= os.listdir(pathturn67)\n",
    "pathturn68 = r\"C:\\LJR\\babylab\\marisa\\datamanual\\cut\\7176\\turntaking\\block\\fanew\\turn8\"\n",
    "filesturn68= os.listdir(pathturn68)\n",
    "\n",
    "\n",
    "pathturn61c = r\"C:\\LJR\\babylab\\marisa\\datamanual\\cut\\7176\\turntaking\\block\\chinew\\turn1\"\n",
    "filesturn61c= os.listdir(pathturn61c)\n",
    "pathturn62c = r\"C:\\LJR\\babylab\\marisa\\datamanual\\cut\\7176\\turntaking\\block\\chinew\\turn2\"\n",
    "filesturn62c= os.listdir(pathturn62c)\n",
    "pathturn63c = r\"C:\\LJR\\babylab\\marisa\\datamanual\\cut\\7176\\turntaking\\block\\chinew\\turn3\"\n",
    "filesturn63c= os.listdir(pathturn63c)\n",
    "pathturn64c = r\"C:\\LJR\\babylab\\marisa\\datamanual\\cut\\7176\\turntaking\\block\\chinew\\turn4\"\n",
    "filesturn64c= os.listdir(pathturn64c)\n",
    "pathturn65c = r\"C:\\LJR\\babylab\\marisa\\datamanual\\cut\\7176\\turntaking\\block\\chinew\\turn5\"\n",
    "filesturn65c= os.listdir(pathturn65c)\n",
    "pathturn66c = r\"C:\\LJR\\babylab\\marisa\\datamanual\\cut\\7176\\turntaking\\block\\chinew\\turn6\"\n",
    "filesturn66c= os.listdir(pathturn66c)\n",
    "pathturn67c = r\"C:\\LJR\\babylab\\marisa\\datamanual\\cut\\7176\\turntaking\\block\\chinew\\turn7\"\n",
    "filesturn67c= os.listdir(pathturn67c)\n",
    "pathturn68c = r\"C:\\LJR\\babylab\\marisa\\datamanual\\cut\\7176\\turntaking\\block\\chinew\\turn8\"\n",
    "filesturn68c= os.listdir(pathturn68c)\n"
   ]
  },
  {
   "cell_type": "code",
   "execution_count": 7,
   "metadata": {},
   "outputs": [
    {
     "name": "stdout",
     "output_type": "stream",
     "text": [
      "3 2 1 6 3 1 1 4\n"
     ]
    }
   ],
   "source": [
    "print(len(filesturn61),len(filesturn62),len(filesturn63),len(filesturn64),len(filesturn65),len(filesturn66),len(filesturn67),len(filesturn68))"
   ]
  },
  {
   "cell_type": "code",
   "execution_count": 8,
   "metadata": {},
   "outputs": [],
   "source": [
    "pathturn71 = r\"C:\\LJR\\babylab\\marisa\\datamanual\\cut\\7220\\turntaking\\block\\fanew\\turn1\"\n",
    "filesturn71= os.listdir(pathturn71)\n",
    "pathturn72 = r\"C:\\LJR\\babylab\\marisa\\datamanual\\cut\\7220\\turntaking\\block\\fanew\\turn2\"\n",
    "filesturn72= os.listdir(pathturn72)\n",
    "pathturn73 = r\"C:\\LJR\\babylab\\marisa\\datamanual\\cut\\7220\\turntaking\\block\\fanew\\turn3\"\n",
    "filesturn73= os.listdir(pathturn73)\n",
    "pathturn74 = r\"C:\\LJR\\babylab\\marisa\\datamanual\\cut\\7220\\turntaking\\block\\fanew\\turn4\"\n",
    "filesturn74= os.listdir(pathturn74)\n",
    "pathturn75 = r\"C:\\LJR\\babylab\\marisa\\datamanual\\cut\\7220\\turntaking\\block\\fanew\\turn5\"\n",
    "filesturn75= os.listdir(pathturn75)\n",
    "pathturn76 = r\"C:\\LJR\\babylab\\marisa\\datamanual\\cut\\7220\\turntaking\\block\\fanew\\turn6\"\n",
    "filesturn76= os.listdir(pathturn76)\n",
    "pathturn77 = r\"C:\\LJR\\babylab\\marisa\\datamanual\\cut\\7220\\turntaking\\block\\fanew\\turn7\"\n",
    "filesturn77= os.listdir(pathturn77)\n",
    "pathturn78 = r\"C:\\LJR\\babylab\\marisa\\datamanual\\cut\\7220\\turntaking\\block\\fanew\\turn8\"\n",
    "filesturn78= os.listdir(pathturn78)\n",
    "pathturn79 = r\"C:\\LJR\\babylab\\marisa\\datamanual\\cut\\7220\\turntaking\\block\\fanew\\turn9\"\n",
    "filesturn79= os.listdir(pathturn79)\n",
    "pathturn710 = r\"C:\\LJR\\babylab\\marisa\\datamanual\\cut\\7220\\turntaking\\block\\fanew\\turn10\"\n",
    "filesturn710= os.listdir(pathturn710)\n",
    "pathturn711 = r\"C:\\LJR\\babylab\\marisa\\datamanual\\cut\\7220\\turntaking\\block\\fanew\\turn11\"\n",
    "filesturn711= os.listdir(pathturn711)\n",
    "\n",
    "pathturn71c = r\"C:\\LJR\\babylab\\marisa\\datamanual\\cut\\7220\\turntaking\\block\\chinew\\turn1\"\n",
    "filesturn71c= os.listdir(pathturn71c)\n",
    "pathturn72c = r\"C:\\LJR\\babylab\\marisa\\datamanual\\cut\\7220\\turntaking\\block\\chinew\\turn2\"\n",
    "filesturn72c= os.listdir(pathturn72c)\n",
    "pathturn73c = r\"C:\\LJR\\babylab\\marisa\\datamanual\\cut\\7220\\turntaking\\block\\chinew\\turn3\"\n",
    "filesturn73c= os.listdir(pathturn73c)\n",
    "pathturn74c = r\"C:\\LJR\\babylab\\marisa\\datamanual\\cut\\7220\\turntaking\\block\\chinew\\turn4\"\n",
    "filesturn74c= os.listdir(pathturn74c)\n",
    "pathturn75c = r\"C:\\LJR\\babylab\\marisa\\datamanual\\cut\\7220\\turntaking\\block\\chinew\\turn5\"\n",
    "filesturn75c= os.listdir(pathturn75c)\n",
    "pathturn76c = r\"C:\\LJR\\babylab\\marisa\\datamanual\\cut\\7220\\turntaking\\block\\chinew\\turn6\"\n",
    "filesturn76c= os.listdir(pathturn76c)\n",
    "pathturn77c = r\"C:\\LJR\\babylab\\marisa\\datamanual\\cut\\7220\\turntaking\\block\\chinew\\turn7\"\n",
    "filesturn77c= os.listdir(pathturn77c)\n",
    "pathturn78c = r\"C:\\LJR\\babylab\\marisa\\datamanual\\cut\\7220\\turntaking\\block\\chinew\\turn8\"\n",
    "filesturn78c= os.listdir(pathturn78c)\n",
    "pathturn79c = r\"C:\\LJR\\babylab\\marisa\\datamanual\\cut\\7220\\turntaking\\block\\chinew\\turn9\"\n",
    "filesturn79c= os.listdir(pathturn79c)\n",
    "pathturn710c = r\"C:\\LJR\\babylab\\marisa\\datamanual\\cut\\7220\\turntaking\\block\\chinew\\turn10\"\n",
    "filesturn710c= os.listdir(pathturn710c)\n",
    "pathturn711c = r\"C:\\LJR\\babylab\\marisa\\datamanual\\cut\\7220\\turntaking\\block\\chinew\\turn11\"\n",
    "filesturn711c= os.listdir(pathturn711c)"
   ]
  },
  {
   "cell_type": "code",
   "execution_count": 9,
   "metadata": {},
   "outputs": [
    {
     "name": "stdout",
     "output_type": "stream",
     "text": [
      "3 1 3 4 3 2 2 1 1 6\n"
     ]
    }
   ],
   "source": [
    "print(len(filesturn71),len(filesturn72),len(filesturn73),len(filesturn74),len(filesturn75),len(filesturn76),len(filesturn77),len(filesturn78),len(filesturn79),len(filesturn710))"
   ]
  },
  {
   "cell_type": "code",
   "execution_count": 10,
   "metadata": {},
   "outputs": [],
   "source": [
    "pathturn81 = r\"C:\\LJR\\babylab\\marisa\\datamanual\\cut\\7326\\turntaking\\block\\fanew\\turn1\"\n",
    "filesturn81= os.listdir(pathturn81)\n",
    "pathturn82 = r\"C:\\LJR\\babylab\\marisa\\datamanual\\cut\\7326\\turntaking\\block\\fanew\\turn2\"\n",
    "filesturn82= os.listdir(pathturn82)\n",
    "pathturn83 = r\"C:\\LJR\\babylab\\marisa\\datamanual\\cut\\7326\\turntaking\\block\\fanew\\turn3\"\n",
    "filesturn83= os.listdir(pathturn83)\n",
    "pathturn84 = r\"C:\\LJR\\babylab\\marisa\\datamanual\\cut\\7326\\turntaking\\block\\fanew\\turn4\"\n",
    "filesturn84= os.listdir(pathturn84)\n",
    "pathturn85 = r\"C:\\LJR\\babylab\\marisa\\datamanual\\cut\\7326\\turntaking\\block\\fanew\\turn5\"\n",
    "filesturn85= os.listdir(pathturn85)\n",
    "pathturn86 = r\"C:\\LJR\\babylab\\marisa\\datamanual\\cut\\7326\\turntaking\\block\\fanew\\turn6\"\n",
    "filesturn86= os.listdir(pathturn86)\n",
    "pathturn87 = r\"C:\\LJR\\babylab\\marisa\\datamanual\\cut\\7326\\turntaking\\block\\fanew\\turn7\"\n",
    "filesturn87= os.listdir(pathturn87)\n",
    "#pathturn88 = r\"C:\\LJR\\babylab\\marisa\\datamanual\\cut\\7326\\turntaking\\block\\fanew\\turn8\"\n",
    "#filesturn88= os.listdir(pathturn88)\n",
    "pathturn89 = r\"C:\\LJR\\babylab\\marisa\\datamanual\\cut\\7326\\turntaking\\block\\fanew\\turn9\"\n",
    "filesturn89= os.listdir(pathturn89)\n",
    "pathturn810 = r\"C:\\LJR\\babylab\\marisa\\datamanual\\cut\\7326\\turntaking\\block\\fanew\\turn10\"\n",
    "filesturn810= os.listdir(pathturn810)\n",
    "\n",
    "\n",
    "pathturn81c = r\"C:\\LJR\\babylab\\marisa\\datamanual\\cut\\7326\\turntaking\\block\\chinew\\turn1\"\n",
    "filesturn81c= os.listdir(pathturn81c)\n",
    "pathturn82c = r\"C:\\LJR\\babylab\\marisa\\datamanual\\cut\\7326\\turntaking\\block\\chinew\\turn2\"\n",
    "filesturn82c= os.listdir(pathturn82c)\n",
    "pathturn83c = r\"C:\\LJR\\babylab\\marisa\\datamanual\\cut\\7326\\turntaking\\block\\chinew\\turn3\"\n",
    "filesturn83c= os.listdir(pathturn83c)\n",
    "pathturn84c = r\"C:\\LJR\\babylab\\marisa\\datamanual\\cut\\7326\\turntaking\\block\\chinew\\turn4\"\n",
    "filesturn84c= os.listdir(pathturn84c)\n",
    "pathturn85c = r\"C:\\LJR\\babylab\\marisa\\datamanual\\cut\\7326\\turntaking\\block\\chinew\\turn5\"\n",
    "filesturn85c= os.listdir(pathturn85c)\n",
    "pathturn86c = r\"C:\\LJR\\babylab\\marisa\\datamanual\\cut\\7326\\turntaking\\block\\chinew\\turn6\"\n",
    "filesturn86c= os.listdir(pathturn86c)\n",
    "pathturn87c = r\"C:\\LJR\\babylab\\marisa\\datamanual\\cut\\7326\\turntaking\\block\\chinew\\turn7\"\n",
    "filesturn87c= os.listdir(pathturn87c)\n",
    "#pathturn88c = r\"C:\\LJR\\babylab\\marisa\\datamanual\\cut\\7326\\turntaking\\block\\chinew\\turn8\"\n",
    "#filesturn88c= os.listdir(pathturn88c)\n",
    "pathturn89c = r\"C:\\LJR\\babylab\\marisa\\datamanual\\cut\\7326\\turntaking\\block\\chinew\\turn9\"\n",
    "filesturn89c= os.listdir(pathturn89c)\n",
    "pathturn810c = r\"C:\\LJR\\babylab\\marisa\\datamanual\\cut\\7326\\turntaking\\block\\chinew\\turn10\"\n",
    "filesturn810c= os.listdir(pathturn810c)\n"
   ]
  },
  {
   "cell_type": "code",
   "execution_count": 11,
   "metadata": {},
   "outputs": [],
   "source": [
    "#pathturn811 = r\"C:\\LJR\\babylab\\marisa\\datamanual\\cut\\7326\\turntaking\\block\\fanew\\turn11\"\n",
    "#filesturn811= os.listdir(pathturn811)\n",
    "pathturn812 = r\"C:\\LJR\\babylab\\marisa\\datamanual\\cut\\7326\\turntaking\\block\\fanew\\turn12\"\n",
    "filesturn812= os.listdir(pathturn812)\n",
    "pathturn813 = r\"C:\\LJR\\babylab\\marisa\\datamanual\\cut\\7326\\turntaking\\block\\fanew\\turn13\"\n",
    "filesturn813= os.listdir(pathturn813)\n",
    "pathturn814 = r\"C:\\LJR\\babylab\\marisa\\datamanual\\cut\\7326\\turntaking\\block\\fanew\\turn14\"\n",
    "filesturn814= os.listdir(pathturn814)\n",
    "pathturn815 = r\"C:\\LJR\\babylab\\marisa\\datamanual\\cut\\7326\\turntaking\\block\\fanew\\turn15\"\n",
    "filesturn815= os.listdir(pathturn815)\n",
    "pathturn816 = r\"C:\\LJR\\babylab\\marisa\\datamanual\\cut\\7326\\turntaking\\block\\fanew\\turn16\"\n",
    "filesturn816= os.listdir(pathturn816)\n",
    "pathturn817 = r\"C:\\LJR\\babylab\\marisa\\datamanual\\cut\\7326\\turntaking\\block\\fanew\\turn17\"\n",
    "filesturn817= os.listdir(pathturn817)\n",
    "pathturn818 = r\"C:\\LJR\\babylab\\marisa\\datamanual\\cut\\7326\\turntaking\\block\\fanew\\turn18\"\n",
    "filesturn818= os.listdir(pathturn818)\n",
    "pathturn819 = r\"C:\\LJR\\babylab\\marisa\\datamanual\\cut\\7326\\turntaking\\block\\fanew\\turn19\"\n",
    "filesturn819= os.listdir(pathturn819)\n",
    "pathturn820 = r\"C:\\LJR\\babylab\\marisa\\datamanual\\cut\\7326\\turntaking\\block\\fanew\\turn20\"\n",
    "filesturn820= os.listdir(pathturn820)\n",
    "pathturn821 = r\"C:\\LJR\\babylab\\marisa\\datamanual\\cut\\7326\\turntaking\\block\\fanew\\turn21\"\n",
    "filesturn821= os.listdir(pathturn821)\n",
    "pathturn822 = r\"C:\\LJR\\babylab\\marisa\\datamanual\\cut\\7326\\turntaking\\block\\fanew\\turn22\"\n",
    "filesturn822= os.listdir(pathturn822)\n",
    "\n",
    "\n",
    "#pathturn811c = r\"C:\\LJR\\babylab\\marisa\\datamanual\\cut\\7326\\turntaking\\block\\chinew\\turn11\"\n",
    "#filesturn811c= os.listdir(pathturn811c)\n",
    "pathturn812c = r\"C:\\LJR\\babylab\\marisa\\datamanual\\cut\\7326\\turntaking\\block\\chinew\\turn12\"\n",
    "filesturn812c= os.listdir(pathturn812c)\n",
    "pathturn813c = r\"C:\\LJR\\babylab\\marisa\\datamanual\\cut\\7326\\turntaking\\block\\chinew\\turn13\"\n",
    "filesturn813c= os.listdir(pathturn813c)\n",
    "pathturn814c = r\"C:\\LJR\\babylab\\marisa\\datamanual\\cut\\7326\\turntaking\\block\\chinew\\turn14\"\n",
    "filesturn814c= os.listdir(pathturn814c)\n",
    "pathturn815c = r\"C:\\LJR\\babylab\\marisa\\datamanual\\cut\\7326\\turntaking\\block\\chinew\\turn15\"\n",
    "filesturn815c= os.listdir(pathturn815c)\n",
    "pathturn816c = r\"C:\\LJR\\babylab\\marisa\\datamanual\\cut\\7326\\turntaking\\block\\chinew\\turn16\"\n",
    "filesturn816c= os.listdir(pathturn816c)\n",
    "pathturn817c = r\"C:\\LJR\\babylab\\marisa\\datamanual\\cut\\7326\\turntaking\\block\\chinew\\turn17\"\n",
    "filesturn817c= os.listdir(pathturn817c)\n",
    "pathturn818c = r\"C:\\LJR\\babylab\\marisa\\datamanual\\cut\\7326\\turntaking\\block\\chinew\\turn18\"\n",
    "filesturn818c= os.listdir(pathturn818c)\n",
    "pathturn819c = r\"C:\\LJR\\babylab\\marisa\\datamanual\\cut\\7326\\turntaking\\block\\chinew\\turn19\"\n",
    "filesturn819c= os.listdir(pathturn819c)\n",
    "pathturn820c = r\"C:\\LJR\\babylab\\marisa\\datamanual\\cut\\7326\\turntaking\\block\\chinew\\turn20\"\n",
    "filesturn820c= os.listdir(pathturn820c)\n",
    "pathturn821c = r\"C:\\LJR\\babylab\\marisa\\datamanual\\cut\\7326\\turntaking\\block\\chinew\\turn21\"\n",
    "filesturn821c= os.listdir(pathturn821c)\n",
    "pathturn822c = r\"C:\\LJR\\babylab\\marisa\\datamanual\\cut\\7326\\turntaking\\block\\chinew\\turn22\"\n",
    "filesturn822c= os.listdir(pathturn822c)"
   ]
  },
  {
   "cell_type": "code",
   "execution_count": 12,
   "metadata": {},
   "outputs": [],
   "source": [
    "pathturn91 = r\"C:\\LJR\\babylab\\marisa\\datamanual\\cut\\8787\\turntaking\\block\\fanew\\turn1\"\n",
    "filesturn91= os.listdir(pathturn91)\n",
    "pathturn91c = r\"C:\\LJR\\babylab\\marisa\\datamanual\\cut\\8787\\turntaking\\block\\chinew\\turn1\"\n",
    "filesturn91c= os.listdir(pathturn91c)"
   ]
  },
  {
   "cell_type": "code",
   "execution_count": 13,
   "metadata": {},
   "outputs": [],
   "source": [
    "def normalize(x, axis=0):\n",
    "    return sklearn.preprocessing.minmax_scale(x, axis=axis)"
   ]
  },
  {
   "cell_type": "code",
   "execution_count": 14,
   "metadata": {},
   "outputs": [],
   "source": [
    "def normalizea(x, maxa,mina,axis=0):\n",
    "    return [(float(i)-mina)/float(maxa-mina) for i in x]"
   ]
  },
  {
   "cell_type": "code",
   "execution_count": 15,
   "metadata": {},
   "outputs": [],
   "source": [
    "def normalizei(x, maxi,mini,axis=0):\n",
    "    return [(float(i)-mini)/float(maxi-mini) for i in x]"
   ]
  },
  {
   "cell_type": "code",
   "execution_count": 16,
   "metadata": {},
   "outputs": [],
   "source": [
    "def f0fitintera(path,files,maxa,mina):\n",
    "    t1=[]\n",
    "    for i in range(len(files)):\n",
    "        x,sr1=librosa.load(path+\"\\\\\"+files[i],sr=None)\n",
    "        f0, voiced_flag, voiced_probs = librosa.pyin(x,sr=sr1,frame_length=512, fill_na=np.nan, n_thresholds=50, fmin=120, fmax=600)\n",
    "        times = librosa.times_like(f0,sr=sr1,hop_length=128)\n",
    "        duration=librosa.get_duration(y=x, sr=sr1)\n",
    "        logf0nomal=normalizea(f0,maxa,mina)\n",
    "        timesp=pd.DataFrame(times)\n",
    "        logf0nomalp=pd.DataFrame(logf0nomal)\n",
    "        indxnan = logf0nomalp.fillna(method='ffill').dropna().index\n",
    "        res_idx = logf0nomalp.loc[indxnan].fillna(method='bfill').dropna().index\n",
    "        f0out=logf0nomalp.loc[res_idx]\n",
    "        timesout = timesp.loc[res_idx]\n",
    "        timesout=timesout-timesout.min()\n",
    "        timesnumpy=timesout.to_numpy()\n",
    "        f0outnumpy=f0out.to_numpy()\n",
    "        logf0nomalnan = f0outnumpy[~np.isnan(f0outnumpy)]\n",
    "        timesnan = timesnumpy[~np.isnan(f0outnumpy)]\n",
    "        f = interp1d(timesnan, logf0nomalnan,kind='slinear',fill_value=\"extrapolate\")\n",
    "        ynew=f(timesnumpy)\n",
    "        starttime=re.search(\"(\\d+\\.\\d+)\",files[i]).group(0)\n",
    "        label=0\n",
    "        t=(starttime,ynew,label)\n",
    "        t1.append(t)\n",
    "    return t1"
   ]
  },
  {
   "cell_type": "code",
   "execution_count": 17,
   "metadata": {},
   "outputs": [],
   "source": [
    "def f0fitinteri(path,files,maxi,mini):\n",
    "    t1=[]\n",
    "    for i in range(len(files)):\n",
    "        x,sr1=librosa.load(path+\"\\\\\"+files[i],sr=None)\n",
    "        f0, voiced_flag, voiced_probs = librosa.pyin(x,sr=sr1,frame_length=512, fill_na=np.nan, n_thresholds=50, fmin=120, fmax=1000)\n",
    "        times = librosa.times_like(f0,sr=sr1,hop_length=128)\n",
    "        duration=librosa.get_duration(y=x, sr=sr1)\n",
    "        logf0nomal=normalizei(f0,maxi,mini)\n",
    "        timesp=pd.DataFrame(times)\n",
    "        logf0nomalp=pd.DataFrame(logf0nomal)\n",
    "        indxnan = logf0nomalp.fillna(method='ffill').dropna().index\n",
    "        res_idx = logf0nomalp.loc[indxnan].fillna(method='bfill').dropna().index\n",
    "        f0out=logf0nomalp.loc[res_idx]\n",
    "        timesout = timesp.loc[res_idx]\n",
    "        timesout=timesout-timesout.min()\n",
    "        timesnumpy=timesout.to_numpy()\n",
    "        f0outnumpy=f0out.to_numpy()\n",
    "        logf0nomalnan = f0outnumpy[~np.isnan(f0outnumpy)]\n",
    "        timesnan = timesnumpy[~np.isnan(f0outnumpy)]\n",
    "        f = interp1d(timesnan, logf0nomalnan,kind='slinear',fill_value=\"extrapolate\")\n",
    "        ynew=f(timesnumpy)\n",
    "        starttime=re.search(\"(\\d+\\.\\d+)\",files[i]).group(0)\n",
    "        label=1\n",
    "        t=(starttime,ynew,label)\n",
    "        t1.append(t)\n",
    "    return t1"
   ]
  },
  {
   "cell_type": "code",
   "execution_count": 18,
   "metadata": {},
   "outputs": [],
   "source": [
    "def diffc(pathturn,filesturn,pathturnc,filesturnc,maxa,mina,maxi,mini):\n",
    "    t=f0fitintera(pathturn,filesturn,maxa,mina)\n",
    "    tc=f0fitinteri(pathturnc,filesturnc,maxi,mini)\n",
    "    alltest=t+tc\n",
    "    alltest.sort(key = lambda x: x[0])\n",
    "    #print(alltest)\n",
    "    labelss=np.zeros((len(alltest),1))\n",
    "    for i in range(len(alltest)):\n",
    "        labelss[i]=alltest[i][2]\n",
    "    \n",
    "    groupsdtw = [(k1, sum(1 for _ in g1)) for k1, g1 in groupby(labelss)]\n",
    "    groupndtw=np.zeros((len(groupsdtw),1))\n",
    "    for i in range(len(groupsdtw)):\n",
    "        groupndtw[i]=groupsdtw[i][1]\n",
    "    inddtw=np.zeros((len(groupndtw),2))\n",
    "    for i in range(len(groupndtw)):\n",
    "        if i!=len(groupndtw):\n",
    "            inddtw[i,:]=np.c_[sum(groupndtw[0:i]),sum(groupndtw[0:i+1])]\n",
    "    diff=np.zeros((len(inddtw)-1,1))\n",
    "    for i in range(len(inddtw)-1):\n",
    "        ynewff=alltest[int(inddtw[i,0]):int(inddtw[i,1])]\n",
    "        ynewss=alltest[int(inddtw[i+1,0]):int(inddtw[i+1,1])]\n",
    "        dtwjjc=0\n",
    "        jj=0\n",
    "        for j1 in range(len(ynewff)):\n",
    "            for j2 in range(len(ynewss)):\n",
    "                dtwjj,path = fastdtw(ynewff[j1][1],ynewss[j2][1],dist=euclidean)\n",
    "                dtwjjc=dtwjjc+dtwjj\n",
    "                jj=jj+1\n",
    "        diff[i]=dtwjjc/jj\n",
    "        \n",
    "    xlabel=(np.arange(len(diff))+1)\n",
    "    return diff,xlabel"
   ]
  },
  {
   "cell_type": "code",
   "execution_count": 19,
   "metadata": {},
   "outputs": [],
   "source": [
    "diffc11,xlabel11=diffc(pathturn11,filesturn11,pathturn11c,filesturn11c,590,120,999.6,120)\n",
    "diffc12,xlabel12=diffc(pathturn12,filesturn12,pathturn12c,filesturn12c,590,120,999.6,120)\n",
    "diffc13,xlabel13=diffc(pathturn13,filesturn13,pathturn13c,filesturn13c,590,120,999.6,120)\n",
    "diffc14,xlabel14=diffc(pathturn14,filesturn14,pathturn14c,filesturn14c,590,120,999.6,120)\n",
    "diffc15,xlabel15=diffc(pathturn15,filesturn15,pathturn15c,filesturn15c,590,120,999.6,120)"
   ]
  },
  {
   "cell_type": "code",
   "execution_count": 20,
   "metadata": {},
   "outputs": [],
   "source": [
    "diffc1=np.r_[diffc11,diffc12,diffc13,diffc14,diffc15]\n",
    "xlabel1=np.r_[xlabel11,xlabel12,xlabel13,xlabel14,xlabel15]"
   ]
  },
  {
   "cell_type": "code",
   "execution_count": 21,
   "metadata": {},
   "outputs": [],
   "source": [
    "diffc1l=np.c_[diffc11[0,:],diffc12[0,:],diffc13[0,:],diffc14[0,:],diffc15[0,:]]\n",
    "diffc1r=np.c_[diffc11[-1,:],diffc12[-1,:],diffc13[-1,:],diffc14[-1,:],diffc15[-1,:]]\n",
    "diffc1lr=np.r_[diffc1l.T,diffc1r.T]\n",
    "diffc1lrz=normalize(diffc1lr,axis=0)\n",
    "diffc1lrzl=diffc1lrz[0:5,:]\n",
    "diffc1lrzr=diffc1lrz[5:10,:]"
   ]
  },
  {
   "cell_type": "code",
   "execution_count": 22,
   "metadata": {},
   "outputs": [],
   "source": [
    "diffc21,xlabel21=diffc(pathturn21,filesturn21,pathturn21c,filesturn21c,597.8,120,999.6,120)\n",
    "diffc22,xlabel22=diffc(pathturn22,filesturn22,pathturn22c,filesturn22c,597.8,120,999.6,120)\n",
    "#diffc23,xlabel23=diffc(pathturn23,filesturn23,pathturn23c,filesturn23c,597.8,120,999.6,120)\n",
    "diffc24,xlabel24=diffc(pathturn24,filesturn24,pathturn24c,filesturn24c,597.8,120,999.6,120)\n",
    "diffc25,xlabel25=diffc(pathturn25,filesturn25,pathturn25c,filesturn25c,597.8,120,999.6,120)\n",
    "diffc26,xlabel26=diffc(pathturn26,filesturn26,pathturn26c,filesturn26c,597.8,120,999.6,120)"
   ]
  },
  {
   "cell_type": "code",
   "execution_count": 23,
   "metadata": {},
   "outputs": [],
   "source": [
    "diffc2=np.r_[diffc21,diffc22,diffc24,diffc25,diffc26]\n",
    "xlabel2=np.r_[xlabel21,xlabel22,xlabel24,xlabel25,xlabel26]"
   ]
  },
  {
   "cell_type": "code",
   "execution_count": 24,
   "metadata": {},
   "outputs": [],
   "source": [
    "diffc2l=np.c_[diffc21[0,:],diffc22[0,:],diffc24[0,:],diffc25[0,:]]\n",
    "diffc2r=np.c_[diffc21[-1,:],diffc22[-1,:],diffc24[-1,:],diffc25[-1,:]]\n",
    "diffc2lr=np.r_[diffc2l.T,diffc2r.T]\n",
    "diffc2lrz=normalize(diffc2lr,axis=0)\n",
    "diffc2lrzl=diffc2lrz[0:6,:]\n",
    "diffc2lrzr=diffc2lrz[6:12,:]"
   ]
  },
  {
   "cell_type": "code",
   "execution_count": 25,
   "metadata": {},
   "outputs": [],
   "source": [
    "diffc61,xlabel61=diffc(pathturn61,filesturn61,pathturn61c,filesturn61c,590.94,122.1,999.6,120)\n",
    "diffc62,xlabel62=diffc(pathturn62,filesturn62,pathturn62c,filesturn62c,590.94,122.1,999.6,120)\n",
    "diffc63,xlabel63=diffc(pathturn63,filesturn63,pathturn63c,filesturn63c,590.94,122.1,999.6,120)\n",
    "diffc64,xlabel64=diffc(pathturn64,filesturn64,pathturn64c,filesturn64c,590.94,122.1,999.6,120)\n",
    "diffc65,xlabel65=diffc(pathturn65,filesturn65,pathturn65c,filesturn65c,590.94,122.1,999.6,120)\n",
    "diffc66,xlabel66=diffc(pathturn66,filesturn66,pathturn66c,filesturn66c,590.94,122.1,999.6,120)\n",
    "diffc67,xlabel67=diffc(pathturn67,filesturn67,pathturn67c,filesturn67c,590.94,122.1,999.6,120)\n",
    "diffc68,xlabel68=diffc(pathturn68,filesturn68,pathturn68c,filesturn68c,590.94,122.1,999.6,120)"
   ]
  },
  {
   "cell_type": "code",
   "execution_count": 26,
   "metadata": {},
   "outputs": [],
   "source": [
    "diffc6=np.r_[diffc61,diffc62,diffc63,diffc64,diffc65,diffc66,diffc67,diffc68]\n",
    "xlabel6=np.r_[xlabel61,xlabel62,xlabel63,xlabel64,xlabel65,xlabel66,xlabel67,xlabel68]"
   ]
  },
  {
   "cell_type": "code",
   "execution_count": 27,
   "metadata": {},
   "outputs": [],
   "source": [
    "diffc6l=np.c_[diffc61[0,:],diffc62[0,:],diffc63[0,:],diffc64[0,:],diffc65[0,:],diffc66[0,:],diffc67[0,:],diffc68[0,:]]\n",
    "diffc6r=np.c_[diffc61[-1,:],diffc62[-1,:],diffc63[-1,:],diffc64[-1,:],diffc65[-1,:],diffc66[-1,:],diffc67[-1,:],diffc68[-1,:]]\n",
    "diffc6lr=np.r_[diffc6l.T,diffc6r.T]\n",
    "diffc6lrz=normalize(diffc6lr,axis=0)\n",
    "diffc6lrzl=diffc6lrz[0:8,:]\n",
    "diffc6lrzr=diffc6lrz[8:16,:]"
   ]
  },
  {
   "cell_type": "code",
   "execution_count": 28,
   "metadata": {},
   "outputs": [],
   "source": [
    "diffc71,xlabel71=diffc(pathturn71,filesturn71,pathturn71c,filesturn71c,597.82,120,999.6,120)\n",
    "diffc72,xlabel72=diffc(pathturn72,filesturn72,pathturn72c,filesturn72c,597.82,120,999.6,120)\n",
    "diffc73,xlabel73=diffc(pathturn73,filesturn73,pathturn73c,filesturn73c,597.82,120,999.6,120)\n",
    "diffc74,xlabel74=diffc(pathturn74,filesturn74,pathturn74c,filesturn74c,597.82,120,999.6,120)\n",
    "diffc75,xlabel75=diffc(pathturn75,filesturn75,pathturn75c,filesturn75c,597.82,120,999.6,120)\n",
    "diffc76,xlabel76=diffc(pathturn76,filesturn76,pathturn76c,filesturn76c,597.82,120,999.6,120)\n",
    "diffc77,xlabel77=diffc(pathturn77,filesturn77,pathturn77c,filesturn77c,597.82,120,999.6,120)\n",
    "diffc78,xlabel78=diffc(pathturn78,filesturn78,pathturn78c,filesturn78c,597.82,120,999.6,120)\n",
    "diffc79,xlabel79=diffc(pathturn79,filesturn79,pathturn79c,filesturn79c,597.82,120,999.6,120)\n",
    "diffc710,xlabel710=diffc(pathturn710,filesturn710,pathturn710c,filesturn710c,597.82,120,999.6,120)\n",
    "diffc711,xlabel711=diffc(pathturn711,filesturn711,pathturn711c,filesturn711c,597.82,120,999.6,120)"
   ]
  },
  {
   "cell_type": "code",
   "execution_count": 29,
   "metadata": {},
   "outputs": [],
   "source": [
    "diffc7=np.r_[diffc71,diffc72,diffc73,diffc74,diffc75,diffc76,diffc77,diffc78,diffc79,diffc710,diffc711]\n",
    "xlabel7=np.r_[xlabel71,xlabel72,xlabel73,xlabel74,xlabel75,xlabel76,xlabel77,xlabel78,xlabel79,xlabel710,xlabel711]"
   ]
  },
  {
   "cell_type": "code",
   "execution_count": 30,
   "metadata": {},
   "outputs": [],
   "source": [
    "diffc7l=np.c_[diffc71[0,:],diffc72[0,:],diffc73[0,:],diffc74[0,:],diffc75[0,:],diffc76[0,:],diffc77[0,:],diffc78[0,:],diffc79[0,:],diffc710[0,:],diffc711[0,:]]\n",
    "diffc7r=np.c_[diffc71[-1,:],diffc72[-1,:],diffc73[-1,:],diffc74[-1,:],diffc75[-1,:],diffc76[-1,:],diffc77[-1,:],diffc78[-1,:],diffc79[-1,:],diffc710[-1,:],diffc711[-1,:]]\n",
    "diffc7lr=np.r_[diffc7l.T,diffc7r.T]\n",
    "diffc7lrz=normalize(diffc7lr,axis=0)\n",
    "diffc7lrzl=diffc7lrz[0:11,:]\n",
    "diffc7lrzr=diffc7lrz[11:22,:]"
   ]
  },
  {
   "cell_type": "code",
   "execution_count": 31,
   "metadata": {},
   "outputs": [],
   "source": [
    "diffc81,xlabel81=diffc(pathturn81,filesturn81,pathturn81c,filesturn81c,597.82,120,999.6,120)\n",
    "diffc82,xlabel82=diffc(pathturn82,filesturn82,pathturn82c,filesturn82c,597.82,120,999.6,120)\n",
    "diffc83,xlabel83=diffc(pathturn83,filesturn83,pathturn83c,filesturn83c,597.82,120,999.6,120)\n",
    "diffc84,xlabel84=diffc(pathturn84,filesturn84,pathturn84c,filesturn84c,597.82,120,999.6,120)\n",
    "diffc85,xlabel85=diffc(pathturn85,filesturn85,pathturn85c,filesturn85c,597.82,120,999.6,120)\n",
    "diffc86,xlabel86=diffc(pathturn86,filesturn86,pathturn86c,filesturn86c,597.82,120,999.6,120)\n",
    "diffc87,xlabel87=diffc(pathturn87,filesturn87,pathturn87c,filesturn87c,597.82,120,999.6,120)\n",
    "#diffc88,xlabel88=diffc(pathturn88,filesturn88,pathturn88c,filesturn88c,597.82,120,999.6,120)\n",
    "diffc89,xlabel89=diffc(pathturn89,filesturn89,pathturn89c,filesturn89c,597.82,120,999.6,120)\n",
    "diffc810,xlabel810=diffc(pathturn810,filesturn810,pathturn810c,filesturn810c,597.82,120,999.6,120)"
   ]
  },
  {
   "cell_type": "code",
   "execution_count": 62,
   "metadata": {},
   "outputs": [],
   "source": [
    "tdiffc81=np.r_[diffc81,diffc82,diffc83,diffc84,diffc85,diffc86,diffc87,diffc89]\n",
    "txlabel81=np.r_[xlabel81,xlabel82,xlabel83,xlabel84,xlabel85,xlabel86,xlabel87,xlabel89]"
   ]
  },
  {
   "cell_type": "code",
   "execution_count": 64,
   "metadata": {},
   "outputs": [],
   "source": [
    "tdiffc81l=np.c_[diffc81[0,:],diffc82[0,:],diffc83[0,:],diffc84[0,:],diffc85[0,:],diffc86[0,:],diffc87[0,:],diffc89[0,:]]\n",
    "tdiffc81r=np.c_[diffc81[-1,:],diffc82[-1,:],diffc83[-1,:],diffc84[-1,:],diffc85[-1,:],diffc86[-1,:],diffc87[-1,:],diffc89[-1,:]]"
   ]
  },
  {
   "cell_type": "code",
   "execution_count": 34,
   "metadata": {},
   "outputs": [],
   "source": [
    "#diffc811,xlabel811=diffc(pathturn811,filesturn811,pathturn811c,filesturn811c,597.82,120,999.6,120)\n",
    "diffc812,xlabel812=diffc(pathturn812,filesturn812,pathturn812c,filesturn812c,597.82,120,999.6,120)\n",
    "diffc813,xlabel813=diffc(pathturn813,filesturn813,pathturn813c,filesturn813c,597.82,120,999.6,120)\n",
    "diffc814,xlabel814=diffc(pathturn814,filesturn814,pathturn814c,filesturn814c,597.82,120,999.6,120)\n",
    "diffc815,xlabel815=diffc(pathturn815,filesturn815,pathturn815c,filesturn815c,597.82,120,999.6,120)\n",
    "diffc816,xlabel816=diffc(pathturn816,filesturn816,pathturn816c,filesturn816c,597.82,120,999.6,120)\n",
    "diffc817,xlabel817=diffc(pathturn817,filesturn817,pathturn817c,filesturn817c,597.82,120,999.6,120)\n",
    "diffc818,xlabel818=diffc(pathturn818,filesturn818,pathturn818c,filesturn818c,597.82,120,999.6,120)\n",
    "diffc819,xlabel819=diffc(pathturn819,filesturn819,pathturn819c,filesturn819c,597.82,120,999.6,120)\n",
    "diffc820,xlabel820=diffc(pathturn820,filesturn820,pathturn820c,filesturn820c,597.82,120,999.6,120)\n",
    "diffc821,xlabel821=diffc(pathturn821,filesturn821,pathturn821c,filesturn821c,597.82,120,999.6,120)\n",
    "diffc822,xlabel822=diffc(pathturn822,filesturn822,pathturn822c,filesturn822c,597.82,120,999.6,120)"
   ]
  },
  {
   "cell_type": "code",
   "execution_count": 35,
   "metadata": {},
   "outputs": [],
   "source": [
    "tdiffc82=np.r_[diffc812,diffc813,diffc814,diffc815,diffc816,diffc817,diffc818,diffc819,diffc820,diffc821,diffc822]\n",
    "txlabel82=np.r_[xlabel812,xlabel813,xlabel814,xlabel815,xlabel816,xlabel817,xlabel818,xlabel819,xlabel820,xlabel821,xlabel822]"
   ]
  },
  {
   "cell_type": "code",
   "execution_count": 36,
   "metadata": {},
   "outputs": [],
   "source": [
    "tdiffc82l=np.c_[diffc812[0,:],diffc813[0,:],diffc814[0,:],diffc815[0,:],diffc816[0,:],diffc817[0,:],diffc818[0,:],diffc819[0,:],diffc820[0,:],diffc821[0,:],diffc822[0,:]]\n",
    "tdiffc82r=np.c_[diffc812[-1,:],diffc813[-1,:],diffc814[-1,:],diffc815[-1,:],diffc816[-1,:],diffc817[-1,:],diffc818[-1,:],diffc819[-1,:],diffc820[-1,:],diffc821[-1,:],diffc822[-1,:]]"
   ]
  },
  {
   "cell_type": "code",
   "execution_count": 65,
   "metadata": {},
   "outputs": [],
   "source": [
    "diffc8l=np.c_[tdiffc81l,tdiffc82l]\n",
    "diffc8r=np.c_[tdiffc81r,tdiffc82r]\n",
    "diffc8lr=np.r_[diffc8l.T,diffc8r.T]\n",
    "diffc8lrz=normalize(diffc8lr,axis=0)\n",
    "diffc8lrzl=diffc8lrz[0:22,:]\n",
    "diffc8lrzr=diffc8lrz[22:44,:]"
   ]
  },
  {
   "cell_type": "code",
   "execution_count": 66,
   "metadata": {},
   "outputs": [],
   "source": [
    "diffc8=np.r_[tdiffc81,tdiffc82]\n",
    "xlabel8=np.r_[txlabel81,txlabel82]"
   ]
  },
  {
   "cell_type": "code",
   "execution_count": 39,
   "metadata": {},
   "outputs": [],
   "source": [
    "diffc9,xlabel9=diffc(pathturn91,filesturn91,pathturn91c,filesturn91c,597.82,120,999.6,120)"
   ]
  },
  {
   "cell_type": "code",
   "execution_count": 40,
   "metadata": {},
   "outputs": [
    {
     "name": "stdout",
     "output_type": "stream",
     "text": [
      "[[1. 1. 1. 1. 1. 1. 1. 1. 1. 1.]\n",
      " [0. 0. 0. 0. 0. 0. 0. 0. 0. 0.]]\n"
     ]
    }
   ],
   "source": [
    "diffc9l=diffc9[0,:]\n",
    "diffc9r=diffc9[-1,:]\n",
    "diffc9lr=np.c_[diffc9l,diffc9r]\n",
    "diffc9lrz=normalize(diffc9lr,axis=1)\n",
    "diffc9lrzl=np.zeros((2,10))\n",
    "diffc9lrzr=np.zeros((2,10))\n",
    "diffc9lrzl[0,:]=diffc9lrz[:,0]\n",
    "diffc9lrzr[0,:]=diffc9lrz[:,1]\n",
    "print(diffc9lrzl)"
   ]
  },
  {
   "cell_type": "code",
   "execution_count": 67,
   "metadata": {},
   "outputs": [],
   "source": [
    "diffcl=np.c_[diffc1l,diffc2l,diffc6l,diffc7l,diffc8l,diffc9l]\n",
    "diffcr=np.c_[diffc1r,diffc2r,diffc6r,diffc7r,diffc8r,diffc9r]\n",
    "#print(diffcr)"
   ]
  },
  {
   "cell_type": "code",
   "execution_count": 42,
   "metadata": {},
   "outputs": [
    {
     "name": "stdout",
     "output_type": "stream",
     "text": [
      "p_value of duration= 0.8353973156458727\n"
     ]
    }
   ],
   "source": [
    "sduration=stats.ttest_ind(diffcl[0,:],diffcr[0,:])\n",
    "print('p_value of duration=',sduration[1])\n"
   ]
  },
  {
   "cell_type": "code",
   "execution_count": 43,
   "metadata": {},
   "outputs": [
    {
     "name": "stdout",
     "output_type": "stream",
     "text": [
      "98\n"
     ]
    },
    {
     "data": {
      "image/png": "[encoded data removed]",
      "text/plain": [
       "<Figure size 432x288 with 1 Axes>"
      ]
     },
     "metadata": {
      "needs_background": "light"
     },
     "output_type": "display_data"
    }
   ],
   "source": [
    "xxx=np.empty([len(diffcl[0,:])+len(diffcr[0,:])],dtype = str) \n",
    "xxx[0:len(diffcl[0,:])]='L'\n",
    "xxx[len(diffcl[0,:]):]='N'\n",
    "    \n",
    "compare_durationrow=np.c_[diffcl,diffcr]\n",
    "print(len(compare_durationrow[0,:]))\n",
    "    \n",
    "ax = sns.boxplot(x=xxx, y=compare_durationrow[0,:], linewidth=1.5,whis=1.5)\n",
    "plt.xlabel('Vocal exchange/Non-vocal exchange', fontsize=12)\n",
    "plt.ylabel('duration',fontsize=12)\n",
    "plt.title('Vocal exchange/Non-vocal exchange')\n",
    "plt.show()"
   ]
  },
  {
   "cell_type": "code",
   "execution_count": 44,
   "metadata": {},
   "outputs": [],
   "source": [
    "#diff=np.r_[diffc1,diffc2,diffc3,diffc4,diffc5,diffc6,diffc7,diffc8,diffc9]\n",
    "#xlabel=np.r_[xlabel1,xlabel2,xlabel3,xlabel4,xlabel5,xlabel6,xlabel7,xlabel8,xlabel9]"
   ]
  },
  {
   "cell_type": "code",
   "execution_count": 68,
   "metadata": {},
   "outputs": [],
   "source": [
    "diff=np.r_[-diffc1,-diffc2,-diffc6,-diffc7,-diffc8,-diffc9]\n",
    "xlabel=np.r_[xlabel1,xlabel2,xlabel6,xlabel7,xlabel8,xlabel9]"
   ]
  },
  {
   "cell_type": "code",
   "execution_count": 69,
   "metadata": {},
   "outputs": [],
   "source": [
    "def ind(datain,labelin,ind):\n",
    "    inds=np.zeros(len(datain))+ind\n",
    "    dataout=np.c_[datain,labelin,inds]\n",
    "    return dataout"
   ]
  },
  {
   "cell_type": "code",
   "execution_count": 70,
   "metadata": {},
   "outputs": [],
   "source": [
    "dataall=np.r_[ind(-diffc1,xlabel1,1),ind(-diffc2,xlabel2,2),ind(-diffc6,xlabel6,6),ind(-diffc7,xlabel7,7),ind(-diffc8,xlabel8,8),ind(-diffc9,xlabel9,9)]"
   ]
  },
  {
   "cell_type": "code",
   "execution_count": 71,
   "metadata": {},
   "outputs": [],
   "source": [
    "dataallp=pd.DataFrame(dataall)\n",
    "dataallp.columns=['DV','IV','type']"
   ]
  },
  {
   "cell_type": "code",
   "execution_count": 49,
   "metadata": {},
   "outputs": [],
   "source": [
    "#dataallp.to_csv(r'C:\\LJR\\babylab\\marisa\\datamanual\\cut\\blockdata\\marisablock12dtw.csv')"
   ]
  },
  {
   "cell_type": "code",
   "execution_count": 72,
   "metadata": {},
   "outputs": [],
   "source": [
    "from scipy import stats"
   ]
  },
  {
   "cell_type": "code",
   "execution_count": 51,
   "metadata": {},
   "outputs": [],
   "source": [
    "#dataallpe= pd.read_csv(r'C:\\LJR\\babylab\\marisa\\datamanual\\cut\\blockdata\\Englishblock12dtw.csv')"
   ]
  },
  {
   "cell_type": "code",
   "execution_count": 52,
   "metadata": {},
   "outputs": [],
   "source": [
    "#dataallped=np.array(dataallpe['DV'])\n",
    "#dataalle=dataallped[np.where(np.array(dataallpe['IV'])<=1)[0]]\n",
    "#t_stat, p_value = stats.ttest_ind(dataalle,dataall[:,0])\n",
    "#print('rangefp=',p_value)"
   ]
  },
  {
   "cell_type": "code",
   "execution_count": 53,
   "metadata": {},
   "outputs": [],
   "source": [
    "#print(np.mean(dataalle),np.mean(dataall[:,0]))"
   ]
  },
  {
   "cell_type": "code",
   "execution_count": 73,
   "metadata": {},
   "outputs": [
    {
     "name": "stdout",
     "output_type": "stream",
     "text": [
      "         Mixed Linear Model Regression Results\n",
      "=======================================================\n",
      "Model:            MixedLM Dependent Variable: DV       \n",
      "No. Observations: 202     Method:             REML     \n",
      "No. Groups:       6       Scale:              211.1599 \n",
      "Min. group size:  5       Log-Likelihood:     -825.4978\n",
      "Max. group size:  89      Converged:          Yes      \n",
      "Mean group size:  33.7                                 \n",
      "-------------------------------------------------------\n",
      "           Coef.  Std.Err.   z    P>|z|  [0.025  0.975]\n",
      "-------------------------------------------------------\n",
      "Intercept -14.192    1.735 -8.182 0.000 -17.592 -10.792\n",
      "IV          0.720    0.398  1.808 0.071  -0.061   1.501\n",
      "Group Var   0.524    0.259                             \n",
      "=======================================================\n",
      "\n"
     ]
    }
   ],
   "source": [
    "med=smf.mixedlm(\"DV~IV\",dataallp,groups=dataallp['type'])\n",
    "medf = med.fit(method=['powell'])\n",
    "print(medf.summary())"
   ]
  },
  {
   "cell_type": "code",
   "execution_count": 74,
   "metadata": {},
   "outputs": [
    {
     "name": "stdout",
     "output_type": "stream",
     "text": [
      "           Mixed Linear Model Regression Results\n",
      "============================================================\n",
      "Model:               MixedLM  Dependent Variable:  DV       \n",
      "No. Observations:    202      Method:              REML     \n",
      "No. Groups:          6        Scale:               210.4341 \n",
      "Min. group size:     5        Log-Likelihood:      -825.4949\n",
      "Max. group size:     89       Converged:           Yes      \n",
      "Mean group size:     33.7                                   \n",
      "------------------------------------------------------------\n",
      "                Coef.  Std.Err.   z    P>|z|  [0.025  0.975]\n",
      "------------------------------------------------------------\n",
      "Intercept      -14.384    2.102 -6.844 0.000 -18.503 -10.265\n",
      "IV               0.774    0.523  1.478 0.139  -0.252   1.799\n",
      "Group Var        4.198    1.127                             \n",
      "Group x IV Cov  -0.586    0.248                             \n",
      "IV Var           0.082    0.037                             \n",
      "============================================================\n",
      "\n"
     ]
    },
    {
     "name": "stderr",
     "output_type": "stream",
     "text": [
      "C:\\Users\\ljr\\anaconda3\\lib\\site-packages\\statsmodels\\regression\\mixed_linear_model.py:2262: ConvergenceWarning: The Hessian matrix at the estimated parameter values is not positive definite.\n",
      "  warnings.warn(msg, ConvergenceWarning)\n"
     ]
    }
   ],
   "source": [
    "med=smf.mixedlm(\"DV~IV\",dataallp,groups=dataallp['type'],re_formula=\"~IV\")\n",
    "medf = med.fit(method=['powell'])\n",
    "print(medf.summary())"
   ]
  },
  {
   "cell_type": "code",
   "execution_count": 75,
   "metadata": {},
   "outputs": [
    {
     "name": "stdout",
     "output_type": "stream",
     "text": [
      "cofft of duration= PearsonRResult(statistic=0.1327797842611429, pvalue=0.05959290150216237)\n"
     ]
    }
   ],
   "source": [
    "print('cofft of duration=',stats.pearsonr(xlabel,diff[:,0]))\n"
   ]
  },
  {
   "cell_type": "code",
   "execution_count": 76,
   "metadata": {},
   "outputs": [],
   "source": [
    "dtwall=np.c_[xlabel,diff]\n",
    "dtwallp=pd.DataFrame(dtwall)\n",
    "dtwallp.columns=['Turns','DTW']"
   ]
  },
  {
   "cell_type": "code",
   "execution_count": 77,
   "metadata": {},
   "outputs": [
    {
     "data": {
      "text/plain": [
       "[<matplotlib.lines.Line2D at 0x20b67b2aeb0>]"
      ]
     },
     "execution_count": 77,
     "metadata": {},
     "output_type": "execute_result"
    },
    {
     "data": {
      "image/png": "[encoded data removed]",
      "text/plain": [
       "<Figure size 432x288 with 1 Axes>"
      ]
     },
     "metadata": {
      "needs_background": "light"
     },
     "output_type": "display_data"
    }
   ],
   "source": [
    "plt.rc('font',family='Times New Roman')\n",
    "fig, ax=plt.subplots()\n",
    "ax.spines['right'].set_visible(False)\n",
    "ax.spines['top'].set_visible(False)\n",
    "p1=plt.scatter(xlabel1,-diffc1,color=\"lightcyan\")\n",
    "p2=plt.scatter(xlabel2,-diffc2,color=\"aqua\")\n",
    "#p3=plt.scatter(xlabel3,-diffc3[:,6],color=\"blue\")\n",
    "#p4=plt.scatter(xlabel4,-diffc4[:,6],color=\"navy\")\n",
    "#p5=plt.scatter(xlabel5,-diffc5[:,6],color=\"royalblue\")\n",
    "p6=plt.scatter(xlabel6,-diffc6,color=\"paleturquoise\")\n",
    "p7=plt.scatter(xlabel7,-diffc7,color=\"steelblue\")\n",
    "p8=plt.scatter(xlabel8,-diffc8,color=\"deepskyblue\")\n",
    "p9=plt.scatter(xlabel9,-diffc9,color=\"darkturquoise\")\n",
    "#plt.legend(handles=[p1,p2,p3,p4,p5,p6,p7,p8,p9],labels=['No.1','No.4','No.9','No.10','No.8','No.2','No.7','No.6','No.5'],loc='best')\n",
    "plt.xticks(fontsize=14)\n",
    "plt.yticks(fontsize=14)\n",
    "plt.xlim(-1, 17)\n",
    "plt.ylim(-80,0)\n",
    "linear_model=np.polyfit(xlabel,diff.ravel(),1)\n",
    "linear_model_fn=np.poly1d(linear_model)\n",
    "plt.plot(xlabel,linear_model_fn(xlabel),color=\"k\")"
   ]
  },
  {
   "cell_type": "code",
   "execution_count": 79,
   "metadata": {},
   "outputs": [
    {
     "data": {
      "text/plain": [
       "<matplotlib.collections.PathCollection at 0x20b64855ca0>"
      ]
     },
     "execution_count": 79,
     "metadata": {},
     "output_type": "execute_result"
    },
    {
     "data": {
      "image/png": "[encoded data removed]",
      "text/plain": [
       "<Figure size 432x288 with 1 Axes>"
      ]
     },
     "metadata": {
      "needs_background": "light"
     },
     "output_type": "display_data"
    }
   ],
   "source": [
    "plt.scatter(xlabel,diff)"
   ]
  },
  {
   "cell_type": "code",
   "execution_count": 78,
   "metadata": {},
   "outputs": [
    {
     "name": "stdout",
     "output_type": "stream",
     "text": [
      "-11.610778292236446\n"
     ]
    }
   ],
   "source": [
    "print(np.mean(diff))"
   ]
  }
 ],
 "metadata": {
  "kernelspec": {
   "display_name": "Python 3",
   "language": "python",
   "name": "python3"
  },
  "language_info": {
   "codemirror_mode": {
    "name": "ipython",
    "version": 3
   },
   "file_extension": ".py",
   "mimetype": "text/x-python",
   "name": "python",
   "nbconvert_exporter": "python",
   "pygments_lexer": "ipython3",
   "version": "3.8.5"
  }
 },
 "nbformat": 4,
 "nbformat_minor": 4
}
