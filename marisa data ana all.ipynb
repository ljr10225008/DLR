{
 "cells": [
  {
   "cell_type": "code",
   "execution_count": 1,
   "metadata": {},
   "outputs": [
    {
     "name": "stderr",
     "output_type": "stream",
     "text": [
      "C:\\Users\\ljr\\AppData\\Roaming\\Python\\Python38\\site-packages\\pandas\\core\\computation\\expressions.py:20: UserWarning: Pandas requires version '2.7.3' or newer of 'numexpr' (version '2.7.1' currently installed).\n",
      "  from pandas.core.computation.check import NUMEXPR_INSTALLED\n"
     ]
    }
   ],
   "source": [
    "import math\n",
    "import numpy as np\n",
    "import sklearn\n",
    "from sklearn.cluster import KMeans\n",
    "import matplotlib as mpl\n",
    "import matplotlib.pyplot as plt\n",
    "import librosa\n",
    "import librosa.display\n",
    "import os\n",
    "import re\n",
    "import seaborn as sns\n",
    "import pandas as pd\n",
    "import random\n",
    "from scipy import stats  #t-test\n",
    "import semopy\n",
    "import pandas as pd\n",
    "from semopy import Model\n",
    "import scipy.stats as stats \n",
    "from statsmodels.stats import multitest\n"
   ]
  },
  {
   "cell_type": "code",
   "execution_count": 59,
   "metadata": {},
   "outputs": [],
   "source": [
    "tdatafas=np.loadtxt('fasfa.txt')\n",
    "rdatafas1=np.loadtxt('fasfar1.txt')\n",
    "rdatafas2=np.loadtxt('fasfar2.txt')\n",
    "rdatafas3=np.loadtxt('fasfar3.txt')\n",
    "rdatafas4=np.loadtxt('fasfar4.txt')\n",
    "rdatafas5=np.loadtxt('fasfar5.txt')"
   ]
  },
  {
   "cell_type": "code",
   "execution_count": 60,
   "metadata": {},
   "outputs": [
    {
     "name": "stdout",
     "output_type": "stream",
     "text": [
      "276\n"
     ]
    }
   ],
   "source": [
    "print(len(tdatafas))"
   ]
  },
  {
   "cell_type": "code",
   "execution_count": 61,
   "metadata": {},
   "outputs": [],
   "source": [
    "tdatafasc=np.loadtxt('faschi.txt')\n",
    "rdatafasc1=np.loadtxt('faschir1.txt')\n",
    "rdatafasc2=np.loadtxt('faschir2.txt')\n",
    "rdatafasc3=np.loadtxt('faschir3.txt')\n",
    "rdatafasc4=np.loadtxt('faschir4.txt')\n",
    "rdatafasc5=np.loadtxt('faschir5.txt')"
   ]
  },
  {
   "cell_type": "code",
   "execution_count": 62,
   "metadata": {},
   "outputs": [],
   "source": [
    "tdatachis=np.loadtxt('chisfa.txt')\n",
    "rdatachis1=np.loadtxt('chisfar1.txt')\n",
    "rdatachis2=np.loadtxt('chisfar2.txt')\n",
    "rdatachis3=np.loadtxt('chisfar3.txt')\n",
    "rdatachis4=np.loadtxt('chisfar4.txt')\n",
    "rdatachis5=np.loadtxt('chisfar5.txt')"
   ]
  },
  {
   "cell_type": "code",
   "execution_count": 63,
   "metadata": {},
   "outputs": [
    {
     "name": "stdout",
     "output_type": "stream",
     "text": [
      "313\n"
     ]
    }
   ],
   "source": [
    "print(len(tdatachis))"
   ]
  },
  {
   "cell_type": "code",
   "execution_count": 64,
   "metadata": {},
   "outputs": [],
   "source": [
    "tdatachisc=np.loadtxt('chischi.txt')\n",
    "rdatachisc1=np.loadtxt('chischir1.txt')\n",
    "rdatachisc2=np.loadtxt('chischir2.txt')\n",
    "rdatachisc3=np.loadtxt('chischir3.txt')\n",
    "rdatachisc4=np.loadtxt('chischir4.txt')\n",
    "rdatachisc5=np.loadtxt('chischir5.txt')"
   ]
  },
  {
   "cell_type": "code",
   "execution_count": 65,
   "metadata": {},
   "outputs": [],
   "source": [
    "tdatafasz1=np.loadtxt('fasfaz1.txt')\n",
    "tdatafasz2=np.loadtxt('fasfaz2.txt')\n",
    "rdatafasz1=np.loadtxt('fasfarz1.txt')"
   ]
  },
  {
   "cell_type": "code",
   "execution_count": 66,
   "metadata": {},
   "outputs": [],
   "source": [
    "tdatafaszc1=np.loadtxt('faschiz1.txt')\n",
    "tdatafaszc2=np.loadtxt('faschiz2.txt')\n",
    "rdatafaszc1=np.loadtxt('faschirz1.txt')"
   ]
  },
  {
   "cell_type": "code",
   "execution_count": 67,
   "metadata": {},
   "outputs": [],
   "source": [
    "tdatachisz1=np.loadtxt('chisfaz1.txt')\n",
    "tdatachisz2=np.loadtxt('chisfaz2.txt')\n",
    "rdatachisz1=np.loadtxt('chisfarz1.txt')"
   ]
  },
  {
   "cell_type": "code",
   "execution_count": 68,
   "metadata": {},
   "outputs": [],
   "source": [
    "tdatachiszc1=np.loadtxt('chischiz1.txt')\n",
    "tdatachiszc2=np.loadtxt('chischiz2.txt')\n",
    "rdatachiszc1=np.loadtxt('chischirz1.txt')"
   ]
  },
  {
   "cell_type": "code",
   "execution_count": 121,
   "metadata": {},
   "outputs": [],
   "source": [
    "def ttest (data,datacompare):\n",
    "    sduration=stats.ttest_ind(data[:,0],datacompare[:,0])\n",
    "    smfcc=stats.ttest_ind(data[:,1],datacompare[:,1])\n",
    "    srf0=stats.ttest_ind(data[:,2],datacompare[:,2])\n",
    "    smaxf0=stats.ttest_ind(data[:,3],datacompare[:,3])\n",
    "    sminf0=stats.ttest_ind(data[:,4],datacompare[:,4])\n",
    "    smf0=stats.ttest_ind(data[:,5],datacompare[:,5])\n",
    "    smrms=stats.ttest_ind(data[:,6],datacompare[:,6])\n",
    "    szc=stats.ttest_ind(data[:,7],datacompare[:,7])\n",
    "    #print('p_value of duration=',sduration[1])\n",
    "    #print('p_value of mfcc=',smfcc[1])\n",
    "    #print('p_value of f0_range=',srf0[1])\n",
    "    #print('p_value of f0_max=',smaxf0[1])\n",
    "    #print('p_value of f0_min=',sminf0[1])\n",
    "    #print('p_value of f0_mean=',smf0[1])\n",
    "    #print('p_value of energy_rms=',smrms[1])\n",
    "    #print('p_value of energy_zc=',szc[1])\n",
    "    pvalue=np.r_[sduration[1],srf0[1],smaxf0[1],sminf0[1],smf0[1]]\n",
    "    #pvalue=np.c_[sduration[1],smfcc[1],srf0[1],smaxf0[1],sminf0[1],smf0[1],smrms[1],szc[1]]\n",
    "    ttt=multitest.multipletests(pvalue,alpha=0.1,method='fdr_bh')\n",
    "    return pvalue,ttt"
   ]
  },
  {
   "cell_type": "code",
   "execution_count": 122,
   "metadata": {},
   "outputs": [
    {
     "name": "stdout",
     "output_type": "stream",
     "text": [
      "fasfa vs chisfa= [0.63734365 0.82366954 0.59457495 0.57166652 0.49306337]\n",
      "tfasfa vs chisfa= (array([False, False, False, False, False]), array([0.79667956, 0.82366954, 0.79667956, 0.79667956, 0.79667956]), 0.0208516376390232, 0.02)\n"
     ]
    }
   ],
   "source": [
    "pvaluefaschis1,tttfaschis1=ttest(tdatafas,tdatachis)\n",
    "print('fasfa vs chisfa=',pvaluefaschis1)\n",
    "print('tfasfa vs chisfa=',tttfaschis1)"
   ]
  },
  {
   "cell_type": "code",
   "execution_count": 71,
   "metadata": {},
   "outputs": [
    {
     "name": "stdout",
     "output_type": "stream",
     "text": [
      "[[0.84474986 0.82752407 0.69126176 0.57049005 0.71741322 0.51175372\n",
      "  0.08359263 0.92656218]]\n"
     ]
    }
   ],
   "source": [
    "#pvaluefaschisz1=ttest(tdatafasz1[:,0:8],tdatachisz1[:,0:8])\n",
    "#pvaluefaschisz2=ttest(tdatafasz1[:,8:16],tdatachisz1[:,8:16])\n",
    "#pvaluefaschisz3=ttest(tdatafasz1[:,16:24],tdatachisz1[:,16:24])\n",
    "#pvaluefaschisz4=ttest(tdatafasz1[:,24:32],tdatachisz1[:,24:32])\n",
    "#pvaluefaschisz5=ttest(tdatafasz1[:,32:40],tdatachisz1[:,32:40])\n",
    "\n",
    "#print((pvaluefaschisz1+pvaluefaschisz2+pvaluefaschisz3+pvaluefaschisz4+pvaluefaschisz5)/5)"
   ]
  },
  {
   "cell_type": "code",
   "execution_count": 72,
   "metadata": {},
   "outputs": [
    {
     "name": "stdout",
     "output_type": "stream",
     "text": [
      "[[0.82846755 0.84474966 0.66173518 0.56570819 0.55162105 0.47021518\n",
      "  0.08782828 0.79902002]]\n"
     ]
    }
   ],
   "source": [
    "#pvaluefaschisz21=ttest(tdatafasz2[:,0:8],tdatachisz2[:,0:8])\n",
    "#pvaluefaschisz22=ttest(tdatafasz2[:,8:16],tdatachisz2[:,8:16])\n",
    "#pvaluefaschisz23=ttest(tdatafasz2[:,16:24],tdatachisz2[:,16:24])\n",
    "#pvaluefaschisz24=ttest(tdatafasz2[:,24:32],tdatachisz2[:,24:32])\n",
    "#pvaluefaschisz25=ttest(tdatafasz2[:,32:40],tdatachisz2[:,32:40])\n",
    "\n",
    "#print((pvaluefaschisz21+pvaluefaschisz22+pvaluefaschisz23+pvaluefaschisz24+pvaluefaschisz25)/5)"
   ]
  },
  {
   "cell_type": "code",
   "execution_count": 123,
   "metadata": {},
   "outputs": [
    {
     "name": "stdout",
     "output_type": "stream",
     "text": [
      "faschi vs chischi= [0.00436717 0.02771031 0.00324792 0.06236755 0.01470749]\n",
      "tfaschi vs chischi= (array([ True,  True,  True,  True,  True]), array([0.01091793, 0.03463788, 0.01091793, 0.06236755, 0.02451248]), 0.0208516376390232, 0.02)\n"
     ]
    }
   ],
   "source": [
    "pvaluefaschisc1,tttfaschisc1=ttest(tdatafasc,tdatachisc)\n",
    "print('faschi vs chischi=',pvaluefaschisc1)\n",
    "print('tfaschi vs chischi=',tttfaschisc1)"
   ]
  },
  {
   "cell_type": "code",
   "execution_count": 74,
   "metadata": {},
   "outputs": [
    {
     "name": "stdout",
     "output_type": "stream",
     "text": [
      "[[0.06282704 0.54806278 0.09804839 0.023385   0.57999875 0.25590812\n",
      "  0.92776482 0.35896557]]\n"
     ]
    }
   ],
   "source": [
    "#pvaluefaschiszc1=ttest(tdatafaszc1[:,0:8],tdatachiszc1[:,0:8])\n",
    "#pvaluefaschiszc2=ttest(tdatafaszc1[:,8:16],tdatachiszc1[:,8:16])\n",
    "#pvaluefaschiszc3=ttest(tdatafaszc1[:,16:24],tdatachiszc1[:,16:24])\n",
    "#pvaluefaschiszc4=ttest(tdatafaszc1[:,24:32],tdatachiszc1[:,24:32])\n",
    "#pvaluefaschiszc5=ttest(tdatafaszc1[:,32:40],tdatachiszc1[:,32:40])\n",
    "\n",
    "#print((pvaluefaschiszc1+pvaluefaschiszc2+pvaluefaschiszc3+pvaluefaschiszc4+pvaluefaschiszc5)/5)"
   ]
  },
  {
   "cell_type": "code",
   "execution_count": 75,
   "metadata": {},
   "outputs": [
    {
     "name": "stdout",
     "output_type": "stream",
     "text": [
      "[[0.12282476 0.66113823 0.14443225 0.04565057 0.67877088 0.30478566\n",
      "  0.8603287  0.26848597]]\n"
     ]
    }
   ],
   "source": [
    "#pvaluefaschiszc21=ttest(tdatafaszc2[:,0:8],tdatachiszc2[:,0:8])\n",
    "#pvaluefaschiszc22=ttest(tdatafaszc2[:,8:16],tdatachiszc2[:,8:16])\n",
    "#pvaluefaschiszc23=ttest(tdatafaszc2[:,16:24],tdatachiszc2[:,16:24])\n",
    "#pvaluefaschiszc24=ttest(tdatafaszc2[:,24:32],tdatachiszc2[:,24:32])\n",
    "#pvaluefaschiszc25=ttest(tdatafaszc2[:,32:40],tdatachiszc2[:,32:40])\n",
    "\n",
    "#print((pvaluefaschiszc21+pvaluefaschiszc22+pvaluefaschiszc23+pvaluefaschiszc24+pvaluefaschiszc25)/5)"
   ]
  },
  {
   "cell_type": "code",
   "execution_count": 125,
   "metadata": {},
   "outputs": [],
   "source": [
    "def ttestt (data,datacompare):\n",
    "    sduration=stats.ttest_ind(data[:,0],datacompare[:,0])\n",
    "    smfcc=stats.ttest_ind(data[:,1],datacompare[:,1])\n",
    "    srf0=stats.ttest_ind(data[:,2],datacompare[:,2])\n",
    "    smaxf0=stats.ttest_ind(data[:,3],datacompare[:,3])\n",
    "    sminf0=stats.ttest_ind(data[:,4],datacompare[:,4])\n",
    "    smf0=stats.ttest_ind(data[:,5],datacompare[:,5])\n",
    "    smrms=stats.ttest_ind(data[:,6],datacompare[:,6])\n",
    "    szc=stats.ttest_ind(data[:,7],datacompare[:,7])\n",
    "    #print('p_value of duration=',sduration[1])\n",
    "    #print('p_value of mfcc=',smfcc[1])\n",
    "    #print('p_value of f0_range=',srf0[1])\n",
    "    #print('p_value of f0_max=',smaxf0[1])\n",
    "    #print('p_value of f0_min=',sminf0[1])\n",
    "    #print('p_value of f0_mean=',smf0[1])\n",
    "    #print('p_value of energy_rms=',smrms[1])\n",
    "    #print('p_value of energy_zc=',szc[1])\n",
    "    pvalue=np.r_[sduration[1],srf0[1],smaxf0[1],sminf0[1],smf0[1]]\n",
    "    #pvalue=np.c_[sduration[1],smfcc[1],srf0[1],smaxf0[1],sminf0[1],smf0[1],smrms[1],szc[1]]\n",
    "    #ttt=multitest.multipletests(pvalue,alpha=0.1,method='fdr_bh')\n",
    "    return pvalue"
   ]
  },
  {
   "cell_type": "code",
   "execution_count": 129,
   "metadata": {},
   "outputs": [],
   "source": [
    "def multit(data1,data2,data3,data4,data5):\n",
    "    p1=np.r_[data1[0],data2[0],data3[0],data4[0],data5[0]]\n",
    "    p2=np.r_[data1[1],data2[1],data3[1],data4[1],data5[1]]\n",
    "    p3=np.r_[data1[2],data2[2],data3[2],data4[2],data5[2]]\n",
    "    p4=np.r_[data1[3],data2[3],data3[3],data4[3],data5[3]]\n",
    "    p5=np.r_[data1[4],data2[4],data3[4],data4[4],data5[4]]\n",
    "    print('duration:',multitest.multipletests(p1,alpha=0.1,method='fdr_bh'))\n",
    "    print('range:',multitest.multipletests(p2,alpha=0.1,method='fdr_bh'))\n",
    "    print('max:',multitest.multipletests(p3,alpha=0.1,method='fdr_bh'))\n",
    "    print('min:',multitest.multipletests(p4,alpha=0.1,method='fdr_bh'))\n",
    "    print('mean:',multitest.multipletests(p5,alpha=0.1,method='fdr_bh'))"
   ]
  },
  {
   "cell_type": "code",
   "execution_count": 136,
   "metadata": {},
   "outputs": [
    {
     "name": "stdout",
     "output_type": "stream",
     "text": [
      "duration: (array([ True,  True,  True,  True,  True]), array([4.50491921e-07, 2.49325325e-07, 3.72355129e-05, 8.53896853e-06,\n",
      "       8.53896853e-06]), 0.0208516376390232, 0.02)\n",
      "range: (array([False, False, False, False, False]), array([0.99386788, 0.99386788, 0.99386788, 0.99386788, 0.99386788]), 0.0208516376390232, 0.02)\n",
      "max: (array([False, False, False, False, False]), array([0.87625284, 0.87625284, 0.87625284, 0.87625284, 0.87625284]), 0.0208516376390232, 0.02)\n",
      "min: (array([False, False, False, False, False]), array([0.92668266, 0.92668266, 0.92668266, 0.92668266, 0.92668266]), 0.0208516376390232, 0.02)\n",
      "mean: (array([False, False, False, False, False]), array([0.57941096, 0.89986256, 0.89986256, 0.89986256, 0.57941096]), 0.0208516376390232, 0.02)\n",
      "mean p of fas= [1.00749011e-05 7.06344324e-01 6.40456005e-01 6.71921816e-01\n",
      " 5.68756334e-01]\n"
     ]
    }
   ],
   "source": [
    "pvaluefas1=ttestt(tdatafas,rdatafas1)\n",
    "pvaluefas2=ttestt(tdatafas,rdatafas2)\n",
    "pvaluefas3=ttestt(tdatafas,rdatafas3)\n",
    "pvaluefas4=ttestt(tdatafas,rdatafas4)\n",
    "pvaluefas5=ttestt(tdatafas,rdatafas5)\n",
    "\n",
    "multit(pvaluefas1,pvaluefas2,pvaluefas3,pvaluefas4,pvaluefas5)\n",
    "mpvaluefas=(pvaluefas1+pvaluefas2+pvaluefas3+pvaluefas4+pvaluefas5)/5\n",
    "print('mean p of fas=',mpvaluefas)"
   ]
  },
  {
   "cell_type": "code",
   "execution_count": 137,
   "metadata": {},
   "outputs": [
    {
     "name": "stdout",
     "output_type": "stream",
     "text": [
      "duration: (array([ True,  True,  True,  True,  True]), array([1.76152155e-04, 3.75687870e-05, 8.37432663e-06, 8.37432663e-06,\n",
      "       8.37432663e-06]), 0.0208516376390232, 0.02)\n",
      "range: (array([ True,  True,  True,  True,  True]), array([7.64217867e-05, 1.15358457e-03, 1.39417061e-04, 5.49866800e-05,\n",
      "       5.49866800e-05]), 0.0208516376390232, 0.02)\n",
      "max: (array([ True,  True,  True,  True,  True]), array([0.00138816, 0.00714548, 0.00146471, 0.00146471, 0.00146471]), 0.0208516376390232, 0.02)\n",
      "min: (array([False, False, False, False, False]), array([0.8337889, 0.8337889, 0.8337889, 0.8337889, 0.8337889]), 0.0208516376390232, 0.02)\n",
      "mean: (array([ True, False,  True,  True, False]), array([0.05609118, 0.1677171 , 0.05609118, 0.07731059, 0.1677171 ]), 0.0208516376390232, 0.02)\n",
      "mean p of fasc= [4.34663614e-05 2.70475169e-04 2.04480622e-03 6.66821281e-01\n",
      " 8.33757077e-02]\n"
     ]
    }
   ],
   "source": [
    "pvaluefasc1=ttestt(tdatafasc,rdatafasc1)\n",
    "pvaluefasc2=ttestt(tdatafasc,rdatafasc2)\n",
    "pvaluefasc3=ttestt(tdatafasc,rdatafasc3)\n",
    "pvaluefasc4=ttestt(tdatafasc,rdatafasc4)\n",
    "pvaluefasc5=ttestt(tdatafasc,rdatafasc5)\n",
    "multit(pvaluefasc1,pvaluefasc2,pvaluefasc3,pvaluefasc4,pvaluefasc5)\n",
    "mpvaluefasc=(pvaluefasc1+pvaluefasc2+pvaluefasc3+pvaluefasc4+pvaluefasc5)/5\n",
    "print('mean p of fasc=',mpvaluefasc)"
   ]
  },
  {
   "cell_type": "code",
   "execution_count": 138,
   "metadata": {},
   "outputs": [
    {
     "name": "stdout",
     "output_type": "stream",
     "text": [
      "duration: (array([ True,  True,  True,  True,  True]), array([2.04277836e-07, 3.78492355e-07, 1.61496900e-04, 3.64245447e-07,\n",
      "       2.25236368e-05]), 0.0208516376390232, 0.02)\n",
      "range: (array([False, False, False, False, False]), array([0.93343516, 0.99772084, 0.93343516, 0.99772084, 0.93343516]), 0.0208516376390232, 0.02)\n",
      "max: (array([False, False, False, False, False]), array([0.98004598, 0.98004598, 0.98004598, 0.98004598, 0.98004598]), 0.0208516376390232, 0.02)\n",
      "min: (array([False, False, False, False, False]), array([0.97355029, 0.97355029, 0.97355029, 0.97355029, 0.97355029]), 0.0208516376390232, 0.02)\n",
      "mean: (array([False, False, False, False, False]), array([0.82708752, 0.82708752, 0.82708752, 0.82708752, 0.82708752]), 0.0208516376390232, 0.02)\n",
      "mean p of chis= [3.59858917e-05 6.53421131e-01 7.32155924e-01 8.34571011e-01\n",
      " 5.83626853e-01]\n"
     ]
    }
   ],
   "source": [
    "pvaluechis1=ttestt(tdatachis,rdatachis1)\n",
    "pvaluechis2=ttestt(tdatachis,rdatachis2)\n",
    "pvaluechis3=ttestt(tdatachis,rdatachis3)\n",
    "pvaluechis4=ttestt(tdatachis,rdatachis4)\n",
    "pvaluechis5=ttestt(tdatachis,rdatachis5)\n",
    "multit(pvaluechis1,pvaluechis2,pvaluechis3,pvaluechis4,pvaluechis5)\n",
    "mpvaluechis=(pvaluechis1+pvaluechis2+pvaluechis3+pvaluechis4+pvaluechis5)/5\n",
    "print('mean p of chis=',mpvaluechis)"
   ]
  },
  {
   "cell_type": "code",
   "execution_count": 139,
   "metadata": {},
   "outputs": [
    {
     "name": "stdout",
     "output_type": "stream",
     "text": [
      "duration: (array([ True,  True,  True,  True,  True]), array([0.00586885, 0.08600134, 0.02249243, 0.00525374, 0.0166918 ]), 0.0208516376390232, 0.02)\n",
      "range: (array([False, False, False, False, False]), array([0.2110107 , 0.66466213, 0.52664735, 0.2110107 , 0.2110107 ]), 0.0208516376390232, 0.02)\n",
      "max: (array([False, False, False, False, False]), array([0.86969686, 0.86969686, 0.86969686, 0.86969686, 0.86969686]), 0.0208516376390232, 0.02)\n",
      "min: (array([ True,  True,  True,  True,  True]), array([0.00941588, 0.0225433 , 0.0363925 , 0.00941588, 0.00941588]), 0.0208516376390232, 0.02)\n",
      "mean: (array([False, False, False, False, False]), array([0.39157087, 0.39157087, 0.39157087, 0.39157087, 0.49172862]), 0.0208516376390232, 0.02)\n",
      "mean p of chisc= [0.02348173 0.26999223 0.68639842 0.01324372 0.28188676]\n"
     ]
    }
   ],
   "source": [
    "pvaluechisc1=ttestt(tdatachisc,rdatachisc1)\n",
    "pvaluechisc2=ttestt(tdatachisc,rdatachisc2)\n",
    "pvaluechisc3=ttestt(tdatachisc,rdatachisc3)\n",
    "pvaluechisc4=ttestt(tdatachisc,rdatachisc4)\n",
    "pvaluechisc5=ttestt(tdatachisc,rdatachisc5)\n",
    "multit(pvaluechisc1,pvaluechisc2,pvaluechisc3,pvaluechisc4,pvaluechisc5)\n",
    "mpvaluechisc=(pvaluechisc1+pvaluechisc2+pvaluechisc3+pvaluechisc4+pvaluechisc5)/5\n",
    "print('mean p of chisc=',mpvaluechisc)"
   ]
  },
  {
   "cell_type": "code",
   "execution_count": 80,
   "metadata": {},
   "outputs": [
    {
     "name": "stdout",
     "output_type": "stream",
     "text": [
      "mean p of fasz= [[8.16260410e-06 5.47994592e-01 6.50326412e-01 6.71541240e-01\n",
      "  6.36767227e-01 3.96058863e-01 7.72677517e-01 7.41839827e-04]]\n"
     ]
    }
   ],
   "source": [
    "#pvaluefasz1=ttest(tdatafasz1[:,0:8],rdatafasz1[:,0:8])\n",
    "#pvaluefasz2=ttest(tdatafasz1[:,8:16],rdatafasz1[:,8:16])\n",
    "#pvaluefasz3=ttest(tdatafasz1[:,16:24],rdatafasz1[:,16:24])\n",
    "#pvaluefasz4=ttest(tdatafasz1[:,24:32],rdatafasz1[:,24:32])\n",
    "#pvaluefasz5=ttest(tdatafasz1[:,32:40],rdatafasz1[:,32:40])\n",
    "\n",
    "#mpvaluefasz=(pvaluefasz1+pvaluefasz2+pvaluefasz3+pvaluefasz4+pvaluefasz5)/5\n",
    "#print('mean p of fasz=',mpvaluefasz)"
   ]
  },
  {
   "cell_type": "code",
   "execution_count": 81,
   "metadata": {},
   "outputs": [
    {
     "name": "stdout",
     "output_type": "stream",
     "text": [
      "mean p of faszc= [[4.97438386e-04 1.40284482e-01 2.89137503e-04 1.83446046e-03\n",
      "  6.85853509e-01 2.67669860e-01 2.78274936e-01 3.85929554e-01]]\n"
     ]
    }
   ],
   "source": [
    "#pvaluefaszc1=ttest(tdatafaszc1[:,0:8],rdatafaszc1[:,0:8])\n",
    "#pvaluefaszc2=ttest(tdatafaszc1[:,8:16],rdatafaszc1[:,8:16])\n",
    "#pvaluefaszc3=ttest(tdatafaszc1[:,16:24],rdatafaszc1[:,16:24])\n",
    "#pvaluefaszc4=ttest(tdatafaszc1[:,24:32],rdatafaszc1[:,24:32])\n",
    "#pvaluefaszc5=ttest(tdatafaszc1[:,32:40],rdatafaszc1[:,32:40])\n",
    "\n",
    "#mpvaluefaszc=(pvaluefaszc1+pvaluefaszc2+pvaluefaszc3+pvaluefaszc4+pvaluefaszc5)/5\n",
    "#print('mean p of faszc=',mpvaluefaszc)"
   ]
  },
  {
   "cell_type": "code",
   "execution_count": 82,
   "metadata": {},
   "outputs": [
    {
     "name": "stdout",
     "output_type": "stream",
     "text": [
      "mean p of chisz= [[5.80356339e-06 5.84301234e-01 5.14346082e-01 7.28231069e-01\n",
      "  8.39302102e-01 5.07989821e-01 4.72779616e-01 4.50949195e-04]]\n"
     ]
    }
   ],
   "source": [
    "#pvaluechisz1=ttest(tdatachisz2[:,0:8],rdatachisz1[:,0:8])\n",
    "#pvaluechisz2=ttest(tdatachisz2[:,8:16],rdatachisz1[:,8:16])\n",
    "#pvaluechisz3=ttest(tdatachisz2[:,16:24],rdatachisz1[:,16:24])\n",
    "#pvaluechisz4=ttest(tdatachisz2[:,24:32],rdatachisz1[:,24:32])\n",
    "#pvaluechisz5=ttest(tdatachisz2[:,32:40],rdatachisz1[:,32:40])\n",
    "\n",
    "#mpvaluechisz=(pvaluechisz1+pvaluechisz2+pvaluechisz3+pvaluechisz4+pvaluechisz5)/5\n",
    "#print('mean p of chisz=',mpvaluechisz)"
   ]
  },
  {
   "cell_type": "code",
   "execution_count": 83,
   "metadata": {},
   "outputs": [
    {
     "name": "stdout",
     "output_type": "stream",
     "text": [
      "mean p of chiszc= [[0.0578935  0.3509551  0.29939649 0.70847559 0.05426093 0.24704616\n",
      "  0.42933881 0.71905087]]\n"
     ]
    }
   ],
   "source": [
    "#pvaluechiszc1=ttest(tdatachiszc2[:,0:8],rdatachiszc1[:,0:8])\n",
    "#pvaluechiszc2=ttest(tdatachiszc2[:,8:16],rdatachiszc1[:,8:16])\n",
    "#pvaluechiszc3=ttest(tdatachiszc2[:,16:24],rdatachiszc1[:,16:24])\n",
    "#pvaluechiszc4=ttest(tdatachiszc2[:,24:32],rdatachiszc1[:,24:32])\n",
    "#pvaluechiszc5=ttest(tdatachiszc2[:,32:40],rdatachiszc1[:,32:40])\n",
    "\n",
    "#mpvaluechiszc=(pvaluechiszc1+pvaluechiszc2+pvaluechiszc3+pvaluechiszc4+pvaluechiszc5)/5\n",
    "#print('mean p of chiszc=',mpvaluechiszc)"
   ]
  },
  {
   "cell_type": "code",
   "execution_count": 84,
   "metadata": {},
   "outputs": [],
   "source": [
    "def plotshow(datafas,datachis,datacompare):\n",
    "    \n",
    "    #xxx=np.empty([len(datafas)+len(datachis)+len(datacompare),3],dtype = str) \n",
    "    #xxx[0:len(datafas),:]=['I','-','C']\n",
    "    #xxx[len(datafas):len(datafas)+len(datacompare),:]=['I','-','C']\n",
    "    #xxx[len(datafas)+len(datacompare):,:]=['I','-','C']\n",
    "    my_pal = {\"C-I\": \"steelblue\", \"Non\": \"darkgoldenrod\", \"I-C\":\"lightcyan\"}\n",
    "    \n",
    "    xxx=[None]*(len(tdatafas)+len(tdatachis)+len(rdatafas1))\n",
    "    for i in range(len(tdatafas)):\n",
    "        xxx[i]=\"C-I\"\n",
    "    for i in range(len(tdatafas),len(tdatafas)+len(rdatafas1)):\n",
    "        xxx[i]=\"Non\"\n",
    "    for i in range(len(tdatafas)+len(rdatafas1),len(tdatafas)+len(tdatachis)+len(rdatafas1)):\n",
    "        xxx[i]=\"I-C\"\n",
    "    compare_durationrow=np.r_[datafas[:,0],datacompare[:,0],datachis[:,0]]\n",
    "    compare_mfccrow=np.r_[datafas[:,1],datacompare[:,1],datachis[:,1]]\n",
    "    compare_rf0row=np.r_[datafas[:,2],datacompare[:,2],datachis[:,2]]\n",
    "    compare_maxf0row=np.r_[datafas[:,3],datacompare[:,3],datachis[:,3]]\n",
    "    compare_minf0row=np.r_[datafas[:,4],datacompare[:,4],datachis[:,4]]\n",
    "    compare_mf0row=np.r_[datafas[:,5],datacompare[:,5],datachis[:,5]]\n",
    "    compare_mrmsrow=np.r_[datafas[:,6],datacompare[:,6],datachis[:,6]]\n",
    "    compare_zcrow=np.r_[datafas[:,7],datacompare[:,7],datachis[:,7]]\n",
    "    \n",
    "    ax = sns.boxplot(x=xxx, y=compare_durationrow, linewidth=1.5,whis=1.5, palette=my_pal)\n",
    "    plt.xlabel('C-I turn/Non-turn/I-C turn', fontsize=12)\n",
    "    plt.ylabel('duration',fontsize=12)\n",
    "    #plt.title('I-C turn/Non-vocal exchange/C-I turn')\n",
    "    plt.show()\n",
    "    \n",
    "    ax = sns.boxplot(x=xxx, y=compare_mfccrow, linewidth=1.5,whis=1.5, palette=my_pal)\n",
    "    plt.xlabel('C-I turn/Non-turn/I-C turn', fontsize=12)\n",
    "    plt.ylabel('compare_mfccrow',fontsize=12)\n",
    "    #plt.title('I-C turn/Non-vocal exchange/C-I turn')\n",
    "    plt.show()\n",
    "    \n",
    "    ax = sns.boxplot(x=xxx, y=compare_rf0row, linewidth=1.5,whis=1.5, palette=my_pal)\n",
    "    plt.xlabel('C-I turn/Non-turn/I-C turn', fontsize=12)\n",
    "    plt.ylabel('f0_range',fontsize=12)\n",
    "    #plt.title('Vocal exchange/Non-vocal exchange')\n",
    "    plt.show()\n",
    "    \n",
    "    ax = sns.boxplot(x=xxx, y=compare_maxf0row, linewidth=1.5,whis=1.5, palette=my_pal)\n",
    "    plt.xlabel('C-I turn/Non-turn/I-C turn', fontsize=12)\n",
    "    plt.ylabel('f0_max',fontsize=12)\n",
    "    #plt.title('Vocal exchange/Non-vocal exchange')\n",
    "    plt.show()\n",
    "\n",
    "    ax = sns.boxplot(x=xxx, y=compare_minf0row, linewidth=1.5,whis=1.5, palette=my_pal)\n",
    "    plt.xlabel('C-I turn/Non-turn/I-C turn', fontsize=12)\n",
    "    plt.ylabel('f0_min',fontsize=12)\n",
    "    #plt.title('Vocal exchange/Non-vocal exchange')\n",
    "    plt.show()\n",
    "    \n",
    "    ax = sns.boxplot(x=xxx, y=compare_mf0row, linewidth=1.5,whis=1.5, palette=my_pal)\n",
    "    plt.xlabel('C-I turn/Non-turn/I-C turn', fontsize=12)\n",
    "    plt.ylabel('f0_mean',fontsize=12)\n",
    "    #plt.title('Vocal exchange/Non-vocal exchange')\n",
    "    plt.show()\n",
    "    \n",
    "    ax = sns.boxplot(x=xxx, y=compare_mrmsrow, linewidth=1.5,whis=1.5, palette=my_pal)\n",
    "    plt.xlabel('C-I turn/Non-turn/I-C turn', fontsize=12)\n",
    "    plt.ylabel('Energy',fontsize=12)\n",
    "    #plt.title('Vocal exchange/Non-vocal exchange')\n",
    "    plt.show()\n",
    "    \n",
    "    ax = sns.boxplot(x=xxx, y=compare_zcrow, linewidth=1.5,whis=1.5, palette=my_pal)\n",
    "    plt.xlabel('C-I turn/Non-turn/I-C turn', fontsize=12)\n",
    "    plt.ylabel('zerocrossing rate',fontsize=12)\n",
    "    #plt.title('Vocal exchange/Non-vocal exchange')\n",
    "    plt.show()"
   ]
  },
  {
   "cell_type": "code",
   "execution_count": 85,
   "metadata": {},
   "outputs": [
    {
     "name": "stdout",
     "output_type": "stream",
     "text": [
      "456.24237508251963 493.5402477104417 493.50246350792116\n"
     ]
    }
   ],
   "source": [
    "print(np.mean(tdatafasc[:,3]),np.mean(rdatafasc2[:,3]),np.mean(tdatachisc[:,3]))"
   ]
  },
  {
   "cell_type": "code",
   "execution_count": 86,
   "metadata": {},
   "outputs": [
    {
     "data": {
      "image/png": "[encoded data removed]",
      "text/plain": [
       "<Figure size 432x288 with 1 Axes>"
      ]
     },
     "metadata": {
      "needs_background": "light"
     },
     "output_type": "display_data"
    },
    {
     "data": {
      "image/png": "[encoded data removed]",
      "text/plain": [
       "<Figure size 432x288 with 1 Axes>"
      ]
     },
     "metadata": {
      "needs_background": "light"
     },
     "output_type": "display_data"
    },
    {
     "data": {
      "image/png": "[encoded data removed]",
      "text/plain": [
       "<Figure size 432x288 with 1 Axes>"
      ]
     },
     "metadata": {
      "needs_background": "light"
     },
     "output_type": "display_data"
    },
    {
     "data": {
      "image/png": "[encoded data removed]",
      "text/plain": [
       "<Figure size 432x288 with 1 Axes>"
      ]
     },
     "metadata": {
      "needs_background": "light"
     },
     "output_type": "display_data"
    },
    {
     "data": {
      "image/png": "[encoded data removed]",
      "text/plain": [
       "<Figure size 432x288 with 1 Axes>"
      ]
     },
     "metadata": {
      "needs_background": "light"
     },
     "output_type": "display_data"
    },
    {
     "data": {
      "image/png": "[encoded data removed]",
      "text/plain": [
       "<Figure size 432x288 with 1 Axes>"
      ]
     },
     "metadata": {
      "needs_background": "light"
     },
     "output_type": "display_data"
    },
    {
     "data": {
      "image/png": "[encoded data removed]",
      "text/plain": [
       "<Figure size 432x288 with 1 Axes>"
      ]
     },
     "metadata": {
      "needs_background": "light"
     },
     "output_type": "display_data"
    },
    {
     "data": {
      "image/png": "[encoded data removed]",
      "text/plain": [
       "<Figure size 432x288 with 1 Axes>"
      ]
     },
     "metadata": {
      "needs_background": "light"
     },
     "output_type": "display_data"
    }
   ],
   "source": [
    "plotshow(tdatafas,tdatachis,rdatafas1)"
   ]
  },
  {
   "cell_type": "code",
   "execution_count": 87,
   "metadata": {},
   "outputs": [
    {
     "data": {
      "image/png": "[encoded data removed]",
      "text/plain": [
       "<Figure size 432x288 with 1 Axes>"
      ]
     },
     "metadata": {
      "needs_background": "light"
     },
     "output_type": "display_data"
    },
    {
     "data": {
      "image/png": "[encoded data removed]",
      "text/plain": [
       "<Figure size 432x288 with 1 Axes>"
      ]
     },
     "metadata": {
      "needs_background": "light"
     },
     "output_type": "display_data"
    },
    {
     "data": {
      "image/png": "[encoded data removed]",
      "text/plain": [
       "<Figure size 432x288 with 1 Axes>"
      ]
     },
     "metadata": {
      "needs_background": "light"
     },
     "output_type": "display_data"
    },
    {
     "data": {
      "image/png": "[encoded data removed]",
      "text/plain": [
       "<Figure size 432x288 with 1 Axes>"
      ]
     },
     "metadata": {
      "needs_background": "light"
     },
     "output_type": "display_data"
    },
    {
     "data": {
      "image/png": "[encoded data removed]",
      "text/plain": [
       "<Figure size 432x288 with 1 Axes>"
      ]
     },
     "metadata": {
      "needs_background": "light"
     },
     "output_type": "display_data"
    },
    {
     "data": {
      "image/png": "[encoded data removed]",
      "text/plain": [
       "<Figure size 432x288 with 1 Axes>"
      ]
     },
     "metadata": {
      "needs_background": "light"
     },
     "output_type": "display_data"
    },
    {
     "data": {
      "image/png": "[encoded data removed]",
      "text/plain": [
       "<Figure size 432x288 with 1 Axes>"
      ]
     },
     "metadata": {
      "needs_background": "light"
     },
     "output_type": "display_data"
    },
    {
     "data": {
      "image/png": "[encoded data removed]",
      "text/plain": [
       "<Figure size 432x288 with 1 Axes>"
      ]
     },
     "metadata": {
      "needs_background": "light"
     },
     "output_type": "display_data"
    }
   ],
   "source": [
    "plotshow(tdatafasc,tdatachisc,rdatafasc1)"
   ]
  },
  {
   "cell_type": "code",
   "execution_count": 2,
   "metadata": {},
   "outputs": [],
   "source": [
    "tdatas=np.loadtxt('fasfasortyoung.txt')\n",
    "tdatasc=np.loadtxt('faschisortyoung.txt')\n",
    "tdatachiss=np.loadtxt('chisfasortyoung.txt')\n",
    "tdatachiscs=np.loadtxt('chischisortyoung.txt')\n",
    "tdatasz=np.loadtxt('fasfazsortyoung.txt')\n",
    "tdataszc=np.loadtxt('faschizsortyoung.txt')\n",
    "tdatachiszs=np.loadtxt('chisfazsortyoung.txt')\n",
    "tdatachiszcs=np.loadtxt('chischizsortyoung.txt')"
   ]
  },
  {
   "cell_type": "code",
   "execution_count": 8,
   "metadata": {},
   "outputs": [
    {
     "name": "stdout",
     "output_type": "stream",
     "text": [
      "110\n"
     ]
    }
   ],
   "source": [
    "print(len(tdatas[:,0]))"
   ]
  },
  {
   "cell_type": "code",
   "execution_count": 9,
   "metadata": {},
   "outputs": [
    {
     "name": "stdout",
     "output_type": "stream",
     "text": [
      "cofft of duration= (0.006466300158855824, 0.9465458065219196)\n",
      "cofft of mfcc= (-0.012088693133724742, 0.9002516164850477)\n",
      "cofft of f0_range= (0.17316552028335072, 0.07043214478331207)\n",
      "cofft of f0_max= (0.2678967953938954, 0.004661469235492585)\n",
      "cofft of f0_min= (0.08279646516300326, 0.38982513070488123)\n",
      "cofft of f0_mean= (0.20831827746244172, 0.028968066163715847)\n",
      "cofft of energy_rms= (0.31995416349439604, 0.0006558392384316041)\n",
      "cofft of energy_zc= (0.2356865817846015, 0.013186685254577581)\n"
     ]
    }
   ],
   "source": [
    "print('cofft of duration=',stats.pearsonr(tdatas[:,0],tdatasc[:,0]))\n",
    "print('cofft of mfcc=',stats.pearsonr(tdatas[:,1],tdatasc[:,1]))\n",
    "print('cofft of f0_range=',stats.pearsonr(tdatas[:,2],tdatasc[:,2]))\n",
    "print('cofft of f0_max=',stats.pearsonr(tdatas[:,3],tdatasc[:,3]))\n",
    "print('cofft of f0_min=',stats.pearsonr(tdatas[:,4],tdatasc[:,4]))\n",
    "print('cofft of f0_mean=',stats.pearsonr(tdatas[:,5],tdatasc[:,5]))\n",
    "print('cofft of energy_rms=',stats.pearsonr(tdatas[:,6],tdatasc[:,6]))\n",
    "print('cofft of energy_zc=',stats.pearsonr(tdatas[:,7],tdatasc[:,7]))"
   ]
  },
  {
   "cell_type": "code",
   "execution_count": 10,
   "metadata": {},
   "outputs": [],
   "source": [
    "corrrangefas=stats.pearsonr(tdatas[:,2],tdatasc[:,2])\n",
    "corrmaxfas=stats.pearsonr(tdatas[:,3],tdatasc[:,3])\n",
    "corrminfas=stats.pearsonr(tdatas[:,4],tdatasc[:,4])\n",
    "corrmeanfas=stats.pearsonr(tdatas[:,5],tdatasc[:,5])\n",
    "\n",
    "p_vfas=np.r_[corrrangefas[1],corrmaxfas[1],corrminfas[1],corrmeanfas[1]]"
   ]
  },
  {
   "cell_type": "code",
   "execution_count": 11,
   "metadata": {},
   "outputs": [
    {
     "name": "stdout",
     "output_type": "stream",
     "text": [
      "[0.07043214 0.00466147 0.38982513 0.02896807]\n"
     ]
    }
   ],
   "source": [
    "print(p_vfas)"
   ]
  },
  {
   "cell_type": "code",
   "execution_count": 12,
   "metadata": {},
   "outputs": [
    {
     "data": {
      "text/plain": [
       "(array([ True,  True, False,  True]),\n",
       " array([0.09390953, 0.01864588, 0.38982513, 0.05793613]),\n",
       " 0.025996253574703254,\n",
       " 0.025)"
      ]
     },
     "execution_count": 12,
     "metadata": {},
     "output_type": "execute_result"
    }
   ],
   "source": [
    "from statsmodels.stats import multitest\n",
    "multitest.multipletests(p_vfas,alpha=0.1,method='fdr_bh')"
   ]
  },
  {
   "cell_type": "code",
   "execution_count": 13,
   "metadata": {},
   "outputs": [
    {
     "name": "stdout",
     "output_type": "stream",
     "text": [
      "cofft of duration= (-0.048779518725941745, 0.5800677550229552)\n",
      "cofft of mfcc= (0.038397356398821594, 0.6632529117990499)\n",
      "cofft of f0_range= (0.012926538776499437, 0.8834958000932306)\n",
      "cofft of f0_max= (0.08189178719399352, 0.3524362240420864)\n",
      "cofft of f0_min= (-0.043627199808489434, 0.6207511124196482)\n",
      "cofft of f0_mean= (-0.0008013013250660651, 0.9927525833792714)\n",
      "cofft of energy_rms= (0.2317182595401211, 0.007743237844191986)\n",
      "cofft of energy_zc= (0.22485641699623263, 0.009820467983724199)\n"
     ]
    }
   ],
   "source": [
    "print('cofft of duration=',stats.pearsonr(tdatachiss[:,0],tdatachiscs[:,0]))\n",
    "print('cofft of mfcc=',stats.pearsonr(tdatachiss[:,1],tdatachiscs[:,1]))\n",
    "print('cofft of f0_range=',stats.pearsonr(tdatachiss[:,2],tdatachiscs[:,2]))\n",
    "print('cofft of f0_max=',stats.pearsonr(tdatachiss[:,3],tdatachiscs[:,3]))\n",
    "print('cofft of f0_min=',stats.pearsonr(tdatachiss[:,4],tdatachiscs[:,4]))\n",
    "print('cofft of f0_mean=',stats.pearsonr(tdatachiss[:,5],tdatachiscs[:,5]))\n",
    "print('cofft of energy_rms=',stats.pearsonr(tdatachiss[:,6],tdatachiscs[:,6]))\n",
    "print('cofft of energy_zc=',stats.pearsonr(tdatachiss[:,7],tdatachiscs[:,7]))"
   ]
  },
  {
   "cell_type": "code",
   "execution_count": 14,
   "metadata": {},
   "outputs": [],
   "source": [
    "corrrangechis=stats.pearsonr(tdatachiss[:,2],tdatachiscs[:,2])\n",
    "corrmaxchis=stats.pearsonr(tdatachiss[:,3],tdatachiscs[:,3])\n",
    "corrminchis=stats.pearsonr(tdatachiss[:,4],tdatachiscs[:,4])\n",
    "corrmeanchis=stats.pearsonr(tdatachiss[:,5],tdatachiscs[:,5])\n",
    "\n",
    "p_vchis=np.r_[corrrangechis[1],corrmaxchis[1],corrminchis[1],corrmeanchis[1]]"
   ]
  },
  {
   "cell_type": "code",
   "execution_count": 15,
   "metadata": {},
   "outputs": [
    {
     "data": {
      "text/plain": [
       "(array([False, False, False, False]),\n",
       " array([0.99275258, 0.99275258, 0.99275258, 0.99275258]),\n",
       " 0.025996253574703254,\n",
       " 0.025)"
      ]
     },
     "execution_count": 15,
     "metadata": {},
     "output_type": "execute_result"
    }
   ],
   "source": [
    "multitest.multipletests(p_vchis,alpha=0.1,method='fdr_bh')"
   ]
  },
  {
   "cell_type": "code",
   "execution_count": 97,
   "metadata": {},
   "outputs": [],
   "source": [
    "#print('cofft of rduration=',stats.pearsonr(rdatafas1[:,0],rdatafasc1[:,0]))\n",
    "#print('cofft of rmfcc=',stats.pearsonr(rdatafas1[:,1],rdatafasc1[:,1]))\n",
    "#print('cofft of rf0_range=',stats.pearsonr(rdatafas1[:,2],rdatafasc1[:,2]))\n",
    "#print('cofft of rf0_max=',stats.pearsonr(rdatafas1[:,3],rdatafasc1[:,3]))\n",
    "#print('cofft of rf0_min=',stats.pearsonr(rdatafas1[:,4],rdatafasc1[:,4]))\n",
    "#print('cofft of rf0_mean=',stats.pearsonr(rdatafas1[:,5],rdatafasc1[:,5]))\n",
    "#print('cofft of renergy_rms=',stats.pearsonr(rdatafas1[:,6],rdatafasc1[:,6]))\n",
    "#print('cofft of renergy_zc=',stats.pearsonr(rdatafas1[:,7],rdatafasc1[:,7]))"
   ]
  },
  {
   "cell_type": "code",
   "execution_count": 16,
   "metadata": {},
   "outputs": [
    {
     "name": "stdout",
     "output_type": "stream",
     "text": [
      "302.12325753512886 473.2145923679925\n"
     ]
    }
   ],
   "source": [
    "print(np.mean(tdatachiss[:,3]),np.mean(tdatachiscs[:,3]))"
   ]
  },
  {
   "cell_type": "code",
   "execution_count": 17,
   "metadata": {},
   "outputs": [],
   "source": [
    "motherf0range=tdatas[:,2]\n",
    "infantf0range=tdatasc[:,2]\n",
    "f0range=np.c_[tdatas[:,2],tdatasc[:,2]]\n",
    "f0rangep=pd.DataFrame(f0range)\n",
    "f0rangep.columns=['Mothers f0_range','Infants f0_range']"
   ]
  },
  {
   "cell_type": "code",
   "execution_count": 20,
   "metadata": {},
   "outputs": [],
   "source": [
    "motherf0ranges=tdatachiss[:,2]\n",
    "infantf0ranges=tdatachiscs[:,2]\n",
    "f0ranges=np.c_[tdatachiss[:,2],tdatachiscs[:,2]]\n",
    "f0rangeps=pd.DataFrame(f0ranges)\n",
    "f0rangeps.columns=['Mothers f0_ranges','Infants f0_ranges']"
   ]
  },
  {
   "cell_type": "code",
   "execution_count": 18,
   "metadata": {},
   "outputs": [],
   "source": [
    "motherf0max=tdatas[:,3]\n",
    "infantf0max=tdatasc[:,3]\n",
    "f0max=np.c_[tdatas[:,3],tdatasc[:,3]]\n",
    "f0maxp=pd.DataFrame(f0max)\n",
    "f0maxp.columns=['Mothers f0_max','Infants f0_max']"
   ]
  },
  {
   "cell_type": "code",
   "execution_count": 19,
   "metadata": {},
   "outputs": [],
   "source": [
    "motherf0maxs=tdatachiss[:,3]\n",
    "infantf0maxs=tdatachiscs[:,3]\n",
    "f0maxs=np.c_[tdatachiss[:,3],tdatachiscs[:,3]]\n",
    "f0maxps=pd.DataFrame(f0maxs)\n",
    "f0maxps.columns=['Mothers f0_maxs','Infants f0_maxs']"
   ]
  },
  {
   "cell_type": "code",
   "execution_count": 21,
   "metadata": {},
   "outputs": [],
   "source": [
    "motherf0min=tdatas[:,4]\n",
    "infantf0min=tdatasc[:,4]\n",
    "f0min=np.c_[tdatas[:,4],tdatasc[:,4]]\n",
    "f0minp=pd.DataFrame(f0min)\n",
    "f0minp.columns=['Mothers f0_min','Infants f0_min']"
   ]
  },
  {
   "cell_type": "code",
   "execution_count": 22,
   "metadata": {},
   "outputs": [],
   "source": [
    "motherf0mins=tdatachiss[:,4]\n",
    "infantf0mins=tdatachiscs[:,4]\n",
    "f0mins=np.c_[tdatachiss[:,4],tdatachiscs[:,4]]\n",
    "f0minps=pd.DataFrame(f0mins)\n",
    "f0minps.columns=['Mothers f0_mins','Infants f0_mins']"
   ]
  },
  {
   "cell_type": "code",
   "execution_count": 23,
   "metadata": {},
   "outputs": [],
   "source": [
    "motherf0mean=tdatas[:,5]\n",
    "infantf0mean=tdatasc[:,5]\n",
    "f0mean=np.c_[tdatas[:,5],tdatasc[:,5]]\n",
    "f0meanp=pd.DataFrame(f0mean)\n",
    "f0meanp.columns=['Mothers f0_mean','Infants f0_mean']"
   ]
  },
  {
   "cell_type": "code",
   "execution_count": 24,
   "metadata": {},
   "outputs": [],
   "source": [
    "motherf0means=tdatachiss[:,5]\n",
    "infantf0means=tdatachiscs[:,5]\n",
    "f0means=np.c_[tdatachiss[:,5],tdatachiscs[:,5]]\n",
    "f0meanps=pd.DataFrame(f0means)\n",
    "f0meanps.columns=['Mothers f0_means','Infants f0_means']"
   ]
  },
  {
   "cell_type": "code",
   "execution_count": 25,
   "metadata": {},
   "outputs": [
    {
     "data": {
      "text/plain": [
       "(array([-100.,    0.,  100.,  200.,  300.,  400.,  500.,  600.,  700.]),\n",
       " [Text(0, 0, ''),\n",
       "  Text(0, 0, ''),\n",
       "  Text(0, 0, ''),\n",
       "  Text(0, 0, ''),\n",
       "  Text(0, 0, ''),\n",
       "  Text(0, 0, ''),\n",
       "  Text(0, 0, ''),\n",
       "  Text(0, 0, ''),\n",
       "  Text(0, 0, '')])"
      ]
     },
     "execution_count": 25,
     "metadata": {},
     "output_type": "execute_result"
    },
    {
     "data": {
      "image/png": "[encoded data removed]",
      "text/plain": [
       "<Figure size 432x288 with 1 Axes>"
      ]
     },
     "metadata": {
      "needs_background": "light"
     },
     "output_type": "display_data"
    }
   ],
   "source": [
    "#ax = sns.scatterplot(x=tdatas[:,3], y=tdatasc[:,3])\n",
    "\n",
    "fig, ax=plt.subplots()\n",
    "ax.spines['right'].set_visible(False)\n",
    "ax.spines['top'].set_visible(False)\n",
    "plt.rc('font',family='Times New Roman')\n",
    "#ax=sns.lmplot(x='Mothers f0_range', y='Infants f0_range',data=f0rangep, sharex=False, sharey=False)\n",
    "plt.scatter(tdatas[:,2],tdatasc[:,2])\n",
    "linear_model=np.polyfit(tdatas[:,2],tdatasc[:,2],1)\n",
    "linear_model_fn=np.poly1d(linear_model)\n",
    "plt.plot(tdatas[:,2],linear_model_fn(tdatas[:,2]),color=\"k\")\n",
    "plt.xticks(fontsize=14)\n",
    "plt.yticks(fontsize=14)\n",
    "#ax.set(xlim=(-10, 500))\n",
    "#ax.set(ylim=(-10, 800))"
   ]
  },
  {
   "cell_type": "code",
   "execution_count": 26,
   "metadata": {},
   "outputs": [
    {
     "data": {
      "text/plain": [
       "(array([-100.,    0.,  100.,  200.,  300.,  400.,  500.,  600.,  700.,\n",
       "         800.]),\n",
       " [Text(0, 0, ''),\n",
       "  Text(0, 0, ''),\n",
       "  Text(0, 0, ''),\n",
       "  Text(0, 0, ''),\n",
       "  Text(0, 0, ''),\n",
       "  Text(0, 0, ''),\n",
       "  Text(0, 0, ''),\n",
       "  Text(0, 0, ''),\n",
       "  Text(0, 0, ''),\n",
       "  Text(0, 0, '')])"
      ]
     },
     "execution_count": 26,
     "metadata": {},
     "output_type": "execute_result"
    },
    {
     "data": {
      "image/png": "[encoded data removed]",
      "text/plain": [
       "<Figure size 432x288 with 1 Axes>"
      ]
     },
     "metadata": {
      "needs_background": "light"
     },
     "output_type": "display_data"
    }
   ],
   "source": [
    "#ax = sns.scatterplot(x=tdatas[:,3], y=tdatasc[:,3])\n",
    "#ax=sns.lmplot(x='Mothers f0_ranges', y='Infants f0_ranges',data=f0rangeps, sharex=False, sharey=False)\n",
    "fig, ax=plt.subplots()\n",
    "ax.spines['right'].set_visible(False)\n",
    "ax.spines['top'].set_visible(False)\n",
    "plt.rc('font',family='Times New Roman')\n",
    "plt.scatter(tdatachiss[:,2],tdatachiscs[:,2])\n",
    "linear_model=np.polyfit(tdatachiss[:,2],tdatachiscs[:,2],1)\n",
    "linear_model_fn=np.poly1d(linear_model)\n",
    "plt.plot(tdatachiss[:,2],linear_model_fn(tdatachiss[:,2]),color=\"k\")\n",
    "plt.xticks(fontsize=14)\n",
    "plt.yticks(fontsize=14)\n",
    "#ax.set(xlim=(-10, 500))\n",
    "#ax.set(ylim=(-10, 800))"
   ]
  },
  {
   "cell_type": "code",
   "execution_count": 27,
   "metadata": {},
   "outputs": [
    {
     "data": {
      "text/plain": [
       "(array([   0.,  200.,  400.,  600.,  800., 1000., 1200.]),\n",
       " [Text(0, 0, ''),\n",
       "  Text(0, 0, ''),\n",
       "  Text(0, 0, ''),\n",
       "  Text(0, 0, ''),\n",
       "  Text(0, 0, ''),\n",
       "  Text(0, 0, ''),\n",
       "  Text(0, 0, '')])"
      ]
     },
     "execution_count": 27,
     "metadata": {},
     "output_type": "execute_result"
    },
    {
     "data": {
      "image/png": "[encoded data removed]",
      "text/plain": [
       "<Figure size 432x288 with 1 Axes>"
      ]
     },
     "metadata": {
      "needs_background": "light"
     },
     "output_type": "display_data"
    }
   ],
   "source": [
    "#ax = sns.scatterplot(x=tdatas[:,3], y=tdatasc[:,3])\n",
    "#ax=sns.lmplot(x='Mothers f0_max', y='Infants f0_max',data=f0maxp, sharex=False, sharey=False)\n",
    "fig, ax=plt.subplots()\n",
    "ax.spines['right'].set_visible(False)\n",
    "ax.spines['top'].set_visible(False)\n",
    "plt.rc('font',family='Times New Roman')\n",
    "plt.scatter(tdatas[:,3],tdatasc[:,3])\n",
    "linear_model=np.polyfit(tdatas[:,3],tdatasc[:,3],1)\n",
    "linear_model_fn=np.poly1d(linear_model)\n",
    "plt.plot(tdatas[:,3],linear_model_fn(tdatas[:,3]),color=\"k\")\n",
    "plt.xticks(fontsize=14)\n",
    "plt.yticks(fontsize=14)\n",
    "#ax.set(ylim=(100, 1100))\n",
    "#ax.set(xlim=(100, 650))"
   ]
  },
  {
   "cell_type": "code",
   "execution_count": 28,
   "metadata": {},
   "outputs": [
    {
     "data": {
      "text/plain": [
       "(array([   0.,  200.,  400.,  600.,  800., 1000., 1200.]),\n",
       " [Text(0, 0, ''),\n",
       "  Text(0, 0, ''),\n",
       "  Text(0, 0, ''),\n",
       "  Text(0, 0, ''),\n",
       "  Text(0, 0, ''),\n",
       "  Text(0, 0, ''),\n",
       "  Text(0, 0, '')])"
      ]
     },
     "execution_count": 28,
     "metadata": {},
     "output_type": "execute_result"
    },
    {
     "data": {
      "image/png": "[encoded data removed]",
      "text/plain": [
       "<Figure size 432x288 with 1 Axes>"
      ]
     },
     "metadata": {
      "needs_background": "light"
     },
     "output_type": "display_data"
    }
   ],
   "source": [
    "#ax = sns.scatterplot(x=tdatas[:,3], y=tdatasc[:,3])\n",
    "fig, ax=plt.subplots()\n",
    "ax.spines['right'].set_visible(False)\n",
    "ax.spines['top'].set_visible(False)\n",
    "plt.rc('font',family='Times New Roman')\n",
    "#ax=sns.lmplot(x='Mothers f0_maxs', y='Infants f0_maxs',data=f0maxps, sharex=False, sharey=False)\n",
    "plt.scatter(tdatachiss[:,3],tdatachiscs[:,3])\n",
    "linear_model=np.polyfit(tdatachiss[:,3],tdatachiscs[:,3],1)\n",
    "linear_model_fn=np.poly1d(linear_model)\n",
    "plt.plot(tdatachiss[:,3],linear_model_fn(tdatachiss[:,3]),color=\"k\")\n",
    "plt.xticks(fontsize=14)\n",
    "plt.yticks(fontsize=14)\n",
    "#ax.set(ylim=(100, 1100))\n",
    "#ax.set(xlim=(100, 610))"
   ]
  },
  {
   "cell_type": "code",
   "execution_count": 29,
   "metadata": {},
   "outputs": [
    {
     "data": {
      "text/plain": [
       "[(100.0, 450.0)]"
      ]
     },
     "execution_count": 29,
     "metadata": {},
     "output_type": "execute_result"
    },
    {
     "data": {
      "image/png": "[encoded data removed]",
      "text/plain": [
       "<Figure size 432x288 with 1 Axes>"
      ]
     },
     "metadata": {
      "needs_background": "light"
     },
     "output_type": "display_data"
    }
   ],
   "source": [
    "#ax = sns.scatterplot(x=tdatas[:,3], y=tdatasc[:,3])\n",
    "#ax=sns.lmplot(x='Mothers f0_min', y='Infants f0_min',data=f0minp, sharex=False, sharey=False)\n",
    "fig, ax=plt.subplots()\n",
    "ax.spines['right'].set_visible(False)\n",
    "ax.spines['top'].set_visible(False)\n",
    "plt.rc('font',family='Times New Roman')\n",
    "plt.scatter(tdatas[:,4],tdatasc[:,4])\n",
    "linear_model=np.polyfit(tdatas[:,4],tdatasc[:,4],1)\n",
    "linear_model_fn=np.poly1d(linear_model)\n",
    "plt.plot(tdatas[:,4],linear_model_fn(tdatas[:,4]),color=\"k\")\n",
    "plt.xticks(fontsize=14)\n",
    "plt.yticks(fontsize=14)\n",
    "ax.set(ylim=(100, 550))\n",
    "ax.set(xlim=(100, 450))"
   ]
  },
  {
   "cell_type": "code",
   "execution_count": 30,
   "metadata": {},
   "outputs": [
    {
     "data": {
      "text/plain": [
       "[(100.0, 600.0)]"
      ]
     },
     "execution_count": 30,
     "metadata": {},
     "output_type": "execute_result"
    },
    {
     "data": {
      "image/png": "[encoded data removed]",
      "text/plain": [
       "<Figure size 432x288 with 1 Axes>"
      ]
     },
     "metadata": {
      "needs_background": "light"
     },
     "output_type": "display_data"
    }
   ],
   "source": [
    "#ax = sns.scatterplot(x=tdatas[:,3], y=tdatasc[:,3])\n",
    "fig, ax=plt.subplots()\n",
    "ax.spines['right'].set_visible(False)\n",
    "ax.spines['top'].set_visible(False)\n",
    "plt.rc('font',family='Times New Roman')\n",
    "#ax=sns.lmplot(x='Mothers f0_mins', y='Infants f0_mins',data=f0minps, sharex=False, sharey=False)\n",
    "plt.scatter(tdatachiss[:,4],tdatachiscs[:,4])\n",
    "linear_model=np.polyfit(tdatachiss[:,4],tdatachiscs[:,4],1)\n",
    "linear_model_fn=np.poly1d(linear_model)\n",
    "plt.plot(tdatachiss[:,4],linear_model_fn(tdatachiss[:,4]),color=\"k\")\n",
    "plt.xticks(fontsize=14)\n",
    "plt.yticks(fontsize=14)\n",
    "ax.set(ylim=(100, 600))\n",
    "ax.set(xlim=(100, 600))"
   ]
  },
  {
   "cell_type": "code",
   "execution_count": 1,
   "metadata": {},
   "outputs": [
    {
     "ename": "NameError",
     "evalue": "name 'plt' is not defined",
     "output_type": "error",
     "traceback": [
      "\u001b[1;31m---------------------------------------------------------------------------\u001b[0m",
      "\u001b[1;31mNameError\u001b[0m                                 Traceback (most recent call last)",
      "\u001b[1;32m<ipython-input-1-c99d849c5cf6>\u001b[0m in \u001b[0;36m<module>\u001b[1;34m\u001b[0m\n\u001b[0;32m      1\u001b[0m \u001b[1;31m#ax = sns.scatterplot(x=tdatas[:,3], y=tdatasc[:,3])\u001b[0m\u001b[1;33m\u001b[0m\u001b[1;33m\u001b[0m\u001b[1;33m\u001b[0m\u001b[0m\n\u001b[1;32m----> 2\u001b[1;33m \u001b[0mplt\u001b[0m\u001b[1;33m.\u001b[0m\u001b[0mrc\u001b[0m\u001b[1;33m(\u001b[0m\u001b[1;34m'font'\u001b[0m\u001b[1;33m,\u001b[0m\u001b[0mfamily\u001b[0m\u001b[1;33m=\u001b[0m\u001b[1;34m'Times New Roman'\u001b[0m\u001b[1;33m)\u001b[0m\u001b[1;33m\u001b[0m\u001b[1;33m\u001b[0m\u001b[0m\n\u001b[0m\u001b[0;32m      3\u001b[0m \u001b[0mfig\u001b[0m\u001b[1;33m,\u001b[0m \u001b[0max\u001b[0m\u001b[1;33m=\u001b[0m\u001b[0mplt\u001b[0m\u001b[1;33m.\u001b[0m\u001b[0msubplots\u001b[0m\u001b[1;33m(\u001b[0m\u001b[0mfigsize\u001b[0m\u001b[1;33m=\u001b[0m\u001b[1;33m(\u001b[0m\u001b[1;36m4\u001b[0m\u001b[1;33m,\u001b[0m\u001b[1;36m6\u001b[0m\u001b[1;33m)\u001b[0m\u001b[1;33m)\u001b[0m\u001b[1;33m\u001b[0m\u001b[1;33m\u001b[0m\u001b[0m\n\u001b[0;32m      4\u001b[0m \u001b[0max\u001b[0m\u001b[1;33m.\u001b[0m\u001b[0mspines\u001b[0m\u001b[1;33m[\u001b[0m\u001b[1;34m'right'\u001b[0m\u001b[1;33m]\u001b[0m\u001b[1;33m.\u001b[0m\u001b[0mset_visible\u001b[0m\u001b[1;33m(\u001b[0m\u001b[1;32mFalse\u001b[0m\u001b[1;33m)\u001b[0m\u001b[1;33m\u001b[0m\u001b[1;33m\u001b[0m\u001b[0m\n\u001b[0;32m      5\u001b[0m \u001b[0max\u001b[0m\u001b[1;33m.\u001b[0m\u001b[0mspines\u001b[0m\u001b[1;33m[\u001b[0m\u001b[1;34m'top'\u001b[0m\u001b[1;33m]\u001b[0m\u001b[1;33m.\u001b[0m\u001b[0mset_visible\u001b[0m\u001b[1;33m(\u001b[0m\u001b[1;32mFalse\u001b[0m\u001b[1;33m)\u001b[0m\u001b[1;33m\u001b[0m\u001b[1;33m\u001b[0m\u001b[0m\n",
      "\u001b[1;31mNameError\u001b[0m: name 'plt' is not defined"
     ]
    }
   ],
   "source": [
    "#ax = sns.scatterplot(x=tdatas[:,3], y=tdatasc[:,3])\n",
    "plt.rc('font',family='Times New Roman')\n",
    "fig, ax=plt.subplots()\n",
    "ax.spines['right'].set_visible(False)\n",
    "ax.spines['top'].set_visible(False)\n",
    "plt.rc('font',family='Times New Roman')\n",
    "plt.scatter(tdatas[:,5],tdatasc[:,5])\n",
    "linear_model=np.polyfit(tdatas[:,5],tdatasc[:,5],1)\n",
    "linear_model_fn=np.poly1d(linear_model)\n",
    "plt.plot(tdatas[:,5],linear_model_fn(tdatas[:,5]),color=\"k\")\n",
    "#ax=sns.lmplot(x='Mothers f0_mean', y='Infants f0_mean',data=f0meanp, sharex=False, sharey=False)\n",
    "plt.xticks(fontsize=14)\n",
    "plt.yticks(fontsize=14)\n",
    "ax.set(ylim=(100, 900))\n",
    "ax.set(xlim=(100, 600))"
   ]
  },
  {
   "cell_type": "code",
   "execution_count": 32,
   "metadata": {},
   "outputs": [
    {
     "data": {
      "text/plain": [
       "[(100.0, 600.0)]"
      ]
     },
     "execution_count": 32,
     "metadata": {},
     "output_type": "execute_result"
    },
    {
     "data": {
      "image/png": "[encoded data removed]",
      "text/plain": [
       "<Figure size 432x288 with 1 Axes>"
      ]
     },
     "metadata": {
      "needs_background": "light"
     },
     "output_type": "display_data"
    }
   ],
   "source": [
    "#ax = sns.scatterplot(x=tdatas[:,3], y=tdatasc[:,3])\n",
    "\n",
    "fig, ax=plt.subplots()\n",
    "ax.spines['right'].set_visible(False)\n",
    "ax.spines['top'].set_visible(False)\n",
    "plt.rc('font',family='Times New Roman')\n",
    "plt.scatter(tdatachiss[:,5],tdatachiscs[:,5])\n",
    "linear_model=np.polyfit(tdatachiss[:,5],tdatachiscs[:,5],1)\n",
    "linear_model_fn=np.poly1d(linear_model)\n",
    "plt.plot(tdatachiss[:,5],linear_model_fn(tdatachiss[:,5]),color=\"k\")\n",
    "#ax=sns.lmplot(x='Mothers f0_means', y='Infants f0_means',data=f0meanps, sharex=False, sharey=False)\n",
    "#ax.spines['right'].set_visible(False)\n",
    "#ax.spines['top'].set_visible(False)\n",
    "plt.xticks(fontsize=14)\n",
    "plt.yticks(fontsize=14)\n",
    "ax.set(ylim=(100, 900))\n",
    "ax.set(xlim=(100, 600))"
   ]
  }
 ],
 "metadata": {
  "kernelspec": {
   "display_name": "Python 3",
   "language": "python",
   "name": "python3"
  },
  "language_info": {
   "codemirror_mode": {
    "name": "ipython",
    "version": 3
   },
   "file_extension": ".py",
   "mimetype": "text/x-python",
   "name": "python",
   "nbconvert_exporter": "python",
   "pygments_lexer": "ipython3",
   "version": "3.8.5"
  }
 },
 "nbformat": 4,
 "nbformat_minor": 4
}
