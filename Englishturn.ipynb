{
 "cells": [
  {
   "cell_type": "code",
   "execution_count": 1,
   "metadata": {},
   "outputs": [
    {
     "name": "stderr",
     "output_type": "stream",
     "text": [
      "C:\\Users\\ljr\\anaconda3\\lib\\site-packages\\pandas\\core\\computation\\expressions.py:20: UserWarning: Pandas requires version '2.7.3' or newer of 'numexpr' (version '2.7.1' currently installed).\n",
      "  from pandas.core.computation.check import NUMEXPR_INSTALLED\n"
     ]
    }
   ],
   "source": [
    "import math\n",
    "import numpy as np\n",
    "import sklearn\n",
    "from sklearn.cluster import KMeans\n",
    "import matplotlib as mpl\n",
    "import matplotlib.pyplot as plt\n",
    "import librosa\n",
    "import librosa.display\n",
    "import os\n",
    "import re\n",
    "import seaborn as sns\n",
    "import pandas as pd\n",
    "import random\n",
    "from scipy import stats  #t-test\n",
    "import semopy\n",
    "import pandas as pd\n",
    "from semopy import Model\n",
    "import statsmodels.formula.api as smf\n",
    "import statsmodels.api as sm"
   ]
  },
  {
   "cell_type": "code",
   "execution_count": 2,
   "metadata": {},
   "outputs": [],
   "source": [
    "pathfasfa1 = r\"C:\\LJR\\babylab\\English\\cut\\high\\5134\\turntaking\\fasfa\"\n",
    "filesfasfa1= os.listdir(pathfasfa1)\n",
    "pathfasfa2 = r\"C:\\LJR\\babylab\\English\\cut\\high\\6045\\turntaking\\fasfa\"\n",
    "filesfasfa2= os.listdir(pathfasfa2)\n",
    "pathfasfa3 = r\"C:\\LJR\\babylab\\English\\cut\\high\\8496\\turntaking\\fasfa\"\n",
    "filesfasfa3= os.listdir(pathfasfa3)\n",
    "pathfasfa4 = r\"C:\\LJR\\babylab\\English\\cut\\high\\8560\\turntaking\\fasfa\"\n",
    "filesfasfa4= os.listdir(pathfasfa4)\n",
    "pathfasfa5 = r\"C:\\LJR\\babylab\\English\\cut\\high\\9106\\turntaking\\fasfa\"\n",
    "filesfasfa5= os.listdir(pathfasfa5)\n",
    "pathfasfa6 = r\"C:\\LJR\\babylab\\English\\cut\\high\\9733\\turntaking\\fasfa\"\n",
    "filesfasfa6= os.listdir(pathfasfa6)"
   ]
  },
  {
   "cell_type": "code",
   "execution_count": 3,
   "metadata": {},
   "outputs": [],
   "source": [
    "pathchisfa1 = r\"C:\\LJR\\babylab\\English\\cut\\high\\5134\\turntaking\\chisfa\"\n",
    "fileschisfa1= os.listdir(pathchisfa1)\n",
    "pathchisfa2 = r\"C:\\LJR\\babylab\\English\\cut\\high\\6045\\turntaking\\chisfa\"\n",
    "fileschisfa2= os.listdir(pathchisfa2)\n",
    "pathchisfa3 = r\"C:\\LJR\\babylab\\English\\cut\\high\\8496\\turntaking\\chisfa\"\n",
    "fileschisfa3= os.listdir(pathchisfa3)\n",
    "pathchisfa4 = r\"C:\\LJR\\babylab\\English\\cut\\high\\8560\\turntaking\\chisfa\"\n",
    "fileschisfa4= os.listdir(pathchisfa4)\n",
    "pathchisfa5 = r\"C:\\LJR\\babylab\\English\\cut\\high\\9106\\turntaking\\chisfa\"\n",
    "fileschisfa5= os.listdir(pathchisfa5)\n",
    "pathchisfa6 = r\"C:\\LJR\\babylab\\English\\cut\\high\\9733\\turntaking\\chisfa\"\n",
    "fileschisfa6= os.listdir(pathchisfa6)"
   ]
  },
  {
   "cell_type": "code",
   "execution_count": 4,
   "metadata": {},
   "outputs": [],
   "source": [
    "pathfaschi1 = r\"C:\\LJR\\babylab\\English\\cut\\high\\5134\\turntaking\\faschi\"\n",
    "filesfaschi1= os.listdir(pathfaschi1)\n",
    "pathfaschi2 = r\"C:\\LJR\\babylab\\English\\cut\\high\\6045\\turntaking\\faschi\"\n",
    "filesfaschi2= os.listdir(pathfaschi2)\n",
    "pathfaschi3 = r\"C:\\LJR\\babylab\\English\\cut\\high\\8496\\turntaking\\faschi\"\n",
    "filesfaschi3= os.listdir(pathfaschi3)\n",
    "pathfaschi4 = r\"C:\\LJR\\babylab\\English\\cut\\high\\8560\\turntaking\\faschi\"\n",
    "filesfaschi4= os.listdir(pathfaschi4)\n",
    "pathfaschi5 = r\"C:\\LJR\\babylab\\English\\cut\\high\\9106\\turntaking\\faschi\"\n",
    "filesfaschi5= os.listdir(pathfaschi5)\n",
    "pathfaschi6 = r\"C:\\LJR\\babylab\\English\\cut\\high\\9733\\turntaking\\faschi\"\n",
    "filesfaschi6= os.listdir(pathfaschi6)"
   ]
  },
  {
   "cell_type": "code",
   "execution_count": 5,
   "metadata": {},
   "outputs": [],
   "source": [
    "pathchischi1 = r\"C:\\LJR\\babylab\\English\\cut\\high\\5134\\turntaking\\chischi\"\n",
    "fileschischi1= os.listdir(pathchischi1)\n",
    "pathchischi2 = r\"C:\\LJR\\babylab\\English\\cut\\high\\6045\\turntaking\\chischi\"\n",
    "fileschischi2= os.listdir(pathchischi2)\n",
    "pathchischi3= r\"C:\\LJR\\babylab\\English\\cut\\high\\8496\\turntaking\\chischi\"\n",
    "fileschischi3= os.listdir(pathchischi3)\n",
    "pathchischi4 = r\"C:\\LJR\\babylab\\English\\cut\\high\\8560\\turntaking\\chischi\"\n",
    "fileschischi4= os.listdir(pathchischi4)\n",
    "pathchischi5 = r\"C:\\LJR\\babylab\\English\\cut\\high\\9106\\turntaking\\chischi\"\n",
    "fileschischi5= os.listdir(pathchischi5)\n",
    "pathchischi6 = r\"C:\\LJR\\babylab\\English\\cut\\high\\9733\\turntaking\\chischi\"\n",
    "fileschischi6= os.listdir(pathchischi6)"
   ]
  },
  {
   "cell_type": "code",
   "execution_count": 6,
   "metadata": {},
   "outputs": [],
   "source": [
    "import sklearn\n",
    "def normalize(x, axis=0):\n",
    "    return sklearn.preprocessing.minmax_scale(x, axis=axis)"
   ]
  },
  {
   "cell_type": "code",
   "execution_count": 7,
   "metadata": {},
   "outputs": [],
   "source": [
    "def featurec(path,files):\n",
    "    t=np.zeros((len(files),8))\n",
    "    for i in range(len(files)):\n",
    "        x,sr1=librosa.load(path+\"\\\\\"+files[i],sr=None)\n",
    "        duration=librosa.get_duration(y=x, sr=sr1)\n",
    "        emphasized_signal = np.append(x[0], x[1:] -0.97 * x[:-1])\n",
    "        mfccss = librosa.feature.mfcc(y=emphasized_signal, sr=sr1)\n",
    "        mfccs = normalize(mfccss , axis=1)\n",
    "        mfccs=mfccs.T\n",
    "        mfccsm=np.mean(mfccs)\n",
    "        f0, voiced_flag, voiced_probs = librosa.pyin(x,sr=sr1,frame_length=512, fill_na=np.nan, n_thresholds=50, fmin=120, fmax=600)\n",
    "        rf0= np.nanmax(f0)-np.nanmin(f0)\n",
    "        if np.isnan(rf0):\n",
    "            print(path+\"\\\\\"+files[i])\n",
    "        maxf0 = np.nanmax(f0)\n",
    "        minf0 = np.nanmin(f0)\n",
    "        mmf0=np.nanmean(f0)\n",
    "        rms = librosa.feature.rms(y=x,frame_length=512, hop_length=128)\n",
    "        mrms=np.nanmean(rms)\n",
    "        zerocrossr = librosa.feature.zero_crossing_rate(y=x,frame_length=512, hop_length=128)\n",
    "        mzerocrossr=np.nanmean(zerocrossr)\n",
    "        feature=np.c_[duration,mfccsm,rf0,maxf0,minf0,mmf0,mrms,mzerocrossr]\n",
    "        t[i,:]=feature\n",
    "    return t"
   ]
  },
  {
   "cell_type": "code",
   "execution_count": 8,
   "metadata": {},
   "outputs": [],
   "source": [
    "def featureci(path,files):\n",
    "    t=np.zeros((len(files),8))\n",
    "    for i in range(len(files)):\n",
    "        x,sr1=librosa.load(path+\"\\\\\"+files[i],sr=None)\n",
    "        duration=librosa.get_duration(y=x, sr=sr1)\n",
    "        emphasized_signal = np.append(x[0], x[1:] -0.97 * x[:-1])\n",
    "        mfccss = librosa.feature.mfcc(y=emphasized_signal, sr=sr1)\n",
    "        mfccs = normalize(mfccss , axis=1)\n",
    "        mfccs=mfccs.T\n",
    "        mfccsm=np.mean(mfccs)\n",
    "        f0, voiced_flag, voiced_probs = librosa.pyin(x,sr=sr1,frame_length=512, fill_na=np.nan, n_thresholds=50, fmin=120, fmax=1000)\n",
    "        rf0= np.nanmax(f0)-np.nanmin(f0)\n",
    "        if np.isnan(rf0):\n",
    "            print(path+\"\\\\\"+files[i])\n",
    "        maxf0 = np.nanmax(f0)\n",
    "        minf0 = np.nanmin(f0)\n",
    "        mmf0=np.nanmean(f0)\n",
    "        rms = librosa.feature.rms(y=x,frame_length=512, hop_length=128)\n",
    "        mrms=np.nanmean(rms)\n",
    "        zerocrossr = librosa.feature.zero_crossing_rate(y=x,frame_length=512, hop_length=128)\n",
    "        mzerocrossr=np.nanmean(zerocrossr)\n",
    "        feature=np.c_[duration,mfccsm,rf0,maxf0,minf0,mmf0,mrms,mzerocrossr]\n",
    "        t[i,:]=feature\n",
    "    return t"
   ]
  },
  {
   "cell_type": "code",
   "execution_count": 9,
   "metadata": {},
   "outputs": [],
   "source": [
    "t0643fas=featurec(pathfasfa1,filesfasfa1)\n",
    "t2109fas=featurec(pathfasfa2,filesfasfa2)\n",
    "t2625fas=featurec(pathfasfa3,filesfasfa3)\n",
    "t3026fas=featurec(pathfasfa4,filesfasfa4)\n",
    "t6216fas=featurec(pathfasfa5,filesfasfa5)\n",
    "t7176fas=featurec(pathfasfa6,filesfasfa6)"
   ]
  },
  {
   "cell_type": "code",
   "execution_count": 10,
   "metadata": {},
   "outputs": [],
   "source": [
    "t0643chis=featurec(pathchisfa1,fileschisfa1)\n",
    "t2109chis=featurec(pathchisfa2,fileschisfa2)\n",
    "t2625chis=featurec(pathchisfa3,fileschisfa3)\n",
    "t3026chis=featurec(pathchisfa4,fileschisfa4)\n",
    "t6216chis=featurec(pathchisfa5,fileschisfa5)\n",
    "t7176chis=featurec(pathchisfa6,fileschisfa6)"
   ]
  },
  {
   "cell_type": "code",
   "execution_count": 11,
   "metadata": {},
   "outputs": [],
   "source": [
    "t0643fasc=featureci(pathfaschi1,filesfaschi1)\n",
    "t2109fasc=featureci(pathfaschi2,filesfaschi2)\n",
    "t2625fasc=featureci(pathfaschi3,filesfaschi3)\n",
    "t3026fasc=featureci(pathfaschi4,filesfaschi4)\n",
    "t6216fasc=featureci(pathfaschi5,filesfaschi5)\n",
    "t7176fasc=featureci(pathfaschi6,filesfaschi6)"
   ]
  },
  {
   "cell_type": "code",
   "execution_count": 12,
   "metadata": {},
   "outputs": [],
   "source": [
    "t0643chisc=featureci(pathchischi1,fileschischi1)\n",
    "t2109chisc=featureci(pathchischi2,fileschischi2)\n",
    "t2625chisc=featureci(pathchischi3,fileschischi3)\n",
    "t3026chisc=featureci(pathchischi4,fileschischi4)\n",
    "t6216chisc=featureci(pathchischi5,fileschischi5)\n",
    "t7176chisc=featureci(pathchischi6,fileschischi6)"
   ]
  },
  {
   "cell_type": "code",
   "execution_count": 69,
   "metadata": {},
   "outputs": [],
   "source": [
    "def sorttimea(files,t):\n",
    "    featureid=np.zeros((len(files),1))\n",
    "    for i in range(len(files)):\n",
    "        featureid[i]=re.search(\"(\\d+\\.\\d+)\",files[i]).group(0)\n",
    "    featurelabeled=np.c_[featureid,t]\n",
    "    #print(featurelabeled[:,0])\n",
    "    #print(featurelabeled[:,1])\n",
    "    data=featurelabeled[featurelabeled[:,0].argsort()]\n",
    "    #print(data[:,0])\n",
    "    #print(data[:,1])\n",
    "    datas=data[:,1:]\n",
    "    return datas"
   ]
  },
  {
   "cell_type": "code",
   "execution_count": 14,
   "metadata": {},
   "outputs": [],
   "source": [
    "data1s=sorttimea(filesfasfa1,t0643fas)\n",
    "data2s=sorttimea(filesfasfa2,t2109fas)\n",
    "data3s=sorttimea(filesfasfa3,t2625fas)\n",
    "data4s=sorttimea(filesfasfa4,t3026fas)\n",
    "data5s=sorttimea(filesfasfa5,t6216fas)\n",
    "data6s=sorttimea(filesfasfa6,t7176fas)"
   ]
  },
  {
   "cell_type": "code",
   "execution_count": 73,
   "metadata": {},
   "outputs": [
    {
     "name": "stdout",
     "output_type": "stream",
     "text": [
      "[  604.043  2443.922  2467.439  3700.97   3718.257  4266.964  4276.713\n",
      " 11442.071 11519.117 12043.626 15035.88  17495.358]\n"
     ]
    }
   ],
   "source": [
    "#data2s=sorttimea(filesfasfa2,t2109fas)"
   ]
  },
  {
   "cell_type": "code",
   "execution_count": 16,
   "metadata": {},
   "outputs": [],
   "source": [
    "data1sc=sorttimea(filesfaschi1,t0643fasc)\n",
    "data2sc=sorttimea(filesfaschi2,t2109fasc)\n",
    "data3sc=sorttimea(filesfaschi3,t2625fasc)\n",
    "data4sc=sorttimea(filesfaschi4,t3026fasc)\n",
    "data5sc=sorttimea(filesfaschi5,t6216fasc)\n",
    "data6sc=sorttimea(filesfaschi6,t7176fasc)"
   ]
  },
  {
   "cell_type": "code",
   "execution_count": 74,
   "metadata": {},
   "outputs": [
    {
     "name": "stdout",
     "output_type": "stream",
     "text": [
      "[  605.706  2444.844  2468.39   3705.14   3720.157  4268.554  4281.96\n",
      " 11444.3   11520.684 12045.284 15037.175 17496.668]\n"
     ]
    }
   ],
   "source": [
    "#data2sc=sorttimea(filesfaschi2,t2109fasc)"
   ]
  },
  {
   "cell_type": "code",
   "execution_count": 18,
   "metadata": {},
   "outputs": [],
   "source": [
    "data1chis=sorttimea(fileschisfa1,t0643chis)\n",
    "data2chis=sorttimea(fileschisfa2,t2109chis)\n",
    "data3chis=sorttimea(fileschisfa3,t2625chis)\n",
    "data4chis=sorttimea(fileschisfa4,t3026chis)\n",
    "data5chis=sorttimea(fileschisfa5,t6216chis)\n",
    "data6chis=sorttimea(fileschisfa6,t7176chis)"
   ]
  },
  {
   "cell_type": "code",
   "execution_count": 19,
   "metadata": {},
   "outputs": [],
   "source": [
    "data1chisc=sorttimea(fileschischi1,t0643chisc)\n",
    "data2chisc=sorttimea(fileschischi2,t2109chisc)\n",
    "data3chisc=sorttimea(fileschischi3,t2625chisc)\n",
    "data4chisc=sorttimea(fileschischi4,t3026chisc)\n",
    "data5chisc=sorttimea(fileschischi5,t6216chisc)\n",
    "data6chisc=sorttimea(fileschischi6,t7176chisc)"
   ]
  },
  {
   "cell_type": "code",
   "execution_count": 20,
   "metadata": {},
   "outputs": [],
   "source": [
    "def ind(datain,labelin,ind):\n",
    "    inds=np.zeros(len(datain))+ind\n",
    "    dataout=np.c_[datain,labelin,inds]\n",
    "    return dataout"
   ]
  },
  {
   "cell_type": "code",
   "execution_count": 21,
   "metadata": {},
   "outputs": [],
   "source": [
    "tdatasr=np.r_[ind(data1sc[:,2],data1s[:,2],1),ind(data2sc[:,2],data2s[:,2],2),ind(data3sc[:,2],data3s[:,2],3),ind(data4sc[:,2],data4s[:,2],4),ind(data5sc[:,2],data5s[:,2],5),ind(data6sc[:,2],data6s[:,2],6)]\n",
    "tdatasma=np.r_[ind(data1sc[:,3],data1s[:,3],1),ind(data2sc[:,3],data2s[:,3],2),ind(data3sc[:,3],data3s[:,3],3),ind(data4sc[:,3],data4s[:,3],4),ind(data5sc[:,3],data5s[:,3],5),ind(data6sc[:,3],data6s[:,3],6)]\n",
    "tdatasmi=np.r_[ind(data1sc[:,4],data1s[:,4],1),ind(data2sc[:,4],data2s[:,4],2),ind(data3sc[:,4],data3s[:,4],3),ind(data4sc[:,4],data4s[:,4],4),ind(data5sc[:,4],data5s[:,4],5),ind(data6sc[:,4],data6s[:,4],6)]\n",
    "tdatasme=np.r_[ind(data1sc[:,5],data1s[:,5],1),ind(data2sc[:,5],data2s[:,5],2),ind(data3sc[:,5],data3s[:,5],3),ind(data4sc[:,5],data4s[:,5],4),ind(data5sc[:,5],data5s[:,5],5),ind(data6sc[:,5],data6s[:,5],6)]"
   ]
  },
  {
   "cell_type": "code",
   "execution_count": 22,
   "metadata": {},
   "outputs": [],
   "source": [
    "ctdatasr=np.r_[ind(data1chis[:,2],data1chisc[:,2],1),ind(data2chis[:,2],data2chisc[:,2],2),ind(data3chis[:,2],data3chisc[:,2],3),ind(data4chis[:,2],data4chisc[:,2],4),ind(data5chis[:,2],data5chisc[:,2],5),ind(data6chis[:,2],data6chisc[:,2],6)]\n",
    "ctdatasma=np.r_[ind(data1chis[:,3],data1chisc[:,3],1),ind(data2chis[:,3],data2chisc[:,3],2),ind(data3chis[:,3],data3chisc[:,3],3),ind(data4chis[:,3],data4chisc[:,3],4),ind(data5chis[:,3],data5chisc[:,3],5),ind(data6chis[:,3],data6chisc[:,3],6)]\n",
    "ctdatasmi=np.r_[ind(data1chis[:,4],data1chisc[:,4],1),ind(data2chis[:,4],data2chisc[:,4],2),ind(data3chis[:,4],data3chisc[:,4],3),ind(data4chis[:,4],data4chisc[:,4],4),ind(data5chis[:,4],data5chisc[:,4],5),ind(data6chis[:,4],data6chisc[:,4],6)]\n",
    "ctdatasme=np.r_[ind(data1chis[:,5],data1chisc[:,5],1),ind(data2chis[:,5],data2chisc[:,5],2),ind(data3chis[:,5],data3chisc[:,5],3),ind(data4chis[:,5],data4chisc[:,5],4),ind(data5chis[:,5],data5chisc[:,5],5),ind(data6chis[:,5],data6chisc[:,5],6)]"
   ]
  },
  {
   "cell_type": "code",
   "execution_count": 23,
   "metadata": {},
   "outputs": [
    {
     "data": {
      "text/plain": [
       "(130.0, 655.0)"
      ]
     },
     "execution_count": 23,
     "metadata": {},
     "output_type": "execute_result"
    },
    {
     "data": {
      "image/png": "[encoded data removed]",
      "text/plain": [
       "<Figure size 432x288 with 1 Axes>"
      ]
     },
     "metadata": {
      "needs_background": "light"
     },
     "output_type": "display_data"
    }
   ],
   "source": [
    "plt.scatter(tdatasme[:,1],tdatasme[:,0])\n",
    "plt.xlim(130,655)\n",
    "plt.ylim(130,655)"
   ]
  },
  {
   "cell_type": "code",
   "execution_count": 24,
   "metadata": {},
   "outputs": [
    {
     "data": {
      "text/plain": [
       "(130.0, 655.0)"
      ]
     },
     "execution_count": 24,
     "metadata": {},
     "output_type": "execute_result"
    },
    {
     "data": {
      "image/png": "[encoded data removed]",
      "text/plain": [
       "<Figure size 432x288 with 1 Axes>"
      ]
     },
     "metadata": {
      "needs_background": "light"
     },
     "output_type": "display_data"
    }
   ],
   "source": [
    "plt.scatter(ctdatasme[:,1],ctdatasme[:,0])\n",
    "plt.xlim(130,655)\n",
    "plt.ylim(130,655)"
   ]
  },
  {
   "cell_type": "code",
   "execution_count": 25,
   "metadata": {},
   "outputs": [],
   "source": [
    "dataallmep=pd.DataFrame(tdatasme)\n",
    "dataallmep.columns=['DV','IV','type']\n",
    "dataallmap=pd.DataFrame(tdatasma)\n",
    "dataallmap.columns=['DV','IV','type']\n",
    "dataallmip=pd.DataFrame(tdatasmi)\n",
    "dataallmip.columns=['DV','IV','type']\n",
    "dataallrp=pd.DataFrame(tdatasr)\n",
    "dataallrp.columns=['DV','IV','type']"
   ]
  },
  {
   "cell_type": "code",
   "execution_count": 26,
   "metadata": {},
   "outputs": [],
   "source": [
    "cdataallmep=pd.DataFrame(ctdatasme)\n",
    "cdataallmep.columns=['DV','IV','type']\n",
    "cdataallmap=pd.DataFrame(ctdatasma)\n",
    "cdataallmap.columns=['DV','IV','type']\n",
    "cdataallmip=pd.DataFrame(ctdatasmi)\n",
    "cdataallmip.columns=['DV','IV','type']\n",
    "cdataallrp=pd.DataFrame(ctdatasr)\n",
    "cdataallrp.columns=['DV','IV','type']"
   ]
  },
  {
   "cell_type": "code",
   "execution_count": 27,
   "metadata": {},
   "outputs": [],
   "source": [
    "#dataallmep.to_csv(r'C:\\LJR\\paper\\tseltalvsenglish\\dataplot\\English\\turn\\msme.csv')\n",
    "#dataallmap.to_csv(r'C:\\LJR\\paper\\tseltalvsenglish\\dataplot\\English\\turn\\msma.csv')\n",
    "#dataallmip.to_csv(r'C:\\LJR\\paper\\tseltalvsenglish\\dataplot\\English\\turn\\msmi.csv')\n",
    "#dataallrp.to_csv(r'C:\\LJR\\paper\\tseltalvsenglish\\dataplot\\English\\turn\\msr.csv')\n",
    "\n",
    "#cdataallmep.to_csv(r'C:\\LJR\\paper\\tseltalvsenglish\\dataplot\\English\\turn\\csme.csv')\n",
    "#cdataallmap.to_csv(r'C:\\LJR\\paper\\tseltalvsenglish\\dataplot\\English\\turn\\csma.csv')\n",
    "#cdataallmip.to_csv(r'C:\\LJR\\paper\\tseltalvsenglish\\dataplot\\English\\turn\\csmi.csv')\n",
    "#cdataallrp.to_csv(r'C:\\LJR\\paper\\tseltalvsenglish\\dataplot\\English\\turn\\csr.csv')"
   ]
  },
  {
   "cell_type": "code",
   "execution_count": 28,
   "metadata": {},
   "outputs": [
    {
     "name": "stdout",
     "output_type": "stream",
     "text": [
      "cofft of f0_range= PearsonRResult(statistic=0.299502639464911, pvalue=0.00413394942186506)\n",
      "cofft of f0_max= PearsonRResult(statistic=0.20783227020087178, pvalue=0.04934149024893539)\n",
      "cofft of f0_min= PearsonRResult(statistic=0.039539762208130026, pvalue=0.7113761956174285)\n",
      "cofft of f0_mean= PearsonRResult(statistic=0.0961268674036726, pvalue=0.36743865699822)\n"
     ]
    }
   ],
   "source": [
    "print('cofft of f0_range=',stats.pearsonr(dataallrp['IV'],dataallrp['DV']))\n",
    "print('cofft of f0_max=',stats.pearsonr(dataallmap['IV'],dataallmap['DV']))\n",
    "print('cofft of f0_min=',stats.pearsonr(dataallmip['IV'],dataallmip['DV']))\n",
    "print('cofft of f0_mean=',stats.pearsonr(dataallmep['IV'],dataallmep['DV']))"
   ]
  },
  {
   "cell_type": "code",
   "execution_count": 29,
   "metadata": {},
   "outputs": [
    {
     "name": "stdout",
     "output_type": "stream",
     "text": [
      "cofft of cf0_range= PearsonRResult(statistic=0.2571773146858597, pvalue=0.0049330773696879)\n",
      "cofft of cf0_max= PearsonRResult(statistic=0.2203751857756907, pvalue=0.016486540364629314)\n",
      "cofft of cf0_min= PearsonRResult(statistic=0.2846223515288137, pvalue=0.0017856167604730431)\n",
      "cofft of cf0_mean= PearsonRResult(statistic=0.2819172681990975, pvalue=0.001982839583572359)\n"
     ]
    }
   ],
   "source": [
    "print('cofft of cf0_range=',stats.pearsonr(cdataallrp['IV'],cdataallrp['DV']))\n",
    "print('cofft of cf0_max=',stats.pearsonr(cdataallmap['IV'],cdataallmap['DV']))\n",
    "print('cofft of cf0_min=',stats.pearsonr(cdataallmip['IV'],cdataallmip['DV']))\n",
    "print('cofft of cf0_mean=',stats.pearsonr(cdataallmep['IV'],cdataallmep['DV']))"
   ]
  },
  {
   "cell_type": "code",
   "execution_count": 30,
   "metadata": {},
   "outputs": [],
   "source": [
    "dataallmepn=(dataallmep-dataallmep.mean())/dataallmep.std()\n",
    "dataallmapn=(dataallmap-dataallmap.mean())/dataallmap.std()\n",
    "dataallmipn=(dataallmip-dataallmip.mean())/dataallmip.std()\n",
    "dataallrpn=(dataallrp-dataallrp.mean())/dataallrp.std()"
   ]
  },
  {
   "cell_type": "code",
   "execution_count": 31,
   "metadata": {},
   "outputs": [],
   "source": [
    "cdataallmepn=(cdataallmep-cdataallmep.mean())/cdataallmep.std()\n",
    "cdataallmapn=(cdataallmap-cdataallmap.mean())/cdataallmap.std()\n",
    "cdataallmipn=(cdataallmip-cdataallmip.mean())/cdataallmip.std()\n",
    "cdataallrpn=(cdataallrp-cdataallrp.mean())/cdataallrp.std()"
   ]
  },
  {
   "cell_type": "code",
   "execution_count": 32,
   "metadata": {},
   "outputs": [
    {
     "name": "stdout",
     "output_type": "stream",
     "text": [
      "         Mixed Linear Model Regression Results\n",
      "=======================================================\n",
      "Model:            MixedLM Dependent Variable: DV       \n",
      "No. Observations: 90      Method:             REML     \n",
      "No. Groups:       6       Scale:              4596.9996\n",
      "Min. group size:  4       Log-Likelihood:     -507.6027\n",
      "Max. group size:  51      Converged:          Yes      \n",
      "Mean group size:  15.0                                 \n",
      "-------------------------------------------------------\n",
      "           Coef.   Std.Err.   z   P>|z|  [0.025  0.975]\n",
      "-------------------------------------------------------\n",
      "Intercept  326.653   38.931 8.391 0.000 250.351 402.956\n",
      "IV           0.095    0.124 0.762 0.446  -0.149   0.338\n",
      "Group Var 1179.980   19.441                            \n",
      "=======================================================\n",
      "\n",
      "0.7623414670814005\n"
     ]
    }
   ],
   "source": [
    "med=smf.mixedlm(\"DV~IV\",dataallmep,groups=dataallmep['type'])\n",
    "\n",
    "#medf = med.fit(method=['powell'])\n",
    "medf = med.fit(method=['nm'])\n",
    "print(medf.summary())\n",
    "print(medf.tvalues['IV'])"
   ]
  },
  {
   "cell_type": "code",
   "execution_count": 33,
   "metadata": {},
   "outputs": [
    {
     "name": "stdout",
     "output_type": "stream",
     "text": [
      "           Mixed Linear Model Regression Results\n",
      "============================================================\n",
      "Model:               MixedLM  Dependent Variable:  DV       \n",
      "No. Observations:    90       Method:              REML     \n",
      "No. Groups:          6        Scale:               4341.6650\n",
      "Min. group size:     4        Log-Likelihood:      -510.0247\n",
      "Max. group size:     51       Converged:           Yes      \n",
      "Mean group size:     15.0                                   \n",
      "------------------------------------------------------------\n",
      "                Coef.   Std.Err.   z   P>|z|  [0.025  0.975]\n",
      "------------------------------------------------------------\n",
      "Intercept       328.026   47.017 6.977 0.000 235.874 420.179\n",
      "IV                0.072    0.123 0.588 0.556  -0.169   0.313\n",
      "Group Var      6327.464                                     \n",
      "Group x IV Cov    7.573                                     \n",
      "IV Var            0.009                                     \n",
      "============================================================\n",
      "\n"
     ]
    },
    {
     "name": "stderr",
     "output_type": "stream",
     "text": [
      "C:\\Users\\ljr\\anaconda3\\lib\\site-packages\\statsmodels\\regression\\mixed_linear_model.py:2238: ConvergenceWarning: The MLE may be on the boundary of the parameter space.\n",
      "  warnings.warn(msg, ConvergenceWarning)\n",
      "C:\\Users\\ljr\\anaconda3\\lib\\site-packages\\statsmodels\\regression\\mixed_linear_model.py:2262: ConvergenceWarning: The Hessian matrix at the estimated parameter values is not positive definite.\n",
      "  warnings.warn(msg, ConvergenceWarning)\n"
     ]
    }
   ],
   "source": [
    "med=smf.mixedlm(\"DV~IV\",dataallmep,groups=dataallmep['type'],re_formula=\"~IV\")\n",
    "\n",
    "#medf = med.fit(method=['powell'])\n",
    "medf = med.fit(method=['nm'])\n",
    "print(medf.summary())"
   ]
  },
  {
   "cell_type": "code",
   "execution_count": 34,
   "metadata": {},
   "outputs": [
    {
     "name": "stdout",
     "output_type": "stream",
     "text": [
      "           Mixed Linear Model Regression Results\n",
      "============================================================\n",
      "Model:               MixedLM  Dependent Variable:  DV       \n",
      "No. Observations:    90       Method:              REML     \n",
      "No. Groups:          6        Scale:               4341.6650\n",
      "Min. group size:     4        Log-Likelihood:      -510.0247\n",
      "Max. group size:     51       Converged:           Yes      \n",
      "Mean group size:     15.0                                   \n",
      "------------------------------------------------------------\n",
      "                Coef.   Std.Err.   z   P>|z|  [0.025  0.975]\n",
      "------------------------------------------------------------\n",
      "Intercept       328.026   47.446 6.914 0.000 235.033 421.020\n",
      "IV                0.072    0.125 0.578 0.563  -0.173   0.318\n",
      "Group Var      6327.464                                     \n",
      "Group x IV Cov    7.573    0.000                            \n",
      "IV Var            0.009                                     \n",
      "============================================================\n",
      "\n"
     ]
    },
    {
     "name": "stderr",
     "output_type": "stream",
     "text": [
      "C:\\Users\\ljr\\anaconda3\\lib\\site-packages\\statsmodels\\regression\\mixed_linear_model.py:2238: ConvergenceWarning: The MLE may be on the boundary of the parameter space.\n",
      "  warnings.warn(msg, ConvergenceWarning)\n",
      "C:\\Users\\ljr\\anaconda3\\lib\\site-packages\\statsmodels\\regression\\mixed_linear_model.py:2262: ConvergenceWarning: The Hessian matrix at the estimated parameter values is not positive definite.\n",
      "  warnings.warn(msg, ConvergenceWarning)\n"
     ]
    }
   ],
   "source": [
    "med=smf.mixedlm(\"DV~IV\",dataallmep,groups=dataallmep['type'],re_formula=\"~IV\")\n",
    "free=sm.regression.mixed_linear_model.MixedLMParams.from_components(\n",
    "np.ones(2),np.eye(2))\n",
    "#medf = med.fit(method=['powell'])\n",
    "medf = med.fit(free=free,method=['nm'])\n",
    "print(medf.summary())"
   ]
  },
  {
   "cell_type": "code",
   "execution_count": 35,
   "metadata": {},
   "outputs": [
    {
     "name": "stdout",
     "output_type": "stream",
     "text": [
      "         Mixed Linear Model Regression Results\n",
      "========================================================\n",
      "Model:            MixedLM Dependent Variable: DV        \n",
      "No. Observations: 90      Method:             REML      \n",
      "No. Groups:       6       Scale:              10196.8198\n",
      "Min. group size:  4       Log-Likelihood:     -542.9181 \n",
      "Max. group size:  51      Converged:          Yes       \n",
      "Mean group size:  15.0                                  \n",
      "--------------------------------------------------------\n",
      "            Coef.   Std.Err.   z   P>|z|  [0.025  0.975]\n",
      "--------------------------------------------------------\n",
      "Intercept   343.521   46.522 7.384 0.000 252.339 434.703\n",
      "IV            0.204    0.119 1.714 0.087  -0.029   0.437\n",
      "Group Var  2344.379   26.770                            \n",
      "========================================================\n",
      "\n",
      "1.7135104532715373\n"
     ]
    }
   ],
   "source": [
    "mad=smf.mixedlm(\"DV~IV\",dataallmap,groups=dataallmap['type'])\n",
    "madf = mad.fit(method=['nm'])\n",
    "print(madf.summary())\n",
    "print(madf.tvalues['IV'])"
   ]
  },
  {
   "cell_type": "code",
   "execution_count": 36,
   "metadata": {},
   "outputs": [
    {
     "name": "stdout",
     "output_type": "stream",
     "text": [
      "            Mixed Linear Model Regression Results\n",
      "=============================================================\n",
      "Model:              MixedLM   Dependent Variable:   DV       \n",
      "No. Observations:   90        Method:               REML     \n",
      "No. Groups:         6         Scale:                9615.5111\n",
      "Min. group size:    4         Log-Likelihood:       -545.6648\n",
      "Max. group size:    51        Converged:            Yes      \n",
      "Mean group size:    15.0                                     \n",
      "-------------------------------------------------------------\n",
      "                 Coef.   Std.Err.   z   P>|z|  [0.025  0.975]\n",
      "-------------------------------------------------------------\n",
      "Intercept        349.626   56.601 6.177 0.000 238.689 460.562\n",
      "IV                 0.159    0.100 1.590 0.112  -0.037   0.354\n",
      "Group Var      14013.473                                     \n",
      "Group x IV Cov    16.772                                     \n",
      "IV Var             0.020                                     \n",
      "=============================================================\n",
      "\n"
     ]
    },
    {
     "name": "stderr",
     "output_type": "stream",
     "text": [
      "C:\\Users\\ljr\\anaconda3\\lib\\site-packages\\statsmodels\\regression\\mixed_linear_model.py:2262: ConvergenceWarning: The Hessian matrix at the estimated parameter values is not positive definite.\n",
      "  warnings.warn(msg, ConvergenceWarning)\n"
     ]
    }
   ],
   "source": [
    "mad=smf.mixedlm(\"DV~IV\",dataallmap,groups=dataallmap['type'],re_formula=\"~IV\")\n",
    "madf = mad.fit(method=['nm'])\n",
    "print(madf.summary())"
   ]
  },
  {
   "cell_type": "code",
   "execution_count": 37,
   "metadata": {},
   "outputs": [
    {
     "name": "stdout",
     "output_type": "stream",
     "text": [
      "            Mixed Linear Model Regression Results\n",
      "=============================================================\n",
      "Model:              MixedLM   Dependent Variable:   DV       \n",
      "No. Observations:   90        Method:               REML     \n",
      "No. Groups:         6         Scale:                9615.5111\n",
      "Min. group size:    4         Log-Likelihood:       -545.6648\n",
      "Max. group size:    51        Converged:            Yes      \n",
      "Mean group size:    15.0                                     \n",
      "-------------------------------------------------------------\n",
      "                 Coef.   Std.Err.   z   P>|z|  [0.025  0.975]\n",
      "-------------------------------------------------------------\n",
      "Intercept        349.626   62.220 5.619 0.000 227.677 471.575\n",
      "IV                 0.159    0.127 1.250 0.211  -0.090   0.407\n",
      "Group Var      14013.473                                     \n",
      "Group x IV Cov    16.772    0.000                            \n",
      "IV Var             0.020                                     \n",
      "=============================================================\n",
      "\n"
     ]
    },
    {
     "name": "stderr",
     "output_type": "stream",
     "text": [
      "C:\\Users\\ljr\\anaconda3\\lib\\site-packages\\statsmodels\\regression\\mixed_linear_model.py:2262: ConvergenceWarning: The Hessian matrix at the estimated parameter values is not positive definite.\n",
      "  warnings.warn(msg, ConvergenceWarning)\n"
     ]
    }
   ],
   "source": [
    "mad=smf.mixedlm(\"DV~IV\",dataallmap,groups=dataallmap['type'],re_formula=\"~IV\")\n",
    "free=sm.regression.mixed_linear_model.MixedLMParams.from_components(\n",
    "np.ones(2),np.eye(2))\n",
    "madf = mad.fit(free=free,method=['nm'])\n",
    "print(madf.summary())"
   ]
  },
  {
   "cell_type": "code",
   "execution_count": 38,
   "metadata": {},
   "outputs": [
    {
     "name": "stdout",
     "output_type": "stream",
     "text": [
      "         Mixed Linear Model Regression Results\n",
      "=======================================================\n",
      "Model:            MixedLM Dependent Variable: DV       \n",
      "No. Observations: 90      Method:             REML     \n",
      "No. Groups:       6       Scale:              3413.9323\n",
      "Min. group size:  4       Log-Likelihood:     -491.3818\n",
      "Max. group size:  51      Converged:          Yes      \n",
      "Mean group size:  15.0                                 \n",
      "-------------------------------------------------------\n",
      "           Coef.  Std.Err.   z    P>|z|  [0.025  0.975]\n",
      "-------------------------------------------------------\n",
      "Intercept 290.323   24.975 11.625 0.000 241.374 339.273\n",
      "IV          0.040    0.107  0.372 0.710  -0.170   0.250\n",
      "Group Var   0.000                                      \n",
      "=======================================================\n",
      "\n",
      "0.3718115673238064\n"
     ]
    },
    {
     "name": "stderr",
     "output_type": "stream",
     "text": [
      "C:\\Users\\ljr\\anaconda3\\lib\\site-packages\\statsmodels\\regression\\mixed_linear_model.py:2238: ConvergenceWarning: The MLE may be on the boundary of the parameter space.\n",
      "  warnings.warn(msg, ConvergenceWarning)\n",
      "C:\\Users\\ljr\\anaconda3\\lib\\site-packages\\statsmodels\\regression\\mixed_linear_model.py:2262: ConvergenceWarning: The Hessian matrix at the estimated parameter values is not positive definite.\n",
      "  warnings.warn(msg, ConvergenceWarning)\n"
     ]
    }
   ],
   "source": [
    "mid=smf.mixedlm(\"DV~IV\",dataallmip,groups=dataallmip['type'])\n",
    "midf = mid.fit(method=['nm'])\n",
    "print(midf.summary())\n",
    "print(midf.tvalues['IV'])"
   ]
  },
  {
   "cell_type": "code",
   "execution_count": 39,
   "metadata": {},
   "outputs": [
    {
     "name": "stdout",
     "output_type": "stream",
     "text": [
      "           Mixed Linear Model Regression Results\n",
      "============================================================\n",
      "Model:               MixedLM  Dependent Variable:  DV       \n",
      "No. Observations:    90       Method:              REML     \n",
      "No. Groups:          6        Scale:               3361.8557\n",
      "Min. group size:     4        Log-Likelihood:      -491.3850\n",
      "Max. group size:     51       Converged:           No       \n",
      "Mean group size:     15.0                                   \n",
      "------------------------------------------------------------\n",
      "                Coef.  Std.Err.   z    P>|z|  [0.025  0.975]\n",
      "------------------------------------------------------------\n",
      "Intercept      291.869   26.105 11.181 0.000 240.704 343.034\n",
      "IV               0.033    0.120  0.272 0.786  -0.203   0.269\n",
      "Group Var      253.808                                      \n",
      "Group x IV Cov  -1.620                                      \n",
      "IV Var           0.010                                      \n",
      "============================================================\n",
      "\n"
     ]
    },
    {
     "name": "stderr",
     "output_type": "stream",
     "text": [
      "C:\\Users\\ljr\\anaconda3\\lib\\site-packages\\statsmodels\\base\\model.py:607: ConvergenceWarning: Maximum Likelihood optimization failed to converge. Check mle_retvals\n",
      "  warnings.warn(\"Maximum Likelihood optimization failed to \"\n",
      "C:\\Users\\ljr\\anaconda3\\lib\\site-packages\\statsmodels\\regression\\mixed_linear_model.py:2207: ConvergenceWarning: MixedLM optimization failed, trying a different optimizer may help.\n",
      "  warnings.warn(msg, ConvergenceWarning)\n",
      "C:\\Users\\ljr\\anaconda3\\lib\\site-packages\\statsmodels\\regression\\mixed_linear_model.py:2219: ConvergenceWarning: Gradient optimization failed, |grad| = 48.757929\n",
      "  warnings.warn(msg, ConvergenceWarning)\n",
      "C:\\Users\\ljr\\anaconda3\\lib\\site-packages\\statsmodels\\regression\\mixed_linear_model.py:2262: ConvergenceWarning: The Hessian matrix at the estimated parameter values is not positive definite.\n",
      "  warnings.warn(msg, ConvergenceWarning)\n"
     ]
    }
   ],
   "source": [
    "mid=smf.mixedlm(\"DV~IV\",dataallmip,groups=dataallmip['type'],re_formula=\"~IV\")\n",
    "midf = mid.fit(method=['nm'])\n",
    "print(midf.summary())"
   ]
  },
  {
   "cell_type": "code",
   "execution_count": 40,
   "metadata": {},
   "outputs": [
    {
     "name": "stdout",
     "output_type": "stream",
     "text": [
      "           Mixed Linear Model Regression Results\n",
      "============================================================\n",
      "Model:               MixedLM  Dependent Variable:  DV       \n",
      "No. Observations:    90       Method:              REML     \n",
      "No. Groups:          6        Scale:               3361.8557\n",
      "Min. group size:     4        Log-Likelihood:      -491.3850\n",
      "Max. group size:     51       Converged:           No       \n",
      "Mean group size:     15.0                                   \n",
      "------------------------------------------------------------\n",
      "                Coef.  Std.Err.   z    P>|z|  [0.025  0.975]\n",
      "------------------------------------------------------------\n",
      "Intercept      291.869   26.148 11.162 0.000 240.620 343.118\n",
      "IV               0.033    0.120  0.272 0.786  -0.203   0.269\n",
      "Group Var      253.808   10.955                             \n",
      "Group x IV Cov  -1.620    0.000                             \n",
      "IV Var           0.010    0.000                             \n",
      "============================================================\n",
      "\n"
     ]
    },
    {
     "name": "stderr",
     "output_type": "stream",
     "text": [
      "C:\\Users\\ljr\\anaconda3\\lib\\site-packages\\statsmodels\\base\\model.py:607: ConvergenceWarning: Maximum Likelihood optimization failed to converge. Check mle_retvals\n",
      "  warnings.warn(\"Maximum Likelihood optimization failed to \"\n",
      "C:\\Users\\ljr\\anaconda3\\lib\\site-packages\\statsmodels\\regression\\mixed_linear_model.py:2207: ConvergenceWarning: MixedLM optimization failed, trying a different optimizer may help.\n",
      "  warnings.warn(msg, ConvergenceWarning)\n",
      "C:\\Users\\ljr\\anaconda3\\lib\\site-packages\\statsmodels\\regression\\mixed_linear_model.py:2219: ConvergenceWarning: Gradient optimization failed, |grad| = 19.893975\n",
      "  warnings.warn(msg, ConvergenceWarning)\n",
      "C:\\Users\\ljr\\anaconda3\\lib\\site-packages\\statsmodels\\regression\\mixed_linear_model.py:2262: ConvergenceWarning: The Hessian matrix at the estimated parameter values is not positive definite.\n",
      "  warnings.warn(msg, ConvergenceWarning)\n"
     ]
    }
   ],
   "source": [
    "mid=smf.mixedlm(\"DV~IV\",dataallmip,groups=dataallmip['type'],re_formula=\"~IV\")\n",
    "free=sm.regression.mixed_linear_model.MixedLMParams.from_components(\n",
    "np.ones(2),np.eye(2))\n",
    "midf = mid.fit(free=free,method=['nm'])\n",
    "print(midf.summary())"
   ]
  },
  {
   "cell_type": "code",
   "execution_count": 41,
   "metadata": {},
   "outputs": [
    {
     "name": "stdout",
     "output_type": "stream",
     "text": [
      "         Mixed Linear Model Regression Results\n",
      "=======================================================\n",
      "Model:            MixedLM Dependent Variable: DV       \n",
      "No. Observations: 90      Method:             REML     \n",
      "No. Groups:       6       Scale:              7165.5089\n",
      "Min. group size:  4       Log-Likelihood:     -526.1052\n",
      "Max. group size:  51      Converged:          Yes      \n",
      "Mean group size:  15.0                                 \n",
      "-------------------------------------------------------\n",
      "             Coef.  Std.Err.   z   P>|z| [0.025  0.975]\n",
      "-------------------------------------------------------\n",
      "Intercept    86.685   20.152 4.302 0.000 47.187 126.182\n",
      "IV            0.317    0.120 2.641 0.008  0.082   0.553\n",
      "Group Var   761.412   14.442                           \n",
      "=======================================================\n",
      "\n",
      "2.6406132505514015\n"
     ]
    }
   ],
   "source": [
    "rd=smf.mixedlm(\"DV~IV\",dataallrp,groups=dataallrp['type'])\n",
    "rdf = rd.fit(method=['nm'])\n",
    "\n",
    "print(rdf.summary())\n",
    "print(rdf.tvalues['IV'])"
   ]
  },
  {
   "cell_type": "code",
   "execution_count": 42,
   "metadata": {},
   "outputs": [
    {
     "name": "stdout",
     "output_type": "stream",
     "text": [
      "           Mixed Linear Model Regression Results\n",
      "===========================================================\n",
      "Model:              MixedLM  Dependent Variable:  DV       \n",
      "No. Observations:   90       Method:              REML     \n",
      "No. Groups:         6        Scale:               6764.9941\n",
      "Min. group size:    4        Log-Likelihood:      -528.8810\n",
      "Max. group size:    51       Converged:           Yes      \n",
      "Mean group size:    15.0                                   \n",
      "-----------------------------------------------------------\n",
      "                Coef.   Std.Err.   z   P>|z| [0.025  0.975]\n",
      "-----------------------------------------------------------\n",
      "Intercept        83.221   43.053 1.933 0.053 -1.161 167.604\n",
      "IV                0.262    0.106 2.468 0.014  0.054   0.470\n",
      "Group Var      9854.120                                    \n",
      "Group x IV Cov   11.792                                    \n",
      "IV Var            0.014                                    \n",
      "===========================================================\n",
      "\n"
     ]
    },
    {
     "name": "stderr",
     "output_type": "stream",
     "text": [
      "C:\\Users\\ljr\\anaconda3\\lib\\site-packages\\statsmodels\\regression\\mixed_linear_model.py:2262: ConvergenceWarning: The Hessian matrix at the estimated parameter values is not positive definite.\n",
      "  warnings.warn(msg, ConvergenceWarning)\n"
     ]
    }
   ],
   "source": [
    "rd=smf.mixedlm(\"DV~IV\",dataallrp,groups=dataallrp['type'],re_formula=\"~IV\")\n",
    "rdf = rd.fit(method=['nm'])\n",
    "\n",
    "print(rdf.summary())"
   ]
  },
  {
   "cell_type": "code",
   "execution_count": 43,
   "metadata": {},
   "outputs": [
    {
     "name": "stdout",
     "output_type": "stream",
     "text": [
      "           Mixed Linear Model Regression Results\n",
      "===========================================================\n",
      "Model:              MixedLM  Dependent Variable:  DV       \n",
      "No. Observations:   90       Method:              REML     \n",
      "No. Groups:         6        Scale:               6764.9941\n",
      "Min. group size:    4        Log-Likelihood:      -528.8810\n",
      "Max. group size:    51       Converged:           Yes      \n",
      "Mean group size:    15.0                                   \n",
      "-----------------------------------------------------------\n",
      "                Coef.   Std.Err.   z   P>|z| [0.025  0.975]\n",
      "-----------------------------------------------------------\n",
      "Intercept        83.221   43.419 1.917 0.055 -1.878 168.321\n",
      "IV                0.262    0.130 2.020 0.043  0.008   0.516\n",
      "Group Var      9854.120                                    \n",
      "Group x IV Cov   11.792    0.000                           \n",
      "IV Var            0.014                                    \n",
      "===========================================================\n",
      "\n"
     ]
    },
    {
     "name": "stderr",
     "output_type": "stream",
     "text": [
      "C:\\Users\\ljr\\anaconda3\\lib\\site-packages\\statsmodels\\regression\\mixed_linear_model.py:2262: ConvergenceWarning: The Hessian matrix at the estimated parameter values is not positive definite.\n",
      "  warnings.warn(msg, ConvergenceWarning)\n"
     ]
    }
   ],
   "source": [
    "rd=smf.mixedlm(\"DV~IV\",dataallrp,groups=dataallrp['type'],re_formula=\"~IV\")\n",
    "free=sm.regression.mixed_linear_model.MixedLMParams.from_components(\n",
    "np.ones(2),np.eye(2))\n",
    "\n",
    "rdf = rd.fit(free=free,method=['nm'])\n",
    "\n",
    "print(rdf.summary())"
   ]
  },
  {
   "cell_type": "code",
   "execution_count": 44,
   "metadata": {},
   "outputs": [
    {
     "name": "stdout",
     "output_type": "stream",
     "text": [
      "         Mixed Linear Model Regression Results\n",
      "=======================================================\n",
      "Model:            MixedLM Dependent Variable: DV       \n",
      "No. Observations: 118     Method:             REML     \n",
      "No. Groups:       6       Scale:              3190.6960\n",
      "Min. group size:  7       Log-Likelihood:     -645.3770\n",
      "Max. group size:  54      Converged:          Yes      \n",
      "Mean group size:  19.7                                 \n",
      "-------------------------------------------------------\n",
      "            Coef.  Std.Err.   z   P>|z|  [0.025  0.975]\n",
      "-------------------------------------------------------\n",
      "Intercept  248.226   25.307 9.809 0.000 198.625 297.826\n",
      "IV           0.137    0.057 2.415 0.016   0.026   0.248\n",
      "Group Var  692.166    9.711                            \n",
      "=======================================================\n",
      "\n",
      "2.4154516400271033\n"
     ]
    }
   ],
   "source": [
    "cmed=smf.mixedlm(\"DV~IV\",cdataallmep,groups=cdataallmep['type'])\n",
    "cmedf = cmed.fit(method=['powell'])\n",
    "print(cmedf.summary())\n",
    "print(cmedf.tvalues['IV'])"
   ]
  },
  {
   "cell_type": "code",
   "execution_count": 45,
   "metadata": {},
   "outputs": [
    {
     "name": "stdout",
     "output_type": "stream",
     "text": [
      "         Mixed Linear Model Regression Results\n",
      "=======================================================\n",
      "Model:            MixedLM Dependent Variable: DV       \n",
      "No. Observations: 118     Method:             REML     \n",
      "No. Groups:       6       Scale:              0.7383   \n",
      "Min. group size:  7       Log-Likelihood:     -156.7946\n",
      "Max. group size:  54      Converged:          Yes      \n",
      "Mean group size:  19.7                                 \n",
      "-------------------------------------------------------\n",
      "               Coef. Std.Err.   z   P>|z| [0.025 0.975]\n",
      "-------------------------------------------------------\n",
      "Intercept      0.027    0.195 0.138 0.891 -0.356  0.409\n",
      "IV             0.165    0.146 1.127 0.260 -0.122  0.451\n",
      "Group Var      0.161    0.153                          \n",
      "Group x IV Cov 0.046    0.084                          \n",
      "IV Var         0.062    0.107                          \n",
      "=======================================================\n",
      "\n"
     ]
    }
   ],
   "source": [
    "cmed=smf.mixedlm(\"DV~IV\",cdataallmepn,groups=cdataallmepn['type'],re_formula=\"~IV\")\n",
    "cmedf = cmed.fit(method=['powell'])\n",
    "print(cmedf.summary())"
   ]
  },
  {
   "cell_type": "code",
   "execution_count": 46,
   "metadata": {},
   "outputs": [
    {
     "name": "stdout",
     "output_type": "stream",
     "text": [
      "           Mixed Linear Model Regression Results\n",
      "============================================================\n",
      "Model:               MixedLM  Dependent Variable:  DV       \n",
      "No. Observations:    118      Method:              REML     \n",
      "No. Groups:          6        Scale:               3063.3450\n",
      "Min. group size:     7        Log-Likelihood:      -644.6384\n",
      "Max. group size:     54       Converged:           Yes      \n",
      "Mean group size:     19.7                                   \n",
      "------------------------------------------------------------\n",
      "                Coef.   Std.Err.   z   P>|z|  [0.025  0.975]\n",
      "------------------------------------------------------------\n",
      "Intercept       258.753   36.192 7.149 0.000 187.818 329.688\n",
      "IV                0.108    0.099 1.095 0.274  -0.086   0.302\n",
      "Group Var      3604.690  104.278                            \n",
      "Group x IV Cov   -9.509    0.282                            \n",
      "IV Var            0.029    0.001                            \n",
      "============================================================\n",
      "\n"
     ]
    }
   ],
   "source": [
    "cmed=smf.mixedlm(\"DV~IV\",cdataallmep,groups=cdataallmep['type'],re_formula=\"~IV\")\n",
    "cmedf = cmed.fit(method=['powell'])\n",
    "print(cmedf.summary())"
   ]
  },
  {
   "cell_type": "code",
   "execution_count": 47,
   "metadata": {},
   "outputs": [
    {
     "name": "stdout",
     "output_type": "stream",
     "text": [
      "         Mixed Linear Model Regression Results\n",
      "========================================================\n",
      "Model:             MixedLM Dependent Variable: DV       \n",
      "No. Observations:  118     Method:             REML     \n",
      "No. Groups:        6       Scale:              8271.5908\n",
      "Min. group size:   7       Log-Likelihood:     -700.4178\n",
      "Max. group size:   54      Converged:          Yes      \n",
      "Mean group size:   19.7                                 \n",
      "--------------------------------------------------------\n",
      "           Coef.   Std.Err.   z    P>|z|  [0.025  0.975]\n",
      "--------------------------------------------------------\n",
      "Intercept  316.740   30.181 10.495 0.000 257.585 375.894\n",
      "IV           0.109    0.052  2.081 0.037   0.006   0.211\n",
      "Group Var 1147.819   11.341                             \n",
      "========================================================\n",
      "\n",
      "2.080994474513404\n"
     ]
    }
   ],
   "source": [
    "cmad=smf.mixedlm(\"DV~IV\",cdataallmap,groups=cdataallmap['type'])\n",
    "cmadf = cmad.fit(method=['powell'])\n",
    "print(cmadf.summary())\n",
    "print(cmadf.tvalues['IV'])"
   ]
  },
  {
   "cell_type": "code",
   "execution_count": 48,
   "metadata": {},
   "outputs": [
    {
     "name": "stdout",
     "output_type": "stream",
     "text": [
      "          Mixed Linear Model Regression Results\n",
      "=========================================================\n",
      "Model:              MixedLM Dependent Variable: DV       \n",
      "No. Observations:   118     Method:             REML     \n",
      "No. Groups:         6       Scale:              0.8581   \n",
      "Min. group size:    7       Log-Likelihood:     -163.4623\n",
      "Max. group size:    54      Converged:          Yes      \n",
      "Mean group size:    19.7                                 \n",
      "---------------------------------------------------------\n",
      "               Coef.  Std.Err.   z    P>|z| [0.025 0.975]\n",
      "---------------------------------------------------------\n",
      "Intercept      -0.063    0.182 -0.345 0.730 -0.420  0.295\n",
      "IV              0.201    0.098  2.063 0.039  0.010  0.392\n",
      "Group Var       0.126    0.121                           \n",
      "Group x IV Cov -0.027    0.055                           \n",
      "IV Var          0.006    0.052                           \n",
      "=========================================================\n",
      "\n"
     ]
    },
    {
     "name": "stderr",
     "output_type": "stream",
     "text": [
      "C:\\Users\\ljr\\anaconda3\\lib\\site-packages\\statsmodels\\regression\\mixed_linear_model.py:2238: ConvergenceWarning: The MLE may be on the boundary of the parameter space.\n",
      "  warnings.warn(msg, ConvergenceWarning)\n"
     ]
    }
   ],
   "source": [
    "cmad=smf.mixedlm(\"DV~IV\",cdataallmapn,groups=cdataallmapn['type'],re_formula=\"~IV\")\n",
    "cmadf = cmad.fit(method=['powell'])\n",
    "\n",
    "print(cmadf.summary())"
   ]
  },
  {
   "cell_type": "code",
   "execution_count": 49,
   "metadata": {},
   "outputs": [
    {
     "name": "stdout",
     "output_type": "stream",
     "text": [
      "           Mixed Linear Model Regression Results\n",
      "============================================================\n",
      "Model:               MixedLM  Dependent Variable:  DV       \n",
      "No. Observations:    118      Method:              REML     \n",
      "No. Groups:          6        Scale:               8115.5807\n",
      "Min. group size:     7        Log-Likelihood:      -700.3511\n",
      "Max. group size:     54       Converged:           Yes      \n",
      "Mean group size:     19.7                                   \n",
      "------------------------------------------------------------\n",
      "                Coef.   Std.Err.   z   P>|z|  [0.025  0.975]\n",
      "------------------------------------------------------------\n",
      "Intercept       309.795   43.951 7.049 0.000 223.652 395.937\n",
      "IV                0.125    0.065 1.925 0.054  -0.002   0.253\n",
      "Group Var      6606.948  173.679                            \n",
      "Group x IV Cov   -6.629    0.247                            \n",
      "IV Var            0.007    0.000                            \n",
      "============================================================\n",
      "\n"
     ]
    },
    {
     "name": "stderr",
     "output_type": "stream",
     "text": [
      "C:\\Users\\ljr\\anaconda3\\lib\\site-packages\\statsmodels\\regression\\mixed_linear_model.py:2238: ConvergenceWarning: The MLE may be on the boundary of the parameter space.\n",
      "  warnings.warn(msg, ConvergenceWarning)\n"
     ]
    }
   ],
   "source": [
    "cmad=smf.mixedlm(\"DV~IV\",cdataallmap,groups=cdataallmap['type'],re_formula=\"~IV\")\n",
    "cmadf = cmad.fit(method=['powell'])\n",
    "\n",
    "print(cmadf.summary())"
   ]
  },
  {
   "cell_type": "code",
   "execution_count": 50,
   "metadata": {},
   "outputs": [
    {
     "name": "stdout",
     "output_type": "stream",
     "text": [
      "           Mixed Linear Model Regression Results\n",
      "============================================================\n",
      "Model:               MixedLM  Dependent Variable:  DV       \n",
      "No. Observations:    118      Method:              REML     \n",
      "No. Groups:          6        Scale:               8115.5807\n",
      "Min. group size:     7        Log-Likelihood:      -700.3511\n",
      "Max. group size:     54       Converged:           Yes      \n",
      "Mean group size:     19.7                                   \n",
      "------------------------------------------------------------\n",
      "                Coef.   Std.Err.   z   P>|z|  [0.025  0.975]\n",
      "------------------------------------------------------------\n",
      "Intercept       309.795   43.951 7.049 0.000 223.652 395.937\n",
      "IV                0.125    0.065 1.925 0.054  -0.002   0.253\n",
      "Group Var      6606.948  173.679                            \n",
      "Group x IV Cov   -6.629    0.247                            \n",
      "IV Var            0.007    0.000                            \n",
      "============================================================\n",
      "\n"
     ]
    },
    {
     "name": "stderr",
     "output_type": "stream",
     "text": [
      "C:\\Users\\ljr\\anaconda3\\lib\\site-packages\\statsmodels\\regression\\mixed_linear_model.py:2238: ConvergenceWarning: The MLE may be on the boundary of the parameter space.\n",
      "  warnings.warn(msg, ConvergenceWarning)\n"
     ]
    }
   ],
   "source": [
    "cmad=smf.mixedlm(\"DV~IV\",cdataallmap,groups=cdataallmap['type'],re_formula=\"~IV\")\n",
    "cmadf = cmad.fit(method=['powell'])\n",
    "free=sm.regression.mixed_linear_model.MixedLMParams.from_components(\n",
    "np.ones(2),np.eye(2))\n",
    "\n",
    "print(cmadf.summary())"
   ]
  },
  {
   "cell_type": "code",
   "execution_count": 51,
   "metadata": {},
   "outputs": [
    {
     "name": "stdout",
     "output_type": "stream",
     "text": [
      "         Mixed Linear Model Regression Results\n",
      "=======================================================\n",
      "Model:            MixedLM Dependent Variable: DV       \n",
      "No. Observations: 118     Method:             REML     \n",
      "No. Groups:       6       Scale:              3584.7022\n",
      "Min. group size:  7       Log-Likelihood:     -651.7120\n",
      "Max. group size:  54      Converged:          Yes      \n",
      "Mean group size:  19.7                                 \n",
      "-------------------------------------------------------\n",
      "            Coef.  Std.Err.   z   P>|z|  [0.025  0.975]\n",
      "-------------------------------------------------------\n",
      "Intercept  192.946   25.610 7.534 0.000 142.750 243.141\n",
      "IV           0.189    0.070 2.708 0.007   0.052   0.325\n",
      "Group Var  669.391    9.137                            \n",
      "=======================================================\n",
      "\n",
      "2.707593151670359\n"
     ]
    }
   ],
   "source": [
    "cmid=smf.mixedlm(\"DV~IV\",cdataallmip,groups=cdataallmip['type'])\n",
    "cmidf = cmid.fit(method=['nm'])\n",
    "print(cmidf.summary())\n",
    "print(cmidf.tvalues['IV'])"
   ]
  },
  {
   "cell_type": "code",
   "execution_count": 52,
   "metadata": {},
   "outputs": [
    {
     "name": "stdout",
     "output_type": "stream",
     "text": [
      "         Mixed Linear Model Regression Results\n",
      "=======================================================\n",
      "Model:            MixedLM Dependent Variable: DV       \n",
      "No. Observations: 118     Method:             REML     \n",
      "No. Groups:       6       Scale:              0.7448   \n",
      "Min. group size:  7       Log-Likelihood:     -157.2725\n",
      "Max. group size:  54      Converged:          Yes      \n",
      "Mean group size:  19.7                                 \n",
      "-------------------------------------------------------\n",
      "               Coef. Std.Err.   z   P>|z| [0.025 0.975]\n",
      "-------------------------------------------------------\n",
      "Intercept      0.117    0.173 0.673 0.501 -0.223  0.456\n",
      "IV             0.138    0.176 0.787 0.431 -0.206  0.483\n",
      "Group Var      0.113    0.110                          \n",
      "Group x IV Cov 0.008    0.074                          \n",
      "IV Var         0.091    0.151                          \n",
      "=======================================================\n",
      "\n"
     ]
    }
   ],
   "source": [
    "cmid=smf.mixedlm(\"DV~IV\",cdataallmipn,groups=cdataallmipn['type'],re_formula=\"~IV\")\n",
    "cmidf = cmid.fit(method=['powell'])\n",
    "print(cmidf.summary())"
   ]
  },
  {
   "cell_type": "code",
   "execution_count": 53,
   "metadata": {},
   "outputs": [
    {
     "name": "stdout",
     "output_type": "stream",
     "text": [
      "           Mixed Linear Model Regression Results\n",
      "============================================================\n",
      "Model:               MixedLM  Dependent Variable:  DV       \n",
      "No. Observations:    118      Method:              REML     \n",
      "No. Groups:          6        Scale:               3446.8815\n",
      "Min. group size:     7        Log-Likelihood:      -650.9357\n",
      "Max. group size:     54       Converged:           Yes      \n",
      "Mean group size:     19.7                                   \n",
      "------------------------------------------------------------\n",
      "                Coef.   Std.Err.   z   P>|z|  [0.025  0.975]\n",
      "------------------------------------------------------------\n",
      "Intercept       214.046   43.392 4.933 0.000 128.999 299.094\n",
      "IV                0.121    0.135 0.891 0.373  -0.145   0.386\n",
      "Group Var      5050.362  116.781                            \n",
      "Group x IV Cov  -14.837    0.368                            \n",
      "IV Var            0.049    0.001                            \n",
      "============================================================\n",
      "\n"
     ]
    }
   ],
   "source": [
    "cmid=smf.mixedlm(\"DV~IV\",cdataallmip,groups=cdataallmip['type'],re_formula=\"~IV\")\n",
    "cmidf = cmid.fit(method=['powell'])\n",
    "print(cmidf.summary())"
   ]
  },
  {
   "cell_type": "code",
   "execution_count": 54,
   "metadata": {},
   "outputs": [
    {
     "name": "stdout",
     "output_type": "stream",
     "text": [
      "           Mixed Linear Model Regression Results\n",
      "============================================================\n",
      "Model:               MixedLM  Dependent Variable:  DV       \n",
      "No. Observations:    118      Method:              REML     \n",
      "No. Groups:          6        Scale:               3446.8815\n",
      "Min. group size:     7        Log-Likelihood:      -650.9357\n",
      "Max. group size:     54       Converged:           Yes      \n",
      "Mean group size:     19.7                                   \n",
      "------------------------------------------------------------\n",
      "                Coef.   Std.Err.   z   P>|z|  [0.025  0.975]\n",
      "------------------------------------------------------------\n",
      "Intercept       214.046   43.392 4.933 0.000 128.999 299.094\n",
      "IV                0.121    0.135 0.891 0.373  -0.145   0.386\n",
      "Group Var      5050.362  116.781                            \n",
      "Group x IV Cov  -14.837    0.368                            \n",
      "IV Var            0.049    0.001                            \n",
      "============================================================\n",
      "\n"
     ]
    }
   ],
   "source": [
    "cmid=smf.mixedlm(\"DV~IV\",cdataallmip,groups=cdataallmip['type'],re_formula=\"~IV\")\n",
    "cmidf = cmid.fit(method=['powell'])\n",
    "free=sm.regression.mixed_linear_model.MixedLMParams.from_components(\n",
    "np.ones(2),np.eye(2))\n",
    "print(cmidf.summary())"
   ]
  },
  {
   "cell_type": "code",
   "execution_count": 55,
   "metadata": {},
   "outputs": [
    {
     "name": "stdout",
     "output_type": "stream",
     "text": [
      "         Mixed Linear Model Regression Results\n",
      "=======================================================\n",
      "Model:            MixedLM Dependent Variable: DV       \n",
      "No. Observations: 118     Method:             REML     \n",
      "No. Groups:       6       Scale:              7621.5534\n",
      "Min. group size:  7       Log-Likelihood:     -694.7340\n",
      "Max. group size:  54      Converged:          Yes      \n",
      "Mean group size:  19.7                                 \n",
      "-------------------------------------------------------\n",
      "             Coef.  Std.Err.   z   P>|z| [0.025  0.975]\n",
      "-------------------------------------------------------\n",
      "Intercept    93.720   17.272 5.426 0.000 59.867 127.573\n",
      "IV            0.155    0.059 2.635 0.008  0.040   0.270\n",
      "Group Var   619.740    8.112                           \n",
      "=======================================================\n",
      "\n",
      "2.6349986293063505\n"
     ]
    }
   ],
   "source": [
    "crd=smf.mixedlm(\"DV~IV\",cdataallrp,groups=cdataallrp['type'])\n",
    "crdf = crd.fit(method=['nm'])\n",
    "print(crdf.summary())\n",
    "print(crdf.tvalues['IV'])"
   ]
  },
  {
   "cell_type": "code",
   "execution_count": 56,
   "metadata": {},
   "outputs": [
    {
     "name": "stdout",
     "output_type": "stream",
     "text": [
      "          Mixed Linear Model Regression Results\n",
      "=========================================================\n",
      "Model:              MixedLM Dependent Variable: DV       \n",
      "No. Observations:   118     Method:             REML     \n",
      "No. Groups:         6       Scale:              0.8899   \n",
      "Min. group size:    7       Log-Likelihood:     -164.6828\n",
      "Max. group size:    54      Converged:          Yes      \n",
      "Mean group size:    19.7                                 \n",
      "---------------------------------------------------------\n",
      "               Coef.  Std.Err.   z    P>|z| [0.025 0.975]\n",
      "---------------------------------------------------------\n",
      "Intercept      -0.134    0.163 -0.822 0.411 -0.454  0.186\n",
      "IV              0.239    0.103  2.325 0.020  0.037  0.440\n",
      "Group Var       0.072    0.087                           \n",
      "Group x IV Cov -0.003    0.041                           \n",
      "IV Var          0.002    0.034                           \n",
      "=========================================================\n",
      "\n"
     ]
    },
    {
     "name": "stderr",
     "output_type": "stream",
     "text": [
      "C:\\Users\\ljr\\anaconda3\\lib\\site-packages\\statsmodels\\regression\\mixed_linear_model.py:2238: ConvergenceWarning: The MLE may be on the boundary of the parameter space.\n",
      "  warnings.warn(msg, ConvergenceWarning)\n"
     ]
    }
   ],
   "source": [
    "crd=smf.mixedlm(\"DV~IV\",cdataallrpn,groups=cdataallrpn['type'],re_formula=\"~IV\")\n",
    "crdf = crd.fit(method=['powell'])\n",
    "print(crdf.summary())"
   ]
  },
  {
   "cell_type": "code",
   "execution_count": 57,
   "metadata": {},
   "outputs": [
    {
     "name": "stdout",
     "output_type": "stream",
     "text": [
      "           Mixed Linear Model Regression Results\n",
      "===========================================================\n",
      "Model:              MixedLM  Dependent Variable:  DV       \n",
      "No. Observations:   118      Method:              REML     \n",
      "No. Groups:         6        Scale:               7371.0986\n",
      "Min. group size:    7        Log-Likelihood:      -696.4700\n",
      "Max. group size:    54       Converged:           Yes      \n",
      "Mean group size:    19.7                                   \n",
      "-----------------------------------------------------------\n",
      "                Coef.   Std.Err.   z   P>|z| [0.025  0.975]\n",
      "-----------------------------------------------------------\n",
      "Intercept        87.432   34.009 2.571 0.010 20.775 154.089\n",
      "IV                0.163    0.075 2.179 0.029  0.016   0.309\n",
      "Group Var      5841.579                                    \n",
      "Group x IV Cov   -6.292    0.123                           \n",
      "IV Var            0.008    0.000                           \n",
      "===========================================================\n",
      "\n"
     ]
    },
    {
     "name": "stderr",
     "output_type": "stream",
     "text": [
      "C:\\Users\\ljr\\anaconda3\\lib\\site-packages\\statsmodels\\regression\\mixed_linear_model.py:2238: ConvergenceWarning: The MLE may be on the boundary of the parameter space.\n",
      "  warnings.warn(msg, ConvergenceWarning)\n",
      "C:\\Users\\ljr\\anaconda3\\lib\\site-packages\\statsmodels\\regression\\mixed_linear_model.py:2262: ConvergenceWarning: The Hessian matrix at the estimated parameter values is not positive definite.\n",
      "  warnings.warn(msg, ConvergenceWarning)\n"
     ]
    }
   ],
   "source": [
    "crd=smf.mixedlm(\"DV~IV\",cdataallrp,groups=cdataallrp['type'],re_formula=\"~IV\")\n",
    "crdf = crd.fit(method=['powell'])\n",
    "print(crdf.summary())"
   ]
  },
  {
   "cell_type": "code",
   "execution_count": 58,
   "metadata": {},
   "outputs": [
    {
     "name": "stdout",
     "output_type": "stream",
     "text": [
      "          Mixed Linear Model Regression Results\n",
      "==========================================================\n",
      "Model:             MixedLM  Dependent Variable:  DV       \n",
      "No. Observations:  118      Method:              REML     \n",
      "No. Groups:        6        Scale:               7607.1116\n",
      "Min. group size:   7        Log-Likelihood:      -694.7288\n",
      "Max. group size:   54       Converged:           Yes      \n",
      "Mean group size:   19.7                                   \n",
      "----------------------------------------------------------\n",
      "                Coef.  Std.Err.   z   P>|z| [0.025  0.975]\n",
      "----------------------------------------------------------\n",
      "Intercept       93.386   17.996 5.189 0.000 58.114 128.657\n",
      "IV               0.158    0.068 2.325 0.020  0.025   0.291\n",
      "Group Var      706.630   13.438                           \n",
      "Group x IV Cov  -0.345    0.041                           \n",
      "IV Var           0.001    0.000                           \n",
      "==========================================================\n",
      "\n"
     ]
    },
    {
     "name": "stderr",
     "output_type": "stream",
     "text": [
      "C:\\Users\\ljr\\anaconda3\\lib\\site-packages\\statsmodels\\regression\\mixed_linear_model.py:2238: ConvergenceWarning: The MLE may be on the boundary of the parameter space.\n",
      "  warnings.warn(msg, ConvergenceWarning)\n"
     ]
    }
   ],
   "source": [
    "crd=smf.mixedlm(\"DV~IV\",cdataallrp,groups=cdataallrp['type'],re_formula=\"~IV\")\n",
    "crdf = crd.fit(method=['nm'])\n",
    "free=sm.regression.mixed_linear_model.MixedLMParams.from_components(\n",
    "np.ones(2),np.eye(2))\n",
    "print(crdf.summary())"
   ]
  },
  {
   "cell_type": "code",
   "execution_count": 59,
   "metadata": {},
   "outputs": [
    {
     "data": {
      "text/plain": [
       "[(-10.0, 800.0)]"
      ]
     },
     "execution_count": 59,
     "metadata": {},
     "output_type": "execute_result"
    },
    {
     "data": {
      "image/png": "[encoded data removed]",
      "text/plain": [
       "<Figure size 432x288 with 1 Axes>"
      ]
     },
     "metadata": {
      "needs_background": "light"
     },
     "output_type": "display_data"
    }
   ],
   "source": [
    "#ax = sns.scatterplot(x=tdatas[:,3], y=tdatasc[:,3])\n",
    "\n",
    "fig, ax=plt.subplots()\n",
    "ax.spines['right'].set_visible(False)\n",
    "ax.spines['top'].set_visible(False)\n",
    "plt.rc('font',family='Times New Roman')\n",
    "#ax=sns.lmplot(x='Mothers f0_range', y='Infants f0_range',data=f0rangep, sharex=False, sharey=False)\n",
    "plt.scatter(dataallrp['IV'],dataallrp['DV'])\n",
    "linear_model=np.polyfit(dataallrp['IV'],dataallrp['DV'],1)\n",
    "linear_model_fn=np.poly1d(linear_model)\n",
    "plt.plot(dataallrp['IV'],linear_model_fn(dataallrp['IV']),color=\"k\")\n",
    "plt.xticks(fontsize=14)\n",
    "plt.yticks(fontsize=14)\n",
    "ax.set(xlim=(-10, 500))\n",
    "ax.set(ylim=(-10, 800))"
   ]
  },
  {
   "cell_type": "code",
   "execution_count": 60,
   "metadata": {},
   "outputs": [
    {
     "data": {
      "text/plain": [
       "[(-10.0, 800.0)]"
      ]
     },
     "execution_count": 60,
     "metadata": {},
     "output_type": "execute_result"
    },
    {
     "data": {
      "image/png": "[encoded data removed]",
      "text/plain": [
       "<Figure size 432x288 with 1 Axes>"
      ]
     },
     "metadata": {
      "needs_background": "light"
     },
     "output_type": "display_data"
    }
   ],
   "source": [
    "#ax = sns.scatterplot(x=tdatas[:,3], y=tdatasc[:,3])\n",
    "#ax=sns.lmplot(x='Mothers f0_ranges', y='Infants f0_ranges',data=f0rangeps, sharex=False, sharey=False)\n",
    "fig, ax=plt.subplots()\n",
    "ax.spines['right'].set_visible(False)\n",
    "ax.spines['top'].set_visible(False)\n",
    "plt.rc('font',family='Times New Roman')\n",
    "plt.scatter(cdataallrp['IV'],cdataallrp['DV'])\n",
    "linear_model=np.polyfit(cdataallrp['IV'],cdataallrp['DV'],1)\n",
    "linear_model_fn=np.poly1d(linear_model)\n",
    "plt.plot(cdataallrp['IV'],linear_model_fn(cdataallrp['IV']),color=\"k\")\n",
    "plt.xticks(fontsize=14)\n",
    "plt.yticks(fontsize=14)\n",
    "ax.set(ylim=(-10, 500))\n",
    "ax.set(xlim=(-10, 800))"
   ]
  },
  {
   "cell_type": "code",
   "execution_count": 61,
   "metadata": {},
   "outputs": [
    {
     "data": {
      "text/plain": [
       "[(100.0, 1100.0)]"
      ]
     },
     "execution_count": 61,
     "metadata": {},
     "output_type": "execute_result"
    },
    {
     "data": {
      "image/png": "[encoded data removed]",
      "text/plain": [
       "<Figure size 432x288 with 1 Axes>"
      ]
     },
     "metadata": {
      "needs_background": "light"
     },
     "output_type": "display_data"
    }
   ],
   "source": [
    "#ax = sns.scatterplot(x=tdatas[:,3], y=tdatasc[:,3])\n",
    "#ax=sns.lmplot(x='Mothers f0_max', y='Infants f0_max',data=f0maxp, sharex=False, sharey=False)\n",
    "fig, ax=plt.subplots()\n",
    "ax.spines['right'].set_visible(False)\n",
    "ax.spines['top'].set_visible(False)\n",
    "plt.rc('font',family='Times New Roman')\n",
    "plt.scatter(dataallmap['IV'],dataallmap['DV'])\n",
    "linear_model=np.polyfit(dataallmap['IV'],dataallmap['DV'],1)\n",
    "linear_model_fn=np.poly1d(linear_model)\n",
    "plt.plot(dataallmap['IV'],linear_model_fn(dataallmap['IV']),color=\"k\")\n",
    "plt.xticks(fontsize=14)\n",
    "plt.yticks(fontsize=14)\n",
    "ax.set(xlim=(100, 650))\n",
    "ax.set(ylim=(100, 1100))"
   ]
  },
  {
   "cell_type": "code",
   "execution_count": 62,
   "metadata": {},
   "outputs": [
    {
     "data": {
      "text/plain": [
       "[(100.0, 1100.0)]"
      ]
     },
     "execution_count": 62,
     "metadata": {},
     "output_type": "execute_result"
    },
    {
     "data": {
      "image/png": "[encoded data removed]",
      "text/plain": [
       "<Figure size 432x288 with 1 Axes>"
      ]
     },
     "metadata": {
      "needs_background": "light"
     },
     "output_type": "display_data"
    }
   ],
   "source": [
    "#ax = sns.scatterplot(x=tdatas[:,3], y=tdatasc[:,3])\n",
    "fig, ax=plt.subplots()\n",
    "ax.spines['right'].set_visible(False)\n",
    "ax.spines['top'].set_visible(False)\n",
    "plt.rc('font',family='Times New Roman')\n",
    "plt.scatter(cdataallmap['IV'],cdataallmap['DV'])\n",
    "linear_model=np.polyfit(cdataallmap['IV'],cdataallmap['DV'],1)\n",
    "linear_model_fn=np.poly1d(linear_model)\n",
    "plt.plot(cdataallmap['IV'],linear_model_fn(cdataallmap['IV']),color=\"k\")\n",
    "plt.xticks(fontsize=14)\n",
    "plt.yticks(fontsize=14)\n",
    "ax.set(ylim=(100, 610))\n",
    "ax.set(xlim=(100, 1100))\n"
   ]
  },
  {
   "cell_type": "code",
   "execution_count": 63,
   "metadata": {},
   "outputs": [
    {
     "data": {
      "text/plain": [
       "[(100.0, 450.0)]"
      ]
     },
     "execution_count": 63,
     "metadata": {},
     "output_type": "execute_result"
    },
    {
     "data": {
      "image/png": "[encoded data removed]",
      "text/plain": [
       "<Figure size 432x288 with 1 Axes>"
      ]
     },
     "metadata": {
      "needs_background": "light"
     },
     "output_type": "display_data"
    }
   ],
   "source": [
    "fig, ax=plt.subplots()\n",
    "ax.spines['right'].set_visible(False)\n",
    "ax.spines['top'].set_visible(False)\n",
    "plt.rc('font',family='Times New Roman')\n",
    "plt.scatter(dataallmip['IV'],dataallmip['DV'])\n",
    "linear_model=np.polyfit(dataallmip['IV'],dataallmip['DV'],1)\n",
    "linear_model_fn=np.poly1d(linear_model)\n",
    "plt.plot(dataallmip['IV'],linear_model_fn(dataallmip['IV']),color=\"k\")\n",
    "plt.xticks(fontsize=14)\n",
    "plt.yticks(fontsize=14)\n",
    "ax.set(ylim=(100, 550))\n",
    "ax.set(xlim=(100, 450))"
   ]
  },
  {
   "cell_type": "code",
   "execution_count": 64,
   "metadata": {},
   "outputs": [
    {
     "data": {
      "text/plain": [
       "[(100.0, 600.0)]"
      ]
     },
     "execution_count": 64,
     "metadata": {},
     "output_type": "execute_result"
    },
    {
     "data": {
      "image/png": "[encoded data removed]",
      "text/plain": [
       "<Figure size 432x288 with 1 Axes>"
      ]
     },
     "metadata": {
      "needs_background": "light"
     },
     "output_type": "display_data"
    }
   ],
   "source": [
    "#ax = sns.scatterplot(x=tdatas[:,3], y=tdatasc[:,3])\n",
    "fig, ax=plt.subplots()\n",
    "ax.spines['right'].set_visible(False)\n",
    "ax.spines['top'].set_visible(False)\n",
    "plt.rc('font',family='Times New Roman')\n",
    "plt.scatter(cdataallmip['IV'],cdataallmip['DV'])\n",
    "linear_model=np.polyfit(cdataallmip['IV'],cdataallmip['DV'],1)\n",
    "linear_model_fn=np.poly1d(linear_model)\n",
    "plt.plot(cdataallmip['IV'],linear_model_fn(cdataallmip['IV']),color=\"k\")\n",
    "plt.xticks(fontsize=14)\n",
    "plt.yticks(fontsize=14)\n",
    "ax.set(xlim=(100, 600))\n",
    "ax.set(ylim=(100, 600))"
   ]
  },
  {
   "cell_type": "code",
   "execution_count": 65,
   "metadata": {},
   "outputs": [
    {
     "data": {
      "text/plain": [
       "[(100.0, 600.0)]"
      ]
     },
     "execution_count": 65,
     "metadata": {},
     "output_type": "execute_result"
    },
    {
     "data": {
      "image/png": "[encoded data removed]",
      "text/plain": [
       "<Figure size 432x288 with 1 Axes>"
      ]
     },
     "metadata": {
      "needs_background": "light"
     },
     "output_type": "display_data"
    }
   ],
   "source": [
    "#ax = sns.scatterplot(x=tdatas[:,3], y=tdatasc[:,3])\n",
    "fig, ax=plt.subplots()\n",
    "ax.spines['right'].set_visible(False)\n",
    "ax.spines['top'].set_visible(False)\n",
    "plt.rc('font',family='Times New Roman')\n",
    "plt.scatter(dataallmep['IV'],dataallmep['DV'])\n",
    "linear_model=np.polyfit(dataallmep['IV'],dataallmep['DV'],1)\n",
    "linear_model_fn=np.poly1d(linear_model)\n",
    "plt.plot(dataallmep['IV'],linear_model_fn(dataallmep['IV']),color=\"k\")\n",
    "plt.xticks(fontsize=14)\n",
    "plt.yticks(fontsize=14)\n",
    "ax.set(ylim=(100, 900))\n",
    "ax.set(xlim=(100, 600))"
   ]
  },
  {
   "cell_type": "code",
   "execution_count": 66,
   "metadata": {},
   "outputs": [
    {
     "data": {
      "text/plain": [
       "[(50.0, 600.0)]"
      ]
     },
     "execution_count": 66,
     "metadata": {},
     "output_type": "execute_result"
    },
    {
     "data": {
      "image/png": "[encoded data removed]",
      "text/plain": [
       "<Figure size 432x288 with 1 Axes>"
      ]
     },
     "metadata": {
      "needs_background": "light"
     },
     "output_type": "display_data"
    }
   ],
   "source": [
    "#ax = sns.scatterplot(x=tdatas[:,3], y=tdatasc[:,3])\n",
    "\n",
    "fig, ax=plt.subplots()\n",
    "ax.spines['right'].set_visible(False)\n",
    "ax.spines['top'].set_visible(False)\n",
    "plt.rc('font',family='Times New Roman')\n",
    "plt.scatter(cdataallmep['IV'],cdataallmep['DV'])\n",
    "linear_model=np.polyfit(cdataallmep['IV'],cdataallmep['DV'],1)\n",
    "linear_model_fn=np.poly1d(linear_model)\n",
    "plt.plot(cdataallmep['IV'],linear_model_fn(cdataallmep['IV']),color=\"k\")\n",
    "plt.xticks(fontsize=14)\n",
    "plt.yticks(fontsize=14)\n",
    "ax.set(xlim=(50, 900))\n",
    "ax.set(ylim=(50, 600))"
   ]
  },
  {
   "cell_type": "code",
   "execution_count": 67,
   "metadata": {},
   "outputs": [
    {
     "name": "stdout",
     "output_type": "stream",
     "text": [
      "chismec= 96.97266116061743 chismem= 64.18736818001211\n",
      "chismac= 164.8770781209929 chismam= 97.3641841267192\n",
      "chismic= 96.97266116061743 chismim= 67.57790191746416\n",
      "chisrc= 139.3747466013011 chisrm= 92.06619461749835\n"
     ]
    }
   ],
   "source": [
    "print('chismec=',np.std(cdataallmep['IV']),'chismem=',np.std(cdataallmep['DV']))\n",
    "print('chismac=',np.std(cdataallmap['IV']),'chismam=',np.std(cdataallmap['DV']))\n",
    "print('chismic=',np.std(cdataallmep['IV']),'chismim=',np.std(cdataallmip['DV']))\n",
    "print('chisrc=',np.std(cdataallrp['IV']),'chisrm=',np.std(cdataallrp['DV']))"
   ]
  },
  {
   "cell_type": "code",
   "execution_count": 68,
   "metadata": {},
   "outputs": [
    {
     "name": "stdout",
     "output_type": "stream",
     "text": [
      "fasmem= 60.364884668049584 fasmem= 70.6605070233226\n",
      "fasmam= 91.85783425862823 fasmam= 106.77981185100738\n",
      "fasmim= 60.364884668049584 fasmim= 57.821225151810644\n",
      "fasrm= 78.3899298333771 fasrm= 89.9050683685865\n"
     ]
    }
   ],
   "source": [
    "print('fasmem=',np.std(dataallmep['IV']),'fasmem=',np.std(dataallmep['DV']))\n",
    "print('fasmam=',np.std(dataallmap['IV']),'fasmam=',np.std(dataallmap['DV']))\n",
    "print('fasmim=',np.std(dataallmep['IV']),'fasmim=',np.std(dataallmip['DV']))\n",
    "print('fasrm=',np.std(dataallrp['IV']),'fasrm=',np.std(dataallrp['DV']))"
   ]
  }
 ],
 "metadata": {
  "kernelspec": {
   "display_name": "Python 3",
   "language": "python",
   "name": "python3"
  },
  "language_info": {
   "codemirror_mode": {
    "name": "ipython",
    "version": 3
   },
   "file_extension": ".py",
   "mimetype": "text/x-python",
   "name": "python",
   "nbconvert_exporter": "python",
   "pygments_lexer": "ipython3",
   "version": "3.8.5"
  }
 },
 "nbformat": 4,
 "nbformat_minor": 4
}
