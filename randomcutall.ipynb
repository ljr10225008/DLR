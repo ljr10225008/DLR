{
 "cells": [
  {
   "cell_type": "code",
   "execution_count": 11,
   "metadata": {},
   "outputs": [],
   "source": [
    "import librosa\n",
    "import os\n",
    "import pandas as pd\n",
    "import numpy as np\n",
    "import soundfile as sf"
   ]
  },
  {
   "cell_type": "code",
   "execution_count": 12,
   "metadata": {},
   "outputs": [],
   "source": [
    "path=r'F:\\DLR\\matchedspeakersound\\new_0730\\sound\\18m'\n",
    "pathtext=r'F:\\DLR\\random0730text\\18m'\n",
    "pathsave=r'F:\\DLR\\random0730\\18m'"
   ]
  },
  {
   "cell_type": "code",
   "execution_count": 13,
   "metadata": {},
   "outputs": [],
   "source": [
    "folders=sorted(os.listdir(path))\n",
    "folderstext=sorted(os.listdir(pathtext))"
   ]
  },
  {
   "cell_type": "code",
   "execution_count": 14,
   "metadata": {},
   "outputs": [],
   "source": [
    "def newfolder(pathin):\n",
    "    folder = os.path.exists(pathin)\n",
    "    if not folder:\n",
    "        os.makedirs(pathin)"
   ]
  },
  {
   "cell_type": "code",
   "execution_count": 15,
   "metadata": {},
   "outputs": [
    {
     "name": "stdout",
     "output_type": "stream",
     "text": [
      "0001-20200106-04_20_37-Audio\n",
      "739.0 1039.0\n",
      "0001-20200106-04_50_39-Audio\n",
      "966.0 1266.0\n",
      "0001-20200106-06_20_43-Audio\n",
      "457.0 757.0\n",
      "0001-20200106-06_50_44-Audio\n",
      "737.0 1037.0\n",
      "0001-20200106-07_50_47-Audio\n",
      "52.0 352.0\n",
      "0001-20200106-08_20_48-Audio\n",
      "599.0 899.0\n",
      "0010-20190223-17_31_05-Audio\n",
      "518.0 818.0\n",
      "0010-20190223-20_01_17-Audio\n",
      "1307.0 1607.0\n",
      "0010-20190223-21_31_26-Audio\n",
      "282.0 582.0\n",
      "0010-20190224-00_01_40-Audio\n",
      "669.0 969.0\n",
      "0010-20190224-02_01_49-Audio\n",
      "541.0 841.0\n",
      "0010-20190224-03_18_53-Audio\n",
      "564.0 864.0\n",
      "0044-20190304-15_31_01-Audio\n",
      "276.0 576.0\n",
      "0044-20190304-18_33_04-Audio\n",
      "1193.0 1493.0\n",
      "0044-20190304-23_14_20-Audio\n",
      "1478.0 1778.0\n",
      "0044-20190305-01_44_10-Audio\n",
      "1374.0 1674.0\n",
      "0044-20190305-22_46_27-Audio\n",
      "136.0 436.0\n",
      "0044-20190305-23_16_28-Audio\n",
      "1438.0 1738.0\n",
      "0037-20191221-16_54_15-Audio\n",
      "261.0 561.0\n",
      "0037-20191221-19_54_24-Audio\n",
      "1156.0 1456.0\n",
      "0037-20191222-00_24_25-Audio\n",
      "682.0 982.0\n",
      "0037-20191222-01_54_30-Audio\n",
      "867.0 1167.0\n",
      "0037-20191225-23_52_12-Audio\n",
      "1211.0 1511.0\n",
      "0037-20191226-00_52_15-Audio\n",
      "1211.0 1511.0\n",
      "0044-20190303-16_31_56-Audio\n",
      "494.0 794.0\n",
      "0044-20190303-21_50_36-Audio\n",
      "1363.0 1663.0\n",
      "0044-20190303-23_50_41-Audio\n",
      "1131.0 1431.0\n",
      "0044-20190304-00_20_42-Audio\n",
      "708.0 1008.0\n",
      "0044-20190304-03_20_51-Audio\n",
      "768.0 1068.0\n",
      "0044-20190304-03_50_52-Audio\n",
      "329.0 629.0\n",
      "0012-20190312-19_24_40-Audio\n",
      "310.0 610.0\n",
      "0012-20190312-19_54_41-Audio\n",
      "551.0 851.0\n",
      "0012-20190312-22_54_50-Audio\n",
      "1406.0 1706.0\n",
      "0012-20190313-01_22_32-Audio\n",
      "196.0 496.0\n",
      "0012-20190313-02_52_36-Audio\n",
      "461.0 761.0\n",
      "0012-20190313-03_22_37-Audio\n",
      "15.0 315.0\n",
      "0035-20190528-19_49_36-Audio\n",
      "625.0 925.0\n",
      "0035-20190528-23_49_41-Audio\n",
      "1296.0 1596.0\n",
      "0035-20190529-01_49_47-Audio\n",
      "834.0 1134.0\n",
      "0035-20190529-02_19_48-Audio\n",
      "1441.0 1741.0\n",
      "0035-20190529-07_48_37-Audio\n",
      "1400.0 1700.0\n",
      "0035-20190529-08_18_39-Audio\n",
      "584.0 884.0\n",
      "0044-20190328-17_50_27-Audio\n",
      "106.0 406.0\n",
      "0044-20190328-18_20_28-Audio\n",
      "72.0 372.0\n",
      "0044-20190328-20_50_35-Audio\n",
      "830.0 1130.0\n",
      "0044-20190328-21_20_36-Audio\n",
      "819.0 1119.0\n",
      "0044-20190329-00_15_33-Audio\n",
      "565.0 865.0\n",
      "0044-20190329-01_15_36-Audio\n",
      "1386.0 1686.0\n"
     ]
    }
   ],
   "source": [
    "for i in range(len(folderstext)):\n",
    "    pathin=pathtext+'\\\\'+folderstext[i]\n",
    "    textall=sorted(os.listdir(pathin))\n",
    "    for j in range(len(textall)):\n",
    "        text=pd.read_csv(pathin+'\\\\'+textall[j])\n",
    "        start=text['Starttime'][0]\n",
    "        end=text['Endtime'][0]\n",
    "        audionamet=textall[j].split('.')[0]\n",
    "        print(audionamet[:-3])\n",
    "        audioname=audionamet[:-3]+'.wav'\n",
    "        x, sr = librosa.load(path+'\\\\'+folderstext[i]+'\\\\'+audioname,sr=None)\n",
    "        datacut=x[int(start*sr):int(end*sr)]\n",
    "        newfolder(pathsave+'\\\\'+folderstext[i])\n",
    "        a=pathsave+'\\\\'+folderstext[i]+'\\\\'+audioname\n",
    "        sf.write(a, datacut, sr, format='wav')\n",
    "        print(start,end)"
   ]
  },
  {
   "cell_type": "code",
   "execution_count": null,
   "metadata": {},
   "outputs": [],
   "source": []
  }
 ],
 "metadata": {
  "kernelspec": {
   "display_name": "Python 3",
   "language": "python",
   "name": "python3"
  },
  "language_info": {
   "codemirror_mode": {
    "name": "ipython",
    "version": 3
   },
   "file_extension": ".py",
   "mimetype": "text/x-python",
   "name": "python",
   "nbconvert_exporter": "python",
   "pygments_lexer": "ipython3",
   "version": "3.8.5"
  }
 },
 "nbformat": 4,
 "nbformat_minor": 4
}
