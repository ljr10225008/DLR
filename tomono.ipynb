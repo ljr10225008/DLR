{
 "cells": [
  {
   "cell_type": "code",
   "execution_count": 18,
   "metadata": {},
   "outputs": [],
   "source": [
    "import librosa\n",
    "import matplotlib.pyplot as plt\n",
    "import librosa.display \n",
    "import numpy as np\n",
    "import sox\n",
    "import os\n",
    "import soundfile as sf\n",
    "from itertools import groupby\n",
    "import pandas as pd\n",
    "import scipy\n",
    "from pydub import AudioSegment"
   ]
  },
  {
   "cell_type": "code",
   "execution_count": 19,
   "metadata": {},
   "outputs": [],
   "source": [
    "pathfolderin=r\"F:\\DLR\\processedbydate\\20240703\\18m\"\n",
    "foldersin= os.listdir(pathfolderin)"
   ]
  },
  {
   "cell_type": "code",
   "execution_count": 20,
   "metadata": {},
   "outputs": [],
   "source": [
    "pathfolderout=r\"F:\\DLR\\processedbydate\\20240703mono\\18m\""
   ]
  },
  {
   "cell_type": "code",
   "execution_count": 21,
   "metadata": {},
   "outputs": [],
   "source": [
    "#patha=r\"F:\\DLR\\processedbydate\\0116\\12maudio\\913\" # path to your aodio\n",
    "#files= os.listdir(patha)"
   ]
  },
  {
   "cell_type": "code",
   "execution_count": 22,
   "metadata": {},
   "outputs": [],
   "source": [
    "#paths=r\"F:\\DLR\\processedbydate\\0116\\12maudiom\\913\""
   ]
  },
  {
   "cell_type": "code",
   "execution_count": 23,
   "metadata": {},
   "outputs": [
    {
     "name": "stdout",
     "output_type": "stream",
     "text": [
      "808\n",
      "809\n",
      "810\n",
      "812\n",
      "813\n",
      "814\n",
      "815\n",
      "819\n",
      "820\n",
      "821\n",
      "655\n",
      "770\n",
      "822\n",
      "913\n"
     ]
    }
   ],
   "source": [
    "for j in range(len(foldersin)):\n",
    "    print(foldersin[j])\n",
    "    pathfiles=pathfolderin+'\\\\'+foldersin[j]\n",
    "    files= os.listdir(pathfiles)\n",
    "    for i in range (len(files)):\n",
    "        #print(files[i])\n",
    "        xt, srt = librosa.load(pathfiles+\"\\\\\"+files[i],sr=None)\n",
    "        datat = librosa.resample(xt, srt, 16000)\n",
    "        #y_mono = librosa.to_mono(xt)\n",
    "        y_mono = librosa.to_mono(datat)\n",
    "        a=pathfolderout+\"\\\\\"+foldersin[j]+'\\\\'+files[i]\n",
    "        sf.write(a, y_mono, 16000, format='wav')"
   ]
  },
  {
   "cell_type": "code",
   "execution_count": 24,
   "metadata": {},
   "outputs": [
    {
     "name": "stdout",
     "output_type": "stream",
     "text": [
      "16000\n"
     ]
    }
   ],
   "source": [
    "print(srt)"
   ]
  }
 ],
 "metadata": {
  "kernelspec": {
   "display_name": "Python 3",
   "language": "python",
   "name": "python3"
  },
  "language_info": {
   "codemirror_mode": {
    "name": "ipython",
    "version": 3
   },
   "file_extension": ".py",
   "mimetype": "text/x-python",
   "name": "python",
   "nbconvert_exporter": "python",
   "pygments_lexer": "ipython3",
   "version": "3.8.5"
  }
 },
 "nbformat": 4,
 "nbformat_minor": 4
}
