{
 "cells": [
  {
   "cell_type": "code",
   "execution_count": 1,
   "metadata": {},
   "outputs": [
    {
     "name": "stderr",
     "output_type": "stream",
     "text": [
      "C:\\Users\\ljr\\anaconda3\\lib\\site-packages\\pandas\\core\\computation\\expressions.py:20: UserWarning: Pandas requires version '2.7.3' or newer of 'numexpr' (version '2.7.1' currently installed).\n",
      "  from pandas.core.computation.check import NUMEXPR_INSTALLED\n"
     ]
    }
   ],
   "source": [
    "import math\n",
    "import numpy as np\n",
    "import sklearn\n",
    "from sklearn.cluster import KMeans\n",
    "import matplotlib as mpl\n",
    "import matplotlib.pyplot as plt\n",
    "import librosa\n",
    "import librosa.display\n",
    "import os\n",
    "import re\n",
    "import seaborn as sns\n",
    "import pandas as pd\n",
    "import random\n",
    "from scipy import stats  #t-test\n",
    "import semopy\n",
    "import pandas as pd\n",
    "from semopy import Model\n",
    "import scipy.stats as stats \n",
    "from itertools import groupby\n",
    "import statsmodels.formula.api as smf\n",
    "import statsmodels.api as sm"
   ]
  },
  {
   "cell_type": "code",
   "execution_count": 2,
   "metadata": {},
   "outputs": [],
   "source": [
    "pathturn11 = r\"C:\\LJR\\babylab\\marisa\\datamanual\\cut\\0643\\turntaking\\block\\fa\\turn1\"\n",
    "filesturn11= os.listdir(pathturn11)\n",
    "pathturn12 = r\"C:\\LJR\\babylab\\marisa\\datamanual\\cut\\0643\\turntaking\\block\\fa\\turn2\"\n",
    "filesturn12= os.listdir(pathturn12)\n",
    "pathturn13 = r\"C:\\LJR\\babylab\\marisa\\datamanual\\cut\\0643\\turntaking\\block\\fa\\turn3\"\n",
    "filesturn13= os.listdir(pathturn13)\n",
    "pathturn14 = r\"C:\\LJR\\babylab\\marisa\\datamanual\\cut\\0643\\turntaking\\block\\fa\\turn4\"\n",
    "filesturn14= os.listdir(pathturn14)\n",
    "pathturn15 = r\"C:\\LJR\\babylab\\marisa\\datamanual\\cut\\0643\\turntaking\\block\\fa\\turn5\"\n",
    "filesturn15= os.listdir(pathturn15)\n",
    "\n",
    "pathturn11c = r\"C:\\LJR\\babylab\\marisa\\datamanual\\cut\\0643\\turntaking\\block\\chi\\turn1\"\n",
    "filesturn11c= os.listdir(pathturn11c)\n",
    "pathturn12c = r\"C:\\LJR\\babylab\\marisa\\datamanual\\cut\\0643\\turntaking\\block\\chi\\turn2\"\n",
    "filesturn12c= os.listdir(pathturn12c)\n",
    "pathturn13c = r\"C:\\LJR\\babylab\\marisa\\datamanual\\cut\\0643\\turntaking\\block\\chi\\turn3\"\n",
    "filesturn13c= os.listdir(pathturn13c)\n",
    "pathturn14c = r\"C:\\LJR\\babylab\\marisa\\datamanual\\cut\\0643\\turntaking\\block\\chi\\turn4\"\n",
    "filesturn14c= os.listdir(pathturn14c)\n",
    "pathturn15c = r\"C:\\LJR\\babylab\\marisa\\datamanual\\cut\\0643\\turntaking\\block\\chi\\turn5\"\n",
    "filesturn15c= os.listdir(pathturn15c)"
   ]
  },
  {
   "cell_type": "code",
   "execution_count": 3,
   "metadata": {},
   "outputs": [
    {
     "name": "stdout",
     "output_type": "stream",
     "text": [
      "80 T11126.686.wav 11131.021.wav T11146.075.wav 11145.267.wav\n",
      "6 T11295.51.wav 11298.798.wav T11304.991.wav 11304.019.wav\n",
      "2 C11397.629.wav 11395.831.wav C11397.629.wav 11398.945.wav\n",
      "12 T11467.47.wav 11465.945.wav T11474.978.wav 11472.993.wav\n",
      "2 T11191.333.wav 11190.401.wav T11191.333.wav 11191.637.wav\n"
     ]
    }
   ],
   "source": [
    "print(len(filesturn11)*len(filesturn11c),filesturn11[0],filesturn11c[0],filesturn11[-1],filesturn11c[-1])\n",
    "print(len(filesturn12)*len(filesturn12c),filesturn12[0],filesturn12c[0],filesturn12[-1],filesturn12c[-1])\n",
    "print(len(filesturn13)*len(filesturn13c),filesturn13[0],filesturn13c[0],filesturn13[-1],filesturn13c[-1])\n",
    "print(len(filesturn14)*len(filesturn14c),filesturn14[0],filesturn14c[0],filesturn14[-1],filesturn14c[-1])\n",
    "print(len(filesturn15)*len(filesturn15c),filesturn15[0],filesturn15c[0],filesturn15[-1],filesturn15c[-1])"
   ]
  },
  {
   "cell_type": "code",
   "execution_count": 4,
   "metadata": {},
   "outputs": [],
   "source": [
    "pathturn21 = r\"C:\\LJR\\babylab\\marisa\\datamanual\\cut\\2109\\turntaking\\block\\fa\\turn1\"\n",
    "filesturn21= os.listdir(pathturn21)\n",
    "pathturn22 = r\"C:\\LJR\\babylab\\marisa\\datamanual\\cut\\2109\\turntaking\\block\\fa\\turn2\"\n",
    "filesturn22= os.listdir(pathturn22)\n",
    "pathturn23 = r\"C:\\LJR\\babylab\\marisa\\datamanual\\cut\\2109\\turntaking\\block\\fa\\turn3\"\n",
    "filesturn23= os.listdir(pathturn23)\n",
    "pathturn24 = r\"C:\\LJR\\babylab\\marisa\\datamanual\\cut\\2109\\turntaking\\block\\fa\\turn4\"\n",
    "filesturn24= os.listdir(pathturn24)\n",
    "pathturn25 = r\"C:\\LJR\\babylab\\marisa\\datamanual\\cut\\2109\\turntaking\\block\\fa\\turn5\"\n",
    "filesturn25= os.listdir(pathturn25)\n",
    "pathturn26 = r\"C:\\LJR\\babylab\\marisa\\datamanual\\cut\\2109\\turntaking\\block\\fa\\turn6\"\n",
    "filesturn26= os.listdir(pathturn26)\n",
    "\n",
    "pathturn21c = r\"C:\\LJR\\babylab\\marisa\\datamanual\\cut\\2109\\turntaking\\block\\chi\\turn1\"\n",
    "filesturn21c= os.listdir(pathturn21c)\n",
    "pathturn22c = r\"C:\\LJR\\babylab\\marisa\\datamanual\\cut\\2109\\turntaking\\block\\chi\\turn2\"\n",
    "filesturn22c= os.listdir(pathturn22c)\n",
    "pathturn23c = r\"C:\\LJR\\babylab\\marisa\\datamanual\\cut\\2109\\turntaking\\block\\chi\\turn3\"\n",
    "filesturn23c= os.listdir(pathturn23c)\n",
    "pathturn24c = r\"C:\\LJR\\babylab\\marisa\\datamanual\\cut\\2109\\turntaking\\block\\chi\\turn4\"\n",
    "filesturn24c= os.listdir(pathturn24c)\n",
    "pathturn25c = r\"C:\\LJR\\babylab\\marisa\\datamanual\\cut\\2109\\turntaking\\block\\chi\\turn5\"\n",
    "filesturn25c= os.listdir(pathturn25c)\n",
    "pathturn26c = r\"C:\\LJR\\babylab\\marisa\\datamanual\\cut\\2109\\turntaking\\block\\chi\\turn6\"\n",
    "filesturn26c= os.listdir(pathturn26c)"
   ]
  },
  {
   "cell_type": "code",
   "execution_count": 5,
   "metadata": {},
   "outputs": [
    {
     "name": "stdout",
     "output_type": "stream",
     "text": [
      "2 T4139.8289375.wav 4140.175.wav T4140.732.wav 4140.175.wav\n",
      "12 T4340.306.wav 4344.251.wav T4350.981.wav 4345.008.wav\n",
      "4 T4357.296.wav 4360.24.wav T4362.611.wav 4361.664.wav\n",
      "2 T22800.424.wav 22800.9.wav T22801.716.wav 22800.9.wav\n",
      "6 T29305.964.wav 29309.888.wav T29311.344.wav 29310.768.wav\n",
      "2 T31721.091.wav 31720.416.wav T31721.091.wav 31721.602.wav\n"
     ]
    }
   ],
   "source": [
    "print(len(filesturn21)*len(filesturn21c),filesturn21[0],filesturn21c[0],filesturn21[-1],filesturn21c[-1])\n",
    "print(len(filesturn22)*len(filesturn22c),filesturn22[0],filesturn22c[0],filesturn22[-1],filesturn22c[-1])\n",
    "print(len(filesturn23)*len(filesturn23c),filesturn23[0],filesturn23c[0],filesturn23[-1],filesturn23c[-1])\n",
    "print(len(filesturn24)*len(filesturn24c),filesturn24[0],filesturn24c[0],filesturn24[-1],filesturn24c[-1])\n",
    "print(len(filesturn25)*len(filesturn25c),filesturn25[0],filesturn25c[0],filesturn25[-1],filesturn25c[-1])\n",
    "print(len(filesturn26)*len(filesturn26c),filesturn26[0],filesturn26c[0],filesturn26[-1],filesturn26c[-1])"
   ]
  },
  {
   "cell_type": "code",
   "execution_count": 6,
   "metadata": {},
   "outputs": [],
   "source": [
    "pathturn31 = r\"C:\\LJR\\babylab\\marisa\\datamanual\\cut\\2625\\turntaking\\block\\fa\\turn1\"\n",
    "filesturn31= os.listdir(pathturn31)\n",
    "pathturn32 = r\"C:\\LJR\\babylab\\marisa\\datamanual\\cut\\2625\\turntaking\\block\\fa\\turn2\"# outlier\n",
    "filesturn32= os.listdir(pathturn32)\n",
    "pathturn33 = r\"C:\\LJR\\babylab\\marisa\\datamanual\\cut\\2625\\turntaking\\block\\fa\\turn3\"\n",
    "filesturn33= os.listdir(pathturn33)\n",
    "pathturn34 = r\"C:\\LJR\\babylab\\marisa\\datamanual\\cut\\2625\\turntaking\\block\\fa\\turn4\"\n",
    "filesturn34= os.listdir(pathturn34)\n",
    "pathturn35 = r\"C:\\LJR\\babylab\\marisa\\datamanual\\cut\\2625\\turntaking\\block\\fa\\turn5\"\n",
    "filesturn35= os.listdir(pathturn35)\n",
    "pathturn36 = r\"C:\\LJR\\babylab\\marisa\\datamanual\\cut\\2625\\turntaking\\block\\fa\\turn6\"\n",
    "filesturn36= os.listdir(pathturn36)\n",
    "pathturn37 = r\"C:\\LJR\\babylab\\marisa\\datamanual\\cut\\2625\\turntaking\\block\\fa\\turn7\"\n",
    "filesturn37= os.listdir(pathturn37)\n",
    "pathturn38 = r\"C:\\LJR\\babylab\\marisa\\datamanual\\cut\\2625\\turntaking\\block\\fa\\turn8\"\n",
    "filesturn38= os.listdir(pathturn38)\n",
    "pathturn39 = r\"C:\\LJR\\babylab\\marisa\\datamanual\\cut\\2625\\turntaking\\block\\fa\\turn9\"\n",
    "filesturn39= os.listdir(pathturn39)\n",
    "pathturn310 = r\"C:\\LJR\\babylab\\marisa\\datamanual\\cut\\2625\\turntaking\\block\\fa\\turn10\"\n",
    "filesturn310= os.listdir(pathturn310)\n",
    "\n",
    "\n",
    "pathturn31c = r\"C:\\LJR\\babylab\\marisa\\datamanual\\cut\\2625\\turntaking\\block\\chi\\turn1\"\n",
    "filesturn31c= os.listdir(pathturn31c)\n",
    "pathturn32c = r\"C:\\LJR\\babylab\\marisa\\datamanual\\cut\\2625\\turntaking\\block\\chi\\turn2\"# outlier\n",
    "filesturn32c= os.listdir(pathturn32c)\n",
    "pathturn33c = r\"C:\\LJR\\babylab\\marisa\\datamanual\\cut\\2625\\turntaking\\block\\chi\\turn3\"\n",
    "filesturn33c= os.listdir(pathturn33c)\n",
    "pathturn34c = r\"C:\\LJR\\babylab\\marisa\\datamanual\\cut\\2625\\turntaking\\block\\chi\\turn4\"\n",
    "filesturn34c= os.listdir(pathturn34c)\n",
    "pathturn35c = r\"C:\\LJR\\babylab\\marisa\\datamanual\\cut\\2625\\turntaking\\block\\chi\\turn5\"\n",
    "filesturn35c= os.listdir(pathturn35c)\n",
    "pathturn36c = r\"C:\\LJR\\babylab\\marisa\\datamanual\\cut\\2625\\turntaking\\block\\chi\\turn6\"\n",
    "filesturn36c= os.listdir(pathturn36c)\n",
    "pathturn37c = r\"C:\\LJR\\babylab\\marisa\\datamanual\\cut\\2625\\turntaking\\block\\chi\\turn7\"\n",
    "filesturn37c= os.listdir(pathturn37c)\n",
    "pathturn38c = r\"C:\\LJR\\babylab\\marisa\\datamanual\\cut\\2625\\turntaking\\block\\chi\\turn8\"\n",
    "filesturn38c= os.listdir(pathturn38c)\n",
    "pathturn39c = r\"C:\\LJR\\babylab\\marisa\\datamanual\\cut\\2625\\turntaking\\block\\chi\\turn9\"\n",
    "filesturn39c= os.listdir(pathturn39c)\n",
    "pathturn310c = r\"C:\\LJR\\babylab\\marisa\\datamanual\\cut\\2625\\turntaking\\block\\chi\\turn10\"\n",
    "filesturn310c= os.listdir(pathturn310c)\n"
   ]
  },
  {
   "cell_type": "code",
   "execution_count": 7,
   "metadata": {},
   "outputs": [
    {
     "name": "stdout",
     "output_type": "stream",
     "text": [
      "16 T2732.315.wav 2729.138.wav T2740.067.wav 2742.196.wav\n",
      "650 T10000.337.wav 10001.195.wav T9998.731.wav 9999.038.wav\n",
      "9 T12270.619.wav 12272.316.wav T12275.854.wav 12278.055.wav\n",
      "6 T12317.516.wav 12315.203.wav T12319.671.wav 12322.176.wav\n",
      "16 T12934.345.wav 12931.507.wav T12942.981.wav 12944.092.wav\n",
      "2 T16510.077.wav 16508.072.wav T16510.077.wav 16511.629.wav\n",
      "2 T16659.273.wav 16658.1719375.wav T16659.273.wav 16660.9399375.wav\n",
      "3 T18565.578.wav 18563.634.wav T18565.578.wav 18566.474.wav\n",
      "2 T32758.515.wav 32757.318.wav T32758.515.wav 32759.735.wav\n",
      "30 T33172.87.wav 33154.4479375.wav T33175.175.wav 33182.994.wav\n"
     ]
    }
   ],
   "source": [
    "print(len(filesturn31)*len(filesturn31c),filesturn31[0],filesturn31c[0],filesturn31[-1],filesturn31c[-1])\n",
    "print(len(filesturn32)*len(filesturn32c),filesturn32[0],filesturn32c[0],filesturn32[-1],filesturn32c[-1])\n",
    "print(len(filesturn33)*len(filesturn33c),filesturn33[0],filesturn33c[0],filesturn33[-1],filesturn33c[-1])\n",
    "print(len(filesturn34)*len(filesturn34c),filesturn34[0],filesturn34c[0],filesturn34[-1],filesturn34c[-1])\n",
    "print(len(filesturn35)*len(filesturn35c),filesturn35[0],filesturn35c[0],filesturn35[-1],filesturn35c[-1])\n",
    "print(len(filesturn36)*len(filesturn36c),filesturn36[0],filesturn36c[0],filesturn36[-1],filesturn36c[-1])\n",
    "print(len(filesturn37)*len(filesturn37c),filesturn37[0],filesturn37c[0],filesturn37[-1],filesturn37c[-1])\n",
    "print(len(filesturn38)*len(filesturn38c),filesturn38[0],filesturn38c[0],filesturn38[-1],filesturn38c[-1])\n",
    "print(len(filesturn39)*len(filesturn39c),filesturn39[0],filesturn39c[0],filesturn39[-1],filesturn39c[-1])\n",
    "print(len(filesturn310)*len(filesturn310c),filesturn310[0],filesturn310c[0],filesturn310[-1],filesturn310c[-1])"
   ]
  },
  {
   "cell_type": "code",
   "execution_count": 8,
   "metadata": {},
   "outputs": [],
   "source": [
    "pathturn41 = r\"C:\\LJR\\babylab\\marisa\\datamanual\\cut\\3026\\turntaking\\block\\fa\\turn1\"\n",
    "filesturn41= os.listdir(pathturn41)\n",
    "pathturn42 = r\"C:\\LJR\\babylab\\marisa\\datamanual\\cut\\3026\\turntaking\\block\\fa\\turn2\"\n",
    "filesturn42= os.listdir(pathturn42)\n",
    "pathturn43 = r\"C:\\LJR\\babylab\\marisa\\datamanual\\cut\\3026\\turntaking\\block\\fa\\turn3\"\n",
    "filesturn43= os.listdir(pathturn43)\n",
    "pathturn44 = r\"C:\\LJR\\babylab\\marisa\\datamanual\\cut\\3026\\turntaking\\block\\fa\\turn4\"\n",
    "filesturn44= os.listdir(pathturn44)\n",
    "pathturn45 = r\"C:\\LJR\\babylab\\marisa\\datamanual\\cut\\3026\\turntaking\\block\\fa\\turn5\"\n",
    "filesturn45= os.listdir(pathturn45)\n",
    "pathturn46 = r\"C:\\LJR\\babylab\\marisa\\datamanual\\cut\\3026\\turntaking\\block\\fa\\turn6\"\n",
    "filesturn46= os.listdir(pathturn46)\n",
    "pathturn47 = r\"C:\\LJR\\babylab\\marisa\\datamanual\\cut\\3026\\turntaking\\block\\fa\\turn7\"\n",
    "filesturn47= os.listdir(pathturn47)\n",
    "pathturn48 = r\"C:\\LJR\\babylab\\marisa\\datamanual\\cut\\3026\\turntaking\\block\\fa\\turn8\"\n",
    "filesturn48= os.listdir(pathturn48)\n",
    "pathturn49 = r\"C:\\LJR\\babylab\\marisa\\datamanual\\cut\\3026\\turntaking\\block\\fa\\turn9\"\n",
    "filesturn49= os.listdir(pathturn49)\n",
    "pathturn410 = r\"C:\\LJR\\babylab\\marisa\\datamanual\\cut\\3026\\turntaking\\block\\fa\\turn10\"\n",
    "filesturn410= os.listdir(pathturn410)\n",
    "pathturn411 = r\"C:\\LJR\\babylab\\marisa\\datamanual\\cut\\3026\\turntaking\\block\\fa\\turn11\"\n",
    "filesturn411= os.listdir(pathturn411)\n",
    "pathturn412 = r\"C:\\LJR\\babylab\\marisa\\datamanual\\cut\\3026\\turntaking\\block\\fa\\turn12\"\n",
    "filesturn412= os.listdir(pathturn412)\n",
    "pathturn413 = r\"C:\\LJR\\babylab\\marisa\\datamanual\\cut\\3026\\turntaking\\block\\fa\\turn13\"\n",
    "filesturn413= os.listdir(pathturn413)\n",
    "pathturn414 = r\"C:\\LJR\\babylab\\marisa\\datamanual\\cut\\3026\\turntaking\\block\\fa\\turn14\"\n",
    "filesturn414= os.listdir(pathturn414)\n",
    "\n",
    "pathturn41c = r\"C:\\LJR\\babylab\\marisa\\datamanual\\cut\\3026\\turntaking\\block\\chi\\turn1\"\n",
    "filesturn41c= os.listdir(pathturn41c)\n",
    "pathturn42c = r\"C:\\LJR\\babylab\\marisa\\datamanual\\cut\\3026\\turntaking\\block\\chi\\turn2\"\n",
    "filesturn42c= os.listdir(pathturn42c)\n",
    "pathturn43c = r\"C:\\LJR\\babylab\\marisa\\datamanual\\cut\\3026\\turntaking\\block\\chi\\turn3\"\n",
    "filesturn43c= os.listdir(pathturn43c)\n",
    "pathturn44c = r\"C:\\LJR\\babylab\\marisa\\datamanual\\cut\\3026\\turntaking\\block\\chi\\turn4\"\n",
    "filesturn44c= os.listdir(pathturn44c)\n",
    "pathturn45c = r\"C:\\LJR\\babylab\\marisa\\datamanual\\cut\\3026\\turntaking\\block\\chi\\turn5\"\n",
    "filesturn45c= os.listdir(pathturn45c)\n",
    "pathturn46c = r\"C:\\LJR\\babylab\\marisa\\datamanual\\cut\\3026\\turntaking\\block\\chi\\turn6\"\n",
    "filesturn46c= os.listdir(pathturn46c)\n",
    "pathturn47c = r\"C:\\LJR\\babylab\\marisa\\datamanual\\cut\\3026\\turntaking\\block\\chi\\turn7\"\n",
    "filesturn47c= os.listdir(pathturn47c)\n",
    "pathturn48c = r\"C:\\LJR\\babylab\\marisa\\datamanual\\cut\\3026\\turntaking\\block\\chi\\turn8\"\n",
    "filesturn48c= os.listdir(pathturn48c)\n",
    "pathturn49c = r\"C:\\LJR\\babylab\\marisa\\datamanual\\cut\\3026\\turntaking\\block\\chi\\turn9\"\n",
    "filesturn49c= os.listdir(pathturn49c)\n",
    "pathturn410c = r\"C:\\LJR\\babylab\\marisa\\datamanual\\cut\\3026\\turntaking\\block\\chi\\turn10\"\n",
    "filesturn410c= os.listdir(pathturn410c)\n",
    "pathturn411c = r\"C:\\LJR\\babylab\\marisa\\datamanual\\cut\\3026\\turntaking\\block\\chi\\turn11\"\n",
    "filesturn411c= os.listdir(pathturn411c)\n",
    "pathturn412c = r\"C:\\LJR\\babylab\\marisa\\datamanual\\cut\\3026\\turntaking\\block\\chi\\turn12\"\n",
    "filesturn412c= os.listdir(pathturn412c)\n",
    "pathturn413c = r\"C:\\LJR\\babylab\\marisa\\datamanual\\cut\\3026\\turntaking\\block\\chi\\turn13\"\n",
    "filesturn413c= os.listdir(pathturn413c)\n",
    "pathturn414c = r\"C:\\LJR\\babylab\\marisa\\datamanual\\cut\\3026\\turntaking\\block\\chi\\turn14\"\n",
    "filesturn414c= os.listdir(pathturn414c)"
   ]
  },
  {
   "cell_type": "code",
   "execution_count": 9,
   "metadata": {},
   "outputs": [
    {
     "name": "stdout",
     "output_type": "stream",
     "text": [
      "4 T1715.81.wav 1713.813.wav T1718.6.wav 1716.796.wav\n",
      "2 T1841.662.wav 1842.17.wav T1843.708.wav 1842.17.wav\n",
      "6 T2279.67.wav 2277.799.wav T2284.01.wav 2282.485.wav\n",
      "4 T5749.13.wav 5746.353.wav T5752.085.wav 5751.152.wav\n",
      "28 T5827.344.wav 5829.695.wav T5844.187.wav 5844.871.wav\n",
      "3 T8945.386.wav 8942.545.wav T8945.386.wav 8946.575.wav\n",
      "6 T9049.886.wav 9048.729.wav T9056.132.wav 9056.969.wav\n",
      "4 T9128.165.wav 9130.013.wav T9130.74.wav 9131.992.wav\n",
      "6 T13564.02.wav 13562.92.wav T13576.03.wav 13567.743.wav\n",
      "20 T13581.395.wav 13576.878.wav T13589.235.wav 13587.393.wav\n",
      "4 T17071.32.wav 17070.066.wav T17073.68.wav 17074.702.wav\n",
      "4 T17121.665.wav 17120.402.wav T17123.755.wav 17122.5.wav\n",
      "4 T17174.13.wav 17174.99.wav T17176.96.wav 17177.89.wav\n",
      "16 T29396.727.wav 29394.792.wav T29406.525.wav 29405.004.wav\n"
     ]
    }
   ],
   "source": [
    "print(len(filesturn41)*len(filesturn41c),filesturn41[0],filesturn41c[0],filesturn41[-1],filesturn41c[-1])\n",
    "print(len(filesturn42)*len(filesturn42c),filesturn42[0],filesturn42c[0],filesturn42[-1],filesturn42c[-1])\n",
    "print(len(filesturn43)*len(filesturn43c),filesturn43[0],filesturn43c[0],filesturn43[-1],filesturn43c[-1])\n",
    "print(len(filesturn44)*len(filesturn44c),filesturn44[0],filesturn44c[0],filesturn44[-1],filesturn44c[-1])\n",
    "print(len(filesturn45)*len(filesturn45c),filesturn45[0],filesturn45c[0],filesturn45[-1],filesturn45c[-1])\n",
    "print(len(filesturn46)*len(filesturn46c),filesturn46[0],filesturn46c[0],filesturn46[-1],filesturn46c[-1])\n",
    "print(len(filesturn47)*len(filesturn47c),filesturn47[0],filesturn47c[0],filesturn47[-1],filesturn47c[-1])\n",
    "print(len(filesturn48)*len(filesturn48c),filesturn48[0],filesturn48c[0],filesturn48[-1],filesturn48c[-1])\n",
    "print(len(filesturn49)*len(filesturn49c),filesturn49[0],filesturn49c[0],filesturn49[-1],filesturn49c[-1])\n",
    "print(len(filesturn410)*len(filesturn410c),filesturn410[0],filesturn410c[0],filesturn410[-1],filesturn410c[-1])\n",
    "print(len(filesturn411)*len(filesturn411c),filesturn411[0],filesturn411c[0],filesturn411[-1],filesturn411c[-1])\n",
    "print(len(filesturn412)*len(filesturn412c),filesturn412[0],filesturn412c[0],filesturn412[-1],filesturn412c[-1])\n",
    "print(len(filesturn413)*len(filesturn413c),filesturn413[0],filesturn413c[0],filesturn413[-1],filesturn413c[-1])\n",
    "print(len(filesturn414)*len(filesturn414c),filesturn414[0],filesturn414c[0],filesturn414[-1],filesturn414c[-1])"
   ]
  },
  {
   "cell_type": "code",
   "execution_count": 10,
   "metadata": {},
   "outputs": [],
   "source": [
    "pathturn51 = r\"C:\\LJR\\babylab\\marisa\\datamanual\\cut\\6216\\turntaking\\block\\fa\\turn1\"\n",
    "filesturn51= os.listdir(pathturn51)\n",
    "pathturn52 = r\"C:\\LJR\\babylab\\marisa\\datamanual\\cut\\6216\\turntaking\\block\\fa\\turn2\"\n",
    "filesturn52= os.listdir(pathturn52)\n",
    "pathturn53 = r\"C:\\LJR\\babylab\\marisa\\datamanual\\cut\\6216\\turntaking\\block\\fa\\turn3\"# outlier\n",
    "filesturn53= os.listdir(pathturn53)\n",
    "pathturn54 = r\"C:\\LJR\\babylab\\marisa\\datamanual\\cut\\6216\\turntaking\\block\\fa\\turn4\"\n",
    "filesturn54= os.listdir(pathturn54)\n",
    "pathturn55 = r\"C:\\LJR\\babylab\\marisa\\datamanual\\cut\\6216\\turntaking\\block\\fa\\turn5\"\n",
    "filesturn55= os.listdir(pathturn55)\n",
    "pathturn56 = r\"C:\\LJR\\babylab\\marisa\\datamanual\\cut\\6216\\turntaking\\block\\fa\\turn6\"\n",
    "filesturn56= os.listdir(pathturn56)\n",
    "pathturn57 = r\"C:\\LJR\\babylab\\marisa\\datamanual\\cut\\6216\\turntaking\\block\\fa\\turn7\"\n",
    "filesturn57= os.listdir(pathturn57)\n",
    "pathturn58 = r\"C:\\LJR\\babylab\\marisa\\datamanual\\cut\\6216\\turntaking\\block\\fa\\turn8\"\n",
    "filesturn58= os.listdir(pathturn58)\n",
    "pathturn59 = r\"C:\\LJR\\babylab\\marisa\\datamanual\\cut\\6216\\turntaking\\block\\fa\\turn9\"\n",
    "filesturn59= os.listdir(pathturn59)\n",
    "pathturn510 = r\"C:\\LJR\\babylab\\marisa\\datamanual\\cut\\6216\\turntaking\\block\\fa\\turn10\"\n",
    "filesturn510= os.listdir(pathturn510)\n",
    "\n",
    "\n",
    "pathturn51c = r\"C:\\LJR\\babylab\\marisa\\datamanual\\cut\\6216\\turntaking\\block\\chi\\turn1\"\n",
    "filesturn51c= os.listdir(pathturn51c)\n",
    "pathturn52c = r\"C:\\LJR\\babylab\\marisa\\datamanual\\cut\\6216\\turntaking\\block\\chi\\turn2\"\n",
    "filesturn52c= os.listdir(pathturn52c)\n",
    "pathturn53c = r\"C:\\LJR\\babylab\\marisa\\datamanual\\cut\\6216\\turntaking\\block\\chi\\turn3\"\n",
    "filesturn53c= os.listdir(pathturn53c)\n",
    "pathturn54c = r\"C:\\LJR\\babylab\\marisa\\datamanual\\cut\\6216\\turntaking\\block\\chi\\turn4\"\n",
    "filesturn54c= os.listdir(pathturn54c)\n",
    "pathturn55c = r\"C:\\LJR\\babylab\\marisa\\datamanual\\cut\\6216\\turntaking\\block\\chi\\turn5\"\n",
    "filesturn55c= os.listdir(pathturn55c)\n",
    "pathturn56c = r\"C:\\LJR\\babylab\\marisa\\datamanual\\cut\\6216\\turntaking\\block\\chi\\turn6\"\n",
    "filesturn56c= os.listdir(pathturn56c)\n",
    "pathturn57c = r\"C:\\LJR\\babylab\\marisa\\datamanual\\cut\\6216\\turntaking\\block\\chi\\turn7\"\n",
    "filesturn57c= os.listdir(pathturn57c)\n",
    "pathturn58c = r\"C:\\LJR\\babylab\\marisa\\datamanual\\cut\\6216\\turntaking\\block\\chi\\turn8\"\n",
    "filesturn58c= os.listdir(pathturn58c)\n",
    "pathturn59c = r\"C:\\LJR\\babylab\\marisa\\datamanual\\cut\\6216\\turntaking\\block\\chi\\turn9\"\n",
    "filesturn59c= os.listdir(pathturn59c)\n",
    "pathturn510c = r\"C:\\LJR\\babylab\\marisa\\datamanual\\cut\\6216\\turntaking\\block\\chi\\turn10\"\n",
    "filesturn510c= os.listdir(pathturn510c)\n"
   ]
  },
  {
   "cell_type": "code",
   "execution_count": 11,
   "metadata": {},
   "outputs": [
    {
     "name": "stdout",
     "output_type": "stream",
     "text": [
      "12 T883.38.wav 882.445.wav T896.41.wav 895.16.wav\n",
      "9 T921.07.wav 919.545.wav T924.175.wav 925.67.wav\n",
      "6 T1739.507.wav 1736.565.wav T1742.995.wav 1740.224.wav\n",
      "6 T1753.299.wav 1750.629.wav T1755.712.wav 1759.055.wav\n",
      "6 T1767.059.wav 1768.915.wav T1770.225.wav 1773.507.wav\n",
      "24 T1848.015.wav 1845.037.wav T1859.348.wav 1862.781.wav\n",
      "9 T3363.116.wav 3367.113.wav T3381.932.wav 3367.113.wav\n",
      "36 T3416.695.wav 3411.686.wav T3427.533.wav 3422.143.wav\n",
      "21 T3459.084.wav 3453.918.wav T3466.322.wav 3471.754.wav\n",
      "40 T3514.737.wav 3511.906.wav T3528.644.wav 3527.583.wav\n"
     ]
    }
   ],
   "source": [
    "print(len(filesturn51)*len(filesturn51c),filesturn51[0],filesturn51c[0],filesturn51[-1],filesturn51c[-1])\n",
    "print(len(filesturn52)*len(filesturn52c),filesturn52[0],filesturn52c[0],filesturn52[-1],filesturn52c[-1])\n",
    "print(len(filesturn53)*len(filesturn53c),filesturn53[0],filesturn53c[0],filesturn53[-1],filesturn53c[-1])\n",
    "print(len(filesturn54)*len(filesturn54c),filesturn54[0],filesturn54c[0],filesturn54[-1],filesturn54c[-1])\n",
    "print(len(filesturn55)*len(filesturn55c),filesturn55[0],filesturn55c[0],filesturn55[-1],filesturn55c[-1])\n",
    "print(len(filesturn56)*len(filesturn56c),filesturn56[0],filesturn56c[0],filesturn56[-1],filesturn56c[-1])\n",
    "print(len(filesturn57)*len(filesturn57c),filesturn57[0],filesturn57c[0],filesturn57[-1],filesturn57c[-1])\n",
    "print(len(filesturn58)*len(filesturn58c),filesturn58[0],filesturn58c[0],filesturn58[-1],filesturn58c[-1])\n",
    "print(len(filesturn59)*len(filesturn59c),filesturn59[0],filesturn59c[0],filesturn59[-1],filesturn59c[-1])\n",
    "print(len(filesturn510)*len(filesturn510c),filesturn510[0],filesturn510c[0],filesturn510[-1],filesturn510c[-1])"
   ]
  },
  {
   "cell_type": "code",
   "execution_count": 12,
   "metadata": {},
   "outputs": [],
   "source": [
    "pathturn511 = r\"C:\\LJR\\babylab\\marisa\\datamanual\\cut\\6216\\turntaking\\block\\fa\\turn11\"\n",
    "filesturn511= os.listdir(pathturn511)\n",
    "pathturn512 = r\"C:\\LJR\\babylab\\marisa\\datamanual\\cut\\6216\\turntaking\\block\\fa\\turn12\"\n",
    "filesturn512= os.listdir(pathturn512)\n",
    "pathturn513 = r\"C:\\LJR\\babylab\\marisa\\datamanual\\cut\\6216\\turntaking\\block\\fa\\turn13\"\n",
    "filesturn513= os.listdir(pathturn513)\n",
    "pathturn514 = r\"C:\\LJR\\babylab\\marisa\\datamanual\\cut\\6216\\turntaking\\block\\fa\\turn14\"\n",
    "filesturn514= os.listdir(pathturn514)\n",
    "pathturn515 = r\"C:\\LJR\\babylab\\marisa\\datamanual\\cut\\6216\\turntaking\\block\\fa\\turn15\"\n",
    "filesturn515= os.listdir(pathturn515)\n",
    "pathturn516 = r\"C:\\LJR\\babylab\\marisa\\datamanual\\cut\\6216\\turntaking\\block\\fa\\turn16\"\n",
    "filesturn516= os.listdir(pathturn516)\n",
    "pathturn517 = r\"C:\\LJR\\babylab\\marisa\\datamanual\\cut\\6216\\turntaking\\block\\fa\\turn17\"\n",
    "filesturn517= os.listdir(pathturn517)\n",
    "pathturn518 = r\"C:\\LJR\\babylab\\marisa\\datamanual\\cut\\6216\\turntaking\\block\\fa\\turn18\"\n",
    "filesturn518= os.listdir(pathturn518)\n",
    "pathturn519 = r\"C:\\LJR\\babylab\\marisa\\datamanual\\cut\\6216\\turntaking\\block\\fa\\turn19\"\n",
    "filesturn519= os.listdir(pathturn519)\n",
    "pathturn520 = r\"C:\\LJR\\babylab\\marisa\\datamanual\\cut\\6216\\turntaking\\block\\fa\\turn20\"\n",
    "filesturn520= os.listdir(pathturn520)\n",
    "\n",
    "\n",
    "pathturn511c = r\"C:\\LJR\\babylab\\marisa\\datamanual\\cut\\6216\\turntaking\\block\\chi\\turn11\"\n",
    "filesturn511c= os.listdir(pathturn511c)\n",
    "pathturn512c = r\"C:\\LJR\\babylab\\marisa\\datamanual\\cut\\6216\\turntaking\\block\\chi\\turn12\"\n",
    "filesturn512c= os.listdir(pathturn512c)\n",
    "pathturn513c = r\"C:\\LJR\\babylab\\marisa\\datamanual\\cut\\6216\\turntaking\\block\\chi\\turn13\"\n",
    "filesturn513c= os.listdir(pathturn513c)\n",
    "pathturn514c = r\"C:\\LJR\\babylab\\marisa\\datamanual\\cut\\6216\\turntaking\\block\\chi\\turn14\"\n",
    "filesturn514c= os.listdir(pathturn514c)\n",
    "pathturn515c = r\"C:\\LJR\\babylab\\marisa\\datamanual\\cut\\6216\\turntaking\\block\\chi\\turn15\"\n",
    "filesturn515c= os.listdir(pathturn515c)\n",
    "pathturn516c = r\"C:\\LJR\\babylab\\marisa\\datamanual\\cut\\6216\\turntaking\\block\\chi\\turn16\"\n",
    "filesturn516c= os.listdir(pathturn516c)\n",
    "pathturn517c = r\"C:\\LJR\\babylab\\marisa\\datamanual\\cut\\6216\\turntaking\\block\\chi\\turn17\"\n",
    "filesturn517c= os.listdir(pathturn517c)\n",
    "pathturn518c = r\"C:\\LJR\\babylab\\marisa\\datamanual\\cut\\6216\\turntaking\\block\\chi\\turn18\"\n",
    "filesturn518c= os.listdir(pathturn518c)\n",
    "pathturn519c = r\"C:\\LJR\\babylab\\marisa\\datamanual\\cut\\6216\\turntaking\\block\\chi\\turn19\"\n",
    "filesturn519c= os.listdir(pathturn519c)\n",
    "pathturn520c = r\"C:\\LJR\\babylab\\marisa\\datamanual\\cut\\6216\\turntaking\\block\\chi\\turn20\"\n",
    "filesturn520c= os.listdir(pathturn520c)\n"
   ]
  },
  {
   "cell_type": "code",
   "execution_count": 13,
   "metadata": {},
   "outputs": [
    {
     "name": "stdout",
     "output_type": "stream",
     "text": [
      "3 T3639.903.wav 3637.023.wav T3639.903.wav 3641.247.wav\n",
      "12 T3648.593.wav 3647.854.wav T3656.533.wav 3655.419.wav\n",
      "2 T4482.51.wav 4481.15.wav T4482.51.wav 4483.31.wav\n",
      "42 T4496.77.wav 4499.945.wav T4514.265.wav 4514.889.wav\n",
      "20 T6391.689.wav 6396.935.wav T6400.769.wav 6403.865.wav\n",
      "91 T6436.554.wav 6433.094.wav T6460.079.wav 6462.871.wav\n",
      "4 A6477.844.wav 6478.737.wav T6480.295.wav 6480.979.wav\n",
      "66 T6503.544.wav 6496.015.wav T6514.367.wav 6521.286.wav\n",
      "12 T6531.076.wav 6529.483.wav T6539.333.wav 6538.632.wav\n",
      "36 A6563.817.wav 6569.812.wav T6580.291.wav 6581.072.wav\n"
     ]
    }
   ],
   "source": [
    "print(len(filesturn511)*len(filesturn511c),filesturn511[0],filesturn511c[0],filesturn511[-1],filesturn511c[-1])\n",
    "print(len(filesturn512)*len(filesturn512c),filesturn512[0],filesturn512c[0],filesturn512[-1],filesturn512c[-1])\n",
    "print(len(filesturn513)*len(filesturn513c),filesturn513[0],filesturn513c[0],filesturn513[-1],filesturn513c[-1])\n",
    "print(len(filesturn514)*len(filesturn514c),filesturn514[0],filesturn514c[0],filesturn514[-1],filesturn514c[-1])\n",
    "print(len(filesturn515)*len(filesturn515c),filesturn515[0],filesturn515c[0],filesturn515[-1],filesturn515c[-1])\n",
    "print(len(filesturn516)*len(filesturn516c),filesturn516[0],filesturn516c[0],filesturn516[-1],filesturn516c[-1])\n",
    "print(len(filesturn517)*len(filesturn517c),filesturn517[0],filesturn517c[0],filesturn517[-1],filesturn517c[-1])\n",
    "print(len(filesturn518)*len(filesturn518c),filesturn518[0],filesturn518c[0],filesturn518[-1],filesturn518c[-1])\n",
    "print(len(filesturn519)*len(filesturn519c),filesturn519[0],filesturn519c[0],filesturn519[-1],filesturn519c[-1])\n",
    "print(len(filesturn520)*len(filesturn520c),filesturn520[0],filesturn520c[0],filesturn520[-1],filesturn520c[-1])"
   ]
  },
  {
   "cell_type": "code",
   "execution_count": 14,
   "metadata": {},
   "outputs": [],
   "source": [
    "pathturn521 = r\"C:\\LJR\\babylab\\marisa\\datamanual\\cut\\6216\\turntaking\\block\\fa\\turn21\"\n",
    "filesturn521= os.listdir(pathturn521)\n",
    "pathturn522 = r\"C:\\LJR\\babylab\\marisa\\datamanual\\cut\\6216\\turntaking\\block\\fa\\turn22\"\n",
    "filesturn522= os.listdir(pathturn522)\n",
    "pathturn523 = r\"C:\\LJR\\babylab\\marisa\\datamanual\\cut\\6216\\turntaking\\block\\fa\\turn23\"\n",
    "filesturn523= os.listdir(pathturn523)\n",
    "pathturn524 = r\"C:\\LJR\\babylab\\marisa\\datamanual\\cut\\6216\\turntaking\\block\\fa\\turn24\"\n",
    "filesturn524= os.listdir(pathturn524)\n",
    "pathturn525 = r\"C:\\LJR\\babylab\\marisa\\datamanual\\cut\\6216\\turntaking\\block\\fa\\turn25\"\n",
    "filesturn525= os.listdir(pathturn525)\n",
    "pathturn526 = r\"C:\\LJR\\babylab\\marisa\\datamanual\\cut\\6216\\turntaking\\block\\fa\\turn26\"\n",
    "filesturn526= os.listdir(pathturn526)\n",
    "pathturn527 = r\"C:\\LJR\\babylab\\marisa\\datamanual\\cut\\6216\\turntaking\\block\\fa\\turn27\"\n",
    "filesturn527= os.listdir(pathturn527)\n",
    "pathturn528 = r\"C:\\LJR\\babylab\\marisa\\datamanual\\cut\\6216\\turntaking\\block\\fa\\turn28\"\n",
    "filesturn528= os.listdir(pathturn528)\n",
    "pathturn529 = r\"C:\\LJR\\babylab\\marisa\\datamanual\\cut\\6216\\turntaking\\block\\fa\\turn29\"\n",
    "filesturn529= os.listdir(pathturn529)\n",
    "pathturn530 = r\"C:\\LJR\\babylab\\marisa\\datamanual\\cut\\6216\\turntaking\\block\\fa\\turn30\"\n",
    "filesturn530= os.listdir(pathturn530)\n",
    "\n",
    "\n",
    "pathturn521c = r\"C:\\LJR\\babylab\\marisa\\datamanual\\cut\\6216\\turntaking\\block\\chi\\turn21\"\n",
    "filesturn521c= os.listdir(pathturn521c)\n",
    "pathturn522c = r\"C:\\LJR\\babylab\\marisa\\datamanual\\cut\\6216\\turntaking\\block\\chi\\turn22\"\n",
    "filesturn522c= os.listdir(pathturn522c)\n",
    "pathturn523c = r\"C:\\LJR\\babylab\\marisa\\datamanual\\cut\\6216\\turntaking\\block\\chi\\turn23\"\n",
    "filesturn523c= os.listdir(pathturn523c)\n",
    "pathturn524c = r\"C:\\LJR\\babylab\\marisa\\datamanual\\cut\\6216\\turntaking\\block\\chi\\turn24\"\n",
    "filesturn524c= os.listdir(pathturn524c)\n",
    "pathturn525c = r\"C:\\LJR\\babylab\\marisa\\datamanual\\cut\\6216\\turntaking\\block\\chi\\turn25\"\n",
    "filesturn525c= os.listdir(pathturn525c)\n",
    "pathturn526c = r\"C:\\LJR\\babylab\\marisa\\datamanual\\cut\\6216\\turntaking\\block\\chi\\turn26\"\n",
    "filesturn526c= os.listdir(pathturn526c)\n",
    "pathturn527c = r\"C:\\LJR\\babylab\\marisa\\datamanual\\cut\\6216\\turntaking\\block\\chi\\turn27\"\n",
    "filesturn527c= os.listdir(pathturn527c)\n",
    "pathturn528c = r\"C:\\LJR\\babylab\\marisa\\datamanual\\cut\\6216\\turntaking\\block\\chi\\turn28\"\n",
    "filesturn528c= os.listdir(pathturn528c)\n",
    "pathturn529c = r\"C:\\LJR\\babylab\\marisa\\datamanual\\cut\\6216\\turntaking\\block\\chi\\turn29\"\n",
    "filesturn529c= os.listdir(pathturn529c)\n",
    "pathturn530c = r\"C:\\LJR\\babylab\\marisa\\datamanual\\cut\\6216\\turntaking\\block\\chi\\turn30\"\n",
    "filesturn530c= os.listdir(pathturn530c)\n"
   ]
  },
  {
   "cell_type": "code",
   "execution_count": 15,
   "metadata": {},
   "outputs": [
    {
     "name": "stdout",
     "output_type": "stream",
     "text": [
      "2 T6702.967.wav 6703.988.wav T6704.716.wav 6703.988.wav\n",
      "60 T6709.304.wav 6708.609.wav T6728.934.wav 6730.687.wav\n",
      "36 T7590.352.wav 7591.699.wav T7614.825.wav 7614.384.wav\n",
      "12 T7752.166.wav 7750.757.wav T7755.282.wav 7756.435.wav\n",
      "30 T7934.765.wav 7936.462.wav T7948.25.wav 7947.562.wav\n",
      "42 T8889.9.wav 8889.31.wav T8900.885.wav 8901.835.wav\n",
      "42 T8910.32.wav 8908.647.wav T8925.155.wav 8926.685.wav\n",
      "4 T8937.63.wav 8936.74.wav T8939.535.wav 8938.72.wav\n",
      "6 T16560.3699375.wav 16556.56.wav T16563.95.wav 16562.95.wav\n",
      "6 T16573.14.wav 16571.86.wav T16577.435.wav 16575.515.wav\n"
     ]
    }
   ],
   "source": [
    "print(len(filesturn521)*len(filesturn521c),filesturn521[0],filesturn521c[0],filesturn521[-1],filesturn521c[-1])\n",
    "print(len(filesturn522)*len(filesturn522c),filesturn522[0],filesturn522c[0],filesturn522[-1],filesturn522c[-1])\n",
    "print(len(filesturn523)*len(filesturn523c),filesturn523[0],filesturn523c[0],filesturn523[-1],filesturn523c[-1])\n",
    "print(len(filesturn524)*len(filesturn524c),filesturn524[0],filesturn524c[0],filesturn524[-1],filesturn524c[-1])\n",
    "print(len(filesturn525)*len(filesturn525c),filesturn525[0],filesturn525c[0],filesturn525[-1],filesturn525c[-1])\n",
    "print(len(filesturn526)*len(filesturn526c),filesturn526[0],filesturn526c[0],filesturn526[-1],filesturn526c[-1])\n",
    "print(len(filesturn527)*len(filesturn527c),filesturn527[0],filesturn527c[0],filesturn527[-1],filesturn527c[-1])\n",
    "print(len(filesturn528)*len(filesturn528c),filesturn528[0],filesturn528c[0],filesturn528[-1],filesturn528c[-1])\n",
    "print(len(filesturn529)*len(filesturn529c),filesturn529[0],filesturn529c[0],filesturn529[-1],filesturn529c[-1])\n",
    "print(len(filesturn530)*len(filesturn530c),filesturn530[0],filesturn530c[0],filesturn530[-1],filesturn530c[-1])"
   ]
  },
  {
   "cell_type": "code",
   "execution_count": 16,
   "metadata": {},
   "outputs": [],
   "source": [
    "pathturn531 = r\"C:\\LJR\\babylab\\marisa\\datamanual\\cut\\6216\\turntaking\\block\\fa\\turn31\"\n",
    "filesturn531= os.listdir(pathturn531)\n",
    "pathturn532 = r\"C:\\LJR\\babylab\\marisa\\datamanual\\cut\\6216\\turntaking\\block\\fa\\turn32\"\n",
    "filesturn532= os.listdir(pathturn532)\n",
    "pathturn533 = r\"C:\\LJR\\babylab\\marisa\\datamanual\\cut\\6216\\turntaking\\block\\fa\\turn33\"#outlier\n",
    "filesturn533= os.listdir(pathturn533)\n",
    "pathturn534 = r\"C:\\LJR\\babylab\\marisa\\datamanual\\cut\\6216\\turntaking\\block\\fa\\turn34\"\n",
    "filesturn534= os.listdir(pathturn534)\n",
    "pathturn535 = r\"C:\\LJR\\babylab\\marisa\\datamanual\\cut\\6216\\turntaking\\block\\fa\\turn35\"\n",
    "filesturn535= os.listdir(pathturn535)\n",
    "pathturn536 = r\"C:\\LJR\\babylab\\marisa\\datamanual\\cut\\6216\\turntaking\\block\\fa\\turn36\"\n",
    "filesturn536= os.listdir(pathturn536)\n",
    "pathturn537 = r\"C:\\LJR\\babylab\\marisa\\datamanual\\cut\\6216\\turntaking\\block\\fa\\turn37\"\n",
    "filesturn537= os.listdir(pathturn537)\n",
    "pathturn538 = r\"C:\\LJR\\babylab\\marisa\\datamanual\\cut\\6216\\turntaking\\block\\fa\\turn38\"\n",
    "filesturn538= os.listdir(pathturn538)\n",
    "pathturn539 = r\"C:\\LJR\\babylab\\marisa\\datamanual\\cut\\6216\\turntaking\\block\\fa\\turn39\"\n",
    "filesturn539= os.listdir(pathturn539)\n",
    "pathturn540 = r\"C:\\LJR\\babylab\\marisa\\datamanual\\cut\\6216\\turntaking\\block\\fa\\turn40\"\n",
    "filesturn540= os.listdir(pathturn540)\n",
    "\n",
    "\n",
    "pathturn531c = r\"C:\\LJR\\babylab\\marisa\\datamanual\\cut\\6216\\turntaking\\block\\chi\\turn31\"\n",
    "filesturn531c= os.listdir(pathturn531c)\n",
    "pathturn532c = r\"C:\\LJR\\babylab\\marisa\\datamanual\\cut\\6216\\turntaking\\block\\chi\\turn32\"\n",
    "filesturn532c= os.listdir(pathturn532c)\n",
    "pathturn533c = r\"C:\\LJR\\babylab\\marisa\\datamanual\\cut\\6216\\turntaking\\block\\chi\\turn33\"\n",
    "filesturn533c= os.listdir(pathturn533c)\n",
    "pathturn534c = r\"C:\\LJR\\babylab\\marisa\\datamanual\\cut\\6216\\turntaking\\block\\chi\\turn34\"\n",
    "filesturn534c= os.listdir(pathturn534c)\n",
    "pathturn535c = r\"C:\\LJR\\babylab\\marisa\\datamanual\\cut\\6216\\turntaking\\block\\chi\\turn35\"\n",
    "filesturn535c= os.listdir(pathturn535c)\n",
    "pathturn536c = r\"C:\\LJR\\babylab\\marisa\\datamanual\\cut\\6216\\turntaking\\block\\chi\\turn36\"\n",
    "filesturn536c= os.listdir(pathturn536c)\n",
    "pathturn537c = r\"C:\\LJR\\babylab\\marisa\\datamanual\\cut\\6216\\turntaking\\block\\chi\\turn37\"\n",
    "filesturn537c= os.listdir(pathturn537c)\n",
    "pathturn538c = r\"C:\\LJR\\babylab\\marisa\\datamanual\\cut\\6216\\turntaking\\block\\chi\\turn38\"\n",
    "filesturn538c= os.listdir(pathturn538c)\n",
    "pathturn539c = r\"C:\\LJR\\babylab\\marisa\\datamanual\\cut\\6216\\turntaking\\block\\chi\\turn39\"\n",
    "filesturn539c= os.listdir(pathturn539c)\n",
    "pathturn540c = r\"C:\\LJR\\babylab\\marisa\\datamanual\\cut\\6216\\turntaking\\block\\chi\\turn40\"\n",
    "filesturn540c= os.listdir(pathturn540c)"
   ]
  },
  {
   "cell_type": "code",
   "execution_count": 17,
   "metadata": {},
   "outputs": [
    {
     "name": "stdout",
     "output_type": "stream",
     "text": [
      "2 T16582.84.wav 16582.1899375.wav T16582.84.wav 16585.45.wav\n",
      "8 T16605.8699375.wav 16604.0649375.wav T16613.73.wav 16609.5449375.wav\n",
      "156 T17810.055.wav 17812.715.wav T17847.385.wav 17844.83.wav\n",
      "12 T18302.744.wav 18299.335.wav T18306.812.wav 18304.325.wav\n",
      "4 T18332.883.wav 18331.906.wav T18334.422.wav 18336.182.wav\n",
      "9 T18805.555.wav 18802.288.wav T18805.555.wav 18816.882.wav\n",
      "28 T18951.459.wav 18950.783.wav T18961.52.wav 18964.52.wav\n",
      "9 T19056.989.wav 19051.162.wav T19056.989.wav 19062.783.wav\n",
      "6 T24007.921.wav 24007.04.wav T24011.898.wav 24010.512.wav\n",
      "2 T24070.525.wav 24070.046.wav T24070.525.wav 24071.138.wav\n"
     ]
    }
   ],
   "source": [
    "print(len(filesturn531)*len(filesturn531c),filesturn531[0],filesturn531c[0],filesturn531[-1],filesturn531c[-1])\n",
    "print(len(filesturn532)*len(filesturn532c),filesturn532[0],filesturn532c[0],filesturn532[-1],filesturn532c[-1])\n",
    "print(len(filesturn533)*len(filesturn533c),filesturn533[0],filesturn533c[0],filesturn533[-1],filesturn533c[-1])\n",
    "print(len(filesturn534)*len(filesturn534c),filesturn534[0],filesturn534c[0],filesturn534[-1],filesturn534c[-1])\n",
    "print(len(filesturn535)*len(filesturn535c),filesturn535[0],filesturn535c[0],filesturn535[-1],filesturn535c[-1])\n",
    "print(len(filesturn536)*len(filesturn536c),filesturn536[0],filesturn536c[0],filesturn536[-1],filesturn536c[-1])\n",
    "print(len(filesturn537)*len(filesturn537c),filesturn537[0],filesturn537c[0],filesturn537[-1],filesturn537c[-1])\n",
    "print(len(filesturn538)*len(filesturn538c),filesturn538[0],filesturn538c[0],filesturn538[-1],filesturn538c[-1])\n",
    "print(len(filesturn539)*len(filesturn539c),filesturn539[0],filesturn539c[0],filesturn539[-1],filesturn539c[-1])\n",
    "print(len(filesturn540)*len(filesturn540c),filesturn540[0],filesturn540c[0],filesturn540[-1],filesturn540c[-1])"
   ]
  },
  {
   "cell_type": "code",
   "execution_count": 18,
   "metadata": {},
   "outputs": [],
   "source": [
    "pathturn61 = r\"C:\\LJR\\babylab\\marisa\\datamanual\\cut\\7176\\turntaking\\block\\fa\\turn1\"\n",
    "filesturn61= os.listdir(pathturn61)\n",
    "pathturn62 = r\"C:\\LJR\\babylab\\marisa\\datamanual\\cut\\7176\\turntaking\\block\\fa\\turn2\"\n",
    "filesturn62= os.listdir(pathturn62)\n",
    "pathturn63 = r\"C:\\LJR\\babylab\\marisa\\datamanual\\cut\\7176\\turntaking\\block\\fa\\turn3\"\n",
    "filesturn63= os.listdir(pathturn63)\n",
    "pathturn64 = r\"C:\\LJR\\babylab\\marisa\\datamanual\\cut\\7176\\turntaking\\block\\fa\\turn4\"\n",
    "filesturn64= os.listdir(pathturn64)\n",
    "pathturn65 = r\"C:\\LJR\\babylab\\marisa\\datamanual\\cut\\7176\\turntaking\\block\\fa\\turn5\"\n",
    "filesturn65= os.listdir(pathturn65)\n",
    "pathturn66 = r\"C:\\LJR\\babylab\\marisa\\datamanual\\cut\\7176\\turntaking\\block\\fa\\turn6\"\n",
    "filesturn66= os.listdir(pathturn66)\n",
    "pathturn67 = r\"C:\\LJR\\babylab\\marisa\\datamanual\\cut\\7176\\turntaking\\block\\fa\\turn7\"\n",
    "filesturn67= os.listdir(pathturn67)\n",
    "pathturn68 = r\"C:\\LJR\\babylab\\marisa\\datamanual\\cut\\7176\\turntaking\\block\\fa\\turn8\"\n",
    "filesturn68= os.listdir(pathturn68)\n",
    "\n",
    "\n",
    "pathturn61c = r\"C:\\LJR\\babylab\\marisa\\datamanual\\cut\\7176\\turntaking\\block\\chi\\turn1\"\n",
    "filesturn61c= os.listdir(pathturn61c)\n",
    "pathturn62c = r\"C:\\LJR\\babylab\\marisa\\datamanual\\cut\\7176\\turntaking\\block\\chi\\turn2\"\n",
    "filesturn62c= os.listdir(pathturn62c)\n",
    "pathturn63c = r\"C:\\LJR\\babylab\\marisa\\datamanual\\cut\\7176\\turntaking\\block\\chi\\turn3\"\n",
    "filesturn63c= os.listdir(pathturn63c)\n",
    "pathturn64c = r\"C:\\LJR\\babylab\\marisa\\datamanual\\cut\\7176\\turntaking\\block\\chi\\turn4\"\n",
    "filesturn64c= os.listdir(pathturn64c)\n",
    "pathturn65c = r\"C:\\LJR\\babylab\\marisa\\datamanual\\cut\\7176\\turntaking\\block\\chi\\turn5\"\n",
    "filesturn65c= os.listdir(pathturn65c)\n",
    "pathturn66c = r\"C:\\LJR\\babylab\\marisa\\datamanual\\cut\\7176\\turntaking\\block\\chi\\turn6\"\n",
    "filesturn66c= os.listdir(pathturn66c)\n",
    "pathturn67c = r\"C:\\LJR\\babylab\\marisa\\datamanual\\cut\\7176\\turntaking\\block\\chi\\turn7\"\n",
    "filesturn67c= os.listdir(pathturn67c)\n",
    "pathturn68c = r\"C:\\LJR\\babylab\\marisa\\datamanual\\cut\\7176\\turntaking\\block\\chi\\turn8\"\n",
    "filesturn68c= os.listdir(pathturn68c)\n"
   ]
  },
  {
   "cell_type": "code",
   "execution_count": 19,
   "metadata": {},
   "outputs": [
    {
     "name": "stdout",
     "output_type": "stream",
     "text": [
      "6 T1843.525.wav 1844.235.wav T1847.035.wav 1846.205.wav\n",
      "20 T19245.12.wav 19241.47.wav T19253.86.wav 19254.77.wav\n",
      "2 T19270.84.wav 19269.52.wav T19270.84.wav 19272.16.wav\n",
      "4 T19500.17.wav 19501.88.wav T19505.385.wav 19501.88.wav\n",
      "15 T19520.42.wav 19521.91.wav T19533.58.wav 19532.595.wav\n",
      "3 T23820.579.wav 23818.414.wav T23820.579.wav 23822.346.wav\n",
      "2 T30582.76.wav 30581.14.wav T30582.76.wav 30584.69.wav\n",
      "48 T30599.16.wav 30593.11.wav T30609.29.wav 30610.77.wav\n"
     ]
    }
   ],
   "source": [
    "print(len(filesturn61)*len(filesturn61c),filesturn61[0],filesturn61c[0],filesturn61[-1],filesturn61c[-1])\n",
    "print(len(filesturn62)*len(filesturn62c),filesturn62[0],filesturn62c[0],filesturn62[-1],filesturn62c[-1])\n",
    "print(len(filesturn63)*len(filesturn63c),filesturn63[0],filesturn63c[0],filesturn63[-1],filesturn63c[-1])\n",
    "print(len(filesturn64)*len(filesturn64c),filesturn64[0],filesturn64c[0],filesturn64[-1],filesturn64c[-1])\n",
    "print(len(filesturn65)*len(filesturn65c),filesturn65[0],filesturn65c[0],filesturn65[-1],filesturn65c[-1])\n",
    "print(len(filesturn66)*len(filesturn66c),filesturn66[0],filesturn66c[0],filesturn66[-1],filesturn66c[-1])\n",
    "print(len(filesturn67)*len(filesturn67c),filesturn67[0],filesturn67c[0],filesturn67[-1],filesturn67c[-1])\n",
    "print(len(filesturn68)*len(filesturn68c),filesturn68[0],filesturn68c[0],filesturn68[-1],filesturn68c[-1])"
   ]
  },
  {
   "cell_type": "code",
   "execution_count": 20,
   "metadata": {},
   "outputs": [],
   "source": [
    "pathturn71 = r\"C:\\LJR\\babylab\\marisa\\datamanual\\cut\\7220\\turntaking\\block\\fa\\turn1\"\n",
    "filesturn71= os.listdir(pathturn71)\n",
    "pathturn72 = r\"C:\\LJR\\babylab\\marisa\\datamanual\\cut\\7220\\turntaking\\block\\fa\\turn2\"\n",
    "filesturn72= os.listdir(pathturn72)\n",
    "pathturn73 = r\"C:\\LJR\\babylab\\marisa\\datamanual\\cut\\7220\\turntaking\\block\\fa\\turn3\"\n",
    "filesturn73= os.listdir(pathturn73)\n",
    "pathturn74 = r\"C:\\LJR\\babylab\\marisa\\datamanual\\cut\\7220\\turntaking\\block\\fa\\turn4\"\n",
    "filesturn74= os.listdir(pathturn74)\n",
    "pathturn75 = r\"C:\\LJR\\babylab\\marisa\\datamanual\\cut\\7220\\turntaking\\block\\fa\\turn5\"\n",
    "filesturn75= os.listdir(pathturn75)\n",
    "pathturn76 = r\"C:\\LJR\\babylab\\marisa\\datamanual\\cut\\7220\\turntaking\\block\\fa\\turn6\"\n",
    "filesturn76= os.listdir(pathturn76)\n",
    "pathturn77 = r\"C:\\LJR\\babylab\\marisa\\datamanual\\cut\\7220\\turntaking\\block\\fa\\turn7\"\n",
    "filesturn77= os.listdir(pathturn77)\n",
    "pathturn78 = r\"C:\\LJR\\babylab\\marisa\\datamanual\\cut\\7220\\turntaking\\block\\fa\\turn8\"\n",
    "filesturn78= os.listdir(pathturn78)\n",
    "pathturn79 = r\"C:\\LJR\\babylab\\marisa\\datamanual\\cut\\7220\\turntaking\\block\\fa\\turn9\"\n",
    "filesturn79= os.listdir(pathturn79)\n",
    "pathturn710 = r\"C:\\LJR\\babylab\\marisa\\datamanual\\cut\\7220\\turntaking\\block\\fa\\turn10\"\n",
    "filesturn710= os.listdir(pathturn710)\n",
    "pathturn711 = r\"C:\\LJR\\babylab\\marisa\\datamanual\\cut\\7220\\turntaking\\block\\fa\\turn11\"\n",
    "filesturn711= os.listdir(pathturn711)\n",
    "\n",
    "pathturn71c = r\"C:\\LJR\\babylab\\marisa\\datamanual\\cut\\7220\\turntaking\\block\\chi\\turn1\"\n",
    "filesturn71c= os.listdir(pathturn71c)\n",
    "pathturn72c = r\"C:\\LJR\\babylab\\marisa\\datamanual\\cut\\7220\\turntaking\\block\\chi\\turn2\"\n",
    "filesturn72c= os.listdir(pathturn72c)\n",
    "pathturn73c = r\"C:\\LJR\\babylab\\marisa\\datamanual\\cut\\7220\\turntaking\\block\\chi\\turn3\"\n",
    "filesturn73c= os.listdir(pathturn73c)\n",
    "pathturn74c = r\"C:\\LJR\\babylab\\marisa\\datamanual\\cut\\7220\\turntaking\\block\\chi\\turn4\"\n",
    "filesturn74c= os.listdir(pathturn74c)\n",
    "pathturn75c = r\"C:\\LJR\\babylab\\marisa\\datamanual\\cut\\7220\\turntaking\\block\\chi\\turn5\"\n",
    "filesturn75c= os.listdir(pathturn75c)\n",
    "pathturn76c = r\"C:\\LJR\\babylab\\marisa\\datamanual\\cut\\7220\\turntaking\\block\\chi\\turn6\"\n",
    "filesturn76c= os.listdir(pathturn76c)\n",
    "pathturn77c = r\"C:\\LJR\\babylab\\marisa\\datamanual\\cut\\7220\\turntaking\\block\\chi\\turn7\"\n",
    "filesturn77c= os.listdir(pathturn77c)\n",
    "pathturn78c = r\"C:\\LJR\\babylab\\marisa\\datamanual\\cut\\7220\\turntaking\\block\\chi\\turn8\"\n",
    "filesturn78c= os.listdir(pathturn78c)\n",
    "pathturn79c = r\"C:\\LJR\\babylab\\marisa\\datamanual\\cut\\7220\\turntaking\\block\\chi\\turn9\"\n",
    "filesturn79c= os.listdir(pathturn79c)\n",
    "pathturn710c = r\"C:\\LJR\\babylab\\marisa\\datamanual\\cut\\7220\\turntaking\\block\\chi\\turn10\"\n",
    "filesturn710c= os.listdir(pathturn710c)\n",
    "pathturn711c = r\"C:\\LJR\\babylab\\marisa\\datamanual\\cut\\7220\\turntaking\\block\\chi\\turn11\"\n",
    "filesturn711c= os.listdir(pathturn711c)"
   ]
  },
  {
   "cell_type": "code",
   "execution_count": 21,
   "metadata": {},
   "outputs": [
    {
     "name": "stdout",
     "output_type": "stream",
     "text": [
      "24 T4646.535.wav 4643.06.wav T4652.445.wav 4656.115.wav\n",
      "3 T4664.19.wav 4662.33.wav T4664.19.wav 4666.035.wav\n",
      "15 T4800.24.wav 4801.99.wav T4810.85.wav 4812.36.wav\n",
      "68 T5021.46.wav 5020.52.wav T5048.84.wav 5049.985.wav\n",
      "18 T5095.14.wav 5094.32.wav T5098.08.wav 5109.35.wav\n",
      "2 T5113.28.wav 5114.69.wav T5115.2.wav 5114.69.wav\n",
      "4 T6237.283.wav 6236.301.wav T6241.949.wav 6241.534.wav\n",
      "3 T6263.95.wav 6262.465.wav T6263.95.wav 6269.667.wav\n",
      "2 T7740.35.wav 7737.55.wav T7740.35.wav 7742.19.wav\n",
      "24 T15223.15.wav 15223.87.wav T15237.6.wav 15233.605.wav\n",
      "4 T30482.23.wav 30482.882.wav T30484.06.wav 30484.66.wav\n"
     ]
    }
   ],
   "source": [
    "print(len(filesturn71)*len(filesturn71c),filesturn71[0],filesturn71c[0],filesturn71[-1],filesturn71c[-1])\n",
    "print(len(filesturn72)*len(filesturn72c),filesturn72[0],filesturn72c[0],filesturn72[-1],filesturn72c[-1])\n",
    "print(len(filesturn73)*len(filesturn73c),filesturn73[0],filesturn73c[0],filesturn73[-1],filesturn73c[-1])\n",
    "print(len(filesturn74)*len(filesturn74c),filesturn74[0],filesturn74c[0],filesturn74[-1],filesturn74c[-1])\n",
    "print(len(filesturn75)*len(filesturn75c),filesturn75[0],filesturn75c[0],filesturn75[-1],filesturn75c[-1])\n",
    "print(len(filesturn76)*len(filesturn76c),filesturn76[0],filesturn76c[0],filesturn76[-1],filesturn76c[-1])\n",
    "print(len(filesturn77)*len(filesturn77c),filesturn77[0],filesturn77c[0],filesturn77[-1],filesturn77c[-1])\n",
    "print(len(filesturn78)*len(filesturn78c),filesturn78[0],filesturn78c[0],filesturn78[-1],filesturn78c[-1])\n",
    "print(len(filesturn79)*len(filesturn79c),filesturn79[0],filesturn79c[0],filesturn79[-1],filesturn79c[-1])\n",
    "print(len(filesturn710)*len(filesturn710c),filesturn710[0],filesturn710c[0],filesturn710[-1],filesturn710c[-1])\n",
    "print(len(filesturn711)*len(filesturn711c),filesturn711[0],filesturn711c[0],filesturn711[-1],filesturn711c[-1])"
   ]
  },
  {
   "cell_type": "code",
   "execution_count": 22,
   "metadata": {},
   "outputs": [],
   "source": [
    "pathturn81 = r\"C:\\LJR\\babylab\\marisa\\datamanual\\cut\\7326\\turntaking\\block\\fa\\turn1\"\n",
    "filesturn81= os.listdir(pathturn81)\n",
    "pathturn82 = r\"C:\\LJR\\babylab\\marisa\\datamanual\\cut\\7326\\turntaking\\block\\fa\\turn2\"\n",
    "filesturn82= os.listdir(pathturn82)\n",
    "pathturn83 = r\"C:\\LJR\\babylab\\marisa\\datamanual\\cut\\7326\\turntaking\\block\\fa\\turn3\"\n",
    "filesturn83= os.listdir(pathturn83)\n",
    "pathturn84 = r\"C:\\LJR\\babylab\\marisa\\datamanual\\cut\\7326\\turntaking\\block\\fa\\turn4\"\n",
    "filesturn84= os.listdir(pathturn84)\n",
    "pathturn85 = r\"C:\\LJR\\babylab\\marisa\\datamanual\\cut\\7326\\turntaking\\block\\fa\\turn5\"\n",
    "filesturn85= os.listdir(pathturn85)\n",
    "pathturn86 = r\"C:\\LJR\\babylab\\marisa\\datamanual\\cut\\7326\\turntaking\\block\\fa\\turn6\"\n",
    "filesturn86= os.listdir(pathturn86)\n",
    "pathturn87 = r\"C:\\LJR\\babylab\\marisa\\datamanual\\cut\\7326\\turntaking\\block\\fa\\turn7\"\n",
    "filesturn87= os.listdir(pathturn87)\n",
    "pathturn88 = r\"C:\\LJR\\babylab\\marisa\\datamanual\\cut\\7326\\turntaking\\block\\fa\\turn8\"\n",
    "filesturn88= os.listdir(pathturn88)\n",
    "pathturn89 = r\"C:\\LJR\\babylab\\marisa\\datamanual\\cut\\7326\\turntaking\\block\\fa\\turn9\"\n",
    "filesturn89= os.listdir(pathturn89)\n",
    "pathturn810 = r\"C:\\LJR\\babylab\\marisa\\datamanual\\cut\\7326\\turntaking\\block\\fa\\turn10\"\n",
    "filesturn810= os.listdir(pathturn810)\n",
    "\n",
    "\n",
    "pathturn81c = r\"C:\\LJR\\babylab\\marisa\\datamanual\\cut\\7326\\turntaking\\block\\chi\\turn1\"\n",
    "filesturn81c= os.listdir(pathturn81c)\n",
    "pathturn82c = r\"C:\\LJR\\babylab\\marisa\\datamanual\\cut\\7326\\turntaking\\block\\chi\\turn2\"\n",
    "filesturn82c= os.listdir(pathturn82c)\n",
    "pathturn83c = r\"C:\\LJR\\babylab\\marisa\\datamanual\\cut\\7326\\turntaking\\block\\chi\\turn3\"\n",
    "filesturn83c= os.listdir(pathturn83c)\n",
    "pathturn84c = r\"C:\\LJR\\babylab\\marisa\\datamanual\\cut\\7326\\turntaking\\block\\chi\\turn4\"\n",
    "filesturn84c= os.listdir(pathturn84c)\n",
    "pathturn85c = r\"C:\\LJR\\babylab\\marisa\\datamanual\\cut\\7326\\turntaking\\block\\chi\\turn5\"\n",
    "filesturn85c= os.listdir(pathturn85c)\n",
    "pathturn86c = r\"C:\\LJR\\babylab\\marisa\\datamanual\\cut\\7326\\turntaking\\block\\chi\\turn6\"\n",
    "filesturn86c= os.listdir(pathturn86c)\n",
    "pathturn87c = r\"C:\\LJR\\babylab\\marisa\\datamanual\\cut\\7326\\turntaking\\block\\chi\\turn7\"\n",
    "filesturn87c= os.listdir(pathturn87c)\n",
    "pathturn88c = r\"C:\\LJR\\babylab\\marisa\\datamanual\\cut\\7326\\turntaking\\block\\chi\\turn8\"\n",
    "filesturn88c= os.listdir(pathturn88c)\n",
    "pathturn89c = r\"C:\\LJR\\babylab\\marisa\\datamanual\\cut\\7326\\turntaking\\block\\chi\\turn9\"\n",
    "filesturn89c= os.listdir(pathturn89c)\n",
    "pathturn810c = r\"C:\\LJR\\babylab\\marisa\\datamanual\\cut\\7326\\turntaking\\block\\chi\\turn10\"\n",
    "filesturn810c= os.listdir(pathturn810c)\n"
   ]
  },
  {
   "cell_type": "code",
   "execution_count": 23,
   "metadata": {},
   "outputs": [
    {
     "name": "stdout",
     "output_type": "stream",
     "text": [
      "12 T7065.051.wav 7063.909.wav T7077.388.wav 7078.833.wav\n",
      "3 T7137.452.wav 7136.094.wav T7137.452.wav 7141.439.wav\n",
      "7 T8691.755.wav 8690.366.wav T8691.755.wav 8701.94.wav\n",
      "10 T14850.522.wav 14849.343.wav T14850.522.wav 14869.984.wav\n",
      "6 T15045.523.wav 15046.781.wav T15049.486.wav 15048.797.wav\n",
      "8 T15054.081.wav 15053.114.wav T15057.352.wav 15058.387.wav\n",
      "35 T15068.655.wav 15067.781.wav T15081.549.wav 15080.891.wav\n",
      "4 T15089.434.wav 15091.109.wav T15091.868.wav 15093.336.wav\n",
      "35 T15107.475.wav 15109.172.wav T15122.295.wav 15122.922.wav\n",
      "50 T18384.05.wav 18382.392.wav T18407.358.wav 18406.1.wav\n"
     ]
    }
   ],
   "source": [
    "print(len(filesturn81)*len(filesturn81c),filesturn81[0],filesturn81c[0],filesturn81[-1],filesturn81c[-1])\n",
    "print(len(filesturn82)*len(filesturn82c),filesturn82[0],filesturn82c[0],filesturn82[-1],filesturn82c[-1])\n",
    "print(len(filesturn83)*len(filesturn83c),filesturn83[0],filesturn83c[0],filesturn83[-1],filesturn83c[-1])\n",
    "print(len(filesturn84)*len(filesturn84c),filesturn84[0],filesturn84c[0],filesturn84[-1],filesturn84c[-1])\n",
    "print(len(filesturn85)*len(filesturn85c),filesturn85[0],filesturn85c[0],filesturn85[-1],filesturn85c[-1])\n",
    "print(len(filesturn86)*len(filesturn86c),filesturn86[0],filesturn86c[0],filesturn86[-1],filesturn86c[-1])\n",
    "print(len(filesturn87)*len(filesturn87c),filesturn87[0],filesturn87c[0],filesturn87[-1],filesturn87c[-1])\n",
    "print(len(filesturn88)*len(filesturn88c),filesturn88[0],filesturn88c[0],filesturn88[-1],filesturn88c[-1])\n",
    "print(len(filesturn89)*len(filesturn89c),filesturn89[0],filesturn89c[0],filesturn89[-1],filesturn89c[-1])\n",
    "print(len(filesturn810)*len(filesturn810c),filesturn810[0],filesturn810c[0],filesturn810[-1],filesturn810c[-1])"
   ]
  },
  {
   "cell_type": "code",
   "execution_count": 24,
   "metadata": {},
   "outputs": [],
   "source": [
    "pathturn811 = r\"C:\\LJR\\babylab\\marisa\\datamanual\\cut\\7326\\turntaking\\block\\fa\\turn11\"\n",
    "filesturn811= os.listdir(pathturn811)\n",
    "pathturn812 = r\"C:\\LJR\\babylab\\marisa\\datamanual\\cut\\7326\\turntaking\\block\\fa\\turn12\"\n",
    "filesturn812= os.listdir(pathturn812)\n",
    "pathturn813 = r\"C:\\LJR\\babylab\\marisa\\datamanual\\cut\\7326\\turntaking\\block\\fa\\turn13\"\n",
    "filesturn813= os.listdir(pathturn813)\n",
    "pathturn814 = r\"C:\\LJR\\babylab\\marisa\\datamanual\\cut\\7326\\turntaking\\block\\fa\\turn14\"\n",
    "filesturn814= os.listdir(pathturn814)\n",
    "pathturn815 = r\"C:\\LJR\\babylab\\marisa\\datamanual\\cut\\7326\\turntaking\\block\\fa\\turn15\"\n",
    "filesturn815= os.listdir(pathturn815)\n",
    "pathturn816 = r\"C:\\LJR\\babylab\\marisa\\datamanual\\cut\\7326\\turntaking\\block\\fa\\turn16\"\n",
    "filesturn816= os.listdir(pathturn816)\n",
    "pathturn817 = r\"C:\\LJR\\babylab\\marisa\\datamanual\\cut\\7326\\turntaking\\block\\fa\\turn17\"\n",
    "filesturn817= os.listdir(pathturn817)\n",
    "pathturn818 = r\"C:\\LJR\\babylab\\marisa\\datamanual\\cut\\7326\\turntaking\\block\\fa\\turn18\"\n",
    "filesturn818= os.listdir(pathturn818)\n",
    "pathturn819 = r\"C:\\LJR\\babylab\\marisa\\datamanual\\cut\\7326\\turntaking\\block\\fa\\turn19\"\n",
    "filesturn819= os.listdir(pathturn819)\n",
    "pathturn820 = r\"C:\\LJR\\babylab\\marisa\\datamanual\\cut\\7326\\turntaking\\block\\fa\\turn20\"\n",
    "filesturn820= os.listdir(pathturn820)\n",
    "pathturn821 = r\"C:\\LJR\\babylab\\marisa\\datamanual\\cut\\7326\\turntaking\\block\\fa\\turn21\"\n",
    "filesturn821= os.listdir(pathturn821)\n",
    "pathturn822 = r\"C:\\LJR\\babylab\\marisa\\datamanual\\cut\\7326\\turntaking\\block\\fa\\turn22\"\n",
    "filesturn822= os.listdir(pathturn822)\n",
    "\n",
    "\n",
    "pathturn811c = r\"C:\\LJR\\babylab\\marisa\\datamanual\\cut\\7326\\turntaking\\block\\chi\\turn11\"\n",
    "filesturn811c= os.listdir(pathturn811c)\n",
    "pathturn812c = r\"C:\\LJR\\babylab\\marisa\\datamanual\\cut\\7326\\turntaking\\block\\chi\\turn12\"\n",
    "filesturn812c= os.listdir(pathturn812c)\n",
    "pathturn813c = r\"C:\\LJR\\babylab\\marisa\\datamanual\\cut\\7326\\turntaking\\block\\chi\\turn13\"\n",
    "filesturn813c= os.listdir(pathturn813c)\n",
    "pathturn814c = r\"C:\\LJR\\babylab\\marisa\\datamanual\\cut\\7326\\turntaking\\block\\chi\\turn14\"\n",
    "filesturn814c= os.listdir(pathturn814c)\n",
    "pathturn815c = r\"C:\\LJR\\babylab\\marisa\\datamanual\\cut\\7326\\turntaking\\block\\chi\\turn15\"\n",
    "filesturn815c= os.listdir(pathturn815c)\n",
    "pathturn816c = r\"C:\\LJR\\babylab\\marisa\\datamanual\\cut\\7326\\turntaking\\block\\chi\\turn16\"\n",
    "filesturn816c= os.listdir(pathturn816c)\n",
    "pathturn817c = r\"C:\\LJR\\babylab\\marisa\\datamanual\\cut\\7326\\turntaking\\block\\chi\\turn17\"\n",
    "filesturn817c= os.listdir(pathturn817c)\n",
    "pathturn818c = r\"C:\\LJR\\babylab\\marisa\\datamanual\\cut\\7326\\turntaking\\block\\chi\\turn18\"\n",
    "filesturn818c= os.listdir(pathturn818c)\n",
    "pathturn819c = r\"C:\\LJR\\babylab\\marisa\\datamanual\\cut\\7326\\turntaking\\block\\chi\\turn19\"\n",
    "filesturn819c= os.listdir(pathturn819c)\n",
    "pathturn820c = r\"C:\\LJR\\babylab\\marisa\\datamanual\\cut\\7326\\turntaking\\block\\chi\\turn20\"\n",
    "filesturn820c= os.listdir(pathturn820c)\n",
    "pathturn821c = r\"C:\\LJR\\babylab\\marisa\\datamanual\\cut\\7326\\turntaking\\block\\chi\\turn21\"\n",
    "filesturn821c= os.listdir(pathturn821c)\n",
    "pathturn822c = r\"C:\\LJR\\babylab\\marisa\\datamanual\\cut\\7326\\turntaking\\block\\chi\\turn22\"\n",
    "filesturn822c= os.listdir(pathturn822c)"
   ]
  },
  {
   "cell_type": "code",
   "execution_count": 25,
   "metadata": {},
   "outputs": [
    {
     "name": "stdout",
     "output_type": "stream",
     "text": [
      "48 T18405.145.wav 18413.796.wav T18424.348.wav 18424.124.wav\n",
      "4 T18525.254.wav 18522.594.wav T18530.102.wav 18528.847.wav\n",
      "20 T26881.563.wav 26880.887.wav T26890.837.wav 26892.624.wav\n",
      "3 T27115.31.wav 27111.734.wav T27115.31.wav 27116.594.wav\n",
      "9 T27398.758.wav 27397.016.wav T27404.411.wav 27402.202.wav\n",
      "6 T27422.934.wav 27420.61.wav T27426.243.wav 27428.282.wav\n",
      "6 T27447.716.wav 27446.688.wav T27452.793.wav 27451.11.wav\n",
      "90 T27560.274.wav 27565.14.wav T27594.314.wav 27599.0.wav\n",
      "65 T28048.285.wav 28046.169.wav T28067.434.wav 28068.08.wav\n",
      "4 T28150.252.wav 28149.209.wav T28154.968.wav 28152.212.wav\n",
      "4 T28471.29.wav 28468.876.wav T28472.53.wav 28473.6.wav\n",
      "2 T28481.15.wav 28481.51.wav T28481.95.wav 28481.51.wav\n"
     ]
    }
   ],
   "source": [
    "print(len(filesturn811)*len(filesturn811c),filesturn811[0],filesturn811c[0],filesturn811[-1],filesturn811c[-1])\n",
    "print(len(filesturn812)*len(filesturn812c),filesturn812[0],filesturn812c[0],filesturn812[-1],filesturn812c[-1])\n",
    "print(len(filesturn813)*len(filesturn813c),filesturn813[0],filesturn813c[0],filesturn813[-1],filesturn813c[-1])\n",
    "print(len(filesturn814)*len(filesturn814c),filesturn814[0],filesturn814c[0],filesturn814[-1],filesturn814c[-1])\n",
    "print(len(filesturn815)*len(filesturn815c),filesturn815[0],filesturn815c[0],filesturn815[-1],filesturn815c[-1])\n",
    "print(len(filesturn816)*len(filesturn816c),filesturn816[0],filesturn816c[0],filesturn816[-1],filesturn816c[-1])\n",
    "print(len(filesturn817)*len(filesturn817c),filesturn817[0],filesturn817c[0],filesturn817[-1],filesturn817c[-1])\n",
    "print(len(filesturn818)*len(filesturn818c),filesturn818[0],filesturn818c[0],filesturn818[-1],filesturn818c[-1])\n",
    "print(len(filesturn819)*len(filesturn819c),filesturn819[0],filesturn819c[0],filesturn819[-1],filesturn819c[-1])\n",
    "print(len(filesturn820)*len(filesturn820c),filesturn820[0],filesturn820c[0],filesturn820[-1],filesturn820c[-1])\n",
    "print(len(filesturn821)*len(filesturn821c),filesturn821[0],filesturn821c[0],filesturn821[-1],filesturn821c[-1])\n",
    "print(len(filesturn822)*len(filesturn822c),filesturn822[0],filesturn822c[0],filesturn822[-1],filesturn822c[-1])"
   ]
  },
  {
   "cell_type": "code",
   "execution_count": 26,
   "metadata": {},
   "outputs": [],
   "source": [
    "pathturn91 = r\"C:\\LJR\\babylab\\marisa\\datamanual\\cut\\8787\\turntaking\\block\\fa\\turn1\"\n",
    "filesturn91= os.listdir(pathturn91)\n",
    "pathturn91c = r\"C:\\LJR\\babylab\\marisa\\datamanual\\cut\\8787\\turntaking\\block\\chi\\turn1\"\n",
    "filesturn91c= os.listdir(pathturn91c)"
   ]
  },
  {
   "cell_type": "code",
   "execution_count": 27,
   "metadata": {},
   "outputs": [
    {
     "name": "stdout",
     "output_type": "stream",
     "text": [
      "9 T15290.96.wav 15290.071.wav T15296.585.wav 15295.621.wav\n"
     ]
    }
   ],
   "source": [
    "print(len(filesturn91)*len(filesturn91c),filesturn91[0],filesturn91c[0],filesturn91[-1],filesturn91c[-1])"
   ]
  },
  {
   "cell_type": "code",
   "execution_count": 28,
   "metadata": {},
   "outputs": [],
   "source": [
    "import sklearn\n",
    "def normalize(x, axis=0):\n",
    "    return sklearn.preprocessing.minmax_scale(x, axis=axis)"
   ]
  },
  {
   "cell_type": "code",
   "execution_count": 29,
   "metadata": {},
   "outputs": [],
   "source": [
    "def featurec(path,files):\n",
    "    t=np.zeros((len(files),10))\n",
    "    for i in range(len(files)):\n",
    "        x,sr1=librosa.load(path+\"\\\\\"+files[i],sr=None)\n",
    "        duration=librosa.get_duration(y=x, sr=sr1)\n",
    "        emphasized_signal = np.append(x[0], x[1:] -0.97 * x[:-1])\n",
    "        mfccss = librosa.feature.mfcc(y=emphasized_signal, sr=sr1)\n",
    "        mfccs = normalize(mfccss , axis=1)\n",
    "        mfccs=mfccs.T\n",
    "        mfccsm=np.mean(mfccs)\n",
    "        f0, voiced_flag, voiced_probs = librosa.pyin(x,sr=sr1,frame_length=512, fill_na=np.nan, n_thresholds=50, fmin=120, fmax=600)\n",
    "        rf0= np.nanmax(f0)-np.nanmin(f0)\n",
    "        if np.isnan(rf0):\n",
    "            print(path+\"\\\\\"+files[i])\n",
    "        maxf0 = np.nanmax(f0)\n",
    "        minf0 = np.nanmin(f0)\n",
    "        mmf0=np.nanmean(f0)\n",
    "        rms = librosa.feature.rms(y=x,frame_length=512, hop_length=128)\n",
    "        mrms=np.nanmean(rms)\n",
    "        zerocrossr = librosa.feature.zero_crossing_rate(y=x,frame_length=512, hop_length=128)\n",
    "        mzerocrossr=np.nanmean(zerocrossr)\n",
    "        starttime=re.search(\"(\\d+\\.\\d+)\",files[i]).group(0)\n",
    "        label=0\n",
    "        feature=np.c_[float(starttime),duration,mfccsm,rf0,maxf0,minf0,mmf0,mrms,mzerocrossr,label]\n",
    "        t[i,:]=feature\n",
    "    return t"
   ]
  },
  {
   "cell_type": "code",
   "execution_count": 30,
   "metadata": {},
   "outputs": [],
   "source": [
    "def featureci(path,files):\n",
    "    t=np.zeros((len(files),10))\n",
    "    for i in range(len(files)):\n",
    "        x,sr1=librosa.load(path+\"\\\\\"+files[i],sr=None)\n",
    "        duration=librosa.get_duration(y=x, sr=sr1)\n",
    "        emphasized_signal = np.append(x[0], x[1:] -0.97 * x[:-1])\n",
    "        mfccss = librosa.feature.mfcc(y=emphasized_signal, sr=sr1)\n",
    "        mfccs = normalize(mfccss , axis=1)\n",
    "        mfccs=mfccs.T\n",
    "        mfccsm=np.mean(mfccs)\n",
    "        f0, voiced_flag, voiced_probs = librosa.pyin(x,sr=sr1,frame_length=512, fill_na=np.nan, n_thresholds=50, fmin=120, fmax=1000)\n",
    "        rf0= np.nanmax(f0)-np.nanmin(f0)\n",
    "        if np.isnan(rf0):\n",
    "            print(path+\"\\\\\"+files[i])\n",
    "        maxf0 = np.nanmax(f0)\n",
    "        minf0 = np.nanmin(f0)\n",
    "        mmf0=np.nanmean(f0)\n",
    "        rms = librosa.feature.rms(y=x,frame_length=512, hop_length=128)\n",
    "        mrms=np.nanmean(rms)\n",
    "        zerocrossr = librosa.feature.zero_crossing_rate(y=x,frame_length=512, hop_length=128)\n",
    "        mzerocrossr=np.nanmean(zerocrossr)\n",
    "        starttime=re.search(\"(\\d+\\.\\d+)\",files[i]).group(0)\n",
    "        label=1\n",
    "        feature=np.c_[float(starttime),duration,mfccsm,rf0,maxf0,minf0,mmf0,mrms,mzerocrossr,label]\n",
    "        t[i,:]=feature\n",
    "    return t"
   ]
  },
  {
   "cell_type": "code",
   "execution_count": 31,
   "metadata": {},
   "outputs": [],
   "source": [
    "def diffc(pathturn,filesturn,pathturnc,filesturnc):\n",
    "    t=featurec(pathturn,filesturn)\n",
    "    tc=featureci(pathturnc,filesturnc)\n",
    "    block=np.r_[t,tc]\n",
    "    blocks = block[block[:,0].argsort()]\n",
    "    groups = [(k, sum(1 for _ in g)) for k, g in groupby(blocks[:,-1])]\n",
    "    groupn=np.zeros((len(groups),1))\n",
    "    for i in range(len(groups)):\n",
    "        groupn[i]=groups[i][1]\n",
    "    \n",
    "    ind=np.zeros((len(groupn),2))\n",
    "    for i in range(len(groupn)):\n",
    "        if i!=len(groupn):\n",
    "            ind[i,:]=np.c_[sum(groupn[0:i]),sum(groupn[0:i+1])]\n",
    "    blockn=np.zeros((len(groupn),10))\n",
    "    for i in range(len(groupn)):\n",
    "        blockn[i,:]=np.mean(blocks[int(ind[i,0]):int(ind[i,1]),:],axis=0)\n",
    "    diff=np.zeros((len(groupn)-1,10))\n",
    "    mother=np.zeros((len(groupn)-1,10))\n",
    "    infant=np.zeros((len(groupn)-1,10))\n",
    "    for i in range(len(groupn)-1):\n",
    "        diff[i,:]=np.absolute(blockn[i+1,:]-blockn[i,:])\n",
    "        if (blockn[i+1,-1]==0)&(blockn[i,-1]==1):\n",
    "            mother[i,:]=blockn[i+1,:]\n",
    "            infant[i,:]=blockn[i,:]\n",
    "        if (blockn[i+1,-1]==1)&(blockn[i,-1]==0):\n",
    "            mother[i,:]=blockn[i,:]\n",
    "            infant[i,:]=blockn[i+1,:]\n",
    "    xlabel=(np.arange(len(diff))+1)\n",
    "    return diff,xlabel,mother,infant"
   ]
  },
  {
   "cell_type": "code",
   "execution_count": 32,
   "metadata": {},
   "outputs": [],
   "source": [
    "diffc11,xlabel11,t11,tc11=diffc(pathturn11,filesturn11,pathturn11c,filesturn11c)\n",
    "diffc12,xlabel12,t12,tc12=diffc(pathturn12,filesturn12,pathturn12c,filesturn12c)\n",
    "diffc13,xlabel13,t13,tc13=diffc(pathturn13,filesturn13,pathturn13c,filesturn13c)\n",
    "diffc14,xlabel14,t14,tc14=diffc(pathturn14,filesturn14,pathturn14c,filesturn14c)\n",
    "diffc15,xlabel15,t15,tc15=diffc(pathturn15,filesturn15,pathturn15c,filesturn15c)"
   ]
  },
  {
   "cell_type": "code",
   "execution_count": 33,
   "metadata": {},
   "outputs": [],
   "source": [
    "diffc1=np.r_[diffc11,diffc12,diffc13,diffc14,diffc15]\n",
    "xlabel1=np.r_[xlabel11,xlabel12,xlabel13,xlabel14,xlabel15]\n",
    "t1=np.r_[t11,t12,t13,t14,t15]\n",
    "tc1=np.r_[tc11,tc12,tc13,tc14,tc15]"
   ]
  },
  {
   "cell_type": "code",
   "execution_count": 34,
   "metadata": {},
   "outputs": [],
   "source": [
    "mdiff1=np.c_[np.mean(diffc11,axis = 0),np.mean(diffc12,axis = 0),np.mean(diffc13,axis = 0),np.mean(diffc14,axis = 0),np.mean(diffc15,axis = 0)]"
   ]
  },
  {
   "cell_type": "code",
   "execution_count": 35,
   "metadata": {},
   "outputs": [],
   "source": [
    "diffc1l=np.c_[diffc11[0,:],diffc12[0,:],diffc13[0,:],diffc14[0,:],diffc15[0,:]]\n",
    "diffc1r=np.c_[diffc11[-1,:],diffc12[-1,:],diffc13[-1,:],diffc14[-1,:],diffc15[-1,:]]\n",
    "diffc1lr=np.r_[diffc1l.T,diffc1r.T]\n",
    "diffc1lrz=normalize(diffc1lr,axis=0)\n",
    "diffc1lrzl=diffc1lrz[0:5,:]\n",
    "diffc1lrzr=diffc1lrz[5:10,:]"
   ]
  },
  {
   "cell_type": "code",
   "execution_count": 36,
   "metadata": {},
   "outputs": [],
   "source": [
    "diffc21,xlabel21,t21,tc21=diffc(pathturn21,filesturn21,pathturn21c,filesturn21c)\n",
    "diffc22,xlabel22,t22,tc22=diffc(pathturn22,filesturn22,pathturn22c,filesturn22c)\n",
    "diffc23,xlabel23,t23,tc23=diffc(pathturn23,filesturn23,pathturn23c,filesturn23c)\n",
    "diffc24,xlabel24,t24,tc24=diffc(pathturn24,filesturn24,pathturn24c,filesturn24c)\n",
    "diffc25,xlabel25,t25,tc25=diffc(pathturn25,filesturn25,pathturn25c,filesturn25c)\n",
    "diffc26,xlabel26,t26,tc26=diffc(pathturn26,filesturn26,pathturn26c,filesturn26c)"
   ]
  },
  {
   "cell_type": "code",
   "execution_count": 37,
   "metadata": {},
   "outputs": [],
   "source": [
    "diffc2=np.r_[diffc21,diffc22,diffc23,diffc24,diffc25,diffc26]\n",
    "xlabel2=np.r_[xlabel21,xlabel22,xlabel23,xlabel24,xlabel25,xlabel26]\n",
    "t2=np.r_[t21,t22,t23,t24,t25,t26]\n",
    "tc2=np.r_[tc21,tc22,tc23,tc24,tc25,tc26]"
   ]
  },
  {
   "cell_type": "code",
   "execution_count": 38,
   "metadata": {},
   "outputs": [],
   "source": [
    "mdiff2=np.c_[np.mean(diffc21,axis = 0),np.mean(diffc22,axis = 0),np.mean(diffc23,axis = 0),np.mean(diffc24,axis = 0),np.mean(diffc25,axis = 0),np.mean(diffc26,axis = 0)]"
   ]
  },
  {
   "cell_type": "code",
   "execution_count": 39,
   "metadata": {},
   "outputs": [],
   "source": [
    "diffc2l=np.c_[diffc21[0,:],diffc22[0,:],diffc23[0,:],diffc24[0,:],diffc25[0,:]]\n",
    "diffc2r=np.c_[diffc21[-1,:],diffc22[-1,:],diffc23[-1,:],diffc24[-1,:],diffc25[-1,:]]\n",
    "diffc2lr=np.r_[diffc2l.T,diffc2r.T]\n",
    "diffc2lrz=normalize(diffc2lr,axis=0)\n",
    "diffc2lrzl=diffc2lrz[0:6,:]\n",
    "diffc2lrzr=diffc2lrz[6:12,:]"
   ]
  },
  {
   "cell_type": "code",
   "execution_count": 40,
   "metadata": {},
   "outputs": [],
   "source": [
    "diffc31,xlabel31,t31,tc31=diffc(pathturn31,filesturn31,pathturn31c,filesturn31c)\n",
    "diffc32,xlabel32,t32,tc32=diffc(pathturn32,filesturn32,pathturn32c,filesturn32c)\n",
    "diffc33,xlabel33,t33,tc33=diffc(pathturn33,filesturn33,pathturn33c,filesturn33c)\n",
    "diffc34,xlabel34,t34,tc34=diffc(pathturn34,filesturn34,pathturn34c,filesturn34c)\n",
    "diffc35,xlabel35,t35,tc35=diffc(pathturn35,filesturn35,pathturn35c,filesturn35c)\n",
    "diffc36,xlabel36,t36,tc36=diffc(pathturn36,filesturn36,pathturn36c,filesturn36c)\n",
    "diffc37,xlabel37,t37,tc37=diffc(pathturn37,filesturn37,pathturn37c,filesturn37c)\n",
    "diffc38,xlabel38,t38,tc38=diffc(pathturn38,filesturn38,pathturn38c,filesturn38c)\n",
    "diffc39,xlabel39,t39,tc39=diffc(pathturn39,filesturn39,pathturn39c,filesturn39c)\n",
    "diffc310,xlabel310,t310,tc310=diffc(pathturn310,filesturn310,pathturn310c,filesturn310c)"
   ]
  },
  {
   "cell_type": "code",
   "execution_count": 41,
   "metadata": {},
   "outputs": [],
   "source": [
    "#diffc3=np.r_[diffc31,diffc32,diffc33,diffc34,diffc35,diffc36,diffc37,diffc38,diffc39,diffc310]\n",
    "#xlabel3=np.r_[xlabel31,xlabel32,xlabel33,xlabel34,xlabel35,xlabel36,xlabel37,xlabel38,xlabel39,xlabel310]"
   ]
  },
  {
   "cell_type": "code",
   "execution_count": 42,
   "metadata": {},
   "outputs": [],
   "source": [
    "diffc3=np.r_[diffc31,diffc33,diffc34,diffc35,diffc36,diffc37,diffc38,diffc39,diffc310]\n",
    "xlabel3=np.r_[xlabel31,xlabel33,xlabel34,xlabel35,xlabel36,xlabel37,xlabel38,xlabel39,xlabel310]\n",
    "t3=np.r_[t31,t33,t34,t35,t36,t37,t38,t39,t310]\n",
    "tc3=np.r_[tc31,tc33,tc34,tc35,tc36,tc37,tc38,tc39,tc310]"
   ]
  },
  {
   "cell_type": "code",
   "execution_count": 43,
   "metadata": {},
   "outputs": [],
   "source": [
    "mdiff3=np.c_[np.mean(diffc31,axis = 0),np.mean(diffc33,axis = 0),np.mean(diffc34,axis = 0),np.mean(diffc35,axis = 0),np.mean(diffc36,axis = 0),np.mean(diffc37,axis = 0),np.mean(diffc38,axis = 0),np.mean(diffc39,axis = 0),np.mean(diffc310,axis = 0)]"
   ]
  },
  {
   "cell_type": "code",
   "execution_count": 44,
   "metadata": {},
   "outputs": [],
   "source": [
    "#diffc3l=np.c_[diffc31[0,:],diffc32[0,:],diffc33[0,:],diffc34[0,:],diffc35[0,:],diffc36[0,:],diffc37[0,:],diffc38[0,:],diffc39[0,:],diffc310[0,:]]\n",
    "#diffc3r=np.c_[diffc31[-1,:],diffc32[-1,:],diffc33[-1,:],diffc34[-1,:],diffc35[-1,:],diffc36[-1,:],diffc37[-1,:],diffc38[-1,:],diffc39[-1,:],diffc310[-1,:]]\n",
    "#diffc3lr=np.r_[diffc3l.T,diffc3r.T]\n",
    "#diffc3lrz=normalize(diffc3lr,axis=0)\n",
    "#diffc3lrzl=diffc3lrz[0:10,:]\n",
    "#diffc3lrzr=diffc3lrz[10:20,:]"
   ]
  },
  {
   "cell_type": "code",
   "execution_count": 45,
   "metadata": {},
   "outputs": [],
   "source": [
    "diffc3l=np.c_[diffc31[0,:],diffc33[0,:],diffc34[0,:],diffc35[0,:],diffc36[0,:],diffc37[0,:],diffc38[0,:],diffc39[0,:],diffc310[0,:]]\n",
    "diffc3r=np.c_[diffc31[-1,:],diffc33[-1,:],diffc34[-1,:],diffc35[-1,:],diffc36[-1,:],diffc37[-1,:],diffc38[-1,:],diffc39[-1,:],diffc310[-1,:]]\n",
    "diffc3lr=np.r_[diffc3l.T,diffc3r.T]\n",
    "diffc3lrz=normalize(diffc3lr,axis=0)\n",
    "diffc3lrzl=diffc3lrz[0:10,:]\n",
    "diffc3lrzr=diffc3lrz[10:20,:]"
   ]
  },
  {
   "cell_type": "code",
   "execution_count": 46,
   "metadata": {},
   "outputs": [],
   "source": [
    "diffc41,xlabel41,t41,tc41=diffc(pathturn41,filesturn41,pathturn41c,filesturn41c)\n",
    "diffc42,xlabel42,t42,tc42=diffc(pathturn42,filesturn42,pathturn42c,filesturn42c)\n",
    "diffc43,xlabel43,t43,tc43=diffc(pathturn43,filesturn43,pathturn43c,filesturn43c)\n",
    "diffc44,xlabel44,t44,tc44=diffc(pathturn44,filesturn44,pathturn44c,filesturn44c)\n",
    "diffc45,xlabel45,t45,tc45=diffc(pathturn45,filesturn45,pathturn45c,filesturn45c)\n",
    "diffc46,xlabel46,t46,tc46=diffc(pathturn46,filesturn46,pathturn46c,filesturn46c)\n",
    "diffc47,xlabel47,t47,tc47=diffc(pathturn47,filesturn47,pathturn47c,filesturn47c)\n",
    "diffc48,xlabel48,t48,tc48=diffc(pathturn48,filesturn48,pathturn48c,filesturn48c)\n",
    "diffc49,xlabel49,t49,tc49=diffc(pathturn49,filesturn49,pathturn49c,filesturn49c)\n",
    "diffc410,xlabel410,t410,tc410=diffc(pathturn410,filesturn410,pathturn410c,filesturn410c)\n",
    "diffc411,xlabel411,t411,tc411=diffc(pathturn411,filesturn411,pathturn411c,filesturn411c)\n",
    "diffc412,xlabel412,t412,tc412=diffc(pathturn412,filesturn412,pathturn412c,filesturn412c)\n",
    "diffc413,xlabel413,t413,tc413=diffc(pathturn413,filesturn413,pathturn413c,filesturn413c)\n",
    "diffc414,xlabel414,t414,tc414=diffc(pathturn414,filesturn414,pathturn414c,filesturn414c)"
   ]
  },
  {
   "cell_type": "code",
   "execution_count": 47,
   "metadata": {},
   "outputs": [],
   "source": [
    "diffc4=np.r_[diffc41,diffc42,diffc43,diffc44,diffc45,diffc46,diffc47,diffc48,diffc49,diffc410,diffc411,diffc412,diffc413,diffc414]\n",
    "xlabel4=np.r_[xlabel41,xlabel42,xlabel43,xlabel44,xlabel45,xlabel46,xlabel47,xlabel48,xlabel49,xlabel410,xlabel411,xlabel412,xlabel413,xlabel414]\n",
    "t4=np.r_[t41,t42,t43,t44,t45,t46,t47,t48,t49,t410,t411,t412,t413,t414]\n",
    "tc4=np.r_[tc41,tc42,tc43,tc44,tc45,tc46,tc47,tc48,tc49,tc410,tc411,tc412,tc413,tc414]"
   ]
  },
  {
   "cell_type": "code",
   "execution_count": 48,
   "metadata": {},
   "outputs": [],
   "source": [
    "diffc4l=np.c_[diffc41[0,:],diffc42[0,:],diffc43[0,:],diffc44[0,:],diffc45[0,:],diffc46[0,:],diffc47[0,:],diffc48[0,:],diffc49[0,:],diffc410[0,:],diffc411[0,:],diffc412[0,:],diffc413[0,:],diffc414[0,:]]\n",
    "diffc4r=np.c_[diffc41[-1,:],diffc42[-1,:],diffc43[-1,:],diffc44[-1,:],diffc45[-1,:],diffc46[-1,:],diffc47[-1,:],diffc48[-1,:],diffc49[-1,:],diffc410[-1,:],diffc411[-1,:],diffc412[-1,:],diffc413[-1,:],diffc414[-1,:]]\n",
    "diffc4lr=np.r_[diffc4l.T,diffc4r.T]\n",
    "diffc4lrz=normalize(diffc4lr,axis=0)\n",
    "diffc4lrzl=diffc4lrz[0:14,:]\n",
    "diffc4lrzr=diffc4lrz[14:28,:]"
   ]
  },
  {
   "cell_type": "code",
   "execution_count": 49,
   "metadata": {},
   "outputs": [],
   "source": [
    "diffc51,xlabel51,t51,t51c=diffc(pathturn51,filesturn51,pathturn51c,filesturn51c)\n",
    "diffc52,xlabel52,t52,t52c=diffc(pathturn52,filesturn52,pathturn52c,filesturn52c)\n",
    "diffc53,xlabel53,t53,t53c=diffc(pathturn53,filesturn53,pathturn53c,filesturn53c)\n",
    "diffc54,xlabel54,t54,t54c=diffc(pathturn54,filesturn54,pathturn54c,filesturn54c)\n",
    "diffc55,xlabel55,t55,t55c=diffc(pathturn55,filesturn55,pathturn55c,filesturn55c)\n",
    "diffc56,xlabel56,t56,t56c=diffc(pathturn56,filesturn56,pathturn56c,filesturn56c)\n",
    "diffc57,xlabel57,t57,t57c=diffc(pathturn57,filesturn57,pathturn57c,filesturn57c)\n",
    "diffc58,xlabel58,t58,t58c=diffc(pathturn58,filesturn58,pathturn58c,filesturn58c)\n",
    "diffc59,xlabel59,t59,t59c=diffc(pathturn59,filesturn59,pathturn59c,filesturn59c)\n",
    "diffc510,xlabel510,t510,t510c=diffc(pathturn510,filesturn510,pathturn510c,filesturn510c)"
   ]
  },
  {
   "cell_type": "code",
   "execution_count": 50,
   "metadata": {},
   "outputs": [],
   "source": [
    "tdiffc51=np.r_[diffc51,diffc52,diffc53,diffc54,diffc55,diffc56,diffc57,diffc58,diffc59,diffc510]\n",
    "txlabel51=np.r_[xlabel51,xlabel52,xlabel53,xlabel54,xlabel55,xlabel56,xlabel57,xlabel58,xlabel59,xlabel510]\n",
    "tt51=np.r_[t51,t52,t53,t54,t55,t56,t57,t58,t59,t510]\n",
    "ttc51=np.r_[t51c,t52c,t53c,t54c,t55c,t56c,t57c,t58c,t59c,t510c]"
   ]
  },
  {
   "cell_type": "code",
   "execution_count": 51,
   "metadata": {},
   "outputs": [
    {
     "name": "stdout",
     "output_type": "stream",
     "text": [
      "45 45 45\n"
     ]
    }
   ],
   "source": [
    "print(len(tdiffc51[:,0]),len(tt51[:,0]),len(ttc51[:,0]))"
   ]
  },
  {
   "cell_type": "code",
   "execution_count": 52,
   "metadata": {},
   "outputs": [],
   "source": [
    "diffc511,xlabel511,t511,t511c=diffc(pathturn511,filesturn511,pathturn511c,filesturn511c)\n",
    "diffc512,xlabel512,t512,t512c=diffc(pathturn512,filesturn512,pathturn512c,filesturn512c)\n",
    "diffc513,xlabel513,t513,t513c=diffc(pathturn513,filesturn513,pathturn513c,filesturn513c)\n",
    "diffc514,xlabel514,t514,t514c=diffc(pathturn514,filesturn514,pathturn514c,filesturn514c)\n",
    "diffc515,xlabel515,t515,t515c=diffc(pathturn515,filesturn515,pathturn515c,filesturn515c)\n",
    "diffc516,xlabel516,t516,t516c=diffc(pathturn516,filesturn516,pathturn516c,filesturn516c)\n",
    "diffc517,xlabel517,t517,t517c=diffc(pathturn517,filesturn517,pathturn517c,filesturn517c)\n",
    "diffc518,xlabel518,t518,t518c=diffc(pathturn518,filesturn518,pathturn518c,filesturn518c)\n",
    "diffc519,xlabel519,t519,t519c=diffc(pathturn519,filesturn519,pathturn519c,filesturn519c)\n",
    "diffc520,xlabel520,t520,t520c=diffc(pathturn520,filesturn520,pathturn520c,filesturn520c)"
   ]
  },
  {
   "cell_type": "code",
   "execution_count": 53,
   "metadata": {},
   "outputs": [],
   "source": [
    "tdiffc52=np.r_[diffc511,diffc512,diffc513,diffc514,diffc515,diffc516,diffc517,diffc518,diffc519,diffc520]\n",
    "txlabel52=np.r_[xlabel511,xlabel512,xlabel513,xlabel514,xlabel515,xlabel516,xlabel517,xlabel518,xlabel519,xlabel520]\n",
    "tt52=np.r_[t511,t512,t513,t514,t515,t516,t517,t518,t519,t520]\n",
    "ttc52=np.r_[t511c,t512c,t513c,t514c,t515c,t516c,t517c,t518c,t519c,t520c]"
   ]
  },
  {
   "cell_type": "code",
   "execution_count": 54,
   "metadata": {},
   "outputs": [
    {
     "name": "stdout",
     "output_type": "stream",
     "text": [
      "2 2 2\n"
     ]
    }
   ],
   "source": [
    "print(len(diffc513[:,0]),len(t513[:,0]),len(t513c[:,0]))"
   ]
  },
  {
   "cell_type": "code",
   "execution_count": 55,
   "metadata": {},
   "outputs": [],
   "source": [
    "tdiffc51l=np.c_[diffc51[0,:],diffc52[0,:],diffc53[0,:],diffc54[0,:],diffc55[0,:],diffc56[0,:],diffc57[0,:],diffc58[0,:],diffc59[0,:],diffc510[0,:]]\n",
    "tdiffc51r=np.c_[diffc51[-1,:],diffc52[-1,:],diffc53[-1,:],diffc54[-1,:],diffc55[-1,:],diffc56[-1,:],diffc57[-1,:],diffc58[-1,:],diffc59[-1,:],diffc510[-1,:]]"
   ]
  },
  {
   "cell_type": "code",
   "execution_count": 56,
   "metadata": {},
   "outputs": [],
   "source": [
    "diffc521,xlabel521,t521,t521c=diffc(pathturn521,filesturn521,pathturn521c,filesturn521c)\n",
    "diffc522,xlabel522,t522,t522c=diffc(pathturn522,filesturn522,pathturn522c,filesturn522c)\n",
    "diffc523,xlabel523,t523,t523c=diffc(pathturn523,filesturn523,pathturn523c,filesturn523c)\n",
    "diffc524,xlabel524,t524,t524c=diffc(pathturn524,filesturn524,pathturn524c,filesturn524c)\n",
    "diffc525,xlabel525,t525,t525c=diffc(pathturn525,filesturn525,pathturn525c,filesturn525c)\n",
    "diffc526,xlabel526,t526,t526c=diffc(pathturn526,filesturn526,pathturn526c,filesturn526c)\n",
    "diffc527,xlabel527,t527,t527c=diffc(pathturn527,filesturn527,pathturn527c,filesturn527c)\n",
    "diffc528,xlabel528,t528,t528c=diffc(pathturn528,filesturn528,pathturn528c,filesturn528c)\n",
    "diffc529,xlabel529,t529,t529c=diffc(pathturn529,filesturn529,pathturn529c,filesturn529c)\n",
    "diffc530,xlabel530,t530,t530c=diffc(pathturn530,filesturn530,pathturn530c,filesturn530c)"
   ]
  },
  {
   "cell_type": "code",
   "execution_count": 57,
   "metadata": {},
   "outputs": [],
   "source": [
    "tdiffc53=np.r_[diffc521,diffc522,diffc523,diffc524,diffc525,diffc526,diffc527,diffc528,diffc529,diffc530]\n",
    "txlabel53=np.r_[xlabel521,xlabel522,xlabel523,xlabel524,xlabel525,xlabel526,xlabel527,xlabel528,xlabel529,xlabel530]\n",
    "tt53=np.r_[t521,t522,t523,t524,t525,t526,t527,t528,t529,t530]\n",
    "ttc53=np.r_[t521c,t522c,t523c,t524c,t525c,t526c,t527c,t528c,t529c,t530c]"
   ]
  },
  {
   "cell_type": "code",
   "execution_count": 58,
   "metadata": {},
   "outputs": [],
   "source": [
    "tdiffc52l=np.c_[diffc511[0,:],diffc512[0,:],diffc513[0,:],diffc514[0,:],diffc515[0,:],diffc516[0,:],diffc517[0,:],diffc518[0,:],diffc519[0,:],diffc520[0,:]]\n",
    "tdiffc52r=np.c_[diffc511[-1,:],diffc512[-1,:],diffc513[-1,:],diffc514[-1,:],diffc515[-1,:],diffc516[-1,:],diffc517[-1,:],diffc518[-1,:],diffc519[-1,:],diffc520[-1,:]]"
   ]
  },
  {
   "cell_type": "code",
   "execution_count": 59,
   "metadata": {},
   "outputs": [],
   "source": [
    "tdiffc53l=np.c_[diffc521[0,:],diffc522[0,:],diffc523[0,:],diffc524[0,:],diffc525[0,:],diffc526[0,:],diffc527[0,:],diffc528[0,:],diffc529[0,:],diffc530[0,:]]\n",
    "tdiffc53r=np.c_[diffc521[-1,:],diffc522[-1,:],diffc523[-1,:],diffc524[-1,:],diffc525[-1,:],diffc526[-1,:],diffc527[-1,:],diffc528[-1,:],diffc529[-1,:],diffc530[-1,:]]"
   ]
  },
  {
   "cell_type": "code",
   "execution_count": 60,
   "metadata": {},
   "outputs": [],
   "source": [
    "diffc531,xlabel531,t531,t531c=diffc(pathturn531,filesturn531,pathturn531c,filesturn531c)\n",
    "diffc532,xlabel532,t532,t532c=diffc(pathturn532,filesturn532,pathturn532c,filesturn532c)\n",
    "diffc533,xlabel533,t533,t533c=diffc(pathturn533,filesturn533,pathturn533c,filesturn533c)\n",
    "diffc534,xlabel534,t534,t534c=diffc(pathturn534,filesturn534,pathturn534c,filesturn534c)\n",
    "diffc535,xlabel535,t535,t535c=diffc(pathturn535,filesturn535,pathturn535c,filesturn535c)\n",
    "diffc536,xlabel536,t536,t536c=diffc(pathturn536,filesturn536,pathturn536c,filesturn536c)\n",
    "diffc537,xlabel537,t537,t537c=diffc(pathturn537,filesturn537,pathturn537c,filesturn537c)\n",
    "diffc538,xlabel538,t538,t538c=diffc(pathturn538,filesturn538,pathturn538c,filesturn538c)\n",
    "diffc539,xlabel539,t539,t539c=diffc(pathturn539,filesturn539,pathturn539c,filesturn539c)\n",
    "diffc540,xlabel540,t540,t540c=diffc(pathturn540,filesturn540,pathturn540c,filesturn540c)"
   ]
  },
  {
   "cell_type": "code",
   "execution_count": 61,
   "metadata": {},
   "outputs": [],
   "source": [
    "#tdiffc54l=np.c_[diffc531[0,:],diffc532[0,:],diffc533[0,:],diffc534[0,:],diffc535[0,:],diffc536[0,:],diffc537[0,:],diffc538[0,:],diffc539[0,:],diffc540[0,:]]\n",
    "#tdiffc54r=np.c_[diffc531[-1,:],diffc532[-1,:],diffc533[-1,:],diffc534[-1,:],diffc535[-1,:],diffc536[-1,:],diffc537[-1,:],diffc538[-1,:],diffc539[-1,:],diffc540[-1,:]]"
   ]
  },
  {
   "cell_type": "code",
   "execution_count": 62,
   "metadata": {},
   "outputs": [],
   "source": [
    "tdiffc54l=np.c_[diffc531[0,:],diffc532[0,:],diffc534[0,:],diffc535[0,:],diffc536[0,:],diffc537[0,:],diffc538[0,:],diffc539[0,:],diffc540[0,:]]\n",
    "tdiffc54r=np.c_[diffc531[-1,:],diffc532[-1,:],diffc534[-1,:],diffc535[-1,:],diffc536[-1,:],diffc537[-1,:],diffc538[-1,:],diffc539[-1,:],diffc540[-1,:]]"
   ]
  },
  {
   "cell_type": "code",
   "execution_count": 63,
   "metadata": {},
   "outputs": [],
   "source": [
    "#tdiffc54=np.r_[diffc531,diffc532,diffc533,diffc534,diffc535,diffc536,diffc537,diffc538,diffc539,diffc540]\n",
    "#txlabel54=np.r_[xlabel531,xlabel532,xlabel533,xlabel534,xlabel535,xlabel536,xlabel537,xlabel538,xlabel539,xlabel540]"
   ]
  },
  {
   "cell_type": "code",
   "execution_count": 64,
   "metadata": {},
   "outputs": [],
   "source": [
    "tdiffc54=np.r_[diffc531,diffc532,diffc534,diffc535,diffc536,diffc537,diffc538,diffc539,diffc540]\n",
    "txlabel54=np.r_[xlabel531,xlabel532,xlabel534,xlabel535,xlabel536,xlabel537,xlabel538,xlabel539,xlabel540]\n",
    "tt54=np.r_[t531,t532,t534,t535,t536,t537,t538,t539,t540]\n",
    "ttc54=np.r_[t531c,t532c,t534c,t535c,t536c,t537c,t538c,t539c,t540c]"
   ]
  },
  {
   "cell_type": "code",
   "execution_count": 65,
   "metadata": {},
   "outputs": [
    {
     "name": "stdout",
     "output_type": "stream",
     "text": [
      "29 29 29\n"
     ]
    }
   ],
   "source": [
    "print(len(tdiffc54[:,0]),len(tt54[:,0]),len(ttc54[:,0]))"
   ]
  },
  {
   "cell_type": "code",
   "execution_count": 66,
   "metadata": {},
   "outputs": [],
   "source": [
    "diffc5l=np.c_[tdiffc51l,tdiffc52l,tdiffc53l,tdiffc54l]\n",
    "diffc5r=np.c_[tdiffc51r,tdiffc52r,tdiffc53r,tdiffc54r]\n",
    "diffc5lr=np.r_[diffc5l.T,diffc5r.T]\n",
    "diffc5lrz=normalize(diffc5lr,axis=0)\n",
    "diffc5lrzl=diffc5lrz[0:40,:]\n",
    "diffc5lrzr=diffc5lrz[40:80,:]"
   ]
  },
  {
   "cell_type": "code",
   "execution_count": 67,
   "metadata": {},
   "outputs": [],
   "source": [
    "diffc5=np.r_[tdiffc51,tdiffc52,tdiffc53,tdiffc54]\n",
    "xlabel5=np.r_[txlabel51,txlabel52,txlabel53,txlabel54]\n",
    "t5=np.r_[tt51,tt52,tt53,tt54]\n",
    "tc5=np.r_[ttc51,ttc52,ttc53,ttc54]"
   ]
  },
  {
   "cell_type": "code",
   "execution_count": 68,
   "metadata": {},
   "outputs": [],
   "source": [
    "diffc61,xlabel61,t61,tc61=diffc(pathturn61,filesturn61,pathturn61c,filesturn61c)\n",
    "diffc62,xlabel62,t62,tc62=diffc(pathturn62,filesturn62,pathturn62c,filesturn62c)\n",
    "diffc63,xlabel63,t63,tc63=diffc(pathturn63,filesturn63,pathturn63c,filesturn63c)\n",
    "diffc64,xlabel64,t64,tc64=diffc(pathturn64,filesturn64,pathturn64c,filesturn64c)\n",
    "diffc65,xlabel65,t65,tc65=diffc(pathturn65,filesturn65,pathturn65c,filesturn65c)\n",
    "diffc66,xlabel66,t66,tc66=diffc(pathturn66,filesturn66,pathturn66c,filesturn66c)\n",
    "diffc67,xlabel67,t67,tc67=diffc(pathturn67,filesturn67,pathturn67c,filesturn67c)\n",
    "diffc68,xlabel68,t68,tc68=diffc(pathturn68,filesturn68,pathturn68c,filesturn68c)"
   ]
  },
  {
   "cell_type": "code",
   "execution_count": 69,
   "metadata": {},
   "outputs": [],
   "source": [
    "diffc6=np.r_[diffc61,diffc62,diffc63,diffc64,diffc65,diffc66,diffc67,diffc68]\n",
    "xlabel6=np.r_[xlabel61,xlabel62,xlabel63,xlabel64,xlabel65,xlabel66,xlabel67,xlabel68]\n",
    "t6=np.r_[t61,t62,t63,t64,t65,t66,t67,t68]\n",
    "tc6=np.r_[tc61,tc62,tc63,tc64,tc65,tc66,tc67,tc68]"
   ]
  },
  {
   "cell_type": "code",
   "execution_count": 70,
   "metadata": {},
   "outputs": [],
   "source": [
    "mdiff6=np.c_[np.mean(diffc61,axis = 0),np.mean(diffc62,axis = 0),np.mean(diffc63,axis = 0),np.mean(diffc64,axis = 0),np.mean(diffc65,axis = 0),np.mean(diffc66,axis = 0),np.mean(diffc67,axis = 0),np.mean(diffc68,axis = 0)]"
   ]
  },
  {
   "cell_type": "code",
   "execution_count": 71,
   "metadata": {},
   "outputs": [],
   "source": [
    "diffc6l=np.c_[diffc61[0,:],diffc62[0,:],diffc63[0,:],diffc64[0,:],diffc65[0,:],diffc66[0,:],diffc67[0,:],diffc68[0,:]]\n",
    "diffc6r=np.c_[diffc61[-1,:],diffc62[-1,:],diffc63[-1,:],diffc64[-1,:],diffc65[-1,:],diffc66[-1,:],diffc67[-1,:],diffc68[-1,:]]\n",
    "diffc6lr=np.r_[diffc6l.T,diffc6r.T]\n",
    "diffc6lrz=normalize(diffc6lr,axis=0)\n",
    "diffc6lrzl=diffc6lrz[0:8,:]\n",
    "diffc6lrzr=diffc6lrz[8:16,:]"
   ]
  },
  {
   "cell_type": "code",
   "execution_count": 72,
   "metadata": {},
   "outputs": [],
   "source": [
    "diffc71,xlabel71,t71,tc71=diffc(pathturn71,filesturn71,pathturn71c,filesturn71c)\n",
    "diffc72,xlabel72,t72,tc72=diffc(pathturn72,filesturn72,pathturn72c,filesturn72c)\n",
    "diffc73,xlabel73,t73,tc73=diffc(pathturn73,filesturn73,pathturn73c,filesturn73c)\n",
    "diffc74,xlabel74,t74,tc74=diffc(pathturn74,filesturn74,pathturn74c,filesturn74c)\n",
    "diffc75,xlabel75,t75,tc75=diffc(pathturn75,filesturn75,pathturn75c,filesturn75c)\n",
    "diffc76,xlabel76,t76,tc76=diffc(pathturn76,filesturn76,pathturn76c,filesturn76c)\n",
    "diffc77,xlabel77,t77,tc77=diffc(pathturn77,filesturn77,pathturn77c,filesturn77c)\n",
    "diffc78,xlabel78,t78,tc78=diffc(pathturn78,filesturn78,pathturn78c,filesturn78c)\n",
    "diffc79,xlabel79,t79,tc79=diffc(pathturn79,filesturn79,pathturn79c,filesturn79c)\n",
    "diffc710,xlabel710,t710,tc710=diffc(pathturn710,filesturn710,pathturn710c,filesturn710c)\n",
    "diffc711,xlabel711,t711,tc711=diffc(pathturn711,filesturn711,pathturn711c,filesturn711c)"
   ]
  },
  {
   "cell_type": "code",
   "execution_count": 73,
   "metadata": {},
   "outputs": [],
   "source": [
    "diffc7=np.r_[diffc71,diffc72,diffc73,diffc74,diffc75,diffc76,diffc77,diffc78,diffc79,diffc710,diffc711]\n",
    "xlabel7=np.r_[xlabel71,xlabel72,xlabel73,xlabel74,xlabel75,xlabel76,xlabel77,xlabel78,xlabel79,xlabel710,xlabel711]\n",
    "t7=np.r_[t71,t72,t73,t74,t75,t76,t77,t78,t79,t710,t711]\n",
    "tc7=np.r_[tc71,tc72,tc73,tc74,tc75,tc76,tc77,tc78,tc79,tc710,tc711]"
   ]
  },
  {
   "cell_type": "code",
   "execution_count": 74,
   "metadata": {},
   "outputs": [],
   "source": [
    "mdiff7=np.c_[np.mean(diffc71,axis = 0),np.mean(diffc72,axis = 0),np.mean(diffc73,axis = 0),np.mean(diffc74,axis = 0),np.mean(diffc75,axis = 0),np.mean(diffc76,axis = 0),np.mean(diffc77,axis = 0),np.mean(diffc78,axis = 0),np.mean(diffc79,axis = 0),np.mean(diffc710,axis = 0),np.mean(diffc711,axis = 0)]"
   ]
  },
  {
   "cell_type": "code",
   "execution_count": 75,
   "metadata": {},
   "outputs": [],
   "source": [
    "diffc7l=np.c_[diffc71[0,:],diffc72[0,:],diffc73[0,:],diffc74[0,:],diffc75[0,:],diffc76[0,:],diffc77[0,:],diffc78[0,:],diffc79[0,:],diffc710[0,:],diffc711[0,:]]\n",
    "diffc7r=np.c_[diffc71[-1,:],diffc72[-1,:],diffc73[-1,:],diffc74[-1,:],diffc75[-1,:],diffc76[-1,:],diffc77[-1,:],diffc78[-1,:],diffc79[-1,:],diffc710[-1,:],diffc711[-1,:]]\n",
    "diffc7lr=np.r_[diffc7l.T,diffc7r.T]\n",
    "diffc7lrz=normalize(diffc7lr,axis=0)\n",
    "diffc7lrzl=diffc7lrz[0:11,:]\n",
    "diffc7lrzr=diffc7lrz[11:22,:]"
   ]
  },
  {
   "cell_type": "code",
   "execution_count": 76,
   "metadata": {},
   "outputs": [],
   "source": [
    "diffc81,xlabel81,t81,tc81=diffc(pathturn81,filesturn81,pathturn81c,filesturn81c)\n",
    "diffc82,xlabel82,t82,tc82=diffc(pathturn82,filesturn82,pathturn82c,filesturn82c)\n",
    "diffc83,xlabel83,t83,tc83=diffc(pathturn83,filesturn83,pathturn83c,filesturn83c)\n",
    "diffc84,xlabel84,t84,tc84=diffc(pathturn84,filesturn84,pathturn84c,filesturn84c)\n",
    "diffc85,xlabel85,t85,tc85=diffc(pathturn85,filesturn85,pathturn85c,filesturn85c)\n",
    "diffc86,xlabel86,t86,tc86=diffc(pathturn86,filesturn86,pathturn86c,filesturn86c)\n",
    "diffc87,xlabel87,t87,tc87=diffc(pathturn87,filesturn87,pathturn87c,filesturn87c)\n",
    "diffc88,xlabel88,t88,tc88=diffc(pathturn88,filesturn88,pathturn88c,filesturn88c)\n",
    "diffc89,xlabel89,t89,tc89=diffc(pathturn89,filesturn89,pathturn89c,filesturn89c)\n",
    "diffc810,xlabel810,t810,tc810=diffc(pathturn810,filesturn810,pathturn810c,filesturn810c)"
   ]
  },
  {
   "cell_type": "code",
   "execution_count": 77,
   "metadata": {},
   "outputs": [],
   "source": [
    "tdiffc81=np.r_[diffc81,diffc82,diffc83,diffc84,diffc85,diffc86,diffc87,diffc88,diffc89,diffc810]\n",
    "txlabel81=np.r_[xlabel81,xlabel82,xlabel83,xlabel84,xlabel85,xlabel86,xlabel87,xlabel88,xlabel89,xlabel810]\n",
    "tt81=np.r_[t81,t82,t83,t84,t85,t86,t87,t88,t89,t810]\n",
    "ttc81=np.r_[tc81,tc82,tc83,tc84,tc85,tc86,tc87,tc88,tc89,tc810]"
   ]
  },
  {
   "cell_type": "code",
   "execution_count": 78,
   "metadata": {},
   "outputs": [],
   "source": [
    "mdiff81=np.c_[np.mean(diffc81,axis = 0),np.mean(diffc82,axis = 0),np.mean(diffc83,axis = 0),np.mean(diffc84,axis = 0),np.mean(diffc85,axis = 0),np.mean(diffc86,axis = 0),np.mean(diffc87,axis = 0),np.mean(diffc88,axis = 0),np.mean(diffc89,axis = 0),np.mean(diffc810,axis = 0)]"
   ]
  },
  {
   "cell_type": "code",
   "execution_count": 79,
   "metadata": {},
   "outputs": [],
   "source": [
    "tdiffc81l=np.c_[diffc81[0,:],diffc82[0,:],diffc83[0,:],diffc84[0,:],diffc85[0,:],diffc86[0,:],diffc87[0,:],diffc88[0,:],diffc89[0,:],diffc810[0,:]]\n",
    "tdiffc81r=np.c_[diffc81[-1,:],diffc82[-1,:],diffc83[-1,:],diffc84[-1,:],diffc85[-1,:],diffc86[-1,:],diffc87[-1,:],diffc88[-1,:],diffc89[-1,:],diffc810[-1,:]]"
   ]
  },
  {
   "cell_type": "code",
   "execution_count": 80,
   "metadata": {},
   "outputs": [],
   "source": [
    "diffc811,xlabel811,t811,tc811=diffc(pathturn811,filesturn811,pathturn811c,filesturn811c)\n",
    "diffc812,xlabel812,t812,tc812=diffc(pathturn812,filesturn812,pathturn812c,filesturn812c)\n",
    "diffc813,xlabel813,t813,tc813=diffc(pathturn813,filesturn813,pathturn813c,filesturn813c)\n",
    "diffc814,xlabel814,t814,tc814=diffc(pathturn814,filesturn814,pathturn814c,filesturn814c)\n",
    "diffc815,xlabel815,t815,tc815=diffc(pathturn815,filesturn815,pathturn815c,filesturn815c)\n",
    "diffc816,xlabel816,t816,tc816=diffc(pathturn816,filesturn816,pathturn816c,filesturn816c)\n",
    "diffc817,xlabel817,t817,tc817=diffc(pathturn817,filesturn817,pathturn817c,filesturn817c)\n",
    "diffc818,xlabel818,t818,tc818=diffc(pathturn818,filesturn818,pathturn818c,filesturn818c)\n",
    "diffc819,xlabel819,t819,tc819=diffc(pathturn819,filesturn819,pathturn819c,filesturn819c)\n",
    "diffc820,xlabel820,t820,tc820=diffc(pathturn820,filesturn820,pathturn820c,filesturn820c)\n",
    "diffc821,xlabel821,t821,tc821=diffc(pathturn821,filesturn821,pathturn821c,filesturn821c)\n",
    "diffc822,xlabel822,t822,tc822=diffc(pathturn822,filesturn822,pathturn822c,filesturn822c)"
   ]
  },
  {
   "cell_type": "code",
   "execution_count": 81,
   "metadata": {},
   "outputs": [],
   "source": [
    "tdiffc82=np.r_[diffc811,diffc812,diffc813,diffc814,diffc815,diffc816,diffc817,diffc818,diffc819,diffc820,diffc821,diffc822]\n",
    "txlabel82=np.r_[xlabel811,xlabel812,xlabel813,xlabel814,xlabel815,xlabel816,xlabel817,xlabel818,xlabel819,xlabel820,xlabel821,xlabel822]\n",
    "tt82=np.r_[t811,t812,t813,t814,t815,t816,t817,t818,t819,t820,t821,t822]\n",
    "ttc82=np.r_[tc811,tc812,tc813,tc814,tc815,tc816,tc817,tc818,tc819,tc820,tc821,tc822]"
   ]
  },
  {
   "cell_type": "code",
   "execution_count": 82,
   "metadata": {},
   "outputs": [],
   "source": [
    "mdiff82=np.c_[np.mean(diffc811,axis = 0),np.mean(diffc812,axis = 0),np.mean(diffc813,axis = 0),np.mean(diffc814,axis = 0),np.mean(diffc815,axis = 0),np.mean(diffc816,axis = 0),np.mean(diffc817,axis = 0),np.mean(diffc818,axis = 0),np.mean(diffc819,axis = 0),np.mean(diffc820,axis = 0),np.mean(diffc821,axis = 0),np.mean(diffc822,axis = 0)]"
   ]
  },
  {
   "cell_type": "code",
   "execution_count": 83,
   "metadata": {},
   "outputs": [],
   "source": [
    "tdiffc82l=np.c_[diffc811[0,:],diffc812[0,:],diffc813[0,:],diffc814[0,:],diffc815[0,:],diffc816[0,:],diffc817[0,:],diffc818[0,:],diffc819[0,:],diffc820[0,:],diffc821[0,:],diffc822[0,:]]\n",
    "tdiffc82r=np.c_[diffc811[-1,:],diffc812[-1,:],diffc813[-1,:],diffc814[-1,:],diffc815[-1,:],diffc816[-1,:],diffc817[-1,:],diffc818[-1,:],diffc819[-1,:],diffc820[-1,:],diffc821[-1,:],diffc822[-1,:]]"
   ]
  },
  {
   "cell_type": "code",
   "execution_count": 84,
   "metadata": {},
   "outputs": [],
   "source": [
    "mdiff8=np.c_[mdiff81,mdiff82]"
   ]
  },
  {
   "cell_type": "code",
   "execution_count": 85,
   "metadata": {},
   "outputs": [],
   "source": [
    "diffc8l=np.c_[tdiffc81l,tdiffc82l]\n",
    "diffc8r=np.c_[tdiffc81r,tdiffc82r]\n",
    "diffc8lr=np.r_[diffc8l.T,diffc8r.T]\n",
    "diffc8lrz=normalize(diffc8lr,axis=0)\n",
    "diffc8lrzl=diffc8lrz[0:22,:]\n",
    "diffc8lrzr=diffc8lrz[22:44,:]"
   ]
  },
  {
   "cell_type": "code",
   "execution_count": 86,
   "metadata": {},
   "outputs": [],
   "source": [
    "diffc8=np.r_[tdiffc81,tdiffc82]\n",
    "xlabel8=np.r_[txlabel81,txlabel82]\n",
    "t8=np.r_[tt81,tt82]\n",
    "tc8=np.r_[ttc81,ttc82]"
   ]
  },
  {
   "cell_type": "code",
   "execution_count": 87,
   "metadata": {},
   "outputs": [],
   "source": [
    "diffc9,xlabel9,t9,tc9=diffc(pathturn91,filesturn91,pathturn91c,filesturn91c)"
   ]
  },
  {
   "cell_type": "code",
   "execution_count": 88,
   "metadata": {},
   "outputs": [],
   "source": [
    "mdiff9=np.mean(diffc9,axis = 0)"
   ]
  },
  {
   "cell_type": "code",
   "execution_count": 89,
   "metadata": {},
   "outputs": [],
   "source": [
    "aaa=np.zeros((1,10))\n",
    "for i in range(len(aaa[0,:])):\n",
    "    aaa[0,i]=mdiff9[i]"
   ]
  },
  {
   "cell_type": "code",
   "execution_count": 90,
   "metadata": {},
   "outputs": [],
   "source": [
    "meanb=np.r_[mdiff1.T,mdiff2.T,mdiff6.T,mdiff7.T,mdiff8.T,aaa]"
   ]
  },
  {
   "cell_type": "code",
   "execution_count": 91,
   "metadata": {},
   "outputs": [],
   "source": [
    "#np.savetxt('meanblockmy.txt',meanb)"
   ]
  },
  {
   "cell_type": "code",
   "execution_count": 92,
   "metadata": {},
   "outputs": [
    {
     "name": "stdout",
     "output_type": "stream",
     "text": [
      "[[0. 0. 1. 1. 0. 0. 0. 0. 0. 0.]\n",
      " [0. 0. 0. 0. 0. 0. 0. 0. 0. 0.]]\n"
     ]
    }
   ],
   "source": [
    "diffc9l=diffc9[0,:]\n",
    "diffc9r=diffc9[-1,:]\n",
    "diffc9lr=np.c_[diffc9l,diffc9r]\n",
    "diffc9lrz=normalize(diffc9lr,axis=1)\n",
    "diffc9lrzl=np.zeros((2,10))\n",
    "diffc9lrzr=np.zeros((2,10))\n",
    "diffc9lrzl[0,:]=diffc9lrz[:,0]\n",
    "diffc9lrzr[0,:]=diffc9lrz[:,1]\n",
    "print(diffc9lrzl)"
   ]
  },
  {
   "cell_type": "code",
   "execution_count": 93,
   "metadata": {},
   "outputs": [],
   "source": [
    "#diffcl=np.r_[diffc1lrzl,diffc2lrzl,diffc3lrzl,diffc4lrzl,diffc5lrzl,diffc6lrzl,diffc7lrzl,diffc8lrzl,diffc9lrzl]\n",
    "#diffcr=np.r_[diffc1lrzr,diffc2lrzr,diffc3lrzr,diffc4lrzr,diffc5lrzr,diffc6lrzr,diffc7lrzr,diffc8lrzr,diffc9lrzr]\n",
    "#diffclt=diffcl[:-1,:]\n",
    "#diffcrt=diffcr[:-1,:]"
   ]
  },
  {
   "cell_type": "code",
   "execution_count": 94,
   "metadata": {},
   "outputs": [],
   "source": [
    "def ttest (data,datacompare):\n",
    "    sduration=stats.ttest_ind(data[:,1],datacompare[:,1])\n",
    "    smfcc=stats.ttest_ind(data[:,2],datacompare[:,2])\n",
    "    srf0=stats.ttest_ind(data[:,3],datacompare[:,3])\n",
    "    smaxf0=stats.ttest_ind(data[:,4],datacompare[:,4])\n",
    "    sminf0=stats.ttest_ind(data[:,5],datacompare[:,5])\n",
    "    smf0=stats.ttest_ind(data[:,6],datacompare[:,6])\n",
    "    smrms=stats.ttest_ind(data[:,7],datacompare[:,7])\n",
    "    szc=stats.ttest_ind(data[:,8],datacompare[:,8])\n",
    "    print('p_value of duration=',sduration[1])\n",
    "    print('p_value of mfcc=',smfcc[1])\n",
    "    print('p_value of f0_range=',srf0[1])\n",
    "    print('p_value of f0_max=',smaxf0[1])\n",
    "    print('p_value of f0_min=',sminf0[1])\n",
    "    print('p_value of f0_mean=',smf0[1])\n",
    "    print('p_value of energy_rms=',smrms[1])\n",
    "    print('p_value of energy_zc=',szc[1])\n",
    "    pvalue=np.c_[sduration[1],smfcc[1],srf0[1],smaxf0[1],sminf0[1],smf0[1],smrms[1],szc[1]]\n",
    "    return pvalue"
   ]
  },
  {
   "cell_type": "code",
   "execution_count": 95,
   "metadata": {},
   "outputs": [],
   "source": [
    "#ttest(diffclt,diffcrt)"
   ]
  },
  {
   "cell_type": "code",
   "execution_count": 96,
   "metadata": {},
   "outputs": [],
   "source": [
    "def plotshow(datafas,datachis):\n",
    "    \n",
    "    xxx=np.empty([len(datafas)+len(datachis)],dtype = str) \n",
    "    xxx[0:len(datafas)]='L'\n",
    "    xxx[len(datafas):]='N'\n",
    "    \n",
    "    compare_durationrow=np.r_[datafas[:,1],datachis[:,2]]\n",
    "    compare_mfccrow=np.r_[datafas[:,2],datachis[:,2]]\n",
    "    compare_rf0row=np.r_[datafas[:,3],datachis[:,3]]\n",
    "    compare_maxf0row=np.r_[datafas[:,4],datachis[:,4]]\n",
    "    compare_minf0row=np.r_[datafas[:,5],datachis[:,5]]\n",
    "    compare_mf0row=np.r_[datafas[:,6],datachis[:,6]]\n",
    "    compare_mrmsrow=np.r_[datafas[:,7],datachis[:,7]]\n",
    "    compare_zcrow=np.r_[datafas[:,8],datachis[:,8]]\n",
    "    \n",
    "    ax = sns.boxplot(x=xxx, y=compare_durationrow, linewidth=1.5,whis=1.5)\n",
    "    plt.xlabel('Vocal exchange/Non-vocal exchange', fontsize=12)\n",
    "    plt.ylabel('duration',fontsize=12)\n",
    "    plt.title('Vocal exchange/Non-vocal exchange')\n",
    "    plt.show()\n",
    "    \n",
    "    ax = sns.boxplot(x=xxx, y=compare_rf0row, linewidth=1.5,whis=1.5)\n",
    "    plt.xlabel('Vocal exchange/Non-vocal exchange', fontsize=12)\n",
    "    plt.ylabel('f0_range',fontsize=12)\n",
    "    plt.title('Vocal exchange/Non-vocal exchange')\n",
    "    plt.show()\n",
    "    \n",
    "    ax = sns.boxplot(x=xxx, y=compare_maxf0row, linewidth=1.5,whis=1.5)\n",
    "    plt.xlabel('Vocal exchange/Non-vocal exchange', fontsize=12)\n",
    "    plt.ylabel('max_f0',fontsize=12)\n",
    "    plt.title('Vocal exchange/Non-vocal exchange')\n",
    "    plt.show()\n",
    "\n",
    "    ax = sns.boxplot(x=xxx, y=compare_minf0row, linewidth=1.5,whis=1.5)\n",
    "    plt.xlabel('Vocal exchange/Non-vocal exchange', fontsize=12)\n",
    "    plt.ylabel('min_f0',fontsize=12)\n",
    "    plt.title('Vocal exchange/Non-vocal exchange')\n",
    "    plt.show()\n",
    "    \n",
    "    ax = sns.boxplot(x=xxx, y=compare_mf0row, linewidth=1.5,whis=1.5)\n",
    "    plt.xlabel('Vocal exchange/Non-vocal exchange', fontsize=12)\n",
    "    plt.ylabel('Mean_f0',fontsize=12)\n",
    "    plt.title('Vocal exchange/Non-vocal exchange')\n",
    "    plt.show()\n",
    "    \n",
    "    ax = sns.boxplot(x=xxx, y=compare_mrmsrow, linewidth=1.5,whis=1.5)\n",
    "    plt.xlabel('Vocal exchange/Non-vocal exchange', fontsize=12)\n",
    "    plt.ylabel('Energy',fontsize=12)\n",
    "    plt.title('Vocal exchange/Non-vocal exchange')\n",
    "    plt.show()\n",
    "    \n",
    "    ax = sns.boxplot(x=xxx, y=compare_zcrow, linewidth=1.5,whis=1.5)\n",
    "    plt.xlabel('Vocal exchange/Non-vocal exchange', fontsize=12)\n",
    "    plt.ylabel('zerocrossing rate',fontsize=12)\n",
    "    plt.title('Vocal exchange/Non-vocal exchange')\n",
    "    plt.show()"
   ]
  },
  {
   "cell_type": "code",
   "execution_count": 97,
   "metadata": {},
   "outputs": [],
   "source": [
    "#plotshow(diffclt,diffcrt)"
   ]
  },
  {
   "cell_type": "code",
   "execution_count": 98,
   "metadata": {},
   "outputs": [],
   "source": [
    "#diff=np.r_[diffc1,diffc2,diffc3,diffc4,diffc5,diffc6,diffc7,diffc8,diffc9]\n",
    "#xlabel=np.r_[xlabel1,xlabel2,xlabel3,xlabel4,xlabel5,xlabel6,xlabel7,xlabel8,xlabel9]"
   ]
  },
  {
   "cell_type": "code",
   "execution_count": 99,
   "metadata": {},
   "outputs": [],
   "source": [
    "diff=np.r_[diffc1,diffc2,diffc6,diffc7,diffc8,diffc9]\n",
    "xlabel=np.r_[xlabel1,xlabel2,xlabel6,xlabel7,xlabel8,xlabel9]"
   ]
  },
  {
   "cell_type": "code",
   "execution_count": 100,
   "metadata": {},
   "outputs": [
    {
     "name": "stdout",
     "output_type": "stream",
     "text": [
      "218\n"
     ]
    }
   ],
   "source": [
    "print(len(diff[:,0]))"
   ]
  },
  {
   "cell_type": "code",
   "execution_count": 101,
   "metadata": {},
   "outputs": [],
   "source": [
    "#print(xlabel[0:30],diff[0:30,6])"
   ]
  },
  {
   "cell_type": "code",
   "execution_count": 102,
   "metadata": {},
   "outputs": [],
   "source": [
    "#mothert=np.r_[t1,t2,t3,t4,t5,t6,t7,t8,t9]\n",
    "#infantt=np.r_[tc1,tc2,tc3,tc4,tc5,tc6,tc7,tc8,tc9]"
   ]
  },
  {
   "cell_type": "code",
   "execution_count": 103,
   "metadata": {},
   "outputs": [],
   "source": [
    "mothert=np.r_[t1,t2,t6,t7,t8,t9]\n",
    "infantt=np.r_[tc1,tc2,tc6,tc7,tc8,tc9]"
   ]
  },
  {
   "cell_type": "code",
   "execution_count": 104,
   "metadata": {},
   "outputs": [],
   "source": [
    "#print(mothert[:,3],infantt[:,3])"
   ]
  },
  {
   "cell_type": "code",
   "execution_count": 105,
   "metadata": {},
   "outputs": [],
   "source": [
    "data_d=np.c_[diff[:,1],mothert[:,1],infantt[:,1]]\n",
    "data_dp=pd.DataFrame(data_d)\n",
    "data_dp.columns=['Diff_d','Mother_d','Infant_d']\n",
    "#data_dp.to_csv(r'C:\\LJR\\babylab\\marisa\\datamanual\\cut\\blockdata\\Duration.csv')\n",
    "#data_dp.to_csv(r'D:\\blockdatamall\\Duration.csv')\n",
    "data_r=np.c_[diff[:,3],mothert[:,3],infantt[:,3]]\n",
    "data_rp=pd.DataFrame(data_r)\n",
    "data_rp.columns=['Diff_r','Mother_r','Infant_r']\n",
    "#data_rp.to_csv(r'C:\\LJR\\babylab\\marisa\\datamanual\\cut\\blockdata\\Pitchrange.csv')\n",
    "#data_rp.to_csv(r'D:\\blockdatamall\\Pitchrange.csv')\n",
    "data_max=np.c_[diff[:,4],mothert[:,4],infantt[:,4]]\n",
    "data_maxp=pd.DataFrame(data_max)\n",
    "data_maxp.columns=['Diff_max','Mother_max','Infant_max']\n",
    "#data_maxp.to_csv(r'C:\\LJR\\babylab\\marisa\\datamanual\\cut\\blockdata\\Pitchmax.csv')\n",
    "#data_maxp.to_csv(r'D:\\blockdatamall\\Pitchmax.csv')\n",
    "data_min=np.c_[diff[:,5],mothert[:,5],infantt[:,5]]\n",
    "data_minp=pd.DataFrame(data_min)\n",
    "data_minp.columns=['Diff_min','Mother_min','Infant_min']\n",
    "#data_minp.to_csv(r'C:\\LJR\\babylab\\marisa\\datamanual\\cut\\blockdata\\Pitchmin.csv')\n",
    "#data_minp.to_csv(r'D:\\blockdatamall\\Pitchmin.csv')\n",
    "data_mean=np.c_[diff[:,6],mothert[:,6],infantt[:,6]]\n",
    "data_meanp=pd.DataFrame(data_mean)\n",
    "data_meanp.columns=['Diff_mean','Mother_mean','Infant_mean']\n",
    "#data_meanp.to_csv(r'C:\\LJR\\babylab\\marisa\\datamanual\\cut\\blockdata\\Pitchmean.csv')\n",
    "#ata_meanp.to_csv(r'D:\\blockdatamall\\Pitchmean.csv')"
   ]
  },
  {
   "cell_type": "code",
   "execution_count": 106,
   "metadata": {},
   "outputs": [
    {
     "name": "stdout",
     "output_type": "stream",
     "text": [
      "       lval  op      rval  Estimate  Est. Std  Std. Err    z-value   p-value\n",
      "0  Mother_d   ~  Infant_d  0.157270  0.105527  0.100375   1.566829  0.117155\n",
      "1    Diff_d   ~  Mother_d  0.693943  0.797683  0.036064  19.241914  0.000000\n",
      "2    Diff_d   ~  Infant_d -0.132126 -0.101908  0.053748  -2.458259  0.013961\n",
      "3  Mother_d  ~~  Mother_d  0.376915  0.988864  0.036102  10.440307  0.000000\n",
      "4    Diff_d  ~~    Diff_d  0.106869  0.370473  0.010236  10.440307  0.000000\n"
     ]
    }
   ],
   "source": [
    "moddm = \"\"\"Diff_d~Mother_d+Infant_d\n",
    "          Mother_d~Infant_d\n",
    "      \"\"\"\n",
    "modeldm = Model(moddm)\n",
    "resdm = modeldm.fit(data_dp)\n",
    "insdm = modeldm.inspect(std_est=True)\n",
    "print(insdm)"
   ]
  },
  {
   "cell_type": "code",
   "execution_count": 107,
   "metadata": {},
   "outputs": [
    {
     "name": "stdout",
     "output_type": "stream",
     "text": [
      "     lval  op      rval  Estimate  Est. Std  Std. Err    z-value   p-value\n",
      "0  Diff_d   ~  Mother_d  0.694400  0.797858  0.036069  19.252142  0.000000\n",
      "1  Diff_d   ~  Infant_d -0.132301 -0.102014  0.053747  -2.461576  0.013833\n",
      "2  Diff_d  ~~    Diff_d  0.106859  0.370227  0.010235  10.440307  0.000000\n"
     ]
    }
   ],
   "source": [
    "moddm = \"\"\"Diff_d~Mother_d+Infant_d\n",
    "      \"\"\"\n",
    "modeldm = Model(moddm)\n",
    "resdm = modeldm.fit(data_dp)\n",
    "insdm = modeldm.inspect(std_est=True)\n",
    "print(insdm)"
   ]
  },
  {
   "cell_type": "code",
   "execution_count": 108,
   "metadata": {},
   "outputs": [
    {
     "name": "stdout",
     "output_type": "stream",
     "text": [
      "       lval  op      rval  Estimate  Est. Std  Std. Err    z-value   p-value\n",
      "0  Infant_d   ~  Mother_d  0.071058  0.105891  0.045194   1.572304  0.115880\n",
      "1    Diff_d   ~  Mother_d  0.694003  0.797843  0.036052  19.250265  0.000000\n",
      "2    Diff_d   ~  Infant_d -0.132415 -0.102152  0.053724  -2.464710  0.013712\n",
      "3  Infant_d  ~~  Infant_d  0.169663  0.988787  0.016251  10.440307  0.000000\n",
      "4    Diff_d  ~~    Diff_d  0.106754  0.370272  0.010225  10.440307  0.000000\n"
     ]
    }
   ],
   "source": [
    "moddi = \"\"\"Diff_d~Mother_d+Infant_d\n",
    "          Infant_d~Mother_d\n",
    "      \"\"\"\n",
    "modeldi = Model(moddi)\n",
    "resdi = modeldi.fit(data_dp)\n",
    "insdi = modeldi.inspect(std_est=True)\n",
    "print(insdi)"
   ]
  },
  {
   "cell_type": "code",
   "execution_count": 109,
   "metadata": {},
   "outputs": [
    {
     "name": "stdout",
     "output_type": "stream",
     "text": [
      "       lval  op      rval     Estimate  Est. Std    Std. Err    z-value  \\\n",
      "0  Mother_r   ~  Infant_r     0.085871  0.159183    0.036070   2.380662   \n",
      "1    Diff_r   ~  Mother_r     0.203235  0.121769    0.077630   2.617987   \n",
      "2    Diff_r   ~  Infant_r     0.635452  0.705787    0.041877  15.174096   \n",
      "3  Mother_r  ~~  Mother_r  4084.110512  0.974661  391.186840  10.440307   \n",
      "4    Diff_r  ~~    Diff_r  5365.592964  0.459676  513.930598  10.440307   \n",
      "\n",
      "    p-value  \n",
      "0  0.017282  \n",
      "1  0.008845  \n",
      "2  0.000000  \n",
      "3  0.000000  \n",
      "4  0.000000  \n"
     ]
    }
   ],
   "source": [
    "modrm = \"\"\"Diff_r~Mother_r+Infant_r\n",
    "          Mother_r~Infant_r\n",
    "      \"\"\"\n",
    "modelrm = Model(modrm)\n",
    "resrm = modelrm.fit(data_rp)\n",
    "insrm = modelrm.inspect(std_est=True)\n",
    "print(insrm)"
   ]
  },
  {
   "cell_type": "code",
   "execution_count": 110,
   "metadata": {},
   "outputs": [
    {
     "name": "stdout",
     "output_type": "stream",
     "text": [
      "Name of objective: MLW\n",
      "Optimization method: SLSQP\n",
      "Optimization successful.\n",
      "Optimization terminated successfully\n",
      "Objective value: 0.025\n",
      "Number of iterations: 3\n",
      "Params: 0.203 0.635 5365.593      lval  op      rval     Estimate  Est. Std    Std. Err    z-value  \\\n",
      "0  Diff_r   ~  Mother_r     0.203235  0.168828    0.055253   3.678244   \n",
      "1  Diff_r   ~  Infant_r     0.635452  0.700871    0.041615  15.269856   \n",
      "2  Diff_r  ~~    Diff_r  5365.592970  0.453295  513.930598  10.440307   \n",
      "\n",
      "    p-value  \n",
      "0  0.000235  \n",
      "1  0.000000  \n",
      "2  0.000000  \n"
     ]
    }
   ],
   "source": [
    "modrm = \"\"\"Diff_r~Mother_r+Infant_r\n",
    "      \"\"\"\n",
    "modelrm = Model(modrm)\n",
    "resrm = modelrm.fit(data_rp)\n",
    "insrm = modelrm.inspect(std_est=True)\n",
    "print(resrm,insrm)"
   ]
  },
  {
   "cell_type": "code",
   "execution_count": 111,
   "metadata": {},
   "outputs": [
    {
     "name": "stdout",
     "output_type": "stream",
     "text": [
      "       DoF  DoF Baseline      chi2  chi2 p-value  chi2 Baseline       CFI  \\\n",
      "Value    3             5  5.382365      0.145846     271.157779  0.991049   \n",
      "\n",
      "           GFI      AGFI      NFI       TLI     RMSEA       AIC        BIC  \\\n",
      "Value  0.98015  0.966917  0.98015  0.985082  0.060494  5.950621  16.104106   \n",
      "\n",
      "        LogLik  \n",
      "Value  0.02469  \n"
     ]
    }
   ],
   "source": [
    "statsr = semopy.calc_stats(modelrm)\n",
    "print(statsr)"
   ]
  },
  {
   "cell_type": "code",
   "execution_count": 112,
   "metadata": {},
   "outputs": [],
   "source": [
    "from scipy.stats import norm"
   ]
  },
  {
   "cell_type": "code",
   "execution_count": 113,
   "metadata": {},
   "outputs": [
    {
     "name": "stdout",
     "output_type": "stream",
     "text": [
      "[1.44328993e-14]\n"
     ]
    }
   ],
   "source": [
    "coefmr=np.array(insrm.loc[insrm['rval']=='Mother_r','Est. Std'])\n",
    "coefir=np.array(insrm.loc[insrm['rval']=='Infant_r','Est. Std'])\n",
    "\n",
    "errmr=np.array(insrm.loc[insrm['rval']=='Mother_r','Std. Err'])\n",
    "errir=np.array(insrm.loc[insrm['rval']=='Infant_r','Std. Err'])\n",
    "\n",
    "diff_coefr=coefmr-coefir\n",
    "diff_errr=(errmr**2+errir**2)**0.5\n",
    "\n",
    "zr=diff_coefr/diff_errr\n",
    "pr=2*(1-norm.cdf(abs(zr)))\n",
    "print(pr)"
   ]
  },
  {
   "cell_type": "code",
   "execution_count": 114,
   "metadata": {},
   "outputs": [
    {
     "name": "stdout",
     "output_type": "stream",
     "text": [
      "       lval  op      rval     Estimate  Est. Std    Std. Err    z-value  \\\n",
      "0  Infant_r   ~  Mother_r     0.151379  0.159183    0.063587   2.380664   \n",
      "1    Diff_r   ~  Mother_r     0.203235  0.193560    0.055602   3.655174   \n",
      "2    Diff_r   ~  Infant_r     0.635452  0.575531    0.058468  10.868289   \n",
      "3  Infant_r  ~~  Infant_r  7199.764496  0.974661  689.612368  10.440307   \n",
      "4    Diff_r  ~~    Diff_r  5365.592954  0.595833  513.930597  10.440307   \n",
      "\n",
      "    p-value  \n",
      "0  0.017281  \n",
      "1  0.000257  \n",
      "2  0.000000  \n",
      "3  0.000000  \n",
      "4  0.000000  \n"
     ]
    }
   ],
   "source": [
    "modri = \"\"\"Diff_r~Mother_r+Infant_r\n",
    "           Infant_r~Mother_r\n",
    "      \"\"\"\n",
    "modelri = Model(modri)\n",
    "resri = modelri.fit(data_rp)\n",
    "insri = modelri.inspect(std_est=True)\n",
    "print(insri)"
   ]
  },
  {
   "cell_type": "code",
   "execution_count": 115,
   "metadata": {},
   "outputs": [
    {
     "name": "stdout",
     "output_type": "stream",
     "text": [
      "         lval  op        rval     Estimate  Est. Std    Std. Err    z-value  \\\n",
      "0  Mother_max   ~  Infant_max     0.143029  0.260374    0.035921   3.981708   \n",
      "1    Diff_max   ~  Mother_max    -0.549919 -0.292364    0.085864  -6.404542   \n",
      "2    Diff_max   ~  Infant_max     0.806946  0.780987    0.047167  17.108360   \n",
      "3  Mother_max  ~~  Mother_max  4726.076879  0.932206  452.676066  10.440307   \n",
      "4    Diff_max  ~~    Diff_max  7595.878932  0.423486  727.553250  10.440307   \n",
      "\n",
      "        p-value  \n",
      "0  6.842172e-05  \n",
      "1  1.508214e-10  \n",
      "2  0.000000e+00  \n",
      "3  0.000000e+00  \n",
      "4  0.000000e+00  \n"
     ]
    }
   ],
   "source": [
    "modmaxm = \"\"\"Diff_max~Mother_max+Infant_max\n",
    "            Mother_max~Infant_max\n",
    "      \"\"\"\n",
    "modelmaxm = Model(modmaxm)\n",
    "resmaxm = modelmaxm.fit(data_maxp)\n",
    "insmaxm = modelmaxm.inspect(std_est=True)\n",
    "print(insmaxm)"
   ]
  },
  {
   "cell_type": "code",
   "execution_count": 116,
   "metadata": {},
   "outputs": [
    {
     "name": "stdout",
     "output_type": "stream",
     "text": [
      "Name of objective: MLW\n",
      "Optimization method: SLSQP\n",
      "Optimization successful.\n",
      "Optimization terminated successfully\n",
      "Objective value: 0.232\n",
      "Number of iterations: 3\n",
      "Params: -0.550 0.807 7595.879        lval  op        rval     Estimate  Est. Std    Std. Err    z-value  \\\n",
      "0  Diff_max   ~  Mother_max    -0.549919 -0.385226    0.061850  -8.891190   \n",
      "1  Diff_max   ~  Infant_max     0.806946  0.753641    0.046391  17.394398   \n",
      "2  Diff_max  ~~    Diff_max  7595.878945  0.394349  727.553251  10.440307   \n",
      "\n",
      "   p-value  \n",
      "0      0.0  \n",
      "1      0.0  \n",
      "2      0.0  \n"
     ]
    }
   ],
   "source": [
    "modmaxm = \"\"\"Diff_max~Mother_max+Infant_max\n",
    "      \"\"\"\n",
    "modelmaxm = Model(modmaxm)\n",
    "resmaxm = modelmaxm.fit(data_maxp)\n",
    "insmaxm = modelmaxm.inspect(std_est=True)\n",
    "print(resmaxm,insmaxm)"
   ]
  },
  {
   "cell_type": "code",
   "execution_count": 117,
   "metadata": {},
   "outputs": [
    {
     "name": "stdout",
     "output_type": "stream",
     "text": [
      "       DoF  DoF Baseline       chi2  chi2 p-value  chi2 Baseline      CFI  \\\n",
      "Value    3             5  50.503956  6.239720e-11     393.388686  0.87769   \n",
      "\n",
      "            GFI     AGFI       NFI       TLI     RMSEA       AIC        BIC  \\\n",
      "Value  0.871618  0.78603  0.871618  0.796149  0.270131  5.536661  15.690146   \n",
      "\n",
      "        LogLik  \n",
      "Value  0.23167  \n"
     ]
    }
   ],
   "source": [
    "statsmax = semopy.calc_stats(modelmaxm)\n",
    "print(statsmax)"
   ]
  },
  {
   "cell_type": "code",
   "execution_count": 118,
   "metadata": {},
   "outputs": [
    {
     "name": "stdout",
     "output_type": "stream",
     "text": [
      "[-0.38522555] [0.]\n"
     ]
    }
   ],
   "source": [
    "coefmmax=np.array(insmaxm.loc[insmaxm['rval']=='Mother_max','Est. Std'])\n",
    "coefimax=np.array(insmaxm.loc[insmaxm['rval']=='Infant_max','Est. Std'])\n",
    "\n",
    "errmmax=np.array(insmaxm.loc[insmaxm['rval']=='Mother_max','Std. Err'])\n",
    "errimax=np.array(insmaxm.loc[insmaxm['rval']=='Infant_max','Std. Err'])\n",
    "\n",
    "diff_coefmax=coefmmax-coefimax\n",
    "diff_errmax=(errmmax**2+errimax**2)**0.5\n",
    "\n",
    "zmax=diff_coefmax/diff_errmax\n",
    "pmax=2*(1-norm.cdf(abs(zmax)))\n",
    "print(coefmmax,pmax)"
   ]
  },
  {
   "cell_type": "code",
   "execution_count": 119,
   "metadata": {},
   "outputs": [
    {
     "name": "stdout",
     "output_type": "stream",
     "text": [
      "       Diff_max         Max  Group\n",
      "0     58.204519  283.178620    1.0\n",
      "1    104.135817  237.247323    1.0\n",
      "2     85.620715  237.247323    1.0\n",
      "3      3.093349  325.961387    1.0\n",
      "4      0.000000  325.961387    1.0\n",
      "..          ...         ...    ...\n",
      "431  209.378295  463.649438    0.0\n",
      "432  115.859455  370.130598    0.0\n",
      "433   78.049755  370.130598    0.0\n",
      "434  246.700940  538.781783    0.0\n",
      "435  218.420218  538.781783    0.0\n",
      "\n",
      "[436 rows x 3 columns]\n"
     ]
    }
   ],
   "source": [
    "diff_maxmulti=np.r_[diff[:,4],diff[:,4]]\n",
    "maxmulti=np.r_[mothert[:,4],infantt[:,4]]\n",
    "groupm=np.zeros((len(mothert[:,4])))+1\n",
    "groupi=np.zeros((len(infantt[:,4])))\n",
    "group=np.r_[groupm,groupi]\n",
    "data_maxmulti=np.c_[diff_maxmulti,maxmulti,group]\n",
    "data_maxmultip=pd.DataFrame(data_maxmulti)\n",
    "data_maxmultip.columns=['Diff_max','Max','Group']\n",
    "print(data_maxmultip)\n",
    "#data_maxmultip.to_csv(r'F:\\blockdatamy\\multiPitchmax.csv')"
   ]
  },
  {
   "cell_type": "code",
   "execution_count": 120,
   "metadata": {},
   "outputs": [
    {
     "name": "stdout",
     "output_type": "stream",
     "text": [
      "     Diff_range       Range  Group\n",
      "0      6.628606   83.642878    1.0\n",
      "1     17.589387   72.682098    1.0\n",
      "2     24.285854   72.682098    1.0\n",
      "3     16.409231  113.377182    1.0\n",
      "4     79.496639  113.377182    1.0\n",
      "..          ...         ...    ...\n",
      "431   75.394046  118.305379    0.0\n",
      "432  105.863379  148.774712    0.0\n",
      "433  112.437989  148.774712    0.0\n",
      "434   46.760842   83.097565    0.0\n",
      "435   65.117052   83.097565    0.0\n",
      "\n",
      "[436 rows x 3 columns]\n"
     ]
    }
   ],
   "source": [
    "diff_rangemulti=np.r_[diff[:,3],diff[:,3]]\n",
    "rangemulti=np.r_[mothert[:,3],infantt[:,3]]\n",
    "groupm=np.zeros((len(mothert[:,3])))+1\n",
    "groupi=np.zeros((len(infantt[:,3])))\n",
    "group=np.r_[groupm,groupi]\n",
    "data_rangemulti=np.c_[diff_rangemulti,rangemulti,group]\n",
    "data_rangemultip=pd.DataFrame(data_rangemulti)\n",
    "data_rangemultip.columns=['Diff_range','Range','Group']\n",
    "print(data_rangemultip)\n",
    "#data_rangemultip.to_csv(r'F:\\blockdatamy\\multiPitchrange.csv')"
   ]
  },
  {
   "cell_type": "code",
   "execution_count": 121,
   "metadata": {},
   "outputs": [
    {
     "name": "stdout",
     "output_type": "stream",
     "text": [
      "       Diff_min         Min  Group\n",
      "0     51.575913  199.535742    1.0\n",
      "1     86.546430  164.565225    1.0\n",
      "2     61.334862  164.565225    1.0\n",
      "3     13.315882  212.584205    1.0\n",
      "4     79.496639  212.584205    1.0\n",
      "..          ...         ...    ...\n",
      "431  133.984250  345.344059    0.0\n",
      "432    9.996077  221.355886    0.0\n",
      "433   34.388234  221.355886    0.0\n",
      "434  199.940098  455.684218    0.0\n",
      "435  153.303166  455.684218    0.0\n",
      "\n",
      "[436 rows x 3 columns]\n"
     ]
    }
   ],
   "source": [
    "diff_minmulti=np.r_[diff[:,5],diff[:,5]]\n",
    "minmulti=np.r_[mothert[:,5],infantt[:,5]]\n",
    "groupm=np.zeros((len(mothert[:,5])))+1\n",
    "groupi=np.zeros((len(infantt[:,5])))\n",
    "group=np.r_[groupm,groupi]\n",
    "data_minmulti=np.c_[diff_minmulti,minmulti,group]\n",
    "data_minmultip=pd.DataFrame(data_minmulti)\n",
    "data_minmultip.columns=['Diff_min','Min','Group']\n",
    "print(data_minmultip)\n",
    "#data_minmultip.to_csv(r'F:\\blockdatamy\\multiPitchmin.csv')"
   ]
  },
  {
   "cell_type": "code",
   "execution_count": 122,
   "metadata": {},
   "outputs": [
    {
     "name": "stdout",
     "output_type": "stream",
     "text": [
      "      Diff_mean        Mean  Group\n",
      "0     52.187067  236.912280    1.0\n",
      "1     78.827178  210.272169    1.0\n",
      "2     90.014853  210.272169    1.0\n",
      "3     40.376833  259.910189    1.0\n",
      "4     48.750484  259.910189    1.0\n",
      "..          ...         ...    ...\n",
      "431  180.340299  404.856047    0.0\n",
      "432  108.413739  332.929487    0.0\n",
      "433   57.560237  332.929487    0.0\n",
      "434  230.545647  505.914897    0.0\n",
      "435  193.654066  505.914897    0.0\n",
      "\n",
      "[436 rows x 3 columns]\n"
     ]
    }
   ],
   "source": [
    "diff_meanmulti=np.r_[diff[:,6],diff[:,6]]\n",
    "meanmulti=np.r_[mothert[:,6],infantt[:,6]]\n",
    "groupm=np.zeros((len(mothert[:,6])))+1\n",
    "groupi=np.zeros((len(infantt[:,6])))\n",
    "group=np.r_[groupm,groupi]\n",
    "data_meanmulti=np.c_[diff_meanmulti,meanmulti,group]\n",
    "data_meanmultip=pd.DataFrame(data_meanmulti)\n",
    "data_meanmultip.columns=['Diff_mean','Mean','Group']\n",
    "print(data_meanmultip)\n",
    "#data_meanmultip.to_csv(r'F:\\blockdatamy\\multiPitchmean.csv')"
   ]
  },
  {
   "cell_type": "code",
   "execution_count": 123,
   "metadata": {},
   "outputs": [
    {
     "data": {
      "text/plain": [
       "MultigroupResult(groups=array([1., 0.]), estimates={1.0:        lval  op      rval     Estimate    Std. Err    z-value       p-value\n",
       "0  Diff_max   ~       Max    -0.344767    0.060715  -5.678463  1.359102e-08\n",
       "1  Diff_max  ~~  Diff_max  7595.878981  727.553255  10.440307  0.000000e+00, 0.0:        lval  op      rval     Estimate    Std. Err    z-value  p-value\n",
       "0  Diff_max   ~       Max     0.728292    0.045540  15.992397      0.0\n",
       "1  Diff_max  ~~  Diff_max  7595.878958  727.553253  10.440307      0.0}, stats={1.0:        DoF  DoF Baseline       chi2  chi2 p-value  chi2 Baseline       CFI  \\\n",
       "Value    1             2  51.398748  7.538414e-13      83.643693  0.382699   \n",
       "\n",
       "            GFI      AGFI       NFI       TLI     RMSEA       AIC        BIC  \\\n",
       "Value  0.385504 -0.228993  0.385504 -0.234602  0.481926  3.528452  10.297442   \n",
       "\n",
       "         LogLik  \n",
       "Value  0.235774  , 0.0:        DoF  DoF Baseline      chi2  chi2 p-value  chi2 Baseline       CFI  \\\n",
       "Value    1             2  3.704176      0.054276     259.460925  0.989497   \n",
       "\n",
       "            GFI      AGFI       NFI       TLI     RMSEA       AIC        BIC  \\\n",
       "Value  0.985724  0.971447  0.985724  0.978994  0.111632  3.966017  10.735007   \n",
       "\n",
       "         LogLik  \n",
       "Value  0.016992  }, runs={1.0: SolverResult(fun=0.23577407304351272, success=True, n_it=2, x=array([-3.44767415e-01,  7.59587898e+03]), message='Optimization terminated successfully', name_method='SLSQP', name_obj='MLW'), 0.0: SolverResult(fun=0.016991634401282152, success=True, n_it=2, x=array([7.28291664e-01, 7.59587896e+03]), message='Optimization terminated successfully', name_method='SLSQP', name_obj='MLW')}, n_obs={1.0: 218, 0.0: 218})"
      ]
     },
     "execution_count": 123,
     "metadata": {},
     "output_type": "execute_result"
    }
   ],
   "source": [
    "from semopy import multigroup\n",
    "modmultimax = \"\"\"Diff_max~Max\n",
    "      \"\"\"\n",
    "multigroup.multigroup(modmultimax,data_maxmultip,'Group')\n"
   ]
  },
  {
   "cell_type": "code",
   "execution_count": 124,
   "metadata": {},
   "outputs": [
    {
     "name": "stdout",
     "output_type": "stream",
     "text": [
      "       lval  op        rval     Estimate  Est. Std    Std. Err    z-value  \\\n",
      "0  Diff_max   ~  Infant_max     0.728292  0.734744    0.045540  15.992397   \n",
      "1  Diff_max  ~~    Diff_max  7595.878958  0.460152  727.553253  10.440307   \n",
      "\n",
      "   p-value  \n",
      "0      0.0  \n",
      "1      0.0  \n"
     ]
    }
   ],
   "source": [
    "modmaxt = \"\"\"Diff_max~Infant_max\n",
    "      \"\"\"\n",
    "modelmaxt = Model(modmaxt)\n",
    "resmaxt = modelmaxt.fit(data_maxp)\n",
    "insmaxt = modelmaxt.inspect(std_est=True)\n",
    "print(insmaxt)"
   ]
  },
  {
   "cell_type": "code",
   "execution_count": 125,
   "metadata": {},
   "outputs": [],
   "source": [
    "#g = semopy.semplot(modelmaxm, \"pd.png\")"
   ]
  },
  {
   "cell_type": "code",
   "execution_count": 126,
   "metadata": {},
   "outputs": [
    {
     "name": "stdout",
     "output_type": "stream",
     "text": [
      "         lval  op        rval     Estimate  Est. Std    Std. Err    z-value  \\\n",
      "0  Infant_max   ~  Mother_max     0.254233  0.260375    0.063850   3.981727   \n",
      "1    Diff_max   ~  Mother_max    -0.549918 -0.448828    0.062884  -8.744973   \n",
      "2    Diff_max   ~  Infant_max     0.806946  0.643071    0.064403  12.529608   \n",
      "3  Infant_max  ~~  Infant_max  8400.555114  0.932205  804.627250  10.440307   \n",
      "4    Diff_max  ~~    Diff_max  7595.878914  0.535316  727.553248  10.440307   \n",
      "\n",
      "    p-value  \n",
      "0  0.000068  \n",
      "1  0.000000  \n",
      "2  0.000000  \n",
      "3  0.000000  \n",
      "4  0.000000  \n"
     ]
    }
   ],
   "source": [
    "modmaxi = \"\"\"Diff_max~Mother_max+Infant_max\n",
    "            Infant_max~Mother_max\n",
    "      \"\"\"\n",
    "modelmaxi = Model(modmaxi)\n",
    "resmaxi = modelmaxi.fit(data_maxp)\n",
    "insmaxi = modelmaxi.inspect(std_est=True)\n",
    "print(insmaxi)"
   ]
  },
  {
   "cell_type": "code",
   "execution_count": 127,
   "metadata": {},
   "outputs": [
    {
     "name": "stdout",
     "output_type": "stream",
     "text": [
      "         lval  op        rval     Estimate  Est. Std    Std. Err    z-value  \\\n",
      "0  Mother_min   ~  Infant_min     0.089679  0.138581    0.043406   2.066058   \n",
      "1    Diff_min   ~  Mother_min    -0.050802 -0.034368    0.073205  -0.693967   \n",
      "2    Diff_min   ~  Infant_min     0.663436  0.693560    0.047373  14.004592   \n",
      "3  Mother_min  ~~  Mother_min  1699.455903  0.980795  162.778353  10.440307   \n",
      "4    Diff_min  ~~    Diff_min  1985.420014  0.524400  190.168748  10.440307   \n",
      "\n",
      "    p-value  \n",
      "0  0.038823  \n",
      "1  0.487703  \n",
      "2  0.000000  \n",
      "3  0.000000  \n",
      "4  0.000000  \n"
     ]
    }
   ],
   "source": [
    "modminm = \"\"\"Diff_min~Mother_min+Infant_min\n",
    "             Mother_min~Infant_min\n",
    "      \"\"\"\n",
    "modelminm = Model(modminm)\n",
    "resminm = modelminm.fit(data_minp)\n",
    "insminm = modelminm.inspect(std_est=True)\n",
    "print(insminm)"
   ]
  },
  {
   "cell_type": "code",
   "execution_count": 128,
   "metadata": {},
   "outputs": [
    {
     "name": "stdout",
     "output_type": "stream",
     "text": [
      "Name of objective: MLW\n",
      "Optimization method: SLSQP\n",
      "Optimization successful.\n",
      "Optimization terminated successfully\n",
      "Objective value: 0.004\n",
      "Number of iterations: 3\n",
      "Params: -0.051 0.663 1985.420        lval  op        rval     Estimate  Est. Std    Std. Err    z-value  \\\n",
      "0  Diff_min   ~  Mother_min    -0.050801 -0.048106    0.052019  -0.976573   \n",
      "1  Diff_min   ~  Infant_min     0.663436  0.693167    0.047147  14.071655   \n",
      "2  Diff_min  ~~    Diff_min  1985.420005  0.523804  190.168747  10.440307   \n",
      "\n",
      "    p-value  \n",
      "0  0.328781  \n",
      "1  0.000000  \n",
      "2  0.000000  \n"
     ]
    }
   ],
   "source": [
    "modminm = \"\"\"Diff_min~Mother_min+Infant_min\n",
    "      \"\"\"\n",
    "modelminm = Model(modminm)\n",
    "resminm = modelminm.fit(data_minp)\n",
    "insminm = modelminm.inspect(std_est=True)\n",
    "print(resminm,insminm)"
   ]
  },
  {
   "cell_type": "code",
   "execution_count": 129,
   "metadata": {},
   "outputs": [
    {
     "name": "stdout",
     "output_type": "stream",
     "text": [
      "       DoF  DoF Baseline      chi2  chi2 p-value  chi2 Baseline       CFI  \\\n",
      "Value    3             5  0.849354      0.837629      201.18002  1.010963   \n",
      "\n",
      "            GFI      AGFI       NFI       TLI  RMSEA       AIC        BIC  \\\n",
      "Value  0.995778  0.992964  0.995778  1.018271      0  5.992208  16.145693   \n",
      "\n",
      "         LogLik  \n",
      "Value  0.003896  \n"
     ]
    }
   ],
   "source": [
    "statsmin = semopy.calc_stats(modelminm)\n",
    "print(statsmin)"
   ]
  },
  {
   "cell_type": "code",
   "execution_count": 130,
   "metadata": {},
   "outputs": [
    {
     "name": "stdout",
     "output_type": "stream",
     "text": [
      "[-0.04810576] [-10.55857622] [0.]\n"
     ]
    }
   ],
   "source": [
    "coefmmin=np.array(insminm.loc[insminm['rval']=='Mother_min','Est. Std'])\n",
    "coefimin=np.array(insminm.loc[insminm['rval']=='Infant_min','Est. Std'])\n",
    "\n",
    "errmmin=np.array(insminm.loc[insminm['rval']=='Mother_min','Std. Err'])\n",
    "errimin=np.array(insminm.loc[insminm['rval']=='Infant_min','Std. Err'])\n",
    "\n",
    "diff_coefmin=coefmmin-coefimin\n",
    "diff_errmin=(errmmin**2+errimin**2)**0.5\n",
    "\n",
    "zmin=diff_coefmin/diff_errmin\n",
    "pmin=2*(1-norm.cdf(abs(zmin)))\n",
    "print(coefmmin,zmin,pmin)"
   ]
  },
  {
   "cell_type": "code",
   "execution_count": 131,
   "metadata": {},
   "outputs": [
    {
     "name": "stdout",
     "output_type": "stream",
     "text": [
      "         lval  op        rval     Estimate  Est. Std    Std. Err    z-value  \\\n",
      "0  Infant_min   ~  Mother_min     0.109291  0.138730    0.052841   2.068317   \n",
      "1    Diff_min   ~  Mother_min    -0.050760 -0.054976    0.052269  -0.971127   \n",
      "2    Diff_min   ~  Infant_min     0.663419  0.566051    0.066349   9.998972   \n",
      "3  Infant_min  ~~  Infant_min  2068.857843  0.980754  198.160642  10.440307   \n",
      "4    Diff_min  ~~    Diff_min  1985.420005  0.685199  190.168747  10.440307   \n",
      "\n",
      "    p-value  \n",
      "0  0.038610  \n",
      "1  0.331485  \n",
      "2  0.000000  \n",
      "3  0.000000  \n",
      "4  0.000000  \n"
     ]
    }
   ],
   "source": [
    "modmini = \"\"\"Diff_min~Mother_min+Infant_min\n",
    "             Infant_min~Mother_min\n",
    "      \"\"\"\n",
    "modelmini = Model(modmini)\n",
    "resmini = modelmini.fit(data_minp)\n",
    "insmini = modelmini.inspect(std_est=True)\n",
    "print(insmini)"
   ]
  },
  {
   "cell_type": "code",
   "execution_count": 132,
   "metadata": {},
   "outputs": [
    {
     "name": "stdout",
     "output_type": "stream",
     "text": [
      "          lval  op         rval     Estimate  Est. Std    Std. Err    z-value  \\\n",
      "0  Mother_mean   ~  Infant_mean     0.121030  0.191297    0.042059   2.877609   \n",
      "1    Diff_mean   ~  Mother_mean    -0.497015 -0.289928    0.078789  -6.308162   \n",
      "2    Diff_mean   ~  Infant_mean     0.807944  0.744933    0.049848  16.208025   \n",
      "3  Mother_mean  ~~  Mother_mean  1848.997819  0.963405  177.101871  10.440307   \n",
      "4    Diff_mean  ~~    Diff_mean  2502.222214  0.443649  239.669421  10.440307   \n",
      "\n",
      "        p-value  \n",
      "0  4.007018e-03  \n",
      "1  2.823686e-10  \n",
      "2  0.000000e+00  \n",
      "3  0.000000e+00  \n",
      "4  0.000000e+00  \n"
     ]
    }
   ],
   "source": [
    "modmeanm = \"\"\"Diff_mean~Mother_mean+Infant_mean\n",
    "              Mother_mean~Infant_mean\n",
    "      \"\"\"\n",
    "modelmeanm = Model(modmeanm)\n",
    "resmeanm = modelmeanm.fit(data_meanp)\n",
    "insmeanm = modelmeanm.inspect(std_est=True)\n",
    "print(insmeanm)"
   ]
  },
  {
   "cell_type": "code",
   "execution_count": 133,
   "metadata": {},
   "outputs": [
    {
     "name": "stdout",
     "output_type": "stream",
     "text": [
      "Name of objective: MLW\n",
      "Optimization method: SLSQP\n",
      "Optimization successful.\n",
      "Optimization terminated successfully\n",
      "Objective value: 0.132\n",
      "Number of iterations: 3\n",
      "Params: -0.497 0.808 2502.222         lval  op         rval     Estimate  Est. Std    Std. Err    z-value  \\\n",
      "0  Diff_mean   ~  Mother_mean    -0.497014 -0.387631    0.056249  -8.835958   \n",
      "1  Diff_mean   ~  Infant_mean     0.807944  0.717508    0.049399  16.355426   \n",
      "2  Diff_mean  ~~    Diff_mean  2502.222250  0.411584  239.669424  10.440307   \n",
      "\n",
      "   p-value  \n",
      "0      0.0  \n",
      "1      0.0  \n",
      "2      0.0  \n"
     ]
    }
   ],
   "source": [
    "modmeanm = \"\"\"Diff_mean~Mother_mean+Infant_mean\n",
    "      \"\"\"\n",
    "modelmeanm = Model(modmeanm)\n",
    "resmeanm = modelmeanm.fit(data_meanp)\n",
    "insmeanm = modelmeanm.inspect(std_est=True)\n",
    "print(resmeanm,insmeanm)"
   ]
  },
  {
   "cell_type": "code",
   "execution_count": 134,
   "metadata": {},
   "outputs": [
    {
     "name": "stdout",
     "output_type": "stream",
     "text": [
      "       DoF  DoF Baseline       chi2  chi2 p-value  chi2 Baseline       CFI  \\\n",
      "Value    3             5  28.742495      0.000003     344.583764  0.924194   \n",
      "\n",
      "            GFI     AGFI       NFI       TLI     RMSEA       AIC        BIC  \\\n",
      "Value  0.916588  0.86098  0.916588  0.873657  0.198854  5.736307  15.889793   \n",
      "\n",
      "         LogLik  \n",
      "Value  0.131846  \n"
     ]
    }
   ],
   "source": [
    "statsmean = semopy.calc_stats(modelmeanm)\n",
    "print(statsmean)"
   ]
  },
  {
   "cell_type": "code",
   "execution_count": 135,
   "metadata": {},
   "outputs": [
    {
     "name": "stdout",
     "output_type": "stream",
     "text": [
      "[-0.38763084] [0.07486143] [0.]\n"
     ]
    }
   ],
   "source": [
    "coefmmean=np.array(insmeanm.loc[insmeanm['rval']=='Mother_mean','Est. Std'])\n",
    "coefimean=np.array(insmeanm.loc[insmeanm['rval']=='Infant_mean','Est. Std'])\n",
    "\n",
    "errmmean=np.array(insmeanm.loc[insmeanm['rval']=='Mother_mean','Std. Err'])\n",
    "errimean=np.array(insmeanm.loc[insmeanm['rval']=='Infant_mean','Std. Err'])\n",
    "\n",
    "diff_coefmean=coefmmean-coefimean\n",
    "diff_errmean=(errmmean**2+errimean**2)**0.5\n",
    "\n",
    "zmean=diff_coefmean/diff_errmean\n",
    "pmean=2*(1-norm.cdf(abs(zmean)))\n",
    "print(coefmmean,diff_errmean,pmean)"
   ]
  },
  {
   "cell_type": "code",
   "execution_count": 136,
   "metadata": {},
   "outputs": [
    {
     "name": "stdout",
     "output_type": "stream",
     "text": [
      "          lval  op         rval     Estimate  Est. Std    Std. Err    z-value  \\\n",
      "0  Infant_mean   ~  Mother_mean     0.156917  0.191291    0.054532   2.877517   \n",
      "1    Diff_mean   ~  Mother_mean    -0.497015 -0.446892    0.056761  -8.756351   \n",
      "2    Diff_mean   ~  Infant_mean     0.807945  0.595924    0.069194  11.676453   \n",
      "3  Infant_mean  ~~  Infant_mean  2397.330363  0.963408  229.622604  10.440307   \n",
      "4    Diff_mean  ~~    Diff_mean  2502.222194  0.547049  239.669419  10.440307   \n",
      "\n",
      "    p-value  \n",
      "0  0.004008  \n",
      "1  0.000000  \n",
      "2  0.000000  \n",
      "3  0.000000  \n",
      "4  0.000000  \n"
     ]
    }
   ],
   "source": [
    "modmeani = \"\"\"Diff_mean~Mother_mean+Infant_mean\n",
    "              Infant_mean~Mother_mean\n",
    "      \"\"\"\n",
    "modelmeani = Model(modmeani)\n",
    "resmeani = modelmeani.fit(data_meanp)\n",
    "insmeani = modelmeani.inspect(std_est=True)\n",
    "print(insmeani)"
   ]
  },
  {
   "cell_type": "code",
   "execution_count": 137,
   "metadata": {},
   "outputs": [
    {
     "name": "stdout",
     "output_type": "stream",
     "text": [
      "cofft of duration= PearsonRResult(statistic=-0.15546686094155382, pvalue=0.021663118337243777)\n",
      "cofft of mfcc= PearsonRResult(statistic=0.07288239709918075, pvalue=0.2840190420959706)\n",
      "cofft of f0_range= PearsonRResult(statistic=-0.12436433364244148, pvalue=0.0668349416562726)\n",
      "cofft of f0_max= PearsonRResult(statistic=-0.1426330655614399, pvalue=0.035324649980994556)\n",
      "cofft of f0_min= PearsonRResult(statistic=-0.16843374763066724, pvalue=0.012759383265252762)\n",
      "cofft of f0_mean= PearsonRResult(statistic=-0.16777382914774056, pvalue=0.013119195139648647)\n",
      "cofft of energy_rms= PearsonRResult(statistic=0.028843562292975845, pvalue=0.67192331582441)\n",
      "cofft of energy_zc= PearsonRResult(statistic=-0.07333098017146829, pvalue=0.28105775286413653)\n"
     ]
    }
   ],
   "source": [
    "print('cofft of duration=',stats.pearsonr(xlabel,diff[:,1]))\n",
    "print('cofft of mfcc=',stats.pearsonr(xlabel,diff[:,2]))\n",
    "print('cofft of f0_range=',stats.pearsonr(xlabel,diff[:,3]))\n",
    "print('cofft of f0_max=',stats.pearsonr(xlabel,diff[:,4]))\n",
    "print('cofft of f0_min=',stats.pearsonr(xlabel,diff[:,5]))\n",
    "print('cofft of f0_mean=',stats.pearsonr(xlabel,diff[:,6]))\n",
    "print('cofft of energy_rms=',stats.pearsonr(xlabel,diff[:,7]))\n",
    "print('cofft of energy_zc=',stats.pearsonr(xlabel,diff[:,8]))"
   ]
  },
  {
   "cell_type": "code",
   "execution_count": 138,
   "metadata": {},
   "outputs": [],
   "source": [
    "corrrangefas=stats.pearsonr(xlabel,diff[:,3])\n",
    "corrmaxfas=stats.pearsonr(xlabel,diff[:,4])\n",
    "corrminfas=stats.pearsonr(xlabel,diff[:,5])\n",
    "corrmeanfas=stats.pearsonr(xlabel,diff[:,6])\n",
    "\n",
    "p_vfas=np.r_[corrrangefas[1],corrmaxfas[1],corrminfas[1],corrmeanfas[1]]"
   ]
  },
  {
   "cell_type": "code",
   "execution_count": 139,
   "metadata": {},
   "outputs": [
    {
     "data": {
      "text/plain": [
       "(array([ True,  True,  True,  True]),\n",
       " array([0.06683494, 0.04709953, 0.02623839, 0.02623839]),\n",
       " 0.025996253574703254,\n",
       " 0.025)"
      ]
     },
     "execution_count": 139,
     "metadata": {},
     "output_type": "execute_result"
    }
   ],
   "source": [
    "from statsmodels.stats import multitest\n",
    "multitest.multipletests(p_vfas,alpha=0.1,method='fdr_bh')"
   ]
  },
  {
   "cell_type": "code",
   "execution_count": 140,
   "metadata": {},
   "outputs": [
    {
     "data": {
      "text/plain": [
       "Text(0, 0.5, 'Diff_Mean pitch')"
      ]
     },
     "execution_count": 140,
     "metadata": {},
     "output_type": "execute_result"
    },
    {
     "data": {
      "image/png": "[encoded data removed]",
      "text/plain": [
       "<Figure size 432x288 with 1 Axes>"
      ]
     },
     "metadata": {
      "needs_background": "light"
     },
     "output_type": "display_data"
    }
   ],
   "source": [
    "plt.scatter(xlabel,diff[:,6], color='blue')\n",
    "plt.scatter(xlabel31,diffc31[:,6], color='red')\n",
    "plt.scatter(xlabel22,diffc22[:,6], color='yellow')\n",
    "plt.xlabel('Turns', fontsize=12)\n",
    "plt.ylabel('Diff_Mean pitch',fontsize=12)\n"
   ]
  },
  {
   "cell_type": "code",
   "execution_count": 141,
   "metadata": {},
   "outputs": [],
   "source": [
    "f0mean=np.c_[xlabel,-diff[:,6]]\n",
    "f0meanp=pd.DataFrame(f0mean)\n",
    "f0meanp.columns=['Turns','Diff_f0 mean']"
   ]
  },
  {
   "cell_type": "code",
   "execution_count": 142,
   "metadata": {},
   "outputs": [],
   "source": [
    "f0range=np.c_[xlabel,-diff[:,3]]\n",
    "f0rangep=pd.DataFrame(f0range)\n",
    "f0meanp.columns=['Turns','Diff_f0 range']"
   ]
  },
  {
   "cell_type": "code",
   "execution_count": 143,
   "metadata": {},
   "outputs": [],
   "source": [
    "f0max=np.c_[xlabel,-diff[:,4]]\n",
    "f0maxp=pd.DataFrame(f0max)\n",
    "f0maxp.columns=['Turns','Diff_f0 max']"
   ]
  },
  {
   "cell_type": "code",
   "execution_count": 144,
   "metadata": {},
   "outputs": [],
   "source": [
    "f0min=np.c_[xlabel,-diff[:,5]]\n",
    "f0minp=pd.DataFrame(f0min)\n",
    "f0minp.columns=['Turns','Diff_f0 min']"
   ]
  },
  {
   "cell_type": "code",
   "execution_count": 145,
   "metadata": {},
   "outputs": [
    {
     "name": "stdout",
     "output_type": "stream",
     "text": [
      "-107.79588973309279 -163.48646094711856 -109.3585491510227 -131.73516955587917\n"
     ]
    }
   ],
   "source": [
    "print(np.mean(-diff[:,3]),np.mean(-diff[:,4]),np.mean(-diff[:,5]),np.mean(-diff[:,6]))"
   ]
  },
  {
   "cell_type": "code",
   "execution_count": 146,
   "metadata": {},
   "outputs": [
    {
     "data": {
      "text/plain": [
       "[<matplotlib.lines.Line2D at 0x258acf8c610>]"
      ]
     },
     "execution_count": 146,
     "metadata": {},
     "output_type": "execute_result"
    },
    {
     "data": {
      "image/png": "[encoded data removed]",
      "text/plain": [
       "<Figure size 432x288 with 1 Axes>"
      ]
     },
     "metadata": {
      "needs_background": "light"
     },
     "output_type": "display_data"
    }
   ],
   "source": [
    "plt.rc('font',family='Times New Roman')\n",
    "fig, ax=plt.subplots()\n",
    "ax.spines['right'].set_visible(False)\n",
    "ax.spines['top'].set_visible(False)\n",
    "p1=plt.scatter(xlabel1,-diffc1[:,6],color=\"lightcyan\")\n",
    "p2=plt.scatter(xlabel2,-diffc2[:,6],color=\"aqua\")\n",
    "p3=plt.scatter(xlabel3,-diffc3[:,6],color=\"blue\")\n",
    "p4=plt.scatter(xlabel4,-diffc4[:,6],color=\"navy\")\n",
    "p5=plt.scatter(xlabel5,-diffc5[:,6],color=\"royalblue\")\n",
    "p6=plt.scatter(xlabel6,-diffc6[:,6],color=\"paleturquoise\")\n",
    "p7=plt.scatter(xlabel7,-diffc7[:,6],color=\"steelblue\")\n",
    "p8=plt.scatter(xlabel8,-diffc8[:,6],color=\"deepskyblue\")\n",
    "p9=plt.scatter(xlabel9,-diffc9[:,6],color=\"darkturquoise\")\n",
    "plt.legend(handles=[p1,p2,p3,p4,p5,p6,p7,p8,p9],labels=['No.1','No.4','No.9','No.10','No.8','No.2','No.7','No.6','No.5'],loc='best')\n",
    "plt.xticks(fontsize=14)\n",
    "plt.yticks(fontsize=14)\n",
    "plt.xlim(0,17)\n",
    "plt.ylim(-700,10)\n",
    "linear_model=np.polyfit(xlabel,-diff[:,6],1)\n",
    "linear_model_fn=np.poly1d(linear_model)\n",
    "plt.plot(xlabel,linear_model_fn(xlabel),color=\"k\")"
   ]
  },
  {
   "cell_type": "code",
   "execution_count": 147,
   "metadata": {},
   "outputs": [
    {
     "data": {
      "text/plain": [
       "[<matplotlib.lines.Line2D at 0x258ad067190>]"
      ]
     },
     "execution_count": 147,
     "metadata": {},
     "output_type": "execute_result"
    },
    {
     "data": {
      "image/png": "[encoded data removed]",
      "text/plain": [
       "<Figure size 432x288 with 1 Axes>"
      ]
     },
     "metadata": {
      "needs_background": "light"
     },
     "output_type": "display_data"
    }
   ],
   "source": [
    "plt.rc('font',family='Times New Roman')\n",
    "fig, ax=plt.subplots()\n",
    "ax.spines['right'].set_visible(False)\n",
    "ax.spines['top'].set_visible(False)\n",
    "p1=plt.scatter(xlabel1,-diffc1[:,3],color=\"lightcyan\")\n",
    "p2=plt.scatter(xlabel2,-diffc2[:,3],color=\"aqua\")\n",
    "p3=plt.scatter(xlabel3,-diffc3[:,3],color=\"blue\")\n",
    "p4=plt.scatter(xlabel4,-diffc4[:,3],color=\"navy\")\n",
    "p5=plt.scatter(xlabel5,-diffc5[:,3],color=\"royalblue\")\n",
    "p6=plt.scatter(xlabel6,-diffc6[:,3],color=\"paleturquoise\")\n",
    "p7=plt.scatter(xlabel7,-diffc7[:,3],color=\"steelblue\")\n",
    "p8=plt.scatter(xlabel8,-diffc8[:,3],color=\"deepskyblue\")\n",
    "p9=plt.scatter(xlabel9,-diffc9[:,3],color=\"darkturquoise\")\n",
    "plt.legend(handles=[p1,p2,p3,p4,p5,p6,p7,p8,p9],labels=['No.1','No.4','No.9','No.10','No.8','No.2','No.7','No.6','No.5'],loc='best')\n",
    "plt.xticks(fontsize=14)\n",
    "plt.yticks(fontsize=14)\n",
    "plt.xlim(0,17)\n",
    "plt.ylim(-700,10)\n",
    "linear_model=np.polyfit(xlabel,-diff[:,3],1)\n",
    "linear_model_fn=np.poly1d(linear_model)\n",
    "plt.plot(xlabel,linear_model_fn(xlabel),color=\"k\")"
   ]
  },
  {
   "cell_type": "code",
   "execution_count": 148,
   "metadata": {},
   "outputs": [
    {
     "data": {
      "text/plain": [
       "[<matplotlib.lines.Line2D at 0x258b02c8ca0>]"
      ]
     },
     "execution_count": 148,
     "metadata": {},
     "output_type": "execute_result"
    },
    {
     "data": {
      "image/png": "[encoded data removed]",
      "text/plain": [
       "<Figure size 432x288 with 1 Axes>"
      ]
     },
     "metadata": {
      "needs_background": "light"
     },
     "output_type": "display_data"
    }
   ],
   "source": [
    "plt.rc('font',family='Times New Roman')\n",
    "fig, ax=plt.subplots()\n",
    "ax.spines['right'].set_visible(False)\n",
    "ax.spines['top'].set_visible(False)\n",
    "p1=plt.scatter(xlabel1,-diffc1[:,4],color=\"lightcyan\")\n",
    "p2=plt.scatter(xlabel2,-diffc2[:,4],color=\"aqua\")\n",
    "p3=plt.scatter(xlabel3,-diffc3[:,4],color=\"blue\")\n",
    "p4=plt.scatter(xlabel4,-diffc4[:,4],color=\"navy\")\n",
    "p5=plt.scatter(xlabel5,-diffc5[:,4],color=\"royalblue\")\n",
    "p6=plt.scatter(xlabel6,-diffc6[:,4],color=\"paleturquoise\")\n",
    "p7=plt.scatter(xlabel7,-diffc7[:,4],color=\"steelblue\")\n",
    "p8=plt.scatter(xlabel8,-diffc8[:,4],color=\"deepskyblue\")\n",
    "p9=plt.scatter(xlabel9,-diffc9[:,4],color=\"darkturquoise\")\n",
    "plt.legend(handles=[p1,p2,p3,p4,p5,p6,p7,p8,p9],labels=['No.1','No.4','No.9','No.10','No.8','No.2','No.7','No.6','No.5'],loc='best')\n",
    "plt.xticks(fontsize=14)\n",
    "plt.yticks(fontsize=14)\n",
    "plt.xlim(0,17)\n",
    "plt.ylim(-700,10)\n",
    "linear_model=np.polyfit(xlabel,-diff[:,4],1)\n",
    "linear_model_fn=np.poly1d(linear_model)\n",
    "plt.plot(xlabel,linear_model_fn(xlabel),color=\"k\")"
   ]
  },
  {
   "cell_type": "code",
   "execution_count": 149,
   "metadata": {},
   "outputs": [
    {
     "data": {
      "text/plain": [
       "[<matplotlib.lines.Line2D at 0x258b038e0a0>]"
      ]
     },
     "execution_count": 149,
     "metadata": {},
     "output_type": "execute_result"
    },
    {
     "data": {
      "image/png": "[encoded data removed]",
      "text/plain": [
       "<Figure size 432x288 with 1 Axes>"
      ]
     },
     "metadata": {
      "needs_background": "light"
     },
     "output_type": "display_data"
    }
   ],
   "source": [
    "plt.rc('font',family='Times New Roman')\n",
    "fig, ax=plt.subplots()\n",
    "ax.spines['right'].set_visible(False)\n",
    "ax.spines['top'].set_visible(False)\n",
    "p1=plt.scatter(xlabel1,-diffc1[:,5],color=\"lightcyan\")\n",
    "p2=plt.scatter(xlabel2,-diffc2[:,5],color=\"aqua\")\n",
    "p3=plt.scatter(xlabel3,-diffc3[:,5],color=\"blue\")\n",
    "p4=plt.scatter(xlabel4,-diffc4[:,5],color=\"navy\")\n",
    "p5=plt.scatter(xlabel5,-diffc5[:,5],color=\"royalblue\")\n",
    "p6=plt.scatter(xlabel6,-diffc6[:,5],color=\"paleturquoise\")\n",
    "p7=plt.scatter(xlabel7,-diffc7[:,5],color=\"steelblue\")\n",
    "p8=plt.scatter(xlabel8,-diffc8[:,5],color=\"deepskyblue\")\n",
    "p9=plt.scatter(xlabel9,-diffc9[:,5],color=\"darkturquoise\")\n",
    "plt.legend(handles=[p1,p2,p3,p4,p5,p6,p7,p8,p9],labels=['No.1','No.4','No.9','No.10','No.8','No.2','No.7','No.6','No.5'],loc='best')\n",
    "plt.xticks(fontsize=14)\n",
    "plt.yticks(fontsize=14)\n",
    "plt.xlim(0,17)\n",
    "plt.ylim(-700,10)\n",
    "linear_model=np.polyfit(xlabel,-diff[:,5],1)\n",
    "linear_model_fn=np.poly1d(linear_model)\n",
    "plt.plot(xlabel,linear_model_fn(xlabel),color=\"k\")"
   ]
  },
  {
   "cell_type": "code",
   "execution_count": 150,
   "metadata": {},
   "outputs": [],
   "source": [
    "#ax=sns.lmplot(x='Turns', y='Diff_f0 mean',data=f0meanp, sharex=False, sharey=False, line_kws={'color': 'red'})\n",
    "#ax.set(xlim=(-1,15))\n",
    "#ax.set(ylim=(-1, 600))"
   ]
  },
  {
   "cell_type": "code",
   "execution_count": 151,
   "metadata": {},
   "outputs": [],
   "source": [
    "def turnc(filesturn,filesturnc):\n",
    "    turn=np.zeros((1,2))\n",
    "    aaa=0\n",
    "    for i in range(len(filesturn)):\n",
    "        starttime=re.search(\"(\\d+\\.\\d+)\",filesturn[i]).group(0)\n",
    "        for j in range(len(filesturnc)):\n",
    "            starttimec=re.search(\"(\\d+\\.\\d+)\",filesturnc[j]).group(0)\n",
    "            if float(starttimec)>float(starttime):\n",
    "                aaa=aaa+1\n",
    "    timea=round(float(starttime))\n",
    "    turn[0,0]=timea\n",
    "    turn[0,1]=aaa\n",
    "    return turn"
   ]
  },
  {
   "cell_type": "code",
   "execution_count": 152,
   "metadata": {},
   "outputs": [],
   "source": [
    "turnc11=turnc(filesturn11,filesturn11c)\n",
    "turnc12=turnc(filesturn12,filesturn12c)\n",
    "turnc13=turnc(filesturn13,filesturn13c)\n",
    "turnc14=turnc(filesturn14,filesturn14c)\n",
    "turnc15=turnc(filesturn15,filesturn15c)\n",
    "\n",
    "turnc1=np.vstack((turnc11,turnc12,turnc13,turnc14,turnc15))"
   ]
  },
  {
   "cell_type": "code",
   "execution_count": 153,
   "metadata": {},
   "outputs": [],
   "source": [
    "mn11=len(filesturn11)*len(filesturn11c)\n",
    "mn12=len(filesturn12)*len(filesturn12c)\n",
    "mn13=len(filesturn13)*len(filesturn13c)\n",
    "mn14=len(filesturn14)*len(filesturn14c)\n",
    "mn15=len(filesturn15)*len(filesturn15c)\n",
    "\n",
    "mn1=mn11+mn12+mn13+mn14+mn15"
   ]
  },
  {
   "cell_type": "code",
   "execution_count": 154,
   "metadata": {},
   "outputs": [],
   "source": [
    "mn11=len(filesturn11c)\n",
    "mn12=len(filesturn12c)\n",
    "mn13=len(filesturn13c)\n",
    "mn14=len(filesturn14c)\n",
    "mn15=len(filesturn15c)\n",
    "\n",
    "mn1=mn11+mn12+mn13+mn14+mn15"
   ]
  },
  {
   "cell_type": "code",
   "execution_count": 155,
   "metadata": {},
   "outputs": [],
   "source": [
    "turnc21=turnc(filesturn21,filesturn21c)\n",
    "turnc22=turnc(filesturn22,filesturn22c)\n",
    "turnc23=turnc(filesturn23,filesturn23c)\n",
    "turnc24=turnc(filesturn24,filesturn24c)\n",
    "turnc25=turnc(filesturn25,filesturn25c)\n",
    "turnc26=turnc(filesturn26,filesturn26c)\n",
    "\n",
    "turnc2=np.vstack((turnc21,turnc22,turnc23,turnc24,turnc25,turnc26))"
   ]
  },
  {
   "cell_type": "code",
   "execution_count": 156,
   "metadata": {},
   "outputs": [],
   "source": [
    "mn21=len(filesturn21)*len(filesturn21c)\n",
    "mn22=len(filesturn22)*len(filesturn22c)\n",
    "mn23=len(filesturn23)*len(filesturn23c)\n",
    "mn24=len(filesturn24)*len(filesturn24c)\n",
    "mn25=len(filesturn25)*len(filesturn25c)\n",
    "mn26=len(filesturn26)*len(filesturn26c)\n",
    "\n",
    "mn2=mn21+mn22+mn23+mn24+mn25+mn26"
   ]
  },
  {
   "cell_type": "code",
   "execution_count": 157,
   "metadata": {},
   "outputs": [],
   "source": [
    "mn21=len(filesturn21c)\n",
    "mn22=len(filesturn22c)\n",
    "mn23=len(filesturn23c)\n",
    "mn24=len(filesturn24c)\n",
    "mn25=len(filesturn25c)\n",
    "mn26=len(filesturn26c)\n",
    "\n",
    "mn2=mn21+mn22+mn23+mn24+mn25+mn26"
   ]
  },
  {
   "cell_type": "code",
   "execution_count": 158,
   "metadata": {},
   "outputs": [],
   "source": [
    "turnc31=turnc(filesturn31,filesturn31c)\n",
    "turnc32=turnc(filesturn32,filesturn32c)\n",
    "turnc33=turnc(filesturn33,filesturn33c)\n",
    "turnc34=turnc(filesturn34,filesturn34c)\n",
    "turnc35=turnc(filesturn35,filesturn35c)\n",
    "turnc36=turnc(filesturn36,filesturn36c)\n",
    "turnc37=turnc(filesturn37,filesturn37c)\n",
    "turnc38=turnc(filesturn38,filesturn38c)\n",
    "turnc39=turnc(filesturn39,filesturn39c)\n",
    "turnc310=turnc(filesturn310,filesturn310c)\n",
    "\n",
    "turnc3=np.vstack((turnc31,turnc33,turnc34,turnc35,turnc36,turnc37,turnc38,turnc39,turnc310))"
   ]
  },
  {
   "cell_type": "code",
   "execution_count": 159,
   "metadata": {},
   "outputs": [],
   "source": [
    "mn31=len(filesturn31)*len(filesturn31c)\n",
    "mn32=len(filesturn32)*len(filesturn32c)\n",
    "mn33=len(filesturn33)*len(filesturn33c)\n",
    "mn34=len(filesturn34)*len(filesturn34c)\n",
    "mn35=len(filesturn35)*len(filesturn35c)\n",
    "mn36=len(filesturn36)*len(filesturn36c)\n",
    "mn37=len(filesturn37)*len(filesturn37c)\n",
    "mn38=len(filesturn38)*len(filesturn38c)\n",
    "mn39=len(filesturn39)*len(filesturn39c)\n",
    "mn310=len(filesturn310)*len(filesturn310c)\n",
    "\n",
    "mn3=mn31+mn33+mn34+mn35+mn36+mn37+mn38+mn39+mn310"
   ]
  },
  {
   "cell_type": "code",
   "execution_count": 160,
   "metadata": {},
   "outputs": [],
   "source": [
    "mn31=len(filesturn31c)\n",
    "mn32=len(filesturn32c)\n",
    "mn33=len(filesturn33c)\n",
    "mn34=len(filesturn34c)\n",
    "mn35=len(filesturn35c)\n",
    "mn36=len(filesturn36c)\n",
    "mn37=len(filesturn37c)\n",
    "mn38=len(filesturn38c)\n",
    "mn39=len(filesturn39c)\n",
    "mn310=len(filesturn310c)\n",
    "\n",
    "mn3=mn31+mn33+mn34+mn35+mn36+mn37+mn38+mn39+mn310"
   ]
  },
  {
   "cell_type": "code",
   "execution_count": 161,
   "metadata": {},
   "outputs": [],
   "source": [
    "turnc41=turnc(filesturn41,filesturn41c)\n",
    "turnc42=turnc(filesturn42,filesturn42c)\n",
    "turnc43=turnc(filesturn43,filesturn43c)\n",
    "turnc44=turnc(filesturn44,filesturn44c)\n",
    "turnc45=turnc(filesturn45,filesturn45c)\n",
    "turnc46=turnc(filesturn46,filesturn46c)\n",
    "turnc47=turnc(filesturn47,filesturn47c)\n",
    "turnc48=turnc(filesturn48,filesturn48c)\n",
    "turnc49=turnc(filesturn49,filesturn49c)\n",
    "turnc410=turnc(filesturn410,filesturn410c)\n",
    "turnc411=turnc(filesturn411,filesturn411c)\n",
    "turnc412=turnc(filesturn412,filesturn412c)\n",
    "turnc413=turnc(filesturn413,filesturn413c)\n",
    "turnc414=turnc(filesturn414,filesturn414c)\n",
    "turnc4=np.vstack((turnc41,turnc42,turnc43,turnc44,turnc45,turnc46,turnc47,turnc48,turnc49,turnc410,turnc411,turnc412,turnc413,turnc414))"
   ]
  },
  {
   "cell_type": "code",
   "execution_count": 162,
   "metadata": {},
   "outputs": [],
   "source": [
    "mn41=len(filesturn41)*len(filesturn41c)\n",
    "mn42=len(filesturn42)*len(filesturn42c)\n",
    "mn43=len(filesturn43)*len(filesturn43c)\n",
    "mn44=len(filesturn44)*len(filesturn44c)\n",
    "mn45=len(filesturn45)*len(filesturn45c)\n",
    "mn46=len(filesturn46)*len(filesturn46c)\n",
    "mn47=len(filesturn47)*len(filesturn47c)\n",
    "mn48=len(filesturn48)*len(filesturn48c)\n",
    "mn49=len(filesturn49)*len(filesturn49c)\n",
    "mn410=len(filesturn410)*len(filesturn410c)\n",
    "mn411=len(filesturn411)*len(filesturn411c)\n",
    "mn412=len(filesturn412)*len(filesturn412c)\n",
    "mn413=len(filesturn413)*len(filesturn413c)\n",
    "mn414=len(filesturn414)*len(filesturn414c)\n",
    "\n",
    "mn4=mn41+mn42+mn43+mn44+mn45+mn46+mn47+mn48+mn49+mn410+mn411+mn412+mn413+mn414"
   ]
  },
  {
   "cell_type": "code",
   "execution_count": 163,
   "metadata": {},
   "outputs": [],
   "source": [
    "turnc51=turnc(filesturn51,filesturn51c)\n",
    "turnc52=turnc(filesturn52,filesturn52c)\n",
    "turnc53=turnc(filesturn53,filesturn53c)\n",
    "turnc54=turnc(filesturn54,filesturn54c)\n",
    "turnc55=turnc(filesturn55,filesturn55c)\n",
    "turnc56=turnc(filesturn56,filesturn56c)\n",
    "turnc57=turnc(filesturn57,filesturn57c)\n",
    "turnc58=turnc(filesturn58,filesturn58c)\n",
    "turnc59=turnc(filesturn59,filesturn59c)\n",
    "turnc510=turnc(filesturn510,filesturn510c)\n",
    "\n",
    "turnc5t1=np.vstack((turnc51,turnc52,turnc53,turnc54,turnc55,turnc56,turnc57,turnc58,turnc59,turnc510))"
   ]
  },
  {
   "cell_type": "code",
   "execution_count": 164,
   "metadata": {},
   "outputs": [],
   "source": [
    "turnc511=turnc(filesturn511,filesturn511c)\n",
    "turnc512=turnc(filesturn512,filesturn512c)\n",
    "turnc513=turnc(filesturn513,filesturn513c)\n",
    "turnc514=turnc(filesturn514,filesturn514c)\n",
    "turnc515=turnc(filesturn515,filesturn515c)\n",
    "turnc516=turnc(filesturn516,filesturn516c)\n",
    "turnc517=turnc(filesturn517,filesturn517c)\n",
    "turnc518=turnc(filesturn518,filesturn518c)\n",
    "turnc519=turnc(filesturn519,filesturn519c)\n",
    "turnc520=turnc(filesturn520,filesturn520c)\n",
    "\n",
    "turnc5t2=np.vstack((turnc511,turnc512,turnc513,turnc514,turnc515,turnc516,turnc517,turnc518,turnc519,turnc520))"
   ]
  },
  {
   "cell_type": "code",
   "execution_count": 165,
   "metadata": {},
   "outputs": [],
   "source": [
    "turnc521=turnc(filesturn521,filesturn521c)\n",
    "turnc522=turnc(filesturn522,filesturn522c)\n",
    "turnc523=turnc(filesturn523,filesturn523c)\n",
    "turnc524=turnc(filesturn524,filesturn524c)\n",
    "turnc525=turnc(filesturn525,filesturn525c)\n",
    "turnc526=turnc(filesturn526,filesturn526c)\n",
    "turnc527=turnc(filesturn527,filesturn527c)\n",
    "turnc528=turnc(filesturn528,filesturn528c)\n",
    "turnc529=turnc(filesturn529,filesturn529c)\n",
    "turnc530=turnc(filesturn530,filesturn530c)\n",
    "\n",
    "turnc5t3=np.vstack((turnc521,turnc522,turnc523,turnc524,turnc525,turnc526,turnc527,turnc528,turnc529,turnc530))"
   ]
  },
  {
   "cell_type": "code",
   "execution_count": 166,
   "metadata": {},
   "outputs": [],
   "source": [
    "turnc531=turnc(filesturn531,filesturn531c)\n",
    "turnc532=turnc(filesturn532,filesturn532c)\n",
    "turnc533=turnc(filesturn533,filesturn533c)\n",
    "turnc534=turnc(filesturn534,filesturn534c)\n",
    "turnc535=turnc(filesturn535,filesturn535c)\n",
    "turnc536=turnc(filesturn536,filesturn536c)\n",
    "turnc537=turnc(filesturn537,filesturn537c)\n",
    "turnc538=turnc(filesturn538,filesturn538c)\n",
    "turnc539=turnc(filesturn539,filesturn539c)\n",
    "turnc540=turnc(filesturn540,filesturn540c)\n",
    "\n",
    "turnc5t4=np.vstack((turnc531,turnc532,turnc533,turnc534,turnc535,turnc536,turnc537,turnc538,turnc539,turnc540))"
   ]
  },
  {
   "cell_type": "code",
   "execution_count": 167,
   "metadata": {},
   "outputs": [],
   "source": [
    "turnc5=np.vstack((turnc5t1,turnc5t2,turnc5t3,turnc5t4))"
   ]
  },
  {
   "cell_type": "code",
   "execution_count": 168,
   "metadata": {},
   "outputs": [],
   "source": [
    "mn51=len(filesturn51)*len(filesturn51c)\n",
    "mn52=len(filesturn52)*len(filesturn52c)\n",
    "mn53=len(filesturn53)*len(filesturn53c)\n",
    "mn54=len(filesturn54)*len(filesturn54c)\n",
    "mn55=len(filesturn55)*len(filesturn55c)\n",
    "mn56=len(filesturn56)*len(filesturn56c)\n",
    "mn57=len(filesturn57)*len(filesturn57c)\n",
    "mn58=len(filesturn58)*len(filesturn58c)\n",
    "mn59=len(filesturn59)*len(filesturn59c)\n",
    "mn510=len(filesturn510)*len(filesturn510c)\n",
    "\n",
    "mn511=len(filesturn511)*len(filesturn511c)\n",
    "mn512=len(filesturn512)*len(filesturn512c)\n",
    "mn513=len(filesturn513)*len(filesturn513c)\n",
    "mn514=len(filesturn514)*len(filesturn514c)\n",
    "mn515=len(filesturn515)*len(filesturn515c)\n",
    "mn516=len(filesturn516)*len(filesturn516c)\n",
    "mn517=len(filesturn517)*len(filesturn517c)\n",
    "mn518=len(filesturn518)*len(filesturn518c)\n",
    "mn519=len(filesturn519)*len(filesturn519c)\n",
    "mn520=len(filesturn520)*len(filesturn520c)\n",
    "\n",
    "mn521=len(filesturn521)*len(filesturn521c)\n",
    "mn522=len(filesturn522)*len(filesturn522c)\n",
    "mn523=len(filesturn523)*len(filesturn523c)\n",
    "mn524=len(filesturn524)*len(filesturn524c)\n",
    "mn525=len(filesturn525)*len(filesturn525c)\n",
    "mn526=len(filesturn526)*len(filesturn526c)\n",
    "mn527=len(filesturn527)*len(filesturn527c)\n",
    "mn528=len(filesturn528)*len(filesturn528c)\n",
    "mn529=len(filesturn529)*len(filesturn529c)\n",
    "mn530=len(filesturn530)*len(filesturn530c)\n",
    "\n",
    "mn531=len(filesturn531)*len(filesturn531c)\n",
    "mn532=len(filesturn532)*len(filesturn532c)\n",
    "mn533=len(filesturn533)*len(filesturn533c)\n",
    "mn534=len(filesturn534)*len(filesturn534c)\n",
    "mn535=len(filesturn535)*len(filesturn535c)\n",
    "mn536=len(filesturn536)*len(filesturn536c)\n",
    "mn537=len(filesturn537)*len(filesturn537c)\n",
    "mn538=len(filesturn538)*len(filesturn538c)\n",
    "mn539=len(filesturn539)*len(filesturn539c)\n",
    "mn540=len(filesturn540)*len(filesturn540c)\n",
    "\n",
    "mn5t1=mn51+mn52+mn54+mn55+mn56+mn57+mn58+mn59+mn510+mn511+mn512+mn513+mn514+mn515+mn516+mn517+mn518+mn519+mn520\n",
    "mn5t2=mn521+mn522+mn523+mn524+mn525+mn526+mn527+mn528+mn529+mn530+mn531+mn532+mn534+mn535+mn536+mn537+mn538+mn539+mn540\n",
    "mn5=mn5t1+mn5t2"
   ]
  },
  {
   "cell_type": "code",
   "execution_count": 169,
   "metadata": {},
   "outputs": [],
   "source": [
    "turnc61=turnc(filesturn61,filesturn61c)\n",
    "turnc62=turnc(filesturn62,filesturn62c)\n",
    "turnc63=turnc(filesturn63,filesturn63c)\n",
    "turnc64=turnc(filesturn64,filesturn64c)\n",
    "turnc65=turnc(filesturn65,filesturn65c)\n",
    "turnc66=turnc(filesturn66,filesturn66c)\n",
    "turnc67=turnc(filesturn67,filesturn67c)\n",
    "turnc68=turnc(filesturn68,filesturn68c)\n",
    "\n",
    "turnc6=np.vstack((turnc61,turnc62,turnc63,turnc64,turnc65,turnc66,turnc67,turnc68))"
   ]
  },
  {
   "cell_type": "code",
   "execution_count": 170,
   "metadata": {},
   "outputs": [],
   "source": [
    "mn61=len(filesturn61)*len(filesturn61c)\n",
    "mn62=len(filesturn62)*len(filesturn62c)\n",
    "mn63=len(filesturn63)*len(filesturn63c)\n",
    "mn64=len(filesturn64)*len(filesturn64c)\n",
    "mn65=len(filesturn65)*len(filesturn65c)\n",
    "mn66=len(filesturn66)*len(filesturn66c)\n",
    "mn67=len(filesturn67)*len(filesturn67c)\n",
    "mn68=len(filesturn68)*len(filesturn68c)\n",
    "\n",
    "mn6=mn61+mn62+mn63+mn64+mn65+mn66+mn67+mn68"
   ]
  },
  {
   "cell_type": "code",
   "execution_count": 171,
   "metadata": {},
   "outputs": [],
   "source": [
    "turnc71=turnc(filesturn71,filesturn71c)\n",
    "turnc72=turnc(filesturn72,filesturn72c)\n",
    "turnc73=turnc(filesturn73,filesturn73c)\n",
    "turnc74=turnc(filesturn74,filesturn74c)\n",
    "turnc75=turnc(filesturn75,filesturn75c)\n",
    "turnc76=turnc(filesturn76,filesturn76c)\n",
    "turnc77=turnc(filesturn77,filesturn77c)\n",
    "turnc78=turnc(filesturn78,filesturn78c)\n",
    "turnc79=turnc(filesturn79,filesturn79c)\n",
    "turnc710=turnc(filesturn710,filesturn710c)\n",
    "turnc711=turnc(filesturn711,filesturn711c)\n",
    "\n",
    "turnc7=np.vstack((turnc71,turnc72,turnc73,turnc74,turnc75,turnc76,turnc77,turnc78,turnc79,turnc710,turnc711))"
   ]
  },
  {
   "cell_type": "code",
   "execution_count": 172,
   "metadata": {},
   "outputs": [],
   "source": [
    "mn71=len(filesturn71)*len(filesturn71c)\n",
    "mn72=len(filesturn72)*len(filesturn72c)\n",
    "mn73=len(filesturn73)*len(filesturn73c)\n",
    "mn74=len(filesturn74)*len(filesturn74c)\n",
    "mn75=len(filesturn75)*len(filesturn75c)\n",
    "mn76=len(filesturn76)*len(filesturn76c)\n",
    "mn77=len(filesturn77)*len(filesturn77c)\n",
    "mn78=len(filesturn78)*len(filesturn78c)\n",
    "mn79=len(filesturn79)*len(filesturn79c)\n",
    "mn710=len(filesturn710)*len(filesturn710c)\n",
    "mn711=len(filesturn711)*len(filesturn711c)\n",
    "\n",
    "mn7=mn71+mn72+mn73+mn74+mn75+mn76+mn77+mn78+mn79+mn710+mn711"
   ]
  },
  {
   "cell_type": "code",
   "execution_count": 173,
   "metadata": {},
   "outputs": [],
   "source": [
    "turnc81=turnc(filesturn81,filesturn81c)\n",
    "turnc82=turnc(filesturn82,filesturn82c)\n",
    "turnc83=turnc(filesturn83,filesturn83c)\n",
    "turnc84=turnc(filesturn84,filesturn84c)\n",
    "turnc85=turnc(filesturn85,filesturn85c)\n",
    "turnc86=turnc(filesturn86,filesturn86c)\n",
    "turnc87=turnc(filesturn87,filesturn87c)\n",
    "turnc88=turnc(filesturn88,filesturn88c)\n",
    "turnc89=turnc(filesturn89,filesturn89c)\n",
    "turnc810=turnc(filesturn810,filesturn810c)\n",
    "turnc811=turnc(filesturn811,filesturn811c)\n",
    "\n",
    "turnc8t1=np.vstack((turnc81,turnc82,turnc83,turnc84,turnc85,turnc86,turnc87,turnc88,turnc89,turnc810,turnc811))"
   ]
  },
  {
   "cell_type": "code",
   "execution_count": 174,
   "metadata": {},
   "outputs": [],
   "source": [
    "\n",
    "turnc812=turnc(filesturn812,filesturn812c)\n",
    "turnc813=turnc(filesturn813,filesturn813c)\n",
    "turnc814=turnc(filesturn814,filesturn814c)\n",
    "turnc815=turnc(filesturn815,filesturn815c)\n",
    "turnc816=turnc(filesturn816,filesturn816c)\n",
    "turnc817=turnc(filesturn817,filesturn817c)\n",
    "turnc818=turnc(filesturn818,filesturn818c)\n",
    "turnc819=turnc(filesturn819,filesturn819c)\n",
    "turnc820=turnc(filesturn820,filesturn820c)\n",
    "turnc821=turnc(filesturn821,filesturn821c)\n",
    "turnc822=turnc(filesturn822,filesturn822c)\n",
    "\n",
    "turnc8t2=np.vstack((turnc812,turnc813,turnc814,turnc815,turnc816,turnc817,turnc818,turnc819,turnc820,turnc821,turnc822))"
   ]
  },
  {
   "cell_type": "code",
   "execution_count": 175,
   "metadata": {},
   "outputs": [],
   "source": [
    "mn81=len(filesturn81)*len(filesturn81c)\n",
    "mn82=len(filesturn82)*len(filesturn82c)\n",
    "mn83=len(filesturn83)*len(filesturn83c)\n",
    "mn84=len(filesturn84)*len(filesturn84c)\n",
    "mn85=len(filesturn85)*len(filesturn85c)\n",
    "mn86=len(filesturn86)*len(filesturn86c)\n",
    "mn87=len(filesturn87)*len(filesturn87c)\n",
    "mn88=len(filesturn88)*len(filesturn88c)\n",
    "mn89=len(filesturn89)*len(filesturn89c)\n",
    "mn810=len(filesturn810)*len(filesturn810c)\n",
    "\n",
    "mn811=len(filesturn811)*len(filesturn811c)\n",
    "mn812=len(filesturn812)*len(filesturn812c)\n",
    "mn813=len(filesturn813)*len(filesturn813c)\n",
    "mn814=len(filesturn814)*len(filesturn814c)\n",
    "mn815=len(filesturn815)*len(filesturn815c)\n",
    "mn816=len(filesturn816)*len(filesturn816c)\n",
    "mn817=len(filesturn817)*len(filesturn817c)\n",
    "mn818=len(filesturn818)*len(filesturn818c)\n",
    "mn819=len(filesturn819)*len(filesturn819c)\n",
    "mn820=len(filesturn820)*len(filesturn820c)\n",
    "\n",
    "mn821=len(filesturn821)*len(filesturn821c)\n",
    "mn822=len(filesturn822)*len(filesturn822c)\n",
    "\n",
    "mn8=mn81+mn82+mn83+mn84+mn85+mn86+mn87+mn88+mn89+mn810+mn811+mn812+mn813+mn814+mn815+mn816+mn817+mn818+mn819+mn820+mn821+mn822"
   ]
  },
  {
   "cell_type": "code",
   "execution_count": 176,
   "metadata": {},
   "outputs": [],
   "source": [
    "turnc8=np.vstack((turnc8t1,turnc8t2))"
   ]
  },
  {
   "cell_type": "code",
   "execution_count": 177,
   "metadata": {},
   "outputs": [],
   "source": [
    "turnc9=turnc(filesturn91,filesturn91c)"
   ]
  },
  {
   "cell_type": "code",
   "execution_count": 178,
   "metadata": {},
   "outputs": [],
   "source": [
    "mn9=len(filesturn91)*len(filesturn91c)"
   ]
  },
  {
   "cell_type": "code",
   "execution_count": 179,
   "metadata": {},
   "outputs": [],
   "source": [
    "#xx=np.r_[turnc1[:,0],turnc2[:,0],turnc3[:,0],turnc4[:,0],turnc5[:,0],turnc6[:,0],turnc7[:,0],turnc8[:,0],turnc9[:,0]]\n",
    "#yy=np.r_[turnc1[:,1]/171,turnc2[:,1]/202,turnc3[:,1]/396,turnc4[:,1]/173,turnc5[:,1]/565,turnc6[:,1]/423,turnc7[:,1]/204,turnc8[:,1]/479,turnc9[:,1]/264]\n",
    "#dtwall=np.c_[xx,yy]\n",
    "#dtwallp=pd.DataFrame(dtwall)\n",
    "#dtwallp.columns=['Time','Turndots']"
   ]
  },
  {
   "cell_type": "code",
   "execution_count": 180,
   "metadata": {},
   "outputs": [],
   "source": [
    "xx=np.r_[turnc1[:,0],turnc2[:,0],turnc6[:,0],turnc7[:,0],turnc8[:,0],turnc9[:,0]]\n",
    "yy=np.r_[turnc1[:,1]/171,turnc2[:,1]/202,turnc6[:,1]/423,turnc7[:,1]/204,turnc8[:,1]/479,turnc9[:,1]/264]\n",
    "dtwall=np.c_[xx,yy]\n",
    "dtwallp=pd.DataFrame(dtwall)\n",
    "dtwallp.columns=['Time','Turndots']"
   ]
  },
  {
   "cell_type": "code",
   "execution_count": 181,
   "metadata": {},
   "outputs": [],
   "source": [
    "#xx=np.r_[turnc1[:,0],turnc2[:,0],turnc3[:,0],turnc4[:,0],turnc5[:,0],turnc6[:,0],turnc7[:,0],turnc8[:,0],turnc9[:,0]]\n",
    "#yy=np.r_[turnc1[:,1],turnc2[:,1],turnc3[:,1],turnc4[:,1],turnc5[:,1],turnc6[:,1],turnc7[:,1],turnc8[:,1],turnc9[:,1]]\n",
    "#dtwall=np.c_[xx,yy]\n",
    "#dtwallp=pd.DataFrame(dtwall)\n",
    "#dtwallp.columns=['Time','Turndots']"
   ]
  },
  {
   "cell_type": "code",
   "execution_count": 182,
   "metadata": {},
   "outputs": [],
   "source": [
    "xx=np.r_[turnc1[:,0],turnc2[:,0],turnc6[:,0],turnc7[:,0],turnc8[:,0],turnc9[:,0]]\n",
    "yy=np.r_[turnc1[:,1],turnc2[:,1],turnc6[:,1],turnc7[:,1],turnc8[:,1],turnc9[:,1]]\n",
    "dtwall=np.c_[xx,yy]\n",
    "dtwallp=pd.DataFrame(dtwall)\n",
    "dtwallp.columns=['Time','Turndots']"
   ]
  },
  {
   "cell_type": "code",
   "execution_count": 183,
   "metadata": {},
   "outputs": [
    {
     "name": "stdout",
     "output_type": "stream",
     "text": [
      "cofft of day= PearsonRResult(statistic=0.013609772825173576, pvalue=0.9229467998409374)\n"
     ]
    }
   ],
   "source": [
    "print('cofft of day=',stats.pearsonr(xx,yy))"
   ]
  },
  {
   "cell_type": "code",
   "execution_count": 184,
   "metadata": {},
   "outputs": [
    {
     "data": {
      "text/plain": [
       "<matplotlib.collections.PathCollection at 0x258b0421f40>"
      ]
     },
     "execution_count": 184,
     "metadata": {},
     "output_type": "execute_result"
    },
    {
     "data": {
      "image/png": "[encoded data removed]",
      "text/plain": [
       "<Figure size 432x288 with 1 Axes>"
      ]
     },
     "metadata": {
      "needs_background": "light"
     },
     "output_type": "display_data"
    }
   ],
   "source": [
    "plt.scatter(turnc1[:,0],turnc1[:,1])\n",
    "plt.scatter(turnc2[:,0],turnc2[:,1])\n",
    "#plt.scatter(turnc3[:,0],turnc3[:,1])\n",
    "#plt.scatter(turnc4[:,0],turnc4[:,1])\n",
    "#plt.scatter(turnc5[:,0],turnc5[:,1])\n",
    "plt.scatter(turnc6[:,0],turnc6[:,1])\n",
    "plt.scatter(turnc7[:,0],turnc7[:,1])\n",
    "plt.scatter(turnc8[:,0],turnc8[:,1])\n",
    "plt.scatter(turnc9[:,0],turnc9[:,1])"
   ]
  },
  {
   "cell_type": "code",
   "execution_count": 185,
   "metadata": {},
   "outputs": [
    {
     "data": {
      "text/plain": [
       "<matplotlib.collections.PathCollection at 0x258b04a9ca0>"
      ]
     },
     "execution_count": 185,
     "metadata": {},
     "output_type": "execute_result"
    },
    {
     "data": {
      "image/png": "[encoded data removed]",
      "text/plain": [
       "<Figure size 432x288 with 1 Axes>"
      ]
     },
     "metadata": {
      "needs_background": "light"
     },
     "output_type": "display_data"
    }
   ],
   "source": [
    "plt.scatter(turnc1[:,0],turnc1[:,1]/24966)\n",
    "plt.scatter(turnc2[:,0],turnc2[:,1]/36360)\n",
    "#plt.scatter(turnc3[:,0],turnc3[:,1]/47916)\n",
    "#plt.scatter(turnc4[:,0],turnc4[:,1]/25950)\n",
    "#plt.scatter(turnc5[:,0],turnc5[:,1]/171760)\n",
    "plt.scatter(turnc6[:,0],turnc6[:,1]/38493)\n",
    "plt.scatter(turnc7[:,0],turnc7[:,1]/43452)\n",
    "plt.scatter(turnc8[:,0],turnc8[:,1]/79993)\n",
    "plt.scatter(turnc9[:,0],turnc9[:,1]/53592)"
   ]
  },
  {
   "cell_type": "code",
   "execution_count": 186,
   "metadata": {},
   "outputs": [
    {
     "data": {
      "text/plain": [
       "[<matplotlib.lines.Line2D at 0x258b056beb0>]"
      ]
     },
     "execution_count": 186,
     "metadata": {},
     "output_type": "execute_result"
    },
    {
     "data": {
      "image/png": "[encoded data removed]",
      "text/plain": [
       "<Figure size 432x288 with 1 Axes>"
      ]
     },
     "metadata": {
      "needs_background": "light"
     },
     "output_type": "display_data"
    }
   ],
   "source": [
    "plt.rc('font',family='Times New Roman')\n",
    "fig, ax=plt.subplots()\n",
    "ax.spines['right'].set_visible(False)\n",
    "ax.spines['top'].set_visible(False)\n",
    "plt.scatter(turnc1[:,0],turnc1[:,1]/171,color=\"lightcyan\")\n",
    "plt.scatter(turnc2[:,0],turnc2[:,1]/202,color=\"aqua\")\n",
    "#plt.scatter(turnc3[:,0],turnc3[:,1]/396,color=\"blue\")\n",
    "#plt.scatter(turnc4[:,0],turnc4[:,1]/173,color=\"navy\")\n",
    "#plt.scatter(turnc5[:,0],turnc5[:,1]/565,color=\"royalblue\")\n",
    "plt.scatter(turnc6[:,0],turnc6[:,1]/423,color=\"paleturquoise\")\n",
    "plt.scatter(turnc7[:,0],turnc7[:,1]/204,color=\"steelblue\")\n",
    "plt.scatter(turnc8[:,0],turnc8[:,1]/479,color=\"deepskyblue\")\n",
    "plt.scatter(turnc9[:,0],turnc9[:,1]/264,color=\"darkturquoise\")\n",
    "#plt.legend(handles=[p1,p2,p3,p4,p5,p6,p7,p8,p9],labels=['No.1','No.4','No.9','No.10','No.8','No.2','No.7','No.6','No.5'],loc='best')\n",
    "plt.xticks(fontsize=14)\n",
    "plt.yticks(fontsize=14)\n",
    "linear_model=np.polyfit(xx,yy,1)\n",
    "linear_model_fn=np.poly1d(linear_model)\n",
    "plt.plot(xx,linear_model_fn(xx),color=\"k\")"
   ]
  },
  {
   "cell_type": "code",
   "execution_count": 187,
   "metadata": {},
   "outputs": [
    {
     "data": {
      "text/plain": [
       "[<matplotlib.lines.Line2D at 0x258b05d73a0>]"
      ]
     },
     "execution_count": 187,
     "metadata": {},
     "output_type": "execute_result"
    },
    {
     "data": {
      "image/png": "[encoded data removed]",
      "text/plain": [
       "<Figure size 432x288 with 1 Axes>"
      ]
     },
     "metadata": {
      "needs_background": "light"
     },
     "output_type": "display_data"
    }
   ],
   "source": [
    "plt.rc('font',family='Times New Roman')\n",
    "fig, ax=plt.subplots()\n",
    "ax.spines['right'].set_visible(False)\n",
    "ax.spines['top'].set_visible(False)\n",
    "p1=plt.scatter(turnc1[:,0],turnc1[:,1],color=\"lightcyan\")\n",
    "p2=plt.scatter(turnc2[:,0],turnc2[:,1],color=\"aqua\")\n",
    "#p3=plt.scatter(turnc3[:,0],turnc3[:,1],color=\"blue\")\n",
    "#p4=plt.scatter(turnc4[:,0],turnc4[:,1],color=\"navy\")\n",
    "#p5=plt.scatter(turnc5[:,0],turnc5[:,1],color=\"royalblue\")\n",
    "p6=plt.scatter(turnc6[:,0],turnc6[:,1],color=\"paleturquoise\")\n",
    "p7=plt.scatter(turnc7[:,0],turnc7[:,1],color=\"steelblue\")\n",
    "p8=plt.scatter(turnc8[:,0],turnc8[:,1],color=\"deepskyblue\")\n",
    "p9=plt.scatter(turnc9[:,0],turnc9[:,1],color=\"darkturquoise\")\n",
    "#plt.legend(handles=[p1,p2,p3,p4,p5,p6,p7,p8,p9],labels=['No.1','No.4','No.9','No.10','No.8','No.2','No.7','No.6','No.5'],loc='best')\n",
    "plt.xticks(fontsize=14)\n",
    "plt.yticks(fontsize=14)\n",
    "linear_model=np.polyfit(xx,yy,1)\n",
    "linear_model_fn=np.poly1d(linear_model)\n",
    "plt.plot(xx,linear_model_fn(xx),color=\"k\")"
   ]
  },
  {
   "cell_type": "code",
   "execution_count": 188,
   "metadata": {},
   "outputs": [
    {
     "data": {
      "image/png": "[encoded data removed]",
      "text/plain": [
       "<Figure size 360x144 with 1 Axes>"
      ]
     },
     "metadata": {
      "needs_background": "light"
     },
     "output_type": "display_data"
    },
    {
     "data": {
      "image/png": "[encoded data removed]",
      "text/plain": [
       "<Figure size 360x144 with 1 Axes>"
      ]
     },
     "metadata": {
      "needs_background": "light"
     },
     "output_type": "display_data"
    },
    {
     "data": {
      "image/png": "[encoded data removed]",
      "text/plain": [
       "<Figure size 360x144 with 1 Axes>"
      ]
     },
     "metadata": {
      "needs_background": "light"
     },
     "output_type": "display_data"
    }
   ],
   "source": [
    "\n",
    "plt.rc('font',family='Times New Roman')\n",
    "plt.figure(figsize=(5,2)) \n",
    "plt.plot(diffc65[:,6],'*',color='black')\n",
    "plt.ylim(10,500)\n",
    "plt.xticks(fontsize=14)\n",
    "plt.yticks(fontsize=14)\n",
    "plt.show()\n",
    "plt.figure(figsize=(5,2)) \n",
    "plt.plot(t65[:,6],'*',color='red')\n",
    "plt.ylim(10,500)\n",
    "plt.xticks(fontsize=14)\n",
    "plt.yticks(fontsize=14)\n",
    "plt.show()\n",
    "plt.figure(figsize=(5,2)) \n",
    "plt.plot(tc65[:,6],'*',color='blue')\n",
    "plt.ylim(10,500)\n",
    "plt.xticks(fontsize=14)\n",
    "plt.yticks(fontsize=14)\n",
    "plt.show()"
   ]
  }
 ],
 "metadata": {
  "kernelspec": {
   "display_name": "Python 3",
   "language": "python",
   "name": "python3"
  },
  "language_info": {
   "codemirror_mode": {
    "name": "ipython",
    "version": 3
   },
   "file_extension": ".py",
   "mimetype": "text/x-python",
   "name": "python",
   "nbconvert_exporter": "python",
   "pygments_lexer": "ipython3",
   "version": "3.8.5"
  }
 },
 "nbformat": 4,
 "nbformat_minor": 4
}
