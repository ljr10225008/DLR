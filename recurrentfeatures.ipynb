{
 "cells": [
  {
   "cell_type": "code",
   "execution_count": null,
   "metadata": {},
   "outputs": [],
   "source": [
    "import math\n",
    "import numpy as np\n",
    "import sklearn\n",
    "from sklearn.cluster import KMeans\n",
    "import matplotlib as mpl\n",
    "import matplotlib.pyplot as plt\n",
    "import os\n",
    "import re\n",
    "import seaborn as sns\n",
    "import pandas as pd\n",
    "import random\n",
    "from scipy import stats  #t-test\n",
    "from scipy.spatial.distance import euclidean\n",
    "from scipy.interpolate import interp1d\n",
    "from scipy import signal\n",
    "\n",
    "import xlrd\n",
    "from itertools import groupby\n",
    "\n",
    "from statistics import mean\n",
    "from matplotlib import cm\n",
    "import csv\n",
    "\n",
    "from scipy.spatial.distance import cdist\n",
    "import warnings; warnings.simplefilter('ignore')"
   ]
  },
  {
   "cell_type": "code",
   "execution_count": null,
   "metadata": {},
   "outputs": [],
   "source": [
    "pathfp=r'F:\\KyotoUdata\\EEG\\FP'\n",
    "filesfp=sorted(os.listdir(pathfp))\n",
    "pathsf=r'F:\\KyotoUdata\\EEG\\SF'\n",
    "filessf=sorted(os.listdir(pathsf))\n",
    "pathre=r'F:\\KyotoUdata\\EEG\\RE'\n",
    "filesre=sorted(os.listdir(pathre))\n",
    "pathst=r'F:\\KyotoUdata\\EEG\\ST'\n",
    "filesst=sorted(os.listdir(pathst))"
   ]
  },
  {
   "cell_type": "code",
   "execution_count": null,
   "metadata": {},
   "outputs": [],
   "source": [
    "datafpm=np.empty((len(filesfp),1),dtype=object)\n",
    "datasfm=np.empty((len(filessf),1),dtype=object)\n",
    "datarem=np.empty((len(filesre),1),dtype=object)\n",
    "datastm=np.empty((len(filesst),1),dtype=object)"
   ]
  },
  {
   "cell_type": "code",
   "execution_count": null,
   "metadata": {},
   "outputs": [],
   "source": [
    "datafpc=np.empty((len(filesfp),1),dtype=object)\n",
    "datasfc=np.empty((len(filessf),1),dtype=object)\n",
    "datarec=np.empty((len(filesre),1),dtype=object)\n",
    "datastc=np.empty((len(filesst),1),dtype=object)"
   ]
  },
  {
   "cell_type": "code",
   "execution_count": null,
   "metadata": {},
   "outputs": [],
   "source": [
    "headfpm=np.empty((len(filesfp),16),dtype=object)\n",
    "headsfm=np.empty((len(filessf),16),dtype=object)\n",
    "headrem=np.empty((len(filesre),16),dtype=object)\n",
    "headstm=np.empty((len(filesst),16),dtype=object)"
   ]
  },
  {
   "cell_type": "code",
   "execution_count": null,
   "metadata": {},
   "outputs": [],
   "source": [
    "headfpc=np.empty((len(filesfp),16),dtype=object)\n",
    "headsfc=np.empty((len(filessf),16),dtype=object)\n",
    "headrec=np.empty((len(filesre),16),dtype=object)\n",
    "headstc=np.empty((len(filesst),16),dtype=object)"
   ]
  },
  {
   "cell_type": "code",
   "execution_count": null,
   "metadata": {},
   "outputs": [],
   "source": [
    "def removespace(listin):\n",
    "    for i in listin:\n",
    "        if '' in listin:\n",
    "            listin.remove('')\n",
    "    return listin"
   ]
  },
  {
   "cell_type": "code",
   "execution_count": null,
   "metadata": {},
   "outputs": [],
   "source": [
    "def dataread(pathin):\n",
    "    datap= pd.read_csv(pathin)\n",
    "    columnlen=len(datap.iloc[:,0])\n",
    "    head=[]\n",
    "    with open (pathin) as f:\n",
    "        test = list(csv.reader(f, delimiter=\" \"))\n",
    "        test1=[x for x in test[:][0] if x!='']\n",
    "        rowlen=len(test1)\n",
    "    data=np.zeros((rowlen-1,columnlen))\n",
    "    with open (pathin) as f:\n",
    "        test = list(csv.reader(f, delimiter=\" \"))\n",
    "        for i in range(columnlen):\n",
    "            tem=[x for x in test[:][i] if x!='']\n",
    "            data[:,i]=tem[1:]\n",
    "            head.append(tem[0])\n",
    "    return head,data"
   ]
  },
  {
   "cell_type": "code",
   "execution_count": null,
   "metadata": {},
   "outputs": [],
   "source": [
    "for i in range(len(filesfp)):\n",
    "    headfp,datafp=dataread(pathfp+'\\\\'+filesfp[i])\n",
    "    headsf,datasf=dataread(pathsf+'\\\\'+filessf[i])\n",
    "    headre,datare=dataread(pathre+'\\\\'+filesre[i])\n",
    "    headst,datast=dataread(pathst+'\\\\'+filesst[i])\n",
    "    #print(headfp[:16],headfp[18:-1])\n",
    "    headfpc[i]=headfp[:16]\n",
    "    headfpm[i]=headfp[18:-1]\n",
    "    headsfc[i]=headsf[:16]\n",
    "    headsfm[i]=headsf[18:-1]\n",
    "    headrec[i]=headre[:16]\n",
    "    headrem[i]=headre[18:-1]\n",
    "    headstc[i]=headst[:16]\n",
    "    headstm[i]=headst[18:-1]\n",
    "    \n",
    "    datafpc[i]=[datafp[:,:16]]\n",
    "    datafpm[i]=[datafp[:,18:-1]]\n",
    "    datasfc[i]=[datasf[:,:16]]\n",
    "    datasfm[i]=[datasf[:,18:-1]]\n",
    "    datarec[i]=[datare[:,:16]]\n",
    "    datarem[i]=[datare[:,18:-1]]\n",
    "    datastc[i]=[datast[:,:16]]\n",
    "    datastm[i]=[datast[:,18:-1]]"
   ]
  },
  {
   "cell_type": "code",
   "execution_count": null,
   "metadata": {},
   "outputs": [],
   "source": [
    "datafprawm=np.empty((len(filesfp),1),dtype=object)\n",
    "datasfrawm=np.empty((len(filessf),1),dtype=object)\n",
    "datarerawm=np.empty((len(filesre),1),dtype=object)\n",
    "datastrawm=np.empty((len(filesst),1),dtype=object)\n",
    "\n",
    "datafprawc=np.empty((len(filesfp),1),dtype=object)\n",
    "datasfrawc=np.empty((len(filessf),1),dtype=object)\n",
    "datarerawc=np.empty((len(filesre),1),dtype=object)\n",
    "datastrawc=np.empty((len(filesst),1),dtype=object)"
   ]
  },
  {
   "cell_type": "code",
   "execution_count": null,
   "metadata": {},
   "outputs": [],
   "source": [
    "def meanall(datain,dataout):\n",
    "    for i in range(len(datain)):\n",
    "        dataout[i]=[np.mean(datain[i][0],axis=1)]\n",
    "    return dataout"
   ]
  },
  {
   "cell_type": "code",
   "execution_count": null,
   "metadata": {},
   "outputs": [],
   "source": [
    "datafprawm=meanall(datafpm,datafprawm)\n",
    "datasfrawm=meanall(datasfm,datasfrawm)\n",
    "datarerawm=meanall(datarem,datarerawm)\n",
    "\n",
    "datafprawc=meanall(datafpc,datafprawc)\n",
    "datasfrawc=meanall(datasfc,datasfrawc)\n",
    "datarerawc=meanall(datarec,datarerawc)"
   ]
  },
  {
   "cell_type": "code",
   "execution_count": null,
   "metadata": {},
   "outputs": [],
   "source": [
    "def datacombine(datafpin,datasfin,datarein,datacin):\n",
    "    for i in range(len(datafpin)):\n",
    "        datacin[i]=[np.r_[datafpin[i][0],datasfin[i][0],datarein[i][0]]]\n",
    "    return datacin"
   ]
  },
  {
   "cell_type": "code",
   "execution_count": null,
   "metadata": {},
   "outputs": [],
   "source": [
    "bdatam=np.empty((len(filesfp),1),dtype=object)\n",
    "bdatac=np.empty((len(filesfp),1),dtype=object)"
   ]
  },
  {
   "cell_type": "code",
   "execution_count": null,
   "metadata": {},
   "outputs": [],
   "source": [
    "bdatam=datacombine(datafprawm,datasfrawm,datarerawm,bdatam)\n",
    "bdatac=datacombine(datafprawc,datasfrawc,datarerawc,bdatac)"
   ]
  },
  {
   "cell_type": "code",
   "execution_count": null,
   "metadata": {},
   "outputs": [],
   "source": [
    "bdatamdown=np.empty((len(filesfp),1),dtype=object)\n",
    "bdatacdown=np.empty((len(filesfp),1),dtype=object)"
   ]
  },
  {
   "cell_type": "code",
   "execution_count": null,
   "metadata": {},
   "outputs": [],
   "source": [
    "sampling_rate = 500\n",
    "downsample_factor = 1  # In this case, downsample by 1 second"
   ]
  },
  {
   "cell_type": "code",
   "execution_count": null,
   "metadata": {},
   "outputs": [],
   "source": [
    "ddatafpm=np.empty((len(filesfp),1),dtype=object)\n",
    "ddatasfm=np.empty((len(filessf),1),dtype=object)\n",
    "ddatarem=np.empty((len(filesre),1),dtype=object)\n",
    "ddatastm=np.empty((len(filesst),1),dtype=object)\n",
    "\n",
    "ddatafpc=np.empty((len(filesfp),1),dtype=object)\n",
    "ddatasfc=np.empty((len(filessf),1),dtype=object)\n",
    "ddatarec=np.empty((len(filesre),1),dtype=object)\n",
    "ddatastc=np.empty((len(filesst),1),dtype=object)"
   ]
  },
  {
   "cell_type": "code",
   "execution_count": null,
   "metadata": {},
   "outputs": [],
   "source": [
    "def downsample_time_serieso(time_series, sampling_rate, downsample_factor):\n",
    "    # Calculate the number of samples to average for downsampling\n",
    "    samples_per_second = sampling_rate\n",
    "    samples_to_average = int(samples_per_second * downsample_factor)\n",
    "\n",
    "    # Calculate overlap\n",
    "    overlap = samples_to_average // 2\n",
    "\n",
    "    # Calculate the number of windows\n",
    "    num_windows = (len(time_series) - samples_to_average) // overlap+1\n",
    "\n",
    "    # Initialize the downsampled time series array\n",
    "    downsampled_time_series = np.zeros((num_windows, 1))\n",
    "\n",
    "    # Populate the downsampled time series array using overlapping windows\n",
    "    for i in range(num_windows):\n",
    "        start = i * overlap\n",
    "        end = start + samples_to_average\n",
    "        window_data = time_series[start:end]# Extract the windowed data\n",
    "        #print('w',len(window_data))\n",
    "        downsampled_time_series[i] = np.mean(window_data, axis=0)  # Compute the mean along the window\n",
    "        #print('d',downsampled_time_series[i])\n",
    "    return downsampled_time_series"
   ]
  },
  {
   "cell_type": "code",
   "execution_count": null,
   "metadata": {},
   "outputs": [],
   "source": [
    "def downall(dataallin,dataout):\n",
    "    for i in range(len(filesfp)):\n",
    "        datain=dataallin[i][0]\n",
    "        #print(i,datain)\n",
    "        downin=downsample_time_serieso(datain, sampling_rate, downsample_factor)\n",
    "        dataout[i]=[downin]\n",
    "    return dataout"
   ]
  },
  {
   "cell_type": "code",
   "execution_count": null,
   "metadata": {},
   "outputs": [],
   "source": [
    "ddatafpm=downall(datafprawm,ddatafpm)\n",
    "ddatafpc=downall(datafprawc,ddatafpc)\n",
    "\n",
    "ddatasfm=downall(datasfrawm,ddatasfm)\n",
    "ddatasfc=downall(datasfrawc,ddatasfc)\n",
    "\n",
    "ddatarem=downall(datarerawm,ddatarem)\n",
    "ddatarec=downall(datarerawc,ddatarec)"
   ]
  },
  {
   "cell_type": "code",
   "execution_count": null,
   "metadata": {},
   "outputs": [],
   "source": [
    "bdatamdown=datacombine(ddatafpm,ddatasfm,ddatarem,bdatamdown)\n",
    "bdatacdown=datacombine(ddatafpc,ddatasfc,ddatarec,bdatacdown)"
   ]
  },
  {
   "cell_type": "code",
   "execution_count": null,
   "metadata": {},
   "outputs": [],
   "source": [
    "def calculate_max_distance(data1, data2):\n",
    "    # Convert data series to numpy arrays\n",
    "    data1 = np.array(data1)\n",
    "    data2 = np.array(data2)\n",
    "    \n",
    "    max_distance = 0\n",
    "    \n",
    "    # Calculate the distances between each pair of points from data1 and data2\n",
    "    for x in data1:\n",
    "        for y in data2:\n",
    "            distance = abs(x - y)\n",
    "            if distance > max_distance:\n",
    "                max_distance = distance\n",
    "    \n",
    "    return max_distance"
   ]
  },
  {
   "cell_type": "code",
   "execution_count": null,
   "metadata": {},
   "outputs": [],
   "source": [
    "def maxall(datainm,datainc):\n",
    "    maxall=[]\n",
    "    #minall=[]\n",
    "    for i in range(len(datainm)):\n",
    "        maxall.append(calculate_max_distance(datainm[i][0],datainc[i][0]))\n",
    "        #minall.append(thresholdeach(datainm[i][0],datainc[i][0])[1])\n",
    "    print(i)\n",
    "    maxout=np.max(maxall)\n",
    "    return 0.05*maxout,maxall"
   ]
  },
  {
   "cell_type": "code",
   "execution_count": null,
   "metadata": {},
   "outputs": [],
   "source": [
    "echi,maxchi=maxall(bdatacdown,bdatacdown)\n",
    "emot,maxmot=maxall(bdatamdown,bdatamdown)\n",
    "ecrp,maxc=maxall(bdatamdown,bdatacdown)"
   ]
  },
  {
   "cell_type": "code",
   "execution_count": null,
   "metadata": {},
   "outputs": [],
   "source": [
    "def rrcoutcolorall(y,yi,thresholdin,namein): # for the recurrence plot, please define y=yi\n",
    "    ya=np.array(y)\n",
    "    yia=np.array(yi)\n",
    "    matrix=np.zeros((len(ya),len(yia))) #initialize the matrix for the horizontal axis\n",
    "    matrixx=np.zeros((len(ya),len(yia))) #initialize the matrix for the vertical axis\n",
    "    matrixc=np.zeros((len(ya),len(yia)))-100 # intitialize the color matrix to distinguish the values on the plots\n",
    "    for i in range(len(ya)): # go through the y sequency, and find all the equalized value in yi for each time point in y sequence\n",
    "        ee=cdist(yia,[ya[i,:]])\n",
    "        indf=np.where(ee<=thresholdin) # if you want to define the tolerance,not y=yi, but |y-yi|<tolerance, please modify this line as indf=np.where(abs(yia-ya[i])<tolerance) \n",
    "        iii=indf[0]\n",
    "        yyy=np.array([np.nan]*len(yia))\n",
    "        yyyt=np.arange(len(yia))\n",
    "        xlabel=np.zeros((1,len(ya)))+i\n",
    "        matrixx[:,i]=xlabel\n",
    "        yyy=ee.ravel()\n",
    "        matrixc[:,i]=yyy\n",
    "        matrix[:,i]=yyyt\n",
    "    plt.figure(figsize=(6.1,5)) # plot the figure\n",
    "    #plt.axis('off')\n",
    "    dx=np.arange(len(ya))\n",
    "    cmap=cm.get_cmap('hot',11)\n",
    "    plt.scatter([i for i in matrixx],[j for j in matrix],c=[k for k in matrixc],cmap=cmap,s=1,vmin=0, vmax=int(thresholdin))\n",
    "    plt.xlim(0,len(ya))\n",
    "    plt.ylim(0,len(ya))\n",
    "    plt.xticks(fontsize=14)\n",
    "    plt.yticks(fontsize=14)\n",
    "    cbar=plt.colorbar()\n",
    "    tick_font_size = 30\n",
    "    cbar.ax.tick_params(labelsize=tick_font_size)\n",
    "    cbar.locator=mpl.ticker.MaxNLocator(nbins=11)\n",
    "    cbar.update_ticks()\n",
    "    #pathsave=r'E:\\KyotoUdata\\EEG\\figureout'\n",
    "    #plt.savefig(pathsave+'\\\\'+namein)\n",
    "    plt.show()"
   ]
  },
  {
   "cell_type": "code",
   "execution_count": null,
   "metadata": {},
   "outputs": [],
   "source": [
    "def rrcoutblackall(y,yi,thresholdin,namein): # for the recurrence plot, please define y=yi\n",
    "    ya=np.array(y)\n",
    "    yia=np.array(yi)\n",
    "    matrix=np.zeros((len(ya),len(yia))) #initialize the matrix for the horizontal axis\n",
    "    matrixx=np.zeros((len(ya),len(yia))) #initialize the matrix for the vertical axis\n",
    "    matrixc=np.zeros((len(ya),len(yia)))-100 # intitialize the color matrix to distinguish the values on the plots\n",
    "    for i in range(len(ya)): # go through the y sequency, and find all the equalized value in yi for each time point in y sequence\n",
    "        ee=cdist(yia,[ya[i,:]])\n",
    "        indf=np.where(ee<=thresholdin)\n",
    "        indf0=np.where(ee>thresholdin)# if you want to define the tolerance,not y=yi, but |y-yi|<tolerance, please modify this line as indf=np.where(abs(yia-ya[i])<tolerance) \n",
    "        iii=indf[0]\n",
    "        yyy=np.array([np.nan]*len(yia))\n",
    "        yyyt=np.arange(len(yia))\n",
    "        xlabel=np.zeros((1,len(ya)))+i\n",
    "        matrixx[:,i]=xlabel\n",
    "        ee[iii]=1\n",
    "        ee[indf0[0]]=0\n",
    "        yyy=ee.ravel()\n",
    "        matrixc[:,i]=yyy\n",
    "        matrix[:,i]=yyyt\n",
    "    plt.figure(figsize=(5,5)) # plot the figure\n",
    "    #plt.axis('off')\n",
    "    dx=np.arange(len(ya))\n",
    "    cmap=cm.get_cmap('binary')\n",
    "    plt.scatter([i for i in matrixx],[j for j in matrix],c=[k for k in matrixc],cmap=cmap,s=1,vmin=0,vmax=1)\n",
    "    plt.xlim(0,len(ya))\n",
    "    plt.ylim(0,len(ya))\n",
    "    plt.xticks(fontsize=14)\n",
    "    plt.yticks(fontsize=14)\n",
    "    #cbar=plt.colorbar()\n",
    "    #tick_font_size = 30\n",
    "    #cbar.ax.tick_params(labelsize=tick_font_size)\n",
    "    #cbar.locator=mpl.ticker.MaxNLocator(nbins=11)\n",
    "    #cbar.update_ticks()\n",
    "    pathsave=r'F:\\KyotoUdata\\EEG\\rps0716'\n",
    "    plt.savefig(pathsave+'\\\\'+namein,bbox_inches='tight',pad_inches=0.0)\n",
    "    plt.show()"
   ]
  },
  {
   "cell_type": "code",
   "execution_count": null,
   "metadata": {},
   "outputs": [],
   "source": [
    "#test1=np.array(bdatamdown[0][0])\n",
    "#test2=np.array(bdatamdown[0][0])\n",
    "#print(test1)"
   ]
  },
  {
   "cell_type": "code",
   "execution_count": null,
   "metadata": {
    "scrolled": true
   },
   "outputs": [],
   "source": [
    "#plt.figure(figsize=(13, 4))\n",
    "#plt.plot(np.array(bdatac[-1][0]))\n",
    "#plt.show()\n",
    "#plt.figure(figsize=(13, 4))\n",
    "#plt.plot(np.array(datasfc[-1][0]))\n",
    "#plt.show()\n",
    "#plt.figure(figsize=(13, 4))\n",
    "#plt.plot(np.array(bdatacdown[-1][0]))\n",
    "#plt.show()\n"
   ]
  },
  {
   "cell_type": "code",
   "execution_count": null,
   "metadata": {
    "scrolled": true
   },
   "outputs": [],
   "source": [
    "for i in range(len(bdatacdown)):\n",
    "    print(filesfp[i])\n",
    "    plt.figure(figsize=(6, 2))\n",
    "    plt.plot(np.array(bdatacdown[i][0]))\n",
    "    plt.xlim(0,720)\n",
    "    plt.ylim(-15,15)\n",
    "    plt.show()"
   ]
  },
  {
   "cell_type": "code",
   "execution_count": null,
   "metadata": {},
   "outputs": [],
   "source": [
    "#labels=[0, 0, 1, 0, 0, 0, 2, 1, 1, 2, 1, 0, 1, 0, 1, 0, 1, 0, 1, 1]"
   ]
  },
  {
   "cell_type": "code",
   "execution_count": null,
   "metadata": {
    "scrolled": true
   },
   "outputs": [],
   "source": [
    "for i in range(len(bdatamdown)):\n",
    "    print(filesfp[i])\n",
    "    plt.figure(figsize=(6, 2))\n",
    "    plt.plot(np.array(bdatamdown[i][0]))\n",
    "    plt.xlim(0,720)\n",
    "    plt.ylim(-15,15)\n",
    "    plt.show()"
   ]
  },
  {
   "cell_type": "code",
   "execution_count": null,
   "metadata": {},
   "outputs": [],
   "source": [
    "categories=['006','007','008','010','011','014','015','018','024','025',\n",
    "           '026','030','032','033','034','035','037','038','041','042']\n",
    "#labels=[0.0,0.0,1.0,0.0,0.0,0.0,2.0,1.0,1.0,2.0,1.0,0.0,1.0,0.0,1.0,0.0,1.0,0.0,1.0,1]\n",
    "labels=[0, 0, 1, 0, 0, 0, 2, 1, 1, 2, 1, 0, 1, 0, 1, 0, 1, 0, 1, 1]\n",
    "color_map = {0: 'red', 1: 'blue', 2: 'yellow'}\n",
    "colors = [color_map[label] for label in labels]\n",
    "def corrsep(corrin,labelin):\n",
    "    corr0=corrin[np.where(np.array(labelin)==0)[0]]\n",
    "    corr1=corrin[np.where(np.array(labelin)==1)[0]]\n",
    "    return corr0,corr1"
   ]
  },
  {
   "cell_type": "code",
   "execution_count": null,
   "metadata": {},
   "outputs": [],
   "source": [
    "childall0,childall1=corrsep(np.array(bdatacdown),labels)\n",
    "motherall0,motherall1=corrsep(np.array(bdatamdown),labels)\n",
    "\n",
    "name0,name1=corrsep(np.array(filesfp),labels)"
   ]
  },
  {
   "cell_type": "code",
   "execution_count": null,
   "metadata": {},
   "outputs": [],
   "source": [
    "print(name0)"
   ]
  },
  {
   "cell_type": "code",
   "execution_count": null,
   "metadata": {},
   "outputs": [],
   "source": [
    "print(name1)"
   ]
  },
  {
   "cell_type": "code",
   "execution_count": null,
   "metadata": {},
   "outputs": [],
   "source": [
    "for i in range(len(childall1)):\n",
    "    #if i>=1:\n",
    "        #break\n",
    "    name='all'+'\\\\'+'yes'+'\\\\'+'child'+'\\\\'+name1[i][:3]+'.jpg'\n",
    "    rrcoutblackall(childall1[i][0],childall1[i][0],echi,name)"
   ]
  },
  {
   "cell_type": "code",
   "execution_count": null,
   "metadata": {},
   "outputs": [],
   "source": [
    "for i in range(len(motherall1)):\n",
    "    #if i>=1:\n",
    "        #break\n",
    "    name='all'+'\\\\'+'yes'+'\\\\'+'mother'+'\\\\'+name1[i][:3]+'.jpg'\n",
    "    rrcoutblackall(motherall1[i][0],motherall1[i][0],emot,name)"
   ]
  },
  {
   "cell_type": "code",
   "execution_count": null,
   "metadata": {
    "scrolled": true
   },
   "outputs": [],
   "source": [
    "for i in range(len(childall0)):\n",
    "    #if i>=1:\n",
    "        #break\n",
    "    name='all'+'\\\\'+'no'+'\\\\'+'child'+'\\\\'+name0[i][:3]+'.jpg'\n",
    "    rrcoutblackall(childall0[i][0],childall0[i][0],echi,name)"
   ]
  },
  {
   "cell_type": "code",
   "execution_count": null,
   "metadata": {
    "scrolled": true
   },
   "outputs": [],
   "source": [
    "for i in range(len(motherall0)):\n",
    "    #if i>=1:\n",
    "        #break\n",
    "    name='all'+'\\\\'+'no'+'\\\\'+'mother'+'\\\\'+name0[i][:3]+'.jpg'\n",
    "    rrcoutblackall(motherall0[i][0],motherall0[i][0],emot,name)"
   ]
  },
  {
   "cell_type": "code",
   "execution_count": null,
   "metadata": {
    "scrolled": true
   },
   "outputs": [],
   "source": [
    "for i in range(len(motherall0)):\n",
    "    #if i>=1:\n",
    "        #break\n",
    "    name='fp'+'\\\\'+'no'+'\\\\'+'mother'+'\\\\'+name0[i][:3]+'.jpg'\n",
    "    rrcoutblackall(motherall0[i][0][:240],motherall0[i][0][:240],emot,name)"
   ]
  },
  {
   "cell_type": "code",
   "execution_count": null,
   "metadata": {
    "scrolled": true
   },
   "outputs": [],
   "source": [
    "for i in range(len(childall0)):\n",
    "    #if i>=1:\n",
    "        #break\n",
    "    name='fp'+'\\\\'+'no'+'\\\\'+'child'+'\\\\'+name0[i][:3]+'.jpg'\n",
    "    rrcoutblackall(childall0[i][0][:240],childall0[i][0][:240],echi,name)"
   ]
  },
  {
   "cell_type": "code",
   "execution_count": null,
   "metadata": {},
   "outputs": [],
   "source": [
    "for i in range(len(motherall1)):\n",
    "    #if i>=1:\n",
    "        #break\n",
    "    name='fp'+'\\\\'+'yes'+'\\\\'+'mother'+'\\\\'+name1[i][:3]+'.jpg'\n",
    "    rrcoutblackall(motherall1[i][0][:240],motherall1[i][0][:240],emot,name)"
   ]
  },
  {
   "cell_type": "code",
   "execution_count": null,
   "metadata": {},
   "outputs": [],
   "source": [
    "for i in range(len(childall1)):\n",
    "    #if i>=1:\n",
    "        #break\n",
    "    name='fp'+'\\\\'+'yes'+'\\\\'+'child'+'\\\\'+name1[i][:3]+'.jpg'\n",
    "    rrcoutblackall(childall1[i][0][:240],childall1[i][0][:240],echi,name)"
   ]
  },
  {
   "cell_type": "code",
   "execution_count": null,
   "metadata": {},
   "outputs": [],
   "source": [
    "for i in range(len(motherall0)):\n",
    "    #if i>=1:\n",
    "        #break\n",
    "    name='sf'+'\\\\'+'no'+'\\\\'+'mother'+'\\\\'+name0[i][:3]+'.jpg'\n",
    "    rrcoutblackall(motherall0[i][0][240:480],motherall0[i][0][240:480],emot,name)"
   ]
  },
  {
   "cell_type": "code",
   "execution_count": null,
   "metadata": {},
   "outputs": [],
   "source": [
    "for i in range(len(childall0)):\n",
    "    #if i>=1:\n",
    "        #break\n",
    "    name='sf'+'\\\\'+'no'+'\\\\'+'child'+'\\\\'+name0[i][:3]+'.jpg'\n",
    "    rrcoutblackall(childall0[i][0][240:480],childall0[i][0][240:480],echi,name)"
   ]
  },
  {
   "cell_type": "code",
   "execution_count": null,
   "metadata": {},
   "outputs": [],
   "source": [
    "for i in range(len(motherall1)):\n",
    "    #if i>=1:\n",
    "        #break\n",
    "    name='sf'+'\\\\'+'yes'+'\\\\'+'mother'+'\\\\'+name1[i][:3]+'.jpg'\n",
    "    rrcoutblackall(motherall1[i][0][240:480],motherall1[i][0][240:480],emot,name)"
   ]
  },
  {
   "cell_type": "code",
   "execution_count": null,
   "metadata": {},
   "outputs": [],
   "source": [
    "for i in range(len(childall1)):\n",
    "    #if i>=1:\n",
    "        #break\n",
    "    name='sf'+'\\\\'+'yes'+'\\\\'+'child'+'\\\\'+name1[i][:3]+'.jpg'\n",
    "    rrcoutblackall(childall1[i][0][240:480],childall1[i][0][240:480],echi,name)"
   ]
  },
  {
   "cell_type": "code",
   "execution_count": null,
   "metadata": {},
   "outputs": [],
   "source": [
    "for i in range(len(motherall0)):\n",
    "    #if i>=1:\n",
    "        #break\n",
    "    name='re'+'\\\\'+'no'+'\\\\'+'mother'+'\\\\'+name0[i][:3]+'.jpg'\n",
    "    rrcoutblackall(motherall0[i][0][-240:],motherall0[i][0][-240:],emot,name)"
   ]
  },
  {
   "cell_type": "code",
   "execution_count": null,
   "metadata": {
    "scrolled": true
   },
   "outputs": [],
   "source": [
    "for i in range(len(childall0)):\n",
    "    #if i>=1:\n",
    "        #break\n",
    "    name='re'+'\\\\'+'no'+'\\\\'+'child'+'\\\\'+name0[i][:3]+'.jpg'\n",
    "    rrcoutblackall(childall0[i][0][-240:],childall0[i][0][-240:],echi,name)"
   ]
  },
  {
   "cell_type": "code",
   "execution_count": null,
   "metadata": {
    "scrolled": true
   },
   "outputs": [],
   "source": [
    "for i in range(len(motherall1)):\n",
    "    #if i>=1:\n",
    "        #break\n",
    "    name='re'+'\\\\'+'yes'+'\\\\'+'mother'+'\\\\'+name1[i][:3]+'.jpg'\n",
    "    rrcoutblackall(motherall1[i][0][-240:],motherall1[i][0][-240:],emot,name)"
   ]
  },
  {
   "cell_type": "code",
   "execution_count": null,
   "metadata": {},
   "outputs": [],
   "source": [
    "for i in range(len(childall1)):\n",
    "    #if i>=1:\n",
    "        #break\n",
    "    name='re'+'\\\\'+'yes'+'\\\\'+'child'+'\\\\'+name1[i][:3]+'.jpg'\n",
    "    rrcoutblackall(childall1[i][0][-240:],childall1[i][0][-240:],echi,name)"
   ]
  },
  {
   "cell_type": "code",
   "execution_count": null,
   "metadata": {},
   "outputs": [],
   "source": [
    "#labels=[0, 0, 1, 0, 0, 0, 2, 1, 1, 2, 1, 0, 1, 0, 1, 0, 1, 0, 1, 1]"
   ]
  },
  {
   "cell_type": "code",
   "execution_count": null,
   "metadata": {},
   "outputs": [],
   "source": [
    "for i in range(len(bdatamdown)):\n",
    "    name='infant'+'\\\\'+filesfp[i][:3]+'.jpg'\n",
    "    rrcoutblackall(bdatamdown[i][0],bdatamdown[i][0],emot,name)"
   ]
  },
  {
   "cell_type": "code",
   "execution_count": null,
   "metadata": {},
   "outputs": [],
   "source": [
    "for i in range(len(bdatamdown)):\n",
    "    name='infant'+'\\\\'+filesfp[i][:3]+'.jpg'\n",
    "    rrcoutblackall(bdatamdown[i][0][240:480],bdatamdown[i][0][240:480],emot,name)"
   ]
  },
  {
   "cell_type": "code",
   "execution_count": null,
   "metadata": {
    "scrolled": true
   },
   "outputs": [],
   "source": [
    "for i in range(len(bdatamdown)):\n",
    "    name='infant'+'\\\\'+filesfp[i][:3]+'.jpg'\n",
    "    rrcoutblackall(bdatamdown[i][0],bdatacdown[i][0],ecrp,name)"
   ]
  },
  {
   "cell_type": "code",
   "execution_count": null,
   "metadata": {
    "scrolled": true
   },
   "outputs": [],
   "source": [
    "for i in range(len(bdatacdown)):\n",
    "    #if i>=1:\n",
    "        #break\n",
    "    name='infant'+'\\\\'+filesfp[i][:3]+'.jpg'\n",
    "    rrcoutblackall(bdatacdown[i][0][240:480],bdatacdown[i][0][240:480],echi,name)"
   ]
  },
  {
   "cell_type": "code",
   "execution_count": null,
   "metadata": {},
   "outputs": [],
   "source": [
    "#for i in range(len(bdatacdown)):\n",
    "    #if i>=1:\n",
    "        #break\n",
    "    #name='infant'+'\\\\'+filesfp[i][:3]+'.jpg'\n",
    "    #rrcoutcolorall(bdatacdown[i][0],bdatacdown[i][0],echi,name)"
   ]
  },
  {
   "cell_type": "code",
   "execution_count": null,
   "metadata": {
    "scrolled": true
   },
   "outputs": [],
   "source": [
    "#for i in range(len(bdatamdown)):\n",
    "    #name='infant'+'\\\\'+filesfp[i][:3]+'.jpg'\n",
    "    #rrcoutcolorall(bdatamdown[i][0],bdatamdown[i][0],emot,name)"
   ]
  },
  {
   "cell_type": "code",
   "execution_count": null,
   "metadata": {
    "scrolled": true
   },
   "outputs": [],
   "source": [
    "#for i in range(len(bdatamdown)):\n",
    "    #name='infant'+'\\\\'+filesfp[i][:3]+'.jpg'\n",
    "    #rrcoutcolorall(bdatamdown[i][0],bdatacdown[i][0],ecrp,name)"
   ]
  },
  {
   "cell_type": "code",
   "execution_count": null,
   "metadata": {},
   "outputs": [],
   "source": [
    "def rrcoutmatrix(y,yi,thresholdin): # for the recurrence plot, please define y=yi\n",
    "    ya=np.array(y)\n",
    "    yia=np.array(yi)\n",
    "    matrix=np.zeros((len(ya),len(yia))) #initialize the matrix for the horizontal axis\n",
    "    matrixx=np.zeros((len(ya),len(yia))) #initialize the matrix for the vertical axis\n",
    "    matrixc=np.zeros((len(ya),len(yia)))-100 # intitialize the color matrix to distinguish the values on the plots\n",
    "    for i in range(len(ya)): # go through the y sequency, and find all the equalized value in yi for each time point in y sequence\n",
    "        ee=cdist(yia,[ya[i,:]])\n",
    "        indf=np.where(ee<=thresholdin) # if you want to define the tolerance,not y=yi, but |y-yi|<tolerance, please modify this line as indf=np.where(abs(yia-ya[i])<tolerance) \n",
    "        iii=indf[0]\n",
    "        yyy=np.zeros(len(yia))\n",
    "        yyyt=np.array([np.nan]*len(yia))\n",
    "        xlabel=np.zeros((1,len(ya)))+i\n",
    "        matrixx[:,i]=xlabel\n",
    "        if len(iii)!=0:\n",
    "            #yyy[iii]=np.mean(ya[i,:])\n",
    "            yyy[iii]=1 # recurrence points\n",
    "            yyyt[iii]=iii\n",
    "            matrix[:,i]=yyyt\n",
    "            matrixc[:,i]=yyy\n",
    "    for j in range(len(matrixc[:,0])):\n",
    "        inddd=np.where(matrixc[j,:]==-100)\n",
    "        inddd0=np.array(inddd[0])\n",
    "        matrixc[j,inddd0]=0\n",
    "    return matrixc"
   ]
  },
  {
   "cell_type": "code",
   "execution_count": null,
   "metadata": {},
   "outputs": [],
   "source": [
    "def recurrence_quantification_analysis(recurrence_matrix, minimum_diagonal_line_length, minimum_vertical_line_length, minimum_white_vertical_line_length):\n",
    "    # Calculating the number of states - N\n",
    "    number_of_vectors = recurrence_matrix.shape[0]\n",
    "    \n",
    "    # Calculating the diagonal frequency distribution - P(l)\n",
    "    diagonal_frequency_distribution = np.zeros(number_of_vectors+1)\n",
    "    for i in range(number_of_vectors-1, -1, -1):\n",
    "        diagonal_line_length = 0\n",
    "        for j in range(0, number_of_vectors-i):\n",
    "            if recurrence_matrix[i+j,j] == 1:\n",
    "                diagonal_line_length += 1\n",
    "                if j == (number_of_vectors-i-1):\n",
    "                    diagonal_frequency_distribution[diagonal_line_length] += 1.0\n",
    "            else:\n",
    "                if diagonal_line_length != 0:\n",
    "                    diagonal_frequency_distribution[diagonal_line_length] += 1.0\n",
    "                    diagonal_line_length = 0\n",
    "    for k in range(1,number_of_vectors):\n",
    "        diagonal_line_length = 0\n",
    "        for i in range(number_of_vectors-k):\n",
    "            j = i + k\n",
    "            if recurrence_matrix[i,j] == 1:\n",
    "                diagonal_line_length += 1\n",
    "                if j == (number_of_vectors-1):\n",
    "                    diagonal_frequency_distribution[diagonal_line_length] += 1.0\n",
    "            else:\n",
    "                if diagonal_line_length != 0:\n",
    "                    diagonal_frequency_distribution[diagonal_line_length] += 1.0\n",
    "                    diagonal_line_length = 0\n",
    "\n",
    "    # Calculating the vertical frequency distribution - P(v)\n",
    "    vertical_frequency_distribution = np.zeros(number_of_vectors+1)\n",
    "    for i in range(number_of_vectors):\n",
    "        vertical_line_length = 0\n",
    "        for j in range(number_of_vectors):\n",
    "            if recurrence_matrix[i,j] == 1:\n",
    "                vertical_line_length += 1\n",
    "                if j == (number_of_vectors-1):\n",
    "                    vertical_frequency_distribution[vertical_line_length] += 1.0\n",
    "            else:\n",
    "                if vertical_line_length != 0:\n",
    "                    vertical_frequency_distribution[vertical_line_length] += 1.0\n",
    "                    vertical_line_length = 0\n",
    "\n",
    "    # Calculating the white vertical frequency distribution - P(w)\n",
    "    white_vertical_frequency_distribution = np.zeros(number_of_vectors+1)\n",
    "    for i in range(number_of_vectors):\n",
    "        white_vertical_line_length = 0\n",
    "        for j in range(number_of_vectors):\n",
    "            if recurrence_matrix[i,j] == 0:\n",
    "                white_vertical_line_length += 1\n",
    "                if j == (number_of_vectors-1):\n",
    "                    white_vertical_frequency_distribution[white_vertical_line_length] += 1.0\n",
    "            else:\n",
    "                if white_vertical_line_length != 0:\n",
    "                    white_vertical_frequency_distribution[white_vertical_line_length] += 1.0\n",
    "                    white_vertical_line_length = 0\n",
    "\n",
    "    # Calculating the recurrence rate - RR\n",
    "    recurrence_rate = np.float(np.sum(recurrence_matrix))/np.power(number_of_vectors, 2)\n",
    "\n",
    "    # Calculating the determinism - DET\n",
    "    numerator = np.sum([l * diagonal_frequency_distribution[l] for l in range(minimum_diagonal_line_length, number_of_vectors)])\n",
    "    denominator = np.sum([l * diagonal_frequency_distribution[l] for l in range(1, number_of_vectors)])\n",
    "    determinism = numerator / denominator\n",
    "\n",
    "    # Calculating the average diagonal line length - L\n",
    "    numerator = np.sum([l * diagonal_frequency_distribution[l] for l in range(minimum_diagonal_line_length, number_of_vectors)])\n",
    "    denominator = np.sum([diagonal_frequency_distribution[l] for l in range(minimum_diagonal_line_length, number_of_vectors)])\n",
    "    average_diagonal_line_length = numerator / denominator\n",
    "\n",
    "    # Calculating the longest diagonal line length - Lmax\n",
    "    for l in range(number_of_vectors-1, 0, -1):\n",
    "        if diagonal_frequency_distribution[l] != 0:\n",
    "            longest_diagonal_line_length = l\n",
    "            break\n",
    "\n",
    "    # Calculating the  divergence - DIV\n",
    "    divergence = 1. / longest_diagonal_line_length\n",
    "\n",
    "    # Calculating the entropy diagonal lines - Lentr\n",
    "    sum_diagonal_frequency_distribution = np.float(np.sum(diagonal_frequency_distribution[minimum_diagonal_line_length:-1]))\n",
    "    entropy_diagonal_lines = 0\n",
    "    for l in range(minimum_diagonal_line_length, number_of_vectors):\n",
    "        if diagonal_frequency_distribution[l] != 0:\n",
    "            entropy_diagonal_lines +=  (diagonal_frequency_distribution[l]/sum_diagonal_frequency_distribution) * np.log(diagonal_frequency_distribution[l]/sum_diagonal_frequency_distribution)\n",
    "    entropy_diagonal_lines *= -1\n",
    "\n",
    "    # Calculating the ratio determinism_recurrence - DET/RR\n",
    "    ratio_determinism_recurrence_rate = determinism / recurrence_rate\n",
    "\n",
    "    # Calculating the laminarity - LAM\n",
    "    numerator = np.sum([v * vertical_frequency_distribution[v] for v in range(minimum_vertical_line_length, number_of_vectors+1)])\n",
    "    denominator = np.sum([v * vertical_frequency_distribution[v] for v in range(1, number_of_vectors+1)])\n",
    "    laminarity = numerator / denominator\n",
    "\n",
    "    # Calculating the average vertical line length - V\n",
    "    numerator = np.sum([v * vertical_frequency_distribution[v] for v in range(minimum_vertical_line_length, number_of_vectors+1)])\n",
    "    denominator = np.sum([vertical_frequency_distribution[v] for v in range(minimum_vertical_line_length, number_of_vectors+1)])\n",
    "    average_vertical_line_length = numerator / denominator\n",
    "\n",
    "    # Calculating the longest vertical line length - Vmax\n",
    "    for v in range(number_of_vectors, 0, -1):\n",
    "        if vertical_frequency_distribution[v] != 0:\n",
    "            longest_vertical_line_length = v\n",
    "            break\n",
    "\n",
    "    # Calculating the entropy vertical lines - Ventr\n",
    "    sum_vertical_frequency_distribution = np.float(np.sum(vertical_frequency_distribution[minimum_vertical_line_length:]))\n",
    "    entropy_vertical_lines = 0\n",
    "    for v in range(minimum_vertical_line_length, number_of_vectors+1):\n",
    "        if vertical_frequency_distribution[v] != 0:\n",
    "            entropy_vertical_lines +=  (vertical_frequency_distribution[v]/sum_vertical_frequency_distribution) * np.log(vertical_frequency_distribution[v]/sum_vertical_frequency_distribution)\n",
    "    entropy_vertical_lines *= -1\n",
    "\n",
    "    # Calculatint the ratio laminarity_determinism - LAM/DET\n",
    "    ratio_laminarity_determinism = laminarity / determinism\n",
    "\n",
    "    # Calculating the average white vertical line length - W\n",
    "    numerator = np.sum([w * white_vertical_frequency_distribution[w] for w in range(minimum_white_vertical_line_length, number_of_vectors+1)])\n",
    "    denominator = np.sum([white_vertical_frequency_distribution[w] for w in range(minimum_white_vertical_line_length, number_of_vectors+1)])\n",
    "    average_white_vertical_line_length = numerator / denominator\n",
    "\n",
    "    # Calculating the longest white vertical line length - Wmax\n",
    "    for w in range(number_of_vectors, 0, -1):\n",
    "        if white_vertical_frequency_distribution[w] != 0:\n",
    "            longest_white_vertical_line_length = w\n",
    "            #break\n",
    "        else:\n",
    "            longest_white_vertical_line_length=0\n",
    "\n",
    "    # Calculating the entropy white vertical lines - Wentr\n",
    "    sum_white_vertical_frequency_distribution = np.float(np.sum(white_vertical_frequency_distribution[minimum_white_vertical_line_length:]))\n",
    "    entropy_white_vertical_lines = 0\n",
    "    for w in range(minimum_white_vertical_line_length, number_of_vectors+1):\n",
    "        if white_vertical_frequency_distribution[w] != 0:\n",
    "            entropy_white_vertical_lines +=  (white_vertical_frequency_distribution[w]/sum_white_vertical_frequency_distribution) * np.log(white_vertical_frequency_distribution[w]/sum_white_vertical_frequency_distribution)\n",
    "    entropy_white_vertical_lines *= -1\n",
    "    outputall=np.c_[recurrence_rate, determinism, average_diagonal_line_length, longest_diagonal_line_length, divergence, entropy_diagonal_lines, laminarity, average_vertical_line_length, longest_vertical_line_length, entropy_vertical_lines, average_white_vertical_line_length, longest_white_vertical_line_length, entropy_white_vertical_lines, ratio_determinism_recurrence_rate, ratio_laminarity_determinism]\n",
    "\n",
    "    return diagonal_frequency_distribution, vertical_frequency_distribution, white_vertical_frequency_distribution,outputall"
   ]
  },
  {
   "cell_type": "code",
   "execution_count": null,
   "metadata": {},
   "outputs": [],
   "source": [
    "def jointrpplot(matrix1,matrix2,namein):\n",
    "    lenm=len(matrix1[:,0])\n",
    "    recurrence_matrix_1=np.zeros((lenm,lenm))\n",
    "    labelmatrix=np.zeros((lenm,lenm))\n",
    "    labelmatrixy=np.zeros((lenm,lenm))\n",
    "    for ii in range(lenm):\n",
    "        labelmatrix_t=np.zeros(lenm)+ii\n",
    "        labelmatrix[:,ii]=labelmatrix_t\n",
    "    for i in range(lenm):\n",
    "        for j in range(i, lenm, 1):\n",
    "            if matrix1[i,j] == 1 and matrix2[i,j] == 1:\n",
    "                recurrence_matrix_1[i,j] = recurrence_matrix_1[j,i] = 1\n",
    "            else:\n",
    "                recurrence_matrix_1[i,j] = recurrence_matrix_1[j,i] = 0\n",
    "    for k in range(lenm):\n",
    "        ind1=np.where(recurrence_matrix_1[:,k]==1)[0]\n",
    "        labelmatrixy_t=np.array([np.nan]*lenm)\n",
    "        labelmatrixy_t[ind1]=ind1\n",
    "        labelmatrixy[:,k]=labelmatrixy_t\n",
    "        #print(ind1)\n",
    "    output=recurrence_matrix_1.astype(int)\n",
    "    plt.figure(figsize=(5,5)) # plot the figure\n",
    "    #plt.axis('off')\n",
    "    plt.scatter([iii for iii in labelmatrix],[jjj for jjj in labelmatrixy],c=[kkk for kkk in output],cmap='binary',s=1,vmin=0,vmax=1)\n",
    "    plt.xlim(0,len(matrix1[:,0]))\n",
    "    plt.ylim(0,len(matrix2[:,0]))\n",
    "    plt.xticks(fontsize=14)\n",
    "    plt.yticks(fontsize=14)\n",
    "    pathsave=r'F:\\KyotoUdata\\EEG\\jrps0716'\n",
    "    plt.savefig(pathsave+'\\\\'+namein,bbox_inches='tight',pad_inches=0.0)\n",
    "    plt.show()\n",
    "    return output, labelmatrix, labelmatrixy"
   ]
  },
  {
   "cell_type": "code",
   "execution_count": null,
   "metadata": {},
   "outputs": [],
   "source": [
    "def jointrpmatrix(matrix1,matrix2):\n",
    "    lenm=len(matrix1[:,0])\n",
    "    recurrence_matrix_1=np.zeros((lenm,lenm))\n",
    "    labelmatrix=np.zeros((lenm,lenm))\n",
    "    labelmatrixy=np.zeros((lenm,lenm))\n",
    "    for ii in range(lenm):\n",
    "        labelmatrix_t=np.zeros(lenm)+ii\n",
    "        labelmatrix[:,ii]=labelmatrix_t\n",
    "    for i in range(lenm):\n",
    "        for j in range(i, lenm, 1):\n",
    "            if matrix1[i,j] == 1 and matrix2[i,j] == 1:\n",
    "                recurrence_matrix_1[i,j] = recurrence_matrix_1[j,i] = 1\n",
    "            else:\n",
    "                recurrence_matrix_1[i,j] = recurrence_matrix_1[j,i] = 0\n",
    "    for k in range(lenm):\n",
    "        ind1=np.where(recurrence_matrix_1[:,k]==1)[0]\n",
    "        labelmatrixy_t=np.array([np.nan]*lenm)\n",
    "        labelmatrixy_t[ind1]=ind1\n",
    "        labelmatrixy[:,k]=labelmatrixy_t\n",
    "        #print(ind1)\n",
    "    output=recurrence_matrix_1.astype(int)\n",
    "    return output, labelmatrix, labelmatrixy"
   ]
  },
  {
   "cell_type": "code",
   "execution_count": null,
   "metadata": {},
   "outputs": [],
   "source": [
    "#labels=[10, 20, 31, 40, 50, 60, 72, 81, 91, 102, 111, 120, 131, 140,  \n",
    "# 151,  160,  171,  180,  191,  201]"
   ]
  },
  {
   "cell_type": "code",
   "execution_count": null,
   "metadata": {
    "scrolled": true
   },
   "outputs": [],
   "source": [
    "mdl, mvl, mwvl=5,5,5 # these are manually difined\n",
    "outc=[]\n",
    "outm=[]\n",
    "outr=[]\n",
    "outj=[]\n",
    "for i in range(len(bdatacdown)):\n",
    "    #if i>=3:\n",
    "        #break\n",
    "    name='jrp'+'\\\\'+filesfp[i][:3]+'.jpg'\n",
    "    matrixc=rrcoutmatrix(bdatacdown[i][0],bdatacdown[i][0],echi)\n",
    "    matrixm=rrcoutmatrix(bdatamdown[i][0],bdatamdown[i][0],emot)\n",
    "    matrixr=rrcoutmatrix(bdatamdown[i][0],bdatacdown[i][0],ecrp)\n",
    "    matrixj, labelmatrix, labelmatrixy=jointrpplot(matrixm,matrixc,name)\n",
    "    dfc, vfc, wvfc, outputc=recurrence_quantification_analysis(matrixc, mdl,mvl, mwvl)\n",
    "    outc.append(outputc)\n",
    "    dfm, vfm, wvfm, outputm=recurrence_quantification_analysis(matrixm, mdl,mvl, mwvl)\n",
    "    outm.append(outputm)\n",
    "    dfr, vfr, wvfr, outputr=recurrence_quantification_analysis(matrixr, mdl,mvl, mwvl)\n",
    "    outr.append(outputr)\n",
    "    dfj, vfj, wvfj, outputj=recurrence_quantification_analysis(matrixj, mdl,mvl, mwvl)\n",
    "    outj.append(outputj)"
   ]
  },
  {
   "cell_type": "code",
   "execution_count": null,
   "metadata": {
    "scrolled": true
   },
   "outputs": [],
   "source": [
    "mdl, mvl, mwvl=5,5,5 # these are manually difined\n",
    "outcfp=[]\n",
    "outmfp=[]\n",
    "outrfp=[]\n",
    "outjfp=[]\n",
    "for i in range(len(bdatacdown)):\n",
    "    #if i>=3:\n",
    "        #break\n",
    "    name='jrp'+'\\\\'+filesfp[i][:3]+'.jpg'\n",
    "    matrixcfp=rrcoutmatrix(bdatacdown[i][0][240:480],bdatacdown[i][0][240:480],echi)\n",
    "    matrixmfp=rrcoutmatrix(bdatamdown[i][0][240:480],bdatamdown[i][0][240:480],emot)\n",
    "    matrixrfp=rrcoutmatrix(bdatamdown[i][0][240:480],bdatacdown[i][0][240:480],ecrp)\n",
    "    matrixjfp, labelmatrixfp, labelmatrixyfp=jointrpplot(matrixmfp,matrixcfp,name)\n",
    "    #dfc, vfc, wvfc, outputcfp=recurrence_quantification_analysis(matrixcfp, mdl,mvl, mwvl)\n",
    "    #outcfp.append(outputcfp)\n",
    "    #dfm, vfm, wvfm, outputmfp=recurrence_quantification_analysis(matrixmfp, mdl,mvl, mwvl)\n",
    "    #outmfp.append(outputmfp)\n",
    "    #dfr, vfr, wvfr, outputrfp=recurrence_quantification_analysis(matrixrfp, mdl,mvl, mwvl)\n",
    "    #outrfp.append(outputrfp)\n",
    "    #dfj, vfj, wvfj, outputjfp=recurrence_quantification_analysis(matrixjfp, mdl,mvl, mwvl)\n",
    "    #outjfp.append(outputjfp)"
   ]
  },
  {
   "cell_type": "code",
   "execution_count": null,
   "metadata": {
    "scrolled": true
   },
   "outputs": [],
   "source": [
    "mdl, mvl, mwvl=5,5,5 # these are manually difined\n",
    "for i in range(len(childall0)):\n",
    "    #if i>=3:\n",
    "        #break\n",
    "    name='jrp'+'\\\\'+filesfp[i][:3]+'.jpg'\n",
    "    matrixcfp=rrcoutmatrix(childall0[i][0],childall0[i][0],echi)\n",
    "    matrixmfp=rrcoutmatrix(motherall0[i][0],motherall0[i][0],emot)\n",
    "    matrixrfp=rrcoutmatrix(motherall0[i][0],childall0[i][0],ecrp)\n",
    "    name='all'+'\\\\'+'no'+'\\\\'+name0[i][:3]+'.jpg'\n",
    "    matrixjfp, labelmatrixfp, labelmatrixyfp=jointrpplot(matrixmfp,matrixcfp,name)"
   ]
  },
  {
   "cell_type": "code",
   "execution_count": null,
   "metadata": {
    "scrolled": true
   },
   "outputs": [],
   "source": [
    "mdl, mvl, mwvl=5,5,5 # these are manually difined\n",
    "for i in range(len(childall1)):\n",
    "    #if i>=3:\n",
    "        #break\n",
    "    name='jrp'+'\\\\'+filesfp[i][:3]+'.jpg'\n",
    "    matrixcfp=rrcoutmatrix(childall1[i][0],childall1[i][0],echi)\n",
    "    matrixmfp=rrcoutmatrix(motherall1[i][0],motherall1[i][0],emot)\n",
    "    matrixrfp=rrcoutmatrix(motherall1[i][0],childall1[i][0],ecrp)\n",
    "    name='all'+'\\\\'+'yes'+'\\\\'+name1[i][:3]+'.jpg'\n",
    "    matrixjfp, labelmatrixfp, labelmatrixyfp=jointrpplot(matrixmfp,matrixcfp,name)"
   ]
  },
  {
   "cell_type": "code",
   "execution_count": null,
   "metadata": {
    "scrolled": true
   },
   "outputs": [],
   "source": [
    "mdl, mvl, mwvl=5,5,5 # these are manually difined\n",
    "for i in range(len(childall0)):\n",
    "    #if i>=3:\n",
    "        #break\n",
    "    name='jrp'+'\\\\'+filesfp[i][:3]+'.jpg'\n",
    "    matrixcfp=rrcoutmatrix(childall0[i][0][:240],childall0[i][0][:240],echi)\n",
    "    matrixmfp=rrcoutmatrix(motherall0[i][0][:240],motherall0[i][0][:240],emot)\n",
    "    matrixrfp=rrcoutmatrix(motherall0[i][0][:240],childall0[i][0][:240],ecrp)\n",
    "    name='fp'+'\\\\'+'no'+'\\\\'+name0[i][:3]+'.jpg'\n",
    "    matrixjfp, labelmatrixfp, labelmatrixyfp=jointrpplot(matrixmfp,matrixcfp,name)"
   ]
  },
  {
   "cell_type": "code",
   "execution_count": null,
   "metadata": {},
   "outputs": [],
   "source": [
    "mdl, mvl, mwvl=5,5,5 # these are manually difined\n",
    "for i in range(len(childall0)):\n",
    "    #if i>=3:\n",
    "        #break\n",
    "    name='jrp'+'\\\\'+filesfp[i][:3]+'.jpg'\n",
    "    matrixcfp=rrcoutmatrix(childall0[i][0][240:480],childall0[i][0][240:480],echi)\n",
    "    matrixmfp=rrcoutmatrix(motherall0[i][0][240:480],motherall0[i][0][240:480],emot)\n",
    "    matrixrfp=rrcoutmatrix(motherall0[i][0][240:480],childall0[i][0][240:480],ecrp)\n",
    "    name='sf'+'\\\\'+'no'+'\\\\'+name0[i][:3]+'.jpg'\n",
    "    matrixjfp, labelmatrixfp, labelmatrixyfp=jointrpplot(matrixmfp,matrixcfp,name)"
   ]
  },
  {
   "cell_type": "code",
   "execution_count": null,
   "metadata": {},
   "outputs": [],
   "source": [
    "mdl, mvl, mwvl=5,5,5 # these are manually difined\n",
    "for i in range(len(childall0)):\n",
    "    #if i>=3:\n",
    "        #break\n",
    "    name='jrp'+'\\\\'+filesfp[i][:3]+'.jpg'\n",
    "    matrixcfp=rrcoutmatrix(childall0[i][0][-240:],childall0[i][0][-240:],echi)\n",
    "    matrixmfp=rrcoutmatrix(motherall0[i][0][-240:],motherall0[i][0][-240:],emot)\n",
    "    matrixrfp=rrcoutmatrix(motherall0[i][0][-240:],childall0[i][0][-240:],ecrp)\n",
    "    name='re'+'\\\\'+'no'+'\\\\'+name0[i][:3]+'.jpg'\n",
    "    matrixjfp, labelmatrixfp, labelmatrixyfp=jointrpplot(matrixmfp,matrixcfp,name)"
   ]
  },
  {
   "cell_type": "code",
   "execution_count": null,
   "metadata": {},
   "outputs": [],
   "source": [
    "mdl, mvl, mwvl=5,5,5 # these are manually difined\n",
    "for i in range(len(childall1)):\n",
    "    #if i>=3:\n",
    "        #break\n",
    "    name='jrp'+'\\\\'+filesfp[i][:3]+'.jpg'\n",
    "    matrixcfp=rrcoutmatrix(childall1[i][0][:240],childall1[i][0][:240],echi)\n",
    "    matrixmfp=rrcoutmatrix(motherall1[i][0][:240],motherall1[i][0][:240],emot)\n",
    "    matrixrfp=rrcoutmatrix(motherall1[i][0][:240],childall1[i][0][:240],ecrp)\n",
    "    name='fp'+'\\\\'+'yes'+'\\\\'+name1[i][:3]+'.jpg'\n",
    "    matrixjfp, labelmatrixfp, labelmatrixyfp=jointrpplot(matrixmfp,matrixcfp,name)"
   ]
  },
  {
   "cell_type": "code",
   "execution_count": null,
   "metadata": {
    "scrolled": true
   },
   "outputs": [],
   "source": [
    "mdl, mvl, mwvl=5,5,5 # these are manually difined\n",
    "for i in range(len(childall1)):\n",
    "    #if i>=3:\n",
    "        #break\n",
    "    name='jrp'+'\\\\'+filesfp[i][:3]+'.jpg'\n",
    "    matrixcfp=rrcoutmatrix(childall1[i][0][240:480],childall1[i][0][240:480],echi)\n",
    "    matrixmfp=rrcoutmatrix(motherall1[i][0][240:480],motherall1[i][0][240:480],emot)\n",
    "    matrixrfp=rrcoutmatrix(motherall1[i][0][240:480],childall1[i][0][240:480],ecrp)\n",
    "    name='sf'+'\\\\'+'yes'+'\\\\'+name1[i][:3]+'.jpg'\n",
    "    matrixjfp, labelmatrixfp, labelmatrixyfp=jointrpplot(matrixmfp,matrixcfp,name)"
   ]
  },
  {
   "cell_type": "code",
   "execution_count": null,
   "metadata": {},
   "outputs": [],
   "source": [
    "mdl, mvl, mwvl=5,5,5 # these are manually difined\n",
    "for i in range(len(childall1)):\n",
    "    #if i>=3:\n",
    "        #break\n",
    "    name='jrp'+'\\\\'+filesfp[i][:3]+'.jpg'\n",
    "    matrixcfp=rrcoutmatrix(childall1[i][0][-240:],childall1[i][0][-240:],echi)\n",
    "    matrixmfp=rrcoutmatrix(motherall1[i][0][-240:],motherall1[i][0][-240:],emot)\n",
    "    matrixrfp=rrcoutmatrix(motherall1[i][0][-240:],childall1[i][0][-240:],ecrp)\n",
    "    name='re'+'\\\\'+'yes'+'\\\\'+name1[i][:3]+'.jpg'\n",
    "    matrixjfp, labelmatrixfp, labelmatrixyfp=jointrpplot(matrixmfp,matrixcfp,name)"
   ]
  },
  {
   "cell_type": "code",
   "execution_count": null,
   "metadata": {},
   "outputs": [],
   "source": [
    "len(bdatacdown[0][0][-240:])"
   ]
  },
  {
   "cell_type": "code",
   "execution_count": null,
   "metadata": {
    "scrolled": true
   },
   "outputs": [],
   "source": [
    "mdl, mvl, mwvl=5,5,5 # these are manually difined\n",
    "outcsf=[]\n",
    "outmsf=[]\n",
    "outrsf=[]\n",
    "outjsf=[]\n",
    "for i in range(len(bdatacdown)):\n",
    "    #if i>=3:\n",
    "        #break\n",
    "    name='jrp'+'\\\\'+filesfp[i][:3]+'.jpg'\n",
    "    matrixcsf=rrcoutmatrix(bdatacdown[i][0][240:480],bdatacdown[i][0][240:480],echi)\n",
    "    matrixmsf=rrcoutmatrix(bdatamdown[i][0][240:480],bdatamdown[i][0][240:480],emot)\n",
    "    matrixrsf=rrcoutmatrix(bdatamdown[i][0][240:480],bdatacdown[i][0][240:480],ecrp)\n",
    "    matrixjsf, labelmatrixsf, labelmatrixysf=jointrpmatrix(matrixmsf,matrixcsf)\n",
    "    dfc, vfc, wvfc, outputcsf=recurrence_quantification_analysis(matrixcsf, mdl,mvl, mwvl)\n",
    "    outcsf.append(outputcsf)\n",
    "    dfm, vfm, wvfm, outputmsf=recurrence_quantification_analysis(matrixmsf, mdl,mvl, mwvl)\n",
    "    outmsf.append(outputmsf)\n",
    "    dfr, vfr, wvfr, outputrsf=recurrence_quantification_analysis(matrixrsf, mdl,mvl, mwvl)\n",
    "    outrsf.append(outputrsf)\n",
    "    dfj, vfj, wvfj, outputjsf=recurrence_quantification_analysis(matrixjsf, mdl,mvl, mwvl)\n",
    "    outjsf.append(outputjsf)"
   ]
  },
  {
   "cell_type": "code",
   "execution_count": null,
   "metadata": {
    "scrolled": true
   },
   "outputs": [],
   "source": [
    "mdl, mvl, mwvl=5,5,5 # these are manually difined\n",
    "outcre=[]\n",
    "outmre=[]\n",
    "outrre=[]\n",
    "outjre=[]\n",
    "for i in range(len(bdatacdown)):\n",
    "    #if i>=3:\n",
    "        #break\n",
    "    name='jrp'+'\\\\'+filesfp[i][:3]+'.jpg'\n",
    "    matrixcre=rrcoutmatrix(bdatacdown[i][0][-240:],bdatacdown[i][0][-240:],echi)\n",
    "    matrixmre=rrcoutmatrix(bdatamdown[i][0][-240:],bdatamdown[i][0][-240:],emot)\n",
    "    matrixrre=rrcoutmatrix(bdatamdown[i][0][-240:],bdatacdown[i][0][-240:],ecrp)\n",
    "    matrixjre, labelmatrixre, labelmatrixyre=jointrpmatrix(matrixmre,matrixcre)\n",
    "    dfc, vfc, wvfc, outputcre=recurrence_quantification_analysis(matrixcre, mdl,mvl, mwvl)\n",
    "    outcre.append(outputcre)\n",
    "    dfm, vfm, wvfm, outputmre=recurrence_quantification_analysis(matrixmre, mdl,mvl, mwvl)\n",
    "    outmre.append(outputmre)\n",
    "    dfr, vfr, wvfr, outputrre=recurrence_quantification_analysis(matrixrre, mdl,mvl, mwvl)\n",
    "    outrre.append(outputrre)\n",
    "    dfj, vfj, wvfj, outputjre=recurrence_quantification_analysis(matrixjre, mdl,mvl, mwvl)\n",
    "    outjre.append(outputjre)"
   ]
  },
  {
   "cell_type": "code",
   "execution_count": null,
   "metadata": {},
   "outputs": [],
   "source": [
    "categories=['006','007','008','010','011','014','015','018','024','025',\n",
    "           '026','030','032','033','034','035','037','038','041','042']\n",
    "#labels=[0.0,0.0,1.0,0.0,0.0,0.0,2.0,1.0,1.0,2.0,1.0,0.0,1.0,0.0,1.0,0.0,1.0,0.0,1.0,1]\n",
    "labels=[0, 0, 1, 0, 0, 0, 2, 1, 1, 2, 1, 0, 1, 0, 1, 0, 1, 0, 1, 1]\n",
    "color_map = {0: 'red', 1: 'blue', 2: 'yellow'}\n",
    "colors = [color_map[label] for label in labels]"
   ]
  },
  {
   "cell_type": "code",
   "execution_count": null,
   "metadata": {},
   "outputs": [],
   "source": [
    "def corrsep(corrin,labelin):\n",
    "    corr0=corrin[np.where(np.array(labelin)==0)[0]]\n",
    "    corr1=corrin[np.where(np.array(labelin)==1)[0]]\n",
    "    return corr0,corr1"
   ]
  },
  {
   "cell_type": "code",
   "execution_count": null,
   "metadata": {},
   "outputs": [],
   "source": [
    "corr0allc,corr1allc=corrsep(np.array(outc),labels)\n",
    "corr0allm,corr1allm=corrsep(np.array(outm),labels)\n",
    "corr0allr,corr1allr=corrsep(np.array(outr),labels)\n",
    "corr0allj,corr1allj=corrsep(np.array(outj),labels)"
   ]
  },
  {
   "cell_type": "code",
   "execution_count": null,
   "metadata": {},
   "outputs": [],
   "source": [
    "corr0allcfp,corr1allcfp=corrsep(np.array(outcfp),labels)\n",
    "corr0allmfp,corr1allmfp=corrsep(np.array(outmfp),labels)\n",
    "corr0allrfp,corr1allrfp=corrsep(np.array(outrfp),labels)\n",
    "corr0alljfp,corr1alljfp=corrsep(np.array(outjfp),labels)"
   ]
  },
  {
   "cell_type": "code",
   "execution_count": null,
   "metadata": {},
   "outputs": [],
   "source": [
    "corr0allcsf,corr1allcsf=corrsep(np.array(outcsf),labels)\n",
    "corr0allmsf,corr1allmsf=corrsep(np.array(outmsf),labels)\n",
    "corr0allrsf,corr1allrsf=corrsep(np.array(outrsf),labels)\n",
    "corr0alljsf,corr1alljsf=corrsep(np.array(outjsf),labels)"
   ]
  },
  {
   "cell_type": "code",
   "execution_count": null,
   "metadata": {},
   "outputs": [],
   "source": [
    "corr0allcre,corr1allcre=corrsep(np.array(outcre),labels)\n",
    "corr0allmre,corr1allmre=corrsep(np.array(outmre),labels)\n",
    "corr0allrre,corr1allrre=corrsep(np.array(outrre),labels)\n",
    "corr0alljre,corr1alljre=corrsep(np.array(outjre),labels)"
   ]
  },
  {
   "cell_type": "code",
   "execution_count": null,
   "metadata": {},
   "outputs": [],
   "source": [
    "child0,child1=corrsep(np.array(bdatacdown),labels)"
   ]
  },
  {
   "cell_type": "code",
   "execution_count": null,
   "metadata": {
    "scrolled": true
   },
   "outputs": [],
   "source": [
    "for i in range(len(child0)):\n",
    "    #if i>=1:\n",
    "        #break\n",
    "    name='infant'+'\\\\'+filesfp[i][:3]+'.jpg'\n",
    "    rrcoutblackall(child0[i][0][240:480],child0[i][0][240:480],echi,name)"
   ]
  },
  {
   "cell_type": "code",
   "execution_count": null,
   "metadata": {
    "scrolled": true
   },
   "outputs": [],
   "source": [
    "for i in range(len(child1)):\n",
    "    #if i>=1:\n",
    "        #break\n",
    "    name='infant'+'\\\\'+filesfp[i][:3]+'.jpg'\n",
    "    rrcoutblackall(child1[i][0][240:480],child1[i][0][240:480],echi,name)"
   ]
  },
  {
   "cell_type": "code",
   "execution_count": null,
   "metadata": {},
   "outputs": [],
   "source": [
    "from scipy.stats import ttest_ind"
   ]
  },
  {
   "cell_type": "code",
   "execution_count": null,
   "metadata": {},
   "outputs": [],
   "source": [
    "#outputall=np.c_[recurrence_rate, determinism, average_diagonal_line_length, longest_diagonal_line_length, divergence, entropy_diagonal_lines, laminarity, average_vertical_line_length, longest_vertical_line_length, entropy_vertical_lines, average_white_vertical_line_length, longest_white_vertical_line_length, entropy_white_vertical_lines, ratio_determinism_recurrence_rate, ratio_laminarity_determinism]"
   ]
  },
  {
   "cell_type": "code",
   "execution_count": null,
   "metadata": {},
   "outputs": [],
   "source": [
    "plt.plot(np.array(outc).reshape(20,15)[:,0])"
   ]
  },
  {
   "cell_type": "code",
   "execution_count": null,
   "metadata": {
    "scrolled": false
   },
   "outputs": [],
   "source": [
    "for i in range(10):\n",
    "    title=['RR','DET','ADL','LDL','DEV','EDL','LMR','AVL','LVL','EVL']\n",
    "    plt.boxplot([corr0allc.reshape(9,15)[:,i], corr1allc.reshape(9,15)[:,i]], labels=['No', 'Yes'])\n",
    "    plt.xlabel('Group')\n",
    "    plt.title(title[i])\n",
    "    plt.grid(True)\n",
    "    plt.show()\n",
    "    t_statistic, p_value = ttest_ind(corr0allc.reshape(9,15)[:,i], corr1allc.reshape(9,15)[:,i])\n",
    "    print(p_value)"
   ]
  },
  {
   "cell_type": "code",
   "execution_count": null,
   "metadata": {
    "scrolled": false
   },
   "outputs": [],
   "source": [
    "for i in range(10):\n",
    "    title=['RR','DET','ADL','LDL','DEV','EDL','LMR','AVL','LVL','EVL']\n",
    "    plt.boxplot([corr0allcfp.reshape(9,15)[:,i], corr1allcfp.reshape(9,15)[:,i]], labels=['No', 'Yes'])\n",
    "    plt.xlabel('Group')\n",
    "    plt.title(title[i])\n",
    "    plt.grid(True)\n",
    "    plt.show()\n",
    "    t_statistic, p_value = ttest_ind(corr0allcfp.reshape(9,15)[:,i], corr1allcfp.reshape(9,15)[:,i])\n",
    "    print(p_value)"
   ]
  },
  {
   "cell_type": "code",
   "execution_count": null,
   "metadata": {
    "scrolled": false
   },
   "outputs": [],
   "source": [
    "for i in range(10):\n",
    "    title=['RR','DET','ADL','LDL','DEV','EDL','LMR','AVL','LVL','EVL']\n",
    "    plt.boxplot([corr0allcsf.reshape(9,15)[:,i], corr1allcsf.reshape(9,15)[:,i]], labels=['No', 'Yes'])\n",
    "    plt.xlabel('Group')\n",
    "    plt.title(title[i])\n",
    "    plt.grid(True)\n",
    "    plt.show()\n",
    "    t_statistic, p_value = ttest_ind(corr0allcsf.reshape(9,15)[:,i], corr1allcsf.reshape(9,15)[:,i])\n",
    "    print(p_value)"
   ]
  },
  {
   "cell_type": "code",
   "execution_count": null,
   "metadata": {
    "scrolled": true
   },
   "outputs": [],
   "source": [
    "for i in range(10):\n",
    "    title=['RR','DET','ADL','LDL','DEV','EDL','LMR','AVL','LVL','EVL']\n",
    "    plt.boxplot([corr0allcre.reshape(9,15)[:,i], corr1allcre.reshape(9,15)[:,i]], labels=['No', 'Yes'])\n",
    "    plt.xlabel('Group')\n",
    "    plt.title(title[i])\n",
    "    plt.grid(True)\n",
    "    plt.show()\n",
    "    t_statistic, p_value = ttest_ind(corr0allcre.reshape(9,15)[:,i], corr1allcre.reshape(9,15)[:,i])\n",
    "    print(p_value)"
   ]
  },
  {
   "cell_type": "code",
   "execution_count": null,
   "metadata": {
    "scrolled": false
   },
   "outputs": [],
   "source": [
    "for i in range(10):\n",
    "    title=['RR','DET','ADL','LDL','DEV','EDL','LMR','AVL','LVL','EVL']\n",
    "    plt.boxplot([corr0allm.reshape(9,15)[:,i], corr1allm.reshape(9,15)[:,i]], labels=['No', 'Yes'])\n",
    "    plt.xlabel('Group')\n",
    "    plt.title(title[i])\n",
    "    plt.grid(True)\n",
    "    plt.show()\n",
    "    t_statistic, p_value = ttest_ind(corr0allm.reshape(9,15)[:,i], corr1allm.reshape(9,15)[:,i])\n",
    "    print(p_value)"
   ]
  },
  {
   "cell_type": "code",
   "execution_count": null,
   "metadata": {
    "scrolled": false
   },
   "outputs": [],
   "source": [
    "for i in range(10):\n",
    "    title=['RR','DET','ADL','LDL','DEV','EDL','LMR','AVL','LVL','EVL']\n",
    "    plt.boxplot([corr0allmfp.reshape(9,15)[:,i], corr1allmfp.reshape(9,15)[:,i]], labels=['No', 'Yes'])\n",
    "    plt.xlabel('Group')\n",
    "    plt.title(title[i])\n",
    "    plt.grid(True)\n",
    "    plt.show()\n",
    "    t_statistic, p_value = ttest_ind(corr0allmfp.reshape(9,15)[:,i], corr1allmfp.reshape(9,15)[:,i])\n",
    "    print(p_value)"
   ]
  },
  {
   "cell_type": "code",
   "execution_count": null,
   "metadata": {
    "scrolled": false
   },
   "outputs": [],
   "source": [
    "for i in range(10):\n",
    "    title=['RR','DET','ADL','LDL','DEV','EDL','LMR','AVL','LVL','EVL']\n",
    "    plt.boxplot([corr0allmsf.reshape(9,15)[:,i], corr1allmsf.reshape(9,15)[:,i]], labels=['No', 'Yes'])\n",
    "    plt.xlabel('Group')\n",
    "    plt.title(title[i])\n",
    "    plt.grid(True)\n",
    "    plt.show()\n",
    "    t_statistic, p_value = ttest_ind(corr0allmsf.reshape(9,15)[:,i], corr1allmsf.reshape(9,15)[:,i])\n",
    "    print(p_value)"
   ]
  },
  {
   "cell_type": "code",
   "execution_count": null,
   "metadata": {
    "scrolled": true
   },
   "outputs": [],
   "source": [
    "for i in range(10):\n",
    "    title=['RR','DET','ADL','LDL','DEV','EDL','LMR','AVL','LVL','EVL']\n",
    "    plt.boxplot([corr0allmre.reshape(9,15)[:,i], corr1allmre.reshape(9,15)[:,i]], labels=['No', 'Yes'])\n",
    "    plt.xlabel('Group')\n",
    "    plt.title(title[i])\n",
    "    plt.grid(True)\n",
    "    plt.show()\n",
    "    t_statistic, p_value = ttest_ind(corr0allmre.reshape(9,15)[:,i], corr1allmre.reshape(9,15)[:,i])\n",
    "    print(p_value)"
   ]
  },
  {
   "cell_type": "code",
   "execution_count": null,
   "metadata": {
    "scrolled": true
   },
   "outputs": [],
   "source": [
    "for i in range(10):\n",
    "    title=['RR','DET','ADL','LDL','DEV','EDL','LMR','AVL','LVL','EVL']\n",
    "    plt.boxplot([corr0allr.reshape(9,15)[:,i], corr1allr.reshape(9,15)[:,i]], labels=['No', 'Yes'])\n",
    "    plt.xlabel('Group')\n",
    "    plt.title(title[i])\n",
    "    plt.grid(True)\n",
    "    plt.show()\n",
    "    t_statistic, p_value = ttest_ind(corr0allr.reshape(9,15)[:,i], corr1allr.reshape(9,15)[:,i])\n",
    "    print(p_value)"
   ]
  },
  {
   "cell_type": "code",
   "execution_count": null,
   "metadata": {},
   "outputs": [],
   "source": [
    "for i in range(10):\n",
    "    title=['RR','DET','ADL','LDL','DEV','EDL','LMR','AVL','LVL','EVL']\n",
    "    plt.boxplot([corr0allrfp.reshape(9,15)[:,i], corr1allrfp.reshape(9,15)[:,i]], labels=['No', 'Yes'])\n",
    "    plt.xlabel('Group')\n",
    "    plt.title(title[i])\n",
    "    plt.grid(True)\n",
    "    plt.show()\n",
    "    t_statistic, p_value = ttest_ind(corr0allrfp.reshape(9,15)[:,i], corr1allrfp.reshape(9,15)[:,i])\n",
    "    print(p_value)"
   ]
  },
  {
   "cell_type": "code",
   "execution_count": null,
   "metadata": {},
   "outputs": [],
   "source": [
    "for i in range(10):\n",
    "    title=['RR','DET','ADL','LDL','DEV','EDL','LMR','AVL','LVL','EVL']\n",
    "    plt.boxplot([corr0allrsf.reshape(9,15)[:,i], corr1allrsf.reshape(9,15)[:,i]], labels=['No', 'Yes'])\n",
    "    plt.xlabel('Group')\n",
    "    plt.title(title[i])\n",
    "    plt.grid(True)\n",
    "    plt.show()\n",
    "    t_statistic, p_value = ttest_ind(corr0allrsf.reshape(9,15)[:,i], corr1allrsf.reshape(9,15)[:,i])\n",
    "    print(p_value)"
   ]
  },
  {
   "cell_type": "code",
   "execution_count": null,
   "metadata": {},
   "outputs": [],
   "source": [
    "for i in range(10):\n",
    "    title=['RR','DET','ADL','LDL','DEV','EDL','LMR','AVL','LVL','EVL']\n",
    "    plt.boxplot([corr0allrre.reshape(9,15)[:,i], corr1allrre.reshape(9,15)[:,i]], labels=['No', 'Yes'])\n",
    "    plt.xlabel('Group')\n",
    "    plt.title(title[i])\n",
    "    plt.grid(True)\n",
    "    plt.show()\n",
    "    t_statistic, p_value = ttest_ind(corr0allrre.reshape(9,15)[:,i], corr1allrre.reshape(9,15)[:,i])\n",
    "    print(p_value)"
   ]
  },
  {
   "cell_type": "code",
   "execution_count": null,
   "metadata": {
    "scrolled": true
   },
   "outputs": [],
   "source": [
    "for i in range(10):\n",
    "    title=['RR','DET','ADL','LDL','DEV','EDL','LMR','AVL','LVL','EVL']\n",
    "    plt.boxplot([corr0allj.reshape(9,15)[:,i], corr1allj.reshape(9,15)[:,i]], labels=['No', 'Yes'])\n",
    "    plt.xlabel('Group')\n",
    "    plt.title(title[i])\n",
    "    plt.grid(True)\n",
    "    plt.show()\n",
    "    t_statistic, p_value = ttest_ind(corr0allj.reshape(9,15)[:,i], corr1allj.reshape(9,15)[:,i])\n",
    "    print(p_value)"
   ]
  },
  {
   "cell_type": "code",
   "execution_count": null,
   "metadata": {
    "scrolled": false
   },
   "outputs": [],
   "source": [
    "for i in range(10):\n",
    "    title=['RR','DET','ADL','LDL','DEV','EDL','LMR','AVL','LVL','EVL']\n",
    "    plt.boxplot([corr0alljfp.reshape(9,15)[:,i], corr1alljfp.reshape(9,15)[:,i]], labels=['No', 'Yes'])\n",
    "    plt.xlabel('Group')\n",
    "    plt.title(title[i])\n",
    "    plt.grid(True)\n",
    "    plt.show()\n",
    "    t_statistic, p_value = ttest_ind(corr0alljfp.reshape(9,15)[:,i], corr1alljfp.reshape(9,15)[:,i])\n",
    "    print(p_value)"
   ]
  },
  {
   "cell_type": "code",
   "execution_count": null,
   "metadata": {
    "scrolled": false
   },
   "outputs": [],
   "source": [
    "for i in range(10):\n",
    "    title=['RR','DET','ADL','LDL','DEV','EDL','LMR','AVL','LVL','EVL']\n",
    "    plt.boxplot([corr0alljsf.reshape(9,15)[:,i], corr1alljsf.reshape(9,15)[:,i]], labels=['No', 'Yes'])\n",
    "    plt.xlabel('Group')\n",
    "    plt.title(title[i])\n",
    "    plt.grid(True)\n",
    "    plt.show()\n",
    "    t_statistic, p_value = ttest_ind(corr0alljsf.reshape(9,15)[:,i], corr1alljsf.reshape(9,15)[:,i])\n",
    "    print(p_value)"
   ]
  },
  {
   "cell_type": "code",
   "execution_count": null,
   "metadata": {
    "scrolled": false
   },
   "outputs": [],
   "source": [
    "for i in range(10):\n",
    "    title=['RR','DET','ADL','LDL','DEV','EDL','LMR','AVL','LVL','EVL']\n",
    "    plt.boxplot([corr0alljre.reshape(9,15)[:,i], corr1alljre.reshape(9,15)[:,i]], labels=['No', 'Yes'])\n",
    "    plt.xlabel('Group')\n",
    "    plt.title(title[i])\n",
    "    plt.grid(True)\n",
    "    plt.show()\n",
    "    t_statistic, p_value = ttest_ind(corr0alljre.reshape(9,15)[:,i], corr1alljre.reshape(9,15)[:,i])\n",
    "    print(p_value)"
   ]
  }
 ],
 "metadata": {
  "kernelspec": {
   "display_name": "Python 3 (ipykernel)",
   "language": "python",
   "name": "python3"
  },
  "language_info": {
   "codemirror_mode": {
    "name": "ipython",
    "version": 3
   },
   "file_extension": ".py",
   "mimetype": "text/x-python",
   "name": "python",
   "nbconvert_exporter": "python",
   "pygments_lexer": "ipython3",
   "version": "3.9.13"
  }
 },
 "nbformat": 4,
 "nbformat_minor": 4
}
