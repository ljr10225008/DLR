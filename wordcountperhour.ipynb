{
 "cells": [
  {
   "cell_type": "code",
   "execution_count": 1,
   "metadata": {},
   "outputs": [
    {
     "name": "stderr",
     "output_type": "stream",
     "text": [
      "C:\\Users\\ljr\\anaconda3\\lib\\site-packages\\pandas\\core\\computation\\expressions.py:20: UserWarning: Pandas requires version '2.7.3' or newer of 'numexpr' (version '2.7.1' currently installed).\n",
      "  from pandas.core.computation.check import NUMEXPR_INSTALLED\n"
     ]
    }
   ],
   "source": [
    "import os\n",
    "import numpy as np\n",
    "import pandas as pd"
   ]
  },
  {
   "cell_type": "code",
   "execution_count": 2,
   "metadata": {},
   "outputs": [],
   "source": [
    "idpath = r\"F:\\DLR\\Keio\\ALICE outputs\\ALICE outputs\"\n",
    "idlist= os.listdir(idpath)"
   ]
  },
  {
   "cell_type": "code",
   "execution_count": 3,
   "metadata": {},
   "outputs": [
    {
     "name": "stdout",
     "output_type": "stream",
     "text": [
      "['.DS_Store', 'TC43-06_d1']\n"
     ]
    }
   ],
   "source": [
    "idlist.sort()\n",
    "print(idlist)"
   ]
  },
  {
   "cell_type": "code",
   "execution_count": 12,
   "metadata": {},
   "outputs": [],
   "source": [
    "wordc=np.zeros((len(idlist),12), dtype=object)"
   ]
  },
  {
   "cell_type": "code",
   "execution_count": 6,
   "metadata": {},
   "outputs": [],
   "source": [
    "def kchi(file_name):\n",
    "    num=0\n",
    "    numa=0\n",
    "    i=0 \n",
    "    with open(file_name, 'r', encoding='utf-8') as f: \n",
    "        lines = f.readlines()\n",
    "        line_n=len(lines)\n",
    "        startp=np.zeros((line_n,1))\n",
    "        duration=np.zeros((line_n,1))\n",
    "        who=[np.nan]*line_n\n",
    "    with open(file_name, 'r', encoding='utf-8') as f:\n",
    "        for line in f:\n",
    "            line=line.split(' ')\n",
    "            startp[i]=line[3] #start of an utterance\n",
    "            duration[i]=line[4] #duration of an utterance\n",
    "            who[i]=line[7] #who is the speaker of an utterance\n",
    "            if who[i]=='KCHI':\n",
    "                num=num+1\n",
    "            if who[i]=='FEM'or who[i]=='MAL':\n",
    "                numa=numa+1\n",
    "            i=i+1\n",
    "    return num,numa"
   ]
  },
  {
   "cell_type": "code",
   "execution_count": 13,
   "metadata": {},
   "outputs": [],
   "source": [
    "for i in range(len(idlist)):\n",
    "    if idlist[i] == '.DS_Store': #ignore the .DS_Store folder made by Mac OS\n",
    "        continue\n",
    "    aaa=idlist[i]\n",
    "    wordc[i,0]=aaa\n",
    "    p=0\n",
    "    s=0\n",
    "    w=0\n",
    "    u_i=0\n",
    "    u_a=0\n",
    "    path=idpath+\"\\\\\"+aaa\n",
    "    files=os.listdir(path)\n",
    "    hour=len(files)/2\n",
    "    #print(hour)\n",
    "    for j in range(len(files)):\n",
    "        filename=path+\"\\\\\"+files[j]+\"\\\\\"+'ALICE_output.txt'\n",
    "        sfilename=path+\"\\\\\"+files[j]+\"\\\\\"+'diarization_output.rttm'\n",
    "        df=pd.read_table(filename)\n",
    "        p=p+int(df[' phonemes '])\n",
    "        s=s+int(df[' syllables '])\n",
    "        w=w+int(df[' words'])\n",
    "        ui,ua=kchi(sfilename)\n",
    "        u_a=u_a+ua\n",
    "        u_i=u_i+ui\n",
    "    wordc[i,1]=p\n",
    "    wordc[i,2]=s\n",
    "    wordc[i,3]=w\n",
    "    wordc[i,4]=u_a\n",
    "    wordc[i,5]=u_i\n",
    "    wordc[i,6]=hour\n",
    "    wordc[i,7]=p/hour\n",
    "    wordc[i,8]=s/hour\n",
    "    wordc[i,9]=w/hour\n",
    "    wordc[i,10]=u_a/hour\n",
    "    wordc[i,11]=u_i/hour"
   ]
  },
  {
   "cell_type": "code",
   "execution_count": 15,
   "metadata": {},
   "outputs": [],
   "source": [
    "allsp=pd.DataFrame(wordc)\n",
    "allsp.columns=['ID','phonemes','syllables','words','utterance_a','utterance_i','time','phonemes/h','syllables/h','words/h','utterance_a/h','utterance_i/h']\n",
    "pathsave=r\"F:\\DLR\\Keio\\wordcoutputs\"\n",
    "allsp.to_csv(pathsave+\"\\\\\"+'example.csv')"
   ]
  }
 ],
 "metadata": {
  "kernelspec": {
   "display_name": "Python 3",
   "language": "python",
   "name": "python3"
  },
  "language_info": {
   "codemirror_mode": {
    "name": "ipython",
    "version": 3
   },
   "file_extension": ".py",
   "mimetype": "text/x-python",
   "name": "python",
   "nbconvert_exporter": "python",
   "pygments_lexer": "ipython3",
   "version": "3.8.5"
  }
 },
 "nbformat": 4,
 "nbformat_minor": 4
}
