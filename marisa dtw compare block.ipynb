{
 "cells": [
  {
   "cell_type": "code",
   "execution_count": 1,
   "metadata": {},
   "outputs": [
    {
     "name": "stderr",
     "output_type": "stream",
     "text": [
      "C:\\Users\\ljr\\anaconda3\\lib\\site-packages\\pandas\\core\\computation\\expressions.py:20: UserWarning: Pandas requires version '2.7.3' or newer of 'numexpr' (version '2.7.1' currently installed).\n",
      "  from pandas.core.computation.check import NUMEXPR_INSTALLED\n"
     ]
    }
   ],
   "source": [
    "import math\n",
    "import numpy as np\n",
    "import sklearn\n",
    "from sklearn.cluster import KMeans\n",
    "import matplotlib as mpl\n",
    "import matplotlib.pyplot as plt\n",
    "import librosa\n",
    "import librosa.display\n",
    "import os\n",
    "import re\n",
    "import seaborn as sns\n",
    "import pandas as pd\n",
    "import random\n",
    "from scipy import stats  #t-test\n",
    "import semopy\n",
    "import pandas as pd\n",
    "from semopy import Model\n",
    "import scipy.stats as stats \n",
    "from itertools import groupby\n",
    "from scipy.spatial.distance import euclidean\n",
    "from fastdtw import fastdtw\n",
    "from scipy.interpolate import interp1d\n",
    "import statsmodels.formula.api as smf\n",
    "import statsmodels.api as sm"
   ]
  },
  {
   "cell_type": "code",
   "execution_count": 2,
   "metadata": {},
   "outputs": [],
   "source": [
    "plt.rc('font',family='Times New Roman')"
   ]
  },
  {
   "cell_type": "code",
   "execution_count": 3,
   "metadata": {},
   "outputs": [],
   "source": [
    "pathturn11 = r\"C:\\LJR\\babylab\\marisa\\datamanual\\cut\\0643\\turntaking\\block\\fa\\turn1\"\n",
    "filesturn11= os.listdir(pathturn11)\n",
    "pathturn12 = r\"C:\\LJR\\babylab\\marisa\\datamanual\\cut\\0643\\turntaking\\block\\fa\\turn2\"\n",
    "filesturn12= os.listdir(pathturn12)\n",
    "pathturn13 = r\"C:\\LJR\\babylab\\marisa\\datamanual\\cut\\0643\\turntaking\\block\\fa\\turn3\"\n",
    "filesturn13= os.listdir(pathturn13)\n",
    "pathturn14 = r\"C:\\LJR\\babylab\\marisa\\datamanual\\cut\\0643\\turntaking\\block\\fa\\turn4\"\n",
    "filesturn14= os.listdir(pathturn14)\n",
    "pathturn15 = r\"C:\\LJR\\babylab\\marisa\\datamanual\\cut\\0643\\turntaking\\block\\fa\\turn5\"\n",
    "filesturn15= os.listdir(pathturn15)\n",
    "\n",
    "pathturn11c = r\"C:\\LJR\\babylab\\marisa\\datamanual\\cut\\0643\\turntaking\\block\\chi\\turn1\"\n",
    "filesturn11c= os.listdir(pathturn11c)\n",
    "pathturn12c = r\"C:\\LJR\\babylab\\marisa\\datamanual\\cut\\0643\\turntaking\\block\\chi\\turn2\"\n",
    "filesturn12c= os.listdir(pathturn12c)\n",
    "pathturn13c = r\"C:\\LJR\\babylab\\marisa\\datamanual\\cut\\0643\\turntaking\\block\\chi\\turn3\"\n",
    "filesturn13c= os.listdir(pathturn13c)\n",
    "pathturn14c = r\"C:\\LJR\\babylab\\marisa\\datamanual\\cut\\0643\\turntaking\\block\\chi\\turn4\"\n",
    "filesturn14c= os.listdir(pathturn14c)\n",
    "pathturn15c = r\"C:\\LJR\\babylab\\marisa\\datamanual\\cut\\0643\\turntaking\\block\\chi\\turn5\"\n",
    "filesturn15c= os.listdir(pathturn15c)"
   ]
  },
  {
   "cell_type": "code",
   "execution_count": 4,
   "metadata": {},
   "outputs": [],
   "source": [
    "pathturn21 = r\"C:\\LJR\\babylab\\marisa\\datamanual\\cut\\2109\\turntaking\\block\\fa\\turn1\"\n",
    "filesturn21= os.listdir(pathturn21)\n",
    "pathturn22 = r\"C:\\LJR\\babylab\\marisa\\datamanual\\cut\\2109\\turntaking\\block\\fa\\turn2\"\n",
    "filesturn22= os.listdir(pathturn22)\n",
    "pathturn23 = r\"C:\\LJR\\babylab\\marisa\\datamanual\\cut\\2109\\turntaking\\block\\fa\\turn3\"\n",
    "filesturn23= os.listdir(pathturn23)\n",
    "pathturn24 = r\"C:\\LJR\\babylab\\marisa\\datamanual\\cut\\2109\\turntaking\\block\\fa\\turn4\"\n",
    "filesturn24= os.listdir(pathturn24)\n",
    "pathturn25 = r\"C:\\LJR\\babylab\\marisa\\datamanual\\cut\\2109\\turntaking\\block\\fa\\turn5\"\n",
    "filesturn25= os.listdir(pathturn25)\n",
    "pathturn26 = r\"C:\\LJR\\babylab\\marisa\\datamanual\\cut\\2109\\turntaking\\block\\fa\\turn6\"\n",
    "filesturn26= os.listdir(pathturn26)\n",
    "\n",
    "pathturn21c = r\"C:\\LJR\\babylab\\marisa\\datamanual\\cut\\2109\\turntaking\\block\\chi\\turn1\"\n",
    "filesturn21c= os.listdir(pathturn21c)\n",
    "pathturn22c = r\"C:\\LJR\\babylab\\marisa\\datamanual\\cut\\2109\\turntaking\\block\\chi\\turn2\"\n",
    "filesturn22c= os.listdir(pathturn22c)\n",
    "pathturn23c = r\"C:\\LJR\\babylab\\marisa\\datamanual\\cut\\2109\\turntaking\\block\\chi\\turn3\"\n",
    "filesturn23c= os.listdir(pathturn23c)\n",
    "pathturn24c = r\"C:\\LJR\\babylab\\marisa\\datamanual\\cut\\2109\\turntaking\\block\\chi\\turn4\"\n",
    "filesturn24c= os.listdir(pathturn24c)\n",
    "pathturn25c = r\"C:\\LJR\\babylab\\marisa\\datamanual\\cut\\2109\\turntaking\\block\\chi\\turn5\"\n",
    "filesturn25c= os.listdir(pathturn25c)\n",
    "pathturn26c = r\"C:\\LJR\\babylab\\marisa\\datamanual\\cut\\2109\\turntaking\\block\\chi\\turn6\"\n",
    "filesturn26c= os.listdir(pathturn26c)"
   ]
  },
  {
   "cell_type": "code",
   "execution_count": 5,
   "metadata": {},
   "outputs": [],
   "source": [
    "#print(len(filesturn21),len(filesturn22),len(filesturn23),len(filesturn24),len(filesturn25),len(filesturn26))"
   ]
  },
  {
   "cell_type": "code",
   "execution_count": 6,
   "metadata": {},
   "outputs": [],
   "source": [
    "pathturn31 = r\"C:\\LJR\\babylab\\marisa\\datamanual\\cut\\2625\\turntaking\\block\\fa\\turn1\"\n",
    "filesturn31= os.listdir(pathturn31)\n",
    "pathturn32 = r\"C:\\LJR\\babylab\\marisa\\datamanual\\cut\\2625\\turntaking\\block\\fa\\turn2\"\n",
    "filesturn32= os.listdir(pathturn32)\n",
    "pathturn33 = r\"C:\\LJR\\babylab\\marisa\\datamanual\\cut\\2625\\turntaking\\block\\fa\\turn3\"\n",
    "filesturn33= os.listdir(pathturn33)\n",
    "pathturn34 = r\"C:\\LJR\\babylab\\marisa\\datamanual\\cut\\2625\\turntaking\\block\\fa\\turn4\"\n",
    "filesturn34= os.listdir(pathturn34)\n",
    "pathturn35 = r\"C:\\LJR\\babylab\\marisa\\datamanual\\cut\\2625\\turntaking\\block\\fa\\turn5\"\n",
    "filesturn35= os.listdir(pathturn35)\n",
    "pathturn36 = r\"C:\\LJR\\babylab\\marisa\\datamanual\\cut\\2625\\turntaking\\block\\fa\\turn6\"\n",
    "filesturn36= os.listdir(pathturn36)\n",
    "pathturn37 = r\"C:\\LJR\\babylab\\marisa\\datamanual\\cut\\2625\\turntaking\\block\\fa\\turn7\"\n",
    "filesturn37= os.listdir(pathturn37)\n",
    "pathturn38 = r\"C:\\LJR\\babylab\\marisa\\datamanual\\cut\\2625\\turntaking\\block\\fa\\turn8\"\n",
    "filesturn38= os.listdir(pathturn38)\n",
    "pathturn39 = r\"C:\\LJR\\babylab\\marisa\\datamanual\\cut\\2625\\turntaking\\block\\fa\\turn9\"\n",
    "filesturn39= os.listdir(pathturn39)\n",
    "pathturn310 = r\"C:\\LJR\\babylab\\marisa\\datamanual\\cut\\2625\\turntaking\\block\\fa\\turn10\"\n",
    "filesturn310= os.listdir(pathturn310)\n",
    "\n",
    "\n",
    "pathturn31c = r\"C:\\LJR\\babylab\\marisa\\datamanual\\cut\\2625\\turntaking\\block\\chi\\turn1\"\n",
    "filesturn31c= os.listdir(pathturn31c)\n",
    "pathturn32c = r\"C:\\LJR\\babylab\\marisa\\datamanual\\cut\\2625\\turntaking\\block\\chi\\turn2\"\n",
    "filesturn32c= os.listdir(pathturn32c)\n",
    "pathturn33c = r\"C:\\LJR\\babylab\\marisa\\datamanual\\cut\\2625\\turntaking\\block\\chi\\turn3\"\n",
    "filesturn33c= os.listdir(pathturn33c)\n",
    "pathturn34c = r\"C:\\LJR\\babylab\\marisa\\datamanual\\cut\\2625\\turntaking\\block\\chi\\turn4\"\n",
    "filesturn34c= os.listdir(pathturn34c)\n",
    "pathturn35c = r\"C:\\LJR\\babylab\\marisa\\datamanual\\cut\\2625\\turntaking\\block\\chi\\turn5\"\n",
    "filesturn35c= os.listdir(pathturn35c)\n",
    "pathturn36c = r\"C:\\LJR\\babylab\\marisa\\datamanual\\cut\\2625\\turntaking\\block\\chi\\turn6\"\n",
    "filesturn36c= os.listdir(pathturn36c)\n",
    "pathturn37c = r\"C:\\LJR\\babylab\\marisa\\datamanual\\cut\\2625\\turntaking\\block\\chi\\turn7\"\n",
    "filesturn37c= os.listdir(pathturn37c)\n",
    "pathturn38c = r\"C:\\LJR\\babylab\\marisa\\datamanual\\cut\\2625\\turntaking\\block\\chi\\turn8\"\n",
    "filesturn38c= os.listdir(pathturn38c)\n",
    "pathturn39c = r\"C:\\LJR\\babylab\\marisa\\datamanual\\cut\\2625\\turntaking\\block\\chi\\turn9\"\n",
    "filesturn39c= os.listdir(pathturn39c)\n",
    "pathturn310c = r\"C:\\LJR\\babylab\\marisa\\datamanual\\cut\\2625\\turntaking\\block\\chi\\turn10\"\n",
    "filesturn310c= os.listdir(pathturn310c)\n"
   ]
  },
  {
   "cell_type": "code",
   "execution_count": 7,
   "metadata": {},
   "outputs": [
    {
     "name": "stdout",
     "output_type": "stream",
     "text": [
      "4 25 3 2 4 1\n",
      "1 1 1 2\n"
     ]
    }
   ],
   "source": [
    "print(len(filesturn31),len(filesturn32),len(filesturn33),len(filesturn34),len(filesturn35),len(filesturn36))\n",
    "print(len(filesturn37),len(filesturn38),len(filesturn39),len(filesturn310))"
   ]
  },
  {
   "cell_type": "code",
   "execution_count": 8,
   "metadata": {},
   "outputs": [],
   "source": [
    "pathturn41 = r\"C:\\LJR\\babylab\\marisa\\datamanual\\cut\\3026\\turntaking\\block\\fa\\turn1\"\n",
    "filesturn41= os.listdir(pathturn41)\n",
    "pathturn42 = r\"C:\\LJR\\babylab\\marisa\\datamanual\\cut\\3026\\turntaking\\block\\fa\\turn2\"\n",
    "filesturn42= os.listdir(pathturn42)\n",
    "pathturn43 = r\"C:\\LJR\\babylab\\marisa\\datamanual\\cut\\3026\\turntaking\\block\\fa\\turn3\"\n",
    "filesturn43= os.listdir(pathturn43)\n",
    "pathturn44 = r\"C:\\LJR\\babylab\\marisa\\datamanual\\cut\\3026\\turntaking\\block\\fa\\turn4\"\n",
    "filesturn44= os.listdir(pathturn44)\n",
    "pathturn45 = r\"C:\\LJR\\babylab\\marisa\\datamanual\\cut\\3026\\turntaking\\block\\fa\\turn5\"\n",
    "filesturn45= os.listdir(pathturn45)\n",
    "pathturn46 = r\"C:\\LJR\\babylab\\marisa\\datamanual\\cut\\3026\\turntaking\\block\\fa\\turn6\"\n",
    "filesturn46= os.listdir(pathturn46)\n",
    "pathturn47 = r\"C:\\LJR\\babylab\\marisa\\datamanual\\cut\\3026\\turntaking\\block\\fa\\turn7\"\n",
    "filesturn47= os.listdir(pathturn47)\n",
    "pathturn48 = r\"C:\\LJR\\babylab\\marisa\\datamanual\\cut\\3026\\turntaking\\block\\fa\\turn8\"\n",
    "filesturn48= os.listdir(pathturn48)\n",
    "pathturn49 = r\"C:\\LJR\\babylab\\marisa\\datamanual\\cut\\3026\\turntaking\\block\\fa\\turn9\"\n",
    "filesturn49= os.listdir(pathturn49)\n",
    "pathturn410 = r\"C:\\LJR\\babylab\\marisa\\datamanual\\cut\\3026\\turntaking\\block\\fa\\turn10\"\n",
    "filesturn410= os.listdir(pathturn410)\n",
    "pathturn411 = r\"C:\\LJR\\babylab\\marisa\\datamanual\\cut\\3026\\turntaking\\block\\fa\\turn11\"\n",
    "filesturn411= os.listdir(pathturn411)\n",
    "pathturn412 = r\"C:\\LJR\\babylab\\marisa\\datamanual\\cut\\3026\\turntaking\\block\\fa\\turn12\"\n",
    "filesturn412= os.listdir(pathturn412)\n",
    "pathturn413 = r\"C:\\LJR\\babylab\\marisa\\datamanual\\cut\\3026\\turntaking\\block\\fa\\turn13\"\n",
    "filesturn413= os.listdir(pathturn413)\n",
    "pathturn414 = r\"C:\\LJR\\babylab\\marisa\\datamanual\\cut\\3026\\turntaking\\block\\fa\\turn14\"\n",
    "filesturn414= os.listdir(pathturn414)\n",
    "\n",
    "pathturn41c = r\"C:\\LJR\\babylab\\marisa\\datamanual\\cut\\3026\\turntaking\\block\\chi\\turn1\"\n",
    "filesturn41c= os.listdir(pathturn41c)\n",
    "pathturn42c = r\"C:\\LJR\\babylab\\marisa\\datamanual\\cut\\3026\\turntaking\\block\\chi\\turn2\"\n",
    "filesturn42c= os.listdir(pathturn42c)\n",
    "pathturn43c = r\"C:\\LJR\\babylab\\marisa\\datamanual\\cut\\3026\\turntaking\\block\\chi\\turn3\"\n",
    "filesturn43c= os.listdir(pathturn43c)\n",
    "pathturn44c = r\"C:\\LJR\\babylab\\marisa\\datamanual\\cut\\3026\\turntaking\\block\\chi\\turn4\"\n",
    "filesturn44c= os.listdir(pathturn44c)\n",
    "pathturn45c = r\"C:\\LJR\\babylab\\marisa\\datamanual\\cut\\3026\\turntaking\\block\\chi\\turn5\"\n",
    "filesturn45c= os.listdir(pathturn45c)\n",
    "pathturn46c = r\"C:\\LJR\\babylab\\marisa\\datamanual\\cut\\3026\\turntaking\\block\\chi\\turn6\"\n",
    "filesturn46c= os.listdir(pathturn46c)\n",
    "pathturn47c = r\"C:\\LJR\\babylab\\marisa\\datamanual\\cut\\3026\\turntaking\\block\\chi\\turn7\"\n",
    "filesturn47c= os.listdir(pathturn47c)\n",
    "pathturn48c = r\"C:\\LJR\\babylab\\marisa\\datamanual\\cut\\3026\\turntaking\\block\\chi\\turn8\"\n",
    "filesturn48c= os.listdir(pathturn48c)\n",
    "pathturn49c = r\"C:\\LJR\\babylab\\marisa\\datamanual\\cut\\3026\\turntaking\\block\\chi\\turn9\"\n",
    "filesturn49c= os.listdir(pathturn49c)\n",
    "pathturn410c = r\"C:\\LJR\\babylab\\marisa\\datamanual\\cut\\3026\\turntaking\\block\\chi\\turn10\"\n",
    "filesturn410c= os.listdir(pathturn410c)\n",
    "pathturn411c = r\"C:\\LJR\\babylab\\marisa\\datamanual\\cut\\3026\\turntaking\\block\\chi\\turn11\"\n",
    "filesturn411c= os.listdir(pathturn411c)\n",
    "pathturn412c = r\"C:\\LJR\\babylab\\marisa\\datamanual\\cut\\3026\\turntaking\\block\\chi\\turn12\"\n",
    "filesturn412c= os.listdir(pathturn412c)\n",
    "pathturn413c = r\"C:\\LJR\\babylab\\marisa\\datamanual\\cut\\3026\\turntaking\\block\\chi\\turn13\"\n",
    "filesturn413c= os.listdir(pathturn413c)\n",
    "pathturn414c = r\"C:\\LJR\\babylab\\marisa\\datamanual\\cut\\3026\\turntaking\\block\\chi\\turn14\"\n",
    "filesturn414c= os.listdir(pathturn414c)"
   ]
  },
  {
   "cell_type": "code",
   "execution_count": 9,
   "metadata": {},
   "outputs": [
    {
     "name": "stdout",
     "output_type": "stream",
     "text": [
      "2 2 2 2 4 1\n",
      "2 2 2 4 2 2 2 4\n"
     ]
    }
   ],
   "source": [
    "print(len(filesturn41),len(filesturn42),len(filesturn43),len(filesturn44),len(filesturn45),len(filesturn46))\n",
    "print(len(filesturn47),len(filesturn48),len(filesturn49),len(filesturn410),len(filesturn411),len(filesturn412),len(filesturn413),len(filesturn414))"
   ]
  },
  {
   "cell_type": "code",
   "execution_count": 10,
   "metadata": {},
   "outputs": [],
   "source": [
    "pathturn51 = r\"C:\\LJR\\babylab\\marisa\\datamanual\\cut\\6216\\turntaking\\block\\fa\\turn1\"\n",
    "filesturn51= os.listdir(pathturn51)\n",
    "pathturn52 = r\"C:\\LJR\\babylab\\marisa\\datamanual\\cut\\6216\\turntaking\\block\\fa\\turn2\"\n",
    "filesturn52= os.listdir(pathturn52)\n",
    "pathturn53 = r\"C:\\LJR\\babylab\\marisa\\datamanual\\cut\\6216\\turntaking\\block\\fa\\turn3\"\n",
    "filesturn53= os.listdir(pathturn53)\n",
    "pathturn54 = r\"C:\\LJR\\babylab\\marisa\\datamanual\\cut\\6216\\turntaking\\block\\fa\\turn4\"\n",
    "filesturn54= os.listdir(pathturn54)\n",
    "pathturn55 = r\"C:\\LJR\\babylab\\marisa\\datamanual\\cut\\6216\\turntaking\\block\\fa\\turn5\"\n",
    "filesturn55= os.listdir(pathturn55)\n",
    "pathturn56 = r\"C:\\LJR\\babylab\\marisa\\datamanual\\cut\\6216\\turntaking\\block\\fa\\turn6\"\n",
    "filesturn56= os.listdir(pathturn56)\n",
    "pathturn57 = r\"C:\\LJR\\babylab\\marisa\\datamanual\\cut\\6216\\turntaking\\block\\fa\\turn7\"\n",
    "filesturn57= os.listdir(pathturn57)\n",
    "pathturn58 = r\"C:\\LJR\\babylab\\marisa\\datamanual\\cut\\6216\\turntaking\\block\\fa\\turn8\"\n",
    "filesturn58= os.listdir(pathturn58)\n",
    "pathturn59 = r\"C:\\LJR\\babylab\\marisa\\datamanual\\cut\\6216\\turntaking\\block\\fa\\turn9\"\n",
    "filesturn59= os.listdir(pathturn59)\n",
    "pathturn510 = r\"C:\\LJR\\babylab\\marisa\\datamanual\\cut\\6216\\turntaking\\block\\fa\\turn10\"\n",
    "filesturn510= os.listdir(pathturn510)\n",
    "\n",
    "\n",
    "pathturn51c = r\"C:\\LJR\\babylab\\marisa\\datamanual\\cut\\6216\\turntaking\\block\\chi\\turn1\"\n",
    "filesturn51c= os.listdir(pathturn51c)\n",
    "pathturn52c = r\"C:\\LJR\\babylab\\marisa\\datamanual\\cut\\6216\\turntaking\\block\\chi\\turn2\"\n",
    "filesturn52c= os.listdir(pathturn52c)\n",
    "pathturn53c = r\"C:\\LJR\\babylab\\marisa\\datamanual\\cut\\6216\\turntaking\\block\\chi\\turn3\"\n",
    "filesturn53c= os.listdir(pathturn53c)\n",
    "pathturn54c = r\"C:\\LJR\\babylab\\marisa\\datamanual\\cut\\6216\\turntaking\\block\\chi\\turn4\"\n",
    "filesturn54c= os.listdir(pathturn54c)\n",
    "pathturn55c = r\"C:\\LJR\\babylab\\marisa\\datamanual\\cut\\6216\\turntaking\\block\\chi\\turn5\"\n",
    "filesturn55c= os.listdir(pathturn55c)\n",
    "pathturn56c = r\"C:\\LJR\\babylab\\marisa\\datamanual\\cut\\6216\\turntaking\\block\\chi\\turn6\"\n",
    "filesturn56c= os.listdir(pathturn56c)\n",
    "pathturn57c = r\"C:\\LJR\\babylab\\marisa\\datamanual\\cut\\6216\\turntaking\\block\\chi\\turn7\"\n",
    "filesturn57c= os.listdir(pathturn57c)\n",
    "pathturn58c = r\"C:\\LJR\\babylab\\marisa\\datamanual\\cut\\6216\\turntaking\\block\\chi\\turn8\"\n",
    "filesturn58c= os.listdir(pathturn58c)\n",
    "pathturn59c = r\"C:\\LJR\\babylab\\marisa\\datamanual\\cut\\6216\\turntaking\\block\\chi\\turn9\"\n",
    "filesturn59c= os.listdir(pathturn59c)\n",
    "pathturn510c = r\"C:\\LJR\\babylab\\marisa\\datamanual\\cut\\6216\\turntaking\\block\\chi\\turn10\"\n",
    "filesturn510c= os.listdir(pathturn510c)\n"
   ]
  },
  {
   "cell_type": "code",
   "execution_count": 11,
   "metadata": {},
   "outputs": [
    {
     "name": "stdout",
     "output_type": "stream",
     "text": [
      "['T1848.015.wav', 'T1850.83.wav', 'T1856.421.wav', 'T1859.348.wav'] ['1845.037.wav', '1849.559.wav', '1853.346.wav', '1858.105.wav', '1860.518.wav', '1862.781.wav']\n"
     ]
    }
   ],
   "source": [
    "print(filesturn56,filesturn56c)"
   ]
  },
  {
   "cell_type": "code",
   "execution_count": 12,
   "metadata": {},
   "outputs": [],
   "source": [
    "pathturn511 = r\"C:\\LJR\\babylab\\marisa\\datamanual\\cut\\6216\\turntaking\\block\\fa\\turn11\"\n",
    "filesturn511= os.listdir(pathturn511)\n",
    "pathturn512 = r\"C:\\LJR\\babylab\\marisa\\datamanual\\cut\\6216\\turntaking\\block\\fa\\turn12\"\n",
    "filesturn512= os.listdir(pathturn512)\n",
    "pathturn513 = r\"C:\\LJR\\babylab\\marisa\\datamanual\\cut\\6216\\turntaking\\block\\fa\\turn13\"\n",
    "filesturn513= os.listdir(pathturn513)\n",
    "pathturn514 = r\"C:\\LJR\\babylab\\marisa\\datamanual\\cut\\6216\\turntaking\\block\\fa\\turn14\"\n",
    "filesturn514= os.listdir(pathturn514)\n",
    "pathturn515 = r\"C:\\LJR\\babylab\\marisa\\datamanual\\cut\\6216\\turntaking\\block\\fa\\turn15\"\n",
    "filesturn515= os.listdir(pathturn515)\n",
    "pathturn516 = r\"C:\\LJR\\babylab\\marisa\\datamanual\\cut\\6216\\turntaking\\block\\fa\\turn16\"\n",
    "filesturn516= os.listdir(pathturn516)\n",
    "pathturn517 = r\"C:\\LJR\\babylab\\marisa\\datamanual\\cut\\6216\\turntaking\\block\\fa\\turn17\"\n",
    "filesturn517= os.listdir(pathturn517)\n",
    "pathturn518 = r\"C:\\LJR\\babylab\\marisa\\datamanual\\cut\\6216\\turntaking\\block\\fa\\turn18\"\n",
    "filesturn518= os.listdir(pathturn518)\n",
    "pathturn519 = r\"C:\\LJR\\babylab\\marisa\\datamanual\\cut\\6216\\turntaking\\block\\fa\\turn19\"\n",
    "filesturn519= os.listdir(pathturn519)\n",
    "pathturn520 = r\"C:\\LJR\\babylab\\marisa\\datamanual\\cut\\6216\\turntaking\\block\\fa\\turn20\"\n",
    "filesturn520= os.listdir(pathturn520)\n",
    "\n",
    "\n",
    "pathturn511c = r\"C:\\LJR\\babylab\\marisa\\datamanual\\cut\\6216\\turntaking\\block\\chi\\turn11\"\n",
    "filesturn511c= os.listdir(pathturn511c)\n",
    "pathturn512c = r\"C:\\LJR\\babylab\\marisa\\datamanual\\cut\\6216\\turntaking\\block\\chi\\turn12\"\n",
    "filesturn512c= os.listdir(pathturn512c)\n",
    "pathturn513c = r\"C:\\LJR\\babylab\\marisa\\datamanual\\cut\\6216\\turntaking\\block\\chi\\turn13\"\n",
    "filesturn513c= os.listdir(pathturn513c)\n",
    "pathturn514c = r\"C:\\LJR\\babylab\\marisa\\datamanual\\cut\\6216\\turntaking\\block\\chi\\turn14\"\n",
    "filesturn514c= os.listdir(pathturn514c)\n",
    "pathturn515c = r\"C:\\LJR\\babylab\\marisa\\datamanual\\cut\\6216\\turntaking\\block\\chi\\turn15\"\n",
    "filesturn515c= os.listdir(pathturn515c)\n",
    "pathturn516c = r\"C:\\LJR\\babylab\\marisa\\datamanual\\cut\\6216\\turntaking\\block\\chi\\turn16\"\n",
    "filesturn516c= os.listdir(pathturn516c)\n",
    "pathturn517c = r\"C:\\LJR\\babylab\\marisa\\datamanual\\cut\\6216\\turntaking\\block\\chi\\turn17\"\n",
    "filesturn517c= os.listdir(pathturn517c)\n",
    "pathturn518c = r\"C:\\LJR\\babylab\\marisa\\datamanual\\cut\\6216\\turntaking\\block\\chi\\turn18\"\n",
    "filesturn518c= os.listdir(pathturn518c)\n",
    "pathturn519c = r\"C:\\LJR\\babylab\\marisa\\datamanual\\cut\\6216\\turntaking\\block\\chi\\turn19\"\n",
    "filesturn519c= os.listdir(pathturn519c)\n",
    "pathturn520c = r\"C:\\LJR\\babylab\\marisa\\datamanual\\cut\\6216\\turntaking\\block\\chi\\turn20\"\n",
    "filesturn520c= os.listdir(pathturn520c)\n"
   ]
  },
  {
   "cell_type": "code",
   "execution_count": 13,
   "metadata": {},
   "outputs": [],
   "source": [
    "pathturn521 = r\"C:\\LJR\\babylab\\marisa\\datamanual\\cut\\6216\\turntaking\\block\\fa\\turn21\"\n",
    "filesturn521= os.listdir(pathturn521)\n",
    "pathturn522 = r\"C:\\LJR\\babylab\\marisa\\datamanual\\cut\\6216\\turntaking\\block\\fa\\turn22\"\n",
    "filesturn522= os.listdir(pathturn522)\n",
    "pathturn523 = r\"C:\\LJR\\babylab\\marisa\\datamanual\\cut\\6216\\turntaking\\block\\fa\\turn23\"\n",
    "filesturn523= os.listdir(pathturn523)\n",
    "pathturn524 = r\"C:\\LJR\\babylab\\marisa\\datamanual\\cut\\6216\\turntaking\\block\\fa\\turn24\"\n",
    "filesturn524= os.listdir(pathturn524)\n",
    "pathturn525 = r\"C:\\LJR\\babylab\\marisa\\datamanual\\cut\\6216\\turntaking\\block\\fa\\turn25\"\n",
    "filesturn525= os.listdir(pathturn525)\n",
    "pathturn526 = r\"C:\\LJR\\babylab\\marisa\\datamanual\\cut\\6216\\turntaking\\block\\fa\\turn26\"\n",
    "filesturn526= os.listdir(pathturn526)\n",
    "pathturn527 = r\"C:\\LJR\\babylab\\marisa\\datamanual\\cut\\6216\\turntaking\\block\\fa\\turn27\"\n",
    "filesturn527= os.listdir(pathturn527)\n",
    "pathturn528 = r\"C:\\LJR\\babylab\\marisa\\datamanual\\cut\\6216\\turntaking\\block\\fa\\turn28\"\n",
    "filesturn528= os.listdir(pathturn528)\n",
    "pathturn529 = r\"C:\\LJR\\babylab\\marisa\\datamanual\\cut\\6216\\turntaking\\block\\fa\\turn29\"\n",
    "filesturn529= os.listdir(pathturn529)\n",
    "pathturn530 = r\"C:\\LJR\\babylab\\marisa\\datamanual\\cut\\6216\\turntaking\\block\\fa\\turn30\"\n",
    "filesturn530= os.listdir(pathturn530)\n",
    "\n",
    "\n",
    "pathturn521c = r\"C:\\LJR\\babylab\\marisa\\datamanual\\cut\\6216\\turntaking\\block\\chi\\turn21\"\n",
    "filesturn521c= os.listdir(pathturn521c)\n",
    "pathturn522c = r\"C:\\LJR\\babylab\\marisa\\datamanual\\cut\\6216\\turntaking\\block\\chi\\turn22\"\n",
    "filesturn522c= os.listdir(pathturn522c)\n",
    "pathturn523c = r\"C:\\LJR\\babylab\\marisa\\datamanual\\cut\\6216\\turntaking\\block\\chi\\turn23\"\n",
    "filesturn523c= os.listdir(pathturn523c)\n",
    "pathturn524c = r\"C:\\LJR\\babylab\\marisa\\datamanual\\cut\\6216\\turntaking\\block\\chi\\turn24\"\n",
    "filesturn524c= os.listdir(pathturn524c)\n",
    "pathturn525c = r\"C:\\LJR\\babylab\\marisa\\datamanual\\cut\\6216\\turntaking\\block\\chi\\turn25\"\n",
    "filesturn525c= os.listdir(pathturn525c)\n",
    "pathturn526c = r\"C:\\LJR\\babylab\\marisa\\datamanual\\cut\\6216\\turntaking\\block\\chi\\turn26\"\n",
    "filesturn526c= os.listdir(pathturn526c)\n",
    "pathturn527c = r\"C:\\LJR\\babylab\\marisa\\datamanual\\cut\\6216\\turntaking\\block\\chi\\turn27\"\n",
    "filesturn527c= os.listdir(pathturn527c)\n",
    "pathturn528c = r\"C:\\LJR\\babylab\\marisa\\datamanual\\cut\\6216\\turntaking\\block\\chi\\turn28\"\n",
    "filesturn528c= os.listdir(pathturn528c)\n",
    "pathturn529c = r\"C:\\LJR\\babylab\\marisa\\datamanual\\cut\\6216\\turntaking\\block\\chi\\turn29\"\n",
    "filesturn529c= os.listdir(pathturn529c)\n",
    "pathturn530c = r\"C:\\LJR\\babylab\\marisa\\datamanual\\cut\\6216\\turntaking\\block\\chi\\turn30\"\n",
    "filesturn530c= os.listdir(pathturn530c)\n"
   ]
  },
  {
   "cell_type": "code",
   "execution_count": 14,
   "metadata": {},
   "outputs": [],
   "source": [
    "pathturn531 = r\"C:\\LJR\\babylab\\marisa\\datamanual\\cut\\6216\\turntaking\\block\\fa\\turn31\"\n",
    "filesturn531= os.listdir(pathturn531)\n",
    "pathturn532 = r\"C:\\LJR\\babylab\\marisa\\datamanual\\cut\\6216\\turntaking\\block\\fa\\turn32\"\n",
    "filesturn532= os.listdir(pathturn532)\n",
    "pathturn533 = r\"C:\\LJR\\babylab\\marisa\\datamanual\\cut\\6216\\turntaking\\block\\fa\\turn33\"\n",
    "filesturn533= os.listdir(pathturn533)\n",
    "pathturn534 = r\"C:\\LJR\\babylab\\marisa\\datamanual\\cut\\6216\\turntaking\\block\\fa\\turn34\"\n",
    "filesturn534= os.listdir(pathturn534)\n",
    "pathturn535 = r\"C:\\LJR\\babylab\\marisa\\datamanual\\cut\\6216\\turntaking\\block\\fa\\turn35\"\n",
    "filesturn535= os.listdir(pathturn535)\n",
    "pathturn536 = r\"C:\\LJR\\babylab\\marisa\\datamanual\\cut\\6216\\turntaking\\block\\fa\\turn36\"\n",
    "filesturn536= os.listdir(pathturn536)\n",
    "pathturn537 = r\"C:\\LJR\\babylab\\marisa\\datamanual\\cut\\6216\\turntaking\\block\\fa\\turn37\"\n",
    "filesturn537= os.listdir(pathturn537)\n",
    "pathturn538 = r\"C:\\LJR\\babylab\\marisa\\datamanual\\cut\\6216\\turntaking\\block\\fa\\turn38\"\n",
    "filesturn538= os.listdir(pathturn538)\n",
    "pathturn539 = r\"C:\\LJR\\babylab\\marisa\\datamanual\\cut\\6216\\turntaking\\block\\fa\\turn39\"\n",
    "filesturn539= os.listdir(pathturn539)\n",
    "pathturn540 = r\"C:\\LJR\\babylab\\marisa\\datamanual\\cut\\6216\\turntaking\\block\\fa\\turn40\"\n",
    "filesturn540= os.listdir(pathturn540)\n",
    "\n",
    "\n",
    "pathturn531c = r\"C:\\LJR\\babylab\\marisa\\datamanual\\cut\\6216\\turntaking\\block\\chi\\turn31\"\n",
    "filesturn531c= os.listdir(pathturn531c)\n",
    "pathturn532c = r\"C:\\LJR\\babylab\\marisa\\datamanual\\cut\\6216\\turntaking\\block\\chi\\turn32\"\n",
    "filesturn532c= os.listdir(pathturn532c)\n",
    "pathturn533c = r\"C:\\LJR\\babylab\\marisa\\datamanual\\cut\\6216\\turntaking\\block\\chi\\turn33\"\n",
    "filesturn533c= os.listdir(pathturn533c)\n",
    "pathturn534c = r\"C:\\LJR\\babylab\\marisa\\datamanual\\cut\\6216\\turntaking\\block\\chi\\turn34\"\n",
    "filesturn534c= os.listdir(pathturn534c)\n",
    "pathturn535c = r\"C:\\LJR\\babylab\\marisa\\datamanual\\cut\\6216\\turntaking\\block\\chi\\turn35\"\n",
    "filesturn535c= os.listdir(pathturn535c)\n",
    "pathturn536c = r\"C:\\LJR\\babylab\\marisa\\datamanual\\cut\\6216\\turntaking\\block\\chi\\turn36\"\n",
    "filesturn536c= os.listdir(pathturn536c)\n",
    "pathturn537c = r\"C:\\LJR\\babylab\\marisa\\datamanual\\cut\\6216\\turntaking\\block\\chi\\turn37\"\n",
    "filesturn537c= os.listdir(pathturn537c)\n",
    "pathturn538c = r\"C:\\LJR\\babylab\\marisa\\datamanual\\cut\\6216\\turntaking\\block\\chi\\turn38\"\n",
    "filesturn538c= os.listdir(pathturn538c)\n",
    "pathturn539c = r\"C:\\LJR\\babylab\\marisa\\datamanual\\cut\\6216\\turntaking\\block\\chi\\turn39\"\n",
    "filesturn539c= os.listdir(pathturn539c)\n",
    "pathturn540c = r\"C:\\LJR\\babylab\\marisa\\datamanual\\cut\\6216\\turntaking\\block\\chi\\turn40\"\n",
    "filesturn540c= os.listdir(pathturn540c)"
   ]
  },
  {
   "cell_type": "code",
   "execution_count": 15,
   "metadata": {},
   "outputs": [
    {
     "name": "stdout",
     "output_type": "stream",
     "text": [
      "6 3 2 2 2 4 9 6 3 5\n",
      "1 3 1 6 5 7 2 6 4 9\n",
      "2 5 6 3 5 7 6 2 2 3\n",
      "1 4 13 3 2 1 4 1 3 1\n"
     ]
    }
   ],
   "source": [
    "print(len(filesturn51),len(filesturn52),len(filesturn53),len(filesturn54),len(filesturn55),len(filesturn56),len(filesturn57),len(filesturn58),len(filesturn59),len(filesturn510))\n",
    "print(len(filesturn511),len(filesturn512),len(filesturn513),len(filesturn514),len(filesturn515),len(filesturn516),len(filesturn517),len(filesturn518),len(filesturn519),len(filesturn520))\n",
    "print(len(filesturn521),len(filesturn522),len(filesturn523),len(filesturn524),len(filesturn525),len(filesturn526),len(filesturn527),len(filesturn528),len(filesturn529),len(filesturn530))\n",
    "print(len(filesturn531),len(filesturn532),len(filesturn533),len(filesturn534),len(filesturn535),len(filesturn536),len(filesturn537),len(filesturn538),len(filesturn539),len(filesturn540))"
   ]
  },
  {
   "cell_type": "code",
   "execution_count": 16,
   "metadata": {},
   "outputs": [],
   "source": [
    "pathturn61 = r\"C:\\LJR\\babylab\\marisa\\datamanual\\cut\\7176\\turntaking\\block\\fa\\turn1\"\n",
    "filesturn61= os.listdir(pathturn61)\n",
    "pathturn62 = r\"C:\\LJR\\babylab\\marisa\\datamanual\\cut\\7176\\turntaking\\block\\fa\\turn2\"\n",
    "filesturn62= os.listdir(pathturn62)\n",
    "pathturn63 = r\"C:\\LJR\\babylab\\marisa\\datamanual\\cut\\7176\\turntaking\\block\\fa\\turn3\"\n",
    "filesturn63= os.listdir(pathturn63)\n",
    "pathturn64 = r\"C:\\LJR\\babylab\\marisa\\datamanual\\cut\\7176\\turntaking\\block\\fa\\turn4\"\n",
    "filesturn64= os.listdir(pathturn64)\n",
    "pathturn65 = r\"C:\\LJR\\babylab\\marisa\\datamanual\\cut\\7176\\turntaking\\block\\fa\\turn5\"\n",
    "filesturn65= os.listdir(pathturn65)\n",
    "pathturn66 = r\"C:\\LJR\\babylab\\marisa\\datamanual\\cut\\7176\\turntaking\\block\\fa\\turn6\"\n",
    "filesturn66= os.listdir(pathturn66)\n",
    "pathturn67 = r\"C:\\LJR\\babylab\\marisa\\datamanual\\cut\\7176\\turntaking\\block\\fa\\turn7\"\n",
    "filesturn67= os.listdir(pathturn67)\n",
    "pathturn68 = r\"C:\\LJR\\babylab\\marisa\\datamanual\\cut\\7176\\turntaking\\block\\fa\\turn8\"\n",
    "filesturn68= os.listdir(pathturn68)\n",
    "\n",
    "\n",
    "pathturn61c = r\"C:\\LJR\\babylab\\marisa\\datamanual\\cut\\7176\\turntaking\\block\\chi\\turn1\"\n",
    "filesturn61c= os.listdir(pathturn61c)\n",
    "pathturn62c = r\"C:\\LJR\\babylab\\marisa\\datamanual\\cut\\7176\\turntaking\\block\\chi\\turn2\"\n",
    "filesturn62c= os.listdir(pathturn62c)\n",
    "pathturn63c = r\"C:\\LJR\\babylab\\marisa\\datamanual\\cut\\7176\\turntaking\\block\\chi\\turn3\"\n",
    "filesturn63c= os.listdir(pathturn63c)\n",
    "pathturn64c = r\"C:\\LJR\\babylab\\marisa\\datamanual\\cut\\7176\\turntaking\\block\\chi\\turn4\"\n",
    "filesturn64c= os.listdir(pathturn64c)\n",
    "pathturn65c = r\"C:\\LJR\\babylab\\marisa\\datamanual\\cut\\7176\\turntaking\\block\\chi\\turn5\"\n",
    "filesturn65c= os.listdir(pathturn65c)\n",
    "pathturn66c = r\"C:\\LJR\\babylab\\marisa\\datamanual\\cut\\7176\\turntaking\\block\\chi\\turn6\"\n",
    "filesturn66c= os.listdir(pathturn66c)\n",
    "pathturn67c = r\"C:\\LJR\\babylab\\marisa\\datamanual\\cut\\7176\\turntaking\\block\\chi\\turn7\"\n",
    "filesturn67c= os.listdir(pathturn67c)\n",
    "pathturn68c = r\"C:\\LJR\\babylab\\marisa\\datamanual\\cut\\7176\\turntaking\\block\\chi\\turn8\"\n",
    "filesturn68c= os.listdir(pathturn68c)\n"
   ]
  },
  {
   "cell_type": "code",
   "execution_count": 17,
   "metadata": {},
   "outputs": [
    {
     "name": "stdout",
     "output_type": "stream",
     "text": [
      "3 2 1 4 3 1 1 4\n"
     ]
    }
   ],
   "source": [
    "print(len(filesturn61),len(filesturn62),len(filesturn63),len(filesturn64),len(filesturn65),len(filesturn66),len(filesturn67),len(filesturn68))"
   ]
  },
  {
   "cell_type": "code",
   "execution_count": 18,
   "metadata": {},
   "outputs": [],
   "source": [
    "pathturn71 = r\"C:\\LJR\\babylab\\marisa\\datamanual\\cut\\7220\\turntaking\\block\\fa\\turn1\"\n",
    "filesturn71= os.listdir(pathturn71)\n",
    "pathturn72 = r\"C:\\LJR\\babylab\\marisa\\datamanual\\cut\\7220\\turntaking\\block\\fa\\turn2\"\n",
    "filesturn72= os.listdir(pathturn72)\n",
    "pathturn73 = r\"C:\\LJR\\babylab\\marisa\\datamanual\\cut\\7220\\turntaking\\block\\fa\\turn3\"\n",
    "filesturn73= os.listdir(pathturn73)\n",
    "pathturn74 = r\"C:\\LJR\\babylab\\marisa\\datamanual\\cut\\7220\\turntaking\\block\\fa\\turn4\"\n",
    "filesturn74= os.listdir(pathturn74)\n",
    "pathturn75 = r\"C:\\LJR\\babylab\\marisa\\datamanual\\cut\\7220\\turntaking\\block\\fa\\turn5\"\n",
    "filesturn75= os.listdir(pathturn75)\n",
    "pathturn76 = r\"C:\\LJR\\babylab\\marisa\\datamanual\\cut\\7220\\turntaking\\block\\fa\\turn6\"\n",
    "filesturn76= os.listdir(pathturn76)\n",
    "pathturn77 = r\"C:\\LJR\\babylab\\marisa\\datamanual\\cut\\7220\\turntaking\\block\\fa\\turn7\"\n",
    "filesturn77= os.listdir(pathturn77)\n",
    "pathturn78 = r\"C:\\LJR\\babylab\\marisa\\datamanual\\cut\\7220\\turntaking\\block\\fa\\turn8\"\n",
    "filesturn78= os.listdir(pathturn78)\n",
    "pathturn79 = r\"C:\\LJR\\babylab\\marisa\\datamanual\\cut\\7220\\turntaking\\block\\fa\\turn9\"\n",
    "filesturn79= os.listdir(pathturn79)\n",
    "pathturn710 = r\"C:\\LJR\\babylab\\marisa\\datamanual\\cut\\7220\\turntaking\\block\\fa\\turn10\"\n",
    "filesturn710= os.listdir(pathturn710)\n",
    "pathturn711 = r\"C:\\LJR\\babylab\\marisa\\datamanual\\cut\\7220\\turntaking\\block\\fa\\turn11\"\n",
    "filesturn711= os.listdir(pathturn711)\n",
    "\n",
    "pathturn71c = r\"C:\\LJR\\babylab\\marisa\\datamanual\\cut\\7220\\turntaking\\block\\chi\\turn1\"\n",
    "filesturn71c= os.listdir(pathturn71c)\n",
    "pathturn72c = r\"C:\\LJR\\babylab\\marisa\\datamanual\\cut\\7220\\turntaking\\block\\chi\\turn2\"\n",
    "filesturn72c= os.listdir(pathturn72c)\n",
    "pathturn73c = r\"C:\\LJR\\babylab\\marisa\\datamanual\\cut\\7220\\turntaking\\block\\chi\\turn3\"\n",
    "filesturn73c= os.listdir(pathturn73c)\n",
    "pathturn74c = r\"C:\\LJR\\babylab\\marisa\\datamanual\\cut\\7220\\turntaking\\block\\chi\\turn4\"\n",
    "filesturn74c= os.listdir(pathturn74c)\n",
    "pathturn75c = r\"C:\\LJR\\babylab\\marisa\\datamanual\\cut\\7220\\turntaking\\block\\chi\\turn5\"\n",
    "filesturn75c= os.listdir(pathturn75c)\n",
    "pathturn76c = r\"C:\\LJR\\babylab\\marisa\\datamanual\\cut\\7220\\turntaking\\block\\chi\\turn6\"\n",
    "filesturn76c= os.listdir(pathturn76c)\n",
    "pathturn77c = r\"C:\\LJR\\babylab\\marisa\\datamanual\\cut\\7220\\turntaking\\block\\chi\\turn7\"\n",
    "filesturn77c= os.listdir(pathturn77c)\n",
    "pathturn78c = r\"C:\\LJR\\babylab\\marisa\\datamanual\\cut\\7220\\turntaking\\block\\chi\\turn8\"\n",
    "filesturn78c= os.listdir(pathturn78c)\n",
    "pathturn79c = r\"C:\\LJR\\babylab\\marisa\\datamanual\\cut\\7220\\turntaking\\block\\chi\\turn9\"\n",
    "filesturn79c= os.listdir(pathturn79c)\n",
    "pathturn710c = r\"C:\\LJR\\babylab\\marisa\\datamanual\\cut\\7220\\turntaking\\block\\chi\\turn10\"\n",
    "filesturn710c= os.listdir(pathturn710c)\n",
    "pathturn711c = r\"C:\\LJR\\babylab\\marisa\\datamanual\\cut\\7220\\turntaking\\block\\chi\\turn11\"\n",
    "filesturn711c= os.listdir(pathturn711c)"
   ]
  },
  {
   "cell_type": "code",
   "execution_count": 19,
   "metadata": {},
   "outputs": [
    {
     "name": "stdout",
     "output_type": "stream",
     "text": [
      "3 1 3 4 3 2 2 1 1 6\n"
     ]
    }
   ],
   "source": [
    "print(len(filesturn71),len(filesturn72),len(filesturn73),len(filesturn74),len(filesturn75),len(filesturn76),len(filesturn77),len(filesturn78),len(filesturn79),len(filesturn710))"
   ]
  },
  {
   "cell_type": "code",
   "execution_count": 20,
   "metadata": {},
   "outputs": [],
   "source": [
    "pathturn81 = r\"C:\\LJR\\babylab\\marisa\\datamanual\\cut\\7326\\turntaking\\block\\fa\\turn1\"\n",
    "filesturn81= os.listdir(pathturn81)\n",
    "pathturn82 = r\"C:\\LJR\\babylab\\marisa\\datamanual\\cut\\7326\\turntaking\\block\\fa\\turn2\"\n",
    "filesturn82= os.listdir(pathturn82)\n",
    "pathturn83 = r\"C:\\LJR\\babylab\\marisa\\datamanual\\cut\\7326\\turntaking\\block\\fa\\turn3\"\n",
    "filesturn83= os.listdir(pathturn83)\n",
    "pathturn84 = r\"C:\\LJR\\babylab\\marisa\\datamanual\\cut\\7326\\turntaking\\block\\fa\\turn4\"\n",
    "filesturn84= os.listdir(pathturn84)\n",
    "pathturn85 = r\"C:\\LJR\\babylab\\marisa\\datamanual\\cut\\7326\\turntaking\\block\\fa\\turn5\"\n",
    "filesturn85= os.listdir(pathturn85)\n",
    "pathturn86 = r\"C:\\LJR\\babylab\\marisa\\datamanual\\cut\\7326\\turntaking\\block\\fa\\turn6\"\n",
    "filesturn86= os.listdir(pathturn86)\n",
    "pathturn87 = r\"C:\\LJR\\babylab\\marisa\\datamanual\\cut\\7326\\turntaking\\block\\fa\\turn7\"\n",
    "filesturn87= os.listdir(pathturn87)\n",
    "pathturn88 = r\"C:\\LJR\\babylab\\marisa\\datamanual\\cut\\7326\\turntaking\\block\\fa\\turn8\"\n",
    "filesturn88= os.listdir(pathturn88)\n",
    "pathturn89 = r\"C:\\LJR\\babylab\\marisa\\datamanual\\cut\\7326\\turntaking\\block\\fa\\turn9\"\n",
    "filesturn89= os.listdir(pathturn89)\n",
    "pathturn810 = r\"C:\\LJR\\babylab\\marisa\\datamanual\\cut\\7326\\turntaking\\block\\fa\\turn10\"\n",
    "filesturn810= os.listdir(pathturn810)\n",
    "\n",
    "\n",
    "pathturn81c = r\"C:\\LJR\\babylab\\marisa\\datamanual\\cut\\7326\\turntaking\\block\\chi\\turn1\"\n",
    "filesturn81c= os.listdir(pathturn81c)\n",
    "pathturn82c = r\"C:\\LJR\\babylab\\marisa\\datamanual\\cut\\7326\\turntaking\\block\\chi\\turn2\"\n",
    "filesturn82c= os.listdir(pathturn82c)\n",
    "pathturn83c = r\"C:\\LJR\\babylab\\marisa\\datamanual\\cut\\7326\\turntaking\\block\\chi\\turn3\"\n",
    "filesturn83c= os.listdir(pathturn83c)\n",
    "pathturn84c = r\"C:\\LJR\\babylab\\marisa\\datamanual\\cut\\7326\\turntaking\\block\\chi\\turn4\"\n",
    "filesturn84c= os.listdir(pathturn84c)\n",
    "pathturn85c = r\"C:\\LJR\\babylab\\marisa\\datamanual\\cut\\7326\\turntaking\\block\\chi\\turn5\"\n",
    "filesturn85c= os.listdir(pathturn85c)\n",
    "pathturn86c = r\"C:\\LJR\\babylab\\marisa\\datamanual\\cut\\7326\\turntaking\\block\\chi\\turn6\"\n",
    "filesturn86c= os.listdir(pathturn86c)\n",
    "pathturn87c = r\"C:\\LJR\\babylab\\marisa\\datamanual\\cut\\7326\\turntaking\\block\\chi\\turn7\"\n",
    "filesturn87c= os.listdir(pathturn87c)\n",
    "pathturn88c = r\"C:\\LJR\\babylab\\marisa\\datamanual\\cut\\7326\\turntaking\\block\\chi\\turn8\"\n",
    "filesturn88c= os.listdir(pathturn88c)\n",
    "pathturn89c = r\"C:\\LJR\\babylab\\marisa\\datamanual\\cut\\7326\\turntaking\\block\\chi\\turn9\"\n",
    "filesturn89c= os.listdir(pathturn89c)\n",
    "pathturn810c = r\"C:\\LJR\\babylab\\marisa\\datamanual\\cut\\7326\\turntaking\\block\\chi\\turn10\"\n",
    "filesturn810c= os.listdir(pathturn810c)\n"
   ]
  },
  {
   "cell_type": "code",
   "execution_count": 21,
   "metadata": {},
   "outputs": [],
   "source": [
    "pathturn811 = r\"C:\\LJR\\babylab\\marisa\\datamanual\\cut\\7326\\turntaking\\block\\fa\\turn11\"\n",
    "filesturn811= os.listdir(pathturn811)\n",
    "pathturn812 = r\"C:\\LJR\\babylab\\marisa\\datamanual\\cut\\7326\\turntaking\\block\\fa\\turn12\"\n",
    "filesturn812= os.listdir(pathturn812)\n",
    "pathturn813 = r\"C:\\LJR\\babylab\\marisa\\datamanual\\cut\\7326\\turntaking\\block\\fa\\turn13\"\n",
    "filesturn813= os.listdir(pathturn813)\n",
    "pathturn814 = r\"C:\\LJR\\babylab\\marisa\\datamanual\\cut\\7326\\turntaking\\block\\fa\\turn14\"\n",
    "filesturn814= os.listdir(pathturn814)\n",
    "pathturn815 = r\"C:\\LJR\\babylab\\marisa\\datamanual\\cut\\7326\\turntaking\\block\\fa\\turn15\"\n",
    "filesturn815= os.listdir(pathturn815)\n",
    "pathturn816 = r\"C:\\LJR\\babylab\\marisa\\datamanual\\cut\\7326\\turntaking\\block\\fa\\turn16\"\n",
    "filesturn816= os.listdir(pathturn816)\n",
    "pathturn817 = r\"C:\\LJR\\babylab\\marisa\\datamanual\\cut\\7326\\turntaking\\block\\fa\\turn17\"\n",
    "filesturn817= os.listdir(pathturn817)\n",
    "pathturn818 = r\"C:\\LJR\\babylab\\marisa\\datamanual\\cut\\7326\\turntaking\\block\\fa\\turn18\"\n",
    "filesturn818= os.listdir(pathturn818)\n",
    "pathturn819 = r\"C:\\LJR\\babylab\\marisa\\datamanual\\cut\\7326\\turntaking\\block\\fa\\turn19\"\n",
    "filesturn819= os.listdir(pathturn819)\n",
    "pathturn820 = r\"C:\\LJR\\babylab\\marisa\\datamanual\\cut\\7326\\turntaking\\block\\fa\\turn20\"\n",
    "filesturn820= os.listdir(pathturn820)\n",
    "pathturn821 = r\"C:\\LJR\\babylab\\marisa\\datamanual\\cut\\7326\\turntaking\\block\\fa\\turn21\"\n",
    "filesturn821= os.listdir(pathturn821)\n",
    "pathturn822 = r\"C:\\LJR\\babylab\\marisa\\datamanual\\cut\\7326\\turntaking\\block\\fa\\turn22\"\n",
    "filesturn822= os.listdir(pathturn822)\n",
    "\n",
    "\n",
    "pathturn811c = r\"C:\\LJR\\babylab\\marisa\\datamanual\\cut\\7326\\turntaking\\block\\chi\\turn11\"\n",
    "filesturn811c= os.listdir(pathturn811c)\n",
    "pathturn812c = r\"C:\\LJR\\babylab\\marisa\\datamanual\\cut\\7326\\turntaking\\block\\chi\\turn12\"\n",
    "filesturn812c= os.listdir(pathturn812c)\n",
    "pathturn813c = r\"C:\\LJR\\babylab\\marisa\\datamanual\\cut\\7326\\turntaking\\block\\chi\\turn13\"\n",
    "filesturn813c= os.listdir(pathturn813c)\n",
    "pathturn814c = r\"C:\\LJR\\babylab\\marisa\\datamanual\\cut\\7326\\turntaking\\block\\chi\\turn14\"\n",
    "filesturn814c= os.listdir(pathturn814c)\n",
    "pathturn815c = r\"C:\\LJR\\babylab\\marisa\\datamanual\\cut\\7326\\turntaking\\block\\chi\\turn15\"\n",
    "filesturn815c= os.listdir(pathturn815c)\n",
    "pathturn816c = r\"C:\\LJR\\babylab\\marisa\\datamanual\\cut\\7326\\turntaking\\block\\chi\\turn16\"\n",
    "filesturn816c= os.listdir(pathturn816c)\n",
    "pathturn817c = r\"C:\\LJR\\babylab\\marisa\\datamanual\\cut\\7326\\turntaking\\block\\chi\\turn17\"\n",
    "filesturn817c= os.listdir(pathturn817c)\n",
    "pathturn818c = r\"C:\\LJR\\babylab\\marisa\\datamanual\\cut\\7326\\turntaking\\block\\chi\\turn18\"\n",
    "filesturn818c= os.listdir(pathturn818c)\n",
    "pathturn819c = r\"C:\\LJR\\babylab\\marisa\\datamanual\\cut\\7326\\turntaking\\block\\chi\\turn19\"\n",
    "filesturn819c= os.listdir(pathturn819c)\n",
    "pathturn820c = r\"C:\\LJR\\babylab\\marisa\\datamanual\\cut\\7326\\turntaking\\block\\chi\\turn20\"\n",
    "filesturn820c= os.listdir(pathturn820c)\n",
    "pathturn821c = r\"C:\\LJR\\babylab\\marisa\\datamanual\\cut\\7326\\turntaking\\block\\chi\\turn21\"\n",
    "filesturn821c= os.listdir(pathturn821c)\n",
    "pathturn822c = r\"C:\\LJR\\babylab\\marisa\\datamanual\\cut\\7326\\turntaking\\block\\chi\\turn22\"\n",
    "filesturn822c= os.listdir(pathturn822c)"
   ]
  },
  {
   "cell_type": "code",
   "execution_count": 22,
   "metadata": {},
   "outputs": [],
   "source": [
    "pathturn91 = r\"C:\\LJR\\babylab\\marisa\\datamanual\\cut\\8787\\turntaking\\block\\fa\\turn1\"\n",
    "filesturn91= os.listdir(pathturn91)\n",
    "pathturn91c = r\"C:\\LJR\\babylab\\marisa\\datamanual\\cut\\8787\\turntaking\\block\\chi\\turn1\"\n",
    "filesturn91c= os.listdir(pathturn91c)"
   ]
  },
  {
   "cell_type": "code",
   "execution_count": 23,
   "metadata": {},
   "outputs": [],
   "source": [
    "def normalize(x, axis=0):\n",
    "    return sklearn.preprocessing.minmax_scale(x, axis=axis)"
   ]
  },
  {
   "cell_type": "code",
   "execution_count": 24,
   "metadata": {},
   "outputs": [],
   "source": [
    "def normalizea(x, maxa,mina,axis=0):\n",
    "    return [(float(i)-mina)/float(maxa-mina) for i in x]"
   ]
  },
  {
   "cell_type": "code",
   "execution_count": 25,
   "metadata": {},
   "outputs": [],
   "source": [
    "def normalizei(x, maxi,mini,axis=0):\n",
    "    return [(float(i)-mini)/float(maxi-mini) for i in x]"
   ]
  },
  {
   "cell_type": "code",
   "execution_count": 26,
   "metadata": {},
   "outputs": [],
   "source": [
    "def f0fitintera(path,files,maxa,mina):\n",
    "    t1=[]\n",
    "    for i in range(len(files)):\n",
    "        x,sr1=librosa.load(path+\"\\\\\"+files[i],sr=None)\n",
    "        f0, voiced_flag, voiced_probs = librosa.pyin(x,sr=sr1,frame_length=512, fill_na=np.nan, n_thresholds=50, fmin=120, fmax=600)\n",
    "        times = librosa.times_like(f0,sr=sr1,hop_length=128)\n",
    "        duration=librosa.get_duration(y=x, sr=sr1)\n",
    "        logf0nomal=normalizea(f0,maxa,mina)\n",
    "        timesp=pd.DataFrame(times)\n",
    "        logf0nomalp=pd.DataFrame(logf0nomal)\n",
    "        indxnan = logf0nomalp.fillna(method='ffill').dropna().index\n",
    "        res_idx = logf0nomalp.loc[indxnan].fillna(method='bfill').dropna().index\n",
    "        f0out=logf0nomalp.loc[res_idx]\n",
    "        timesout = timesp.loc[res_idx]\n",
    "        timesout=timesout-timesout.min()\n",
    "        timesnumpy=timesout.to_numpy()\n",
    "        f0outnumpy=f0out.to_numpy()\n",
    "        logf0nomalnan = f0outnumpy[~np.isnan(f0outnumpy)]\n",
    "        timesnan = timesnumpy[~np.isnan(f0outnumpy)]\n",
    "        f = interp1d(timesnan, logf0nomalnan,kind='slinear',fill_value=\"extrapolate\")\n",
    "        ynew=f(timesnumpy)\n",
    "        starttime=re.search(\"(\\d+\\.\\d+)\",files[i]).group(0)\n",
    "        label=0\n",
    "        t=(starttime,ynew,label)\n",
    "        t1.append(t)\n",
    "    return t1"
   ]
  },
  {
   "cell_type": "code",
   "execution_count": 27,
   "metadata": {},
   "outputs": [],
   "source": [
    "def f0fitinteri(path,files,maxi,mini):\n",
    "    t1=[]\n",
    "    for i in range(len(files)):\n",
    "        x,sr1=librosa.load(path+\"\\\\\"+files[i],sr=None)\n",
    "        f0, voiced_flag, voiced_probs = librosa.pyin(x,sr=sr1,frame_length=512, fill_na=np.nan, n_thresholds=50, fmin=120, fmax=1000)\n",
    "        times = librosa.times_like(f0,sr=sr1,hop_length=128)\n",
    "        duration=librosa.get_duration(y=x, sr=sr1)\n",
    "        logf0nomal=normalizei(f0,maxi,mini)\n",
    "        timesp=pd.DataFrame(times)\n",
    "        logf0nomalp=pd.DataFrame(logf0nomal)\n",
    "        indxnan = logf0nomalp.fillna(method='ffill').dropna().index\n",
    "        res_idx = logf0nomalp.loc[indxnan].fillna(method='bfill').dropna().index\n",
    "        f0out=logf0nomalp.loc[res_idx]\n",
    "        timesout = timesp.loc[res_idx]\n",
    "        timesout=timesout-timesout.min()\n",
    "        timesnumpy=timesout.to_numpy()\n",
    "        f0outnumpy=f0out.to_numpy()\n",
    "        logf0nomalnan = f0outnumpy[~np.isnan(f0outnumpy)]\n",
    "        timesnan = timesnumpy[~np.isnan(f0outnumpy)]\n",
    "        f = interp1d(timesnan, logf0nomalnan,kind='slinear',fill_value=\"extrapolate\")\n",
    "        ynew=f(timesnumpy)\n",
    "        starttime=re.search(\"(\\d+\\.\\d+)\",files[i]).group(0)\n",
    "        label=1\n",
    "        t=(starttime,ynew,label)\n",
    "        t1.append(t)\n",
    "    return t1"
   ]
  },
  {
   "cell_type": "code",
   "execution_count": 28,
   "metadata": {},
   "outputs": [],
   "source": [
    "def diffc(pathturn,filesturn,pathturnc,filesturnc,maxa,mina,maxi,mini):\n",
    "    t=f0fitintera(pathturn,filesturn,maxa,mina)\n",
    "    tc=f0fitinteri(pathturnc,filesturnc,maxi,mini)\n",
    "    alltest=t+tc\n",
    "    alltest.sort(key = lambda x: x[0])\n",
    "    #print(alltest)\n",
    "    labelss=np.zeros((len(alltest),1))\n",
    "    for i in range(len(alltest)):\n",
    "        labelss[i]=alltest[i][2]\n",
    "    \n",
    "    groupsdtw = [(k1, sum(1 for _ in g1)) for k1, g1 in groupby(labelss)]\n",
    "    groupndtw=np.zeros((len(groupsdtw),1))\n",
    "    for i in range(len(groupsdtw)):\n",
    "        groupndtw[i]=groupsdtw[i][1]\n",
    "    inddtw=np.zeros((len(groupndtw),2))\n",
    "    for i in range(len(groupndtw)):\n",
    "        if i!=len(groupndtw):\n",
    "            inddtw[i,:]=np.c_[sum(groupndtw[0:i]),sum(groupndtw[0:i+1])]\n",
    "    diff=np.zeros((len(inddtw)-1,1))\n",
    "    for i in range(len(inddtw)-1):\n",
    "        ynewff=alltest[int(inddtw[i,0]):int(inddtw[i,1])]\n",
    "        ynewss=alltest[int(inddtw[i+1,0]):int(inddtw[i+1,1])]\n",
    "        dtwjjc=0\n",
    "        jj=0\n",
    "        for j1 in range(len(ynewff)):\n",
    "            for j2 in range(len(ynewss)):\n",
    "                dtwjj,path = fastdtw(ynewff[j1][1],ynewss[j2][1],dist=euclidean)\n",
    "                dtwjjc=dtwjjc+dtwjj\n",
    "                jj=jj+1\n",
    "        diff[i]=dtwjjc/jj\n",
    "        \n",
    "    xlabel=(np.arange(len(diff))+1)\n",
    "    return diff,xlabel"
   ]
  },
  {
   "cell_type": "code",
   "execution_count": 29,
   "metadata": {},
   "outputs": [],
   "source": [
    "diffc11,xlabel11=diffc(pathturn11,filesturn11,pathturn11c,filesturn11c,590,120,999.6,120)\n",
    "diffc12,xlabel12=diffc(pathturn12,filesturn12,pathturn12c,filesturn12c,590,120,999.6,120)\n",
    "diffc13,xlabel13=diffc(pathturn13,filesturn13,pathturn13c,filesturn13c,590,120,999.6,120)\n",
    "diffc14,xlabel14=diffc(pathturn14,filesturn14,pathturn14c,filesturn14c,590,120,999.6,120)\n",
    "diffc15,xlabel15=diffc(pathturn15,filesturn15,pathturn15c,filesturn15c,590,120,999.6,120)"
   ]
  },
  {
   "cell_type": "code",
   "execution_count": 30,
   "metadata": {},
   "outputs": [],
   "source": [
    "diffc1=np.r_[diffc11,diffc12,diffc13,diffc14,diffc15]\n",
    "xlabel1=np.r_[xlabel11,xlabel12,xlabel13,xlabel14,xlabel15]"
   ]
  },
  {
   "cell_type": "code",
   "execution_count": 31,
   "metadata": {},
   "outputs": [],
   "source": [
    "diffc1l=np.c_[diffc11[0,:],diffc12[0,:],diffc13[0,:],diffc14[0,:],diffc15[0,:]]\n",
    "diffc1r=np.c_[diffc11[-1,:],diffc12[-1,:],diffc13[-1,:],diffc14[-1,:],diffc15[-1,:]]\n",
    "diffc1lr=np.r_[diffc1l.T,diffc1r.T]\n",
    "diffc1lrz=normalize(diffc1lr,axis=0)\n",
    "diffc1lrzl=diffc1lrz[0:5,:]\n",
    "diffc1lrzr=diffc1lrz[5:10,:]"
   ]
  },
  {
   "cell_type": "code",
   "execution_count": 32,
   "metadata": {},
   "outputs": [],
   "source": [
    "diffc21,xlabel21=diffc(pathturn21,filesturn21,pathturn21c,filesturn21c,597.8,120,999.6,120)\n",
    "diffc22,xlabel22=diffc(pathturn22,filesturn22,pathturn22c,filesturn22c,597.8,120,999.6,120)\n",
    "diffc23,xlabel23=diffc(pathturn23,filesturn23,pathturn23c,filesturn23c,597.8,120,999.6,120)\n",
    "diffc24,xlabel24=diffc(pathturn24,filesturn24,pathturn24c,filesturn24c,597.8,120,999.6,120)\n",
    "diffc25,xlabel25=diffc(pathturn25,filesturn25,pathturn25c,filesturn25c,597.8,120,999.6,120)\n",
    "diffc26,xlabel26=diffc(pathturn26,filesturn26,pathturn26c,filesturn26c,597.8,120,999.6,120)"
   ]
  },
  {
   "cell_type": "code",
   "execution_count": 33,
   "metadata": {},
   "outputs": [],
   "source": [
    "diffc2=np.r_[diffc21,diffc22,diffc23,diffc24,diffc25,diffc26]\n",
    "xlabel2=np.r_[xlabel21,xlabel22,xlabel23,xlabel24,xlabel25,xlabel26]"
   ]
  },
  {
   "cell_type": "code",
   "execution_count": 34,
   "metadata": {},
   "outputs": [],
   "source": [
    "diffc2l=np.c_[diffc21[0,:],diffc22[0,:],diffc23[0,:],diffc24[0,:],diffc25[0,:]]\n",
    "diffc2r=np.c_[diffc21[-1,:],diffc22[-1,:],diffc23[-1,:],diffc24[-1,:],diffc25[-1,:]]\n",
    "diffc2lr=np.r_[diffc2l.T,diffc2r.T]\n",
    "diffc2lrz=normalize(diffc2lr,axis=0)\n",
    "diffc2lrzl=diffc2lrz[0:6,:]\n",
    "diffc2lrzr=diffc2lrz[6:12,:]"
   ]
  },
  {
   "cell_type": "code",
   "execution_count": 35,
   "metadata": {},
   "outputs": [],
   "source": [
    "diffc31,xlabel31=diffc(pathturn31,filesturn31,pathturn31c,filesturn31c,557.8,120,999.6,120)\n",
    "diffc32,xlabel32=diffc(pathturn32,filesturn32,pathturn32c,filesturn32c,557.8,120,999.6,120)\n",
    "diffc33,xlabel33=diffc(pathturn33,filesturn33,pathturn33c,filesturn33c,557.8,120,999.6,120)\n",
    "diffc34,xlabel34=diffc(pathturn34,filesturn34,pathturn34c,filesturn34c,557.8,120,999.6,120)\n",
    "diffc35,xlabel35=diffc(pathturn35,filesturn35,pathturn35c,filesturn35c,557.8,120,999.6,120)\n",
    "diffc36,xlabel36=diffc(pathturn36,filesturn36,pathturn36c,filesturn36c,557.8,120,999.6,120)\n",
    "diffc37,xlabel37=diffc(pathturn37,filesturn37,pathturn37c,filesturn37c,557.8,120,999.6,120)\n",
    "diffc38,xlabel38=diffc(pathturn38,filesturn38,pathturn38c,filesturn38c,557.8,120,999.6,120)\n",
    "diffc39,xlabel39=diffc(pathturn39,filesturn39,pathturn39c,filesturn39c,557.8,120,999.6,120)\n",
    "diffc310,xlabel310=diffc(pathturn310,filesturn310,pathturn310c,filesturn310c,557.8,120,999.6,120)"
   ]
  },
  {
   "cell_type": "code",
   "execution_count": 36,
   "metadata": {},
   "outputs": [],
   "source": [
    "#diffc3=np.r_[diffc31,diffc32,diffc33,diffc34,diffc35,diffc36,diffc37,diffc38,diffc39,diffc310]\n",
    "#xlabel3=np.r_[xlabel31,xlabel32,xlabel33,xlabel34,xlabel35,xlabel36,xlabel37,xlabel38,xlabel39,xlabel310]"
   ]
  },
  {
   "cell_type": "code",
   "execution_count": 37,
   "metadata": {},
   "outputs": [],
   "source": [
    "diffc3=np.r_[diffc31,diffc33,diffc34,diffc35,diffc36,diffc37,diffc38,diffc39,diffc310]\n",
    "xlabel3=np.r_[xlabel31,xlabel33,xlabel34,xlabel35,xlabel36,xlabel37,xlabel38,xlabel39,xlabel310]"
   ]
  },
  {
   "cell_type": "code",
   "execution_count": 38,
   "metadata": {},
   "outputs": [],
   "source": [
    "diffc3l=np.c_[diffc31[0,:],diffc32[0,:],diffc33[0,:],diffc34[0,:],diffc35[0,:],diffc36[0,:],diffc37[0,:],diffc38[0,:],diffc39[0,:],diffc310[0,:]]\n",
    "diffc3r=np.c_[diffc31[-1,:],diffc32[-1,:],diffc33[-1,:],diffc34[-1,:],diffc35[-1,:],diffc36[-1,:],diffc37[-1,:],diffc38[-1,:],diffc39[-1,:],diffc310[-1,:]]\n",
    "diffc3lr=np.r_[diffc3l.T,diffc3r.T]\n",
    "diffc3lrz=normalize(diffc3lr,axis=0)\n",
    "diffc3lrzl=diffc3lrz[0:10,:]\n",
    "diffc3lrzr=diffc3lrz[10:20,:]"
   ]
  },
  {
   "cell_type": "code",
   "execution_count": 39,
   "metadata": {},
   "outputs": [],
   "source": [
    "diffc41,xlabel41=diffc(pathturn41,filesturn41,pathturn41c,filesturn41c,551.38,120,971.2,120)\n",
    "diffc42,xlabel42=diffc(pathturn42,filesturn42,pathturn42c,filesturn42c,551.38,120,971.2,120)\n",
    "diffc43,xlabel43=diffc(pathturn43,filesturn43,pathturn43c,filesturn43c,551.38,120,971.2,120)\n",
    "diffc44,xlabel44=diffc(pathturn44,filesturn44,pathturn44c,filesturn44c,551.38,120,971.2,120)\n",
    "diffc45,xlabel45=diffc(pathturn45,filesturn45,pathturn45c,filesturn45c,551.38,120,971.2,120)\n",
    "diffc46,xlabel46=diffc(pathturn46,filesturn46,pathturn46c,filesturn46c,551.38,120,971.2,120)\n",
    "diffc47,xlabel47=diffc(pathturn47,filesturn47,pathturn47c,filesturn47c,551.38,120,971.2,120)\n",
    "diffc48,xlabel48=diffc(pathturn48,filesturn48,pathturn48c,filesturn48c,551.38,120,971.2,120)\n",
    "diffc49,xlabel49=diffc(pathturn49,filesturn49,pathturn49c,filesturn49c,551.38,120,971.2,120)\n",
    "diffc410,xlabel410=diffc(pathturn410,filesturn410,pathturn410c,filesturn410c,551.38,120,971.2,120)\n",
    "diffc411,xlabel411=diffc(pathturn411,filesturn411,pathturn411c,filesturn411c,551.38,120,971.2,120)\n",
    "diffc412,xlabel412=diffc(pathturn412,filesturn412,pathturn412c,filesturn412c,551.38,120,971.2,120)\n",
    "diffc413,xlabel413=diffc(pathturn413,filesturn413,pathturn413c,filesturn413c,551.38,120,971.2,120)\n",
    "diffc414,xlabel414=diffc(pathturn414,filesturn414,pathturn414c,filesturn414c,551.38,120,971.2,120)"
   ]
  },
  {
   "cell_type": "code",
   "execution_count": 40,
   "metadata": {},
   "outputs": [],
   "source": [
    "diffc4=np.r_[diffc41,diffc42,diffc43,diffc44,diffc45,diffc46,diffc47,diffc48,diffc49,diffc410,diffc411,diffc412,diffc413,diffc414]\n",
    "xlabel4=np.r_[xlabel41,xlabel42,xlabel43,xlabel44,xlabel45,xlabel46,xlabel47,xlabel48,xlabel49,xlabel410,xlabel411,xlabel412,xlabel413,xlabel414]"
   ]
  },
  {
   "cell_type": "code",
   "execution_count": 41,
   "metadata": {},
   "outputs": [],
   "source": [
    "diffc4l=np.c_[diffc41[0,:],diffc42[0,:],diffc43[0,:],diffc44[0,:],diffc45[0,:],diffc46[0,:],diffc47[0,:],diffc48[0,:],diffc49[0,:],diffc410[0,:],diffc411[0,:],diffc412[0,:],diffc413[0,:],diffc414[0,:]]\n",
    "diffc4r=np.c_[diffc41[-1,:],diffc42[-1,:],diffc43[-1,:],diffc44[-1,:],diffc45[-1,:],diffc46[-1,:],diffc47[-1,:],diffc48[-1,:],diffc49[-1,:],diffc410[-1,:],diffc411[-1,:],diffc412[-1,:],diffc413[-1,:],diffc414[-1,:]]\n",
    "diffc4lr=np.r_[diffc4l.T,diffc4r.T]\n",
    "diffc4lrz=normalize(diffc4lr,axis=0)\n",
    "diffc4lrzl=diffc4lrz[0:14,:]\n",
    "diffc4lrzr=diffc4lrz[14:28,:]"
   ]
  },
  {
   "cell_type": "code",
   "execution_count": 42,
   "metadata": {},
   "outputs": [],
   "source": [
    "diffc51,xlabel51=diffc(pathturn51,filesturn51,pathturn51c,filesturn51c,597.82,120,999.6,120)\n",
    "diffc52,xlabel52=diffc(pathturn52,filesturn52,pathturn52c,filesturn52c,597.82,120,999.6,120)\n",
    "diffc53,xlabel53=diffc(pathturn53,filesturn53,pathturn53c,filesturn53c,597.82,120,999.6,120)\n",
    "diffc54,xlabel54=diffc(pathturn54,filesturn54,pathturn54c,filesturn54c,597.82,120,999.6,120)\n",
    "diffc55,xlabel55=diffc(pathturn55,filesturn55,pathturn55c,filesturn55c,597.82,120,999.6,120)\n",
    "diffc56,xlabel56=diffc(pathturn56,filesturn56,pathturn56c,filesturn56c,597.82,120,999.6,120)\n",
    "diffc57,xlabel57=diffc(pathturn57,filesturn57,pathturn57c,filesturn57c,597.82,120,999.6,120)\n",
    "diffc58,xlabel58=diffc(pathturn58,filesturn58,pathturn58c,filesturn58c,597.82,120,999.6,120)\n",
    "diffc59,xlabel59=diffc(pathturn59,filesturn59,pathturn59c,filesturn59c,597.82,120,999.6,120)\n",
    "diffc510,xlabel510=diffc(pathturn510,filesturn510,pathturn510c,filesturn510c,597.82,120,999.6,120)"
   ]
  },
  {
   "cell_type": "code",
   "execution_count": 43,
   "metadata": {},
   "outputs": [],
   "source": [
    "tdiffc51=np.r_[diffc51,diffc52,diffc53,diffc54,diffc55,diffc56,diffc57,diffc58,diffc59,diffc510]\n",
    "txlabel51=np.r_[xlabel51,xlabel52,xlabel53,xlabel54,xlabel55,xlabel56,xlabel57,xlabel58,xlabel59,xlabel510]"
   ]
  },
  {
   "cell_type": "code",
   "execution_count": 44,
   "metadata": {},
   "outputs": [],
   "source": [
    "diffc511,xlabel511=diffc(pathturn511,filesturn511,pathturn511c,filesturn511c,597.82,120,999.6,120)\n",
    "diffc512,xlabel512=diffc(pathturn512,filesturn512,pathturn512c,filesturn512c,597.82,120,999.6,120)\n",
    "diffc513,xlabel513=diffc(pathturn513,filesturn513,pathturn513c,filesturn513c,597.82,120,999.6,120)\n",
    "diffc514,xlabel514=diffc(pathturn514,filesturn514,pathturn514c,filesturn514c,597.82,120,999.6,120)\n",
    "diffc515,xlabel515=diffc(pathturn515,filesturn515,pathturn515c,filesturn515c,597.82,120,999.6,120)\n",
    "diffc516,xlabel516=diffc(pathturn516,filesturn516,pathturn516c,filesturn516c,597.82,120,999.6,120)\n",
    "diffc517,xlabel517=diffc(pathturn517,filesturn517,pathturn517c,filesturn517c,597.82,120,999.6,120)\n",
    "diffc518,xlabel518=diffc(pathturn518,filesturn518,pathturn518c,filesturn518c,597.82,120,999.6,120)\n",
    "diffc519,xlabel519=diffc(pathturn519,filesturn519,pathturn519c,filesturn519c,597.82,120,999.6,120)\n",
    "diffc520,xlabel520=diffc(pathturn520,filesturn520,pathturn520c,filesturn520c,597.82,120,999.6,120)"
   ]
  },
  {
   "cell_type": "code",
   "execution_count": 45,
   "metadata": {},
   "outputs": [],
   "source": [
    "tdiffc52=np.r_[diffc511,diffc512,diffc513,diffc514,diffc515,diffc516,diffc517,diffc518,diffc519,diffc520]\n",
    "txlabel52=np.r_[xlabel511,xlabel512,xlabel513,xlabel514,xlabel515,xlabel516,xlabel517,xlabel518,xlabel519,xlabel520]"
   ]
  },
  {
   "cell_type": "code",
   "execution_count": 46,
   "metadata": {},
   "outputs": [],
   "source": [
    "tdiffc51l=np.c_[diffc51[0,:],diffc52[0,:],diffc53[0,:],diffc54[0,:],diffc55[0,:],diffc56[0,:],diffc57[0,:],diffc58[0,:],diffc59[0,:],diffc510[0,:]]\n",
    "tdiffc51r=np.c_[diffc51[-1,:],diffc52[-1,:],diffc53[-1,:],diffc54[-1,:],diffc55[-1,:],diffc56[-1,:],diffc57[-1,:],diffc58[-1,:],diffc59[-1,:],diffc510[-1,:]]"
   ]
  },
  {
   "cell_type": "code",
   "execution_count": 47,
   "metadata": {},
   "outputs": [],
   "source": [
    "diffc521,xlabel521=diffc(pathturn521,filesturn521,pathturn521c,filesturn521c,597.82,120,999.6,120)\n",
    "diffc522,xlabel522=diffc(pathturn522,filesturn522,pathturn522c,filesturn522c,597.82,120,999.6,120)\n",
    "diffc523,xlabel523=diffc(pathturn523,filesturn523,pathturn523c,filesturn523c,597.82,120,999.6,120)\n",
    "diffc524,xlabel524=diffc(pathturn524,filesturn524,pathturn524c,filesturn524c,597.82,120,999.6,120)\n",
    "diffc525,xlabel525=diffc(pathturn525,filesturn525,pathturn525c,filesturn525c,597.82,120,999.6,120)\n",
    "diffc526,xlabel526=diffc(pathturn526,filesturn526,pathturn526c,filesturn526c,597.82,120,999.6,120)\n",
    "diffc527,xlabel527=diffc(pathturn527,filesturn527,pathturn527c,filesturn527c,597.82,120,999.6,120)\n",
    "diffc528,xlabel528=diffc(pathturn528,filesturn528,pathturn528c,filesturn528c,597.82,120,999.6,120)\n",
    "diffc529,xlabel529=diffc(pathturn529,filesturn529,pathturn529c,filesturn529c,597.82,120,999.6,120)\n",
    "diffc530,xlabel530=diffc(pathturn530,filesturn530,pathturn530c,filesturn530c,597.82,120,999.6,120)"
   ]
  },
  {
   "cell_type": "code",
   "execution_count": 48,
   "metadata": {},
   "outputs": [],
   "source": [
    "tdiffc53=np.r_[diffc521,diffc522,diffc523,diffc524,diffc525,diffc526,diffc527,diffc528,diffc529,diffc530]\n",
    "txlabel53=np.r_[xlabel521,xlabel522,xlabel523,xlabel524,xlabel525,xlabel526,xlabel527,xlabel528,xlabel529,xlabel530]"
   ]
  },
  {
   "cell_type": "code",
   "execution_count": 49,
   "metadata": {},
   "outputs": [],
   "source": [
    "tdiffc52l=np.c_[diffc511[0,:],diffc512[0,:],diffc513[0,:],diffc514[0,:],diffc515[0,:],diffc516[0,:],diffc517[0,:],diffc518[0,:],diffc519[0,:],diffc520[0,:]]\n",
    "tdiffc52r=np.c_[diffc511[-1,:],diffc512[-1,:],diffc513[-1,:],diffc514[-1,:],diffc515[-1,:],diffc516[-1,:],diffc517[-1,:],diffc518[-1,:],diffc519[-1,:],diffc520[-1,:]]"
   ]
  },
  {
   "cell_type": "code",
   "execution_count": 50,
   "metadata": {},
   "outputs": [],
   "source": [
    "tdiffc53l=np.c_[diffc521[0,:],diffc522[0,:],diffc523[0,:],diffc524[0,:],diffc525[0,:],diffc526[0,:],diffc527[0,:],diffc528[0,:],diffc529[0,:],diffc530[0,:]]\n",
    "tdiffc53r=np.c_[diffc521[-1,:],diffc522[-1,:],diffc523[-1,:],diffc524[-1,:],diffc525[-1,:],diffc526[-1,:],diffc527[-1,:],diffc528[-1,:],diffc529[-1,:],diffc530[-1,:]]"
   ]
  },
  {
   "cell_type": "code",
   "execution_count": 51,
   "metadata": {},
   "outputs": [],
   "source": [
    "diffc531,xlabel531=diffc(pathturn531,filesturn531,pathturn531c,filesturn531c,597.82,120,999.6,120)\n",
    "diffc532,xlabel532=diffc(pathturn532,filesturn532,pathturn532c,filesturn532c,597.82,120,999.6,120)\n",
    "diffc533,xlabel533=diffc(pathturn533,filesturn533,pathturn533c,filesturn533c,597.82,120,999.6,120)\n",
    "diffc534,xlabel534=diffc(pathturn534,filesturn534,pathturn534c,filesturn534c,597.82,120,999.6,120)\n",
    "diffc535,xlabel535=diffc(pathturn535,filesturn535,pathturn535c,filesturn535c,597.82,120,999.6,120)\n",
    "diffc536,xlabel536=diffc(pathturn536,filesturn536,pathturn536c,filesturn536c,597.82,120,999.6,120)\n",
    "diffc537,xlabel537=diffc(pathturn537,filesturn537,pathturn537c,filesturn537c,597.82,120,999.6,120)\n",
    "diffc538,xlabel538=diffc(pathturn538,filesturn538,pathturn538c,filesturn538c,597.82,120,999.6,120)\n",
    "diffc539,xlabel539=diffc(pathturn539,filesturn539,pathturn539c,filesturn539c,597.82,120,999.6,120)\n",
    "diffc540,xlabel540=diffc(pathturn540,filesturn540,pathturn540c,filesturn540c,597.82,120,999.6,120)"
   ]
  },
  {
   "cell_type": "code",
   "execution_count": 52,
   "metadata": {},
   "outputs": [],
   "source": [
    "#tdiffc54l=np.c_[diffc531[0,:],diffc532[0,:],diffc533[0,:],diffc534[0,:],diffc535[0,:],diffc536[0,:],diffc537[0,:],diffc538[0,:],diffc539[0,:],diffc540[0,:]]\n",
    "#tdiffc54r=np.c_[diffc531[-1,:],diffc532[-1,:],diffc533[-1,:],diffc534[-1,:],diffc535[-1,:],diffc536[-1,:],diffc537[-1,:],diffc538[-1,:],diffc539[-1,:],diffc540[-1,:]]"
   ]
  },
  {
   "cell_type": "code",
   "execution_count": 53,
   "metadata": {},
   "outputs": [],
   "source": [
    "tdiffc54l=np.c_[diffc531[0,:],diffc532[0,:],diffc534[0,:],diffc535[0,:],diffc536[0,:],diffc537[0,:],diffc538[0,:],diffc539[0,:],diffc540[0,:]]\n",
    "tdiffc54r=np.c_[diffc531[-1,:],diffc532[-1,:],diffc534[-1,:],diffc535[-1,:],diffc536[-1,:],diffc537[-1,:],diffc538[-1,:],diffc539[-1,:],diffc540[-1,:]]"
   ]
  },
  {
   "cell_type": "code",
   "execution_count": 54,
   "metadata": {},
   "outputs": [],
   "source": [
    "#tdiffc54=np.r_[diffc531,diffc532,diffc533,diffc534,diffc535,diffc536,diffc537,diffc538,diffc539,diffc540]\n",
    "#txlabel54=np.r_[xlabel531,xlabel532,xlabel533,xlabel534,xlabel535,xlabel536,xlabel537,xlabel538,xlabel539,xlabel540]"
   ]
  },
  {
   "cell_type": "code",
   "execution_count": 55,
   "metadata": {},
   "outputs": [],
   "source": [
    "tdiffc54=np.r_[diffc531,diffc532,diffc534,diffc535,diffc536,diffc537,diffc538,diffc539,diffc540]\n",
    "txlabel54=np.r_[xlabel531,xlabel532,xlabel534,xlabel535,xlabel536,xlabel537,xlabel538,xlabel539,xlabel540]"
   ]
  },
  {
   "cell_type": "code",
   "execution_count": 56,
   "metadata": {},
   "outputs": [],
   "source": [
    "diffc5l=np.c_[tdiffc51l,tdiffc52l,tdiffc53l,tdiffc54l]\n",
    "diffc5r=np.c_[tdiffc51r,tdiffc52r,tdiffc53r,tdiffc54r]\n",
    "diffc5lr=np.r_[diffc5l.T,diffc5r.T]\n",
    "diffc5lrz=normalize(diffc5lr,axis=0)\n",
    "diffc5lrzl=diffc5lrz[0:40,:]\n",
    "diffc5lrzr=diffc5lrz[40:80,:]"
   ]
  },
  {
   "cell_type": "code",
   "execution_count": 57,
   "metadata": {},
   "outputs": [],
   "source": [
    "diffc5=np.r_[tdiffc51,tdiffc52,tdiffc53,tdiffc54]\n",
    "xlabel5=np.r_[txlabel51,txlabel52,txlabel53,txlabel54]"
   ]
  },
  {
   "cell_type": "code",
   "execution_count": 58,
   "metadata": {},
   "outputs": [],
   "source": [
    "diffc61,xlabel61=diffc(pathturn61,filesturn61,pathturn61c,filesturn61c,590.94,122.1,999.6,120)\n",
    "diffc62,xlabel62=diffc(pathturn62,filesturn62,pathturn62c,filesturn62c,590.94,122.1,999.6,120)\n",
    "diffc63,xlabel63=diffc(pathturn63,filesturn63,pathturn63c,filesturn63c,590.94,122.1,999.6,120)\n",
    "diffc64,xlabel64=diffc(pathturn64,filesturn64,pathturn64c,filesturn64c,590.94,122.1,999.6,120)\n",
    "diffc65,xlabel65=diffc(pathturn65,filesturn65,pathturn65c,filesturn65c,590.94,122.1,999.6,120)\n",
    "diffc66,xlabel66=diffc(pathturn66,filesturn66,pathturn66c,filesturn66c,590.94,122.1,999.6,120)\n",
    "diffc67,xlabel67=diffc(pathturn67,filesturn67,pathturn67c,filesturn67c,590.94,122.1,999.6,120)\n",
    "diffc68,xlabel68=diffc(pathturn68,filesturn68,pathturn68c,filesturn68c,590.94,122.1,999.6,120)"
   ]
  },
  {
   "cell_type": "code",
   "execution_count": 59,
   "metadata": {},
   "outputs": [],
   "source": [
    "diffc6=np.r_[diffc61,diffc62,diffc63,diffc64,diffc65,diffc66,diffc67,diffc68]\n",
    "xlabel6=np.r_[xlabel61,xlabel62,xlabel63,xlabel64,xlabel65,xlabel66,xlabel67,xlabel68]"
   ]
  },
  {
   "cell_type": "code",
   "execution_count": 60,
   "metadata": {},
   "outputs": [],
   "source": [
    "diffc6l=np.c_[diffc61[0,:],diffc62[0,:],diffc63[0,:],diffc64[0,:],diffc65[0,:],diffc66[0,:],diffc67[0,:],diffc68[0,:]]\n",
    "diffc6r=np.c_[diffc61[-1,:],diffc62[-1,:],diffc63[-1,:],diffc64[-1,:],diffc65[-1,:],diffc66[-1,:],diffc67[-1,:],diffc68[-1,:]]\n",
    "diffc6lr=np.r_[diffc6l.T,diffc6r.T]\n",
    "diffc6lrz=normalize(diffc6lr,axis=0)\n",
    "diffc6lrzl=diffc6lrz[0:8,:]\n",
    "diffc6lrzr=diffc6lrz[8:16,:]"
   ]
  },
  {
   "cell_type": "code",
   "execution_count": 61,
   "metadata": {},
   "outputs": [],
   "source": [
    "diffc71,xlabel71=diffc(pathturn71,filesturn71,pathturn71c,filesturn71c,597.82,120,999.6,120)\n",
    "diffc72,xlabel72=diffc(pathturn72,filesturn72,pathturn72c,filesturn72c,597.82,120,999.6,120)\n",
    "diffc73,xlabel73=diffc(pathturn73,filesturn73,pathturn73c,filesturn73c,597.82,120,999.6,120)\n",
    "diffc74,xlabel74=diffc(pathturn74,filesturn74,pathturn74c,filesturn74c,597.82,120,999.6,120)\n",
    "diffc75,xlabel75=diffc(pathturn75,filesturn75,pathturn75c,filesturn75c,597.82,120,999.6,120)\n",
    "diffc76,xlabel76=diffc(pathturn76,filesturn76,pathturn76c,filesturn76c,597.82,120,999.6,120)\n",
    "diffc77,xlabel77=diffc(pathturn77,filesturn77,pathturn77c,filesturn77c,597.82,120,999.6,120)\n",
    "diffc78,xlabel78=diffc(pathturn78,filesturn78,pathturn78c,filesturn78c,597.82,120,999.6,120)\n",
    "diffc79,xlabel79=diffc(pathturn79,filesturn79,pathturn79c,filesturn79c,597.82,120,999.6,120)\n",
    "diffc710,xlabel710=diffc(pathturn710,filesturn710,pathturn710c,filesturn710c,597.82,120,999.6,120)\n",
    "diffc711,xlabel711=diffc(pathturn711,filesturn711,pathturn711c,filesturn711c,597.82,120,999.6,120)"
   ]
  },
  {
   "cell_type": "code",
   "execution_count": 62,
   "metadata": {},
   "outputs": [],
   "source": [
    "diffc7=np.r_[diffc71,diffc72,diffc73,diffc74,diffc75,diffc76,diffc77,diffc78,diffc79,diffc710,diffc711]\n",
    "xlabel7=np.r_[xlabel71,xlabel72,xlabel73,xlabel74,xlabel75,xlabel76,xlabel77,xlabel78,xlabel79,xlabel710,xlabel711]"
   ]
  },
  {
   "cell_type": "code",
   "execution_count": 63,
   "metadata": {},
   "outputs": [],
   "source": [
    "diffc7l=np.c_[diffc71[0,:],diffc72[0,:],diffc73[0,:],diffc74[0,:],diffc75[0,:],diffc76[0,:],diffc77[0,:],diffc78[0,:],diffc79[0,:],diffc710[0,:],diffc711[0,:]]\n",
    "diffc7r=np.c_[diffc71[-1,:],diffc72[-1,:],diffc73[-1,:],diffc74[-1,:],diffc75[-1,:],diffc76[-1,:],diffc77[-1,:],diffc78[-1,:],diffc79[-1,:],diffc710[-1,:],diffc711[-1,:]]\n",
    "diffc7lr=np.r_[diffc7l.T,diffc7r.T]\n",
    "diffc7lrz=normalize(diffc7lr,axis=0)\n",
    "diffc7lrzl=diffc7lrz[0:11,:]\n",
    "diffc7lrzr=diffc7lrz[11:22,:]"
   ]
  },
  {
   "cell_type": "code",
   "execution_count": 64,
   "metadata": {},
   "outputs": [],
   "source": [
    "diffc81,xlabel81=diffc(pathturn81,filesturn81,pathturn81c,filesturn81c,597.82,120,999.6,120)\n",
    "diffc82,xlabel82=diffc(pathturn82,filesturn82,pathturn82c,filesturn82c,597.82,120,999.6,120)\n",
    "diffc83,xlabel83=diffc(pathturn83,filesturn83,pathturn83c,filesturn83c,597.82,120,999.6,120)\n",
    "diffc84,xlabel84=diffc(pathturn84,filesturn84,pathturn84c,filesturn84c,597.82,120,999.6,120)\n",
    "diffc85,xlabel85=diffc(pathturn85,filesturn85,pathturn85c,filesturn85c,597.82,120,999.6,120)\n",
    "diffc86,xlabel86=diffc(pathturn86,filesturn86,pathturn86c,filesturn86c,597.82,120,999.6,120)\n",
    "diffc87,xlabel87=diffc(pathturn87,filesturn87,pathturn87c,filesturn87c,597.82,120,999.6,120)\n",
    "diffc88,xlabel88=diffc(pathturn88,filesturn88,pathturn88c,filesturn88c,597.82,120,999.6,120)\n",
    "diffc89,xlabel89=diffc(pathturn89,filesturn89,pathturn89c,filesturn89c,597.82,120,999.6,120)\n",
    "diffc810,xlabel810=diffc(pathturn810,filesturn810,pathturn810c,filesturn810c,597.82,120,999.6,120)"
   ]
  },
  {
   "cell_type": "code",
   "execution_count": 65,
   "metadata": {},
   "outputs": [],
   "source": [
    "tdiffc81=np.r_[diffc81,diffc82,diffc83,diffc84,diffc85,diffc86,diffc87,diffc88,diffc89,diffc810]\n",
    "txlabel81=np.r_[xlabel81,xlabel82,xlabel83,xlabel84,xlabel85,xlabel86,xlabel87,xlabel88,xlabel89,xlabel810]"
   ]
  },
  {
   "cell_type": "code",
   "execution_count": 66,
   "metadata": {},
   "outputs": [],
   "source": [
    "tdiffc81l=np.c_[diffc81[0,:],diffc82[0,:],diffc83[0,:],diffc84[0,:],diffc85[0,:],diffc86[0,:],diffc87[0,:],diffc88[0,:],diffc89[0,:],diffc810[0,:]]\n",
    "tdiffc81r=np.c_[diffc81[-1,:],diffc82[-1,:],diffc83[-1,:],diffc84[-1,:],diffc85[-1,:],diffc86[-1,:],diffc87[-1,:],diffc88[-1,:],diffc89[-1,:],diffc810[-1,:]]"
   ]
  },
  {
   "cell_type": "code",
   "execution_count": 67,
   "metadata": {},
   "outputs": [],
   "source": [
    "diffc811,xlabel811=diffc(pathturn811,filesturn811,pathturn811c,filesturn811c,597.82,120,999.6,120)\n",
    "diffc812,xlabel812=diffc(pathturn812,filesturn812,pathturn812c,filesturn812c,597.82,120,999.6,120)\n",
    "diffc813,xlabel813=diffc(pathturn813,filesturn813,pathturn813c,filesturn813c,597.82,120,999.6,120)\n",
    "diffc814,xlabel814=diffc(pathturn814,filesturn814,pathturn814c,filesturn814c,597.82,120,999.6,120)\n",
    "diffc815,xlabel815=diffc(pathturn815,filesturn815,pathturn815c,filesturn815c,597.82,120,999.6,120)\n",
    "diffc816,xlabel816=diffc(pathturn816,filesturn816,pathturn816c,filesturn816c,597.82,120,999.6,120)\n",
    "diffc817,xlabel817=diffc(pathturn817,filesturn817,pathturn817c,filesturn817c,597.82,120,999.6,120)\n",
    "diffc818,xlabel818=diffc(pathturn818,filesturn818,pathturn818c,filesturn818c,597.82,120,999.6,120)\n",
    "diffc819,xlabel819=diffc(pathturn819,filesturn819,pathturn819c,filesturn819c,597.82,120,999.6,120)\n",
    "diffc820,xlabel820=diffc(pathturn820,filesturn820,pathturn820c,filesturn820c,597.82,120,999.6,120)\n",
    "diffc821,xlabel821=diffc(pathturn821,filesturn821,pathturn821c,filesturn821c,597.82,120,999.6,120)\n",
    "diffc822,xlabel822=diffc(pathturn822,filesturn822,pathturn822c,filesturn822c,597.82,120,999.6,120)"
   ]
  },
  {
   "cell_type": "code",
   "execution_count": 68,
   "metadata": {},
   "outputs": [],
   "source": [
    "tdiffc82=np.r_[diffc811,diffc812,diffc813,diffc814,diffc815,diffc816,diffc817,diffc818,diffc819,diffc820,diffc821,diffc822]\n",
    "txlabel82=np.r_[xlabel811,xlabel812,xlabel813,xlabel814,xlabel815,xlabel816,xlabel817,xlabel818,xlabel819,xlabel820,xlabel821,xlabel822]"
   ]
  },
  {
   "cell_type": "code",
   "execution_count": 69,
   "metadata": {},
   "outputs": [],
   "source": [
    "tdiffc82l=np.c_[diffc811[0,:],diffc812[0,:],diffc813[0,:],diffc814[0,:],diffc815[0,:],diffc816[0,:],diffc817[0,:],diffc818[0,:],diffc819[0,:],diffc820[0,:],diffc821[0,:],diffc822[0,:]]\n",
    "tdiffc82r=np.c_[diffc811[-1,:],diffc812[-1,:],diffc813[-1,:],diffc814[-1,:],diffc815[-1,:],diffc816[-1,:],diffc817[-1,:],diffc818[-1,:],diffc819[-1,:],diffc820[-1,:],diffc821[-1,:],diffc822[-1,:]]"
   ]
  },
  {
   "cell_type": "code",
   "execution_count": 70,
   "metadata": {},
   "outputs": [],
   "source": [
    "diffc8l=np.c_[tdiffc81l,tdiffc82l]\n",
    "diffc8r=np.c_[tdiffc81r,tdiffc82r]\n",
    "diffc8lr=np.r_[diffc8l.T,diffc8r.T]\n",
    "diffc8lrz=normalize(diffc8lr,axis=0)\n",
    "diffc8lrzl=diffc8lrz[0:22,:]\n",
    "diffc8lrzr=diffc8lrz[22:44,:]"
   ]
  },
  {
   "cell_type": "code",
   "execution_count": 71,
   "metadata": {},
   "outputs": [],
   "source": [
    "diffc8=np.r_[tdiffc81,tdiffc82]\n",
    "xlabel8=np.r_[txlabel81,txlabel82]"
   ]
  },
  {
   "cell_type": "code",
   "execution_count": 72,
   "metadata": {},
   "outputs": [],
   "source": [
    "diffc9,xlabel9=diffc(pathturn91,filesturn91,pathturn91c,filesturn91c,597.82,120,999.6,120)"
   ]
  },
  {
   "cell_type": "code",
   "execution_count": 73,
   "metadata": {},
   "outputs": [
    {
     "name": "stdout",
     "output_type": "stream",
     "text": [
      "[[1. 1. 1. 1. 1. 1. 1. 1. 1. 1.]\n",
      " [0. 0. 0. 0. 0. 0. 0. 0. 0. 0.]]\n"
     ]
    }
   ],
   "source": [
    "diffc9l=diffc9[0,:]\n",
    "diffc9r=diffc9[-1,:]\n",
    "diffc9lr=np.c_[diffc9l,diffc9r]\n",
    "diffc9lrz=normalize(diffc9lr,axis=1)\n",
    "diffc9lrzl=np.zeros((2,10))\n",
    "diffc9lrzr=np.zeros((2,10))\n",
    "diffc9lrzl[0,:]=diffc9lrz[:,0]\n",
    "diffc9lrzr[0,:]=diffc9lrz[:,1]\n",
    "print(diffc9lrzl)"
   ]
  },
  {
   "cell_type": "code",
   "execution_count": 74,
   "metadata": {},
   "outputs": [],
   "source": [
    "diffcl=np.c_[diffc1l,diffc2l,diffc3l,diffc4l,diffc5l,diffc6l,diffc7l,diffc8l,diffc9l]\n",
    "diffcr=np.c_[diffc1r,diffc2r,diffc3r,diffc4r,diffc5r,diffc6r,diffc7r,diffc8r,diffc9r]\n",
    "#print(diffcr)"
   ]
  },
  {
   "cell_type": "code",
   "execution_count": 75,
   "metadata": {},
   "outputs": [
    {
     "name": "stdout",
     "output_type": "stream",
     "text": [
      "p_value of duration= 0.6996485377063515\n"
     ]
    }
   ],
   "source": [
    "sduration=stats.ttest_ind(diffcl[0,:],diffcr[0,:])\n",
    "print('p_value of duration=',sduration[1])\n"
   ]
  },
  {
   "cell_type": "code",
   "execution_count": 76,
   "metadata": {},
   "outputs": [
    {
     "name": "stdout",
     "output_type": "stream",
     "text": [
      "230\n"
     ]
    },
    {
     "data": {
      "image/png": "[encoded data removed]",
      "text/plain": [
       "<Figure size 432x288 with 1 Axes>"
      ]
     },
     "metadata": {
      "needs_background": "light"
     },
     "output_type": "display_data"
    }
   ],
   "source": [
    "xxx=np.empty([len(diffcl[0,:])+len(diffcr[0,:])],dtype = str) \n",
    "xxx[0:len(diffcl[0,:])]='L'\n",
    "xxx[len(diffcl[0,:]):]='N'\n",
    "    \n",
    "compare_durationrow=np.c_[diffcl,diffcr]\n",
    "print(len(compare_durationrow[0,:]))\n",
    "    \n",
    "ax = sns.boxplot(x=xxx, y=compare_durationrow[0,:], linewidth=1.5,whis=1.5)\n",
    "plt.xlabel('Vocal exchange/Non-vocal exchange', fontsize=12)\n",
    "plt.ylabel('duration',fontsize=12)\n",
    "plt.title('Vocal exchange/Non-vocal exchange')\n",
    "plt.show()"
   ]
  },
  {
   "cell_type": "code",
   "execution_count": 77,
   "metadata": {},
   "outputs": [],
   "source": [
    "#diff=np.r_[diffc1,diffc2,diffc3,diffc4,diffc5,diffc6,diffc7,diffc8,diffc9]\n",
    "#xlabel=np.r_[xlabel1,xlabel2,xlabel3,xlabel4,xlabel5,xlabel6,xlabel7,xlabel8,xlabel9]"
   ]
  },
  {
   "cell_type": "code",
   "execution_count": 78,
   "metadata": {},
   "outputs": [],
   "source": [
    "diff=np.r_[-diffc1,-diffc2,-diffc6,-diffc7,-diffc8,-diffc9]\n",
    "xlabel=np.r_[xlabel1,xlabel2,xlabel6,xlabel7,xlabel8,xlabel9]"
   ]
  },
  {
   "cell_type": "code",
   "execution_count": 79,
   "metadata": {},
   "outputs": [],
   "source": [
    "def ind(datain,labelin,ind):\n",
    "    inds=np.zeros(len(datain))+ind\n",
    "    dataout=np.c_[datain,labelin,inds]\n",
    "    return dataout"
   ]
  },
  {
   "cell_type": "code",
   "execution_count": 80,
   "metadata": {},
   "outputs": [],
   "source": [
    "dataall=np.r_[ind(-diffc1,xlabel1,1),ind(-diffc2,xlabel2,2),ind(-diffc6,xlabel6,6),ind(-diffc7,xlabel7,7),ind(-diffc8,xlabel8,8),ind(-diffc9,xlabel9,9)]"
   ]
  },
  {
   "cell_type": "code",
   "execution_count": 81,
   "metadata": {},
   "outputs": [],
   "source": [
    "dataallp=pd.DataFrame(dataall)\n",
    "dataallp.columns=['DV','IV','type']"
   ]
  },
  {
   "cell_type": "code",
   "execution_count": 92,
   "metadata": {},
   "outputs": [],
   "source": [
    "#dataallp.to_csv(r'C:\\LJR\\babylab\\marisa\\datamanual\\cut\\blockdata\\marisablock12dtw.csv')"
   ]
  },
  {
   "cell_type": "code",
   "execution_count": 93,
   "metadata": {},
   "outputs": [],
   "source": [
    "from scipy import stats"
   ]
  },
  {
   "cell_type": "code",
   "execution_count": 96,
   "metadata": {},
   "outputs": [],
   "source": [
    "dataallpe= pd.read_csv(r'C:\\LJR\\babylab\\marisa\\datamanual\\cut\\blockdata\\Englishblock12dtw.csv')"
   ]
  },
  {
   "cell_type": "code",
   "execution_count": 97,
   "metadata": {},
   "outputs": [
    {
     "name": "stdout",
     "output_type": "stream",
     "text": [
      "rangefp= 0.5155666495843341\n"
     ]
    }
   ],
   "source": [
    "dataallped=np.array(dataallpe['DV'])\n",
    "dataalle=dataallped[np.where(np.array(dataallpe['IV'])<=1)[0]]\n",
    "t_stat, p_value = stats.ttest_ind(dataalle,dataall[:,0])\n",
    "print('rangefp=',p_value)"
   ]
  },
  {
   "cell_type": "code",
   "execution_count": 99,
   "metadata": {},
   "outputs": [
    {
     "name": "stdout",
     "output_type": "stream",
     "text": [
      "-12.967063958111362 -11.446751326564701\n"
     ]
    }
   ],
   "source": [
    "print(np.mean(dataalle),np.mean(dataall[:,0]))"
   ]
  },
  {
   "cell_type": "code",
   "execution_count": 82,
   "metadata": {},
   "outputs": [
    {
     "name": "stdout",
     "output_type": "stream",
     "text": [
      "         Mixed Linear Model Regression Results\n",
      "=======================================================\n",
      "Model:            MixedLM Dependent Variable: DV       \n",
      "No. Observations: 218     Method:             REML     \n",
      "No. Groups:       6       Scale:              204.5360 \n",
      "Min. group size:  5       Log-Likelihood:     -889.6321\n",
      "Max. group size:  103     Converged:          Yes      \n",
      "Mean group size:  36.3                                 \n",
      "-------------------------------------------------------\n",
      "           Coef.  Std.Err.   z    P>|z|  [0.025  0.975]\n",
      "-------------------------------------------------------\n",
      "Intercept -15.209    2.274 -6.690 0.000 -19.665 -10.753\n",
      "IV          0.845    0.420  2.013 0.044   0.022   1.668\n",
      "Group Var  11.565    1.062                             \n",
      "=======================================================\n",
      "\n"
     ]
    }
   ],
   "source": [
    "med=smf.mixedlm(\"DV~IV\",dataallp,groups=dataallp['type'])\n",
    "medf = med.fit(method=['powell'])\n",
    "print(medf.summary())"
   ]
  },
  {
   "cell_type": "code",
   "execution_count": 83,
   "metadata": {},
   "outputs": [
    {
     "name": "stdout",
     "output_type": "stream",
     "text": [
      "           Mixed Linear Model Regression Results\n",
      "===========================================================\n",
      "Model:              MixedLM  Dependent Variable:  DV       \n",
      "No. Observations:   218      Method:              REML     \n",
      "No. Groups:         6        Scale:               204.4610 \n",
      "Min. group size:    5        Log-Likelihood:      -889.5067\n",
      "Max. group size:    103      Converged:           Yes      \n",
      "Mean group size:    36.3                                   \n",
      "-----------------------------------------------------------\n",
      "                Coef.  Std.Err.   z    P>|z|  [0.025 0.975]\n",
      "-----------------------------------------------------------\n",
      "Intercept      -15.556    2.966 -5.245 0.000 -21.369 -9.744\n",
      "IV               1.002    0.861  1.164 0.245  -0.685  2.689\n",
      "Group Var       18.630    2.766                            \n",
      "Group x IV Cov  -1.555    0.639                            \n",
      "IV Var           0.130    0.087                            \n",
      "===========================================================\n",
      "\n"
     ]
    },
    {
     "name": "stderr",
     "output_type": "stream",
     "text": [
      "C:\\Users\\ljr\\anaconda3\\lib\\site-packages\\statsmodels\\regression\\mixed_linear_model.py:2262: ConvergenceWarning: The Hessian matrix at the estimated parameter values is not positive definite.\n",
      "  warnings.warn(msg, ConvergenceWarning)\n"
     ]
    }
   ],
   "source": [
    "med=smf.mixedlm(\"DV~IV\",dataallp,groups=dataallp['type'],re_formula=\"~IV\")\n",
    "medf = med.fit(method=['powell'])\n",
    "print(medf.summary())"
   ]
  },
  {
   "cell_type": "code",
   "execution_count": 84,
   "metadata": {},
   "outputs": [
    {
     "name": "stdout",
     "output_type": "stream",
     "text": [
      "cofft of duration= PearsonRResult(statistic=0.1665966971711991, pvalue=0.013783174612919877)\n"
     ]
    }
   ],
   "source": [
    "print('cofft of duration=',stats.pearsonr(xlabel,diff[:,0]))\n"
   ]
  },
  {
   "cell_type": "code",
   "execution_count": 85,
   "metadata": {},
   "outputs": [],
   "source": [
    "dtwall=np.c_[xlabel,diff]\n",
    "dtwallp=pd.DataFrame(dtwall)\n",
    "dtwallp.columns=['Turns','DTW']"
   ]
  },
  {
   "cell_type": "code",
   "execution_count": 86,
   "metadata": {},
   "outputs": [
    {
     "data": {
      "text/plain": [
       "[<matplotlib.lines.Line2D at 0x1b9df89c3d0>]"
      ]
     },
     "execution_count": 86,
     "metadata": {},
     "output_type": "execute_result"
    },
    {
     "data": {
      "image/png": "[encoded data removed]",
      "text/plain": [
       "<Figure size 432x288 with 1 Axes>"
      ]
     },
     "metadata": {
      "needs_background": "light"
     },
     "output_type": "display_data"
    }
   ],
   "source": [
    "plt.rc('font',family='Times New Roman')\n",
    "fig, ax=plt.subplots()\n",
    "ax.spines['right'].set_visible(False)\n",
    "ax.spines['top'].set_visible(False)\n",
    "p1=plt.scatter(xlabel1,-diffc1,color=\"lightcyan\")\n",
    "p2=plt.scatter(xlabel2,-diffc2,color=\"aqua\")\n",
    "#p3=plt.scatter(xlabel3,-diffc3[:,6],color=\"blue\")\n",
    "#p4=plt.scatter(xlabel4,-diffc4[:,6],color=\"navy\")\n",
    "#p5=plt.scatter(xlabel5,-diffc5[:,6],color=\"royalblue\")\n",
    "p6=plt.scatter(xlabel6,-diffc6,color=\"paleturquoise\")\n",
    "p7=plt.scatter(xlabel7,-diffc7,color=\"steelblue\")\n",
    "p8=plt.scatter(xlabel8,-diffc8,color=\"deepskyblue\")\n",
    "p9=plt.scatter(xlabel9,-diffc9,color=\"darkturquoise\")\n",
    "#plt.legend(handles=[p1,p2,p3,p4,p5,p6,p7,p8,p9],labels=['No.1','No.4','No.9','No.10','No.8','No.2','No.7','No.6','No.5'],loc='best')\n",
    "plt.xticks(fontsize=14)\n",
    "plt.yticks(fontsize=14)\n",
    "plt.xlim(-1, 17)\n",
    "plt.ylim(-80,0)\n",
    "linear_model=np.polyfit(xlabel,diff.ravel(),1)\n",
    "linear_model_fn=np.poly1d(linear_model)\n",
    "plt.plot(xlabel,linear_model_fn(xlabel),color=\"k\")"
   ]
  },
  {
   "cell_type": "code",
   "execution_count": 87,
   "metadata": {},
   "outputs": [
    {
     "data": {
      "text/plain": [
       "<matplotlib.collections.PathCollection at 0x1b9b87bc040>"
      ]
     },
     "execution_count": 87,
     "metadata": {},
     "output_type": "execute_result"
    },
    {
     "data": {
      "image/png": "[encoded data removed]",
      "text/plain": [
       "<Figure size 432x288 with 1 Axes>"
      ]
     },
     "metadata": {
      "needs_background": "light"
     },
     "output_type": "display_data"
    }
   ],
   "source": [
    "plt.scatter(xlabel,diff)"
   ]
  },
  {
   "cell_type": "code",
   "execution_count": 88,
   "metadata": {},
   "outputs": [
    {
     "name": "stdout",
     "output_type": "stream",
     "text": [
      "-11.446751326564701\n"
     ]
    }
   ],
   "source": [
    "print(np.mean(diff))"
   ]
  },
  {
   "cell_type": "code",
   "execution_count": 89,
   "metadata": {},
   "outputs": [
    {
     "data": {
      "text/plain": [
       "Text(-1.1999999999999993, 0.5, 'DTW Distance')"
      ]
     },
     "execution_count": 89,
     "metadata": {},
     "output_type": "execute_result"
    },
    {
     "data": {
      "image/png": "[encoded data removed]",
      "text/plain": [
       "<Figure size 360x360 with 1 Axes>"
      ]
     },
     "metadata": {
      "needs_background": "light"
     },
     "output_type": "display_data"
    }
   ],
   "source": [
    "\n",
    "ax=sns.lmplot(x='Turns', y='DTW',data=dtwallp, sharex=False, sharey=False, line_kws={'color': 'red'})\n",
    "ax.set(xlim=(-1, 15))\n",
    "ax.set(ylim=(-1, 140))\n",
    "plt.xticks(fontsize=18)\n",
    "plt.yticks(fontsize=18)\n",
    "plt.xlabel('Turns',fontsize=18)\n",
    "plt.ylabel('DTW Distance',fontsize=18)"
   ]
  },
  {
   "cell_type": "code",
   "execution_count": 90,
   "metadata": {},
   "outputs": [],
   "source": [
    "datad=pd.read_csv(r'C:\\LJR\\babylab\\marisa\\datamanual\\cut\\blockdata\\Duration.csv')\n",
    "datar=pd.read_csv(r'C:\\LJR\\babylab\\marisa\\datamanual\\cut\\blockdata\\Pitchrange.csv')\n",
    "datamax=pd.read_csv(r'C:\\LJR\\babylab\\marisa\\datamanual\\cut\\blockdata\\Pitchmax.csv')\n",
    "datamin=pd.read_csv(r'C:\\LJR\\babylab\\marisa\\datamanual\\cut\\blockdata\\Pitchmin.csv')\n",
    "datamean=pd.read_csv(r'C:\\LJR\\babylab\\marisa\\datamanual\\cut\\blockdata\\Pitchmean.csv')"
   ]
  },
  {
   "cell_type": "code",
   "execution_count": 91,
   "metadata": {},
   "outputs": [
    {
     "ename": "ValueError",
     "evalue": "Length of values (218) does not match length of index (490)",
     "output_type": "error",
     "traceback": [
      "\u001b[1;31m---------------------------------------------------------------------------\u001b[0m",
      "\u001b[1;31mValueError\u001b[0m                                Traceback (most recent call last)",
      "\u001b[1;32m<ipython-input-91-80bbbb37252f>\u001b[0m in \u001b[0;36m<module>\u001b[1;34m\u001b[0m\n\u001b[1;32m----> 1\u001b[1;33m \u001b[0mdatad\u001b[0m\u001b[1;33m[\u001b[0m\u001b[1;34m'Diff_d'\u001b[0m\u001b[1;33m]\u001b[0m\u001b[1;33m=\u001b[0m\u001b[0mdiff\u001b[0m\u001b[1;33m\u001b[0m\u001b[1;33m\u001b[0m\u001b[0m\n\u001b[0m\u001b[0;32m      2\u001b[0m \u001b[0mdatar\u001b[0m\u001b[1;33m[\u001b[0m\u001b[1;34m'Diff_r'\u001b[0m\u001b[1;33m]\u001b[0m\u001b[1;33m=\u001b[0m\u001b[0mdiff\u001b[0m\u001b[1;33m\u001b[0m\u001b[1;33m\u001b[0m\u001b[0m\n\u001b[0;32m      3\u001b[0m \u001b[0mdatamax\u001b[0m\u001b[1;33m[\u001b[0m\u001b[1;34m'Diff_max'\u001b[0m\u001b[1;33m]\u001b[0m\u001b[1;33m=\u001b[0m\u001b[0mdiff\u001b[0m\u001b[1;33m\u001b[0m\u001b[1;33m\u001b[0m\u001b[0m\n\u001b[0;32m      4\u001b[0m \u001b[0mdatamin\u001b[0m\u001b[1;33m[\u001b[0m\u001b[1;34m'Diff_min'\u001b[0m\u001b[1;33m]\u001b[0m\u001b[1;33m=\u001b[0m\u001b[0mdiff\u001b[0m\u001b[1;33m\u001b[0m\u001b[1;33m\u001b[0m\u001b[0m\n\u001b[0;32m      5\u001b[0m \u001b[0mdatamean\u001b[0m\u001b[1;33m[\u001b[0m\u001b[1;34m'Diff_mean'\u001b[0m\u001b[1;33m]\u001b[0m\u001b[1;33m=\u001b[0m\u001b[0mdiff\u001b[0m\u001b[1;33m\u001b[0m\u001b[1;33m\u001b[0m\u001b[0m\n",
      "\u001b[1;32m~\\anaconda3\\lib\\site-packages\\pandas\\core\\frame.py\u001b[0m in \u001b[0;36m__setitem__\u001b[1;34m(self, key, value)\u001b[0m\n\u001b[0;32m   3948\u001b[0m         \u001b[1;32melse\u001b[0m\u001b[1;33m:\u001b[0m\u001b[1;33m\u001b[0m\u001b[1;33m\u001b[0m\u001b[0m\n\u001b[0;32m   3949\u001b[0m             \u001b[1;31m# set column\u001b[0m\u001b[1;33m\u001b[0m\u001b[1;33m\u001b[0m\u001b[1;33m\u001b[0m\u001b[0m\n\u001b[1;32m-> 3950\u001b[1;33m             \u001b[0mself\u001b[0m\u001b[1;33m.\u001b[0m\u001b[0m_set_item\u001b[0m\u001b[1;33m(\u001b[0m\u001b[0mkey\u001b[0m\u001b[1;33m,\u001b[0m \u001b[0mvalue\u001b[0m\u001b[1;33m)\u001b[0m\u001b[1;33m\u001b[0m\u001b[1;33m\u001b[0m\u001b[0m\n\u001b[0m\u001b[0;32m   3951\u001b[0m \u001b[1;33m\u001b[0m\u001b[0m\n\u001b[0;32m   3952\u001b[0m     \u001b[1;32mdef\u001b[0m \u001b[0m_setitem_slice\u001b[0m\u001b[1;33m(\u001b[0m\u001b[0mself\u001b[0m\u001b[1;33m,\u001b[0m \u001b[0mkey\u001b[0m\u001b[1;33m:\u001b[0m \u001b[0mslice\u001b[0m\u001b[1;33m,\u001b[0m \u001b[0mvalue\u001b[0m\u001b[1;33m)\u001b[0m \u001b[1;33m->\u001b[0m \u001b[1;32mNone\u001b[0m\u001b[1;33m:\u001b[0m\u001b[1;33m\u001b[0m\u001b[1;33m\u001b[0m\u001b[0m\n",
      "\u001b[1;32m~\\anaconda3\\lib\\site-packages\\pandas\\core\\frame.py\u001b[0m in \u001b[0;36m_set_item\u001b[1;34m(self, key, value)\u001b[0m\n\u001b[0;32m   4141\u001b[0m         \u001b[0mensure\u001b[0m \u001b[0mhomogeneity\u001b[0m\u001b[1;33m.\u001b[0m\u001b[1;33m\u001b[0m\u001b[1;33m\u001b[0m\u001b[0m\n\u001b[0;32m   4142\u001b[0m         \"\"\"\n\u001b[1;32m-> 4143\u001b[1;33m         \u001b[0mvalue\u001b[0m \u001b[1;33m=\u001b[0m \u001b[0mself\u001b[0m\u001b[1;33m.\u001b[0m\u001b[0m_sanitize_column\u001b[0m\u001b[1;33m(\u001b[0m\u001b[0mvalue\u001b[0m\u001b[1;33m)\u001b[0m\u001b[1;33m\u001b[0m\u001b[1;33m\u001b[0m\u001b[0m\n\u001b[0m\u001b[0;32m   4144\u001b[0m \u001b[1;33m\u001b[0m\u001b[0m\n\u001b[0;32m   4145\u001b[0m         if (\n",
      "\u001b[1;32m~\\anaconda3\\lib\\site-packages\\pandas\\core\\frame.py\u001b[0m in \u001b[0;36m_sanitize_column\u001b[1;34m(self, value)\u001b[0m\n\u001b[0;32m   4868\u001b[0m \u001b[1;33m\u001b[0m\u001b[0m\n\u001b[0;32m   4869\u001b[0m         \u001b[1;32mif\u001b[0m \u001b[0mis_list_like\u001b[0m\u001b[1;33m(\u001b[0m\u001b[0mvalue\u001b[0m\u001b[1;33m)\u001b[0m\u001b[1;33m:\u001b[0m\u001b[1;33m\u001b[0m\u001b[1;33m\u001b[0m\u001b[0m\n\u001b[1;32m-> 4870\u001b[1;33m             \u001b[0mcom\u001b[0m\u001b[1;33m.\u001b[0m\u001b[0mrequire_length_match\u001b[0m\u001b[1;33m(\u001b[0m\u001b[0mvalue\u001b[0m\u001b[1;33m,\u001b[0m \u001b[0mself\u001b[0m\u001b[1;33m.\u001b[0m\u001b[0mindex\u001b[0m\u001b[1;33m)\u001b[0m\u001b[1;33m\u001b[0m\u001b[1;33m\u001b[0m\u001b[0m\n\u001b[0m\u001b[0;32m   4871\u001b[0m         \u001b[1;32mreturn\u001b[0m \u001b[0msanitize_array\u001b[0m\u001b[1;33m(\u001b[0m\u001b[0mvalue\u001b[0m\u001b[1;33m,\u001b[0m \u001b[0mself\u001b[0m\u001b[1;33m.\u001b[0m\u001b[0mindex\u001b[0m\u001b[1;33m,\u001b[0m \u001b[0mcopy\u001b[0m\u001b[1;33m=\u001b[0m\u001b[1;32mTrue\u001b[0m\u001b[1;33m,\u001b[0m \u001b[0mallow_2d\u001b[0m\u001b[1;33m=\u001b[0m\u001b[1;32mTrue\u001b[0m\u001b[1;33m)\u001b[0m\u001b[1;33m\u001b[0m\u001b[1;33m\u001b[0m\u001b[0m\n\u001b[0;32m   4872\u001b[0m \u001b[1;33m\u001b[0m\u001b[0m\n",
      "\u001b[1;32m~\\anaconda3\\lib\\site-packages\\pandas\\core\\common.py\u001b[0m in \u001b[0;36mrequire_length_match\u001b[1;34m(data, index)\u001b[0m\n\u001b[0;32m    574\u001b[0m     \"\"\"\n\u001b[0;32m    575\u001b[0m     \u001b[1;32mif\u001b[0m \u001b[0mlen\u001b[0m\u001b[1;33m(\u001b[0m\u001b[0mdata\u001b[0m\u001b[1;33m)\u001b[0m \u001b[1;33m!=\u001b[0m \u001b[0mlen\u001b[0m\u001b[1;33m(\u001b[0m\u001b[0mindex\u001b[0m\u001b[1;33m)\u001b[0m\u001b[1;33m:\u001b[0m\u001b[1;33m\u001b[0m\u001b[1;33m\u001b[0m\u001b[0m\n\u001b[1;32m--> 576\u001b[1;33m         raise ValueError(\n\u001b[0m\u001b[0;32m    577\u001b[0m             \u001b[1;34m\"Length of values \"\u001b[0m\u001b[1;33m\u001b[0m\u001b[1;33m\u001b[0m\u001b[0m\n\u001b[0;32m    578\u001b[0m             \u001b[1;34mf\"({len(data)}) \"\u001b[0m\u001b[1;33m\u001b[0m\u001b[1;33m\u001b[0m\u001b[0m\n",
      "\u001b[1;31mValueError\u001b[0m: Length of values (218) does not match length of index (490)"
     ]
    }
   ],
   "source": [
    "datad['Diff_d']=diff\n",
    "datar['Diff_r']=diff\n",
    "datamax['Diff_max']=diff\n",
    "datamin['Diff_min']=diff\n",
    "datamean['Diff_mean']=diff"
   ]
  },
  {
   "cell_type": "code",
   "execution_count": null,
   "metadata": {},
   "outputs": [],
   "source": [
    "print(datar['Diff_r'])"
   ]
  },
  {
   "cell_type": "code",
   "execution_count": null,
   "metadata": {},
   "outputs": [],
   "source": [
    "modd = \"\"\"Diff_d~Mother_d+Infant_d\n",
    "      \"\"\"\n",
    "modeld = Model(modd)\n",
    "resd = modeld.fit(datad)\n",
    "insd = modeld.inspect(std_est=True)\n",
    "print(insd)"
   ]
  },
  {
   "cell_type": "code",
   "execution_count": null,
   "metadata": {},
   "outputs": [],
   "source": [
    "modr = \"\"\"Diff_r~Mother_r+Infant_r\n",
    "      \"\"\"\n",
    "modelr = Model(modr)\n",
    "resr = modelr.fit(datar)\n",
    "insr = modelr.inspect(std_est=True)\n",
    "print(insr)"
   ]
  },
  {
   "cell_type": "code",
   "execution_count": null,
   "metadata": {},
   "outputs": [],
   "source": [
    "modmax = \"\"\"Diff_max~Mother_max+Infant_max\n",
    "      \"\"\"\n",
    "modelmax = Model(modmax)\n",
    "resmax = modelmax.fit(datamax)\n",
    "insmax = modelmax.inspect(std_est=True)\n",
    "print(insmax)"
   ]
  },
  {
   "cell_type": "code",
   "execution_count": null,
   "metadata": {},
   "outputs": [],
   "source": [
    "modmin = \"\"\"Diff_min~Mother_min+Infant_min\n",
    "      \"\"\"\n",
    "modelmin = Model(modmin)\n",
    "resmin = modelmin.fit(datamin)\n",
    "insmin = modelmin.inspect(std_est=True)\n",
    "print(insmin)"
   ]
  },
  {
   "cell_type": "code",
   "execution_count": null,
   "metadata": {},
   "outputs": [],
   "source": [
    "modmean = \"\"\"Diff_mean~Mother_mean+Infant_mean\n",
    "      \"\"\"\n",
    "modelmean = Model(modmean)\n",
    "resmean = modelmean.fit(datamean)\n",
    "insmean = modelmean.inspect(std_est=True)\n",
    "print(insmean)"
   ]
  },
  {
   "cell_type": "code",
   "execution_count": null,
   "metadata": {},
   "outputs": [],
   "source": [
    "plt.scatter(xlabel,diff, color='blue')\n",
    "plt.scatter(xlabel520,diffc520, color='red')\n",
    "plt.scatter(xlabel14,diffc14, color='yellow')\n",
    "plt.xlabel('Turns', fontsize=12)\n",
    "plt.ylabel('DTW_pitch pattern',fontsize=12)"
   ]
  },
  {
   "cell_type": "code",
   "execution_count": null,
   "metadata": {},
   "outputs": [],
   "source": [
    "\n"
   ]
  },
  {
   "cell_type": "code",
   "execution_count": null,
   "metadata": {},
   "outputs": [],
   "source": []
  }
 ],
 "metadata": {
  "kernelspec": {
   "display_name": "Python 3",
   "language": "python",
   "name": "python3"
  },
  "language_info": {
   "codemirror_mode": {
    "name": "ipython",
    "version": 3
   },
   "file_extension": ".py",
   "mimetype": "text/x-python",
   "name": "python",
   "nbconvert_exporter": "python",
   "pygments_lexer": "ipython3",
   "version": "3.8.5"
  }
 },
 "nbformat": 4,
 "nbformat_minor": 4
}
