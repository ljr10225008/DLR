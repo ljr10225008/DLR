{
 "cells": [
  {
   "cell_type": "code",
   "execution_count": 1,
   "metadata": {},
   "outputs": [
    {
     "name": "stderr",
     "output_type": "stream",
     "text": [
      "C:\\Users\\ljr\\anaconda3\\lib\\site-packages\\pandas\\core\\computation\\expressions.py:20: UserWarning: Pandas requires version '2.7.3' or newer of 'numexpr' (version '2.7.1' currently installed).\n",
      "  from pandas.core.computation.check import NUMEXPR_INSTALLED\n"
     ]
    }
   ],
   "source": [
    "import math\n",
    "import numpy as np\n",
    "import sklearn\n",
    "from sklearn.cluster import KMeans\n",
    "import matplotlib as mpl\n",
    "import matplotlib.pyplot as plt\n",
    "import librosa\n",
    "import librosa.display\n",
    "import os\n",
    "import re\n",
    "import seaborn as sns\n",
    "import pandas as pd\n",
    "import random\n",
    "from scipy import stats  #t-test\n",
    "import semopy\n",
    "import pandas as pd\n",
    "from semopy import Model\n",
    "import scipy.stats as stats \n",
    "from itertools import groupby"
   ]
  },
  {
   "cell_type": "code",
   "execution_count": 2,
   "metadata": {},
   "outputs": [],
   "source": [
    "pathturn11 = r\"C:\\LJR\\babylab\\marisa\\datamanual\\cut\\0643\\turntaking\\block\\fa\\turn1\"\n",
    "filesturn11= os.listdir(pathturn11)\n",
    "pathturn12 = r\"C:\\LJR\\babylab\\marisa\\datamanual\\cut\\0643\\turntaking\\block\\fa\\turn2\"\n",
    "filesturn12= os.listdir(pathturn12)\n",
    "pathturn13 = r\"C:\\LJR\\babylab\\marisa\\datamanual\\cut\\0643\\turntaking\\block\\fa\\turn3\"\n",
    "filesturn13= os.listdir(pathturn13)\n",
    "pathturn14 = r\"C:\\LJR\\babylab\\marisa\\datamanual\\cut\\0643\\turntaking\\block\\fa\\turn4\"\n",
    "filesturn14= os.listdir(pathturn14)\n",
    "pathturn15 = r\"C:\\LJR\\babylab\\marisa\\datamanual\\cut\\0643\\turntaking\\block\\fa\\turn5\"\n",
    "filesturn15= os.listdir(pathturn15)\n",
    "\n",
    "pathturn11c = r\"C:\\LJR\\babylab\\marisa\\datamanual\\cut\\0643\\turntaking\\block\\chi\\turn1\"\n",
    "filesturn11c= os.listdir(pathturn11c)\n",
    "pathturn12c = r\"C:\\LJR\\babylab\\marisa\\datamanual\\cut\\0643\\turntaking\\block\\chi\\turn2\"\n",
    "filesturn12c= os.listdir(pathturn12c)\n",
    "pathturn13c = r\"C:\\LJR\\babylab\\marisa\\datamanual\\cut\\0643\\turntaking\\block\\chi\\turn3\"\n",
    "filesturn13c= os.listdir(pathturn13c)\n",
    "pathturn14c = r\"C:\\LJR\\babylab\\marisa\\datamanual\\cut\\0643\\turntaking\\block\\chi\\turn4\"\n",
    "filesturn14c= os.listdir(pathturn14c)\n",
    "pathturn15c = r\"C:\\LJR\\babylab\\marisa\\datamanual\\cut\\0643\\turntaking\\block\\chi\\turn5\"\n",
    "filesturn15c= os.listdir(pathturn15c)"
   ]
  },
  {
   "cell_type": "code",
   "execution_count": 3,
   "metadata": {},
   "outputs": [],
   "source": [
    "pathturn21 = r\"C:\\LJR\\babylab\\marisa\\datamanual\\cut\\2109\\turntaking\\block\\fa\\turn1\"\n",
    "filesturn21= os.listdir(pathturn21)\n",
    "pathturn22 = r\"C:\\LJR\\babylab\\marisa\\datamanual\\cut\\2109\\turntaking\\block\\fa\\turn2\"\n",
    "filesturn22= os.listdir(pathturn22)\n",
    "pathturn23 = r\"C:\\LJR\\babylab\\marisa\\datamanual\\cut\\2109\\turntaking\\block\\fa\\turn3\"\n",
    "filesturn23= os.listdir(pathturn23)\n",
    "pathturn24 = r\"C:\\LJR\\babylab\\marisa\\datamanual\\cut\\2109\\turntaking\\block\\fa\\turn4\"\n",
    "filesturn24= os.listdir(pathturn24)\n",
    "pathturn25 = r\"C:\\LJR\\babylab\\marisa\\datamanual\\cut\\2109\\turntaking\\block\\fa\\turn5\"\n",
    "filesturn25= os.listdir(pathturn25)\n",
    "pathturn26 = r\"C:\\LJR\\babylab\\marisa\\datamanual\\cut\\2109\\turntaking\\block\\fa\\turn6\"\n",
    "filesturn26= os.listdir(pathturn26)\n",
    "\n",
    "pathturn21c = r\"C:\\LJR\\babylab\\marisa\\datamanual\\cut\\2109\\turntaking\\block\\chi\\turn1\"\n",
    "filesturn21c= os.listdir(pathturn21c)\n",
    "pathturn22c = r\"C:\\LJR\\babylab\\marisa\\datamanual\\cut\\2109\\turntaking\\block\\chi\\turn2\"\n",
    "filesturn22c= os.listdir(pathturn22c)\n",
    "pathturn23c = r\"C:\\LJR\\babylab\\marisa\\datamanual\\cut\\2109\\turntaking\\block\\chi\\turn3\"\n",
    "filesturn23c= os.listdir(pathturn23c)\n",
    "pathturn24c = r\"C:\\LJR\\babylab\\marisa\\datamanual\\cut\\2109\\turntaking\\block\\chi\\turn4\"\n",
    "filesturn24c= os.listdir(pathturn24c)\n",
    "pathturn25c = r\"C:\\LJR\\babylab\\marisa\\datamanual\\cut\\2109\\turntaking\\block\\chi\\turn5\"\n",
    "filesturn25c= os.listdir(pathturn25c)\n",
    "pathturn26c = r\"C:\\LJR\\babylab\\marisa\\datamanual\\cut\\2109\\turntaking\\block\\chi\\turn6\"\n",
    "filesturn26c= os.listdir(pathturn26c)"
   ]
  },
  {
   "cell_type": "code",
   "execution_count": 4,
   "metadata": {},
   "outputs": [],
   "source": [
    "pathturn61 = r\"C:\\LJR\\babylab\\marisa\\datamanual\\cut\\7176\\turntaking\\block\\fa\\turn1\"\n",
    "filesturn61= os.listdir(pathturn61)\n",
    "pathturn62 = r\"C:\\LJR\\babylab\\marisa\\datamanual\\cut\\7176\\turntaking\\block\\fa\\turn2\"\n",
    "filesturn62= os.listdir(pathturn62)\n",
    "pathturn63 = r\"C:\\LJR\\babylab\\marisa\\datamanual\\cut\\7176\\turntaking\\block\\fa\\turn3\"\n",
    "filesturn63= os.listdir(pathturn63)\n",
    "pathturn64 = r\"C:\\LJR\\babylab\\marisa\\datamanual\\cut\\7176\\turntaking\\block\\fa\\turn4\"\n",
    "filesturn64= os.listdir(pathturn64)\n",
    "pathturn65 = r\"C:\\LJR\\babylab\\marisa\\datamanual\\cut\\7176\\turntaking\\block\\fa\\turn5\"\n",
    "filesturn65= os.listdir(pathturn65)\n",
    "pathturn66 = r\"C:\\LJR\\babylab\\marisa\\datamanual\\cut\\7176\\turntaking\\block\\fa\\turn6\"\n",
    "filesturn66= os.listdir(pathturn66)\n",
    "pathturn67 = r\"C:\\LJR\\babylab\\marisa\\datamanual\\cut\\7176\\turntaking\\block\\fa\\turn7\"\n",
    "filesturn67= os.listdir(pathturn67)\n",
    "pathturn68 = r\"C:\\LJR\\babylab\\marisa\\datamanual\\cut\\7176\\turntaking\\block\\fa\\turn8\"\n",
    "filesturn68= os.listdir(pathturn68)\n",
    "\n",
    "\n",
    "pathturn61c = r\"C:\\LJR\\babylab\\marisa\\datamanual\\cut\\7176\\turntaking\\block\\chi\\turn1\"\n",
    "filesturn61c= os.listdir(pathturn61c)\n",
    "pathturn62c = r\"C:\\LJR\\babylab\\marisa\\datamanual\\cut\\7176\\turntaking\\block\\chi\\turn2\"\n",
    "filesturn62c= os.listdir(pathturn62c)\n",
    "pathturn63c = r\"C:\\LJR\\babylab\\marisa\\datamanual\\cut\\7176\\turntaking\\block\\chi\\turn3\"\n",
    "filesturn63c= os.listdir(pathturn63c)\n",
    "pathturn64c = r\"C:\\LJR\\babylab\\marisa\\datamanual\\cut\\7176\\turntaking\\block\\chi\\turn4\"\n",
    "filesturn64c= os.listdir(pathturn64c)\n",
    "pathturn65c = r\"C:\\LJR\\babylab\\marisa\\datamanual\\cut\\7176\\turntaking\\block\\chi\\turn5\"\n",
    "filesturn65c= os.listdir(pathturn65c)\n",
    "pathturn66c = r\"C:\\LJR\\babylab\\marisa\\datamanual\\cut\\7176\\turntaking\\block\\chi\\turn6\"\n",
    "filesturn66c= os.listdir(pathturn66c)\n",
    "pathturn67c = r\"C:\\LJR\\babylab\\marisa\\datamanual\\cut\\7176\\turntaking\\block\\chi\\turn7\"\n",
    "filesturn67c= os.listdir(pathturn67c)\n",
    "pathturn68c = r\"C:\\LJR\\babylab\\marisa\\datamanual\\cut\\7176\\turntaking\\block\\chi\\turn8\"\n",
    "filesturn68c= os.listdir(pathturn68c)\n"
   ]
  },
  {
   "cell_type": "code",
   "execution_count": 5,
   "metadata": {},
   "outputs": [],
   "source": [
    "pathturn71 = r\"C:\\LJR\\babylab\\marisa\\datamanual\\cut\\7220\\turntaking\\block\\fa\\turn1\"\n",
    "filesturn71= os.listdir(pathturn71)\n",
    "pathturn72 = r\"C:\\LJR\\babylab\\marisa\\datamanual\\cut\\7220\\turntaking\\block\\fa\\turn2\"\n",
    "filesturn72= os.listdir(pathturn72)\n",
    "pathturn73 = r\"C:\\LJR\\babylab\\marisa\\datamanual\\cut\\7220\\turntaking\\block\\fa\\turn3\"\n",
    "filesturn73= os.listdir(pathturn73)\n",
    "pathturn74 = r\"C:\\LJR\\babylab\\marisa\\datamanual\\cut\\7220\\turntaking\\block\\fa\\turn4\"\n",
    "filesturn74= os.listdir(pathturn74)\n",
    "pathturn75 = r\"C:\\LJR\\babylab\\marisa\\datamanual\\cut\\7220\\turntaking\\block\\fa\\turn5\"\n",
    "filesturn75= os.listdir(pathturn75)\n",
    "pathturn76 = r\"C:\\LJR\\babylab\\marisa\\datamanual\\cut\\7220\\turntaking\\block\\fa\\turn6\"\n",
    "filesturn76= os.listdir(pathturn76)\n",
    "pathturn77 = r\"C:\\LJR\\babylab\\marisa\\datamanual\\cut\\7220\\turntaking\\block\\fa\\turn7\"\n",
    "filesturn77= os.listdir(pathturn77)\n",
    "pathturn78 = r\"C:\\LJR\\babylab\\marisa\\datamanual\\cut\\7220\\turntaking\\block\\fa\\turn8\"\n",
    "filesturn78= os.listdir(pathturn78)\n",
    "pathturn79 = r\"C:\\LJR\\babylab\\marisa\\datamanual\\cut\\7220\\turntaking\\block\\fa\\turn9\"\n",
    "filesturn79= os.listdir(pathturn79)\n",
    "pathturn710 = r\"C:\\LJR\\babylab\\marisa\\datamanual\\cut\\7220\\turntaking\\block\\fa\\turn10\"\n",
    "filesturn710= os.listdir(pathturn710)\n",
    "pathturn711 = r\"C:\\LJR\\babylab\\marisa\\datamanual\\cut\\7220\\turntaking\\block\\fa\\turn11\"\n",
    "filesturn711= os.listdir(pathturn711)\n",
    "\n",
    "pathturn71c = r\"C:\\LJR\\babylab\\marisa\\datamanual\\cut\\7220\\turntaking\\block\\chi\\turn1\"\n",
    "filesturn71c= os.listdir(pathturn71c)\n",
    "pathturn72c = r\"C:\\LJR\\babylab\\marisa\\datamanual\\cut\\7220\\turntaking\\block\\chi\\turn2\"\n",
    "filesturn72c= os.listdir(pathturn72c)\n",
    "pathturn73c = r\"C:\\LJR\\babylab\\marisa\\datamanual\\cut\\7220\\turntaking\\block\\chi\\turn3\"\n",
    "filesturn73c= os.listdir(pathturn73c)\n",
    "pathturn74c = r\"C:\\LJR\\babylab\\marisa\\datamanual\\cut\\7220\\turntaking\\block\\chi\\turn4\"\n",
    "filesturn74c= os.listdir(pathturn74c)\n",
    "pathturn75c = r\"C:\\LJR\\babylab\\marisa\\datamanual\\cut\\7220\\turntaking\\block\\chi\\turn5\"\n",
    "filesturn75c= os.listdir(pathturn75c)\n",
    "pathturn76c = r\"C:\\LJR\\babylab\\marisa\\datamanual\\cut\\7220\\turntaking\\block\\chi\\turn6\"\n",
    "filesturn76c= os.listdir(pathturn76c)\n",
    "pathturn77c = r\"C:\\LJR\\babylab\\marisa\\datamanual\\cut\\7220\\turntaking\\block\\chi\\turn7\"\n",
    "filesturn77c= os.listdir(pathturn77c)\n",
    "pathturn78c = r\"C:\\LJR\\babylab\\marisa\\datamanual\\cut\\7220\\turntaking\\block\\chi\\turn8\"\n",
    "filesturn78c= os.listdir(pathturn78c)\n",
    "pathturn79c = r\"C:\\LJR\\babylab\\marisa\\datamanual\\cut\\7220\\turntaking\\block\\chi\\turn9\"\n",
    "filesturn79c= os.listdir(pathturn79c)\n",
    "pathturn710c = r\"C:\\LJR\\babylab\\marisa\\datamanual\\cut\\7220\\turntaking\\block\\chi\\turn10\"\n",
    "filesturn710c= os.listdir(pathturn710c)\n",
    "pathturn711c = r\"C:\\LJR\\babylab\\marisa\\datamanual\\cut\\7220\\turntaking\\block\\chi\\turn11\"\n",
    "filesturn711c= os.listdir(pathturn711c)"
   ]
  },
  {
   "cell_type": "code",
   "execution_count": 6,
   "metadata": {},
   "outputs": [],
   "source": [
    "pathturn81 = r\"C:\\LJR\\babylab\\marisa\\datamanual\\cut\\7326\\turntaking\\block\\fa\\turn1\"\n",
    "filesturn81= os.listdir(pathturn81)\n",
    "pathturn82 = r\"C:\\LJR\\babylab\\marisa\\datamanual\\cut\\7326\\turntaking\\block\\fa\\turn2\"\n",
    "filesturn82= os.listdir(pathturn82)\n",
    "pathturn83 = r\"C:\\LJR\\babylab\\marisa\\datamanual\\cut\\7326\\turntaking\\block\\fa\\turn3\"\n",
    "filesturn83= os.listdir(pathturn83)\n",
    "pathturn84 = r\"C:\\LJR\\babylab\\marisa\\datamanual\\cut\\7326\\turntaking\\block\\fa\\turn4\"\n",
    "filesturn84= os.listdir(pathturn84)\n",
    "pathturn85 = r\"C:\\LJR\\babylab\\marisa\\datamanual\\cut\\7326\\turntaking\\block\\fa\\turn5\"\n",
    "filesturn85= os.listdir(pathturn85)\n",
    "pathturn86 = r\"C:\\LJR\\babylab\\marisa\\datamanual\\cut\\7326\\turntaking\\block\\fa\\turn6\"\n",
    "filesturn86= os.listdir(pathturn86)\n",
    "pathturn87 = r\"C:\\LJR\\babylab\\marisa\\datamanual\\cut\\7326\\turntaking\\block\\fa\\turn7\"\n",
    "filesturn87= os.listdir(pathturn87)\n",
    "pathturn88 = r\"C:\\LJR\\babylab\\marisa\\datamanual\\cut\\7326\\turntaking\\block\\fa\\turn8\"\n",
    "filesturn88= os.listdir(pathturn88)\n",
    "pathturn89 = r\"C:\\LJR\\babylab\\marisa\\datamanual\\cut\\7326\\turntaking\\block\\fa\\turn9\"\n",
    "filesturn89= os.listdir(pathturn89)\n",
    "pathturn810 = r\"C:\\LJR\\babylab\\marisa\\datamanual\\cut\\7326\\turntaking\\block\\fa\\turn10\"\n",
    "filesturn810= os.listdir(pathturn810)\n",
    "\n",
    "\n",
    "pathturn81c = r\"C:\\LJR\\babylab\\marisa\\datamanual\\cut\\7326\\turntaking\\block\\chi\\turn1\"\n",
    "filesturn81c= os.listdir(pathturn81c)\n",
    "pathturn82c = r\"C:\\LJR\\babylab\\marisa\\datamanual\\cut\\7326\\turntaking\\block\\chi\\turn2\"\n",
    "filesturn82c= os.listdir(pathturn82c)\n",
    "pathturn83c = r\"C:\\LJR\\babylab\\marisa\\datamanual\\cut\\7326\\turntaking\\block\\chi\\turn3\"\n",
    "filesturn83c= os.listdir(pathturn83c)\n",
    "pathturn84c = r\"C:\\LJR\\babylab\\marisa\\datamanual\\cut\\7326\\turntaking\\block\\chi\\turn4\"\n",
    "filesturn84c= os.listdir(pathturn84c)\n",
    "pathturn85c = r\"C:\\LJR\\babylab\\marisa\\datamanual\\cut\\7326\\turntaking\\block\\chi\\turn5\"\n",
    "filesturn85c= os.listdir(pathturn85c)\n",
    "pathturn86c = r\"C:\\LJR\\babylab\\marisa\\datamanual\\cut\\7326\\turntaking\\block\\chi\\turn6\"\n",
    "filesturn86c= os.listdir(pathturn86c)\n",
    "pathturn87c = r\"C:\\LJR\\babylab\\marisa\\datamanual\\cut\\7326\\turntaking\\block\\chi\\turn7\"\n",
    "filesturn87c= os.listdir(pathturn87c)\n",
    "pathturn88c = r\"C:\\LJR\\babylab\\marisa\\datamanual\\cut\\7326\\turntaking\\block\\chi\\turn8\"\n",
    "filesturn88c= os.listdir(pathturn88c)\n",
    "pathturn89c = r\"C:\\LJR\\babylab\\marisa\\datamanual\\cut\\7326\\turntaking\\block\\chi\\turn9\"\n",
    "filesturn89c= os.listdir(pathturn89c)\n",
    "pathturn810c = r\"C:\\LJR\\babylab\\marisa\\datamanual\\cut\\7326\\turntaking\\block\\chi\\turn10\"\n",
    "filesturn810c= os.listdir(pathturn810c)\n"
   ]
  },
  {
   "cell_type": "code",
   "execution_count": 7,
   "metadata": {},
   "outputs": [],
   "source": [
    "pathturn811 = r\"C:\\LJR\\babylab\\marisa\\datamanual\\cut\\7326\\turntaking\\block\\fa\\turn11\"\n",
    "filesturn811= os.listdir(pathturn811)\n",
    "pathturn812 = r\"C:\\LJR\\babylab\\marisa\\datamanual\\cut\\7326\\turntaking\\block\\fa\\turn12\"\n",
    "filesturn812= os.listdir(pathturn812)\n",
    "pathturn813 = r\"C:\\LJR\\babylab\\marisa\\datamanual\\cut\\7326\\turntaking\\block\\fa\\turn13\"\n",
    "filesturn813= os.listdir(pathturn813)\n",
    "pathturn814 = r\"C:\\LJR\\babylab\\marisa\\datamanual\\cut\\7326\\turntaking\\block\\fa\\turn14\"\n",
    "filesturn814= os.listdir(pathturn814)\n",
    "pathturn815 = r\"C:\\LJR\\babylab\\marisa\\datamanual\\cut\\7326\\turntaking\\block\\fa\\turn15\"\n",
    "filesturn815= os.listdir(pathturn815)\n",
    "pathturn816 = r\"C:\\LJR\\babylab\\marisa\\datamanual\\cut\\7326\\turntaking\\block\\fa\\turn16\"\n",
    "filesturn816= os.listdir(pathturn816)\n",
    "pathturn817 = r\"C:\\LJR\\babylab\\marisa\\datamanual\\cut\\7326\\turntaking\\block\\fa\\turn17\"\n",
    "filesturn817= os.listdir(pathturn817)\n",
    "pathturn818 = r\"C:\\LJR\\babylab\\marisa\\datamanual\\cut\\7326\\turntaking\\block\\fa\\turn18\"\n",
    "filesturn818= os.listdir(pathturn818)\n",
    "pathturn819 = r\"C:\\LJR\\babylab\\marisa\\datamanual\\cut\\7326\\turntaking\\block\\fa\\turn19\"\n",
    "filesturn819= os.listdir(pathturn819)\n",
    "pathturn820 = r\"C:\\LJR\\babylab\\marisa\\datamanual\\cut\\7326\\turntaking\\block\\fa\\turn20\"\n",
    "filesturn820= os.listdir(pathturn820)\n",
    "pathturn821 = r\"C:\\LJR\\babylab\\marisa\\datamanual\\cut\\7326\\turntaking\\block\\fa\\turn21\"\n",
    "filesturn821= os.listdir(pathturn821)\n",
    "pathturn822 = r\"C:\\LJR\\babylab\\marisa\\datamanual\\cut\\7326\\turntaking\\block\\fa\\turn22\"\n",
    "filesturn822= os.listdir(pathturn822)\n",
    "\n",
    "\n",
    "pathturn811c = r\"C:\\LJR\\babylab\\marisa\\datamanual\\cut\\7326\\turntaking\\block\\chi\\turn11\"\n",
    "filesturn811c= os.listdir(pathturn811c)\n",
    "pathturn812c = r\"C:\\LJR\\babylab\\marisa\\datamanual\\cut\\7326\\turntaking\\block\\chi\\turn12\"\n",
    "filesturn812c= os.listdir(pathturn812c)\n",
    "pathturn813c = r\"C:\\LJR\\babylab\\marisa\\datamanual\\cut\\7326\\turntaking\\block\\chi\\turn13\"\n",
    "filesturn813c= os.listdir(pathturn813c)\n",
    "pathturn814c = r\"C:\\LJR\\babylab\\marisa\\datamanual\\cut\\7326\\turntaking\\block\\chi\\turn14\"\n",
    "filesturn814c= os.listdir(pathturn814c)\n",
    "pathturn815c = r\"C:\\LJR\\babylab\\marisa\\datamanual\\cut\\7326\\turntaking\\block\\chi\\turn15\"\n",
    "filesturn815c= os.listdir(pathturn815c)\n",
    "pathturn816c = r\"C:\\LJR\\babylab\\marisa\\datamanual\\cut\\7326\\turntaking\\block\\chi\\turn16\"\n",
    "filesturn816c= os.listdir(pathturn816c)\n",
    "pathturn817c = r\"C:\\LJR\\babylab\\marisa\\datamanual\\cut\\7326\\turntaking\\block\\chi\\turn17\"\n",
    "filesturn817c= os.listdir(pathturn817c)\n",
    "pathturn818c = r\"C:\\LJR\\babylab\\marisa\\datamanual\\cut\\7326\\turntaking\\block\\chi\\turn18\"\n",
    "filesturn818c= os.listdir(pathturn818c)\n",
    "pathturn819c = r\"C:\\LJR\\babylab\\marisa\\datamanual\\cut\\7326\\turntaking\\block\\chi\\turn19\"\n",
    "filesturn819c= os.listdir(pathturn819c)\n",
    "pathturn820c = r\"C:\\LJR\\babylab\\marisa\\datamanual\\cut\\7326\\turntaking\\block\\chi\\turn20\"\n",
    "filesturn820c= os.listdir(pathturn820c)\n",
    "pathturn821c = r\"C:\\LJR\\babylab\\marisa\\datamanual\\cut\\7326\\turntaking\\block\\chi\\turn21\"\n",
    "filesturn821c= os.listdir(pathturn821c)\n",
    "pathturn822c = r\"C:\\LJR\\babylab\\marisa\\datamanual\\cut\\7326\\turntaking\\block\\chi\\turn22\"\n",
    "filesturn822c= os.listdir(pathturn822c)"
   ]
  },
  {
   "cell_type": "code",
   "execution_count": 8,
   "metadata": {},
   "outputs": [],
   "source": [
    "pathturn91 = r\"C:\\LJR\\babylab\\marisa\\datamanual\\cut\\8787\\turntaking\\block\\fa\\turn1\"\n",
    "filesturn91= os.listdir(pathturn91)\n",
    "pathturn91c = r\"C:\\LJR\\babylab\\marisa\\datamanual\\cut\\8787\\turntaking\\block\\chi\\turn1\"\n",
    "filesturn91c= os.listdir(pathturn91c)"
   ]
  },
  {
   "cell_type": "code",
   "execution_count": 9,
   "metadata": {},
   "outputs": [],
   "source": [
    "import sklearn\n",
    "def normalize(x, axis=0):\n",
    "    return sklearn.preprocessing.minmax_scale(x, axis=axis)"
   ]
  },
  {
   "cell_type": "code",
   "execution_count": 10,
   "metadata": {},
   "outputs": [],
   "source": [
    "def featurec(path,files):\n",
    "    t=np.zeros((len(files),10))\n",
    "    for i in range(len(files)):\n",
    "        x,sr1=librosa.load(path+\"\\\\\"+files[i],sr=None)\n",
    "        duration=librosa.get_duration(y=x, sr=sr1)\n",
    "        emphasized_signal = np.append(x[0], x[1:] -0.97 * x[:-1])\n",
    "        mfccss = librosa.feature.mfcc(y=emphasized_signal, sr=sr1)\n",
    "        mfccs = normalize(mfccss , axis=1)\n",
    "        mfccs=mfccs.T\n",
    "        mfccsm=np.mean(mfccs)\n",
    "        f0, voiced_flag, voiced_probs = librosa.pyin(x,sr=sr1,frame_length=512, fill_na=np.nan, n_thresholds=50, fmin=120, fmax=600)\n",
    "        rf0= np.nanmax(f0)-np.nanmin(f0)\n",
    "        if np.isnan(rf0):\n",
    "            print(path+\"\\\\\"+files[i])\n",
    "        maxf0 = np.nanmax(f0)\n",
    "        minf0 = np.nanmin(f0)\n",
    "        mmf0=np.nanmean(f0)\n",
    "        rms = librosa.feature.rms(y=x,frame_length=512, hop_length=128)\n",
    "        mrms=np.nanmean(rms)\n",
    "        zerocrossr = librosa.feature.zero_crossing_rate(y=x,frame_length=512, hop_length=128)\n",
    "        mzerocrossr=np.nanmean(zerocrossr)\n",
    "        starttime=re.search(\"(\\d+\\.\\d+)\",files[i]).group(0)\n",
    "        label=0\n",
    "        feature=np.c_[float(starttime),duration,mfccsm,rf0,maxf0,minf0,mmf0,mrms,mzerocrossr,label]\n",
    "        t[i,:]=feature\n",
    "    return t"
   ]
  },
  {
   "cell_type": "code",
   "execution_count": 11,
   "metadata": {},
   "outputs": [],
   "source": [
    "def featureci(path,files):\n",
    "    t=np.zeros((len(files),10))\n",
    "    for i in range(len(files)):\n",
    "        x,sr1=librosa.load(path+\"\\\\\"+files[i],sr=None)\n",
    "        duration=librosa.get_duration(y=x, sr=sr1)\n",
    "        emphasized_signal = np.append(x[0], x[1:] -0.97 * x[:-1])\n",
    "        mfccss = librosa.feature.mfcc(y=emphasized_signal, sr=sr1)\n",
    "        mfccs = normalize(mfccss , axis=1)\n",
    "        mfccs=mfccs.T\n",
    "        mfccsm=np.mean(mfccs)\n",
    "        f0, voiced_flag, voiced_probs = librosa.pyin(x,sr=sr1,frame_length=512, fill_na=np.nan, n_thresholds=50, fmin=120, fmax=1000)\n",
    "        rf0= np.nanmax(f0)-np.nanmin(f0)\n",
    "        if np.isnan(rf0):\n",
    "            print(path+\"\\\\\"+files[i])\n",
    "        maxf0 = np.nanmax(f0)\n",
    "        minf0 = np.nanmin(f0)\n",
    "        mmf0=np.nanmean(f0)\n",
    "        rms = librosa.feature.rms(y=x,frame_length=512, hop_length=128)\n",
    "        mrms=np.nanmean(rms)\n",
    "        zerocrossr = librosa.feature.zero_crossing_rate(y=x,frame_length=512, hop_length=128)\n",
    "        mzerocrossr=np.nanmean(zerocrossr)\n",
    "        starttime=re.search(\"(\\d+\\.\\d+)\",files[i]).group(0)\n",
    "        label=1\n",
    "        feature=np.c_[float(starttime),duration,mfccsm,rf0,maxf0,minf0,mmf0,mrms,mzerocrossr,label]\n",
    "        t[i,:]=feature\n",
    "    return t"
   ]
  },
  {
   "cell_type": "code",
   "execution_count": 12,
   "metadata": {},
   "outputs": [],
   "source": [
    "def diffc(pathturn,filesturn,pathturnc,filesturnc,conin,idin):\n",
    "    data=featurec(pathturn,filesturn)\n",
    "    datai=featureci(pathturnc,filesturnc)\n",
    "    datamean=np.zeros((len(data[:,6]),len(datai[:,6])))\n",
    "    datamax=np.zeros((len(data[:,4]),len(datai[:,4])))\n",
    "    datamin=np.zeros((len(data[:,5]),len(datai[:,5])))\n",
    "    datarange=np.zeros((len(data[:,3]),len(datai[:,3])))\n",
    "    for i in range(len(data[:,6])):\n",
    "        datamean[i,:]=np.abs(datai[:,6]-data[i,6])\n",
    "        datamax[i,:]=np.abs(datai[:,4]-data[i,4])\n",
    "        datamin[i,:]=np.abs(datai[:,5]-data[i,5])\n",
    "        datarange[i,:]=np.abs(datai[:,3]-data[i,3])\n",
    "    datameano=datamean.reshape(len(data[:,6])*len(datai[:,6]),1)\n",
    "    datamaxo=datamax.reshape(len(data[:,4])*len(datai[:,4]),1)\n",
    "    datamino=datamin.reshape(len(data[:,5])*len(datai[:,5]),1)\n",
    "    datarangeo=datarange.reshape(len(data[:,3])*len(datai[:,3]),1)\n",
    "    ind=np.zeros(len(data[:,6])*len(datai[:,6]))+idin\n",
    "    con=np.zeros(len(data[:,6])*len(datai[:,6]))+conin\n",
    "    dataoutme=np.c_[datameano,con,ind]\n",
    "    dataoutma=np.c_[datamaxo,con,ind]\n",
    "    dataoutmi=np.c_[datamino,con,ind]\n",
    "    dataoutr=np.c_[datarangeo,con,ind]\n",
    "    return dataoutme, dataoutma, dataoutmi,dataoutr"
   ]
  },
  {
   "cell_type": "code",
   "execution_count": 13,
   "metadata": {},
   "outputs": [],
   "source": [
    "diffc11,xlabel11,t11,tc11=diffc(pathturn11,filesturn11,pathturn11c,filesturn11c,0,1)\n",
    "diffc12,xlabel12,t12,tc12=diffc(pathturn12,filesturn12,pathturn12c,filesturn12c,0,1)\n",
    "diffc13,xlabel13,t13,tc13=diffc(pathturn13,filesturn13,pathturn13c,filesturn13c,0,1)\n",
    "diffc14,xlabel14,t14,tc14=diffc(pathturn14,filesturn14,pathturn14c,filesturn14c,0,1)\n",
    "diffc15,xlabel15,t15,tc15=diffc(pathturn15,filesturn15,pathturn15c,filesturn15c,0,1)"
   ]
  },
  {
   "cell_type": "code",
   "execution_count": 14,
   "metadata": {},
   "outputs": [],
   "source": [
    "diffc1=np.r_[diffc11,diffc12,diffc13,diffc14,diffc15]\n",
    "xlabel1=np.r_[xlabel11,xlabel12,xlabel13,xlabel14,xlabel15]\n",
    "t1=np.r_[t11,t12,t13,t14,t15]\n",
    "tc1=np.r_[tc11,tc12,tc13,tc14,tc15]"
   ]
  },
  {
   "cell_type": "code",
   "execution_count": 15,
   "metadata": {},
   "outputs": [],
   "source": [
    "diffc21,xlabel21,t21,tc21=diffc(pathturn21,filesturn21,pathturn21c,filesturn21c,0,2)\n",
    "diffc22,xlabel22,t22,tc22=diffc(pathturn22,filesturn22,pathturn22c,filesturn22c,0,2)\n",
    "diffc23,xlabel23,t23,tc23=diffc(pathturn23,filesturn23,pathturn23c,filesturn23c,0,2)\n",
    "diffc24,xlabel24,t24,tc24=diffc(pathturn24,filesturn24,pathturn24c,filesturn24c,0,2)\n",
    "diffc25,xlabel25,t25,tc25=diffc(pathturn25,filesturn25,pathturn25c,filesturn25c,0,2)\n",
    "diffc26,xlabel26,t26,tc26=diffc(pathturn26,filesturn26,pathturn26c,filesturn26c,0,2)"
   ]
  },
  {
   "cell_type": "code",
   "execution_count": 16,
   "metadata": {},
   "outputs": [],
   "source": [
    "diffc2=np.r_[diffc21,diffc22,diffc23,diffc24,diffc25,diffc26]\n",
    "xlabel2=np.r_[xlabel21,xlabel22,xlabel23,xlabel24,xlabel25,xlabel26]\n",
    "t2=np.r_[t21,t22,t23,t24,t25,t26]\n",
    "tc2=np.r_[tc21,tc22,tc23,tc24,tc25,tc26]"
   ]
  },
  {
   "cell_type": "code",
   "execution_count": 17,
   "metadata": {},
   "outputs": [],
   "source": [
    "diffc61,xlabel61,t61,tc61=diffc(pathturn61,filesturn61,pathturn61c,filesturn61c,0,3)\n",
    "diffc62,xlabel62,t62,tc62=diffc(pathturn62,filesturn62,pathturn62c,filesturn62c,0,3)\n",
    "diffc63,xlabel63,t63,tc63=diffc(pathturn63,filesturn63,pathturn63c,filesturn63c,0,3)\n",
    "diffc64,xlabel64,t64,tc64=diffc(pathturn64,filesturn64,pathturn64c,filesturn64c,0,3)\n",
    "diffc65,xlabel65,t65,tc65=diffc(pathturn65,filesturn65,pathturn65c,filesturn65c,0,3)\n",
    "diffc66,xlabel66,t66,tc66=diffc(pathturn66,filesturn66,pathturn66c,filesturn66c,0,3)\n",
    "diffc67,xlabel67,t67,tc67=diffc(pathturn67,filesturn67,pathturn67c,filesturn67c,0,3)\n",
    "diffc68,xlabel68,t68,tc68=diffc(pathturn68,filesturn68,pathturn68c,filesturn68c,0,3)"
   ]
  },
  {
   "cell_type": "code",
   "execution_count": 18,
   "metadata": {},
   "outputs": [],
   "source": [
    "diffc6=np.r_[diffc61,diffc62,diffc63,diffc64,diffc65,diffc66,diffc67,diffc68]\n",
    "xlabel6=np.r_[xlabel61,xlabel62,xlabel63,xlabel64,xlabel65,xlabel66,xlabel67,xlabel68]\n",
    "t6=np.r_[t61,t62,t63,t64,t65,t66,t67,t68]\n",
    "tc6=np.r_[tc61,tc62,tc63,tc64,tc65,tc66,tc67,tc68]"
   ]
  },
  {
   "cell_type": "code",
   "execution_count": 19,
   "metadata": {},
   "outputs": [],
   "source": [
    "diffc71,xlabel71,t71,tc71=diffc(pathturn71,filesturn71,pathturn71c,filesturn71c,0,4)\n",
    "diffc72,xlabel72,t72,tc72=diffc(pathturn72,filesturn72,pathturn72c,filesturn72c,0,4)\n",
    "diffc73,xlabel73,t73,tc73=diffc(pathturn73,filesturn73,pathturn73c,filesturn73c,0,4)\n",
    "diffc74,xlabel74,t74,tc74=diffc(pathturn74,filesturn74,pathturn74c,filesturn74c,0,4)\n",
    "diffc75,xlabel75,t75,tc75=diffc(pathturn75,filesturn75,pathturn75c,filesturn75c,0,4)\n",
    "diffc76,xlabel76,t76,tc76=diffc(pathturn76,filesturn76,pathturn76c,filesturn76c,0,4)\n",
    "diffc77,xlabel77,t77,tc77=diffc(pathturn77,filesturn77,pathturn77c,filesturn77c,0,4)\n",
    "diffc78,xlabel78,t78,tc78=diffc(pathturn78,filesturn78,pathturn78c,filesturn78c,0,4)\n",
    "diffc79,xlabel79,t79,tc79=diffc(pathturn79,filesturn79,pathturn79c,filesturn79c,0,4)\n",
    "diffc710,xlabel710,t710,tc710=diffc(pathturn710,filesturn710,pathturn710c,filesturn710c,0,4)\n",
    "diffc711,xlabel711,t711,tc711=diffc(pathturn711,filesturn711,pathturn711c,filesturn711c,0,4)"
   ]
  },
  {
   "cell_type": "code",
   "execution_count": 20,
   "metadata": {},
   "outputs": [],
   "source": [
    "diffc7=np.r_[diffc71,diffc72,diffc73,diffc74,diffc75,diffc76,diffc77,diffc78,diffc79,diffc710,diffc711]\n",
    "xlabel7=np.r_[xlabel71,xlabel72,xlabel73,xlabel74,xlabel75,xlabel76,xlabel77,xlabel78,xlabel79,xlabel710,xlabel711]\n",
    "t7=np.r_[t71,t72,t73,t74,t75,t76,t77,t78,t79,t710,t711]\n",
    "tc7=np.r_[tc71,tc72,tc73,tc74,tc75,tc76,tc77,tc78,tc79,tc710,tc711]"
   ]
  },
  {
   "cell_type": "code",
   "execution_count": 21,
   "metadata": {},
   "outputs": [],
   "source": [
    "diffc81,xlabel81,t81,tc81=diffc(pathturn81,filesturn81,pathturn81c,filesturn81c,0,5)\n",
    "diffc82,xlabel82,t82,tc82=diffc(pathturn82,filesturn82,pathturn82c,filesturn82c,0,5)\n",
    "diffc83,xlabel83,t83,tc83=diffc(pathturn83,filesturn83,pathturn83c,filesturn83c,0,5)\n",
    "diffc84,xlabel84,t84,tc84=diffc(pathturn84,filesturn84,pathturn84c,filesturn84c,0,5)\n",
    "diffc85,xlabel85,t85,tc85=diffc(pathturn85,filesturn85,pathturn85c,filesturn85c,0,5)\n",
    "diffc86,xlabel86,t86,tc86=diffc(pathturn86,filesturn86,pathturn86c,filesturn86c,0,5)\n",
    "diffc87,xlabel87,t87,tc87=diffc(pathturn87,filesturn87,pathturn87c,filesturn87c,0,5)\n",
    "diffc88,xlabel88,t88,tc88=diffc(pathturn88,filesturn88,pathturn88c,filesturn88c,0,5)\n",
    "diffc89,xlabel89,t89,tc89=diffc(pathturn89,filesturn89,pathturn89c,filesturn89c,0,5)\n",
    "diffc810,xlabel810,t810,tc810=diffc(pathturn810,filesturn810,pathturn810c,filesturn810c,0,5)"
   ]
  },
  {
   "cell_type": "code",
   "execution_count": 22,
   "metadata": {},
   "outputs": [],
   "source": [
    "tdiffc81=np.r_[diffc81,diffc82,diffc83,diffc84,diffc85,diffc86,diffc87,diffc88,diffc89,diffc810]\n",
    "txlabel81=np.r_[xlabel81,xlabel82,xlabel83,xlabel84,xlabel85,xlabel86,xlabel87,xlabel88,xlabel89,xlabel810]\n",
    "tt81=np.r_[t81,t82,t83,t84,t85,t86,t87,t88,t89,t810]\n",
    "ttc81=np.r_[tc81,tc82,tc83,tc84,tc85,tc86,tc87,tc88,tc89,tc810]"
   ]
  },
  {
   "cell_type": "code",
   "execution_count": 23,
   "metadata": {},
   "outputs": [],
   "source": [
    "diffc811,xlabel811,t811,tc811=diffc(pathturn811,filesturn811,pathturn811c,filesturn811c,0,5)\n",
    "diffc812,xlabel812,t812,tc812=diffc(pathturn812,filesturn812,pathturn812c,filesturn812c,0,5)\n",
    "diffc813,xlabel813,t813,tc813=diffc(pathturn813,filesturn813,pathturn813c,filesturn813c,0,5)\n",
    "diffc814,xlabel814,t814,tc814=diffc(pathturn814,filesturn814,pathturn814c,filesturn814c,0,5)\n",
    "diffc815,xlabel815,t815,tc815=diffc(pathturn815,filesturn815,pathturn815c,filesturn815c,0,5)\n",
    "diffc816,xlabel816,t816,tc816=diffc(pathturn816,filesturn816,pathturn816c,filesturn816c,0,5)\n",
    "diffc817,xlabel817,t817,tc817=diffc(pathturn817,filesturn817,pathturn817c,filesturn817c,0,5)\n",
    "diffc818,xlabel818,t818,tc818=diffc(pathturn818,filesturn818,pathturn818c,filesturn818c,0,5)\n",
    "diffc819,xlabel819,t819,tc819=diffc(pathturn819,filesturn819,pathturn819c,filesturn819c,0,5)\n",
    "diffc820,xlabel820,t820,tc820=diffc(pathturn820,filesturn820,pathturn820c,filesturn820c,0,5)\n",
    "diffc821,xlabel821,t821,tc821=diffc(pathturn821,filesturn821,pathturn821c,filesturn821c,0,5)\n",
    "diffc822,xlabel822,t822,tc822=diffc(pathturn822,filesturn822,pathturn822c,filesturn822c,0,5)"
   ]
  },
  {
   "cell_type": "code",
   "execution_count": 24,
   "metadata": {},
   "outputs": [],
   "source": [
    "tdiffc82=np.r_[diffc811,diffc812,diffc813,diffc814,diffc815,diffc816,diffc817,diffc818,diffc819,diffc820,diffc821,diffc822]\n",
    "txlabel82=np.r_[xlabel811,xlabel812,xlabel813,xlabel814,xlabel815,xlabel816,xlabel817,xlabel818,xlabel819,xlabel820,xlabel821,xlabel822]\n",
    "tt82=np.r_[t811,t812,t813,t814,t815,t816,t817,t818,t819,t820,t821,t822]\n",
    "ttc82=np.r_[tc811,tc812,tc813,tc814,tc815,tc816,tc817,tc818,tc819,tc820,tc821,tc822]"
   ]
  },
  {
   "cell_type": "code",
   "execution_count": 25,
   "metadata": {},
   "outputs": [],
   "source": [
    "diffc8=np.r_[tdiffc81,tdiffc82]\n",
    "xlabel8=np.r_[txlabel81,txlabel82]\n",
    "t8=np.r_[tt81,tt82]\n",
    "tc8=np.r_[ttc81,ttc82]"
   ]
  },
  {
   "cell_type": "code",
   "execution_count": 26,
   "metadata": {},
   "outputs": [],
   "source": [
    "diffc9,xlabel9,t9,tc9=diffc(pathturn91,filesturn91,pathturn91c,filesturn91c,0,6)"
   ]
  },
  {
   "cell_type": "code",
   "execution_count": 27,
   "metadata": {},
   "outputs": [],
   "source": [
    "datames=np.r_[diffc1,diffc2,diffc6,diffc7,diffc8,diffc9]\n",
    "datamas=np.r_[xlabel1,xlabel2,xlabel6,xlabel7,xlabel8,xlabel9]\n",
    "datamis=np.r_[t1,t2,t6,t7,t8,t9]\n",
    "datamrs=np.r_[tc1,tc2,tc6,tc7,tc8,tc9]"
   ]
  },
  {
   "cell_type": "code",
   "execution_count": 12,
   "metadata": {},
   "outputs": [],
   "source": [
    "pathturn1 = r\"C:\\LJR\\babylab\\marisa\\datamanual\\cut\\0643\\turntaking\\facon\" #2m\n",
    "filesturn1= os.listdir(pathturn1)\n",
    "pathturn1o = r\"C:\\LJR\\babylab\\marisa\\datamanual\\cut\\0643\\turntaking\\blockother\\fa\"\n",
    "filesturn1o= os.listdir(pathturn1o)\n",
    "pathturn1c = r\"C:\\LJR\\babylab\\marisa\\datamanual\\cut\\0643\\turntaking\\chicon\"\n",
    "filesturn1c= os.listdir(pathturn1c)\n",
    "pathturn1co = r\"C:\\LJR\\babylab\\marisa\\datamanual\\cut\\0643\\turntaking\\blockother\\chi\"\n",
    "filesturn1co= os.listdir(pathturn1co)\n",
    "\n",
    "pathturn2 = r\"C:\\LJR\\babylab\\marisa\\datamanual\\cut\\2109\\turntaking\\facon\"#7m\n",
    "filesturn2= os.listdir(pathturn2)\n",
    "pathturn2o = r\"C:\\LJR\\babylab\\marisa\\datamanual\\cut\\2109\\turntaking\\blockother\\fa\"\n",
    "filesturn2o= os.listdir(pathturn2o)\n",
    "pathturn2c = r\"C:\\LJR\\babylab\\marisa\\datamanual\\cut\\2109\\turntaking\\chicon\"\n",
    "filesturn2c= os.listdir(pathturn2c)\n",
    "pathturn2co = r\"C:\\LJR\\babylab\\marisa\\datamanual\\cut\\2109\\turntaking\\blockother\\chi\"\n",
    "filesturn2co= os.listdir(pathturn2co)\n",
    "\n",
    "pathturn3 = r\"C:\\LJR\\babylab\\marisa\\datamanual\\cut\\2625\\turntaking\\facon\"#32m\n",
    "filesturn3= os.listdir(pathturn3)\n",
    "pathturn3o = r\"C:\\LJR\\babylab\\marisa\\datamanual\\cut\\2625\\turntaking\\blockother\\fa\"\n",
    "filesturn3o= os.listdir(pathturn3o)\n",
    "pathturn3c = r\"C:\\LJR\\babylab\\marisa\\datamanual\\cut\\2625\\turntaking\\chicon\"\n",
    "filesturn3c= os.listdir(pathturn3c)\n",
    "pathturn3co = r\"C:\\LJR\\babylab\\marisa\\datamanual\\cut\\2625\\turntaking\\blockother\\chi\"\n",
    "filesturn3co= os.listdir(pathturn3co)\n",
    "\n",
    "pathturn4 = r\"C:\\LJR\\babylab\\marisa\\datamanual\\cut\\3026\\turntaking\\facon\"#36m\n",
    "filesturn4= os.listdir(pathturn4)\n",
    "pathturn4o = r\"C:\\LJR\\babylab\\marisa\\datamanual\\cut\\3026\\turntaking\\blockother\\fa\"\n",
    "filesturn4o= os.listdir(pathturn4o)\n",
    "pathturn4c = r\"C:\\LJR\\babylab\\marisa\\datamanual\\cut\\3026\\turntaking\\chicon\"\n",
    "filesturn4c= os.listdir(pathturn4c)\n",
    "pathturn4co = r\"C:\\LJR\\babylab\\marisa\\datamanual\\cut\\3026\\turntaking\\blockother\\chi\"\n",
    "filesturn4co= os.listdir(pathturn4co)\n",
    "\n",
    "pathturn5 = r\"C:\\LJR\\babylab\\marisa\\datamanual\\cut\\6216\\turntaking\\facon\"#27m\n",
    "filesturn5= os.listdir(pathturn5)\n",
    "pathturn5o = r\"C:\\LJR\\babylab\\marisa\\datamanual\\cut\\6216\\turntaking\\blockother\\fa\"\n",
    "filesturn5o= os.listdir(pathturn5o)\n",
    "pathturn5c = r\"C:\\LJR\\babylab\\marisa\\datamanual\\cut\\6216\\turntaking\\chicon\"\n",
    "filesturn5c= os.listdir(pathturn5c)\n",
    "pathturn5co = r\"C:\\LJR\\babylab\\marisa\\datamanual\\cut\\6216\\turntaking\\blockother\\chi\"\n",
    "filesturn5co= os.listdir(pathturn5co)\n",
    "\n",
    "pathturn6 = r\"C:\\LJR\\babylab\\marisa\\datamanual\\cut\\7176\\turntaking\\facon\"#4m\n",
    "filesturn6= os.listdir(pathturn6)\n",
    "pathturn6o = r\"C:\\LJR\\babylab\\marisa\\datamanual\\cut\\7176\\turntaking\\blockother\\fa\"\n",
    "filesturn6o= os.listdir(pathturn6o)\n",
    "pathturn6c = r\"C:\\LJR\\babylab\\marisa\\datamanual\\cut\\7176\\turntaking\\chicon\"\n",
    "filesturn6c= os.listdir(pathturn6c)\n",
    "pathturn6co = r\"C:\\LJR\\babylab\\marisa\\datamanual\\cut\\7176\\turntaking\\blockother\\chi\"\n",
    "filesturn6co= os.listdir(pathturn6co)\n",
    "\n",
    "pathturn7 = r\"C:\\LJR\\babylab\\marisa\\datamanual\\cut\\7220\\turntaking\\facon\"#22m\n",
    "filesturn7= os.listdir(pathturn7)\n",
    "pathturn7o = r\"C:\\LJR\\babylab\\marisa\\datamanual\\cut\\7220\\turntaking\\blockother\\fa\"\n",
    "filesturn7o= os.listdir(pathturn7o)\n",
    "pathturn7c = r\"C:\\LJR\\babylab\\marisa\\datamanual\\cut\\7220\\turntaking\\chicon\"\n",
    "filesturn7c= os.listdir(pathturn7c)\n",
    "pathturn7co = r\"C:\\LJR\\babylab\\marisa\\datamanual\\cut\\7220\\turntaking\\blockother\\chi\"\n",
    "filesturn7co= os.listdir(pathturn7co)\n",
    "\n",
    "pathturn8 = r\"C:\\LJR\\babylab\\marisa\\datamanual\\cut\\7326\\turntaking\\facon\"#14m\n",
    "filesturn8= os.listdir(pathturn8)\n",
    "pathturn8o = r\"C:\\LJR\\babylab\\marisa\\datamanual\\cut\\7326\\turntaking\\blockother\\fa\"\n",
    "filesturn8o= os.listdir(pathturn8o)\n",
    "pathturn8c = r\"C:\\LJR\\babylab\\marisa\\datamanual\\cut\\7326\\turntaking\\chicon\"\n",
    "filesturn8c= os.listdir(pathturn8c)\n",
    "pathturn8co = r\"C:\\LJR\\babylab\\marisa\\datamanual\\cut\\7326\\turntaking\\blockother\\chi\"\n",
    "filesturn8co= os.listdir(pathturn8co)\n",
    "\n",
    "pathturn9 = r\"C:\\LJR\\babylab\\marisa\\datamanual\\cut\\8787\\turntaking\\facon\"#11m\n",
    "filesturn9= os.listdir(pathturn9)\n",
    "pathturn9o = r\"C:\\LJR\\babylab\\marisa\\datamanual\\cut\\8787\\turntaking\\blockother\\fa\"\n",
    "filesturn9o= os.listdir(pathturn9o)\n",
    "pathturn9c = r\"C:\\LJR\\babylab\\marisa\\datamanual\\cut\\8787\\turntaking\\chicon\"\n",
    "filesturn9c= os.listdir(pathturn9c)\n",
    "pathturn9co = r\"C:\\LJR\\babylab\\marisa\\datamanual\\cut\\8787\\turntaking\\blockother\\chi\"\n",
    "filesturn9co= os.listdir(pathturn9co)"
   ]
  },
  {
   "cell_type": "code",
   "execution_count": 13,
   "metadata": {},
   "outputs": [],
   "source": [
    "files1=filesturn1\n",
    "files1c=filesturn1c\n",
    "\n",
    "files2=filesturn2\n",
    "files2c=filesturn2c\n",
    "\n",
    "files3=filesturn3\n",
    "files3c=filesturn3c\n",
    "\n",
    "files4=filesturn4\n",
    "files4c=filesturn4c\n",
    "\n",
    "files5=filesturn5\n",
    "files5c=filesturn5c\n",
    "\n",
    "files6=filesturn6\n",
    "files6c=filesturn6c\n",
    "\n",
    "files7=filesturn7\n",
    "files7c=filesturn7c\n",
    "\n",
    "files8=filesturn8\n",
    "files8c=filesturn8c\n",
    "\n",
    "files9=filesturn9\n",
    "files9c=filesturn9c"
   ]
  },
  {
   "cell_type": "code",
   "execution_count": 14,
   "metadata": {},
   "outputs": [],
   "source": [
    "filesc1=filesturn1o\n",
    "filesc1c=filesturn1co\n",
    "\n",
    "filesc2=filesturn2o\n",
    "filesc2c=filesturn2co\n",
    "\n",
    "filesc3=filesturn3o\n",
    "filesc3c=filesturn3co\n",
    "\n",
    "filesc4=filesturn4o\n",
    "filesc4c=filesturn4co\n",
    "\n",
    "filesc5=filesturn5o\n",
    "filesc5c=filesturn5co\n",
    "\n",
    "filesc6=filesturn6o\n",
    "filesc6c=filesturn6co\n",
    "\n",
    "filesc7=filesturn7o\n",
    "filesc7c=filesturn7co\n",
    "\n",
    "filesc8=filesturn8o\n",
    "filesc8c=filesturn8co\n",
    "\n",
    "filesc9=filesturn9o\n",
    "filesc9c=filesturn9co"
   ]
  },
  {
   "cell_type": "code",
   "execution_count": 15,
   "metadata": {},
   "outputs": [],
   "source": [
    "files1.sort(key = lambda x:float(x[1:-4]))\n",
    "files1c.sort(key = lambda x:float(x[:-4]))\n",
    "\n",
    "files2.sort(key = lambda x:float(x[1:-4]))\n",
    "files2c.sort(key = lambda x:float(x[:-4]))\n",
    "\n",
    "files3.sort(key = lambda x:float(x[1:-4]))\n",
    "files3c.sort(key = lambda x:float(x[:-4]))\n",
    "\n",
    "files4.sort(key = lambda x:float(x[1:-4]))\n",
    "files4c.sort(key = lambda x:float(x[:-4]))\n",
    "\n",
    "files5.sort(key = lambda x:float(x[1:-4]))\n",
    "files5c.sort(key = lambda x:float(x[:-4]))\n",
    "\n",
    "files6.sort(key = lambda x:float(x[1:-4]))\n",
    "files6c.sort(key = lambda x:float(x[:-4]))\n",
    "\n",
    "files7.sort(key = lambda x:float(x[1:-4]))\n",
    "files7c.sort(key = lambda x:float(x[:-4]))\n",
    "\n",
    "files8.sort(key = lambda x:float(x[1:-4]))\n",
    "files8c.sort(key = lambda x:float(x[:-4]))\n",
    "\n",
    "files9.sort(key = lambda x:float(x[1:-4]))\n",
    "files9c.sort(key = lambda x:float(x[:-4]))"
   ]
  },
  {
   "cell_type": "code",
   "execution_count": 16,
   "metadata": {},
   "outputs": [],
   "source": [
    "filesc1.sort(key = lambda x:float(x[1:-4]))\n",
    "filesc1c.sort(key = lambda x:float(x[:-4]))\n",
    "\n",
    "filesc2.sort(key = lambda x:float(x[1:-4]))\n",
    "filesc2c.sort(key = lambda x:float(x[:-4]))\n",
    "\n",
    "filesc3.sort(key = lambda x:float(x[1:-4]))\n",
    "filesc3c.sort(key = lambda x:float(x[:-4]))\n",
    "\n",
    "filesc4.sort(key = lambda x:float(x[1:-4]))\n",
    "filesc4c.sort(key = lambda x:float(x[:-4]))\n",
    "\n",
    "filesc5.sort(key = lambda x:float(x[1:-4]))\n",
    "filesc5c.sort(key = lambda x:float(x[:-4]))\n",
    "\n",
    "filesc6.sort(key = lambda x:float(x[1:-4]))\n",
    "filesc6c.sort(key = lambda x:float(x[:-4]))\n",
    "\n",
    "filesc7.sort(key = lambda x:float(x[1:-4]))\n",
    "filesc7c.sort(key = lambda x:float(x[:-4]))\n",
    "\n",
    "filesc8.sort(key = lambda x:float(x[1:-4]))\n",
    "filesc8c.sort(key = lambda x:float(x[:-4]))\n",
    "\n",
    "filesc9.sort(key = lambda x:float(x[1:-4]))\n",
    "filesc9c.sort(key = lambda x:float(x[:-4]))"
   ]
  },
  {
   "cell_type": "code",
   "execution_count": 17,
   "metadata": {},
   "outputs": [],
   "source": [
    "def normalize(x, axis=0):\n",
    "    return sklearn.preprocessing.minmax_scale(x, axis=axis)"
   ]
  },
  {
   "cell_type": "code",
   "execution_count": 18,
   "metadata": {},
   "outputs": [],
   "source": [
    "def normalizea(x, maxa,mina,axis=0):\n",
    "    return [(float(i)-mina)/float(maxa-mina) for i in x]"
   ]
  },
  {
   "cell_type": "code",
   "execution_count": 19,
   "metadata": {},
   "outputs": [],
   "source": [
    "def normalizei(x, maxi,mini,axis=0):\n",
    "    return [(float(i)-mini)/float(maxi-mini) for i in x]"
   ]
  },
  {
   "cell_type": "code",
   "execution_count": 20,
   "metadata": {},
   "outputs": [],
   "source": [
    "def pitchasimple(path,files):\n",
    "    yseries=np.zeros((len(files),4))\n",
    "    for i in range(len(files)):\n",
    "        x,sr1=librosa.load(path+\"\\\\\"+files[i],sr=None)\n",
    "        f0, voiced_flag, voiced_probs = librosa.pyin(x,sr=sr1,frame_length=512, fill_na=np.nan, n_thresholds=50, fmin=120, fmax=600)\n",
    "        yseries[i,0]=np.nanmean(f0)\n",
    "        yseries[i,1]=np.nanmax(f0)\n",
    "        yseries[i,2]=np.nanmin(f0)\n",
    "        yseries[i,3]=np.nanmax(f0)-np.nanmin(f0)\n",
    "    return yseries"
   ]
  },
  {
   "cell_type": "code",
   "execution_count": 21,
   "metadata": {},
   "outputs": [],
   "source": [
    "def pitchisimple(path,files):\n",
    "    yseries=np.zeros((len(files),4))\n",
    "    for i in range(len(files)):\n",
    "        x,sr1=librosa.load(path+\"\\\\\"+files[i],sr=None)\n",
    "        f0, voiced_flag, voiced_probs = librosa.pyin(x,sr=sr1,frame_length=512, fill_na=np.nan, n_thresholds=50, fmin=120, fmax=1000)\n",
    "        yseries[i,0]=np.nanmean(f0)\n",
    "        yseries[i,1]=np.nanmax(f0)\n",
    "        yseries[i,2]=np.nanmin(f0)\n",
    "        yseries[i,3]=np.nanmax(f0)-np.nanmin(f0)\n",
    "    return yseries"
   ]
  },
  {
   "cell_type": "code",
   "execution_count": 22,
   "metadata": {},
   "outputs": [],
   "source": [
    "def pitcha(path,files):\n",
    "    timemax=np.zeros((len(files),1))\n",
    "    for i in range(len(files)):\n",
    "        timemaxt=re.search(\"(\\d+\\.\\d+)\",files[i]).group(0)\n",
    "        timemaxa=int(float(timemaxt))\n",
    "        timemax[i]=timemaxa\n",
    "    maxl=int(np.max(timemax))\n",
    "    meanraw=np.zeros((len(files),1))\n",
    "    maxraw=np.zeros((len(files),1))\n",
    "    minraw=np.zeros((len(files),1))\n",
    "    rangeraw=np.zeros((len(files),1))\n",
    "    yseries=np.zeros((39600,4))-20\n",
    "    for i in range(len(files)):\n",
    "        x,sr1=librosa.load(path+\"\\\\\"+files[i],sr=None)\n",
    "        f0, voiced_flag, voiced_probs = librosa.pyin(x,sr=sr1,frame_length=512, fill_na=np.nan, n_thresholds=50, fmin=120, fmax=600)\n",
    "        meanraw[i,0]=np.nanmean(f0)\n",
    "        maxraw[i,0]=np.nanmax(f0)\n",
    "        minraw[i,0]=np.nanmin(f0)\n",
    "        rangeraw[i,0]=np.nanmax(f0)-np.nanmin(f0)\n",
    "    #meanc=dataclean(meanraw)\n",
    "    #maxc=dataclean(maxraw)\n",
    "    #minc=dataclean(minraw)\n",
    "    #rangec=dataclean(rangeraw)\n",
    "    meanc=meanraw\n",
    "    maxc=maxraw\n",
    "    minc=minraw\n",
    "    rangec=rangeraw\n",
    "    #meann=normalize(meanc)\n",
    "    #maxn=normalize(maxc)\n",
    "    #minn=normalize(minc)\n",
    "    #rangen=normalize(rangec)\n",
    "    meann=meanc\n",
    "    maxn=maxc\n",
    "    minn=minc\n",
    "    rangen=rangec\n",
    "    for i in range(len(files)):\n",
    "        starttime=re.search(\"(\\d+\\.\\d+)\",files[i]).group(0)\n",
    "        start=int(float(starttime))\n",
    "        meanr=meann[i]\n",
    "        yseries[start,0]=meanr\n",
    "        maxr=maxn[i]\n",
    "        yseries[start,1]=maxr\n",
    "        minr=minn[i]\n",
    "        yseries[start,2]=minr\n",
    "        ranger=rangen[i]\n",
    "        yseries[start,3]=ranger\n",
    "    return yseries"
   ]
  },
  {
   "cell_type": "code",
   "execution_count": 23,
   "metadata": {},
   "outputs": [],
   "source": [
    "def pitchi(path,files):\n",
    "    timemax=np.zeros((len(files),1))\n",
    "    for i in range(len(files)):\n",
    "        timemaxt=re.search(\"(\\d+\\.\\d+)\",files[i]).group(0)\n",
    "        timemaxa=int(float(timemaxt))\n",
    "        timemax[i]=timemaxa\n",
    "    maxl=int(np.max(timemax))\n",
    "    meanraw=np.zeros((len(files),1))\n",
    "    maxraw=np.zeros((len(files),1))\n",
    "    minraw=np.zeros((len(files),1))\n",
    "    rangeraw=np.zeros((len(files),1))\n",
    "    yseries=np.zeros((39600,4))-40\n",
    "    for i in range(len(files)):\n",
    "        x,sr1=librosa.load(path+\"\\\\\"+files[i],sr=None)\n",
    "        f0, voiced_flag, voiced_probs = librosa.pyin(x,sr=sr1,frame_length=512, fill_na=np.nan, n_thresholds=50, fmin=120, fmax=1000)\n",
    "        meanraw[i,0]=np.nanmean(f0)\n",
    "        maxraw[i,0]=np.nanmax(f0)\n",
    "        minraw[i,0]=np.nanmin(f0)\n",
    "        rangeraw[i,0]=np.nanmax(f0)-np.nanmin(f0)\n",
    "    #meanc=dataclean(meanraw)\n",
    "    #maxc=dataclean(maxraw)\n",
    "    #minc=dataclean(minraw)\n",
    "    #rangec=dataclean(rangeraw)\n",
    "    meanc=meanraw\n",
    "    maxc=maxraw\n",
    "    minc=minraw\n",
    "    rangec=rangeraw\n",
    "    #meann=normalize(meanc)\n",
    "    #maxn=normalize(maxc)\n",
    "    #minn=normalize(minc)\n",
    "    #rangen=normalize(rangec)\n",
    "    meann=meanc\n",
    "    maxn=maxc\n",
    "    minn=minc\n",
    "    rangen=rangec\n",
    "    for i in range(len(files)):\n",
    "        starttime=re.search(\"(\\d+\\.\\d+)\",files[i]).group(0)\n",
    "        start=int(float(starttime))\n",
    "        meanr=meann[i]\n",
    "        yseries[start,0]=meanr\n",
    "        maxr=maxn[i]\n",
    "        yseries[start,1]=maxr\n",
    "        minr=minn[i]\n",
    "        yseries[start,2]=minr\n",
    "        ranger=rangen[i]\n",
    "        yseries[start,3]=ranger\n",
    "    return yseries"
   ]
  },
  {
   "cell_type": "code",
   "execution_count": 25,
   "metadata": {},
   "outputs": [],
   "source": [
    "yout1c=pitchasimple(pathturn1o,filesc1)\n",
    "yout2c=pitchasimple(pathturn2o,filesc2)\n",
    "#yout3c=pitchasimple(pathturn3o,filesc3)\n",
    "#yout4c=pitchasimple(pathturn4o,filesc4)\n",
    "#yout5c=pitchasimple(pathturn5o,filesc5)\n",
    "yout6c=pitchasimple(pathturn6o,filesc6)\n",
    "yout7c=pitchasimple(pathturn7o,filesc7)\n",
    "yout8c=pitchasimple(pathturn8o,filesc8)\n",
    "yout9c=pitchasimple(pathturn9o,filesc9)"
   ]
  },
  {
   "cell_type": "code",
   "execution_count": 26,
   "metadata": {},
   "outputs": [],
   "source": [
    "youti1c=pitchisimple(pathturn1co,filesc1c)\n",
    "youti2c=pitchisimple(pathturn2co,filesc2c)\n",
    "#youti3c=pitchisimple(pathturn3co,filesc3c)\n",
    "#youti4c=pitchisimple(pathturn4co,filesc4c)\n",
    "#youti5c=pitchisimple(pathturn5co,filesc5c)\n",
    "#youti6c=pitchisimple(pathturn6co,filesc6c)\n",
    "youti7c=pitchisimple(pathturn7co,filesc7c)\n",
    "youti8c=pitchisimple(pathturn8co,filesc8c)\n",
    "youti9c=pitchisimple(pathturn9co,filesc9c)"
   ]
  },
  {
   "cell_type": "code",
   "execution_count": 28,
   "metadata": {},
   "outputs": [],
   "source": [
    "youti6c=pitchisimple(pathturn6co,filesc6c)"
   ]
  },
  {
   "cell_type": "code",
   "execution_count": 29,
   "metadata": {},
   "outputs": [],
   "source": [
    "yallo=np.r_[yout1c,yout2c,yout6c,yout7c,yout8c,yout9c]\n",
    "yiallo=np.r_[youti1c,youti2c,youti6c,youti7c,youti8c,youti9c]"
   ]
  },
  {
   "cell_type": "code",
   "execution_count": 30,
   "metadata": {},
   "outputs": [],
   "source": [
    "motherp=pd.DataFrame(yallo)\n",
    "motherp.columns=['mean','max','min','range']\n",
    "infantp=pd.DataFrame(yiallo)\n",
    "infantp.columns=['mean','max','min','range']"
   ]
  },
  {
   "cell_type": "code",
   "execution_count": 31,
   "metadata": {},
   "outputs": [],
   "source": [
    "motherp.to_csv(r'C:\\LJR\\paper\\tseltalvsenglish\\dataplot\\Tseltal\\all\\motherothert.csv')\n",
    "infantp.to_csv(r'C:\\LJR\\paper\\tseltalvsenglish\\dataplot\\Tseltal\\all\\infantothert.csv')"
   ]
  },
  {
   "cell_type": "code",
   "execution_count": 42,
   "metadata": {},
   "outputs": [],
   "source": [
    "youtcopy1c=yout1c.copy()\n",
    "youticopy1c=youti1c.copy()\n",
    "\n",
    "youtcopy2c=yout2c.copy()\n",
    "youticopy2c=youti2c.copy()\n",
    "\n",
    "youtcopy3c=yout3c.copy()\n",
    "youticopy3c=youti3c.copy()\n",
    "\n",
    "youtcopy4c=yout4c.copy()\n",
    "youticopy4c=youti4c.copy()\n",
    "\n",
    "youtcopy5c=yout5c.copy()\n",
    "youticopy5c=youti5c.copy()\n",
    "\n",
    "youtcopy6c=yout6c.copy()\n",
    "youticopy6c=youti6c.copy()\n",
    "\n",
    "youtcopy7c=yout7c.copy()\n",
    "youticopy7c=youti7c.copy()\n",
    "\n",
    "youtcopy8c=yout8c.copy()\n",
    "youticopy8c=youti8c.copy()\n",
    "\n",
    "youtcopy9c=yout9c.copy()\n",
    "youticopy9c=youti9c.copy()"
   ]
  },
  {
   "cell_type": "code",
   "execution_count": 43,
   "metadata": {},
   "outputs": [],
   "source": [
    "yallo=np.r_[yout1c,yout2c,yout6c,yout7c,yout8c,yout9c]\n",
    "yiallo=np.r_[youti1c,youti2c,youti6c,youti7c,youti8c,youti9c]"
   ]
  },
  {
   "cell_type": "code",
   "execution_count": 44,
   "metadata": {},
   "outputs": [],
   "source": [
    "def diffsub(data,datai,conin,idin):\n",
    "    datamean=np.zeros((len(data[:,0]),len(datai[:,0])))\n",
    "    datamax=np.zeros((len(data[:,0]),len(datai[:,0])))\n",
    "    datamin=np.zeros((len(data[:,0]),len(datai[:,0])))\n",
    "    datarange=np.zeros((len(data[:,0]),len(datai[:,0])))\n",
    "    for i in range(len(data[:,0])):\n",
    "        datamean[i,:]=np.abs(datai[:,0]-data[i,0])\n",
    "        datamax[i,:]=np.abs(datai[:,1]-data[i,1])\n",
    "        datamin[i,:]=np.abs(datai[:,2]-data[i,2])\n",
    "        datarange[i,:]=np.abs(datai[:,3]-data[i,3])\n",
    "    datameano=datamean.reshape(len(data[:,0])*len(datai[:,0]),1)\n",
    "    datamaxo=datamax.reshape(len(data[:,0])*len(datai[:,0]),1)\n",
    "    datamino=datamin.reshape(len(data[:,0])*len(datai[:,0]),1)\n",
    "    datarangeo=datarange.reshape(len(data[:,0])*len(datai[:,0]),1)\n",
    "    ind=np.zeros(len(data[:,0])*len(datai[:,0]))+idin\n",
    "    con=np.zeros(len(data[:,0])*len(datai[:,0]))+conin\n",
    "    dataoutme=np.c_[datameano,con,ind]\n",
    "    dataoutma=np.c_[datamaxo,con,ind]\n",
    "    dataoutmi=np.c_[datamino,con,ind]\n",
    "    dataoutr=np.c_[datarangeo,con,ind]\n",
    "    return dataoutme, dataoutma, dataoutmi,dataoutr"
   ]
  },
  {
   "cell_type": "code",
   "execution_count": 45,
   "metadata": {},
   "outputs": [],
   "source": [
    "outme1o,outma1o,outmi1o,outr1o=diffsub(yout1c,youti1c,1,1)\n",
    "outme2o,outma2o,outmi2o,outr2o=diffsub(yout2c,youti2c,1,2)\n",
    "outme6o,outma6o,outmi6o,outr6o=diffsub(yout6c,youti6c,1,3)\n",
    "outme7o,outma7o,outmi7o,outr7o=diffsub(yout7c,youti7c,1,4)\n",
    "outme8o,outma8o,outmi8o,outr8o=diffsub(yout8c,youti8c,1,5)\n",
    "outme9o,outma9o,outmi9o,outr9o=diffsub(yout9c,youti9c,1,6)"
   ]
  },
  {
   "cell_type": "code",
   "execution_count": 46,
   "metadata": {},
   "outputs": [],
   "source": [
    "datameo=np.r_[outme1o,outme2o,outme6o,outme7o,outme8o,outme9o]\n",
    "datamao=np.r_[outma1o,outma2o,outma6o,outma7o,outma8o,outma9o]\n",
    "datamio=np.r_[outmi1o,outmi2o,outmi6o,outmi7o,outmi8o,outmi9o]\n",
    "dataro=np.r_[outr1o,outr2o,outr6o,outr7o,outr8o,outr9o]"
   ]
  },
  {
   "cell_type": "code",
   "execution_count": 47,
   "metadata": {},
   "outputs": [],
   "source": [
    "datame=np.r_[datames,datameo]\n",
    "datama=np.r_[datamas,datamao]\n",
    "datami=np.r_[datamis,datamio]\n",
    "datar=np.r_[datamrs,dataro]"
   ]
  },
  {
   "cell_type": "code",
   "execution_count": 48,
   "metadata": {},
   "outputs": [
    {
     "name": "stdout",
     "output_type": "stream",
     "text": [
      "125.52386836127046 153.07253216732323\n"
     ]
    }
   ],
   "source": [
    "print(np.mean(datames[:,0]),np.mean(datameo[:,0]))"
   ]
  },
  {
   "cell_type": "code",
   "execution_count": 50,
   "metadata": {},
   "outputs": [
    {
     "data": {
      "image/png": "[encoded data removed]",
      "text/plain": [
       "<Figure size 432x288 with 1 Axes>"
      ]
     },
     "metadata": {
      "needs_background": "light"
     },
     "output_type": "display_data"
    }
   ],
   "source": [
    "\n",
    "xxx=np.empty([len(datame[:,0])],dtype = str) \n",
    "xxx[0:len(datames[:,0])]='C'\n",
    "xxx[len(datames[:,0]):]='N'\n",
    "    \n",
    "compare_durationrow=datame[:,0]\n",
    "#my_pal = {'g','grey'}\n",
    "my_pal = 'Greens'\n",
    "ax = sns.boxplot(x=xxx, y=compare_durationrow, linewidth=1.5,whis=1.5,palette=my_pal)"
   ]
  },
  {
   "cell_type": "code",
   "execution_count": 51,
   "metadata": {},
   "outputs": [
    {
     "data": {
      "image/png": "[encoded data removed]",
      "text/plain": [
       "<Figure size 432x288 with 1 Axes>"
      ]
     },
     "metadata": {
      "needs_background": "light"
     },
     "output_type": "display_data"
    }
   ],
   "source": [
    "xxx=np.empty([len(datama[:,0])],dtype = str) \n",
    "xxx[0:len(datamas[:,0])]='C'\n",
    "xxx[len(datamas[:,0]):]='N'\n",
    "    \n",
    "compare_durationrow=datama[:,0]\n",
    "my_pal = 'Greens'\n",
    "ax = sns.boxplot(x=xxx, y=compare_durationrow, linewidth=1.5,whis=1.5,palette=my_pal)"
   ]
  },
  {
   "cell_type": "code",
   "execution_count": 52,
   "metadata": {},
   "outputs": [
    {
     "data": {
      "image/png": "[encoded data removed]",
      "text/plain": [
       "<Figure size 432x288 with 1 Axes>"
      ]
     },
     "metadata": {
      "needs_background": "light"
     },
     "output_type": "display_data"
    }
   ],
   "source": [
    "xxx=np.empty([len(datami)],dtype = str) \n",
    "xxx[0:len(datamis[:,0])]='C'\n",
    "xxx[len(datamis[:,0]):]='N'\n",
    "    \n",
    "compare_durationrow=datami[:,0]\n",
    "my_pal = 'Greens'\n",
    "ax = sns.boxplot(x=xxx, y=compare_durationrow, linewidth=1.5,whis=1.5,palette=my_pal)"
   ]
  },
  {
   "cell_type": "code",
   "execution_count": 53,
   "metadata": {},
   "outputs": [
    {
     "data": {
      "image/png": "[encoded data removed]",
      "text/plain": [
       "<Figure size 432x288 with 1 Axes>"
      ]
     },
     "metadata": {
      "needs_background": "light"
     },
     "output_type": "display_data"
    }
   ],
   "source": [
    "xxx=np.empty([len(datar)],dtype = str) \n",
    "xxx[0:len(datamrs[:,0])]='C'\n",
    "xxx[len(datamrs[:,0]):]='N'\n",
    "    \n",
    "compare_durationrow=datar[:,0]\n",
    "my_pal = 'Greens'\n",
    "ax = sns.boxplot(x=xxx, y=compare_durationrow, linewidth=1.5,whis=1.5,palette=my_pal)\n"
   ]
  },
  {
   "cell_type": "code",
   "execution_count": 55,
   "metadata": {},
   "outputs": [],
   "source": [
    "datamep=pd.DataFrame(datame)\n",
    "datamep.columns=['DV','IV','type']\n",
    "datamap=pd.DataFrame(datama)\n",
    "datamap.columns=['DV','IV','type']\n",
    "datamip=pd.DataFrame(datami)\n",
    "datamip.columns=['DV','IV','type']\n",
    "datarp=pd.DataFrame(datar)\n",
    "datarp.columns=['DV','IV','type']"
   ]
  },
  {
   "cell_type": "code",
   "execution_count": 56,
   "metadata": {},
   "outputs": [
    {
     "name": "stdout",
     "output_type": "stream",
     "text": [
      "[[113.19633949   0.           1.        ]\n",
      " [ 72.45355511   0.           1.        ]\n",
      " [113.17070749   0.           1.        ]\n",
      " [ 94.85453648   0.           1.        ]\n",
      " [112.38627334   0.           1.        ]]\n"
     ]
    }
   ],
   "source": [
    "print(datame[:5])"
   ]
  },
  {
   "cell_type": "code",
   "execution_count": 57,
   "metadata": {},
   "outputs": [],
   "source": [
    "import statsmodels.formula.api as smf\n",
    "import statsmodels.api as sm"
   ]
  },
  {
   "cell_type": "code",
   "execution_count": 58,
   "metadata": {},
   "outputs": [],
   "source": [
    "med=smf.mixedlm(\"DV~IV\",datamep,groups=datamep['type'])\n",
    "medf = med.fit(method=['powell'])\n",
    "\n",
    "mad=smf.mixedlm(\"DV~IV\",datamap,groups=datamap['type'])\n",
    "madf = mad.fit(method=['powell'])\n",
    "\n",
    "mid=smf.mixedlm(\"DV~IV\",datamip,groups=datamip['type'])\n",
    "midf = mid.fit(method=['powell'])\n",
    "\n",
    "rd=smf.mixedlm(\"DV~IV\",datarp,groups=datarp['type'])\n",
    "rdf = rd.fit(method=['powell'])"
   ]
  },
  {
   "cell_type": "code",
   "execution_count": 62,
   "metadata": {},
   "outputs": [],
   "source": [
    "#datamep.to_csv(r'C:\\LJR\\paper\\tseltalvsenglish\\dataplot\\Tseltal\\all\\allme.csv')\n",
    "#datamap.to_csv(r'C:\\LJR\\paper\\tseltalvsenglish\\dataplot\\Tseltal\\all\\allma.csv')\n",
    "#datamip.to_csv(r'C:\\LJR\\paper\\tseltalvsenglish\\dataplot\\Tseltal\\all\\allmi.csv')\n",
    "#datarp.to_csv(r'C:\\LJR\\paper\\tseltalvsenglish\\dataplot\\Tseltal\\all\\allr.csv')"
   ]
  },
  {
   "cell_type": "code",
   "execution_count": 59,
   "metadata": {},
   "outputs": [
    {
     "name": "stdout",
     "output_type": "stream",
     "text": [
      "           Mixed Linear Model Regression Results\n",
      "===========================================================\n",
      "Model:            MixedLM Dependent Variable: DV           \n",
      "No. Observations: 169860  Method:             REML         \n",
      "No. Groups:       6       Scale:              11113.4578   \n",
      "Min. group size:  18036   Log-Likelihood:     -1032238.3710\n",
      "Max. group size:  45704   Converged:          Yes          \n",
      "Mean group size:  28310.0                                  \n",
      "------------------------------------------------------------\n",
      "            Coef.    Std.Err.    z    P>|z|  [0.025   0.975]\n",
      "------------------------------------------------------------\n",
      "Intercept   126.064    14.300  8.816  0.000  98.036  154.092\n",
      "IV           24.506     3.663  6.691  0.000  17.327   31.685\n",
      "Group Var  1146.924     6.825                               \n",
      "===========================================================\n",
      "\n",
      "6.690520376403201\n",
      "           Mixed Linear Model Regression Results\n",
      "===========================================================\n",
      "Model:            MixedLM Dependent Variable: DV           \n",
      "No. Observations: 169860  Method:             REML         \n",
      "No. Groups:       6       Scale:              27516.6032   \n",
      "Min. group size:  18036   Log-Likelihood:     -1109237.1118\n",
      "Max. group size:  45704   Converged:          Yes          \n",
      "Mean group size:  28310.0                                  \n",
      "-----------------------------------------------------------\n",
      "               Coef.   Std.Err.   z   P>|z|  [0.025  0.975]\n",
      "-----------------------------------------------------------\n",
      "Intercept      154.070   19.856 7.759 0.000 115.153 192.988\n",
      "IV              40.726    5.764 7.066 0.000  29.430  52.022\n",
      "Group Var     2167.379    8.410                            \n",
      "===========================================================\n",
      "\n",
      "7.066195382342291\n",
      "          Mixed Linear Model Regression Results\n",
      "==========================================================\n",
      "Model:            MixedLM Dependent Variable: DV          \n",
      "No. Observations: 169860  Method:             REML        \n",
      "No. Groups:       6       Scale:              7445.8549   \n",
      "Min. group size:  18036   Log-Likelihood:     -998224.2862\n",
      "Max. group size:  45704   Converged:          Yes         \n",
      "Mean group size:  28310.0                                 \n",
      "-----------------------------------------------------------\n",
      "            Coef.   Std.Err.    z    P>|z|  [0.025   0.975]\n",
      "-----------------------------------------------------------\n",
      "Intercept  105.622    11.532  9.159  0.000  83.019  128.224\n",
      "IV          20.771     2.998  6.928  0.000  14.895   26.648\n",
      "Group Var  744.276     5.617                               \n",
      "==========================================================\n",
      "\n",
      "6.928162752157819\n",
      "           Mixed Linear Model Regression Results\n",
      "===========================================================\n",
      "Model:            MixedLM Dependent Variable: DV           \n",
      "No. Observations: 169860  Method:             REML         \n",
      "No. Groups:       6       Scale:              17076.4347   \n",
      "Min. group size:  18036   Log-Likelihood:     -1068716.2379\n",
      "Max. group size:  45704   Converged:          Yes          \n",
      "Mean group size:  28310.0                                  \n",
      "------------------------------------------------------------\n",
      "             Coef.   Std.Err.    z    P>|z|  [0.025   0.975]\n",
      "------------------------------------------------------------\n",
      "Intercept   105.243    10.855  9.696  0.000  83.969  126.518\n",
      "IV           18.640     4.540  4.105  0.000   9.741   27.539\n",
      "Group Var   583.914     3.156                               \n",
      "===========================================================\n",
      "\n",
      "4.105452682453544\n"
     ]
    }
   ],
   "source": [
    "print(medf.summary())\n",
    "print(medf.tvalues['IV'])\n",
    "print(madf.summary())\n",
    "print(madf.tvalues['IV'])\n",
    "print(midf.summary())\n",
    "print(midf.tvalues['IV'])\n",
    "print(rdf.summary())\n",
    "print(rdf.tvalues['IV'])"
   ]
  },
  {
   "cell_type": "code",
   "execution_count": 60,
   "metadata": {},
   "outputs": [],
   "source": [
    "med=smf.mixedlm(\"DV~IV\",datamep,groups=datamep['type'],re_formula=\"~IV\")\n",
    "medf = med.fit(method=['powell'])\n",
    "\n",
    "mad=smf.mixedlm(\"DV~IV\",datamap,groups=datamap['type'],re_formula=\"~IV\")\n",
    "madf = mad.fit(method=['powell'])\n",
    "\n",
    "mid=smf.mixedlm(\"DV~IV\",datamip,groups=datamip['type'],re_formula=\"~IV\")\n",
    "midf = mid.fit(method=['powell'])\n",
    "\n",
    "rd=smf.mixedlm(\"DV~IV\",datarp,groups=datarp['type'],re_formula=\"~IV\")\n",
    "rdf = rd.fit(method=['powell'])"
   ]
  },
  {
   "cell_type": "code",
   "execution_count": 61,
   "metadata": {},
   "outputs": [
    {
     "name": "stdout",
     "output_type": "stream",
     "text": [
      "           Mixed Linear Model Regression Results\n",
      "===========================================================\n",
      "Model:            MixedLM Dependent Variable: DV           \n",
      "No. Observations: 169860  Method:             REML         \n",
      "No. Groups:       6       Scale:              11111.2389   \n",
      "Min. group size:  18036   Log-Likelihood:     -1032225.0717\n",
      "Max. group size:  45704   Converged:          Yes          \n",
      "Mean group size:  28310.0                                  \n",
      "-----------------------------------------------------------\n",
      "                Coef.   Std.Err.   z   P>|z| [0.025  0.975]\n",
      "-----------------------------------------------------------\n",
      "Intercept       114.228   12.734 8.970 0.000 89.269 139.187\n",
      "IV               36.343   13.239 2.745 0.006 10.394  62.291\n",
      "Group Var       766.865    5.302                           \n",
      "Group x IV Cov -293.480    5.041                           \n",
      "IV Var          845.065    7.485                           \n",
      "===========================================================\n",
      "\n",
      "           Mixed Linear Model Regression Results\n",
      "===========================================================\n",
      "Model:            MixedLM Dependent Variable: DV           \n",
      "No. Observations: 169860  Method:             REML         \n",
      "No. Groups:       6       Scale:              27515.2926   \n",
      "Min. group size:  18036   Log-Likelihood:     -1109235.8254\n",
      "Max. group size:  45704   Converged:          Yes          \n",
      "Mean group size:  28310.0                                  \n",
      "-----------------------------------------------------------\n",
      "                Coef.   Std.Err.   z   P>|z| [0.025  0.975]\n",
      "-----------------------------------------------------------\n",
      "Intercept       140.585   22.662 6.204 0.000 96.168 185.002\n",
      "IV               54.215   17.388 3.118 0.002 20.135  88.296\n",
      "Group Var      2239.902   14.605                           \n",
      "Group x IV Cov -734.729   13.601                           \n",
      "IV Var          971.398   14.658                           \n",
      "===========================================================\n",
      "\n",
      "           Mixed Linear Model Regression Results\n",
      "===========================================================\n",
      "Model:             MixedLM Dependent Variable: DV          \n",
      "No. Observations:  169860  Method:             REML        \n",
      "No. Groups:        6       Scale:              7445.7878   \n",
      "Min. group size:   18036   Log-Likelihood:     -998223.5815\n",
      "Max. group size:   45704   Converged:          Yes         \n",
      "Mean group size:   28310.0                                 \n",
      "-----------------------------------------------------------\n",
      "                Coef.  Std.Err.   z    P>|z| [0.025  0.975]\n",
      "-----------------------------------------------------------\n",
      "Intercept      103.096    8.779 11.743 0.000 85.890 120.303\n",
      "IV              23.297    5.042  4.621 0.000 13.415  33.179\n",
      "Group Var      371.837    3.032                            \n",
      "Group x IV Cov  20.103    1.284                            \n",
      "IV Var          61.626    0.974                            \n",
      "===========================================================\n",
      "\n",
      "           Mixed Linear Model Regression Results\n",
      "===========================================================\n",
      "Model:            MixedLM Dependent Variable: DV           \n",
      "No. Observations: 169860  Method:             REML         \n",
      "No. Groups:       6       Scale:              17075.7964   \n",
      "Min. group size:  18036   Log-Likelihood:     -1068714.7798\n",
      "Max. group size:  45704   Converged:          Yes          \n",
      "Mean group size:  28310.0                                  \n",
      "-----------------------------------------------------------\n",
      "                Coef.   Std.Err.   z   P>|z| [0.025  0.975]\n",
      "-----------------------------------------------------------\n",
      "Intercept       106.444   13.437 7.922 0.000 80.109 132.780\n",
      "IV               17.442   11.177 1.561 0.119 -4.464  39.347\n",
      "Group Var       727.431    6.509                           \n",
      "Group x IV Cov -361.792    6.759                           \n",
      "IV Var          393.010    7.783                           \n",
      "===========================================================\n",
      "\n"
     ]
    }
   ],
   "source": [
    "print(medf.summary())\n",
    "print(madf.summary())\n",
    "print(midf.summary())\n",
    "print(rdf.summary())"
   ]
  },
  {
   "cell_type": "code",
   "execution_count": null,
   "metadata": {},
   "outputs": [],
   "source": []
  }
 ],
 "metadata": {
  "kernelspec": {
   "display_name": "Python 3",
   "language": "python",
   "name": "python3"
  },
  "language_info": {
   "codemirror_mode": {
    "name": "ipython",
    "version": 3
   },
   "file_extension": ".py",
   "mimetype": "text/x-python",
   "name": "python",
   "nbconvert_exporter": "python",
   "pygments_lexer": "ipython3",
   "version": "3.8.5"
  }
 },
 "nbformat": 4,
 "nbformat_minor": 4
}
