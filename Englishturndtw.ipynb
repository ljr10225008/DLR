{
 "cells": [
  {
   "cell_type": "code",
   "execution_count": 1,
   "metadata": {},
   "outputs": [
    {
     "name": "stderr",
     "output_type": "stream",
     "text": [
      "C:\\Users\\ljr\\anaconda3\\lib\\site-packages\\pandas\\core\\computation\\expressions.py:20: UserWarning: Pandas requires version '2.7.3' or newer of 'numexpr' (version '2.7.1' currently installed).\n",
      "  from pandas.core.computation.check import NUMEXPR_INSTALLED\n"
     ]
    }
   ],
   "source": [
    "import math\n",
    "import numpy as np\n",
    "import sklearn\n",
    "from sklearn.cluster import KMeans\n",
    "import matplotlib as mpl\n",
    "import matplotlib.pyplot as plt\n",
    "import librosa\n",
    "import librosa.display\n",
    "import os\n",
    "import re\n",
    "import seaborn as sns\n",
    "import pandas as pd\n",
    "import random\n",
    "from scipy import stats  #t-test\n",
    "from scipy.spatial.distance import euclidean\n",
    "from fastdtw import fastdtw\n",
    "from scipy.interpolate import interp1d\n",
    "import statsmodels.api as sm\n",
    "import statsmodels.formula.api as smf"
   ]
  },
  {
   "cell_type": "code",
   "execution_count": 2,
   "metadata": {},
   "outputs": [],
   "source": [
    "pathfasfa1 = r\"C:\\LJR\\babylab\\English\\cut\\high\\5134\\turntaking\\fasfa\"\n",
    "filesfasfa1= os.listdir(pathfasfa1)\n",
    "pathfasfa2 = r\"C:\\LJR\\babylab\\English\\cut\\high\\6045\\turntaking\\fasfa\"\n",
    "filesfasfa2= os.listdir(pathfasfa2)\n",
    "pathfasfa3 = r\"C:\\LJR\\babylab\\English\\cut\\high\\8496\\turntaking\\fasfa\"\n",
    "filesfasfa3= os.listdir(pathfasfa3)\n",
    "pathfasfa4 = r\"C:\\LJR\\babylab\\English\\cut\\high\\8560\\turntaking\\fasfa\"\n",
    "filesfasfa4= os.listdir(pathfasfa4)\n",
    "pathfasfa5 = r\"C:\\LJR\\babylab\\English\\cut\\high\\9106\\turntaking\\fasfa\"\n",
    "filesfasfa5= os.listdir(pathfasfa5)\n",
    "pathfasfa6 = r\"C:\\LJR\\babylab\\English\\cut\\high\\9733\\turntaking\\fasfa\"\n",
    "filesfasfa6= os.listdir(pathfasfa6)"
   ]
  },
  {
   "cell_type": "code",
   "execution_count": 3,
   "metadata": {},
   "outputs": [],
   "source": [
    "pathfaschi1 = r\"C:\\LJR\\babylab\\English\\cut\\high\\5134\\turntaking\\faschi\"\n",
    "filesfaschi1= os.listdir(pathfaschi1)\n",
    "pathfaschi2 = r\"C:\\LJR\\babylab\\English\\cut\\high\\6045\\turntaking\\faschi\"\n",
    "filesfaschi2= os.listdir(pathfaschi2)\n",
    "pathfaschi3 = r\"C:\\LJR\\babylab\\English\\cut\\high\\8496\\turntaking\\faschi\"\n",
    "filesfaschi3= os.listdir(pathfaschi3)\n",
    "pathfaschi4 = r\"C:\\LJR\\babylab\\English\\cut\\high\\8560\\turntaking\\faschi\"\n",
    "filesfaschi4= os.listdir(pathfaschi4)\n",
    "pathfaschi5 = r\"C:\\LJR\\babylab\\English\\cut\\high\\9106\\turntaking\\faschi\"\n",
    "filesfaschi5= os.listdir(pathfaschi5)\n",
    "pathfaschi6 = r\"C:\\LJR\\babylab\\English\\cut\\high\\9733\\turntaking\\faschi\"\n",
    "filesfaschi6= os.listdir(pathfaschi6)"
   ]
  },
  {
   "cell_type": "code",
   "execution_count": 4,
   "metadata": {},
   "outputs": [],
   "source": [
    "pathfaother1 = r\"C:\\LJR\\babylab\\English\\cut\\high\\5134\\turntaking\\faother\"\n",
    "filesfaother1= os.listdir(pathfaother1)\n",
    "pathfaother2 = r\"C:\\LJR\\babylab\\English\\cut\\high\\6045\\turntaking\\faother\"\n",
    "filesfaother2= os.listdir(pathfaother2)\n",
    "pathfaother3 = r\"C:\\LJR\\babylab\\English\\cut\\high\\8496\\turntaking\\faother\"\n",
    "filesfaother3= os.listdir(pathfaother3)\n",
    "pathfaother4 = r\"C:\\LJR\\babylab\\English\\cut\\high\\8560\\turntaking\\faother\"\n",
    "filesfaother4= os.listdir(pathfaother4)\n",
    "pathfaother5 = r\"C:\\LJR\\babylab\\English\\cut\\high\\9106\\turntaking\\faother\"\n",
    "filesfaother5= os.listdir(pathfaother5)\n",
    "pathfaother6 = r\"C:\\LJR\\babylab\\English\\cut\\high\\9733\\turntaking\\faother\"\n",
    "filesfaother6= os.listdir(pathfaother6)"
   ]
  },
  {
   "cell_type": "code",
   "execution_count": 5,
   "metadata": {},
   "outputs": [],
   "source": [
    "pathchiother1 = r\"C:\\LJR\\babylab\\English\\cut\\high\\5134\\turntaking\\chiother\"\n",
    "fileschiother1= os.listdir(pathchiother1)\n",
    "pathchiother2 = r\"C:\\LJR\\babylab\\English\\cut\\high\\6045\\turntaking\\chiother\"\n",
    "fileschiother2= os.listdir(pathchiother2)\n",
    "pathchiother3 = r\"C:\\LJR\\babylab\\English\\cut\\high\\8496\\turntaking\\chiother\"\n",
    "fileschiother3= os.listdir(pathchiother3)\n",
    "pathchiother4 = r\"C:\\LJR\\babylab\\English\\cut\\high\\8560\\turntaking\\chiother\"\n",
    "fileschiother4= os.listdir(pathchiother4)\n",
    "pathchiother5 = r\"C:\\LJR\\babylab\\English\\cut\\high\\9106\\turntaking\\chiother\"\n",
    "fileschiother5= os.listdir(pathchiother5)\n",
    "pathchiother6 = r\"C:\\LJR\\babylab\\English\\cut\\high\\9733\\turntaking\\chiother\"\n",
    "fileschiother6= os.listdir(pathchiother6)"
   ]
  },
  {
   "cell_type": "code",
   "execution_count": 6,
   "metadata": {},
   "outputs": [],
   "source": [
    "pathchisfa1 = r\"C:\\LJR\\babylab\\English\\cut\\high\\5134\\turntaking\\chisfa\"\n",
    "fileschisfa1= os.listdir(pathchisfa1)\n",
    "pathchisfa2 = r\"C:\\LJR\\babylab\\English\\cut\\high\\6045\\turntaking\\chisfa\"\n",
    "fileschisfa2= os.listdir(pathchisfa2)\n",
    "pathchisfa3 = r\"C:\\LJR\\babylab\\English\\cut\\high\\8496\\turntaking\\chisfa\"\n",
    "fileschisfa3= os.listdir(pathchisfa3)\n",
    "pathchisfa4 = r\"C:\\LJR\\babylab\\English\\cut\\high\\8560\\turntaking\\chisfa\"\n",
    "fileschisfa4= os.listdir(pathchisfa4)\n",
    "pathchisfa5 = r\"C:\\LJR\\babylab\\English\\cut\\high\\9106\\turntaking\\chisfa\"\n",
    "fileschisfa5= os.listdir(pathchisfa5)\n",
    "pathchisfa6 = r\"C:\\LJR\\babylab\\English\\cut\\high\\9733\\turntaking\\chisfa\"\n",
    "fileschisfa6= os.listdir(pathchisfa6)"
   ]
  },
  {
   "cell_type": "code",
   "execution_count": 7,
   "metadata": {},
   "outputs": [],
   "source": [
    "pathchischi1 = r\"C:\\LJR\\babylab\\English\\cut\\high\\5134\\turntaking\\chischi\"\n",
    "fileschischi1= os.listdir(pathchischi1)\n",
    "pathchischi2 = r\"C:\\LJR\\babylab\\English\\cut\\high\\6045\\turntaking\\chischi\"\n",
    "fileschischi2= os.listdir(pathchischi2)\n",
    "pathchischi3= r\"C:\\LJR\\babylab\\English\\cut\\high\\8496\\turntaking\\chischi\"\n",
    "fileschischi3= os.listdir(pathchischi3)\n",
    "pathchischi4 = r\"C:\\LJR\\babylab\\English\\cut\\high\\8560\\turntaking\\chischi\"\n",
    "fileschischi4= os.listdir(pathchischi4)\n",
    "pathchischi5 = r\"C:\\LJR\\babylab\\English\\cut\\high\\9106\\turntaking\\chischi\"\n",
    "fileschischi5= os.listdir(pathchischi5)\n",
    "pathchischi6 = r\"C:\\LJR\\babylab\\English\\cut\\high\\9733\\turntaking\\chischi\"\n",
    "fileschischi6= os.listdir(pathchischi6)"
   ]
  },
  {
   "cell_type": "code",
   "execution_count": 8,
   "metadata": {},
   "outputs": [],
   "source": [
    "filesfasfa1.sort(key = lambda x:float(x[1:-4]))\n",
    "filesfasfa2.sort(key = lambda x:float(x[1:-4]))\n",
    "filesfasfa3.sort(key = lambda x:float(x[1:-4]))\n",
    "filesfasfa4.sort(key = lambda x:float(x[1:-4]))\n",
    "filesfasfa5.sort(key = lambda x:float(x[1:-4]))\n",
    "filesfasfa6.sort(key = lambda x:float(x[1:-4]))"
   ]
  },
  {
   "cell_type": "code",
   "execution_count": 9,
   "metadata": {},
   "outputs": [],
   "source": [
    "filesfaschi1.sort(key = lambda x:float(x[:-4]))\n",
    "filesfaschi2.sort(key = lambda x:float(x[:-4]))\n",
    "filesfaschi3.sort(key = lambda x:float(x[:-4]))\n",
    "filesfaschi4.sort(key = lambda x:float(x[:-4]))\n",
    "filesfaschi5.sort(key = lambda x:float(x[:-4]))\n",
    "filesfaschi6.sort(key = lambda x:float(x[:-4]))"
   ]
  },
  {
   "cell_type": "code",
   "execution_count": 10,
   "metadata": {},
   "outputs": [],
   "source": [
    "def normalize(x, axis=0):\n",
    "    return sklearn.preprocessing.minmax_scale(x, axis=axis)"
   ]
  },
  {
   "cell_type": "code",
   "execution_count": 11,
   "metadata": {},
   "outputs": [],
   "source": [
    "def normalizea(x,maxa,mina, axis=0):\n",
    "    return [(float(i)-mina)/float(maxa-mina) for i in x]"
   ]
  },
  {
   "cell_type": "code",
   "execution_count": 12,
   "metadata": {},
   "outputs": [],
   "source": [
    "def normalizei(x,maxi,mini, axis=0):\n",
    "    return [(float(i)-mini)/float(maxi-mini) for i in x]"
   ]
  },
  {
   "cell_type": "code",
   "execution_count": 13,
   "metadata": {},
   "outputs": [],
   "source": [
    "def f0fitintera(path,files,maxa,mina):\n",
    "    x,sr1=librosa.load(path+\"\\\\\"+files,sr=None)\n",
    "    f0, voiced_flag, voiced_probs = librosa.pyin(x,sr=sr1,frame_length=512, fill_na=np.nan, n_thresholds=50, fmin=120, fmax=600)\n",
    "    times = librosa.times_like(f0,sr=sr1,hop_length=128)\n",
    "    duration=librosa.get_duration(y=x, sr=sr1)\n",
    "    #for k in range(len(f0)-1):\n",
    "        #if (k!=0):\n",
    "            #if (np.isnan(f0[k-1]))and(np.isnan(f0[k+1])):\n",
    "                #f0[k]=np.nan\n",
    "        #if (~np.isnan(f0[-1]))and(np.isnan(f0[-2])):\n",
    "            #f0[-1]=np.nan\n",
    "    #logf0=np.log(f0)\n",
    "    #logf0nomal=normalize(logf0)\n",
    "    logf0nomal=normalizea(f0,maxa,mina)\n",
    "    timesp=pd.DataFrame(times)\n",
    "    logf0nomalp=pd.DataFrame(logf0nomal)\n",
    "    indxnan = logf0nomalp.fillna(method='ffill').dropna().index\n",
    "    res_idx = logf0nomalp.loc[indxnan].fillna(method='bfill').dropna().index\n",
    "    f0out=logf0nomalp.loc[res_idx]\n",
    "    timesout = timesp.loc[res_idx]\n",
    "    timesout=timesout-timesout.min()\n",
    "    timesnumpy=timesout.to_numpy()\n",
    "    f0outnumpy=f0out.to_numpy()\n",
    "    logf0nomalnan = f0outnumpy[~np.isnan(f0outnumpy)]\n",
    "    timesnan = timesnumpy[~np.isnan(f0outnumpy)]\n",
    "    #xx = np.linspace(timesnumpy.min(), timesnumpy.max(), 50) \n",
    "    f = interp1d(timesnan, logf0nomalnan,kind='slinear',fill_value=\"extrapolate\")\n",
    "    ynew=f(timesnumpy)\n",
    "    #ynew=f(xx)\n",
    "    return ynew"
   ]
  },
  {
   "cell_type": "code",
   "execution_count": 14,
   "metadata": {},
   "outputs": [],
   "source": [
    "def f0fitinteri(path,files,maxi,mini):\n",
    "    x,sr1=librosa.load(path+\"\\\\\"+files,sr=None)\n",
    "    f0, voiced_flag, voiced_probs = librosa.pyin(x,sr=sr1,frame_length=512, fill_na=np.nan, n_thresholds=50, fmin=120, fmax=1000)\n",
    "    times = librosa.times_like(f0,sr=sr1,hop_length=128)\n",
    "    duration=librosa.get_duration(y=x, sr=sr1)\n",
    "    #for k in range(len(f0)-1):\n",
    "        #if (k!=0):\n",
    "            #if (np.isnan(f0[k-1]))and(np.isnan(f0[k+1])):\n",
    "                #f0[k]=np.nan\n",
    "        #if (~np.isnan(f0[-1]))and(np.isnan(f0[-2])):\n",
    "            #f0[-1]=np.nan\n",
    "    #logf0=np.log(f0)\n",
    "    #logf0nomal=normalize(logf0)\n",
    "    logf0nomal=normalizei(f0,maxi,mini)\n",
    "    timesp=pd.DataFrame(times)\n",
    "    logf0nomalp=pd.DataFrame(logf0nomal)\n",
    "    indxnan = logf0nomalp.fillna(method='ffill').dropna().index\n",
    "    res_idx = logf0nomalp.loc[indxnan].fillna(method='bfill').dropna().index\n",
    "    f0out=logf0nomalp.loc[res_idx]\n",
    "    timesout = timesp.loc[res_idx]\n",
    "    timesout=timesout-timesout.min()\n",
    "    timesnumpy=timesout.to_numpy()\n",
    "    f0outnumpy=f0out.to_numpy()\n",
    "    logf0nomalnan = f0outnumpy[~np.isnan(f0outnumpy)]\n",
    "    timesnan = timesnumpy[~np.isnan(f0outnumpy)]\n",
    "    #xx = np.linspace(timesnumpy.min(), timesnumpy.max(), 50)\n",
    "    f = interp1d(timesnan, logf0nomalnan,kind='slinear',fill_value=\"extrapolate\")\n",
    "    ynew=f(timesnumpy)\n",
    "    #ynew=f(xx)\n",
    "    return ynew"
   ]
  },
  {
   "cell_type": "code",
   "execution_count": 15,
   "metadata": {},
   "outputs": [],
   "source": [
    "def dtwdcalculatefas(patha,filesa,pathi,filesi,maxa,mina,maxi,mini):\n",
    "    dtwd=np.zeros((len(filesa),2))\n",
    "    for i in range(len(filesa)):\n",
    "        ynewfa=f0fitintera(patha,filesa[i],maxa,mina)\n",
    "        ynewchi=f0fitinteri(pathi,filesi[i],maxi,mini)\n",
    "        distance,path = fastdtw(ynewfa,ynewchi,dist=euclidean)\n",
    "        meandistance = distance/(len(ynewchi))\n",
    "        dtwd[i,:]=np.c_[distance,meandistance]\n",
    "    return dtwd"
   ]
  },
  {
   "cell_type": "code",
   "execution_count": 16,
   "metadata": {},
   "outputs": [],
   "source": [
    "dtwd1= dtwdcalculatefas(pathfasfa1,filesfasfa1,pathfaschi1,filesfaschi1,597.82,120,999.61,120)\n",
    "dtwd2= dtwdcalculatefas(pathfasfa2,filesfasfa2,pathfaschi2,filesfaschi2,597.82,120,999.61,120)\n",
    "dtwd3= dtwdcalculatefas(pathfasfa3,filesfasfa3,pathfaschi3,filesfaschi3,594.37,120,999.61,120)\n",
    "dtwd4= dtwdcalculatefas(pathfasfa4,filesfasfa4,pathfaschi4,filesfaschi4,597.82,120,999.61,120)\n",
    "dtwd5= dtwdcalculatefas(pathfasfa5,filesfasfa5,pathfaschi5,filesfaschi5,597.82,120,927.30,127.14)\n",
    "dtwd6= dtwdcalculatefas(pathfasfa6,filesfasfa6,pathfaschi6,filesfaschi6,590.95,122,999.61,120)"
   ]
  },
  {
   "cell_type": "code",
   "execution_count": 17,
   "metadata": {},
   "outputs": [],
   "source": [
    "def randomid (filesr,filest):\n",
    "    idrr1=[random.randint(0,len(filesr)-1) for _ in range (len(filest))]\n",
    "    idrr2=[random.randint(0,len(filesr)-1) for _ in range (len(filest))]\n",
    "    idrr3=[random.randint(0,len(filesr)-1) for _ in range (len(filest))]\n",
    "    idrr4=[random.randint(0,len(filesr)-1) for _ in range (len(filest))]\n",
    "    idrr5=[random.randint(0,len(filesr)-1) for _ in range (len(filest))]\n",
    "    idr=np.c_[idrr1,idrr2,idrr3,idrr4,idrr5]\n",
    "    return idr"
   ]
  },
  {
   "cell_type": "code",
   "execution_count": 18,
   "metadata": {},
   "outputs": [],
   "source": [
    "idrfaschi1=randomid(fileschiother1,filesfaschi1)\n",
    "idrfaschi2=randomid(fileschiother2,filesfaschi2)\n",
    "idrfaschi3=randomid(fileschiother3,filesfaschi3)\n",
    "idrfaschi4=randomid(fileschiother4,filesfaschi4)\n",
    "idrfaschi5=randomid(fileschiother5,filesfaschi5)\n",
    "idrfaschi6=randomid(fileschiother6,filesfaschi6)"
   ]
  },
  {
   "cell_type": "code",
   "execution_count": 19,
   "metadata": {},
   "outputs": [],
   "source": [
    "def rfiler(filesr,idr):\n",
    "    filesrr1=np.array(filesr)[idr[:,0]]\n",
    "    filesrr2=np.array(filesr)[idr[:,1]]\n",
    "    filesrr3=np.array(filesr)[idr[:,2]]\n",
    "    filesrr4=np.array(filesr)[idr[:,3]]\n",
    "    filesrr5=np.array(filesr)[idr[:,4]]\n",
    "    filesrr=np.c_[filesrr1,filesrr2,filesrr3,filesrr4,filesrr5]\n",
    "    return filesrr"
   ]
  },
  {
   "cell_type": "code",
   "execution_count": 20,
   "metadata": {},
   "outputs": [],
   "source": [
    "filesrrfaschi1=rfiler(fileschiother1,idrfaschi1)\n",
    "filesrrfaschi2=rfiler(fileschiother2,idrfaschi2)\n",
    "filesrrfaschi3=rfiler(fileschiother3,idrfaschi3)\n",
    "filesrrfaschi4=rfiler(fileschiother4,idrfaschi4)\n",
    "filesrrfaschi5=rfiler(fileschiother5,idrfaschi5)\n",
    "filesrrfaschi6=rfiler(fileschiother6,idrfaschi6)"
   ]
  },
  {
   "cell_type": "code",
   "execution_count": 21,
   "metadata": {},
   "outputs": [],
   "source": [
    "r1fa=dtwdcalculatefas(pathfasfa1,filesfasfa1,pathchiother1,filesrrfaschi1[:,0],597.82,120,999.61,120)\n",
    "r2fa=dtwdcalculatefas(pathfasfa2,filesfasfa2,pathchiother2,filesrrfaschi2[:,0],597.82,120,999.61,120)\n",
    "r3fa=dtwdcalculatefas(pathfasfa3,filesfasfa3,pathchiother3,filesrrfaschi3[:,0],594.37,120,999.61,120)\n",
    "r4fa=dtwdcalculatefas(pathfasfa4,filesfasfa4,pathchiother4,filesrrfaschi4[:,0],597.82,120,999.61,120)\n",
    "r5fa=dtwdcalculatefas(pathfasfa5,filesfasfa5,pathchiother5,filesrrfaschi5[:,0],597.82,120,927.30,127.14)\n",
    "r6fa=dtwdcalculatefas(pathfasfa6,filesfasfa6,pathchiother6,filesrrfaschi6[:,0],590.95,122,999.61,120)"
   ]
  },
  {
   "cell_type": "code",
   "execution_count": 22,
   "metadata": {},
   "outputs": [],
   "source": [
    "def ind(con,ind,dtwin):\n",
    "    cons=np.zeros(len(dtwin))+con\n",
    "    inds=np.zeros(len(dtwin))+ind\n",
    "    dtwout=np.c_[dtwin[:,0],cons,inds]\n",
    "    return dtwout"
   ]
  },
  {
   "cell_type": "code",
   "execution_count": 23,
   "metadata": {},
   "outputs": [],
   "source": [
    "dataallfa=np.r_[ind(0,1,dtwd1),ind(0,2,dtwd2),ind(0,3,dtwd3),ind(0,4,dtwd4),ind(0,5,dtwd5),ind(0,6,dtwd6)]\n",
    "dataallfar=np.r_[ind(1,1,r1fa),ind(1,2,r2fa),ind(1,3,r3fa),ind(1,4,r4fa),ind(1,5,r5fa),ind(1,6,r6fa)]"
   ]
  },
  {
   "cell_type": "code",
   "execution_count": 24,
   "metadata": {},
   "outputs": [],
   "source": [
    "dataall=np.r_[dataallfa,dataallfar]\n",
    "dataallp=pd.DataFrame(dataall)\n",
    "dataallp.columns=['DV','IV','type']"
   ]
  },
  {
   "cell_type": "code",
   "execution_count": 25,
   "metadata": {},
   "outputs": [
    {
     "name": "stdout",
     "output_type": "stream",
     "text": [
      "         Mixed Linear Model Regression Results\n",
      "=======================================================\n",
      "Model:            MixedLM Dependent Variable: DV       \n",
      "No. Observations: 180     Method:             REML     \n",
      "No. Groups:       6       Scale:              227.6042 \n",
      "Min. group size:  8       Log-Likelihood:     -740.1280\n",
      "Max. group size:  102     Converged:          Yes      \n",
      "Mean group size:  30.0                                 \n",
      "-------------------------------------------------------\n",
      "              Coef.  Std.Err.   z   P>|z| [0.025 0.975]\n",
      "-------------------------------------------------------\n",
      "Intercept     12.485    1.463 8.534 0.000  9.618 15.353\n",
      "IV             2.302    2.249 1.024 0.306 -2.106  6.710\n",
      "Group Var      0.000                                   \n",
      "=======================================================\n",
      "\n"
     ]
    },
    {
     "name": "stderr",
     "output_type": "stream",
     "text": [
      "C:\\Users\\ljr\\anaconda3\\lib\\site-packages\\statsmodels\\regression\\mixed_linear_model.py:2238: ConvergenceWarning: The MLE may be on the boundary of the parameter space.\n",
      "  warnings.warn(msg, ConvergenceWarning)\n",
      "C:\\Users\\ljr\\anaconda3\\lib\\site-packages\\statsmodels\\regression\\mixed_linear_model.py:2262: ConvergenceWarning: The Hessian matrix at the estimated parameter values is not positive definite.\n",
      "  warnings.warn(msg, ConvergenceWarning)\n"
     ]
    }
   ],
   "source": [
    "med=smf.mixedlm(\"DV~IV\",dataallp,groups=dataallp['type'])\n",
    "medf = med.fit(method=['powell'])\n",
    "print(medf.summary())"
   ]
  },
  {
   "cell_type": "code",
   "execution_count": 48,
   "metadata": {},
   "outputs": [
    {
     "name": "stdout",
     "output_type": "stream",
     "text": [
      "         Mixed Linear Model Regression Results\n",
      "========================================================\n",
      "Model:             MixedLM Dependent Variable: DV       \n",
      "No. Observations:  180     Method:             REML     \n",
      "No. Groups:        6       Scale:              227.6032 \n",
      "Min. group size:   8       Log-Likelihood:     -740.1281\n",
      "Max. group size:   102     Converged:          Yes      \n",
      "Mean group size:   30.0                                 \n",
      "--------------------------------------------------------\n",
      "               Coef.  Std.Err.   z   P>|z| [0.025 0.975]\n",
      "--------------------------------------------------------\n",
      "Intercept      12.486    2.502 4.989 0.000  7.581 17.390\n",
      "IV              2.301    4.272 0.539 0.590 -6.071 10.674\n",
      "Group Var       0.002    1.326                          \n",
      "Group x IV Cov -0.004    0.950                          \n",
      "IV Var          0.007    3.088                          \n",
      "========================================================\n",
      "\n"
     ]
    },
    {
     "name": "stderr",
     "output_type": "stream",
     "text": [
      "C:\\Users\\ljr\\anaconda3\\lib\\site-packages\\statsmodels\\regression\\mixed_linear_model.py:2238: ConvergenceWarning: The MLE may be on the boundary of the parameter space.\n",
      "  warnings.warn(msg, ConvergenceWarning)\n",
      "C:\\Users\\ljr\\anaconda3\\lib\\site-packages\\statsmodels\\regression\\mixed_linear_model.py:2262: ConvergenceWarning: The Hessian matrix at the estimated parameter values is not positive definite.\n",
      "  warnings.warn(msg, ConvergenceWarning)\n"
     ]
    }
   ],
   "source": [
    "med=smf.mixedlm(\"DV~IV\",dataallp,groups=dataallp['type'],re_formula=\"~IV\")\n",
    "medf = med.fit(method=['nm'])\n",
    "print(medf.summary())"
   ]
  },
  {
   "cell_type": "code",
   "execution_count": 26,
   "metadata": {},
   "outputs": [],
   "source": [
    "dtwt=np.r_[dtwd1,dtwd2,dtwd3,dtwd4,dtwd5,dtwd6]\n",
    "dtwr1=np.r_[r1fa,r2fa,r3fa,r4fa,r5fa,r6fa]"
   ]
  },
  {
   "cell_type": "code",
   "execution_count": 27,
   "metadata": {},
   "outputs": [
    {
     "data": {
      "image/png": "[encoded data removed]",
      "text/plain": [
       "<Figure size 432x288 with 1 Axes>"
      ]
     },
     "metadata": {
      "needs_background": "light"
     },
     "output_type": "display_data"
    }
   ],
   "source": [
    "xxx=[None]*(len(dtwt)+len(dtwr1))\n",
    "for i in range(len(dtwt)):\n",
    "    xxx[i]=\"M-I\"\n",
    "for i in range(len(dtwt),len(dtwt)+len(dtwr1)):\n",
    "    xxx[i]=\"Psuedo\"\n",
    "compare_dtwt=np.r_[dtwt[:,0],dtwr1[:,0]]  \n",
    "    \n",
    "ax = sns.boxplot(x=xxx, y=compare_dtwt, linewidth=1.5,whis=1.5)\n",
    "plt.xlabel('M-I True turns/Psuedo Turns', fontsize=12)\n",
    "plt.ylabel('dtw',fontsize=12)\n",
    "plt.ylim(-2,100)\n",
    "#plt.title('Vocal exchange/Non-vocal exchange')\n",
    "plt.show()"
   ]
  },
  {
   "cell_type": "code",
   "execution_count": 28,
   "metadata": {},
   "outputs": [],
   "source": [
    "fileschisfa1.sort(key = lambda x:float(x[1:-4]))\n",
    "fileschisfa2.sort(key = lambda x:float(x[1:-4]))\n",
    "fileschisfa3.sort(key = lambda x:float(x[1:-4]))\n",
    "fileschisfa4.sort(key = lambda x:float(x[1:-4]))\n",
    "fileschisfa5.sort(key = lambda x:float(x[1:-4]))\n",
    "fileschisfa6.sort(key = lambda x:float(x[1:-4]))"
   ]
  },
  {
   "cell_type": "code",
   "execution_count": 29,
   "metadata": {},
   "outputs": [],
   "source": [
    "fileschischi1.sort(key = lambda x:float(x[:-4]))\n",
    "fileschischi2.sort(key = lambda x:float(x[:-4]))\n",
    "fileschischi3.sort(key = lambda x:float(x[:-4]))\n",
    "fileschischi4.sort(key = lambda x:float(x[:-4]))\n",
    "fileschischi5.sort(key = lambda x:float(x[:-4]))\n",
    "fileschischi6.sort(key = lambda x:float(x[:-4]))"
   ]
  },
  {
   "cell_type": "code",
   "execution_count": 30,
   "metadata": {},
   "outputs": [],
   "source": [
    "idrchisfa1=randomid(filesfaother1,fileschisfa1)\n",
    "idrchisfa2=randomid(filesfaother2,fileschisfa2)\n",
    "idrchisfa3=randomid(filesfaother3,fileschisfa3)\n",
    "idrchisfa4=randomid(filesfaother4,fileschisfa4)\n",
    "idrchisfa5=randomid(filesfaother5,fileschisfa5)\n",
    "idrchisfa6=randomid(filesfaother6,fileschisfa6)"
   ]
  },
  {
   "cell_type": "code",
   "execution_count": 31,
   "metadata": {},
   "outputs": [],
   "source": [
    "filesrrchisfa1=rfiler(filesfaother1,idrchisfa1)\n",
    "filesrrchisfa2=rfiler(filesfaother2,idrchisfa2)\n",
    "filesrrchisfa3=rfiler(filesfaother3,idrchisfa3)\n",
    "filesrrchisfa4=rfiler(filesfaother4,idrchisfa4)\n",
    "filesrrchisfa5=rfiler(filesfaother5,idrchisfa5)\n",
    "filesrrchisfa6=rfiler(filesfaother6,idrchisfa6)"
   ]
  },
  {
   "cell_type": "code",
   "execution_count": 32,
   "metadata": {},
   "outputs": [],
   "source": [
    "def dtwdcalculatechis(patha,filesa,pathi,filesi,maxa,mina,maxi,mini):\n",
    "    dtwd=np.zeros((len(filesa),2))\n",
    "    for i in range(len(filesa)):\n",
    "        ynewfa=f0fitintera(patha,filesa[i],maxa,mina)\n",
    "        ynewchi=f0fitinteri(pathi,filesi[i],maxi,mini)\n",
    "        distance,path = fastdtw(ynewfa,ynewchi,dist=euclidean)\n",
    "        meandistance = distance/(len(ynewfa))\n",
    "        dtwd[i,:]=np.c_[distance,meandistance]\n",
    "    return dtwd"
   ]
  },
  {
   "cell_type": "code",
   "execution_count": 33,
   "metadata": {},
   "outputs": [],
   "source": [
    "dtwdc1= dtwdcalculatechis(pathchisfa1,fileschisfa1,pathchischi1,fileschischi1,597.82,120,999.61,120)\n",
    "dtwdc2= dtwdcalculatechis(pathchisfa2,fileschisfa2,pathchischi2,fileschischi2,597.82,120,999.61,120)\n",
    "dtwdc3= dtwdcalculatechis(pathchisfa3,fileschisfa3,pathchischi3,fileschischi3,594.37,120,999.61,120)\n",
    "dtwdc4= dtwdcalculatechis(pathchisfa4,fileschisfa4,pathchischi4,fileschischi4,597.82,120,999.61,120)\n",
    "dtwdc5= dtwdcalculatechis(pathchisfa5,fileschisfa5,pathchischi5,fileschischi5,597.82,120,927.30,127.14)\n",
    "dtwdc6= dtwdcalculatechis(pathchisfa6,fileschisfa6,pathchischi6,fileschischi6,590.95,122,999.61,120)"
   ]
  },
  {
   "cell_type": "code",
   "execution_count": 34,
   "metadata": {},
   "outputs": [],
   "source": [
    "r1fac=dtwdcalculatechis(pathfaother1,filesrrchisfa1[:,0],pathchischi1,fileschischi1,597.82,120,999.61,120)\n",
    "r2fac=dtwdcalculatechis(pathfaother2,filesrrchisfa2[:,0],pathchischi2,fileschischi2,597.82,120,999.61,120)\n",
    "r3fac=dtwdcalculatechis(pathfaother3,filesrrchisfa3[:,0],pathchischi3,fileschischi3,594.37,120,999.61,120)\n",
    "r4fac=dtwdcalculatechis(pathfaother4,filesrrchisfa4[:,0],pathchischi4,fileschischi4,597.82,120,999.61,120)\n",
    "r5fac=dtwdcalculatechis(pathfaother5,filesrrchisfa5[:,0],pathchischi5,fileschischi5,597.82,120,927.30,127.14)\n",
    "r6fac=dtwdcalculatechis(pathfaother6,filesrrchisfa6[:,0],pathchischi6,fileschischi6,590.95,122,999.61,120)"
   ]
  },
  {
   "cell_type": "code",
   "execution_count": 35,
   "metadata": {},
   "outputs": [],
   "source": [
    "dataallfac=np.r_[ind(0,1,dtwdc1),ind(0,2,dtwdc2),ind(0,3,dtwdc3),ind(0,4,dtwdc4),ind(0,5,dtwdc5),ind(0,6,dtwdc6)]\n",
    "dataallfarc=np.r_[ind(1,1,r1fac),ind(1,2,r2fac),ind(1,3,r3fac),ind(1,4,r4fac),ind(1,5,r5fac),ind(1,6,r6fac)]"
   ]
  },
  {
   "cell_type": "code",
   "execution_count": 36,
   "metadata": {},
   "outputs": [],
   "source": [
    "dataallc=np.r_[dataallfac,dataallfarc]\n",
    "dataallpc=pd.DataFrame(dataallc)\n",
    "dataallpc.columns=['DV','IV','type']"
   ]
  },
  {
   "cell_type": "code",
   "execution_count": 40,
   "metadata": {},
   "outputs": [
    {
     "name": "stdout",
     "output_type": "stream",
     "text": [
      "         Mixed Linear Model Regression Results\n",
      "========================================================\n",
      "Model:            MixedLM Dependent Variable: DV        \n",
      "No. Observations: 236     Method:             REML      \n",
      "No. Groups:       6       Scale:              507.7830  \n",
      "Min. group size:  14      Log-Likelihood:     -1067.1430\n",
      "Max. group size:  108     Converged:          Yes       \n",
      "Mean group size:  39.3                                  \n",
      "---------------------------------------------------------\n",
      "           Coef.   Std.Err.    z    P>|z|  [0.025  0.975]\n",
      "---------------------------------------------------------\n",
      "Intercept  17.312     2.669  6.485  0.000  12.080  22.544\n",
      "IV          0.040     2.934  0.014  0.989  -5.710   5.790\n",
      "Group Var  12.723     0.851                              \n",
      "========================================================\n",
      "\n"
     ]
    }
   ],
   "source": [
    "medc=smf.mixedlm(\"DV~IV\",dataallpc,groups=dataallpc['type'])\n",
    "medfc = medc.fit(method=['powell'])\n",
    "print(medfc.summary())"
   ]
  },
  {
   "cell_type": "code",
   "execution_count": 44,
   "metadata": {},
   "outputs": [
    {
     "name": "stdout",
     "output_type": "stream",
     "text": [
      "          Mixed Linear Model Regression Results\n",
      "==========================================================\n",
      "Model:              MixedLM Dependent Variable: DV        \n",
      "No. Observations:   236     Method:             REML      \n",
      "No. Groups:         6       Scale:              505.5247  \n",
      "Min. group size:    14      Log-Likelihood:     -1066.7187\n",
      "Max. group size:    108     Converged:          Yes       \n",
      "Mean group size:    39.3                                  \n",
      "----------------------------------------------------------\n",
      "                Coef.  Std.Err.   z    P>|z| [0.025 0.975]\n",
      "----------------------------------------------------------\n",
      "Intercept       17.481    3.153  5.545 0.000 11.302 23.660\n",
      "IV              -0.183    3.404 -0.054 0.957 -6.853  6.488\n",
      "Group Var       25.613    1.450                           \n",
      "Group x IV Cov -18.192    1.511                           \n",
      "IV Var          12.921    1.667                           \n",
      "==========================================================\n",
      "\n"
     ]
    },
    {
     "name": "stderr",
     "output_type": "stream",
     "text": [
      "C:\\Users\\ljr\\anaconda3\\lib\\site-packages\\statsmodels\\regression\\mixed_linear_model.py:2262: ConvergenceWarning: The Hessian matrix at the estimated parameter values is not positive definite.\n",
      "  warnings.warn(msg, ConvergenceWarning)\n"
     ]
    }
   ],
   "source": [
    "medc=smf.mixedlm(\"DV~IV\",dataallpc,groups=dataallpc['type'],re_formula=\"~IV\")\n",
    "medfc = medc.fit(method=['powell'])\n",
    "print(medfc.summary())"
   ]
  },
  {
   "cell_type": "code",
   "execution_count": 38,
   "metadata": {},
   "outputs": [],
   "source": [
    "dtwtc=np.r_[dtwdc1,dtwdc2,dtwdc3,dtwdc4,dtwdc5,dtwdc6]\n",
    "dtwr1c=np.r_[r1fac,r2fac,r3fac,r4fac,r5fac,r6fac]"
   ]
  },
  {
   "cell_type": "code",
   "execution_count": 39,
   "metadata": {},
   "outputs": [
    {
     "data": {
      "image/png": "[encoded data removed]",
      "text/plain": [
       "<Figure size 432x288 with 1 Axes>"
      ]
     },
     "metadata": {
      "needs_background": "light"
     },
     "output_type": "display_data"
    }
   ],
   "source": [
    "xxx=[None]*(len(dtwtc)+len(dtwr1c))\n",
    "for i in range(len(dtwtc)):\n",
    "    xxx[i]=\"I-M\"\n",
    "for i in range(len(dtwtc),len(dtwtc)+len(dtwr1c)):\n",
    "    xxx[i]=\"Psuedo\"\n",
    "compare_dtwtc=np.r_[dtwtc[:,0],dtwr1c[:,0]]\n",
    "ax = sns.boxplot(x=xxx, y=compare_dtwtc, linewidth=1.5,whis=1.5)\n",
    "plt.ylim(-2,100)\n",
    "plt.xlabel('I-M True turns/Psuedo Turns', fontsize=12)\n",
    "plt.ylabel('dtw',fontsize=12)\n",
    "#plt.title('Vocal exchange/Non-vocal exchange')\n",
    "plt.show()"
   ]
  }
 ],
 "metadata": {
  "kernelspec": {
   "display_name": "Python 3",
   "language": "python",
   "name": "python3"
  },
  "language_info": {
   "codemirror_mode": {
    "name": "ipython",
    "version": 3
   },
   "file_extension": ".py",
   "mimetype": "text/x-python",
   "name": "python",
   "nbconvert_exporter": "python",
   "pygments_lexer": "ipython3",
   "version": "3.8.5"
  }
 },
 "nbformat": 4,
 "nbformat_minor": 4
}
