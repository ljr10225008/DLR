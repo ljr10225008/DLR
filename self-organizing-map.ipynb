{
 "cells": [
  {
   "cell_type": "code",
   "execution_count": null,
   "metadata": {},
   "outputs": [],
   "source": [
    "from minisom import MiniSom\n",
    "import numpy as np\n",
    "from sklearn.cluster import KMeans\n",
    "import matplotlib.pyplot as plt\n",
    "from pyclustering.cluster.xmeans import xmeans\n",
    "from pyclustering.cluster.center_initializer import kmeans_plusplus_initializer\n",
    "from sklearn.cluster import SpectralClustering\n",
    "import cv2\n",
    "import os\n",
    "import re\n",
    "from sklearn.preprocessing import scale,StandardScaler,MinMaxScaler\n",
    "import pickle\n",
    "from matplotlib.patches import RegularPolygon, Ellipse\n",
    "from matplotlib import cm, colorbar\n",
    "from mpl_toolkits.axes_grid1 import make_axes_locatable\n",
    "import scipy.stats as ss\n",
    "import math\n",
    "import pandas as pd\n",
    "%matplotlib inline"
   ]
  },
  {
   "cell_type": "code",
   "execution_count": null,
   "metadata": {},
   "outputs": [],
   "source": [
    "pathms=r'D:\\KyotoUdata\\all\\onedayms\\sdnn'\n",
    "filesmothers= os.listdir(pathms)\n",
    "pathcs=r'D:\\KyotoUdata\\all\\onedaycs\\sdnn'\n",
    "fileschilds= os.listdir(pathcs)\n",
    "\n",
    "pathmc=r'D:\\KyotoUdata\\all\\onedayms\\csi'\n",
    "filesmotherc= os.listdir(pathmc)\n",
    "pathcc=r'D:\\KyotoUdata\\all\\onedaycs\\csi'\n",
    "fileschildc= os.listdir(pathcc)\n",
    "\n",
    "pathmv=r'D:\\KyotoUdata\\all\\onedayms\\cvi'\n",
    "filesmotherv= os.listdir(pathmv)\n",
    "pathcv=r'D:\\KyotoUdata\\all\\onedaycs\\cvi'\n",
    "fileschildv= os.listdir(pathcv)"
   ]
  },
  {
   "cell_type": "code",
   "execution_count": null,
   "metadata": {},
   "outputs": [],
   "source": [
    "pathmcs=r'D:\\KyotoUdata\\all\\onedaycrps\\sdnn'\n",
    "filesmcs= os.listdir(pathmcs)\n",
    "\n",
    "\n",
    "pathmcc=r'D:\\KyotoUdata\\all\\onedaycrps\\csi'\n",
    "filesmcc= os.listdir(pathmcc)\n",
    "\n",
    "\n",
    "pathmcv=r'D:\\KyotoUdata\\all\\onedaycrps\\cvi'\n",
    "filesmcv= os.listdir(pathmcv)\n"
   ]
  },
  {
   "cell_type": "code",
   "execution_count": null,
   "metadata": {},
   "outputs": [],
   "source": [
    "len(filesmcv)"
   ]
  },
  {
   "cell_type": "code",
   "execution_count": null,
   "metadata": {},
   "outputs": [],
   "source": [
    "def ploto(path,files):\n",
    "    plt.figure(figsize=(25,20))\n",
    "    plt.tight_layout()\n",
    "    for i in range(len(files)):\n",
    "        plt.subplot(10, 6, i+1)\n",
    "        imgt = plt.imread(path+'\\\\'+files[i])\n",
    "        plt.imshow(imgt)\n",
    "        #plt.text(130,130,files[i].split('.')[0],ha='center',fontsize=16)\n",
    "        plt.axis('off')"
   ]
  },
  {
   "cell_type": "code",
   "execution_count": null,
   "metadata": {},
   "outputs": [],
   "source": [
    "#ploto(pathms,filesmothers)"
   ]
  },
  {
   "cell_type": "code",
   "execution_count": null,
   "metadata": {},
   "outputs": [],
   "source": [
    "#ploto(pathmc,filesmotherc)"
   ]
  },
  {
   "cell_type": "code",
   "execution_count": null,
   "metadata": {},
   "outputs": [],
   "source": [
    "#ploto(pathmv,filesmotherv)"
   ]
  },
  {
   "cell_type": "code",
   "execution_count": null,
   "metadata": {},
   "outputs": [],
   "source": [
    "#ploto(pathcs,fileschilds)"
   ]
  },
  {
   "cell_type": "code",
   "execution_count": null,
   "metadata": {},
   "outputs": [],
   "source": [
    "#ploto(pathcc,fileschildc)"
   ]
  },
  {
   "cell_type": "code",
   "execution_count": null,
   "metadata": {},
   "outputs": [],
   "source": [
    "#ploto(pathcv,fileschildv)"
   ]
  },
  {
   "cell_type": "code",
   "execution_count": null,
   "metadata": {},
   "outputs": [],
   "source": [
    "#ploto(pathmcs,filesmcs)"
   ]
  },
  {
   "cell_type": "code",
   "execution_count": null,
   "metadata": {},
   "outputs": [],
   "source": [
    "#ploto(pathmcc,filesmcc)"
   ]
  },
  {
   "cell_type": "code",
   "execution_count": null,
   "metadata": {},
   "outputs": [],
   "source": [
    "#ploto(pathmcv,filesmcv)"
   ]
  },
  {
   "cell_type": "code",
   "execution_count": null,
   "metadata": {},
   "outputs": [],
   "source": [
    "def preprocess(path,files):\n",
    "    imgt = plt.imread(path+'\\\\'+files[0])\n",
    "    shapex=imgt.shape[0]\n",
    "    shapey=imgt.shape[1]\n",
    "    lenm=shapex*shapey*4\n",
    "    outmatrix=np.zeros((len(files),lenm))\n",
    "    for i in range(len(files)):\n",
    "        img = plt.imread(path+'\\\\'+files[i])\n",
    "        pixels = np.reshape(img, (shapex*shapey, 4))\n",
    "        pixel = np.reshape(pixels, (len(pixels)*4, 1))\n",
    "        outmatrix[i,:]=pixel.ravel()\n",
    "    return outmatrix"
   ]
  },
  {
   "cell_type": "code",
   "execution_count": null,
   "metadata": {},
   "outputs": [],
   "source": [
    "#def preprocess(path,files):\n",
    "    #imgt = cv2.imread(path+'\\\\'+files[0],0)\n",
    "    #shapex=imgt.shape[0]\n",
    "    #shapey=imgt.shape[1]\n",
    "    #lenm=shapex*shapey\n",
    "    #outmatrix=np.zeros((len(files),lenm))\n",
    "    #for i in range(len(files)):\n",
    "        #img = cv2.imread(path+'\\\\'+files[i],0)\n",
    "        #pixels = np.reshape(img, (shapex*shapey, 1))\n",
    "        #outmatrix[i,:]=pixels.ravel()\n",
    "    #return outmatrix"
   ]
  },
  {
   "cell_type": "code",
   "execution_count": null,
   "metadata": {},
   "outputs": [],
   "source": [
    "def plotc(path,files):\n",
    "    plt.figure(figsize=(30,20))\n",
    "    plt.tight_layout()\n",
    "    for i in range(len(files)):\n",
    "        plt.subplot(6, 10, i+1)\n",
    "        imgt = plt.imread(path+'\\\\'+files[i])\n",
    "        plt.imshow(imgt)\n",
    "        #plt.text(130,130,files[i].split('.')[0],ha='center',fontsize=16)\n",
    "        plt.axis('off')"
   ]
  },
  {
   "cell_type": "code",
   "execution_count": null,
   "metadata": {},
   "outputs": [],
   "source": [
    "plotc(pathms,filesmothers)"
   ]
  },
  {
   "cell_type": "code",
   "execution_count": null,
   "metadata": {},
   "outputs": [],
   "source": [
    "plotc(pathmc,filesmotherc)"
   ]
  },
  {
   "cell_type": "code",
   "execution_count": null,
   "metadata": {},
   "outputs": [],
   "source": [
    "plotc(pathmv,filesmotherv)"
   ]
  },
  {
   "cell_type": "code",
   "execution_count": null,
   "metadata": {},
   "outputs": [],
   "source": [
    "plotc(pathcs,fileschilds)"
   ]
  },
  {
   "cell_type": "code",
   "execution_count": null,
   "metadata": {},
   "outputs": [],
   "source": [
    "plotc(pathcc,fileschildc)"
   ]
  },
  {
   "cell_type": "code",
   "execution_count": null,
   "metadata": {},
   "outputs": [],
   "source": [
    "plotc(pathcv,fileschildv)"
   ]
  },
  {
   "cell_type": "code",
   "execution_count": null,
   "metadata": {},
   "outputs": [],
   "source": [
    "plotc(pathmcs,filesmcs)"
   ]
  },
  {
   "cell_type": "code",
   "execution_count": null,
   "metadata": {},
   "outputs": [],
   "source": [
    "plotc(pathmcc,filesmcc)"
   ]
  },
  {
   "cell_type": "code",
   "execution_count": null,
   "metadata": {},
   "outputs": [],
   "source": [
    "plotc(pathmcv,filesmcv)"
   ]
  },
  {
   "cell_type": "code",
   "execution_count": null,
   "metadata": {},
   "outputs": [],
   "source": [
    "datams=preprocess(pathms,filesmothers)\n",
    "datacs=preprocess(pathcs,fileschilds)\n",
    "\n",
    "datamc=preprocess(pathmc,filesmotherc)\n",
    "datacc=preprocess(pathcc,fileschildc)\n",
    "\n",
    "datamv=preprocess(pathmv,filesmotherv)\n",
    "datacv=preprocess(pathcv,fileschildv)"
   ]
  },
  {
   "cell_type": "code",
   "execution_count": null,
   "metadata": {},
   "outputs": [],
   "source": [
    "datamcs=preprocess(pathmcs,filesmcs)\n",
    "\n",
    "datamcc=preprocess(pathmcc,filesmcc)\n",
    "\n",
    "datamcv=preprocess(pathmcv,filesmcv)"
   ]
  },
  {
   "cell_type": "code",
   "execution_count": null,
   "metadata": {},
   "outputs": [],
   "source": [
    "scaler=StandardScaler()\n",
    "datamst=scaler.fit_transform(datams)\n",
    "datacst=scaler.fit_transform(datacs)\n",
    "\n",
    "datamct=scaler.fit_transform(datamc)\n",
    "datacct=scaler.fit_transform(datacc)\n",
    "\n",
    "datamvt=scaler.fit_transform(datamv)\n",
    "datacvt=scaler.fit_transform(datacv)"
   ]
  },
  {
   "cell_type": "code",
   "execution_count": null,
   "metadata": {},
   "outputs": [],
   "source": [
    "datamcst=scaler.fit_transform(datamcs)\n",
    "\n",
    "datamcct=scaler.fit_transform(datamcc)\n",
    "\n",
    "datamcvt=scaler.fit_transform(datamcv)"
   ]
  },
  {
   "cell_type": "code",
   "execution_count": null,
   "metadata": {},
   "outputs": [],
   "source": [
    "somms_shape = (4,4)\n",
    "somms = MiniSom(somms_shape[0], somms_shape[1], datamst.shape[1], sigma=3, learning_rate=.5,\n",
    "              neighborhood_function='triangle',random_seed=10)\n",
    "somms.train_batch(datamst, 900, verbose=True)"
   ]
  },
  {
   "cell_type": "code",
   "execution_count": null,
   "metadata": {},
   "outputs": [],
   "source": [
    "sommc_shape = (4,4)\n",
    "sommc = MiniSom(sommc_shape[0], sommc_shape[1], datamct.shape[1], sigma=3, learning_rate=.5,\n",
    "              neighborhood_function='triangle', random_seed=10)\n",
    "\n",
    "sommc.train_batch(datamct, 900, verbose=True)"
   ]
  },
  {
   "cell_type": "code",
   "execution_count": null,
   "metadata": {},
   "outputs": [],
   "source": [
    "sommv_shape = (4,4)\n",
    "sommv = MiniSom(sommv_shape[0], sommv_shape[1], datamvt.shape[1], sigma=3, learning_rate=.5,\n",
    "              neighborhood_function='triangle', random_seed=10)\n",
    "\n",
    "sommv.train_batch(datamvt, 900, verbose=True)"
   ]
  },
  {
   "cell_type": "code",
   "execution_count": null,
   "metadata": {},
   "outputs": [],
   "source": [
    "somcs_shape = (4,4)\n",
    "somcs = MiniSom(somcs_shape[0], somcs_shape[1], datacst.shape[1], sigma=3, learning_rate=.5,\n",
    "              neighborhood_function='triangle', random_seed=15)\n",
    "\n",
    "somcs.train_batch(datacst, 900, verbose=True)"
   ]
  },
  {
   "cell_type": "code",
   "execution_count": null,
   "metadata": {},
   "outputs": [],
   "source": [
    "somcc_shape = (4,4)\n",
    "somcc = MiniSom(somcc_shape[0], somcc_shape[1], datacct.shape[1], sigma=3, learning_rate=.5,\n",
    "              neighborhood_function='triangle', random_seed=15)\n",
    "\n",
    "somcc.train_batch(datacct, 900, verbose=True)"
   ]
  },
  {
   "cell_type": "code",
   "execution_count": null,
   "metadata": {},
   "outputs": [],
   "source": [
    "somcv_shape = (4,4)\n",
    "somcv = MiniSom(somcv_shape[0], somcv_shape[1], datacvt.shape[1], sigma=3, learning_rate=.5,\n",
    "              neighborhood_function='triangle', random_seed=15)\n",
    "\n",
    "somcv.train_batch(datacvt,900, verbose=True)"
   ]
  },
  {
   "cell_type": "code",
   "execution_count": null,
   "metadata": {},
   "outputs": [],
   "source": [
    "sommcs_shape = (4,4)\n",
    "sommcs = MiniSom(sommcs_shape[0], sommcs_shape[1], datamcst.shape[1], sigma=3, learning_rate=.5,\n",
    "              neighborhood_function='triangle',random_seed=10)\n",
    "sommcs.train_batch(datamcst, 900, verbose=True)"
   ]
  },
  {
   "cell_type": "code",
   "execution_count": null,
   "metadata": {},
   "outputs": [],
   "source": [
    "sommcc_shape = (4,4)\n",
    "sommcc = MiniSom(sommcc_shape[0], sommcc_shape[1], datamcct.shape[1], sigma=3, learning_rate=.5,\n",
    "              neighborhood_function='triangle',random_seed=10)\n",
    "sommcc.train_batch(datamcct, 900, verbose=True)"
   ]
  },
  {
   "cell_type": "code",
   "execution_count": null,
   "metadata": {},
   "outputs": [],
   "source": [
    "sommcv_shape = (4,4)\n",
    "sommcv = MiniSom(sommcv_shape[0], sommcv_shape[1], datamcvt.shape[1], sigma=3, learning_rate=.5,\n",
    "              neighborhood_function='triangle',random_seed=10)\n",
    "sommcv.train_batch(datamcvt, 900, verbose=True)"
   ]
  },
  {
   "cell_type": "code",
   "execution_count": null,
   "metadata": {},
   "outputs": [],
   "source": [
    "winner_coordinatesms = np.array([somms.winner(x) for x in datamst]).T\n",
    "cluster_indexms = np.ravel_multi_index(winner_coordinatesms, somms_shape)"
   ]
  },
  {
   "cell_type": "code",
   "execution_count": null,
   "metadata": {},
   "outputs": [],
   "source": [
    "winner_coordinatesmc = np.array([sommc.winner(x) for x in datamct]).T\n",
    "cluster_indexmc = np.ravel_multi_index(winner_coordinatesmc, sommc_shape)"
   ]
  },
  {
   "cell_type": "code",
   "execution_count": null,
   "metadata": {},
   "outputs": [],
   "source": [
    "winner_coordinatesmv = np.array([sommv.winner(x) for x in datamvt]).T\n",
    "cluster_indexmv = np.ravel_multi_index(winner_coordinatesmv, sommv_shape)"
   ]
  },
  {
   "cell_type": "code",
   "execution_count": null,
   "metadata": {},
   "outputs": [],
   "source": [
    "winner_coordinatescs = np.array([somcs.winner(x) for x in datacst]).T\n",
    "cluster_indexcs = np.ravel_multi_index(winner_coordinatescs, somcs_shape)"
   ]
  },
  {
   "cell_type": "code",
   "execution_count": null,
   "metadata": {},
   "outputs": [],
   "source": [
    "winner_coordinatescc = np.array([somcc.winner(x) for x in datacct]).T\n",
    "cluster_indexcc = np.ravel_multi_index(winner_coordinatescc, somcc_shape)"
   ]
  },
  {
   "cell_type": "code",
   "execution_count": null,
   "metadata": {},
   "outputs": [],
   "source": [
    "winner_coordinatescv = np.array([somcv.winner(x) for x in datacvt]).T\n",
    "cluster_indexcv = np.ravel_multi_index(winner_coordinatescv, somcv_shape)"
   ]
  },
  {
   "cell_type": "code",
   "execution_count": null,
   "metadata": {},
   "outputs": [],
   "source": [
    "winner_coordinatesmcs = np.array([sommcs.winner(x) for x in datamcst]).T\n",
    "cluster_indexmcs = np.ravel_multi_index(winner_coordinatesmcs, sommcs_shape)"
   ]
  },
  {
   "cell_type": "code",
   "execution_count": null,
   "metadata": {},
   "outputs": [],
   "source": [
    "winner_coordinatesmcc = np.array([sommcc.winner(x) for x in datamcct]).T\n",
    "cluster_indexmcc = np.ravel_multi_index(winner_coordinatesmcc, sommcc_shape)"
   ]
  },
  {
   "cell_type": "code",
   "execution_count": null,
   "metadata": {},
   "outputs": [],
   "source": [
    "winner_coordinatesmcv = np.array([sommcv.winner(x) for x in datamcvt]).T\n",
    "cluster_indexmcv = np.ravel_multi_index(winner_coordinatesmcv, sommcv_shape)"
   ]
  },
  {
   "cell_type": "code",
   "execution_count": null,
   "metadata": {},
   "outputs": [],
   "source": [
    "weightms = somms.get_weights()\n",
    "weightmc = sommc.get_weights()\n",
    "weightmv = sommv.get_weights()\n",
    "weightcs = somcs.get_weights()\n",
    "weightcc = somcc.get_weights()\n",
    "weightcv = somcv.get_weights()\n",
    "\n",
    "weightmcs = sommcs.get_weights()\n",
    "weightmcc = sommcc.get_weights()\n",
    "weightmcv = sommcv.get_weights()"
   ]
  },
  {
   "cell_type": "code",
   "execution_count": null,
   "metadata": {},
   "outputs": [],
   "source": [
    "len(weightms[:])"
   ]
  },
  {
   "cell_type": "code",
   "execution_count": null,
   "metadata": {},
   "outputs": [],
   "source": [
    "def neuron_a(weightin,coorin,datain): # neuron activity mean 9\n",
    "    neurona=np.zeros((len(datain[:,0]),1))\n",
    "    for i in range(len(coorin[0])):\n",
    "        coordinx=int(coorin[0][i])\n",
    "        coordiny=int(coorin[1][i])\n",
    "        disx=[-1,0,1,-1,0,1,-1,0,1]\n",
    "        disy=[-1,-1,-1,0,0,0,1,1,1]\n",
    "        xcor=disx+np.array(coordinx)\n",
    "        ycor=disy+np.array(coordiny)\n",
    "        cor=np.c_[xcor,ycor]\n",
    "        #print(coordinx,coordiny)\n",
    "        w=np.zeros((9,len(weightin[0][0])))\n",
    "        for j in range(len(xcor)):\n",
    "            if xcor[j]>=0 and ycor[j]>=0 and xcor[j]<5 and ycor[j]<7:\n",
    "                w[j,:]=weightin[xcor[j],ycor[j]]\n",
    "        count=0\n",
    "        dis=0\n",
    "        for k in range(len(xcor)):\n",
    "            if sum(w[k,:])!=0:\n",
    "                dis=dis+math.dist(datain[i,:],w[k,:])\n",
    "                #print(dis)\n",
    "                count=count+1\n",
    "        #print(coordinx,coordiny,count)\n",
    "        neurona[i,0]=dis/count\n",
    "    return neurona"
   ]
  },
  {
   "cell_type": "code",
   "execution_count": null,
   "metadata": {},
   "outputs": [],
   "source": [
    "len(weightms[:][0])"
   ]
  },
  {
   "cell_type": "code",
   "execution_count": null,
   "metadata": {},
   "outputs": [],
   "source": [
    "def neuron_all(weightin,coorin,datain): # neuron activity all\n",
    "    neurona=np.zeros((len(datain[:,0]),16))\n",
    "    for i in range(len(datain[:,0])):\n",
    "        for j in range(len(weightin[:])):\n",
    "            for k in range(len(weightin[0])): \n",
    "                dis=math.dist(datain[i,:],weightin[j,k])\n",
    "                #print(i,j*4+k)\n",
    "                neurona[i,j*4+k]=dis\n",
    "    return neurona"
   ]
  },
  {
   "cell_type": "code",
   "execution_count": null,
   "metadata": {},
   "outputs": [],
   "source": [
    "neuronms=neuron_all(weightms,winner_coordinatesms,datamst)\n",
    "neuronmc=neuron_all(weightmc,winner_coordinatesmc,datamct)\n",
    "neuronmv=neuron_all(weightmv,winner_coordinatesmv,datamvt)\n",
    "neuroncs=neuron_all(weightcs,winner_coordinatescs,datacst)\n",
    "neuroncc=neuron_all(weightcc,winner_coordinatescc,datacct)\n",
    "neuroncv=neuron_all(weightcv,winner_coordinatescv,datacvt)\n"
   ]
  },
  {
   "cell_type": "code",
   "execution_count": null,
   "metadata": {},
   "outputs": [],
   "source": [
    "\n",
    "neuronmcs=neuron_all(weightmcs,winner_coordinatesmcs,datamcst)\n",
    "neuronmcc=neuron_all(weightmcc,winner_coordinatesmcc,datamcct)\n",
    "neuronmcv=neuron_all(weightmcv,winner_coordinatesmcv,datamcvt)"
   ]
  },
  {
   "cell_type": "code",
   "execution_count": null,
   "metadata": {},
   "outputs": [],
   "source": [
    "datamcvt[9]"
   ]
  },
  {
   "cell_type": "code",
   "execution_count": null,
   "metadata": {},
   "outputs": [],
   "source": [
    "def namedis(filesname,neuronin): #name 9neighbor\n",
    "    outnn=np.zeros((len(filesname),2))\n",
    "    for i in range(len(filesname)):\n",
    "        num=re.findall(\"\\d+\",filesname[i])\n",
    "        outnn[i,0]=np.array(num)\n",
    "        outnn[i,1]=neuronin[i,0]\n",
    "    return outnn"
   ]
  },
  {
   "cell_type": "code",
   "execution_count": null,
   "metadata": {},
   "outputs": [],
   "source": [
    "def namedisall(filesname,neuronin): #name 9neighbor\n",
    "    outnn=np.zeros((len(filesname),17))\n",
    "    for i in range(len(filesname)):\n",
    "        num=re.findall(\"\\d+\",filesname[i])\n",
    "        outnn[i,0]=np.array(num)\n",
    "        outnn[i,1:]=neuronin[i,:]\n",
    "    return outnn"
   ]
  },
  {
   "cell_type": "code",
   "execution_count": null,
   "metadata": {},
   "outputs": [],
   "source": [
    "msr=namedisall(filesmothers,neuronms)\n",
    "mcr=namedisall(filesmotherc,neuronmc)\n",
    "mvr=namedisall(filesmotherv,neuronmv)\n",
    "\n",
    "csr=namedisall(fileschilds,neuroncs)\n",
    "ccr=namedisall(fileschildc,neuroncc)\n",
    "cvr=namedisall(fileschildv,neuroncv)\n",
    "\n",
    "mcsr=namedisall(filesmcs,neuronmcs)\n",
    "mccr=namedisall(filesmcc,neuronmcc)\n",
    "mcvr=namedisall(filesmcv,neuronmcv)"
   ]
  },
  {
   "cell_type": "code",
   "execution_count": null,
   "metadata": {},
   "outputs": [],
   "source": [
    "def somplot(path,filesname,cluster):\n",
    "    listfigure=[]\n",
    "    ttt=10000\n",
    "    for j in range(35):\n",
    "        mmm=np.where(cluster==j)\n",
    "        mmm0=mmm[0]\n",
    "        if len(mmm0)==0:\n",
    "            listfigure.append(ttt)\n",
    "        else:\n",
    "            listfigure.append(filesname[mmm0[0]])\n",
    "    plt.figure(figsize=(20,25))\n",
    "    plt.tight_layout()\n",
    "    for i in range (35):\n",
    "        if listfigure[i]!=ttt:\n",
    "            yy=i//7\n",
    "            xx=i%7\n",
    "            if xx==6:\n",
    "                xx1=0\n",
    "            if xx==5:\n",
    "                xx1=1\n",
    "            if xx==4:\n",
    "                xx1=2\n",
    "            if xx==3:\n",
    "                xx1=3\n",
    "            if xx==2:\n",
    "                xx1=4\n",
    "            if xx==1:\n",
    "                xx1=5\n",
    "            if xx==0:\n",
    "                xx1=6\n",
    "            jj=xx1*5+yy\n",
    "            plt.subplot(7, 5, jj+1)\n",
    "            imgt = plt.imread(path+'\\\\'+listfigure[i])\n",
    "            plt.imshow(imgt)\n",
    "            plt.text(125,125,listfigure[i].split('.')[0],ha='center',fontsize=16)\n",
    "        plt.axis('off')"
   ]
  },
  {
   "cell_type": "code",
   "execution_count": null,
   "metadata": {},
   "outputs": [],
   "source": [
    "def somplotsquare(path,filesname,cluster):\n",
    "    listfigure=[]\n",
    "    ttt=10000\n",
    "    for j in range(16):\n",
    "        mmm=np.where(cluster==j)\n",
    "        mmm0=mmm[0]\n",
    "        if len(mmm0)==0:\n",
    "            listfigure.append(ttt)\n",
    "        else:\n",
    "            listfigure.append(filesname[mmm0[0]])\n",
    "    plt.figure(figsize=(16,16))\n",
    "    plt.tight_layout()\n",
    "    for i in range (16):\n",
    "        if listfigure[i]!=ttt:\n",
    "            yy=i//4\n",
    "            xx=i%4\n",
    "            if xx==3:\n",
    "                xx1=0\n",
    "            if xx==2:\n",
    "                xx1=1\n",
    "            if xx==1:\n",
    "                xx1=2\n",
    "            if xx==0:\n",
    "                xx1=3\n",
    "            jj=xx1*4+yy\n",
    "            plt.subplot(4, 4, jj+1)\n",
    "            imgt = plt.imread(path+'\\\\'+listfigure[i])\n",
    "            plt.imshow(imgt)\n",
    "            #plt.text(125,125,listfigure[i].split('.')[0],ha='center',fontsize=16)\n",
    "        plt.axis('off')"
   ]
  },
  {
   "cell_type": "code",
   "execution_count": null,
   "metadata": {},
   "outputs": [],
   "source": [
    "def somploto(path,filesname,cluster):\n",
    "    listfigure=[]\n",
    "    ttt=10000\n",
    "    for j in range(16):\n",
    "        mmm=np.where(cluster==j)\n",
    "        mmm0=mmm[0]\n",
    "        if len(mmm0)==0:\n",
    "            listfigure.append(ttt)\n",
    "        else:\n",
    "            listfigure.append(filesname[mmm0[0]])\n",
    "    plt.figure(figsize=(25,20))\n",
    "    plt.tight_layout()\n",
    "    for i in range (16):\n",
    "        if listfigure[i]!=ttt:\n",
    "            plt.subplot(4, 4, i+1)\n",
    "            imgt = plt.imread(path+'\\\\'+listfigure[i])\n",
    "            plt.imshow(imgt)\n",
    "            plt.text(125,125,listfigure[i].split('.')[0],ha='center',fontsize=16)\n",
    "        plt.axis('off')"
   ]
  },
  {
   "cell_type": "code",
   "execution_count": null,
   "metadata": {
    "scrolled": false
   },
   "outputs": [],
   "source": [
    "somplotsquare(pathms,filesmothers,cluster_indexms)\n",
    "#somploto(pathms,filesmothers,cluster_indexms)"
   ]
  },
  {
   "cell_type": "code",
   "execution_count": null,
   "metadata": {},
   "outputs": [],
   "source": [
    "plt.pcolor(somms.distance_map(scaling='mean').T, cmap='bone_r')  # plotting the distance map as background\n",
    "plt.colorbar()"
   ]
  },
  {
   "cell_type": "code",
   "execution_count": null,
   "metadata": {},
   "outputs": [],
   "source": [
    "somplotsquare(pathmc,filesmotherc,cluster_indexmc)\n",
    "#somploto(pathmc,filesmotherc,cluster_indexmc)"
   ]
  },
  {
   "cell_type": "code",
   "execution_count": null,
   "metadata": {},
   "outputs": [],
   "source": [
    "plt.pcolor(sommc.distance_map(scaling='mean').T, cmap='bone_r')  # plotting the distance map as background\n",
    "plt.colorbar()"
   ]
  },
  {
   "cell_type": "code",
   "execution_count": null,
   "metadata": {},
   "outputs": [],
   "source": [
    "somplotsquare(pathmv,filesmotherv,cluster_indexmv)\n",
    "#somploto(pathmv,filesmotherv,cluster_indexmv)"
   ]
  },
  {
   "cell_type": "code",
   "execution_count": null,
   "metadata": {},
   "outputs": [],
   "source": [
    "plt.pcolor(sommv.distance_map(scaling='mean').T, cmap='bone_r')  # plotting the distance map as background\n",
    "plt.colorbar()"
   ]
  },
  {
   "cell_type": "code",
   "execution_count": null,
   "metadata": {},
   "outputs": [],
   "source": [
    "somplotsquare(pathcs,fileschilds,cluster_indexcs)\n",
    "#somploto(pathcs,fileschilds,cluster_indexcs)"
   ]
  },
  {
   "cell_type": "code",
   "execution_count": null,
   "metadata": {},
   "outputs": [],
   "source": [
    "plt.pcolor(somcs.distance_map(scaling='mean').T, cmap='bone_r')  # plotting the distance map as background\n",
    "plt.colorbar()"
   ]
  },
  {
   "cell_type": "code",
   "execution_count": null,
   "metadata": {},
   "outputs": [],
   "source": [
    "somplotsquare(pathcc,fileschildc,cluster_indexcc)\n",
    "#somploto(pathcc,fileschildc,cluster_indexcc)"
   ]
  },
  {
   "cell_type": "code",
   "execution_count": null,
   "metadata": {},
   "outputs": [],
   "source": [
    "plt.pcolor(somcc.distance_map(scaling='mean').T, cmap='bone_r')  # plotting the distance map as background\n",
    "plt.colorbar()"
   ]
  },
  {
   "cell_type": "code",
   "execution_count": null,
   "metadata": {},
   "outputs": [],
   "source": [
    "somplotsquare(pathcv,fileschildv,cluster_indexcv)\n",
    "#somploto(pathcv,fileschildv,cluster_indexcv)"
   ]
  },
  {
   "cell_type": "code",
   "execution_count": null,
   "metadata": {},
   "outputs": [],
   "source": [
    "plt.pcolor(somcv.distance_map(scaling='mean').T, cmap='bone_r')  # plotting the distance map as background\n",
    "plt.colorbar()"
   ]
  },
  {
   "cell_type": "code",
   "execution_count": null,
   "metadata": {},
   "outputs": [],
   "source": [
    "somplotsquare(pathmcs,filesmcs,cluster_indexmcs)\n",
    "#somploto(pathmcs,filesmcs,cluster_indexmcs)"
   ]
  },
  {
   "cell_type": "code",
   "execution_count": null,
   "metadata": {},
   "outputs": [],
   "source": [
    "plt.pcolor(sommcs.distance_map(scaling='mean').T, cmap='bone_r')  # plotting the distance map as background\n",
    "plt.colorbar()"
   ]
  },
  {
   "cell_type": "code",
   "execution_count": null,
   "metadata": {},
   "outputs": [],
   "source": [
    "somplotsquare(pathmcc,filesmcc,cluster_indexmcc)\n",
    "#somploto(pathmcc,filesmcc,cluster_indexmcc)"
   ]
  },
  {
   "cell_type": "code",
   "execution_count": null,
   "metadata": {},
   "outputs": [],
   "source": [
    "plt.pcolor(sommcc.distance_map(scaling='mean').T, cmap='bone_r')  # plotting the distance map as background\n",
    "plt.colorbar()"
   ]
  },
  {
   "cell_type": "code",
   "execution_count": null,
   "metadata": {},
   "outputs": [],
   "source": [
    "somplotsquare(pathmcv,filesmcv,cluster_indexmcv)\n",
    "#somploto(pathmcv,filesmcv,cluster_indexmcv)"
   ]
  },
  {
   "cell_type": "code",
   "execution_count": null,
   "metadata": {},
   "outputs": [],
   "source": [
    "plt.pcolor(sommcv.distance_map(scaling='mean').T, cmap='bone_r')  # plotting the distance map as background\n",
    "plt.colorbar()"
   ]
  },
  {
   "cell_type": "code",
   "execution_count": null,
   "metadata": {},
   "outputs": [],
   "source": [
    "pathindex=r'D:\\KyotoUdata\\all'\n",
    "indexfile= pd.read_csv(r'D:\\KyotoUdata\\all\\index.csv')"
   ]
  },
  {
   "cell_type": "code",
   "execution_count": null,
   "metadata": {},
   "outputs": [],
   "source": [
    "def indtable(indexdata,cldata): # 9neighbor sizet[0,:] clusterno,sizet[0,1] psi\n",
    "    No=indexdata['No']\n",
    "    PSI=indexdata['PSI_total']\n",
    "    #PSI=indexdata['PSI_P']\n",
    "    txt = cldata[:,0]\n",
    "    sizet=np.zeros((len(txt),3))\n",
    "    for j in range(len(txt)):\n",
    "        nameno=int(np.array(txt[j]))//10\n",
    "        idn=np.where(No==nameno)\n",
    "        idn0=idn[0]\n",
    "        sizet[j,0]=cldata[j,1] #dis\n",
    "        sizet[j,1]=PSI[idn0] #psi\n",
    "        sizet[j,2]=cldata[j,0] #name\n",
    "    return sizet"
   ]
  },
  {
   "cell_type": "code",
   "execution_count": null,
   "metadata": {},
   "outputs": [],
   "source": [
    "def indtableall(indexdata,cldata): # 9neighbor sizet[0,:] clusterno,sizet[0,1] psi\n",
    "    No=indexdata['No']\n",
    "    PSI=indexdata['PSI_total']\n",
    "    #PSI=indexdata['PSI_C']\n",
    "    txt = cldata[:,0]\n",
    "    sizet=np.zeros((len(txt),18))\n",
    "    for j in range(len(txt)):\n",
    "        nameno=int(np.array(txt[j]))//10\n",
    "        idn=np.where(No==nameno)\n",
    "        idn0=idn[0]\n",
    "        sizet[j,0]=cldata[j,0] #name\n",
    "        sizet[j,1]=PSI[idn0] #psi\n",
    "        sizet[j,2:]=cldata[j,1:] #dis\n",
    "    return sizet"
   ]
  },
  {
   "cell_type": "code",
   "execution_count": null,
   "metadata": {},
   "outputs": [],
   "source": [
    "sizems=indtableall(indexfile,msr)\n",
    "sizemc=indtableall(indexfile,mcr)\n",
    "sizemv=indtableall(indexfile,mvr)\n",
    "sizecs=indtableall(indexfile,csr)\n",
    "sizecc=indtableall(indexfile,ccr)\n",
    "sizecv=indtableall(indexfile,cvr)\n",
    "\n",
    "sizemcs=indtableall(indexfile,mcsr)\n",
    "sizemcc=indtableall(indexfile,mccr)\n",
    "sizemcv=indtableall(indexfile,mcvr)"
   ]
  },
  {
   "cell_type": "code",
   "execution_count": null,
   "metadata": {},
   "outputs": [],
   "source": [
    "sizems[:,2]"
   ]
  },
  {
   "cell_type": "code",
   "execution_count": null,
   "metadata": {},
   "outputs": [],
   "source": [
    "len(sizems)"
   ]
  },
  {
   "cell_type": "code",
   "execution_count": null,
   "metadata": {},
   "outputs": [],
   "source": [
    "def remove1(sizein):\n",
    "    psi=[]\n",
    "    dis=[]\n",
    "    name=[]\n",
    "    psio=[]\n",
    "    diso=[]\n",
    "    nameo=[]\n",
    "    for i in range(len(sizein[:,0])):\n",
    "        if sizein[i,1]!=1:\n",
    "            psi.append(sizein[i,1])\n",
    "            dis.append(sizein[i,0])\n",
    "            name.append(sizein[i,2])\n",
    "    psia=np.array(psi)\n",
    "    disa=np.array(dis)\n",
    "    namea=np.array(name)\n",
    "    meanpsi=np.mean(psia)\n",
    "    stdpsi=np.std(psia)\n",
    "    high=meanpsi+2*stdpsi\n",
    "    low=meanpsi-2*stdpsi\n",
    "    print(high,low)\n",
    "    #Q1=np.percentile(psia,25)\n",
    "    #Q3=np.percentile(psia,75)\n",
    "    #IQR=Q3-Q1\n",
    "    #outlier_step=1.5*IQR\n",
    "    #print(Q3+outlier_step)\n",
    "    for k in range(len(psia)):\n",
    "        if (psia[k]<low)|(psia[k]>high):\n",
    "            psia[k]=-1000\n",
    "    for kk in range(len(psia)):\n",
    "        if psia[kk]!=-1000:\n",
    "            psio.append(psia[kk])\n",
    "            diso.append(disa[kk])\n",
    "            nameo.append(namea[kk])\n",
    "    return psio,diso,nameo"
   ]
  },
  {
   "cell_type": "code",
   "execution_count": null,
   "metadata": {},
   "outputs": [],
   "source": [
    "def remove1all(sizein):\n",
    "    ind1=np.where(sizein[:,1]!=1)\n",
    "    ind10=ind1[0]\n",
    "    sizeout=sizein[ind10,:]\n",
    "    sizeouto=sizeout.copy()\n",
    "    psi=sizeout[:,1]\n",
    "    meanpsi=np.mean(psi)\n",
    "    stdpsi=np.std(psi)\n",
    "    high=meanpsi+2*stdpsi\n",
    "    low=meanpsi-2*stdpsi\n",
    "    #print(high,low)\n",
    "    #Q1=np.percentile(psia,25)\n",
    "    #Q3=np.percentile(psia,75)\n",
    "    #IQR=Q3-Q1\n",
    "    #outlier_step=1.5*IQR\n",
    "    #print(Q3+outlier_step)\n",
    "    #for k in range(len(psi)):\n",
    "        #if (psi[k]<low)|(psi[k]>high):\n",
    "            #psi[k]=-1000\n",
    "            \n",
    "    #ind1000=np.where(psi!=-1000)\n",
    "    #ind10000=ind1000[0]\n",
    "    #print(ind10000)\n",
    "    #sizeoutt=sizeout[ind10000,:]\n",
    "    return sizeouto"
   ]
  },
  {
   "cell_type": "code",
   "execution_count": null,
   "metadata": {},
   "outputs": [],
   "source": [
    "#psims,disms,namems=remove1(sizems)\n",
    "#psimc,dismc,namemc=remove1(sizemc)\n",
    "#psimv,dismv,namemv=remove1(sizemv)\n",
    "#psics,discs,namecs=remove1(sizecs)\n",
    "#psicc,discc,namecc=remove1(sizecc)\n",
    "#psicv,discv,namecv=remove1(sizecv)\n",
    "\n",
    "#psimcs,dismcs,namemcs=remove1(sizemcs)\n",
    "#psimcc,dismcc,namemcc=remove1(sizemcc)\n",
    "#psimcv,dismcv,namemcv=remove1(sizemcv)"
   ]
  },
  {
   "cell_type": "code",
   "execution_count": null,
   "metadata": {},
   "outputs": [],
   "source": [
    "psims=remove1all(sizems)\n",
    "psimc=remove1all(sizemc)\n",
    "psimv=remove1all(sizemv)\n",
    "psics=remove1all(sizecs)\n",
    "psicc=remove1all(sizecc)\n",
    "psicv=remove1all(sizecv)\n",
    "\n",
    "psimcs=remove1all(sizemcs)\n",
    "psimcc=remove1all(sizemcc)\n",
    "psimcv=remove1all(sizemcv)"
   ]
  },
  {
   "cell_type": "code",
   "execution_count": null,
   "metadata": {},
   "outputs": [],
   "source": [
    "psimcs[:,2]"
   ]
  },
  {
   "cell_type": "code",
   "execution_count": null,
   "metadata": {},
   "outputs": [],
   "source": [
    "\n",
    "import statsmodels.api as sm"
   ]
  },
  {
   "cell_type": "code",
   "execution_count": null,
   "metadata": {},
   "outputs": [],
   "source": [
    "xms=pd.DataFrame(psims[:,2:])\n",
    "yms=pd.DataFrame(psims[:,1])\n",
    "Xms=sm.add_constant(xms)\n",
    "modelms=sm.OLS(yms,Xms).fit()\n",
    "\n",
    "xmc=pd.DataFrame(psimc[:,2:])\n",
    "ymc=pd.DataFrame(psimc[:,1])\n",
    "Xmc=sm.add_constant(xmc)\n",
    "modelmc=sm.OLS(ymc,Xmc).fit()\n",
    "\n",
    "xmv=pd.DataFrame(psimv[:,2:])\n",
    "ymv=pd.DataFrame(psimv[:,1])\n",
    "Xmv=sm.add_constant(xmv)\n",
    "modelmv=sm.OLS(ymv,Xmv).fit()\n",
    "\n",
    "xcs=pd.DataFrame(psics[:,2:])\n",
    "ycs=pd.DataFrame(psics[:,1])\n",
    "Xcs=sm.add_constant(xcs)\n",
    "modelcs=sm.OLS(ycs,Xcs).fit()\n",
    "\n",
    "xcc=pd.DataFrame(psicc[:,2:])\n",
    "ycc=pd.DataFrame(psicc[:,1])\n",
    "Xcc=sm.add_constant(xcc)\n",
    "modelcc=sm.OLS(ycc,Xcc).fit()\n",
    "\n",
    "xcv=pd.DataFrame(psicv[:,2:])\n",
    "ycv=pd.DataFrame(psicv[:,1])\n",
    "Xcv=sm.add_constant(xcv)\n",
    "modelcv=sm.OLS(ycv,Xcv).fit()\n",
    "\n",
    "xmcs=pd.DataFrame(psimcs[:,2:])\n",
    "ymcs=pd.DataFrame(psimcs[:,1])\n",
    "Xmcs=sm.add_constant(xmcs)\n",
    "modelmcs=sm.OLS(ymcs,Xmcs).fit()\n",
    "\n",
    "xmcc=pd.DataFrame(psimcc[:,2:])\n",
    "ymcc=pd.DataFrame(psimcc[:,1])\n",
    "Xmcc=sm.add_constant(xmcc)\n",
    "modelmcc=sm.OLS(ymcc,Xmcc).fit()\n",
    "\n",
    "xmcv=pd.DataFrame(psimcv[:,2:])\n",
    "ymcv=pd.DataFrame(psimcv[:,1])\n",
    "Xmcv=sm.add_constant(xmcv)\n",
    "modelmcv=sm.OLS(ymcv,Xmcv).fit()"
   ]
  },
  {
   "cell_type": "code",
   "execution_count": null,
   "metadata": {},
   "outputs": [],
   "source": [
    "print(modelms.rsquared,modelms.rsquared_adj,modelms.f_pvalue)\n",
    "print(modelmc.rsquared,modelmc.rsquared_adj,modelmc.f_pvalue)\n",
    "print(modelmv.rsquared,modelmv.rsquared_adj,modelmv.f_pvalue)\n",
    "\n",
    "print(modelcs.rsquared,modelcs.rsquared_adj,modelcs.f_pvalue)\n",
    "print(modelcc.rsquared,modelcc.rsquared_adj,modelcc.f_pvalue)\n",
    "print(modelcv.rsquared,modelcv.rsquared_adj,modelcv.f_pvalue)\n",
    "\n",
    "print(modelmcs.rsquared,modelmcs.rsquared_adj,modelmcs.f_pvalue)\n",
    "print(modelmcc.rsquared,modelmcc.rsquared_adj,modelmcc.f_pvalue)\n",
    "print(modelmcv.rsquared,modelmcv.rsquared_adj,modelmcv.f_pvalue)"
   ]
  },
  {
   "cell_type": "code",
   "execution_count": null,
   "metadata": {},
   "outputs": [],
   "source": [
    "modelms.summary()"
   ]
  },
  {
   "cell_type": "code",
   "execution_count": null,
   "metadata": {},
   "outputs": [],
   "source": [
    "modelmc.summary()"
   ]
  },
  {
   "cell_type": "code",
   "execution_count": null,
   "metadata": {},
   "outputs": [],
   "source": [
    "modelmv.summary()"
   ]
  },
  {
   "cell_type": "code",
   "execution_count": null,
   "metadata": {},
   "outputs": [],
   "source": [
    "modelcs.summary()"
   ]
  },
  {
   "cell_type": "code",
   "execution_count": null,
   "metadata": {},
   "outputs": [],
   "source": [
    "modelcc.summary()"
   ]
  },
  {
   "cell_type": "code",
   "execution_count": null,
   "metadata": {},
   "outputs": [],
   "source": [
    "modelcv.summary()"
   ]
  },
  {
   "cell_type": "code",
   "execution_count": null,
   "metadata": {},
   "outputs": [],
   "source": [
    "modelmcs.summary()"
   ]
  },
  {
   "cell_type": "code",
   "execution_count": null,
   "metadata": {},
   "outputs": [],
   "source": [
    "modelmcc.summary()"
   ]
  },
  {
   "cell_type": "code",
   "execution_count": null,
   "metadata": {},
   "outputs": [],
   "source": [
    "modelmcv.summary()"
   ]
  },
  {
   "cell_type": "code",
   "execution_count": null,
   "metadata": {},
   "outputs": [],
   "source": [
    "fig, ax=plt.subplots()\n",
    "ax.spines['right'].set_visible(False)\n",
    "ax.spines['top'].set_visible(False)\n",
    "plt.scatter(np.array(xms[0]).ravel(),np.array(psims[:,1]).ravel())\n",
    "linear_model=np.polyfit(np.array(xms[0]).ravel(),np.array(psims[:,1]).ravel(),1)\n",
    "linear_model_fn=np.poly1d(linear_model)\n",
    "plt.plot(np.array(xms[0]).ravel(),linear_model_fn(np.array(xms[0]).ravel()),color=\"k\")\n",
    "plt.xticks(fontsize=14)\n",
    "plt.yticks(fontsize=14)"
   ]
  },
  {
   "cell_type": "code",
   "execution_count": null,
   "metadata": {},
   "outputs": [],
   "source": [
    "plt.figure(figsize=(12,9))\n",
    "plt.scatter(psimv[:,6],np.array(psimv[:,1]).ravel())\n",
    "#for i in range(len(xcs[14])):\n",
    "    #textt=int(psimcs[i,0])\n",
    "    #plt.annotate(textt,xy = (psics[i,16],np.array(psics[i,1]).ravel()),xytext = (psics[i,16]+0.05,psics[i,1]+0.05))\n",
    "linear_model=np.polyfit(np.array(xmv[4]).ravel(),np.array(psimv[:,1]).ravel(),1)\n",
    "linear_model_fn=np.poly1d(linear_model)\n",
    "plt.plot(np.array(xmv[4]).ravel(),linear_model_fn(np.array(xmv[4]).ravel()),color=\"k\")\n",
    "#plt.xlim(440,810)\n",
    "plt.xticks(fontsize=18)\n",
    "plt.yticks(fontsize=18)"
   ]
  },
  {
   "cell_type": "code",
   "execution_count": null,
   "metadata": {},
   "outputs": [],
   "source": [
    "lsm=ss.pearsonr(np.array(xmv[13]).ravel(),np.array(psimv[:,1]).ravel())\n",
    "print('lsm',lsm)"
   ]
  },
  {
   "cell_type": "code",
   "execution_count": null,
   "metadata": {},
   "outputs": [],
   "source": [
    "plt.figure(figsize=(12,9))\n",
    "plt.scatter(psimv[:,15],np.array(psimv[:,1]).ravel())\n",
    "#for i in range(len(xcs[14])):\n",
    "    #textt=int(psimcs[i,0])\n",
    "    #plt.annotate(textt,xy = (psics[i,16],np.array(psics[i,1]).ravel()),xytext = (psics[i,16]+0.05,psics[i,1]+0.05))\n",
    "linear_model=np.polyfit(np.array(xmv[13]).ravel(),np.array(psimv[:,1]).ravel(),1)\n",
    "linear_model_fn=np.poly1d(linear_model)\n",
    "plt.plot(np.array(xmv[13]).ravel(),linear_model_fn(np.array(xmv[13]).ravel()),color=\"k\")\n",
    "#plt.xlim(440,810)\n",
    "plt.xticks(fontsize=18)\n",
    "plt.yticks(fontsize=18)"
   ]
  },
  {
   "cell_type": "code",
   "execution_count": null,
   "metadata": {},
   "outputs": [],
   "source": [
    "xms.head()"
   ]
  },
  {
   "cell_type": "code",
   "execution_count": null,
   "metadata": {},
   "outputs": [],
   "source": [
    "plt.figure(figsize=(12,9))\n",
    "plt.scatter(psics[:,16],np.array(psics[:,1]).ravel())\n",
    "#for i in range(len(xcs[14])):\n",
    "    #textt=int(psimcs[i,0])\n",
    "    #plt.annotate(textt,xy = (psics[i,16],np.array(psics[i,1]).ravel()),xytext = (psics[i,16]+0.05,psics[i,1]+0.05))\n",
    "linear_model=np.polyfit(np.array(xcs[14]).ravel(),np.array(psics[:,1]).ravel(),1)\n",
    "linear_model_fn=np.poly1d(linear_model)\n",
    "plt.plot(np.array(xcs[14]).ravel(),linear_model_fn(np.array(xcs[14]).ravel()),color=\"k\")\n",
    "#plt.xlim(250,850)\n",
    "plt.xticks(fontsize=18)\n",
    "plt.yticks(fontsize=18)"
   ]
  },
  {
   "cell_type": "code",
   "execution_count": null,
   "metadata": {},
   "outputs": [],
   "source": [
    "plt.figure(figsize=(12,9))\n",
    "plt.scatter(psics[:,17],np.array(psics[:,1]).ravel())\n",
    "#for i in range(len(xcs[14])):\n",
    "    #textt=int(psimcs[i,0])\n",
    "    #plt.annotate(textt,xy = (psics[i,16],np.array(psics[i,1]).ravel()),xytext = (psics[i,16]+0.05,psics[i,1]+0.05))\n",
    "linear_model=np.polyfit(np.array(xcs[15]).ravel(),np.array(psics[:,1]).ravel(),1)\n",
    "linear_model_fn=np.poly1d(linear_model)\n",
    "plt.plot(np.array(xcs[15]).ravel(),linear_model_fn(np.array(xcs[15]).ravel()),color=\"k\")\n",
    "#plt.xlim(250,850)\n",
    "plt.xticks(fontsize=18)\n",
    "plt.yticks(fontsize=18)"
   ]
  },
  {
   "cell_type": "code",
   "execution_count": null,
   "metadata": {},
   "outputs": [],
   "source": [
    "plt.figure(figsize=(12,9))\n",
    "plt.scatter(psics[:,17],np.array(psics[:,1]).ravel())\n",
    "#for i in range(len(xcs[14])):\n",
    "    #textt=int(psimcs[i,0])\n",
    "    #plt.annotate(textt,xy = (psics[i,16],np.array(psics[i,1]).ravel()),xytext = (psics[i,16]+0.05,psics[i,1]+0.05))\n",
    "linear_model=np.polyfit(np.array(xcs[15]).ravel(),np.array(psics[:,1]).ravel(),1)\n",
    "linear_model_fn=np.poly1d(linear_model)\n",
    "plt.plot(np.array(xcs[15]).ravel(),linear_model_fn(np.array(xcs[15]).ravel()),color=\"k\")\n",
    "#plt.xlim(250,850)\n",
    "plt.xticks(fontsize=18)\n",
    "plt.yticks(fontsize=18)"
   ]
  },
  {
   "cell_type": "code",
   "execution_count": null,
   "metadata": {},
   "outputs": [],
   "source": [
    "xmcv=pd.DataFrame(psimcv[:,2:])\n",
    "ymcv=pd.DataFrame(psimcv[:,1])\n",
    "\n",
    "Xmcv=sm.add_constant(xmcv)\n",
    "modelmcv=sm.OLS(ymcc,Xmcv).fit()\n",
    "print(modelmcv.rsquared,modelmcv.rsquared_adj)"
   ]
  },
  {
   "cell_type": "code",
   "execution_count": null,
   "metadata": {},
   "outputs": [],
   "source": [
    "from sklearn.linear_model import LinearRegression"
   ]
  },
  {
   "cell_type": "code",
   "execution_count": null,
   "metadata": {},
   "outputs": [],
   "source": [
    "modelli=LinearRegression()\n",
    "modelli.fit(psims[:,2:],psims[:,1])\n",
    "modelli.score(psims[:,2:],psims[:,1])"
   ]
  },
  {
   "cell_type": "code",
   "execution_count": null,
   "metadata": {},
   "outputs": [],
   "source": [
    "modelli=LinearRegression()\n",
    "modelli.fit(psimc[:,2:],psimc[:,1])\n",
    "modelli.score(psimc[:,2:],psimc[:,1])"
   ]
  },
  {
   "cell_type": "code",
   "execution_count": null,
   "metadata": {},
   "outputs": [],
   "source": [
    "modelli=LinearRegression()\n",
    "modelli.fit(psimv[:,2:],psimv[:,1])\n",
    "modelli.score(psimv[:,2:],psimv[:,1])"
   ]
  },
  {
   "cell_type": "code",
   "execution_count": null,
   "metadata": {},
   "outputs": [],
   "source": [
    "modelli=LinearRegression()\n",
    "modelli.fit(psics[:,2:],psics[:,1])\n",
    "modelli.score(psics[:,2:],psics[:,1])"
   ]
  },
  {
   "cell_type": "code",
   "execution_count": null,
   "metadata": {},
   "outputs": [],
   "source": [
    "modelli=LinearRegression()\n",
    "modelli.fit(psicc[:,2:],psicc[:,1])\n",
    "modelli.score(psicc[:,2:],psicc[:,1])"
   ]
  },
  {
   "cell_type": "code",
   "execution_count": null,
   "metadata": {},
   "outputs": [],
   "source": [
    "modelli=LinearRegression()\n",
    "modelli.fit(psicv[:,2:],psicv[:,1])\n",
    "modelli.score(psicv[:,2:],psicv[:,1])"
   ]
  },
  {
   "cell_type": "code",
   "execution_count": null,
   "metadata": {},
   "outputs": [],
   "source": [
    "modelli=LinearRegression()\n",
    "modelli.fit(psimcs[:,2:],psimcs[:,1])\n",
    "modelli.score(psimcs[:,2:],psimcs[:,1])"
   ]
  },
  {
   "cell_type": "code",
   "execution_count": null,
   "metadata": {},
   "outputs": [],
   "source": [
    "modelli=LinearRegression()\n",
    "modelli.fit(psimcc[:,2:],psimcc[:,1])\n",
    "modelli.score(psimcc[:,2:],psimcc[:,1])"
   ]
  },
  {
   "cell_type": "code",
   "execution_count": null,
   "metadata": {},
   "outputs": [],
   "source": [
    "modelli=LinearRegression()\n",
    "modelli.fit(psimcv[:,2:],psimcv[:,1])\n",
    "modelli.score(psimcv[:,2:],psimcv[:,1])"
   ]
  },
  {
   "cell_type": "code",
   "execution_count": null,
   "metadata": {},
   "outputs": [],
   "source": [
    "import scipy.stats as ss\n",
    "lsm=ss.pearsonr(np.array(disms).ravel(),np.array(psims).ravel())\n",
    "lcm=ss.pearsonr(np.array(dismc).ravel(),np.array(psimc).ravel())\n",
    "lvm=ss.pearsonr(np.array(dismv).ravel(),np.array(psimv).ravel())\n",
    "lcs=ss.pearsonr(np.array(discs).ravel(),np.array(psics).ravel())\n",
    "lcc=ss.pearsonr(np.array(discc).ravel(),np.array(psicc).ravel())\n",
    "lcv=ss.pearsonr(np.array(discv).ravel(),np.array(psicv).ravel())\n",
    "\n",
    "lsmc=ss.pearsonr(np.array(dismcs).ravel(),np.array(psimcs).ravel())\n",
    "lcmc=ss.pearsonr(np.array(dismcc).ravel(),np.array(psimcc).ravel())\n",
    "lvmc=ss.pearsonr(np.array(dismcv).ravel(),np.array(psimcv).ravel())\n",
    "\n",
    "print('lsm',lsm)\n",
    "print('lcm',lcm)\n",
    "print('lvm',lvm)\n",
    "print('lcs',lcs)\n",
    "print('lcc',lcc)\n",
    "print('lcv',lcv)\n",
    "print('lsmc',lsmc)\n",
    "print('lcmc',lcmc)\n",
    "print('lvmc',lvmc)"
   ]
  },
  {
   "cell_type": "code",
   "execution_count": null,
   "metadata": {},
   "outputs": [],
   "source": [
    "len(dismcs)"
   ]
  },
  {
   "cell_type": "code",
   "execution_count": null,
   "metadata": {},
   "outputs": [],
   "source": [
    "#plt.figure(figsize=(25,20))\n",
    "plt.scatter(np.array(dismcs).ravel(),np.array(psimcs).ravel())\n",
    "for i in range(len(dismcs)):\n",
    "        plt.annotate(int(namemcs[i]),xy = (dismcs[i],psimcs[i]),xytext = (dismcs[i]+0.01,psimcs[i]+0.01))"
   ]
  },
  {
   "cell_type": "code",
   "execution_count": null,
   "metadata": {},
   "outputs": [],
   "source": [
    "fig, ax=plt.subplots()\n",
    "ax.spines['right'].set_visible(False)\n",
    "ax.spines['top'].set_visible(False)\n",
    "plt.scatter(np.array(disms).ravel(),np.array(psims).ravel())\n",
    "linear_model=np.polyfit(np.array(disms).ravel(),np.array(psims).ravel(),1)\n",
    "linear_model_fn=np.poly1d(linear_model)\n",
    "plt.plot(np.array(disms).ravel(),linear_model_fn(np.array(disms).ravel()),color=\"k\")\n",
    "plt.xticks(fontsize=14)\n",
    "plt.yticks(fontsize=14)"
   ]
  },
  {
   "cell_type": "code",
   "execution_count": null,
   "metadata": {},
   "outputs": [],
   "source": [
    "fig, ax=plt.subplots()\n",
    "ax.spines['right'].set_visible(False)\n",
    "ax.spines['top'].set_visible(False)\n",
    "plt.scatter(np.array(dismc).ravel(),np.array(psimc).ravel())\n",
    "linear_model=np.polyfit(np.array(dismc).ravel(),np.array(psimc).ravel(),1)\n",
    "linear_model_fn=np.poly1d(linear_model)\n",
    "plt.plot(np.array(dismc).ravel(),linear_model_fn(np.array(dismc).ravel()),color=\"k\")\n",
    "plt.xticks(fontsize=14)\n",
    "plt.yticks(fontsize=14)"
   ]
  },
  {
   "cell_type": "code",
   "execution_count": null,
   "metadata": {},
   "outputs": [],
   "source": [
    "fig, ax=plt.subplots()\n",
    "ax.spines['right'].set_visible(False)\n",
    "ax.spines['top'].set_visible(False)\n",
    "plt.scatter(np.array(dismv).ravel(),np.array(psimv).ravel())\n",
    "linear_model=np.polyfit(np.array(dismv).ravel(),np.array(psimv).ravel(),1)\n",
    "linear_model_fn=np.poly1d(linear_model)\n",
    "plt.plot(np.array(dismv).ravel(),linear_model_fn(np.array(dismv).ravel()),color=\"k\")\n",
    "plt.xticks(fontsize=14)\n",
    "plt.yticks(fontsize=14)"
   ]
  },
  {
   "cell_type": "code",
   "execution_count": null,
   "metadata": {},
   "outputs": [],
   "source": [
    "fig, ax=plt.subplots()\n",
    "ax.spines['right'].set_visible(False)\n",
    "ax.spines['top'].set_visible(False)\n",
    "plt.scatter(np.array(discs).ravel(),np.array(psics).ravel())\n",
    "linear_model=np.polyfit(np.array(discs).ravel(),np.array(psics).ravel(),1)\n",
    "linear_model_fn=np.poly1d(linear_model)\n",
    "plt.plot(np.array(discs).ravel(),linear_model_fn(np.array(discs).ravel()),color=\"k\")\n",
    "plt.xticks(fontsize=14)\n",
    "plt.yticks(fontsize=14)"
   ]
  },
  {
   "cell_type": "code",
   "execution_count": null,
   "metadata": {},
   "outputs": [],
   "source": [
    "fig, ax=plt.subplots()\n",
    "ax.spines['right'].set_visible(False)\n",
    "ax.spines['top'].set_visible(False)\n",
    "plt.scatter(np.array(discc).ravel(),np.array(psicc).ravel())\n",
    "linear_model=np.polyfit(np.array(discc).ravel(),np.array(psicc).ravel(),1)\n",
    "linear_model_fn=np.poly1d(linear_model)\n",
    "plt.plot(np.array(discc).ravel(),linear_model_fn(np.array(discc).ravel()),color=\"k\")\n",
    "plt.xticks(fontsize=14)\n",
    "plt.yticks(fontsize=14)"
   ]
  },
  {
   "cell_type": "code",
   "execution_count": null,
   "metadata": {},
   "outputs": [],
   "source": [
    "fig, ax=plt.subplots()\n",
    "ax.spines['right'].set_visible(False)\n",
    "ax.spines['top'].set_visible(False)\n",
    "plt.scatter(np.array(discv).ravel(),np.array(psicv).ravel())\n",
    "linear_model=np.polyfit(np.array(discv).ravel(),np.array(psicv).ravel(),1)\n",
    "linear_model_fn=np.poly1d(linear_model)\n",
    "plt.plot(np.array(discv).ravel(),linear_model_fn(np.array(discv).ravel()),color=\"k\")\n",
    "plt.xticks(fontsize=14)\n",
    "plt.yticks(fontsize=14)"
   ]
  },
  {
   "cell_type": "code",
   "execution_count": null,
   "metadata": {},
   "outputs": [],
   "source": [
    "fig, ax=plt.subplots()\n",
    "ax.spines['right'].set_visible(False)\n",
    "ax.spines['top'].set_visible(False)\n",
    "plt.scatter(np.array(dismcs).ravel(),np.array(psimcs).ravel())\n",
    "linear_model=np.polyfit(np.array(dismcs).ravel(),np.array(psimcs).ravel(),1)\n",
    "linear_model_fn=np.poly1d(linear_model)\n",
    "plt.plot(np.array(dismcs).ravel(),linear_model_fn(np.array(dismcs).ravel()),color=\"k\")\n",
    "plt.xticks(fontsize=14)\n",
    "plt.yticks(fontsize=14)"
   ]
  },
  {
   "cell_type": "code",
   "execution_count": null,
   "metadata": {},
   "outputs": [],
   "source": [
    "fig, ax=plt.subplots()\n",
    "ax.spines['right'].set_visible(False)\n",
    "ax.spines['top'].set_visible(False)\n",
    "plt.scatter(np.array(dismcc).ravel(),np.array(psimcc).ravel())\n",
    "linear_model=np.polyfit(np.array(dismcc).ravel(),np.array(psimcc).ravel(),1)\n",
    "linear_model_fn=np.poly1d(linear_model)\n",
    "plt.plot(np.array(dismcc).ravel(),linear_model_fn(np.array(dismcc).ravel()),color=\"k\")\n",
    "plt.xticks(fontsize=14)\n",
    "plt.yticks(fontsize=14)"
   ]
  },
  {
   "cell_type": "code",
   "execution_count": null,
   "metadata": {},
   "outputs": [],
   "source": [
    "fig, ax=plt.subplots()\n",
    "ax.spines['right'].set_visible(False)\n",
    "ax.spines['top'].set_visible(False)\n",
    "plt.scatter(np.array(dismcv).ravel(),np.array(psimcv).ravel())\n",
    "linear_model=np.polyfit(np.array(dismcv).ravel(),np.array(psimcv).ravel(),1)\n",
    "linear_model_fn=np.poly1d(linear_model)\n",
    "plt.plot(np.array(dismcv).ravel(),linear_model_fn(np.array(dismcv).ravel()),color=\"k\")\n",
    "plt.xticks(fontsize=14)\n",
    "plt.yticks(fontsize=14)"
   ]
  },
  {
   "cell_type": "code",
   "execution_count": null,
   "metadata": {},
   "outputs": [],
   "source": []
  }
 ],
 "metadata": {
  "kernelspec": {
   "display_name": "Python 3",
   "language": "python",
   "name": "python3"
  },
  "language_info": {
   "codemirror_mode": {
    "name": "ipython",
    "version": 3
   },
   "file_extension": ".py",
   "mimetype": "text/x-python",
   "name": "python",
   "nbconvert_exporter": "python",
   "pygments_lexer": "ipython3",
   "version": "3.8.5"
  }
 },
 "nbformat": 4,
 "nbformat_minor": 4
}
