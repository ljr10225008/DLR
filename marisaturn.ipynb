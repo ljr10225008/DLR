{
 "cells": [
  {
   "cell_type": "code",
   "execution_count": 1,
   "metadata": {},
   "outputs": [
    {
     "name": "stderr",
     "output_type": "stream",
     "text": [
      "C:\\Users\\ljr\\anaconda3\\lib\\site-packages\\pandas\\core\\computation\\expressions.py:20: UserWarning: Pandas requires version '2.7.3' or newer of 'numexpr' (version '2.7.1' currently installed).\n",
      "  from pandas.core.computation.check import NUMEXPR_INSTALLED\n"
     ]
    }
   ],
   "source": [
    "import math\n",
    "import numpy as np\n",
    "import sklearn\n",
    "from sklearn.cluster import KMeans\n",
    "import matplotlib as mpl\n",
    "import matplotlib.pyplot as plt\n",
    "import librosa\n",
    "import librosa.display\n",
    "import os\n",
    "import re\n",
    "import seaborn as sns\n",
    "import pandas as pd\n",
    "import random\n",
    "from scipy import stats  #t-test\n",
    "import semopy\n",
    "import pandas as pd\n",
    "from semopy import Model\n",
    "\n",
    "import statsmodels.formula.api as smf\n",
    "import statsmodels.api as sm"
   ]
  },
  {
   "cell_type": "code",
   "execution_count": 2,
   "metadata": {},
   "outputs": [],
   "source": [
    "pathfasfa1 = r\"C:\\LJR\\babylab\\marisa\\datamanual\\cut\\0643\\turntaking\\fasfa\"\n",
    "filesfasfa1= os.listdir(pathfasfa1)\n",
    "pathfasfa2 = r\"C:\\LJR\\babylab\\marisa\\datamanual\\cut\\2109\\turntaking\\fasfa\"\n",
    "filesfasfa2= os.listdir(pathfasfa2)\n",
    "pathfasfa3 = r\"C:\\LJR\\babylab\\marisa\\datamanual\\cut\\2625\\turntaking\\fasfa\"\n",
    "filesfasfa3= os.listdir(pathfasfa3)\n",
    "pathfasfa4 = r\"C:\\LJR\\babylab\\marisa\\datamanual\\cut\\3026\\turntaking\\fasfa\"\n",
    "filesfasfa4= os.listdir(pathfasfa4)\n",
    "pathfasfa5 = r\"C:\\LJR\\babylab\\marisa\\datamanual\\cut\\6216\\turntaking\\fasfa\"\n",
    "filesfasfa5= os.listdir(pathfasfa5)\n",
    "pathfasfa6 = r\"C:\\LJR\\babylab\\marisa\\datamanual\\cut\\7176\\turntaking\\fasfa\"\n",
    "filesfasfa6= os.listdir(pathfasfa6)\n",
    "pathfasfa7 = r\"C:\\LJR\\babylab\\marisa\\datamanual\\cut\\7220\\turntaking\\fasfa\"\n",
    "filesfasfa7= os.listdir(pathfasfa7)\n",
    "pathfasfa8 = r\"C:\\LJR\\babylab\\marisa\\datamanual\\cut\\7326\\turntaking\\fasfa\"\n",
    "filesfasfa8= os.listdir(pathfasfa8)\n",
    "pathfasfa9 = r\"C:\\LJR\\babylab\\marisa\\datamanual\\cut\\8787\\turntaking\\fasfa\"\n",
    "filesfasfa9= os.listdir(pathfasfa9)\n",
    "\n",
    "pathchisfa1 = r\"C:\\LJR\\babylab\\marisa\\datamanual\\cut\\0643\\turntaking\\chisfa\"\n",
    "fileschisfa1= os.listdir(pathchisfa1)\n",
    "pathchisfa2 = r\"C:\\LJR\\babylab\\marisa\\datamanual\\cut\\2109\\turntaking\\chisfa\"\n",
    "fileschisfa2= os.listdir(pathchisfa2)\n",
    "pathchisfa3 = r\"C:\\LJR\\babylab\\marisa\\datamanual\\cut\\2625\\turntaking\\chisfa\"\n",
    "fileschisfa3= os.listdir(pathchisfa3)\n",
    "pathchisfa4 = r\"C:\\LJR\\babylab\\marisa\\datamanual\\cut\\3026\\turntaking\\chisfa\"\n",
    "fileschisfa4= os.listdir(pathchisfa4)\n",
    "pathchisfa5 = r\"C:\\LJR\\babylab\\marisa\\datamanual\\cut\\6216\\turntaking\\chisfa\"\n",
    "fileschisfa5= os.listdir(pathchisfa5)\n",
    "pathchisfa6 = r\"C:\\LJR\\babylab\\marisa\\datamanual\\cut\\7176\\turntaking\\chisfa\"\n",
    "fileschisfa6= os.listdir(pathchisfa6)\n",
    "pathchisfa7 = r\"C:\\LJR\\babylab\\marisa\\datamanual\\cut\\7220\\turntaking\\chisfa\"\n",
    "fileschisfa7= os.listdir(pathchisfa7)\n",
    "pathchisfa8 = r\"C:\\LJR\\babylab\\marisa\\datamanual\\cut\\7326\\turntaking\\chisfa\"\n",
    "fileschisfa8= os.listdir(pathchisfa8)\n",
    "pathchisfa9 = r\"C:\\LJR\\babylab\\marisa\\datamanual\\cut\\8787\\turntaking\\chisfa\"\n",
    "fileschisfa9= os.listdir(pathchisfa9)\n"
   ]
  },
  {
   "cell_type": "code",
   "execution_count": 3,
   "metadata": {},
   "outputs": [],
   "source": [
    "pathfaschi1 = r\"C:\\LJR\\babylab\\marisa\\datamanual\\cut\\0643\\turntaking\\faschi\"\n",
    "filesfaschi1= os.listdir(pathfaschi1)\n",
    "pathfaschi2 = r\"C:\\LJR\\babylab\\marisa\\datamanual\\cut\\2109\\turntaking\\faschi\"\n",
    "filesfaschi2= os.listdir(pathfaschi2)\n",
    "pathfaschi3 = r\"C:\\LJR\\babylab\\marisa\\datamanual\\cut\\2625\\turntaking\\faschi\"\n",
    "filesfaschi3= os.listdir(pathfaschi3)\n",
    "pathfaschi4 = r\"C:\\LJR\\babylab\\marisa\\datamanual\\cut\\3026\\turntaking\\faschi\"\n",
    "filesfaschi4= os.listdir(pathfaschi4)\n",
    "pathfaschi5 = r\"C:\\LJR\\babylab\\marisa\\datamanual\\cut\\6216\\turntaking\\faschi\"\n",
    "filesfaschi5= os.listdir(pathfaschi5)\n",
    "pathfaschi6 = r\"C:\\LJR\\babylab\\marisa\\datamanual\\cut\\7176\\turntaking\\faschi\"\n",
    "filesfaschi6= os.listdir(pathfaschi6)\n",
    "pathfaschi7 = r\"C:\\LJR\\babylab\\marisa\\datamanual\\cut\\7220\\turntaking\\faschi\"\n",
    "filesfaschi7= os.listdir(pathfaschi7)\n",
    "pathfaschi8 = r\"C:\\LJR\\babylab\\marisa\\datamanual\\cut\\7326\\turntaking\\faschi\"\n",
    "filesfaschi8= os.listdir(pathfaschi8)\n",
    "pathfaschi9 = r\"C:\\LJR\\babylab\\marisa\\datamanual\\cut\\8787\\turntaking\\faschi\"\n",
    "filesfaschi9= os.listdir(pathfaschi9)\n",
    "\n",
    "pathchischi1 = r\"C:\\LJR\\babylab\\marisa\\datamanual\\cut\\0643\\turntaking\\chischi\"\n",
    "fileschischi1= os.listdir(pathchischi1)\n",
    "pathchischi2 = r\"C:\\LJR\\babylab\\marisa\\datamanual\\cut\\2109\\turntaking\\chischi\"\n",
    "fileschischi2= os.listdir(pathchischi2)\n",
    "pathchischi3= r\"C:\\LJR\\babylab\\marisa\\datamanual\\cut\\2625\\turntaking\\chischi\"\n",
    "fileschischi3= os.listdir(pathchischi3)\n",
    "pathchischi4 = r\"C:\\LJR\\babylab\\marisa\\datamanual\\cut\\3026\\turntaking\\chischi\"\n",
    "fileschischi4= os.listdir(pathchischi4)\n",
    "pathchischi5 = r\"C:\\LJR\\babylab\\marisa\\datamanual\\cut\\6216\\turntaking\\chischi\"\n",
    "fileschischi5= os.listdir(pathchischi5)\n",
    "pathchischi6 = r\"C:\\LJR\\babylab\\marisa\\datamanual\\cut\\7176\\turntaking\\chischi\"\n",
    "fileschischi6= os.listdir(pathchischi6)\n",
    "pathchischi7 = r\"C:\\LJR\\babylab\\marisa\\datamanual\\cut\\7220\\turntaking\\chischi\"\n",
    "fileschischi7= os.listdir(pathchischi7)\n",
    "pathchischi8 = r\"C:\\LJR\\babylab\\marisa\\datamanual\\cut\\7326\\turntaking\\chischi\"\n",
    "fileschischi8= os.listdir(pathchischi8)\n",
    "pathchischi9 = r\"C:\\LJR\\babylab\\marisa\\datamanual\\cut\\8787\\turntaking\\chischi\"\n",
    "fileschischi9= os.listdir(pathchischi9)\n"
   ]
  },
  {
   "cell_type": "code",
   "execution_count": 4,
   "metadata": {},
   "outputs": [],
   "source": [
    "import sklearn\n",
    "def normalize(x, axis=0):\n",
    "    return sklearn.preprocessing.minmax_scale(x, axis=axis)"
   ]
  },
  {
   "cell_type": "code",
   "execution_count": 5,
   "metadata": {},
   "outputs": [],
   "source": [
    "def featurec(path,files):\n",
    "    t=np.zeros((len(files),8))\n",
    "    for i in range(len(files)):\n",
    "        x,sr1=librosa.load(path+\"\\\\\"+files[i],sr=None)\n",
    "        duration=librosa.get_duration(y=x, sr=sr1)\n",
    "        emphasized_signal = np.append(x[0], x[1:] -0.97 * x[:-1])\n",
    "        mfccss = librosa.feature.mfcc(y=emphasized_signal, sr=sr1)\n",
    "        mfccs = normalize(mfccss , axis=1)\n",
    "        mfccs=mfccs.T\n",
    "        mfccsm=np.mean(mfccs)\n",
    "        f0, voiced_flag, voiced_probs = librosa.pyin(x,sr=sr1,frame_length=512, fill_na=np.nan, n_thresholds=50, fmin=120, fmax=600)\n",
    "        rf0= np.nanmax(f0)-np.nanmin(f0)\n",
    "        if np.isnan(rf0):\n",
    "            print(path+\"\\\\\"+files[i])\n",
    "        maxf0 = np.nanmax(f0)\n",
    "        minf0 = np.nanmin(f0)\n",
    "        mmf0=np.nanmean(f0)\n",
    "        rms = librosa.feature.rms(y=x,frame_length=512, hop_length=128)\n",
    "        mrms=np.nanmean(rms)\n",
    "        zerocrossr = librosa.feature.zero_crossing_rate(y=x,frame_length=512, hop_length=128)\n",
    "        mzerocrossr=np.nanmean(zerocrossr)\n",
    "        feature=np.c_[duration,mfccsm,rf0,maxf0,minf0,mmf0,mrms,mzerocrossr]\n",
    "        t[i,:]=feature\n",
    "    return t"
   ]
  },
  {
   "cell_type": "code",
   "execution_count": 6,
   "metadata": {},
   "outputs": [],
   "source": [
    "def featureci(path,files):\n",
    "    t=np.zeros((len(files),8))\n",
    "    for i in range(len(files)):\n",
    "        x,sr1=librosa.load(path+\"\\\\\"+files[i],sr=None)\n",
    "        duration=librosa.get_duration(y=x, sr=sr1)\n",
    "        emphasized_signal = np.append(x[0], x[1:] -0.97 * x[:-1])\n",
    "        mfccss = librosa.feature.mfcc(y=emphasized_signal, sr=sr1)\n",
    "        mfccs = normalize(mfccss , axis=1)\n",
    "        mfccs=mfccs.T\n",
    "        mfccsm=np.mean(mfccs)\n",
    "        f0, voiced_flag, voiced_probs = librosa.pyin(x,sr=sr1,frame_length=512, fill_na=np.nan, n_thresholds=50, fmin=120, fmax=1000)\n",
    "        rf0= np.nanmax(f0)-np.nanmin(f0)\n",
    "        if np.isnan(rf0):\n",
    "            print(path+\"\\\\\"+files[i])\n",
    "        maxf0 = np.nanmax(f0)\n",
    "        minf0 = np.nanmin(f0)\n",
    "        mmf0=np.nanmean(f0)\n",
    "        rms = librosa.feature.rms(y=x,frame_length=512, hop_length=128)\n",
    "        mrms=np.nanmean(rms)\n",
    "        zerocrossr = librosa.feature.zero_crossing_rate(y=x,frame_length=512, hop_length=128)\n",
    "        mzerocrossr=np.nanmean(zerocrossr)\n",
    "        feature=np.c_[duration,mfccsm,rf0,maxf0,minf0,mmf0,mrms,mzerocrossr]\n",
    "        t[i,:]=feature\n",
    "    return t"
   ]
  },
  {
   "cell_type": "code",
   "execution_count": 7,
   "metadata": {},
   "outputs": [],
   "source": [
    "t0643fas=featurec(pathfasfa1,filesfasfa1)\n",
    "t2109fas=featurec(pathfasfa2,filesfasfa2)\n",
    "#t2625fas=featurec(pathfasfa3,filesfasfa3)\n",
    "#t3026fas=featurec(pathfasfa4,filesfasfa4)\n",
    "#t6216fas=featurec(pathfasfa5,filesfasfa5)\n",
    "t7176fas=featurec(pathfasfa6,filesfasfa6)\n",
    "t7220fas=featurec(pathfasfa7,filesfasfa7)\n",
    "t7326fas=featurec(pathfasfa8,filesfasfa8)\n",
    "t8787fas=featurec(pathfasfa9,filesfasfa9)"
   ]
  },
  {
   "cell_type": "code",
   "execution_count": 8,
   "metadata": {},
   "outputs": [],
   "source": [
    "t0643chis=featurec(pathchisfa1,fileschisfa1)\n",
    "t2109chis=featurec(pathchisfa2,fileschisfa2)\n",
    "#t2625chis=featurec(pathchisfa3,fileschisfa3)\n",
    "#t3026chis=featurec(pathchisfa4,fileschisfa4)\n",
    "#t6216chis=featurec(pathchisfa5,fileschisfa5)\n",
    "t7176chis=featurec(pathchisfa6,fileschisfa6)\n",
    "t7220chis=featurec(pathchisfa7,fileschisfa7)\n",
    "t7326chis=featurec(pathchisfa8,fileschisfa8)\n",
    "t8787chis=featurec(pathchisfa9,fileschisfa9)"
   ]
  },
  {
   "cell_type": "code",
   "execution_count": 9,
   "metadata": {},
   "outputs": [],
   "source": [
    "t0643fasc=featureci(pathfaschi1,filesfaschi1)\n",
    "t2109fasc=featureci(pathfaschi2,filesfaschi2)\n",
    "#t2625fasc=featureci(pathfaschi3,filesfaschi3)\n",
    "#t3026fasc=featureci(pathfaschi4,filesfaschi4)\n",
    "#t6216fasc=featureci(pathfaschi5,filesfaschi5)\n",
    "t7176fasc=featureci(pathfaschi6,filesfaschi6)\n",
    "t7220fasc=featureci(pathfaschi7,filesfaschi7)\n",
    "t7326fasc=featureci(pathfaschi8,filesfaschi8)\n",
    "t8787fasc=featureci(pathfaschi9,filesfaschi9)"
   ]
  },
  {
   "cell_type": "code",
   "execution_count": 10,
   "metadata": {},
   "outputs": [],
   "source": [
    "t0643chisc=featureci(pathchischi1,fileschischi1)\n",
    "t2109chisc=featureci(pathchischi2,fileschischi2)\n",
    "#t2625chisc=featureci(pathchischi3,fileschischi3)\n",
    "#t3026chisc=featureci(pathchischi4,fileschischi4)\n",
    "#t6216chisc=featureci(pathchischi5,fileschischi5)\n",
    "t7176chisc=featureci(pathchischi6,fileschischi6)\n",
    "t7220chisc=featureci(pathchischi7,fileschischi7)\n",
    "t7326chisc=featureci(pathchischi8,fileschischi8)\n",
    "t8787chisc=featureci(pathchischi9,fileschischi9)"
   ]
  },
  {
   "cell_type": "code",
   "execution_count": 11,
   "metadata": {},
   "outputs": [],
   "source": [
    "def sorttimea(files,t):\n",
    "    featureid=np.zeros((len(files),1))\n",
    "    for i in range(len(files)):\n",
    "        featureid[i]=re.search(\"(\\d+\\.\\d+)\",files[i]).group(0)\n",
    "    featurelabeled=np.c_[featureid,t]\n",
    "    #print(featurelabeled[:,0])\n",
    "    #print(featurelabeled[:,1])\n",
    "    data=featurelabeled[featurelabeled[:,0].argsort()]\n",
    "    #print(data[:,0])\n",
    "    #print(data[:,1])\n",
    "    datas=data[:,1:]\n",
    "    #print(datas[:,0])\n",
    "    return datas"
   ]
  },
  {
   "cell_type": "code",
   "execution_count": 12,
   "metadata": {},
   "outputs": [],
   "source": [
    "data0643s=sorttimea(filesfasfa1,t0643fas)\n",
    "data2109s=sorttimea(filesfasfa2,t2109fas)\n",
    "#data2625s=sorttimea(filesfasfa3,t2625fas)\n",
    "#data3026s=sorttimea(filesfasfa4,t3026fas)\n",
    "#data6216s=sorttimea(filesfasfa5,t6216fas)\n",
    "data7176s=sorttimea(filesfasfa6,t7176fas)\n",
    "data7220s=sorttimea(filesfasfa7,t7220fas)\n",
    "data7326s=sorttimea(filesfasfa8,t7326fas)\n",
    "data8787s=sorttimea(filesfasfa9,t8787fas)"
   ]
  },
  {
   "cell_type": "code",
   "execution_count": 13,
   "metadata": {},
   "outputs": [],
   "source": [
    "data0643sc=sorttimea(filesfaschi1,t0643fasc)\n",
    "data2109sc=sorttimea(filesfaschi2,t2109fasc)\n",
    "#data2625sc=sorttimea(filesfaschi3,t2625fasc)\n",
    "#data3026sc=sorttimea(filesfaschi4,t3026fasc)\n",
    "#data6216sc=sorttimea(filesfaschi5,t6216fasc)\n",
    "data7176sc=sorttimea(filesfaschi6,t7176fasc)\n",
    "data7220sc=sorttimea(filesfaschi7,t7220fasc)\n",
    "data7326sc=sorttimea(filesfaschi8,t7326fasc)\n",
    "data8787sc=sorttimea(filesfaschi9,t8787fasc)"
   ]
  },
  {
   "cell_type": "code",
   "execution_count": 14,
   "metadata": {},
   "outputs": [],
   "source": [
    "def ind(datain,labelin,ind):\n",
    "    inds=np.zeros(len(datain))+ind\n",
    "    dataout=np.c_[datain,labelin,inds]\n",
    "    return dataout"
   ]
  },
  {
   "cell_type": "code",
   "execution_count": 15,
   "metadata": {},
   "outputs": [],
   "source": [
    "tdatasr=np.r_[ind(data0643sc[:,2],data0643s[:,2],1),ind(data2109sc[:,2],data2109s[:,2],2),ind(data7176sc[:,2],data7176s[:,2],6),ind(data7220sc[:,2],data7220s[:,2],7),ind(data7326sc[:,2],data7326s[:,2],8),ind(data8787sc[:,2],data8787s[:,2],9)]\n",
    "tdatasma=np.r_[ind(data0643sc[:,3],data0643s[:,3],1),ind(data2109sc[:,3],data2109s[:,3],2),ind(data7176sc[:,3],data7176s[:,3],6),ind(data7220sc[:,3],data7220s[:,3],7),ind(data7326sc[:,3],data7326s[:,3],8),ind(data8787sc[:,3],data8787s[:,3],9)]\n",
    "tdatasmi=np.r_[ind(data0643sc[:,4],data0643s[:,4],1),ind(data2109sc[:,4],data2109s[:,4],2),ind(data7176sc[:,4],data7176s[:,4],6),ind(data7220sc[:,4],data7220s[:,4],7),ind(data7326sc[:,4],data7326s[:,4],8),ind(data8787sc[:,4],data8787s[:,4],9)]\n",
    "tdatasme=np.r_[ind(data0643sc[:,5],data0643s[:,5],1),ind(data2109sc[:,5],data2109s[:,5],2),ind(data7176sc[:,5],data7176s[:,5],6),ind(data7220sc[:,5],data7220s[:,5],7),ind(data7326sc[:,5],data7326s[:,5],8),ind(data8787sc[:,5],data8787s[:,5],9)]"
   ]
  },
  {
   "cell_type": "code",
   "execution_count": 16,
   "metadata": {},
   "outputs": [],
   "source": [
    "data0643chis=sorttimea(fileschisfa1,t0643chis)\n",
    "data2109chis=sorttimea(fileschisfa2,t2109chis)\n",
    "#data2625chis=sorttimea(fileschisfa3,t2625chis)\n",
    "#data3026chis=sorttimea(fileschisfa4,t3026chis)\n",
    "#data6216chis=sorttimea(fileschisfa5,t6216chis)\n",
    "data7176chis=sorttimea(fileschisfa6,t7176chis)\n",
    "data7220chis=sorttimea(fileschisfa7,t7220chis)\n",
    "data7326chis=sorttimea(fileschisfa8,t7326chis)\n",
    "data8787chis=sorttimea(fileschisfa9,t8787chis)"
   ]
  },
  {
   "cell_type": "code",
   "execution_count": 17,
   "metadata": {},
   "outputs": [],
   "source": [
    "data0643chisc=sorttimea(fileschischi1,t0643chisc)\n",
    "data2109chisc=sorttimea(fileschischi2,t2109chisc)\n",
    "#data2625chisc=sorttimea(fileschischi3,t2625chisc)\n",
    "#data3026chisc=sorttimea(fileschischi4,t3026chisc)\n",
    "#data6216chisc=sorttimea(fileschischi5,t6216chisc)\n",
    "data7176chisc=sorttimea(fileschischi6,t7176chisc)\n",
    "data7220chisc=sorttimea(fileschischi7,t7220chisc)\n",
    "data7326chisc=sorttimea(fileschischi8,t7326chisc)\n",
    "data8787chisc=sorttimea(fileschischi9,t8787chisc)"
   ]
  },
  {
   "cell_type": "code",
   "execution_count": 18,
   "metadata": {},
   "outputs": [],
   "source": [
    "ctdatasr=np.r_[ind(data0643chis[:,2],data0643chisc[:,2],1),ind(data2109chis[:,2],data2109chisc[:,2],2),ind(data7176chis[:,2],data7176chisc[:,2],6),ind(data7220chis[:,2],data7220chisc[:,2],7),ind(data7326chis[:,2],data7326chisc[:,2],8),ind(data8787chis[:,2],data8787chisc[:,2],9)]\n",
    "ctdatasma=np.r_[ind(data0643chis[:,3],data0643chisc[:,3],1),ind(data2109chis[:,3],data2109chisc[:,3],2),ind(data7176chis[:,3],data7176chisc[:,3],6),ind(data7220chis[:,3],data7220chisc[:,3],7),ind(data7326chis[:,3],data7326chisc[:,3],8),ind(data8787chis[:,3],data8787chisc[:,3],9)]\n",
    "ctdatasmi=np.r_[ind(data0643chis[:,4],data0643chisc[:,4],1),ind(data2109chis[:,4],data2109chisc[:,4],2),ind(data7176chis[:,4],data7176chisc[:,4],6),ind(data7220chis[:,4],data7220chisc[:,4],7),ind(data7326chis[:,4],data7326chisc[:,4],8),ind(data8787chis[:,4],data8787chisc[:,4],9)]\n",
    "ctdatasme=np.r_[ind(data0643chis[:,5],data0643chisc[:,5],1),ind(data2109chis[:,5],data2109chisc[:,5],2),ind(data7176chis[:,5],data7176chisc[:,5],6),ind(data7220chis[:,5],data7220chisc[:,5],7),ind(data7326chis[:,5],data7326chisc[:,5],8),ind(data8787chis[:,5],data8787chisc[:,5],9)]"
   ]
  },
  {
   "cell_type": "code",
   "execution_count": 19,
   "metadata": {},
   "outputs": [],
   "source": [
    "dataallmep=pd.DataFrame(tdatasme)\n",
    "dataallmep.columns=['DV','IV','type']\n",
    "dataallmap=pd.DataFrame(tdatasma)\n",
    "dataallmap.columns=['DV','IV','type']\n",
    "dataallmip=pd.DataFrame(tdatasmi)\n",
    "dataallmip.columns=['DV','IV','type']\n",
    "dataallrp=pd.DataFrame(tdatasr)\n",
    "dataallrp.columns=['DV','IV','type']"
   ]
  },
  {
   "cell_type": "code",
   "execution_count": 48,
   "metadata": {},
   "outputs": [],
   "source": [
    "cdataallmep=pd.DataFrame(ctdatasme)\n",
    "cdataallmep.columns=['DV','IV','type']\n",
    "cdataallmap=pd.DataFrame(ctdatasma)\n",
    "cdataallmap.columns=['DV','IV','type']\n",
    "cdataallmip=pd.DataFrame(ctdatasmi)\n",
    "cdataallmip.columns=['DV','IV','type']\n",
    "cdataallrp=pd.DataFrame(ctdatasr)\n",
    "cdataallrp.columns=['DV','IV','type']"
   ]
  },
  {
   "cell_type": "code",
   "execution_count": 49,
   "metadata": {},
   "outputs": [],
   "source": [
    "#dataallmep.to_csv(r'C:\\LJR\\paper\\tseltalvsenglish\\dataplot\\Tseltal\\turn\\msme.csv')\n",
    "#dataallmap.to_csv(r'C:\\LJR\\paper\\tseltalvsenglish\\dataplot\\Tseltal\\turn\\msma.csv')\n",
    "#dataallmip.to_csv(r'C:\\LJR\\paper\\tseltalvsenglish\\dataplot\\Tseltal\\turn\\msmi.csv')\n",
    "#dataallrp.to_csv(r'C:\\LJR\\paper\\tseltalvsenglish\\dataplot\\Tseltal\\turn\\msr.csv')"
   ]
  },
  {
   "cell_type": "code",
   "execution_count": 50,
   "metadata": {},
   "outputs": [],
   "source": [
    "#cdataallmep.to_csv(r'C:\\LJR\\paper\\tseltalvsenglish\\dataplot\\Tseltal\\turn\\csme.csv')\n",
    "#cdataallmap.to_csv(r'C:\\LJR\\paper\\tseltalvsenglish\\dataplot\\Tseltal\\turn\\csma.csv')\n",
    "#cdataallmip.to_csv(r'C:\\LJR\\paper\\tseltalvsenglish\\dataplot\\Tseltal\\turn\\csmi.csv')\n",
    "#cdataallrp.to_csv(r'C:\\LJR\\paper\\tseltalvsenglish\\dataplot\\Tseltal\\turn\\csr.csv')"
   ]
  },
  {
   "cell_type": "code",
   "execution_count": 20,
   "metadata": {},
   "outputs": [
    {
     "data": {
      "text/plain": [
       "[(100.0, 450.0)]"
      ]
     },
     "execution_count": 20,
     "metadata": {},
     "output_type": "execute_result"
    },
    {
     "data": {
      "image/png": "[encoded data removed]",
      "text/plain": [
       "<Figure size 432x288 with 1 Axes>"
      ]
     },
     "metadata": {
      "needs_background": "light"
     },
     "output_type": "display_data"
    }
   ],
   "source": [
    "#ax = sns.scatterplot(x=tdatas[:,3], y=tdatasc[:,3])\n",
    "#ax=sns.lmplot(x='Mothers f0_min', y='Infants f0_min',data=f0minp, sharex=False, sharey=False)\n",
    "fig, ax=plt.subplots()\n",
    "ax.spines['right'].set_visible(False)\n",
    "ax.spines['top'].set_visible(False)\n",
    "plt.rc('font',family='Times New Roman')\n",
    "plt.scatter(tdatasmi[:,0],tdatasmi[:,1])\n",
    "linear_model=np.polyfit(tdatasmi[:,0],tdatasmi[:,1],1)\n",
    "linear_model_fn=np.poly1d(linear_model)\n",
    "plt.plot(tdatasmi[:,0],linear_model_fn(tdatasmi[:,0]),color=\"k\")\n",
    "plt.xticks(fontsize=14)\n",
    "plt.yticks(fontsize=14)\n",
    "ax.set(ylim=(100, 550))\n",
    "ax.set(xlim=(100, 450))"
   ]
  },
  {
   "cell_type": "code",
   "execution_count": 21,
   "metadata": {},
   "outputs": [],
   "source": [
    "cdataallmep=pd.DataFrame(ctdatasme)\n",
    "cdataallmep.columns=['DV','IV','type']\n",
    "cdataallmap=pd.DataFrame(ctdatasma)\n",
    "cdataallmap.columns=['DV','IV','type']\n",
    "cdataallmip=pd.DataFrame(ctdatasmi)\n",
    "cdataallmip.columns=['DV','IV','type']\n",
    "cdataallrp=pd.DataFrame(ctdatasr)\n",
    "cdataallrp.columns=['DV','IV','type']"
   ]
  },
  {
   "cell_type": "code",
   "execution_count": 22,
   "metadata": {},
   "outputs": [
    {
     "name": "stdout",
     "output_type": "stream",
     "text": [
      "         Mixed Linear Model Regression Results\n",
      "=======================================================\n",
      "Model:            MixedLM Dependent Variable: DV       \n",
      "No. Observations: 110     Method:             REML     \n",
      "No. Groups:       6       Scale:              6186.8297\n",
      "Min. group size:  10      Log-Likelihood:     -637.2485\n",
      "Max. group size:  40      Converged:          Yes      \n",
      "Mean group size:  18.3                                 \n",
      "-------------------------------------------------------\n",
      "           Coef.   Std.Err.   z   P>|z|  [0.025  0.975]\n",
      "-------------------------------------------------------\n",
      "Intercept  316.048   37.921 8.334 0.000 241.724 390.372\n",
      "IV           0.199    0.129 1.542 0.123  -0.054   0.453\n",
      "Group Var 1367.026   15.702                            \n",
      "=======================================================\n",
      "\n",
      "1.5420546309404635\n"
     ]
    }
   ],
   "source": [
    "med=smf.mixedlm(\"DV~IV\",dataallmep,groups=dataallmep['type'])\n",
    "medf = med.fit(method=['powell'])\n",
    "print(medf.summary())\n",
    "print(medf.tvalues['IV'])"
   ]
  },
  {
   "cell_type": "code",
   "execution_count": 23,
   "metadata": {},
   "outputs": [
    {
     "name": "stdout",
     "output_type": "stream",
     "text": [
      "           Mixed Linear Model Regression Results\n",
      "============================================================\n",
      "Model:               MixedLM  Dependent Variable:  DV       \n",
      "No. Observations:    110      Method:              REML     \n",
      "No. Groups:          6        Scale:               6064.8336\n",
      "Min. group size:     10       Log-Likelihood:      -636.5693\n",
      "Max. group size:     40       Converged:           Yes      \n",
      "Mean group size:     18.3                                   \n",
      "------------------------------------------------------------\n",
      "                Coef.   Std.Err.   z   P>|z|  [0.025  0.975]\n",
      "------------------------------------------------------------\n",
      "Intercept       310.762   47.885 6.490 0.000 216.909 404.615\n",
      "IV                0.227    0.144 1.582 0.114  -0.054   0.509\n",
      "Group Var      6853.886  157.525                            \n",
      "Group x IV Cov  -14.123    0.448                            \n",
      "IV Var            0.029    0.001                            \n",
      "============================================================\n",
      "\n"
     ]
    },
    {
     "name": "stderr",
     "output_type": "stream",
     "text": [
      "C:\\Users\\ljr\\anaconda3\\lib\\site-packages\\statsmodels\\regression\\mixed_linear_model.py:2262: ConvergenceWarning: The Hessian matrix at the estimated parameter values is not positive definite.\n",
      "  warnings.warn(msg, ConvergenceWarning)\n"
     ]
    }
   ],
   "source": [
    "med=smf.mixedlm(\"DV~IV\",dataallmep,groups=dataallmep['type'],re_formula=\"~IV\")\n",
    "medf = med.fit(method=['powell'])\n",
    "print(medf.summary())"
   ]
  },
  {
   "cell_type": "code",
   "execution_count": 24,
   "metadata": {},
   "outputs": [
    {
     "name": "stdout",
     "output_type": "stream",
     "text": [
      "         Mixed Linear Model Regression Results\n",
      "========================================================\n",
      "Model:            MixedLM Dependent Variable: DV        \n",
      "No. Observations: 110     Method:             REML      \n",
      "No. Groups:       6       Scale:              14430.1417\n",
      "Min. group size:  10      Log-Likelihood:     -682.5795 \n",
      "Max. group size:  40      Converged:          Yes       \n",
      "Mean group size:  18.3                                  \n",
      "--------------------------------------------------------\n",
      "            Coef.   Std.Err.   z   P>|z|  [0.025  0.975]\n",
      "--------------------------------------------------------\n",
      "Intercept   329.552   47.246 6.975 0.000 236.952 422.152\n",
      "IV            0.340    0.128 2.651 0.008   0.089   0.592\n",
      "Group Var  2034.214   16.372                            \n",
      "========================================================\n",
      "\n",
      "2.651014945789441\n"
     ]
    }
   ],
   "source": [
    "mad=smf.mixedlm(\"DV~IV\",dataallmap,groups=dataallmap['type'])\n",
    "madf = mad.fit(method=['powell'])\n",
    "print(madf.summary())\n",
    "print(madf.tvalues['IV'])"
   ]
  },
  {
   "cell_type": "code",
   "execution_count": 25,
   "metadata": {},
   "outputs": [
    {
     "name": "stderr",
     "output_type": "stream",
     "text": [
      "C:\\Users\\ljr\\anaconda3\\lib\\site-packages\\scipy\\optimize\\_optimize.py:2884: RuntimeWarning: invalid value encountered in double_scalars\n",
      "  w = xb - ((xb - xc) * tmp2 - (xb - xa) * tmp1) / denom\n",
      "C:\\Users\\ljr\\anaconda3\\lib\\site-packages\\scipy\\optimize\\_optimize.py:2416: RuntimeWarning: invalid value encountered in double_scalars\n",
      "  tmp1 = (x - w) * (fx - fv)\n",
      "C:\\Users\\ljr\\anaconda3\\lib\\site-packages\\scipy\\optimize\\_optimize.py:2417: RuntimeWarning: invalid value encountered in double_scalars\n",
      "  tmp2 = (x - v) * (fx - fw)\n",
      "C:\\Users\\ljr\\anaconda3\\lib\\site-packages\\scipy\\optimize\\_optimize.py:2418: RuntimeWarning: invalid value encountered in double_scalars\n",
      "  p = (x - v) * tmp2 - (x - w) * tmp1\n",
      "C:\\Users\\ljr\\anaconda3\\lib\\site-packages\\scipy\\optimize\\_optimize.py:2419: RuntimeWarning: invalid value encountered in double_scalars\n",
      "  tmp2 = 2.0 * (tmp2 - tmp1)\n"
     ]
    },
    {
     "name": "stdout",
     "output_type": "stream",
     "text": [
      "           Mixed Linear Model Regression Results\n",
      "===========================================================\n",
      "Model:             MixedLM  Dependent Variable:  DV        \n",
      "No. Observations:  110      Method:              REML      \n",
      "No. Groups:        6        Scale:               12733.7105\n",
      "Min. group size:   10       Log-Likelihood:      inf       \n",
      "Max. group size:   40       Converged:           Yes       \n",
      "Mean group size:   18.3                                    \n",
      "-----------------------------------------------------------\n",
      "                 Coef.      Std.Err.  z P>|z| [0.025 0.975]\n",
      "-----------------------------------------------------------\n",
      "Intercept         346.869                                  \n",
      "IV                 -3.218                                  \n",
      "Group Var       12506.458                                  \n",
      "Group x IV Cov -21154.578 3465523.283                      \n",
      "IV Var          35782.807 4307494.465                      \n",
      "===========================================================\n",
      "\n"
     ]
    },
    {
     "name": "stderr",
     "output_type": "stream",
     "text": [
      "C:\\Users\\ljr\\anaconda3\\lib\\site-packages\\scipy\\optimize\\_optimize.py:3351: RuntimeWarning: invalid value encountered in double_scalars\n",
      "  if (fx2 - fval) > delta:\n",
      "C:\\Users\\ljr\\anaconda3\\lib\\site-packages\\statsmodels\\regression\\mixed_linear_model.py:2055: UserWarning: The random effects covariance matrix is singular.\n",
      "  warnings.warn(_warn_cov_sing)\n",
      "C:\\Users\\ljr\\anaconda3\\lib\\site-packages\\statsmodels\\regression\\mixed_linear_model.py:2246: UserWarning: The random effects covariance matrix is singular.\n",
      "  warnings.warn(_warn_cov_sing)\n",
      "C:\\Users\\ljr\\anaconda3\\lib\\site-packages\\statsmodels\\regression\\mixed_linear_model.py:2262: ConvergenceWarning: The Hessian matrix at the estimated parameter values is not positive definite.\n",
      "  warnings.warn(msg, ConvergenceWarning)\n",
      "C:\\Users\\ljr\\anaconda3\\lib\\site-packages\\statsmodels\\regression\\mixed_linear_model.py:2706: RuntimeWarning: invalid value encountered in sqrt\n",
      "  sdf[0:self.k_fe, 1] = np.sqrt(np.diag(self.cov_params()[0:self.k_fe]))\n"
     ]
    }
   ],
   "source": [
    "mad=smf.mixedlm(\"DV~IV\",dataallmap,groups=dataallmap['type'],re_formula=\"~IV\")\n",
    "madf = mad.fit(method=['powell'])\n",
    "print(madf.summary())"
   ]
  },
  {
   "cell_type": "code",
   "execution_count": 26,
   "metadata": {},
   "outputs": [
    {
     "name": "stdout",
     "output_type": "stream",
     "text": [
      "         Mixed Linear Model Regression Results\n",
      "=======================================================\n",
      "Model:            MixedLM Dependent Variable: DV       \n",
      "No. Observations: 110     Method:             REML     \n",
      "No. Groups:       6       Scale:              5248.1730\n",
      "Min. group size:  10      Log-Likelihood:     -627.5841\n",
      "Max. group size:  40      Converged:          Yes      \n",
      "Mean group size:  18.3                                 \n",
      "-------------------------------------------------------\n",
      "           Coef.  Std.Err.   z    P>|z|  [0.025  0.975]\n",
      "-------------------------------------------------------\n",
      "Intercept 295.924   27.889 10.611 0.000 241.264 350.585\n",
      "IV          0.007    0.115  0.063 0.950  -0.219   0.233\n",
      "Group Var 732.380   10.374                             \n",
      "=======================================================\n",
      "\n",
      "0.06274527271296038\n"
     ]
    }
   ],
   "source": [
    "mid=smf.mixedlm(\"DV~IV\",dataallmip,groups=dataallmip['type'])\n",
    "midf = mid.fit(method=['powell'])\n",
    "print(midf.summary())\n",
    "print(midf.tvalues['IV'])"
   ]
  },
  {
   "cell_type": "code",
   "execution_count": 27,
   "metadata": {},
   "outputs": [
    {
     "name": "stdout",
     "output_type": "stream",
     "text": [
      "            Mixed Linear Model Regression Results\n",
      "=============================================================\n",
      "Model:              MixedLM   Dependent Variable:   DV       \n",
      "No. Observations:   110       Method:               REML     \n",
      "No. Groups:         6         Scale:                5029.4062\n",
      "Min. group size:    10        Log-Likelihood:       -631.3291\n",
      "Max. group size:    40        Converged:            Yes      \n",
      "Mean group size:    18.3                                     \n",
      "-------------------------------------------------------------\n",
      "                Coef.   Std.Err.   z    P>|z|  [0.025  0.975]\n",
      "-------------------------------------------------------------\n",
      "Intercept       309.162   38.496  8.031 0.000 233.712 384.613\n",
      "IV               -0.056    0.047 -1.184 0.236  -0.149   0.037\n",
      "Group Var      7329.833                                      \n",
      "Group x IV Cov    8.771                                      \n",
      "IV Var            0.011                                      \n",
      "=============================================================\n",
      "\n"
     ]
    },
    {
     "name": "stderr",
     "output_type": "stream",
     "text": [
      "C:\\Users\\ljr\\anaconda3\\lib\\site-packages\\statsmodels\\regression\\mixed_linear_model.py:2262: ConvergenceWarning: The Hessian matrix at the estimated parameter values is not positive definite.\n",
      "  warnings.warn(msg, ConvergenceWarning)\n"
     ]
    }
   ],
   "source": [
    "mid=smf.mixedlm(\"DV~IV\",dataallmip,groups=dataallmip['type'],re_formula=\"~IV\")\n",
    "midf = mid.fit(method=['nm'])\n",
    "print(midf.summary())"
   ]
  },
  {
   "cell_type": "code",
   "execution_count": 28,
   "metadata": {},
   "outputs": [
    {
     "name": "stdout",
     "output_type": "stream",
     "text": [
      "         Mixed Linear Model Regression Results\n",
      "========================================================\n",
      "Model:            MixedLM Dependent Variable: DV        \n",
      "No. Observations: 110     Method:             REML      \n",
      "No. Groups:       6       Scale:              12635.2361\n",
      "Min. group size:  10      Log-Likelihood:     -674.2257 \n",
      "Max. group size:  40      Converged:          Yes       \n",
      "Mean group size:  18.3                                  \n",
      "--------------------------------------------------------\n",
      "              Coef.  Std.Err.   z   P>|z| [0.025  0.975]\n",
      "--------------------------------------------------------\n",
      "Intercept    117.990   21.258 5.550 0.000 76.326 159.654\n",
      "IV             0.213    0.122 1.740 0.082 -0.027   0.452\n",
      "Group Var    817.759   10.313                           \n",
      "========================================================\n",
      "\n",
      "1.7404181715517832\n"
     ]
    }
   ],
   "source": [
    "rd=smf.mixedlm(\"DV~IV\",dataallrp,groups=dataallrp['type'])\n",
    "rdf = rd.fit(method=['powell'])\n",
    "print(rdf.summary())\n",
    "print(rdf.tvalues['IV'])"
   ]
  },
  {
   "cell_type": "code",
   "execution_count": 29,
   "metadata": {},
   "outputs": [
    {
     "name": "stdout",
     "output_type": "stream",
     "text": [
      "           Mixed Linear Model Regression Results\n",
      "===========================================================\n",
      "Model:             MixedLM  Dependent Variable:  DV        \n",
      "No. Observations:  110      Method:              REML      \n",
      "No. Groups:        6        Scale:               12020.8253\n",
      "Min. group size:   10       Log-Likelihood:      -673.3395 \n",
      "Max. group size:   40       Converged:           Yes       \n",
      "Mean group size:   18.3                                    \n",
      "-----------------------------------------------------------\n",
      "                Coef.   Std.Err.   z   P>|z| [0.025  0.975]\n",
      "-----------------------------------------------------------\n",
      "Intercept       113.895   28.004 4.067 0.000 59.007 168.782\n",
      "IV                0.239    0.183 1.307 0.191 -0.119   0.597\n",
      "Group Var      2711.007   30.043                           \n",
      "Group x IV Cov  -14.633    0.174                           \n",
      "IV Var            0.105    0.001                           \n",
      "===========================================================\n",
      "\n"
     ]
    }
   ],
   "source": [
    "rd=smf.mixedlm(\"DV~IV\",dataallrp,groups=dataallrp['type'],re_formula=\"~IV\")\n",
    "rdf = rd.fit(method=['powell'])\n",
    "print(rdf.summary())"
   ]
  },
  {
   "cell_type": "code",
   "execution_count": 30,
   "metadata": {},
   "outputs": [
    {
     "name": "stdout",
     "output_type": "stream",
     "text": [
      "         Mixed Linear Model Regression Results\n",
      "========================================================\n",
      "Model:             MixedLM Dependent Variable: DV       \n",
      "No. Observations:  131     Method:             REML     \n",
      "No. Groups:        6       Scale:              3091.4084\n",
      "Min. group size:   9       Log-Likelihood:     -715.9587\n",
      "Max. group size:   56      Converged:          Yes      \n",
      "Mean group size:   21.8                                 \n",
      "--------------------------------------------------------\n",
      "           Coef.   Std.Err.   z    P>|z|  [0.025  0.975]\n",
      "--------------------------------------------------------\n",
      "Intercept  285.982   26.094 10.960 0.000 234.839 337.125\n",
      "IV          -0.079    0.054 -1.453 0.146  -0.185   0.028\n",
      "Group Var 1237.443   16.555                             \n",
      "========================================================\n",
      "\n",
      "-1.4525119726438724\n"
     ]
    }
   ],
   "source": [
    "cmed=smf.mixedlm(\"DV~IV\",cdataallmep,groups=cdataallmep['type'])\n",
    "cmedf = cmed.fit(method=['powell'])\n",
    "print(cmedf.summary())\n",
    "print(cmedf.tvalues['IV'])"
   ]
  },
  {
   "cell_type": "code",
   "execution_count": 31,
   "metadata": {},
   "outputs": [
    {
     "name": "stdout",
     "output_type": "stream",
     "text": [
      "            Mixed Linear Model Regression Results\n",
      "=============================================================\n",
      "Model:              MixedLM   Dependent Variable:   DV       \n",
      "No. Observations:   131       Method:               REML     \n",
      "No. Groups:         6         Scale:                3079.5498\n",
      "Min. group size:    9         Log-Likelihood:       -715.3901\n",
      "Max. group size:    56        Converged:            No       \n",
      "Mean group size:    21.8                                     \n",
      "-------------------------------------------------------------\n",
      "                Coef.   Std.Err.   z    P>|z|  [0.025  0.975]\n",
      "-------------------------------------------------------------\n",
      "Intercept       284.045   30.039  9.456 0.000 225.170 342.920\n",
      "IV               -0.071    0.059 -1.198 0.231  -0.186   0.045\n",
      "Group Var      2543.832   55.716                             \n",
      "Group x IV Cov   -2.419    0.104                             \n",
      "IV Var            0.002    0.000                             \n",
      "=============================================================\n",
      "\n"
     ]
    },
    {
     "name": "stderr",
     "output_type": "stream",
     "text": [
      "C:\\Users\\ljr\\anaconda3\\lib\\site-packages\\statsmodels\\base\\model.py:607: ConvergenceWarning: Maximum Likelihood optimization failed to converge. Check mle_retvals\n",
      "  warnings.warn(\"Maximum Likelihood optimization failed to \"\n",
      "C:\\Users\\ljr\\anaconda3\\lib\\site-packages\\statsmodels\\regression\\mixed_linear_model.py:2207: ConvergenceWarning: MixedLM optimization failed, trying a different optimizer may help.\n",
      "  warnings.warn(msg, ConvergenceWarning)\n",
      "C:\\Users\\ljr\\anaconda3\\lib\\site-packages\\statsmodels\\regression\\mixed_linear_model.py:2219: ConvergenceWarning: Gradient optimization failed, |grad| = 84.472954\n",
      "  warnings.warn(msg, ConvergenceWarning)\n",
      "C:\\Users\\ljr\\anaconda3\\lib\\site-packages\\statsmodels\\regression\\mixed_linear_model.py:2238: ConvergenceWarning: The MLE may be on the boundary of the parameter space.\n",
      "  warnings.warn(msg, ConvergenceWarning)\n",
      "C:\\Users\\ljr\\anaconda3\\lib\\site-packages\\statsmodels\\regression\\mixed_linear_model.py:2262: ConvergenceWarning: The Hessian matrix at the estimated parameter values is not positive definite.\n",
      "  warnings.warn(msg, ConvergenceWarning)\n"
     ]
    }
   ],
   "source": [
    "cmed=smf.mixedlm(\"DV~IV\",cdataallmep,groups=cdataallmep['type'],re_formula=\"~IV\")\n",
    "cmedf = cmed.fit(method=['nm'])\n",
    "print(cmedf.summary())"
   ]
  },
  {
   "cell_type": "code",
   "execution_count": 32,
   "metadata": {},
   "outputs": [
    {
     "name": "stdout",
     "output_type": "stream",
     "text": [
      "         Mixed Linear Model Regression Results\n",
      "=======================================================\n",
      "Model:            MixedLM Dependent Variable: DV       \n",
      "No. Observations: 131     Method:             REML     \n",
      "No. Groups:       6       Scale:              8256.6353\n",
      "Min. group size:  9       Log-Likelihood:     -778.1259\n",
      "Max. group size:  56      Converged:          Yes      \n",
      "Mean group size:  21.8                                 \n",
      "-------------------------------------------------------\n",
      "           Coef.   Std.Err.   z   P>|z|  [0.025  0.975]\n",
      "-------------------------------------------------------\n",
      "Intercept  302.803   30.323 9.986 0.000 243.372 362.235\n",
      "IV           0.032    0.052 0.611 0.541  -0.070   0.133\n",
      "Group Var 1397.683   12.054                            \n",
      "=======================================================\n",
      "\n",
      "0.6105926481481617\n"
     ]
    }
   ],
   "source": [
    "cmad=smf.mixedlm(\"DV~IV\",cdataallmap,groups=cdataallmap['type'])\n",
    "cmadf = cmad.fit(method=['powell'])\n",
    "print(cmadf.summary())\n",
    "print(cmadf.tvalues['IV'])"
   ]
  },
  {
   "cell_type": "code",
   "execution_count": 33,
   "metadata": {},
   "outputs": [
    {
     "name": "stdout",
     "output_type": "stream",
     "text": [
      "            Mixed Linear Model Regression Results\n",
      "=============================================================\n",
      "Model:              MixedLM   Dependent Variable:   DV       \n",
      "No. Observations:   131       Method:               REML     \n",
      "No. Groups:         6         Scale:                8068.9031\n",
      "Min. group size:    9         Log-Likelihood:       -783.4857\n",
      "Max. group size:    56        Converged:            Yes      \n",
      "Mean group size:    21.8                                     \n",
      "-------------------------------------------------------------\n",
      "                 Coef.   Std.Err.   z   P>|z|  [0.025  0.975]\n",
      "-------------------------------------------------------------\n",
      "Intercept        300.755   52.343 5.746 0.000 198.165 403.345\n",
      "IV                 0.038    0.078 0.489 0.625  -0.114   0.190\n",
      "Group Var      11759.426                                     \n",
      "Group x IV Cov    14.074                                     \n",
      "IV Var             0.017                                     \n",
      "=============================================================\n",
      "\n"
     ]
    }
   ],
   "source": [
    "cmad=smf.mixedlm(\"DV~IV\",cdataallmap,groups=cdataallmap['type'],re_formula=\"~IV\")\n",
    "cmadf = cmad.fit(method=['nm'])\n",
    "print(cmadf.summary())"
   ]
  },
  {
   "cell_type": "code",
   "execution_count": 34,
   "metadata": {},
   "outputs": [
    {
     "name": "stdout",
     "output_type": "stream",
     "text": [
      "         Mixed Linear Model Regression Results\n",
      "=======================================================\n",
      "Model:            MixedLM Dependent Variable: DV       \n",
      "No. Observations: 131     Method:             REML     \n",
      "No. Groups:       6       Scale:              2097.8462\n",
      "Min. group size:  9       Log-Likelihood:     -690.9888\n",
      "Max. group size:  56      Converged:          Yes      \n",
      "Mean group size:  21.8                                 \n",
      "-------------------------------------------------------\n",
      "           Coef.  Std.Err.   z    P>|z|  [0.025  0.975]\n",
      "-------------------------------------------------------\n",
      "Intercept 229.718   19.667 11.680 0.000 191.171 268.265\n",
      "IV         -0.063    0.047 -1.339 0.181  -0.155   0.029\n",
      "Group Var 876.997   14.321                             \n",
      "=======================================================\n",
      "\n",
      "-1.3387516959930812\n"
     ]
    }
   ],
   "source": [
    "cmid=smf.mixedlm(\"DV~IV\",cdataallmip,groups=cdataallmip['type'])\n",
    "cmidf = cmid.fit(method=['powell'])\n",
    "print(cmidf.summary())\n",
    "print(cmidf.tvalues['IV'])"
   ]
  },
  {
   "cell_type": "code",
   "execution_count": 35,
   "metadata": {},
   "outputs": [
    {
     "name": "stdout",
     "output_type": "stream",
     "text": [
      "           Mixed Linear Model Regression Results\n",
      "============================================================\n",
      "Model:               MixedLM  Dependent Variable:  DV       \n",
      "No. Observations:    131      Method:              REML     \n",
      "No. Groups:          6        Scale:               2053.7600\n",
      "Min. group size:     9        Log-Likelihood:      -690.6028\n",
      "Max. group size:     56       Converged:           Yes      \n",
      "Mean group size:     21.8                                   \n",
      "------------------------------------------------------------\n",
      "                Coef.  Std.Err.   z    P>|z|  [0.025  0.975]\n",
      "------------------------------------------------------------\n",
      "Intercept      217.026   23.826  9.109 0.000 170.328 263.724\n",
      "IV              -0.020    0.082 -0.248 0.804  -0.180   0.140\n",
      "Group Var      787.330   31.657                             \n",
      "Group x IV Cov  -1.792    0.114                             \n",
      "IV Var           0.013    0.001                             \n",
      "============================================================\n",
      "\n"
     ]
    }
   ],
   "source": [
    "cmid=smf.mixedlm(\"DV~IV\",cdataallmip,groups=cdataallmip['type'],re_formula=\"~IV\")\n",
    "cmidf = cmid.fit(method=['powell'])\n",
    "print(cmidf.summary())"
   ]
  },
  {
   "cell_type": "code",
   "execution_count": 36,
   "metadata": {},
   "outputs": [
    {
     "name": "stdout",
     "output_type": "stream",
     "text": [
      "         Mixed Linear Model Regression Results\n",
      "=======================================================\n",
      "Model:            MixedLM Dependent Variable: DV       \n",
      "No. Observations: 131     Method:             REML     \n",
      "No. Groups:       6       Scale:              6700.9400\n",
      "Min. group size:  9       Log-Likelihood:     -763.3024\n",
      "Max. group size:  56      Converged:          Yes      \n",
      "Mean group size:  21.8                                 \n",
      "-------------------------------------------------------\n",
      "             Coef.  Std.Err.   z   P>|z| [0.025  0.975]\n",
      "-------------------------------------------------------\n",
      "Intercept   102.940   15.198 6.773 0.000 73.153 132.727\n",
      "IV            0.029    0.055 0.528 0.597 -0.079   0.137\n",
      "Group Var   549.630    6.279                           \n",
      "=======================================================\n",
      "\n",
      "0.5280926418360233\n"
     ]
    }
   ],
   "source": [
    "crd=smf.mixedlm(\"DV~IV\",cdataallrp,groups=cdataallrp['type'])\n",
    "crdf = crd.fit(method=['powell'])\n",
    "print(crdf.summary())\n",
    "print(crdf.tvalues['IV'])"
   ]
  },
  {
   "cell_type": "code",
   "execution_count": 37,
   "metadata": {},
   "outputs": [
    {
     "name": "stdout",
     "output_type": "stream",
     "text": [
      "           Mixed Linear Model Regression Results\n",
      "===========================================================\n",
      "Model:              MixedLM  Dependent Variable:  DV       \n",
      "No. Observations:   131      Method:              REML     \n",
      "No. Groups:         6        Scale:               6510.6205\n",
      "Min. group size:    9        Log-Likelihood:      -767.7223\n",
      "Max. group size:    56       Converged:           Yes      \n",
      "Mean group size:    21.8                                   \n",
      "-----------------------------------------------------------\n",
      "                Coef.   Std.Err.   z   P>|z| [0.025  0.975]\n",
      "-----------------------------------------------------------\n",
      "Intercept       100.697   34.658 2.905 0.004 32.768 168.625\n",
      "IV                0.058    0.087 0.665 0.506 -0.112   0.228\n",
      "Group Var      6414.662                                    \n",
      "Group x IV Cov   13.087                                    \n",
      "IV Var            0.027                                    \n",
      "===========================================================\n",
      "\n"
     ]
    },
    {
     "name": "stderr",
     "output_type": "stream",
     "text": [
      "C:\\Users\\ljr\\anaconda3\\lib\\site-packages\\statsmodels\\regression\\mixed_linear_model.py:2262: ConvergenceWarning: The Hessian matrix at the estimated parameter values is not positive definite.\n",
      "  warnings.warn(msg, ConvergenceWarning)\n"
     ]
    }
   ],
   "source": [
    "crd=smf.mixedlm(\"DV~IV\",cdataallrp,groups=cdataallrp['type'],re_formula=\"~IV\")\n",
    "crdf = crd.fit(method=['nm'])\n",
    "print(crdf.summary())\n"
   ]
  },
  {
   "cell_type": "code",
   "execution_count": 38,
   "metadata": {},
   "outputs": [
    {
     "data": {
      "text/plain": [
       "[(-10.0, 800.0)]"
      ]
     },
     "execution_count": 38,
     "metadata": {},
     "output_type": "execute_result"
    },
    {
     "data": {
      "image/png": "[encoded data removed]",
      "text/plain": [
       "<Figure size 432x288 with 1 Axes>"
      ]
     },
     "metadata": {
      "needs_background": "light"
     },
     "output_type": "display_data"
    }
   ],
   "source": [
    "#ax = sns.scatterplot(x=tdatas[:,3], y=tdatasc[:,3])\n",
    "\n",
    "fig, ax=plt.subplots()\n",
    "ax.spines['right'].set_visible(False)\n",
    "ax.spines['top'].set_visible(False)\n",
    "plt.rc('font',family='Times New Roman')\n",
    "#ax=sns.lmplot(x='Mothers f0_range', y='Infants f0_range',data=f0rangep, sharex=False, sharey=False)\n",
    "plt.scatter(dataallrp['IV'],dataallrp['DV'])\n",
    "linear_model=np.polyfit(dataallrp['IV'],dataallrp['DV'],1)\n",
    "linear_model_fn=np.poly1d(linear_model)\n",
    "plt.plot(dataallrp['IV'],linear_model_fn(dataallrp['IV']),color=\"k\")\n",
    "plt.xticks(fontsize=14)\n",
    "plt.yticks(fontsize=14)\n",
    "ax.set(xlim=(-10, 500))\n",
    "ax.set(ylim=(-10, 800))"
   ]
  },
  {
   "cell_type": "code",
   "execution_count": 39,
   "metadata": {},
   "outputs": [
    {
     "data": {
      "text/plain": [
       "[(-10.0, 800.0)]"
      ]
     },
     "execution_count": 39,
     "metadata": {},
     "output_type": "execute_result"
    },
    {
     "data": {
      "image/png": "[encoded data removed]",
      "text/plain": [
       "<Figure size 432x288 with 1 Axes>"
      ]
     },
     "metadata": {
      "needs_background": "light"
     },
     "output_type": "display_data"
    }
   ],
   "source": [
    "#ax = sns.scatterplot(x=tdatas[:,3], y=tdatasc[:,3])\n",
    "#ax=sns.lmplot(x='Mothers f0_ranges', y='Infants f0_ranges',data=f0rangeps, sharex=False, sharey=False)\n",
    "fig, ax=plt.subplots()\n",
    "ax.spines['right'].set_visible(False)\n",
    "ax.spines['top'].set_visible(False)\n",
    "plt.rc('font',family='Times New Roman')\n",
    "plt.scatter(cdataallrp['IV'],cdataallrp['DV'])\n",
    "linear_model=np.polyfit(cdataallrp['IV'],cdataallrp['DV'],1)\n",
    "linear_model_fn=np.poly1d(linear_model)\n",
    "plt.plot(cdataallrp['IV'],linear_model_fn(cdataallrp['IV']),color=\"k\")\n",
    "plt.xticks(fontsize=14)\n",
    "plt.yticks(fontsize=14)\n",
    "ax.set(ylim=(-10, 500))\n",
    "ax.set(xlim=(-10, 800))"
   ]
  },
  {
   "cell_type": "code",
   "execution_count": 40,
   "metadata": {},
   "outputs": [
    {
     "data": {
      "text/plain": [
       "[(100.0, 1100.0)]"
      ]
     },
     "execution_count": 40,
     "metadata": {},
     "output_type": "execute_result"
    },
    {
     "data": {
      "image/png": "[encoded data removed]",
      "text/plain": [
       "<Figure size 432x288 with 1 Axes>"
      ]
     },
     "metadata": {
      "needs_background": "light"
     },
     "output_type": "display_data"
    }
   ],
   "source": [
    "#ax = sns.scatterplot(x=tdatas[:,3], y=tdatasc[:,3])\n",
    "#ax=sns.lmplot(x='Mothers f0_max', y='Infants f0_max',data=f0maxp, sharex=False, sharey=False)\n",
    "fig, ax=plt.subplots()\n",
    "ax.spines['right'].set_visible(False)\n",
    "ax.spines['top'].set_visible(False)\n",
    "plt.rc('font',family='Times New Roman')\n",
    "plt.scatter(dataallmap['IV'],dataallmap['DV'])\n",
    "linear_model=np.polyfit(dataallmap['IV'],dataallmap['DV'],1)\n",
    "linear_model_fn=np.poly1d(linear_model)\n",
    "plt.plot(dataallmap['IV'],linear_model_fn(dataallmap['IV']),color=\"k\")\n",
    "plt.xticks(fontsize=14)\n",
    "plt.yticks(fontsize=14)\n",
    "ax.set(xlim=(100, 650))\n",
    "ax.set(ylim=(100, 1100))\n"
   ]
  },
  {
   "cell_type": "code",
   "execution_count": 41,
   "metadata": {},
   "outputs": [
    {
     "data": {
      "text/plain": [
       "[(100.0, 1100.0)]"
      ]
     },
     "execution_count": 41,
     "metadata": {},
     "output_type": "execute_result"
    },
    {
     "data": {
      "image/png": "[encoded data removed]",
      "text/plain": [
       "<Figure size 432x288 with 1 Axes>"
      ]
     },
     "metadata": {
      "needs_background": "light"
     },
     "output_type": "display_data"
    }
   ],
   "source": [
    "#ax = sns.scatterplot(x=tdatas[:,3], y=tdatasc[:,3])\n",
    "fig, ax=plt.subplots()\n",
    "ax.spines['right'].set_visible(False)\n",
    "ax.spines['top'].set_visible(False)\n",
    "plt.rc('font',family='Times New Roman')\n",
    "plt.scatter(cdataallmap['IV'],cdataallmap['DV'])\n",
    "linear_model=np.polyfit(cdataallmap['IV'],cdataallmap['DV'],1)\n",
    "linear_model_fn=np.poly1d(linear_model)\n",
    "plt.plot(cdataallmap['IV'],linear_model_fn(cdataallmap['IV']),color=\"k\")\n",
    "plt.xticks(fontsize=14)\n",
    "plt.yticks(fontsize=14)\n",
    "ax.set(ylim=(100, 610))\n",
    "ax.set(xlim=(100, 1100))\n"
   ]
  },
  {
   "cell_type": "code",
   "execution_count": 42,
   "metadata": {},
   "outputs": [
    {
     "data": {
      "text/plain": [
       "[(100.0, 450.0)]"
      ]
     },
     "execution_count": 42,
     "metadata": {},
     "output_type": "execute_result"
    },
    {
     "data": {
      "image/png": "[encoded data removed]",
      "text/plain": [
       "<Figure size 432x288 with 1 Axes>"
      ]
     },
     "metadata": {
      "needs_background": "light"
     },
     "output_type": "display_data"
    }
   ],
   "source": [
    "fig, ax=plt.subplots()\n",
    "ax.spines['right'].set_visible(False)\n",
    "ax.spines['top'].set_visible(False)\n",
    "plt.rc('font',family='Times New Roman')\n",
    "plt.scatter(dataallmip['IV'],dataallmip['DV'])\n",
    "linear_model=np.polyfit(dataallmip['IV'],dataallmip['DV'],1)\n",
    "linear_model_fn=np.poly1d(linear_model)\n",
    "plt.plot(dataallmip['IV'],linear_model_fn(dataallmip['IV']),color=\"k\")\n",
    "plt.xticks(fontsize=14)\n",
    "plt.yticks(fontsize=14)\n",
    "ax.set(ylim=(100, 550))\n",
    "ax.set(xlim=(100, 450))"
   ]
  },
  {
   "cell_type": "code",
   "execution_count": 43,
   "metadata": {},
   "outputs": [
    {
     "data": {
      "text/plain": [
       "[(100.0, 600.0)]"
      ]
     },
     "execution_count": 43,
     "metadata": {},
     "output_type": "execute_result"
    },
    {
     "data": {
      "image/png": "[encoded data removed]",
      "text/plain": [
       "<Figure size 432x288 with 1 Axes>"
      ]
     },
     "metadata": {
      "needs_background": "light"
     },
     "output_type": "display_data"
    }
   ],
   "source": [
    "#ax = sns.scatterplot(x=tdatas[:,3], y=tdatasc[:,3])\n",
    "fig, ax=plt.subplots()\n",
    "ax.spines['right'].set_visible(False)\n",
    "ax.spines['top'].set_visible(False)\n",
    "plt.rc('font',family='Times New Roman')\n",
    "plt.scatter(cdataallmip['IV'],cdataallmip['DV'])\n",
    "linear_model=np.polyfit(cdataallmip['IV'],cdataallmip['DV'],1)\n",
    "linear_model_fn=np.poly1d(linear_model)\n",
    "plt.plot(cdataallmip['IV'],linear_model_fn(cdataallmip['IV']),color=\"k\")\n",
    "plt.xticks(fontsize=14)\n",
    "plt.yticks(fontsize=14)\n",
    "ax.set(xlim=(100, 600))\n",
    "ax.set(ylim=(100, 600))"
   ]
  },
  {
   "cell_type": "code",
   "execution_count": 44,
   "metadata": {},
   "outputs": [
    {
     "data": {
      "text/plain": [
       "[(100.0, 600.0)]"
      ]
     },
     "execution_count": 44,
     "metadata": {},
     "output_type": "execute_result"
    },
    {
     "data": {
      "image/png": "[encoded data removed]",
      "text/plain": [
       "<Figure size 432x288 with 1 Axes>"
      ]
     },
     "metadata": {
      "needs_background": "light"
     },
     "output_type": "display_data"
    }
   ],
   "source": [
    "#ax = sns.scatterplot(x=tdatas[:,3], y=tdatasc[:,3])\n",
    "fig, ax=plt.subplots()\n",
    "ax.spines['right'].set_visible(False)\n",
    "ax.spines['top'].set_visible(False)\n",
    "plt.rc('font',family='Times New Roman')\n",
    "plt.scatter(dataallmep['IV'],dataallmep['DV'])\n",
    "linear_model=np.polyfit(dataallmep['IV'],dataallmep['DV'],1)\n",
    "linear_model_fn=np.poly1d(linear_model)\n",
    "plt.plot(dataallmep['IV'],linear_model_fn(dataallmep['IV']),color=\"k\")\n",
    "plt.xticks(fontsize=14)\n",
    "plt.yticks(fontsize=14)\n",
    "ax.set(ylim=(100, 900))\n",
    "ax.set(xlim=(100, 600))"
   ]
  },
  {
   "cell_type": "code",
   "execution_count": 45,
   "metadata": {},
   "outputs": [
    {
     "data": {
      "text/plain": [
       "[(50.0, 600.0)]"
      ]
     },
     "execution_count": 45,
     "metadata": {},
     "output_type": "execute_result"
    },
    {
     "data": {
      "image/png": "[encoded data removed]",
      "text/plain": [
       "<Figure size 432x288 with 1 Axes>"
      ]
     },
     "metadata": {
      "needs_background": "light"
     },
     "output_type": "display_data"
    }
   ],
   "source": [
    "#ax = sns.scatterplot(x=tdatas[:,3], y=tdatasc[:,3])\n",
    "\n",
    "fig, ax=plt.subplots()\n",
    "ax.spines['right'].set_visible(False)\n",
    "ax.spines['top'].set_visible(False)\n",
    "plt.rc('font',family='Times New Roman')\n",
    "plt.scatter(cdataallmep['IV'],cdataallmep['DV'])\n",
    "linear_model=np.polyfit(cdataallmep['IV'],cdataallmep['DV'],1)\n",
    "linear_model_fn=np.poly1d(linear_model)\n",
    "plt.plot(cdataallmep['IV'],linear_model_fn(cdataallmep['IV']),color=\"k\")\n",
    "plt.xticks(fontsize=14)\n",
    "plt.yticks(fontsize=14)\n",
    "ax.set(xlim=(50, 900))\n",
    "ax.set(ylim=(50, 600))"
   ]
  },
  {
   "cell_type": "code",
   "execution_count": 46,
   "metadata": {},
   "outputs": [
    {
     "name": "stdout",
     "output_type": "stream",
     "text": [
      "chismec= 97.79363791383163 chismem= 63.86161059605685\n",
      "chismac= 158.39318600604315 chismam= 98.59990479103347\n",
      "chismic= 97.79363791383163 chismim= 51.874956854133885\n",
      "chisrc= 132.89762287449452 chisrm= 84.52889200434998\n"
     ]
    }
   ],
   "source": [
    "print('chismec=',np.std(cdataallmep['IV']),'chismem=',np.std(cdataallmep['DV']))\n",
    "print('chismac=',np.std(cdataallmap['IV']),'chismam=',np.std(cdataallmap['DV']))\n",
    "print('chismic=',np.std(cdataallmep['IV']),'chismim=',np.std(cdataallmip['DV']))\n",
    "print('chisrc=',np.std(cdataallrp['IV']),'chisrm=',np.std(cdataallrp['DV']))"
   ]
  },
  {
   "cell_type": "code",
   "execution_count": 47,
   "metadata": {},
   "outputs": [
    {
     "name": "stdout",
     "output_type": "stream",
     "text": [
      "fasmem= 68.73991207522965 fasmem= 84.92922609547023\n",
      "fasmam= 101.67362698223123 fasmam= 129.81558408664992\n",
      "fasmim= 68.73991207522965 fasmim= 75.15282431178208\n",
      "fasrm= 91.60671801968118 fasrm= 115.60183350575718\n"
     ]
    }
   ],
   "source": [
    "print('fasmem=',np.std(dataallmep['IV']),'fasmem=',np.std(dataallmep['DV']))\n",
    "print('fasmam=',np.std(dataallmap['IV']),'fasmam=',np.std(dataallmap['DV']))\n",
    "print('fasmim=',np.std(dataallmep['IV']),'fasmim=',np.std(dataallmip['DV']))\n",
    "print('fasrm=',np.std(dataallrp['IV']),'fasrm=',np.std(dataallrp['DV']))"
   ]
  }
 ],
 "metadata": {
  "kernelspec": {
   "display_name": "Python 3",
   "language": "python",
   "name": "python3"
  },
  "language_info": {
   "codemirror_mode": {
    "name": "ipython",
    "version": 3
   },
   "file_extension": ".py",
   "mimetype": "text/x-python",
   "name": "python",
   "nbconvert_exporter": "python",
   "pygments_lexer": "ipython3",
   "version": "3.8.5"
  }
 },
 "nbformat": 4,
 "nbformat_minor": 4
}
